{
 "cells": [
  {
   "cell_type": "markdown",
   "id": "374754d8",
   "metadata": {},
   "source": [
    "# 0. Sequential run "
   ]
  },
  {
   "cell_type": "markdown",
   "id": "736d87c0",
   "metadata": {},
   "source": [
    "## Config"
   ]
  },
  {
   "cell_type": "code",
   "execution_count": 1,
   "id": "c812c308",
   "metadata": {},
   "outputs": [],
   "source": [
    "input = \"stories15M.bin\"\n",
    "steps = \"500\"\n"
   ]
  },
  {
   "cell_type": "markdown",
   "id": "e7d5b31a",
   "metadata": {},
   "source": [
    "## Generate measurements"
   ]
  },
  {
   "cell_type": "code",
   "execution_count": 2,
   "id": "9c8cb0ac",
   "metadata": {},
   "outputs": [
    {
     "name": "stdout",
     "output_type": "stream",
     "text": [
      "gcc -O3 -o run run.c -lm\n"
     ]
    },
    {
     "name": "stderr",
     "output_type": "stream",
     "text": [
      "run.c: In function ‘main’:\n",
      "run.c:1121:52: warning: assignment to ‘int’ from ‘char *’ makes integer from pointer without a cast [-Wint-conversion]\n",
      " 1121 |         else if (argv[i][1] == 'g') { global_instr = argv[i + 1]; }\n",
      "      |                                                    ^\n"
     ]
    },
    {
     "name": "stdout",
     "output_type": "stream",
     "text": [
      "gcc -O3 -o runq runq.c -lm\n"
     ]
    },
    {
     "name": "stderr",
     "output_type": "stream",
     "text": [
      "achieved tok/s: 164.739884\n"
     ]
    }
   ],
   "source": [
    "import subprocess\n",
    "import datetime\n",
    "from pathlib import Path\n",
    "\n",
    "Path(\"measurements\").mkdir(exist_ok=True)\n",
    "\n",
    "date = datetime.datetime.now().strftime(\"%Y%m%d_%H%M%S\")\n",
    "output_path = f\"measurements/output_{input}_seq_{date}.json\"\n",
    "\n",
    "subprocess.run([\"make\", \"run\"], check=True)\n",
    "\n",
    "\n",
    "with open(output_path, \"w\") as f:\n",
    "    subprocess.run([\"./run\", \"stories15M.bin\", \"-s\", \"500\"], stdout=f, check=True)\n",
    "\n",
    "file = output_path"
   ]
  },
  {
   "cell_type": "code",
   "execution_count": 79,
   "id": "4e459861",
   "metadata": {},
   "outputs": [
    {
     "name": "stdout",
     "output_type": "stream",
     "text": [
      "n_steps: int\n",
      "n_generation_steps: int\n",
      "encode_time: float\n",
      "sampling: list\n",
      "  - list of 256 items\n",
      "decode_time: list\n",
      "  - list of 256 items\n",
      "forward_instr: dict\n",
      "  n_steps: int\n",
      "  global_time: list\n",
      "    - list of 256 items\n",
      "  rmsnorm_first_time: list\n",
      "    - list of 256 items\n",
      "  matmul_qkv_time: list\n",
      "    - list of 256 items\n",
      "  rope_time: list\n",
      "    - list of 256 items\n",
      "  multihead_time: list\n",
      "    - list of 256 items\n",
      "  matmul_output_attention_time: list\n",
      "    - list of 256 items\n",
      "  FFN_rmsnorm_time: list\n",
      "    - list of 256 items\n",
      "  matmul_FFN_time: list\n",
      "    - list of 256 items\n",
      "  swiGLU_time: list\n",
      "    - list of 256 items\n",
      "  matmul_output_FFN_time: list\n",
      "    - list of 256 items\n",
      "  rmsnorm_final_time: list\n",
      "    - list of 256 items\n",
      "  matmul_logits_time: list\n",
      "    - list of 256 items\n",
      "config: dict\n",
      "  dim: int\n",
      "  hidden_dim: int\n",
      "  n_layers: int\n",
      "  n_heads: int\n",
      "  n_kv_heads: int\n",
      "  vocab_size: int\n",
      "  seq_len: int\n"
     ]
    }
   ],
   "source": [
    "import json\n",
    "\n",
    "def print_json_schema(data, indent=0):\n",
    "    prefix = '  ' * indent\n",
    "    if isinstance(data, dict):\n",
    "        for key, value in data.items():\n",
    "            print(f\"{prefix}{key}: {type(value).__name__}\")\n",
    "            print_json_schema(value, indent + 1)\n",
    "    elif isinstance(data, list):\n",
    "        print(f\"{prefix}- list of {len(data)} items\")\n",
    "        if data:\n",
    "            print_json_schema(data[0], indent + 1)\n",
    "    else:\n",
    "        # leaf node\n",
    "        pass\n",
    "\n",
    "with open(file) as f:\n",
    "    data = json.load(f)\n",
    "\n",
    "print_json_schema(data)"
   ]
  },
  {
   "cell_type": "code",
   "execution_count": 86,
   "id": "7829893d",
   "metadata": {},
   "outputs": [
    {
     "data": {
      "application/vnd.plotly.v1+json": {
       "config": {
        "plotlyServerURL": "https://plot.ly"
       },
       "data": [
        {
         "hovertemplate": "phase=%{x}<br>time in ms=%{y}<extra></extra>",
         "legendgroup": "",
         "marker": {
          "color": "#636efa",
          "pattern": {
           "shape": ""
          }
         },
         "name": "",
         "orientation": "v",
         "showlegend": false,
         "textposition": "auto",
         "type": "bar",
         "x": [
          "encode",
          "forward",
          "sampling",
          "decode"
         ],
         "xaxis": "x",
         "y": {
          "bdata": "yeU/pN+aUkCwlGWIOy/FQBWMSuoEYm1A/7J78rBQ9T8=",
          "dtype": "f8"
         },
         "yaxis": "y"
        }
       ],
       "layout": {
        "barmode": "relative",
        "legend": {
         "tracegroupgap": 0
        },
        "template": {
         "data": {
          "bar": [
           {
            "error_x": {
             "color": "#2a3f5f"
            },
            "error_y": {
             "color": "#2a3f5f"
            },
            "marker": {
             "line": {
              "color": "#E5ECF6",
              "width": 0.5
             },
             "pattern": {
              "fillmode": "overlay",
              "size": 10,
              "solidity": 0.2
             }
            },
            "type": "bar"
           }
          ],
          "barpolar": [
           {
            "marker": {
             "line": {
              "color": "#E5ECF6",
              "width": 0.5
             },
             "pattern": {
              "fillmode": "overlay",
              "size": 10,
              "solidity": 0.2
             }
            },
            "type": "barpolar"
           }
          ],
          "carpet": [
           {
            "aaxis": {
             "endlinecolor": "#2a3f5f",
             "gridcolor": "white",
             "linecolor": "white",
             "minorgridcolor": "white",
             "startlinecolor": "#2a3f5f"
            },
            "baxis": {
             "endlinecolor": "#2a3f5f",
             "gridcolor": "white",
             "linecolor": "white",
             "minorgridcolor": "white",
             "startlinecolor": "#2a3f5f"
            },
            "type": "carpet"
           }
          ],
          "choropleth": [
           {
            "colorbar": {
             "outlinewidth": 0,
             "ticks": ""
            },
            "type": "choropleth"
           }
          ],
          "contour": [
           {
            "colorbar": {
             "outlinewidth": 0,
             "ticks": ""
            },
            "colorscale": [
             [
              0,
              "#0d0887"
             ],
             [
              0.1111111111111111,
              "#46039f"
             ],
             [
              0.2222222222222222,
              "#7201a8"
             ],
             [
              0.3333333333333333,
              "#9c179e"
             ],
             [
              0.4444444444444444,
              "#bd3786"
             ],
             [
              0.5555555555555556,
              "#d8576b"
             ],
             [
              0.6666666666666666,
              "#ed7953"
             ],
             [
              0.7777777777777778,
              "#fb9f3a"
             ],
             [
              0.8888888888888888,
              "#fdca26"
             ],
             [
              1,
              "#f0f921"
             ]
            ],
            "type": "contour"
           }
          ],
          "contourcarpet": [
           {
            "colorbar": {
             "outlinewidth": 0,
             "ticks": ""
            },
            "type": "contourcarpet"
           }
          ],
          "heatmap": [
           {
            "colorbar": {
             "outlinewidth": 0,
             "ticks": ""
            },
            "colorscale": [
             [
              0,
              "#0d0887"
             ],
             [
              0.1111111111111111,
              "#46039f"
             ],
             [
              0.2222222222222222,
              "#7201a8"
             ],
             [
              0.3333333333333333,
              "#9c179e"
             ],
             [
              0.4444444444444444,
              "#bd3786"
             ],
             [
              0.5555555555555556,
              "#d8576b"
             ],
             [
              0.6666666666666666,
              "#ed7953"
             ],
             [
              0.7777777777777778,
              "#fb9f3a"
             ],
             [
              0.8888888888888888,
              "#fdca26"
             ],
             [
              1,
              "#f0f921"
             ]
            ],
            "type": "heatmap"
           }
          ],
          "histogram": [
           {
            "marker": {
             "pattern": {
              "fillmode": "overlay",
              "size": 10,
              "solidity": 0.2
             }
            },
            "type": "histogram"
           }
          ],
          "histogram2d": [
           {
            "colorbar": {
             "outlinewidth": 0,
             "ticks": ""
            },
            "colorscale": [
             [
              0,
              "#0d0887"
             ],
             [
              0.1111111111111111,
              "#46039f"
             ],
             [
              0.2222222222222222,
              "#7201a8"
             ],
             [
              0.3333333333333333,
              "#9c179e"
             ],
             [
              0.4444444444444444,
              "#bd3786"
             ],
             [
              0.5555555555555556,
              "#d8576b"
             ],
             [
              0.6666666666666666,
              "#ed7953"
             ],
             [
              0.7777777777777778,
              "#fb9f3a"
             ],
             [
              0.8888888888888888,
              "#fdca26"
             ],
             [
              1,
              "#f0f921"
             ]
            ],
            "type": "histogram2d"
           }
          ],
          "histogram2dcontour": [
           {
            "colorbar": {
             "outlinewidth": 0,
             "ticks": ""
            },
            "colorscale": [
             [
              0,
              "#0d0887"
             ],
             [
              0.1111111111111111,
              "#46039f"
             ],
             [
              0.2222222222222222,
              "#7201a8"
             ],
             [
              0.3333333333333333,
              "#9c179e"
             ],
             [
              0.4444444444444444,
              "#bd3786"
             ],
             [
              0.5555555555555556,
              "#d8576b"
             ],
             [
              0.6666666666666666,
              "#ed7953"
             ],
             [
              0.7777777777777778,
              "#fb9f3a"
             ],
             [
              0.8888888888888888,
              "#fdca26"
             ],
             [
              1,
              "#f0f921"
             ]
            ],
            "type": "histogram2dcontour"
           }
          ],
          "mesh3d": [
           {
            "colorbar": {
             "outlinewidth": 0,
             "ticks": ""
            },
            "type": "mesh3d"
           }
          ],
          "parcoords": [
           {
            "line": {
             "colorbar": {
              "outlinewidth": 0,
              "ticks": ""
             }
            },
            "type": "parcoords"
           }
          ],
          "pie": [
           {
            "automargin": true,
            "type": "pie"
           }
          ],
          "scatter": [
           {
            "fillpattern": {
             "fillmode": "overlay",
             "size": 10,
             "solidity": 0.2
            },
            "type": "scatter"
           }
          ],
          "scatter3d": [
           {
            "line": {
             "colorbar": {
              "outlinewidth": 0,
              "ticks": ""
             }
            },
            "marker": {
             "colorbar": {
              "outlinewidth": 0,
              "ticks": ""
             }
            },
            "type": "scatter3d"
           }
          ],
          "scattercarpet": [
           {
            "marker": {
             "colorbar": {
              "outlinewidth": 0,
              "ticks": ""
             }
            },
            "type": "scattercarpet"
           }
          ],
          "scattergeo": [
           {
            "marker": {
             "colorbar": {
              "outlinewidth": 0,
              "ticks": ""
             }
            },
            "type": "scattergeo"
           }
          ],
          "scattergl": [
           {
            "marker": {
             "colorbar": {
              "outlinewidth": 0,
              "ticks": ""
             }
            },
            "type": "scattergl"
           }
          ],
          "scattermap": [
           {
            "marker": {
             "colorbar": {
              "outlinewidth": 0,
              "ticks": ""
             }
            },
            "type": "scattermap"
           }
          ],
          "scattermapbox": [
           {
            "marker": {
             "colorbar": {
              "outlinewidth": 0,
              "ticks": ""
             }
            },
            "type": "scattermapbox"
           }
          ],
          "scatterpolar": [
           {
            "marker": {
             "colorbar": {
              "outlinewidth": 0,
              "ticks": ""
             }
            },
            "type": "scatterpolar"
           }
          ],
          "scatterpolargl": [
           {
            "marker": {
             "colorbar": {
              "outlinewidth": 0,
              "ticks": ""
             }
            },
            "type": "scatterpolargl"
           }
          ],
          "scatterternary": [
           {
            "marker": {
             "colorbar": {
              "outlinewidth": 0,
              "ticks": ""
             }
            },
            "type": "scatterternary"
           }
          ],
          "surface": [
           {
            "colorbar": {
             "outlinewidth": 0,
             "ticks": ""
            },
            "colorscale": [
             [
              0,
              "#0d0887"
             ],
             [
              0.1111111111111111,
              "#46039f"
             ],
             [
              0.2222222222222222,
              "#7201a8"
             ],
             [
              0.3333333333333333,
              "#9c179e"
             ],
             [
              0.4444444444444444,
              "#bd3786"
             ],
             [
              0.5555555555555556,
              "#d8576b"
             ],
             [
              0.6666666666666666,
              "#ed7953"
             ],
             [
              0.7777777777777778,
              "#fb9f3a"
             ],
             [
              0.8888888888888888,
              "#fdca26"
             ],
             [
              1,
              "#f0f921"
             ]
            ],
            "type": "surface"
           }
          ],
          "table": [
           {
            "cells": {
             "fill": {
              "color": "#EBF0F8"
             },
             "line": {
              "color": "white"
             }
            },
            "header": {
             "fill": {
              "color": "#C8D4E3"
             },
             "line": {
              "color": "white"
             }
            },
            "type": "table"
           }
          ]
         },
         "layout": {
          "annotationdefaults": {
           "arrowcolor": "#2a3f5f",
           "arrowhead": 0,
           "arrowwidth": 1
          },
          "autotypenumbers": "strict",
          "coloraxis": {
           "colorbar": {
            "outlinewidth": 0,
            "ticks": ""
           }
          },
          "colorscale": {
           "diverging": [
            [
             0,
             "#8e0152"
            ],
            [
             0.1,
             "#c51b7d"
            ],
            [
             0.2,
             "#de77ae"
            ],
            [
             0.3,
             "#f1b6da"
            ],
            [
             0.4,
             "#fde0ef"
            ],
            [
             0.5,
             "#f7f7f7"
            ],
            [
             0.6,
             "#e6f5d0"
            ],
            [
             0.7,
             "#b8e186"
            ],
            [
             0.8,
             "#7fbc41"
            ],
            [
             0.9,
             "#4d9221"
            ],
            [
             1,
             "#276419"
            ]
           ],
           "sequential": [
            [
             0,
             "#0d0887"
            ],
            [
             0.1111111111111111,
             "#46039f"
            ],
            [
             0.2222222222222222,
             "#7201a8"
            ],
            [
             0.3333333333333333,
             "#9c179e"
            ],
            [
             0.4444444444444444,
             "#bd3786"
            ],
            [
             0.5555555555555556,
             "#d8576b"
            ],
            [
             0.6666666666666666,
             "#ed7953"
            ],
            [
             0.7777777777777778,
             "#fb9f3a"
            ],
            [
             0.8888888888888888,
             "#fdca26"
            ],
            [
             1,
             "#f0f921"
            ]
           ],
           "sequentialminus": [
            [
             0,
             "#0d0887"
            ],
            [
             0.1111111111111111,
             "#46039f"
            ],
            [
             0.2222222222222222,
             "#7201a8"
            ],
            [
             0.3333333333333333,
             "#9c179e"
            ],
            [
             0.4444444444444444,
             "#bd3786"
            ],
            [
             0.5555555555555556,
             "#d8576b"
            ],
            [
             0.6666666666666666,
             "#ed7953"
            ],
            [
             0.7777777777777778,
             "#fb9f3a"
            ],
            [
             0.8888888888888888,
             "#fdca26"
            ],
            [
             1,
             "#f0f921"
            ]
           ]
          },
          "colorway": [
           "#636efa",
           "#EF553B",
           "#00cc96",
           "#ab63fa",
           "#FFA15A",
           "#19d3f3",
           "#FF6692",
           "#B6E880",
           "#FF97FF",
           "#FECB52"
          ],
          "font": {
           "color": "#2a3f5f"
          },
          "geo": {
           "bgcolor": "white",
           "lakecolor": "white",
           "landcolor": "#E5ECF6",
           "showlakes": true,
           "showland": true,
           "subunitcolor": "white"
          },
          "hoverlabel": {
           "align": "left"
          },
          "hovermode": "closest",
          "mapbox": {
           "style": "light"
          },
          "paper_bgcolor": "white",
          "plot_bgcolor": "#E5ECF6",
          "polar": {
           "angularaxis": {
            "gridcolor": "white",
            "linecolor": "white",
            "ticks": ""
           },
           "bgcolor": "#E5ECF6",
           "radialaxis": {
            "gridcolor": "white",
            "linecolor": "white",
            "ticks": ""
           }
          },
          "scene": {
           "xaxis": {
            "backgroundcolor": "#E5ECF6",
            "gridcolor": "white",
            "gridwidth": 2,
            "linecolor": "white",
            "showbackground": true,
            "ticks": "",
            "zerolinecolor": "white"
           },
           "yaxis": {
            "backgroundcolor": "#E5ECF6",
            "gridcolor": "white",
            "gridwidth": 2,
            "linecolor": "white",
            "showbackground": true,
            "ticks": "",
            "zerolinecolor": "white"
           },
           "zaxis": {
            "backgroundcolor": "#E5ECF6",
            "gridcolor": "white",
            "gridwidth": 2,
            "linecolor": "white",
            "showbackground": true,
            "ticks": "",
            "zerolinecolor": "white"
           }
          },
          "shapedefaults": {
           "line": {
            "color": "#2a3f5f"
           }
          },
          "ternary": {
           "aaxis": {
            "gridcolor": "white",
            "linecolor": "white",
            "ticks": ""
           },
           "baxis": {
            "gridcolor": "white",
            "linecolor": "white",
            "ticks": ""
           },
           "bgcolor": "#E5ECF6",
           "caxis": {
            "gridcolor": "white",
            "linecolor": "white",
            "ticks": ""
           }
          },
          "title": {
           "x": 0.05
          },
          "xaxis": {
           "automargin": true,
           "gridcolor": "white",
           "linecolor": "white",
           "ticks": "",
           "title": {
            "standoff": 15
           },
           "zerolinecolor": "white",
           "zerolinewidth": 2
          },
          "yaxis": {
           "automargin": true,
           "gridcolor": "white",
           "linecolor": "white",
           "ticks": "",
           "title": {
            "standoff": 15
           },
           "zerolinecolor": "white",
           "zerolinewidth": 2
          }
         }
        },
        "title": {
         "text": "Comparaison between the different LLM phase"
        },
        "width": 500,
        "xaxis": {
         "anchor": "y",
         "domain": [
          0,
          1
         ],
         "title": {
          "text": "phase"
         }
        },
        "yaxis": {
         "anchor": "x",
         "domain": [
          0,
          1
         ],
         "title": {
          "text": "time in ms"
         },
         "type": "log"
        }
       }
      }
     },
     "metadata": {},
     "output_type": "display_data"
    }
   ],
   "source": [
    "import json\n",
    "import numpy as np\n",
    "import pandas as pd\n",
    "import plotly.express as px\n",
    "\n",
    "with open(file) as f:\n",
    "    data = json.load(f)\n",
    "\n",
    "encode = data[\"encode_time\"]\n",
    "sampling = np.sum(data[\"sampling\"])\n",
    "forward_global = np.sum(data[\"forward_instr\"][\"global_time\"])\n",
    "decode = np.sum(data[\"decode_time\"])\n",
    "\n",
    "df = pd.DataFrame({\n",
    "    \"phase\": [\"encode\", \"forward\",\"sampling\",\"decode\"],\n",
    "    \"time in ms\": [encode, forward_global,sampling, decode]\n",
    "})\n",
    "\n",
    "px.bar(df, x=\"phase\", y=\"time in ms\",title=\"Comparaison between the different LLM phase\",width=500, log_y=True)\n"
   ]
  },
  {
   "cell_type": "code",
   "execution_count": 89,
   "id": "6d8fb7f5",
   "metadata": {},
   "outputs": [
    {
     "data": {
      "application/vnd.plotly.v1+json": {
       "config": {
        "plotlyServerURL": "https://plot.ly"
       },
       "data": [
        {
         "hovertemplate": "type=forward_global<br>step=%{x}<br>time (ms)=%{y}<extra></extra>",
         "legendgroup": "forward_global",
         "line": {
          "color": "#636efa",
          "dash": "solid"
         },
         "marker": {
          "symbol": "circle"
         },
         "mode": "lines+markers",
         "name": "forward_global",
         "orientation": "v",
         "showlegend": true,
         "type": "scatter",
         "x": {
          "bdata": "AAABAAIAAwAEAAUABgAHAAgACQAKAAsADAANAA4ADwAQABEAEgATABQAFQAWABcAGAAZABoAGwAcAB0AHgAfACAAIQAiACMAJAAlACYAJwAoACkAKgArACwALQAuAC8AMAAxADIAMwA0ADUANgA3ADgAOQA6ADsAPAA9AD4APwBAAEEAQgBDAEQARQBGAEcASABJAEoASwBMAE0ATgBPAFAAUQBSAFMAVABVAFYAVwBYAFkAWgBbAFwAXQBeAF8AYABhAGIAYwBkAGUAZgBnAGgAaQBqAGsAbABtAG4AbwBwAHEAcgBzAHQAdQB2AHcAeAB5AHoAewB8AH0AfgB/AIAAgQCCAIMAhACFAIYAhwCIAIkAigCLAIwAjQCOAI8AkACRAJIAkwCUAJUAlgCXAJgAmQCaAJsAnACdAJ4AnwCgAKEAogCjAKQApQCmAKcAqACpAKoAqwCsAK0ArgCvALAAsQCyALMAtAC1ALYAtwC4ALkAugC7ALwAvQC+AL8AwADBAMIAwwDEAMUAxgDHAMgAyQDKAMsAzADNAM4AzwDQANEA0gDTANQA1QDWANcA2ADZANoA2wDcAN0A3gDfAOAA4QDiAOMA5ADlAOYA5wDoAOkA6gDrAOwA7QDuAO8A8ADxAPIA8wD0APUA9gD3APgA+QD6APsA/AD9AP4A/wA=",
          "dtype": "i2"
         },
         "xaxis": "x",
         "y": {
          "bdata": "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",
          "dtype": "f8"
         },
         "yaxis": "y"
        },
        {
         "hovertemplate": "type=sampling<br>step=%{x}<br>time (ms)=%{y}<extra></extra>",
         "legendgroup": "sampling",
         "line": {
          "color": "#EF553B",
          "dash": "solid"
         },
         "marker": {
          "symbol": "circle"
         },
         "mode": "lines+markers",
         "name": "sampling",
         "orientation": "v",
         "showlegend": true,
         "type": "scatter",
         "x": {
          "bdata": "AAABAAIAAwAEAAUABgAHAAgACQAKAAsADAANAA4ADwAQABEAEgATABQAFQAWABcAGAAZABoAGwAcAB0AHgAfACAAIQAiACMAJAAlACYAJwAoACkAKgArACwALQAuAC8AMAAxADIAMwA0ADUANgA3ADgAOQA6ADsAPAA9AD4APwBAAEEAQgBDAEQARQBGAEcASABJAEoASwBMAE0ATgBPAFAAUQBSAFMAVABVAFYAVwBYAFkAWgBbAFwAXQBeAF8AYABhAGIAYwBkAGUAZgBnAGgAaQBqAGsAbABtAG4AbwBwAHEAcgBzAHQAdQB2AHcAeAB5AHoAewB8AH0AfgB/AIAAgQCCAIMAhACFAIYAhwCIAIkAigCLAIwAjQCOAI8AkACRAJIAkwCUAJUAlgCXAJgAmQCaAJsAnACdAJ4AnwCgAKEAogCjAKQApQCmAKcAqACpAKoAqwCsAK0ArgCvALAAsQCyALMAtAC1ALYAtwC4ALkAugC7ALwAvQC+AL8AwADBAMIAwwDEAMUAxgDHAMgAyQDKAMsAzADNAM4AzwDQANEA0gDTANQA1QDWANcA2ADZANoA2wDcAN0A3gDfAOAA4QDiAOMA5ADlAOYA5wDoAOkA6gDrAOwA7QDuAO8A8ADxAPIA8wD0APUA9gD3APgA+QD6APsA/AD9AP4A/wA=",
          "dtype": "i2"
         },
         "xaxis": "x",
         "y": {
          "bdata": "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",
          "dtype": "f8"
         },
         "yaxis": "y"
        }
       ],
       "layout": {
        "legend": {
         "title": {
          "text": "type"
         },
         "tracegroupgap": 0
        },
        "template": {
         "data": {
          "bar": [
           {
            "error_x": {
             "color": "#2a3f5f"
            },
            "error_y": {
             "color": "#2a3f5f"
            },
            "marker": {
             "line": {
              "color": "#E5ECF6",
              "width": 0.5
             },
             "pattern": {
              "fillmode": "overlay",
              "size": 10,
              "solidity": 0.2
             }
            },
            "type": "bar"
           }
          ],
          "barpolar": [
           {
            "marker": {
             "line": {
              "color": "#E5ECF6",
              "width": 0.5
             },
             "pattern": {
              "fillmode": "overlay",
              "size": 10,
              "solidity": 0.2
             }
            },
            "type": "barpolar"
           }
          ],
          "carpet": [
           {
            "aaxis": {
             "endlinecolor": "#2a3f5f",
             "gridcolor": "white",
             "linecolor": "white",
             "minorgridcolor": "white",
             "startlinecolor": "#2a3f5f"
            },
            "baxis": {
             "endlinecolor": "#2a3f5f",
             "gridcolor": "white",
             "linecolor": "white",
             "minorgridcolor": "white",
             "startlinecolor": "#2a3f5f"
            },
            "type": "carpet"
           }
          ],
          "choropleth": [
           {
            "colorbar": {
             "outlinewidth": 0,
             "ticks": ""
            },
            "type": "choropleth"
           }
          ],
          "contour": [
           {
            "colorbar": {
             "outlinewidth": 0,
             "ticks": ""
            },
            "colorscale": [
             [
              0,
              "#0d0887"
             ],
             [
              0.1111111111111111,
              "#46039f"
             ],
             [
              0.2222222222222222,
              "#7201a8"
             ],
             [
              0.3333333333333333,
              "#9c179e"
             ],
             [
              0.4444444444444444,
              "#bd3786"
             ],
             [
              0.5555555555555556,
              "#d8576b"
             ],
             [
              0.6666666666666666,
              "#ed7953"
             ],
             [
              0.7777777777777778,
              "#fb9f3a"
             ],
             [
              0.8888888888888888,
              "#fdca26"
             ],
             [
              1,
              "#f0f921"
             ]
            ],
            "type": "contour"
           }
          ],
          "contourcarpet": [
           {
            "colorbar": {
             "outlinewidth": 0,
             "ticks": ""
            },
            "type": "contourcarpet"
           }
          ],
          "heatmap": [
           {
            "colorbar": {
             "outlinewidth": 0,
             "ticks": ""
            },
            "colorscale": [
             [
              0,
              "#0d0887"
             ],
             [
              0.1111111111111111,
              "#46039f"
             ],
             [
              0.2222222222222222,
              "#7201a8"
             ],
             [
              0.3333333333333333,
              "#9c179e"
             ],
             [
              0.4444444444444444,
              "#bd3786"
             ],
             [
              0.5555555555555556,
              "#d8576b"
             ],
             [
              0.6666666666666666,
              "#ed7953"
             ],
             [
              0.7777777777777778,
              "#fb9f3a"
             ],
             [
              0.8888888888888888,
              "#fdca26"
             ],
             [
              1,
              "#f0f921"
             ]
            ],
            "type": "heatmap"
           }
          ],
          "histogram": [
           {
            "marker": {
             "pattern": {
              "fillmode": "overlay",
              "size": 10,
              "solidity": 0.2
             }
            },
            "type": "histogram"
           }
          ],
          "histogram2d": [
           {
            "colorbar": {
             "outlinewidth": 0,
             "ticks": ""
            },
            "colorscale": [
             [
              0,
              "#0d0887"
             ],
             [
              0.1111111111111111,
              "#46039f"
             ],
             [
              0.2222222222222222,
              "#7201a8"
             ],
             [
              0.3333333333333333,
              "#9c179e"
             ],
             [
              0.4444444444444444,
              "#bd3786"
             ],
             [
              0.5555555555555556,
              "#d8576b"
             ],
             [
              0.6666666666666666,
              "#ed7953"
             ],
             [
              0.7777777777777778,
              "#fb9f3a"
             ],
             [
              0.8888888888888888,
              "#fdca26"
             ],
             [
              1,
              "#f0f921"
             ]
            ],
            "type": "histogram2d"
           }
          ],
          "histogram2dcontour": [
           {
            "colorbar": {
             "outlinewidth": 0,
             "ticks": ""
            },
            "colorscale": [
             [
              0,
              "#0d0887"
             ],
             [
              0.1111111111111111,
              "#46039f"
             ],
             [
              0.2222222222222222,
              "#7201a8"
             ],
             [
              0.3333333333333333,
              "#9c179e"
             ],
             [
              0.4444444444444444,
              "#bd3786"
             ],
             [
              0.5555555555555556,
              "#d8576b"
             ],
             [
              0.6666666666666666,
              "#ed7953"
             ],
             [
              0.7777777777777778,
              "#fb9f3a"
             ],
             [
              0.8888888888888888,
              "#fdca26"
             ],
             [
              1,
              "#f0f921"
             ]
            ],
            "type": "histogram2dcontour"
           }
          ],
          "mesh3d": [
           {
            "colorbar": {
             "outlinewidth": 0,
             "ticks": ""
            },
            "type": "mesh3d"
           }
          ],
          "parcoords": [
           {
            "line": {
             "colorbar": {
              "outlinewidth": 0,
              "ticks": ""
             }
            },
            "type": "parcoords"
           }
          ],
          "pie": [
           {
            "automargin": true,
            "type": "pie"
           }
          ],
          "scatter": [
           {
            "fillpattern": {
             "fillmode": "overlay",
             "size": 10,
             "solidity": 0.2
            },
            "type": "scatter"
           }
          ],
          "scatter3d": [
           {
            "line": {
             "colorbar": {
              "outlinewidth": 0,
              "ticks": ""
             }
            },
            "marker": {
             "colorbar": {
              "outlinewidth": 0,
              "ticks": ""
             }
            },
            "type": "scatter3d"
           }
          ],
          "scattercarpet": [
           {
            "marker": {
             "colorbar": {
              "outlinewidth": 0,
              "ticks": ""
             }
            },
            "type": "scattercarpet"
           }
          ],
          "scattergeo": [
           {
            "marker": {
             "colorbar": {
              "outlinewidth": 0,
              "ticks": ""
             }
            },
            "type": "scattergeo"
           }
          ],
          "scattergl": [
           {
            "marker": {
             "colorbar": {
              "outlinewidth": 0,
              "ticks": ""
             }
            },
            "type": "scattergl"
           }
          ],
          "scattermap": [
           {
            "marker": {
             "colorbar": {
              "outlinewidth": 0,
              "ticks": ""
             }
            },
            "type": "scattermap"
           }
          ],
          "scattermapbox": [
           {
            "marker": {
             "colorbar": {
              "outlinewidth": 0,
              "ticks": ""
             }
            },
            "type": "scattermapbox"
           }
          ],
          "scatterpolar": [
           {
            "marker": {
             "colorbar": {
              "outlinewidth": 0,
              "ticks": ""
             }
            },
            "type": "scatterpolar"
           }
          ],
          "scatterpolargl": [
           {
            "marker": {
             "colorbar": {
              "outlinewidth": 0,
              "ticks": ""
             }
            },
            "type": "scatterpolargl"
           }
          ],
          "scatterternary": [
           {
            "marker": {
             "colorbar": {
              "outlinewidth": 0,
              "ticks": ""
             }
            },
            "type": "scatterternary"
           }
          ],
          "surface": [
           {
            "colorbar": {
             "outlinewidth": 0,
             "ticks": ""
            },
            "colorscale": [
             [
              0,
              "#0d0887"
             ],
             [
              0.1111111111111111,
              "#46039f"
             ],
             [
              0.2222222222222222,
              "#7201a8"
             ],
             [
              0.3333333333333333,
              "#9c179e"
             ],
             [
              0.4444444444444444,
              "#bd3786"
             ],
             [
              0.5555555555555556,
              "#d8576b"
             ],
             [
              0.6666666666666666,
              "#ed7953"
             ],
             [
              0.7777777777777778,
              "#fb9f3a"
             ],
             [
              0.8888888888888888,
              "#fdca26"
             ],
             [
              1,
              "#f0f921"
             ]
            ],
            "type": "surface"
           }
          ],
          "table": [
           {
            "cells": {
             "fill": {
              "color": "#EBF0F8"
             },
             "line": {
              "color": "white"
             }
            },
            "header": {
             "fill": {
              "color": "#C8D4E3"
             },
             "line": {
              "color": "white"
             }
            },
            "type": "table"
           }
          ]
         },
         "layout": {
          "annotationdefaults": {
           "arrowcolor": "#2a3f5f",
           "arrowhead": 0,
           "arrowwidth": 1
          },
          "autotypenumbers": "strict",
          "coloraxis": {
           "colorbar": {
            "outlinewidth": 0,
            "ticks": ""
           }
          },
          "colorscale": {
           "diverging": [
            [
             0,
             "#8e0152"
            ],
            [
             0.1,
             "#c51b7d"
            ],
            [
             0.2,
             "#de77ae"
            ],
            [
             0.3,
             "#f1b6da"
            ],
            [
             0.4,
             "#fde0ef"
            ],
            [
             0.5,
             "#f7f7f7"
            ],
            [
             0.6,
             "#e6f5d0"
            ],
            [
             0.7,
             "#b8e186"
            ],
            [
             0.8,
             "#7fbc41"
            ],
            [
             0.9,
             "#4d9221"
            ],
            [
             1,
             "#276419"
            ]
           ],
           "sequential": [
            [
             0,
             "#0d0887"
            ],
            [
             0.1111111111111111,
             "#46039f"
            ],
            [
             0.2222222222222222,
             "#7201a8"
            ],
            [
             0.3333333333333333,
             "#9c179e"
            ],
            [
             0.4444444444444444,
             "#bd3786"
            ],
            [
             0.5555555555555556,
             "#d8576b"
            ],
            [
             0.6666666666666666,
             "#ed7953"
            ],
            [
             0.7777777777777778,
             "#fb9f3a"
            ],
            [
             0.8888888888888888,
             "#fdca26"
            ],
            [
             1,
             "#f0f921"
            ]
           ],
           "sequentialminus": [
            [
             0,
             "#0d0887"
            ],
            [
             0.1111111111111111,
             "#46039f"
            ],
            [
             0.2222222222222222,
             "#7201a8"
            ],
            [
             0.3333333333333333,
             "#9c179e"
            ],
            [
             0.4444444444444444,
             "#bd3786"
            ],
            [
             0.5555555555555556,
             "#d8576b"
            ],
            [
             0.6666666666666666,
             "#ed7953"
            ],
            [
             0.7777777777777778,
             "#fb9f3a"
            ],
            [
             0.8888888888888888,
             "#fdca26"
            ],
            [
             1,
             "#f0f921"
            ]
           ]
          },
          "colorway": [
           "#636efa",
           "#EF553B",
           "#00cc96",
           "#ab63fa",
           "#FFA15A",
           "#19d3f3",
           "#FF6692",
           "#B6E880",
           "#FF97FF",
           "#FECB52"
          ],
          "font": {
           "color": "#2a3f5f"
          },
          "geo": {
           "bgcolor": "white",
           "lakecolor": "white",
           "landcolor": "#E5ECF6",
           "showlakes": true,
           "showland": true,
           "subunitcolor": "white"
          },
          "hoverlabel": {
           "align": "left"
          },
          "hovermode": "closest",
          "mapbox": {
           "style": "light"
          },
          "paper_bgcolor": "white",
          "plot_bgcolor": "#E5ECF6",
          "polar": {
           "angularaxis": {
            "gridcolor": "white",
            "linecolor": "white",
            "ticks": ""
           },
           "bgcolor": "#E5ECF6",
           "radialaxis": {
            "gridcolor": "white",
            "linecolor": "white",
            "ticks": ""
           }
          },
          "scene": {
           "xaxis": {
            "backgroundcolor": "#E5ECF6",
            "gridcolor": "white",
            "gridwidth": 2,
            "linecolor": "white",
            "showbackground": true,
            "ticks": "",
            "zerolinecolor": "white"
           },
           "yaxis": {
            "backgroundcolor": "#E5ECF6",
            "gridcolor": "white",
            "gridwidth": 2,
            "linecolor": "white",
            "showbackground": true,
            "ticks": "",
            "zerolinecolor": "white"
           },
           "zaxis": {
            "backgroundcolor": "#E5ECF6",
            "gridcolor": "white",
            "gridwidth": 2,
            "linecolor": "white",
            "showbackground": true,
            "ticks": "",
            "zerolinecolor": "white"
           }
          },
          "shapedefaults": {
           "line": {
            "color": "#2a3f5f"
           }
          },
          "ternary": {
           "aaxis": {
            "gridcolor": "white",
            "linecolor": "white",
            "ticks": ""
           },
           "baxis": {
            "gridcolor": "white",
            "linecolor": "white",
            "ticks": ""
           },
           "bgcolor": "#E5ECF6",
           "caxis": {
            "gridcolor": "white",
            "linecolor": "white",
            "ticks": ""
           }
          },
          "title": {
           "x": 0.05
          },
          "xaxis": {
           "automargin": true,
           "gridcolor": "white",
           "linecolor": "white",
           "ticks": "",
           "title": {
            "standoff": 15
           },
           "zerolinecolor": "white",
           "zerolinewidth": 2
          },
          "yaxis": {
           "automargin": true,
           "gridcolor": "white",
           "linecolor": "white",
           "ticks": "",
           "title": {
            "standoff": 15
           },
           "zerolinecolor": "white",
           "zerolinewidth": 2
          }
         }
        },
        "title": {
         "text": "Forward global vs Sampling time per step"
        },
        "xaxis": {
         "anchor": "y",
         "domain": [
          0,
          1
         ],
         "title": {
          "text": "step"
         }
        },
        "yaxis": {
         "anchor": "x",
         "domain": [
          0,
          1
         ],
         "title": {
          "text": "time (ms)"
         }
        }
       }
      }
     },
     "metadata": {},
     "output_type": "display_data"
    }
   ],
   "source": [
    "import json\n",
    "import pandas as pd\n",
    "import plotly.express as px\n",
    "\n",
    "with open(file) as f:\n",
    "    data = json.load(f)\n",
    "\n",
    "global_time = data[\"forward_instr\"][\"multihead_time\"]\n",
    "sampling = data[\"sampling\"]\n",
    "\n",
    "df = pd.DataFrame({\n",
    "    \"step\": list(range(len(global_time))) + list(range(len(sampling))),\n",
    "    \"time\": global_time + sampling,\n",
    "    \"type\": [\"forward_global\"] * len(global_time) + [\"sampling\"] * len(sampling)\n",
    "})\n",
    "\n",
    "px.line(df, x=\"step\", y=\"time\", color=\"type\",log_y=False, markers=True, labels={\"time\": \"time (ms)\"}, title=\"Forward global vs Sampling time per step\")\n"
   ]
  },
  {
   "cell_type": "code",
   "execution_count": 82,
   "id": "14d458e1",
   "metadata": {},
   "outputs": [
    {
     "data": {
      "application/vnd.plotly.v1+json": {
       "config": {
        "plotlyServerURL": "https://plot.ly"
       },
       "data": [
        {
         "alignmentgroup": "True",
         "hovertemplate": "phase=%{x}<br>time (in ms)=%{y}<extra></extra>",
         "legendgroup": "",
         "marker": {
          "color": "#636efa"
         },
         "name": "",
         "notched": false,
         "offsetgroup": "",
         "orientation": "v",
         "showlegend": false,
         "type": "box",
         "x": [
          "rmsnorm_first_time",
          "rmsnorm_first_time",
          "rmsnorm_first_time",
          "rmsnorm_first_time",
          "rmsnorm_first_time",
          "rmsnorm_first_time",
          "rmsnorm_first_time",
          "rmsnorm_first_time",
          "rmsnorm_first_time",
          "rmsnorm_first_time",
          "rmsnorm_first_time",
          "rmsnorm_first_time",
          "rmsnorm_first_time",
          "rmsnorm_first_time",
          "rmsnorm_first_time",
          "rmsnorm_first_time",
          "rmsnorm_first_time",
          "rmsnorm_first_time",
          "rmsnorm_first_time",
          "rmsnorm_first_time",
          "rmsnorm_first_time",
          "rmsnorm_first_time",
          "rmsnorm_first_time",
          "rmsnorm_first_time",
          "rmsnorm_first_time",
          "rmsnorm_first_time",
          "rmsnorm_first_time",
          "rmsnorm_first_time",
          "rmsnorm_first_time",
          "rmsnorm_first_time",
          "rmsnorm_first_time",
          "rmsnorm_first_time",
          "rmsnorm_first_time",
          "rmsnorm_first_time",
          "rmsnorm_first_time",
          "rmsnorm_first_time",
          "rmsnorm_first_time",
          "rmsnorm_first_time",
          "rmsnorm_first_time",
          "rmsnorm_first_time",
          "rmsnorm_first_time",
          "rmsnorm_first_time",
          "rmsnorm_first_time",
          "rmsnorm_first_time",
          "rmsnorm_first_time",
          "rmsnorm_first_time",
          "rmsnorm_first_time",
          "rmsnorm_first_time",
          "rmsnorm_first_time",
          "rmsnorm_first_time",
          "rmsnorm_first_time",
          "rmsnorm_first_time",
          "rmsnorm_first_time",
          "rmsnorm_first_time",
          "rmsnorm_first_time",
          "rmsnorm_first_time",
          "rmsnorm_first_time",
          "rmsnorm_first_time",
          "rmsnorm_first_time",
          "rmsnorm_first_time",
          "rmsnorm_first_time",
          "rmsnorm_first_time",
          "rmsnorm_first_time",
          "rmsnorm_first_time",
          "rmsnorm_first_time",
          "rmsnorm_first_time",
          "rmsnorm_first_time",
          "rmsnorm_first_time",
          "rmsnorm_first_time",
          "rmsnorm_first_time",
          "rmsnorm_first_time",
          "rmsnorm_first_time",
          "rmsnorm_first_time",
          "rmsnorm_first_time",
          "rmsnorm_first_time",
          "rmsnorm_first_time",
          "rmsnorm_first_time",
          "rmsnorm_first_time",
          "rmsnorm_first_time",
          "rmsnorm_first_time",
          "rmsnorm_first_time",
          "rmsnorm_first_time",
          "rmsnorm_first_time",
          "rmsnorm_first_time",
          "rmsnorm_first_time",
          "rmsnorm_first_time",
          "rmsnorm_first_time",
          "rmsnorm_first_time",
          "rmsnorm_first_time",
          "rmsnorm_first_time",
          "rmsnorm_first_time",
          "rmsnorm_first_time",
          "rmsnorm_first_time",
          "rmsnorm_first_time",
          "rmsnorm_first_time",
          "rmsnorm_first_time",
          "rmsnorm_first_time",
          "rmsnorm_first_time",
          "rmsnorm_first_time",
          "rmsnorm_first_time",
          "rmsnorm_first_time",
          "rmsnorm_first_time",
          "rmsnorm_first_time",
          "rmsnorm_first_time",
          "rmsnorm_first_time",
          "rmsnorm_first_time",
          "rmsnorm_first_time",
          "rmsnorm_first_time",
          "rmsnorm_first_time",
          "rmsnorm_first_time",
          "rmsnorm_first_time",
          "rmsnorm_first_time",
          "rmsnorm_first_time",
          "rmsnorm_first_time",
          "rmsnorm_first_time",
          "rmsnorm_first_time",
          "rmsnorm_first_time",
          "rmsnorm_first_time",
          "rmsnorm_first_time",
          "rmsnorm_first_time",
          "rmsnorm_first_time",
          "rmsnorm_first_time",
          "rmsnorm_first_time",
          "rmsnorm_first_time",
          "rmsnorm_first_time",
          "rmsnorm_first_time",
          "rmsnorm_first_time",
          "rmsnorm_first_time",
          "rmsnorm_first_time",
          "rmsnorm_first_time",
          "rmsnorm_first_time",
          "rmsnorm_first_time",
          "rmsnorm_first_time",
          "rmsnorm_first_time",
          "rmsnorm_first_time",
          "rmsnorm_first_time",
          "rmsnorm_first_time",
          "rmsnorm_first_time",
          "rmsnorm_first_time",
          "rmsnorm_first_time",
          "rmsnorm_first_time",
          "rmsnorm_first_time",
          "rmsnorm_first_time",
          "rmsnorm_first_time",
          "rmsnorm_first_time",
          "rmsnorm_first_time",
          "rmsnorm_first_time",
          "rmsnorm_first_time",
          "rmsnorm_first_time",
          "rmsnorm_first_time",
          "rmsnorm_first_time",
          "rmsnorm_first_time",
          "rmsnorm_first_time",
          "rmsnorm_first_time",
          "rmsnorm_first_time",
          "rmsnorm_first_time",
          "matmul_qkv_time",
          "matmul_qkv_time",
          "matmul_qkv_time",
          "matmul_qkv_time",
          "matmul_qkv_time",
          "matmul_qkv_time",
          "matmul_qkv_time",
          "matmul_qkv_time",
          "matmul_qkv_time",
          "matmul_qkv_time",
          "matmul_qkv_time",
          "matmul_qkv_time",
          "matmul_qkv_time",
          "matmul_qkv_time",
          "matmul_qkv_time",
          "matmul_qkv_time",
          "matmul_qkv_time",
          "matmul_qkv_time",
          "matmul_qkv_time",
          "matmul_qkv_time",
          "matmul_qkv_time",
          "matmul_qkv_time",
          "matmul_qkv_time",
          "matmul_qkv_time",
          "matmul_qkv_time",
          "matmul_qkv_time",
          "matmul_qkv_time",
          "matmul_qkv_time",
          "matmul_qkv_time",
          "matmul_qkv_time",
          "matmul_qkv_time",
          "matmul_qkv_time",
          "matmul_qkv_time",
          "matmul_qkv_time",
          "matmul_qkv_time",
          "matmul_qkv_time",
          "matmul_qkv_time",
          "matmul_qkv_time",
          "matmul_qkv_time",
          "matmul_qkv_time",
          "matmul_qkv_time",
          "matmul_qkv_time",
          "matmul_qkv_time",
          "matmul_qkv_time",
          "matmul_qkv_time",
          "matmul_qkv_time",
          "matmul_qkv_time",
          "matmul_qkv_time",
          "matmul_qkv_time",
          "matmul_qkv_time",
          "matmul_qkv_time",
          "matmul_qkv_time",
          "matmul_qkv_time",
          "matmul_qkv_time",
          "matmul_qkv_time",
          "matmul_qkv_time",
          "matmul_qkv_time",
          "matmul_qkv_time",
          "matmul_qkv_time",
          "matmul_qkv_time",
          "matmul_qkv_time",
          "matmul_qkv_time",
          "matmul_qkv_time",
          "matmul_qkv_time",
          "matmul_qkv_time",
          "matmul_qkv_time",
          "matmul_qkv_time",
          "matmul_qkv_time",
          "matmul_qkv_time",
          "matmul_qkv_time",
          "matmul_qkv_time",
          "matmul_qkv_time",
          "matmul_qkv_time",
          "matmul_qkv_time",
          "matmul_qkv_time",
          "matmul_qkv_time",
          "matmul_qkv_time",
          "matmul_qkv_time",
          "matmul_qkv_time",
          "matmul_qkv_time",
          "matmul_qkv_time",
          "matmul_qkv_time",
          "matmul_qkv_time",
          "matmul_qkv_time",
          "matmul_qkv_time",
          "matmul_qkv_time",
          "matmul_qkv_time",
          "matmul_qkv_time",
          "matmul_qkv_time",
          "matmul_qkv_time",
          "matmul_qkv_time",
          "matmul_qkv_time",
          "matmul_qkv_time",
          "matmul_qkv_time",
          "matmul_qkv_time",
          "matmul_qkv_time",
          "matmul_qkv_time",
          "matmul_qkv_time",
          "matmul_qkv_time",
          "matmul_qkv_time",
          "matmul_qkv_time",
          "matmul_qkv_time",
          "matmul_qkv_time",
          "matmul_qkv_time",
          "matmul_qkv_time",
          "matmul_qkv_time",
          "matmul_qkv_time",
          "matmul_qkv_time",
          "matmul_qkv_time",
          "matmul_qkv_time",
          "matmul_qkv_time",
          "matmul_qkv_time",
          "matmul_qkv_time",
          "matmul_qkv_time",
          "matmul_qkv_time",
          "matmul_qkv_time",
          "matmul_qkv_time",
          "matmul_qkv_time",
          "matmul_qkv_time",
          "matmul_qkv_time",
          "matmul_qkv_time",
          "matmul_qkv_time",
          "matmul_qkv_time",
          "matmul_qkv_time",
          "matmul_qkv_time",
          "matmul_qkv_time",
          "matmul_qkv_time",
          "matmul_qkv_time",
          "matmul_qkv_time",
          "matmul_qkv_time",
          "matmul_qkv_time",
          "matmul_qkv_time",
          "matmul_qkv_time",
          "matmul_qkv_time",
          "matmul_qkv_time",
          "matmul_qkv_time",
          "matmul_qkv_time",
          "matmul_qkv_time",
          "matmul_qkv_time",
          "matmul_qkv_time",
          "matmul_qkv_time",
          "matmul_qkv_time",
          "matmul_qkv_time",
          "matmul_qkv_time",
          "matmul_qkv_time",
          "matmul_qkv_time",
          "matmul_qkv_time",
          "matmul_qkv_time",
          "matmul_qkv_time",
          "matmul_qkv_time",
          "matmul_qkv_time",
          "matmul_qkv_time",
          "matmul_qkv_time",
          "matmul_qkv_time",
          "matmul_qkv_time",
          "matmul_qkv_time",
          "matmul_qkv_time",
          "matmul_qkv_time",
          "matmul_qkv_time",
          "matmul_qkv_time",
          "matmul_qkv_time",
          "matmul_qkv_time",
          "matmul_qkv_time",
          "matmul_qkv_time",
          "matmul_qkv_time",
          "matmul_qkv_time",
          "matmul_qkv_time",
          "matmul_qkv_time",
          "matmul_qkv_time",
          "matmul_qkv_time",
          "matmul_qkv_time",
          "matmul_qkv_time",
          "rope_time",
          "rope_time",
          "rope_time",
          "rope_time",
          "rope_time",
          "rope_time",
          "rope_time",
          "rope_time",
          "rope_time",
          "rope_time",
          "rope_time",
          "rope_time",
          "rope_time",
          "rope_time",
          "rope_time",
          "rope_time",
          "rope_time",
          "rope_time",
          "rope_time",
          "rope_time",
          "rope_time",
          "rope_time",
          "rope_time",
          "rope_time",
          "rope_time",
          "rope_time",
          "rope_time",
          "rope_time",
          "rope_time",
          "rope_time",
          "rope_time",
          "rope_time",
          "rope_time",
          "rope_time",
          "rope_time",
          "rope_time",
          "rope_time",
          "rope_time",
          "rope_time",
          "rope_time",
          "rope_time",
          "rope_time",
          "rope_time",
          "rope_time",
          "rope_time",
          "rope_time",
          "rope_time",
          "rope_time",
          "rope_time",
          "rope_time",
          "rope_time",
          "rope_time",
          "rope_time",
          "rope_time",
          "rope_time",
          "rope_time",
          "rope_time",
          "rope_time",
          "rope_time",
          "rope_time",
          "rope_time",
          "rope_time",
          "rope_time",
          "rope_time",
          "rope_time",
          "rope_time",
          "rope_time",
          "rope_time",
          "rope_time",
          "rope_time",
          "rope_time",
          "rope_time",
          "rope_time",
          "rope_time",
          "rope_time",
          "rope_time",
          "rope_time",
          "rope_time",
          "rope_time",
          "rope_time",
          "rope_time",
          "rope_time",
          "rope_time",
          "rope_time",
          "rope_time",
          "rope_time",
          "rope_time",
          "rope_time",
          "rope_time",
          "rope_time",
          "rope_time",
          "rope_time",
          "rope_time",
          "rope_time",
          "rope_time",
          "rope_time",
          "rope_time",
          "rope_time",
          "rope_time",
          "rope_time",
          "rope_time",
          "rope_time",
          "rope_time",
          "rope_time",
          "rope_time",
          "rope_time",
          "rope_time",
          "rope_time",
          "rope_time",
          "rope_time",
          "rope_time",
          "rope_time",
          "rope_time",
          "rope_time",
          "rope_time",
          "rope_time",
          "rope_time",
          "rope_time",
          "rope_time",
          "rope_time",
          "rope_time",
          "rope_time",
          "rope_time",
          "rope_time",
          "rope_time",
          "rope_time",
          "rope_time",
          "rope_time",
          "rope_time",
          "rope_time",
          "rope_time",
          "rope_time",
          "rope_time",
          "rope_time",
          "rope_time",
          "rope_time",
          "rope_time",
          "rope_time",
          "rope_time",
          "rope_time",
          "rope_time",
          "rope_time",
          "rope_time",
          "rope_time",
          "rope_time",
          "rope_time",
          "rope_time",
          "rope_time",
          "rope_time",
          "rope_time",
          "rope_time",
          "rope_time",
          "rope_time",
          "rope_time",
          "rope_time",
          "rope_time",
          "rope_time",
          "rope_time",
          "rope_time",
          "rope_time",
          "rope_time",
          "rope_time",
          "rope_time",
          "rope_time",
          "rope_time",
          "rope_time",
          "rope_time",
          "rope_time",
          "rope_time",
          "rope_time",
          "rope_time",
          "rope_time",
          "multihead_time",
          "multihead_time",
          "multihead_time",
          "multihead_time",
          "multihead_time",
          "multihead_time",
          "multihead_time",
          "multihead_time",
          "multihead_time",
          "multihead_time",
          "multihead_time",
          "multihead_time",
          "multihead_time",
          "multihead_time",
          "multihead_time",
          "multihead_time",
          "multihead_time",
          "multihead_time",
          "multihead_time",
          "multihead_time",
          "multihead_time",
          "multihead_time",
          "multihead_time",
          "multihead_time",
          "multihead_time",
          "multihead_time",
          "multihead_time",
          "multihead_time",
          "multihead_time",
          "multihead_time",
          "multihead_time",
          "multihead_time",
          "multihead_time",
          "multihead_time",
          "multihead_time",
          "multihead_time",
          "multihead_time",
          "multihead_time",
          "multihead_time",
          "multihead_time",
          "multihead_time",
          "multihead_time",
          "multihead_time",
          "multihead_time",
          "multihead_time",
          "multihead_time",
          "multihead_time",
          "multihead_time",
          "multihead_time",
          "multihead_time",
          "multihead_time",
          "multihead_time",
          "multihead_time",
          "multihead_time",
          "multihead_time",
          "multihead_time",
          "multihead_time",
          "multihead_time",
          "multihead_time",
          "multihead_time",
          "multihead_time",
          "multihead_time",
          "multihead_time",
          "multihead_time",
          "multihead_time",
          "multihead_time",
          "multihead_time",
          "multihead_time",
          "multihead_time",
          "multihead_time",
          "multihead_time",
          "multihead_time",
          "multihead_time",
          "multihead_time",
          "multihead_time",
          "multihead_time",
          "multihead_time",
          "multihead_time",
          "multihead_time",
          "multihead_time",
          "multihead_time",
          "multihead_time",
          "multihead_time",
          "multihead_time",
          "multihead_time",
          "multihead_time",
          "multihead_time",
          "multihead_time",
          "multihead_time",
          "multihead_time",
          "multihead_time",
          "multihead_time",
          "multihead_time",
          "multihead_time",
          "multihead_time",
          "multihead_time",
          "multihead_time",
          "multihead_time",
          "multihead_time",
          "multihead_time",
          "multihead_time",
          "multihead_time",
          "multihead_time",
          "multihead_time",
          "multihead_time",
          "multihead_time",
          "multihead_time",
          "multihead_time",
          "multihead_time",
          "multihead_time",
          "multihead_time",
          "multihead_time",
          "multihead_time",
          "multihead_time",
          "multihead_time",
          "multihead_time",
          "multihead_time",
          "multihead_time",
          "multihead_time",
          "multihead_time",
          "multihead_time",
          "multihead_time",
          "multihead_time",
          "multihead_time",
          "multihead_time",
          "multihead_time",
          "multihead_time",
          "multihead_time",
          "multihead_time",
          "multihead_time",
          "multihead_time",
          "multihead_time",
          "multihead_time",
          "multihead_time",
          "multihead_time",
          "multihead_time",
          "multihead_time",
          "multihead_time",
          "multihead_time",
          "multihead_time",
          "multihead_time",
          "multihead_time",
          "multihead_time",
          "multihead_time",
          "multihead_time",
          "multihead_time",
          "multihead_time",
          "multihead_time",
          "multihead_time",
          "multihead_time",
          "multihead_time",
          "multihead_time",
          "multihead_time",
          "multihead_time",
          "multihead_time",
          "multihead_time",
          "multihead_time",
          "multihead_time",
          "multihead_time",
          "multihead_time",
          "multihead_time",
          "multihead_time",
          "multihead_time",
          "multihead_time",
          "multihead_time",
          "multihead_time",
          "multihead_time",
          "multihead_time",
          "multihead_time",
          "multihead_time",
          "multihead_time",
          "multihead_time",
          "matmul_output_attention_time",
          "matmul_output_attention_time",
          "matmul_output_attention_time",
          "matmul_output_attention_time",
          "matmul_output_attention_time",
          "matmul_output_attention_time",
          "matmul_output_attention_time",
          "matmul_output_attention_time",
          "matmul_output_attention_time",
          "matmul_output_attention_time",
          "matmul_output_attention_time",
          "matmul_output_attention_time",
          "matmul_output_attention_time",
          "matmul_output_attention_time",
          "matmul_output_attention_time",
          "matmul_output_attention_time",
          "matmul_output_attention_time",
          "matmul_output_attention_time",
          "matmul_output_attention_time",
          "matmul_output_attention_time",
          "matmul_output_attention_time",
          "matmul_output_attention_time",
          "matmul_output_attention_time",
          "matmul_output_attention_time",
          "matmul_output_attention_time",
          "matmul_output_attention_time",
          "matmul_output_attention_time",
          "matmul_output_attention_time",
          "matmul_output_attention_time",
          "matmul_output_attention_time",
          "matmul_output_attention_time",
          "matmul_output_attention_time",
          "matmul_output_attention_time",
          "matmul_output_attention_time",
          "matmul_output_attention_time",
          "matmul_output_attention_time",
          "matmul_output_attention_time",
          "matmul_output_attention_time",
          "matmul_output_attention_time",
          "matmul_output_attention_time",
          "matmul_output_attention_time",
          "matmul_output_attention_time",
          "matmul_output_attention_time",
          "matmul_output_attention_time",
          "matmul_output_attention_time",
          "matmul_output_attention_time",
          "matmul_output_attention_time",
          "matmul_output_attention_time",
          "matmul_output_attention_time",
          "matmul_output_attention_time",
          "matmul_output_attention_time",
          "matmul_output_attention_time",
          "matmul_output_attention_time",
          "matmul_output_attention_time",
          "matmul_output_attention_time",
          "matmul_output_attention_time",
          "matmul_output_attention_time",
          "matmul_output_attention_time",
          "matmul_output_attention_time",
          "matmul_output_attention_time",
          "matmul_output_attention_time",
          "matmul_output_attention_time",
          "matmul_output_attention_time",
          "matmul_output_attention_time",
          "matmul_output_attention_time",
          "matmul_output_attention_time",
          "matmul_output_attention_time",
          "matmul_output_attention_time",
          "matmul_output_attention_time",
          "matmul_output_attention_time",
          "matmul_output_attention_time",
          "matmul_output_attention_time",
          "matmul_output_attention_time",
          "matmul_output_attention_time",
          "matmul_output_attention_time",
          "matmul_output_attention_time",
          "matmul_output_attention_time",
          "matmul_output_attention_time",
          "matmul_output_attention_time",
          "matmul_output_attention_time",
          "matmul_output_attention_time",
          "matmul_output_attention_time",
          "matmul_output_attention_time",
          "matmul_output_attention_time",
          "matmul_output_attention_time",
          "matmul_output_attention_time",
          "matmul_output_attention_time",
          "matmul_output_attention_time",
          "matmul_output_attention_time",
          "matmul_output_attention_time",
          "matmul_output_attention_time",
          "matmul_output_attention_time",
          "matmul_output_attention_time",
          "matmul_output_attention_time",
          "matmul_output_attention_time",
          "matmul_output_attention_time",
          "matmul_output_attention_time",
          "matmul_output_attention_time",
          "matmul_output_attention_time",
          "matmul_output_attention_time",
          "matmul_output_attention_time",
          "matmul_output_attention_time",
          "matmul_output_attention_time",
          "matmul_output_attention_time",
          "matmul_output_attention_time",
          "matmul_output_attention_time",
          "matmul_output_attention_time",
          "matmul_output_attention_time",
          "matmul_output_attention_time",
          "matmul_output_attention_time",
          "matmul_output_attention_time",
          "matmul_output_attention_time",
          "matmul_output_attention_time",
          "matmul_output_attention_time",
          "matmul_output_attention_time",
          "matmul_output_attention_time",
          "matmul_output_attention_time",
          "matmul_output_attention_time",
          "matmul_output_attention_time",
          "matmul_output_attention_time",
          "matmul_output_attention_time",
          "matmul_output_attention_time",
          "matmul_output_attention_time",
          "matmul_output_attention_time",
          "matmul_output_attention_time",
          "matmul_output_attention_time",
          "matmul_output_attention_time",
          "matmul_output_attention_time",
          "matmul_output_attention_time",
          "matmul_output_attention_time",
          "matmul_output_attention_time",
          "matmul_output_attention_time",
          "matmul_output_attention_time",
          "matmul_output_attention_time",
          "matmul_output_attention_time",
          "matmul_output_attention_time",
          "matmul_output_attention_time",
          "matmul_output_attention_time",
          "matmul_output_attention_time",
          "matmul_output_attention_time",
          "matmul_output_attention_time",
          "matmul_output_attention_time",
          "matmul_output_attention_time",
          "matmul_output_attention_time",
          "matmul_output_attention_time",
          "matmul_output_attention_time",
          "matmul_output_attention_time",
          "matmul_output_attention_time",
          "matmul_output_attention_time",
          "matmul_output_attention_time",
          "matmul_output_attention_time",
          "matmul_output_attention_time",
          "matmul_output_attention_time",
          "matmul_output_attention_time",
          "matmul_output_attention_time",
          "matmul_output_attention_time",
          "matmul_output_attention_time",
          "matmul_output_attention_time",
          "matmul_output_attention_time",
          "matmul_output_attention_time",
          "matmul_output_attention_time",
          "matmul_output_attention_time",
          "matmul_output_attention_time",
          "matmul_output_attention_time",
          "matmul_output_attention_time",
          "matmul_output_attention_time",
          "matmul_output_attention_time",
          "matmul_output_attention_time",
          "matmul_output_attention_time",
          "matmul_output_attention_time",
          "matmul_output_attention_time",
          "matmul_output_attention_time",
          "FFN_rmsnorm_time",
          "FFN_rmsnorm_time",
          "FFN_rmsnorm_time",
          "FFN_rmsnorm_time",
          "FFN_rmsnorm_time",
          "FFN_rmsnorm_time",
          "FFN_rmsnorm_time",
          "FFN_rmsnorm_time",
          "FFN_rmsnorm_time",
          "FFN_rmsnorm_time",
          "FFN_rmsnorm_time",
          "FFN_rmsnorm_time",
          "FFN_rmsnorm_time",
          "FFN_rmsnorm_time",
          "FFN_rmsnorm_time",
          "FFN_rmsnorm_time",
          "FFN_rmsnorm_time",
          "FFN_rmsnorm_time",
          "FFN_rmsnorm_time",
          "FFN_rmsnorm_time",
          "FFN_rmsnorm_time",
          "FFN_rmsnorm_time",
          "FFN_rmsnorm_time",
          "FFN_rmsnorm_time",
          "FFN_rmsnorm_time",
          "FFN_rmsnorm_time",
          "FFN_rmsnorm_time",
          "FFN_rmsnorm_time",
          "FFN_rmsnorm_time",
          "FFN_rmsnorm_time",
          "FFN_rmsnorm_time",
          "FFN_rmsnorm_time",
          "FFN_rmsnorm_time",
          "FFN_rmsnorm_time",
          "FFN_rmsnorm_time",
          "FFN_rmsnorm_time",
          "FFN_rmsnorm_time",
          "FFN_rmsnorm_time",
          "FFN_rmsnorm_time",
          "FFN_rmsnorm_time",
          "FFN_rmsnorm_time",
          "FFN_rmsnorm_time",
          "FFN_rmsnorm_time",
          "FFN_rmsnorm_time",
          "FFN_rmsnorm_time",
          "FFN_rmsnorm_time",
          "FFN_rmsnorm_time",
          "FFN_rmsnorm_time",
          "FFN_rmsnorm_time",
          "FFN_rmsnorm_time",
          "FFN_rmsnorm_time",
          "FFN_rmsnorm_time",
          "FFN_rmsnorm_time",
          "FFN_rmsnorm_time",
          "FFN_rmsnorm_time",
          "FFN_rmsnorm_time",
          "FFN_rmsnorm_time",
          "FFN_rmsnorm_time",
          "FFN_rmsnorm_time",
          "FFN_rmsnorm_time",
          "FFN_rmsnorm_time",
          "FFN_rmsnorm_time",
          "FFN_rmsnorm_time",
          "FFN_rmsnorm_time",
          "FFN_rmsnorm_time",
          "FFN_rmsnorm_time",
          "FFN_rmsnorm_time",
          "FFN_rmsnorm_time",
          "FFN_rmsnorm_time",
          "FFN_rmsnorm_time",
          "FFN_rmsnorm_time",
          "FFN_rmsnorm_time",
          "FFN_rmsnorm_time",
          "FFN_rmsnorm_time",
          "FFN_rmsnorm_time",
          "FFN_rmsnorm_time",
          "FFN_rmsnorm_time",
          "FFN_rmsnorm_time",
          "FFN_rmsnorm_time",
          "FFN_rmsnorm_time",
          "FFN_rmsnorm_time",
          "FFN_rmsnorm_time",
          "FFN_rmsnorm_time",
          "FFN_rmsnorm_time",
          "FFN_rmsnorm_time",
          "FFN_rmsnorm_time",
          "FFN_rmsnorm_time",
          "FFN_rmsnorm_time",
          "FFN_rmsnorm_time",
          "FFN_rmsnorm_time",
          "FFN_rmsnorm_time",
          "FFN_rmsnorm_time",
          "FFN_rmsnorm_time",
          "FFN_rmsnorm_time",
          "FFN_rmsnorm_time",
          "FFN_rmsnorm_time",
          "FFN_rmsnorm_time",
          "FFN_rmsnorm_time",
          "FFN_rmsnorm_time",
          "FFN_rmsnorm_time",
          "FFN_rmsnorm_time",
          "FFN_rmsnorm_time",
          "FFN_rmsnorm_time",
          "FFN_rmsnorm_time",
          "FFN_rmsnorm_time",
          "FFN_rmsnorm_time",
          "FFN_rmsnorm_time",
          "FFN_rmsnorm_time",
          "FFN_rmsnorm_time",
          "FFN_rmsnorm_time",
          "FFN_rmsnorm_time",
          "FFN_rmsnorm_time",
          "FFN_rmsnorm_time",
          "FFN_rmsnorm_time",
          "FFN_rmsnorm_time",
          "FFN_rmsnorm_time",
          "FFN_rmsnorm_time",
          "FFN_rmsnorm_time",
          "FFN_rmsnorm_time",
          "FFN_rmsnorm_time",
          "FFN_rmsnorm_time",
          "FFN_rmsnorm_time",
          "FFN_rmsnorm_time",
          "FFN_rmsnorm_time",
          "FFN_rmsnorm_time",
          "FFN_rmsnorm_time",
          "FFN_rmsnorm_time",
          "FFN_rmsnorm_time",
          "FFN_rmsnorm_time",
          "FFN_rmsnorm_time",
          "FFN_rmsnorm_time",
          "FFN_rmsnorm_time",
          "FFN_rmsnorm_time",
          "FFN_rmsnorm_time",
          "FFN_rmsnorm_time",
          "FFN_rmsnorm_time",
          "FFN_rmsnorm_time",
          "FFN_rmsnorm_time",
          "FFN_rmsnorm_time",
          "FFN_rmsnorm_time",
          "FFN_rmsnorm_time",
          "FFN_rmsnorm_time",
          "FFN_rmsnorm_time",
          "FFN_rmsnorm_time",
          "FFN_rmsnorm_time",
          "FFN_rmsnorm_time",
          "FFN_rmsnorm_time",
          "FFN_rmsnorm_time",
          "FFN_rmsnorm_time",
          "FFN_rmsnorm_time",
          "FFN_rmsnorm_time",
          "FFN_rmsnorm_time",
          "FFN_rmsnorm_time",
          "FFN_rmsnorm_time",
          "FFN_rmsnorm_time",
          "FFN_rmsnorm_time",
          "FFN_rmsnorm_time",
          "FFN_rmsnorm_time",
          "FFN_rmsnorm_time",
          "FFN_rmsnorm_time",
          "FFN_rmsnorm_time",
          "FFN_rmsnorm_time",
          "FFN_rmsnorm_time",
          "FFN_rmsnorm_time",
          "FFN_rmsnorm_time",
          "matmul_FFN_time",
          "matmul_FFN_time",
          "matmul_FFN_time",
          "matmul_FFN_time",
          "matmul_FFN_time",
          "matmul_FFN_time",
          "matmul_FFN_time",
          "matmul_FFN_time",
          "matmul_FFN_time",
          "matmul_FFN_time",
          "matmul_FFN_time",
          "matmul_FFN_time",
          "matmul_FFN_time",
          "matmul_FFN_time",
          "matmul_FFN_time",
          "matmul_FFN_time",
          "matmul_FFN_time",
          "matmul_FFN_time",
          "matmul_FFN_time",
          "matmul_FFN_time",
          "matmul_FFN_time",
          "matmul_FFN_time",
          "matmul_FFN_time",
          "matmul_FFN_time",
          "matmul_FFN_time",
          "matmul_FFN_time",
          "matmul_FFN_time",
          "matmul_FFN_time",
          "matmul_FFN_time",
          "matmul_FFN_time",
          "matmul_FFN_time",
          "matmul_FFN_time",
          "matmul_FFN_time",
          "matmul_FFN_time",
          "matmul_FFN_time",
          "matmul_FFN_time",
          "matmul_FFN_time",
          "matmul_FFN_time",
          "matmul_FFN_time",
          "matmul_FFN_time",
          "matmul_FFN_time",
          "matmul_FFN_time",
          "matmul_FFN_time",
          "matmul_FFN_time",
          "matmul_FFN_time",
          "matmul_FFN_time",
          "matmul_FFN_time",
          "matmul_FFN_time",
          "matmul_FFN_time",
          "matmul_FFN_time",
          "matmul_FFN_time",
          "matmul_FFN_time",
          "matmul_FFN_time",
          "matmul_FFN_time",
          "matmul_FFN_time",
          "matmul_FFN_time",
          "matmul_FFN_time",
          "matmul_FFN_time",
          "matmul_FFN_time",
          "matmul_FFN_time",
          "matmul_FFN_time",
          "matmul_FFN_time",
          "matmul_FFN_time",
          "matmul_FFN_time",
          "matmul_FFN_time",
          "matmul_FFN_time",
          "matmul_FFN_time",
          "matmul_FFN_time",
          "matmul_FFN_time",
          "matmul_FFN_time",
          "matmul_FFN_time",
          "matmul_FFN_time",
          "matmul_FFN_time",
          "matmul_FFN_time",
          "matmul_FFN_time",
          "matmul_FFN_time",
          "matmul_FFN_time",
          "matmul_FFN_time",
          "matmul_FFN_time",
          "matmul_FFN_time",
          "matmul_FFN_time",
          "matmul_FFN_time",
          "matmul_FFN_time",
          "matmul_FFN_time",
          "matmul_FFN_time",
          "matmul_FFN_time",
          "matmul_FFN_time",
          "matmul_FFN_time",
          "matmul_FFN_time",
          "matmul_FFN_time",
          "matmul_FFN_time",
          "matmul_FFN_time",
          "matmul_FFN_time",
          "matmul_FFN_time",
          "matmul_FFN_time",
          "matmul_FFN_time",
          "matmul_FFN_time",
          "matmul_FFN_time",
          "matmul_FFN_time",
          "matmul_FFN_time",
          "matmul_FFN_time",
          "matmul_FFN_time",
          "matmul_FFN_time",
          "matmul_FFN_time",
          "matmul_FFN_time",
          "matmul_FFN_time",
          "matmul_FFN_time",
          "matmul_FFN_time",
          "matmul_FFN_time",
          "matmul_FFN_time",
          "matmul_FFN_time",
          "matmul_FFN_time",
          "matmul_FFN_time",
          "matmul_FFN_time",
          "matmul_FFN_time",
          "matmul_FFN_time",
          "matmul_FFN_time",
          "matmul_FFN_time",
          "matmul_FFN_time",
          "matmul_FFN_time",
          "matmul_FFN_time",
          "matmul_FFN_time",
          "matmul_FFN_time",
          "matmul_FFN_time",
          "matmul_FFN_time",
          "matmul_FFN_time",
          "matmul_FFN_time",
          "matmul_FFN_time",
          "matmul_FFN_time",
          "matmul_FFN_time",
          "matmul_FFN_time",
          "matmul_FFN_time",
          "matmul_FFN_time",
          "matmul_FFN_time",
          "matmul_FFN_time",
          "matmul_FFN_time",
          "matmul_FFN_time",
          "matmul_FFN_time",
          "matmul_FFN_time",
          "matmul_FFN_time",
          "matmul_FFN_time",
          "matmul_FFN_time",
          "matmul_FFN_time",
          "matmul_FFN_time",
          "matmul_FFN_time",
          "matmul_FFN_time",
          "matmul_FFN_time",
          "matmul_FFN_time",
          "matmul_FFN_time",
          "matmul_FFN_time",
          "matmul_FFN_time",
          "matmul_FFN_time",
          "matmul_FFN_time",
          "matmul_FFN_time",
          "matmul_FFN_time",
          "matmul_FFN_time",
          "matmul_FFN_time",
          "matmul_FFN_time",
          "matmul_FFN_time",
          "matmul_FFN_time",
          "matmul_FFN_time",
          "matmul_FFN_time",
          "matmul_FFN_time",
          "matmul_FFN_time",
          "matmul_FFN_time",
          "matmul_FFN_time",
          "matmul_FFN_time",
          "matmul_FFN_time",
          "matmul_FFN_time",
          "matmul_FFN_time",
          "matmul_FFN_time",
          "matmul_FFN_time",
          "swiGLU_time",
          "swiGLU_time",
          "swiGLU_time",
          "swiGLU_time",
          "swiGLU_time",
          "swiGLU_time",
          "swiGLU_time",
          "swiGLU_time",
          "swiGLU_time",
          "swiGLU_time",
          "swiGLU_time",
          "swiGLU_time",
          "swiGLU_time",
          "swiGLU_time",
          "swiGLU_time",
          "swiGLU_time",
          "swiGLU_time",
          "swiGLU_time",
          "swiGLU_time",
          "swiGLU_time",
          "swiGLU_time",
          "swiGLU_time",
          "swiGLU_time",
          "swiGLU_time",
          "swiGLU_time",
          "swiGLU_time",
          "swiGLU_time",
          "swiGLU_time",
          "swiGLU_time",
          "swiGLU_time",
          "swiGLU_time",
          "swiGLU_time",
          "swiGLU_time",
          "swiGLU_time",
          "swiGLU_time",
          "swiGLU_time",
          "swiGLU_time",
          "swiGLU_time",
          "swiGLU_time",
          "swiGLU_time",
          "swiGLU_time",
          "swiGLU_time",
          "swiGLU_time",
          "swiGLU_time",
          "swiGLU_time",
          "swiGLU_time",
          "swiGLU_time",
          "swiGLU_time",
          "swiGLU_time",
          "swiGLU_time",
          "swiGLU_time",
          "swiGLU_time",
          "swiGLU_time",
          "swiGLU_time",
          "swiGLU_time",
          "swiGLU_time",
          "swiGLU_time",
          "swiGLU_time",
          "swiGLU_time",
          "swiGLU_time",
          "swiGLU_time",
          "swiGLU_time",
          "swiGLU_time",
          "swiGLU_time",
          "swiGLU_time",
          "swiGLU_time",
          "swiGLU_time",
          "swiGLU_time",
          "swiGLU_time",
          "swiGLU_time",
          "swiGLU_time",
          "swiGLU_time",
          "swiGLU_time",
          "swiGLU_time",
          "swiGLU_time",
          "swiGLU_time",
          "swiGLU_time",
          "swiGLU_time",
          "swiGLU_time",
          "swiGLU_time",
          "swiGLU_time",
          "swiGLU_time",
          "swiGLU_time",
          "swiGLU_time",
          "swiGLU_time",
          "swiGLU_time",
          "swiGLU_time",
          "swiGLU_time",
          "swiGLU_time",
          "swiGLU_time",
          "swiGLU_time",
          "swiGLU_time",
          "swiGLU_time",
          "swiGLU_time",
          "swiGLU_time",
          "swiGLU_time",
          "swiGLU_time",
          "swiGLU_time",
          "swiGLU_time",
          "swiGLU_time",
          "swiGLU_time",
          "swiGLU_time",
          "swiGLU_time",
          "swiGLU_time",
          "swiGLU_time",
          "swiGLU_time",
          "swiGLU_time",
          "swiGLU_time",
          "swiGLU_time",
          "swiGLU_time",
          "swiGLU_time",
          "swiGLU_time",
          "swiGLU_time",
          "swiGLU_time",
          "swiGLU_time",
          "swiGLU_time",
          "swiGLU_time",
          "swiGLU_time",
          "swiGLU_time",
          "swiGLU_time",
          "swiGLU_time",
          "swiGLU_time",
          "swiGLU_time",
          "swiGLU_time",
          "swiGLU_time",
          "swiGLU_time",
          "swiGLU_time",
          "swiGLU_time",
          "swiGLU_time",
          "swiGLU_time",
          "swiGLU_time",
          "swiGLU_time",
          "swiGLU_time",
          "swiGLU_time",
          "swiGLU_time",
          "swiGLU_time",
          "swiGLU_time",
          "swiGLU_time",
          "swiGLU_time",
          "swiGLU_time",
          "swiGLU_time",
          "swiGLU_time",
          "swiGLU_time",
          "swiGLU_time",
          "swiGLU_time",
          "swiGLU_time",
          "swiGLU_time",
          "swiGLU_time",
          "swiGLU_time",
          "swiGLU_time",
          "swiGLU_time",
          "swiGLU_time",
          "swiGLU_time",
          "swiGLU_time",
          "swiGLU_time",
          "swiGLU_time",
          "swiGLU_time",
          "swiGLU_time",
          "swiGLU_time",
          "swiGLU_time",
          "swiGLU_time",
          "swiGLU_time",
          "swiGLU_time",
          "swiGLU_time",
          "swiGLU_time",
          "swiGLU_time",
          "swiGLU_time",
          "swiGLU_time",
          "swiGLU_time",
          "swiGLU_time",
          "swiGLU_time",
          "swiGLU_time",
          "matmul_output_FFN_time",
          "matmul_output_FFN_time",
          "matmul_output_FFN_time",
          "matmul_output_FFN_time",
          "matmul_output_FFN_time",
          "matmul_output_FFN_time",
          "matmul_output_FFN_time",
          "matmul_output_FFN_time",
          "matmul_output_FFN_time",
          "matmul_output_FFN_time",
          "matmul_output_FFN_time",
          "matmul_output_FFN_time",
          "matmul_output_FFN_time",
          "matmul_output_FFN_time",
          "matmul_output_FFN_time",
          "matmul_output_FFN_time",
          "matmul_output_FFN_time",
          "matmul_output_FFN_time",
          "matmul_output_FFN_time",
          "matmul_output_FFN_time",
          "matmul_output_FFN_time",
          "matmul_output_FFN_time",
          "matmul_output_FFN_time",
          "matmul_output_FFN_time",
          "matmul_output_FFN_time",
          "matmul_output_FFN_time",
          "matmul_output_FFN_time",
          "matmul_output_FFN_time",
          "matmul_output_FFN_time",
          "matmul_output_FFN_time",
          "matmul_output_FFN_time",
          "matmul_output_FFN_time",
          "matmul_output_FFN_time",
          "matmul_output_FFN_time",
          "matmul_output_FFN_time",
          "matmul_output_FFN_time",
          "matmul_output_FFN_time",
          "matmul_output_FFN_time",
          "matmul_output_FFN_time",
          "matmul_output_FFN_time",
          "matmul_output_FFN_time",
          "matmul_output_FFN_time",
          "matmul_output_FFN_time",
          "matmul_output_FFN_time",
          "matmul_output_FFN_time",
          "matmul_output_FFN_time",
          "matmul_output_FFN_time",
          "matmul_output_FFN_time",
          "matmul_output_FFN_time",
          "matmul_output_FFN_time",
          "matmul_output_FFN_time",
          "matmul_output_FFN_time",
          "matmul_output_FFN_time",
          "matmul_output_FFN_time",
          "matmul_output_FFN_time",
          "matmul_output_FFN_time",
          "matmul_output_FFN_time",
          "matmul_output_FFN_time",
          "matmul_output_FFN_time",
          "matmul_output_FFN_time",
          "matmul_output_FFN_time",
          "matmul_output_FFN_time",
          "matmul_output_FFN_time",
          "matmul_output_FFN_time",
          "matmul_output_FFN_time",
          "matmul_output_FFN_time",
          "matmul_output_FFN_time",
          "matmul_output_FFN_time",
          "matmul_output_FFN_time",
          "matmul_output_FFN_time",
          "matmul_output_FFN_time",
          "matmul_output_FFN_time",
          "matmul_output_FFN_time",
          "matmul_output_FFN_time",
          "matmul_output_FFN_time",
          "matmul_output_FFN_time",
          "matmul_output_FFN_time",
          "matmul_output_FFN_time",
          "matmul_output_FFN_time",
          "matmul_output_FFN_time",
          "matmul_output_FFN_time",
          "matmul_output_FFN_time",
          "matmul_output_FFN_time",
          "matmul_output_FFN_time",
          "matmul_output_FFN_time",
          "matmul_output_FFN_time",
          "matmul_output_FFN_time",
          "matmul_output_FFN_time",
          "matmul_output_FFN_time",
          "matmul_output_FFN_time",
          "matmul_output_FFN_time",
          "matmul_output_FFN_time",
          "matmul_output_FFN_time",
          "matmul_output_FFN_time",
          "matmul_output_FFN_time",
          "matmul_output_FFN_time",
          "matmul_output_FFN_time",
          "matmul_output_FFN_time",
          "matmul_output_FFN_time",
          "matmul_output_FFN_time",
          "matmul_output_FFN_time",
          "matmul_output_FFN_time",
          "matmul_output_FFN_time",
          "matmul_output_FFN_time",
          "matmul_output_FFN_time",
          "matmul_output_FFN_time",
          "matmul_output_FFN_time",
          "matmul_output_FFN_time",
          "matmul_output_FFN_time",
          "matmul_output_FFN_time",
          "matmul_output_FFN_time",
          "matmul_output_FFN_time",
          "matmul_output_FFN_time",
          "matmul_output_FFN_time",
          "matmul_output_FFN_time",
          "matmul_output_FFN_time",
          "matmul_output_FFN_time",
          "matmul_output_FFN_time",
          "matmul_output_FFN_time",
          "matmul_output_FFN_time",
          "matmul_output_FFN_time",
          "matmul_output_FFN_time",
          "matmul_output_FFN_time",
          "matmul_output_FFN_time",
          "matmul_output_FFN_time",
          "matmul_output_FFN_time",
          "matmul_output_FFN_time",
          "matmul_output_FFN_time",
          "matmul_output_FFN_time",
          "matmul_output_FFN_time",
          "matmul_output_FFN_time",
          "matmul_output_FFN_time",
          "matmul_output_FFN_time",
          "matmul_output_FFN_time",
          "matmul_output_FFN_time",
          "matmul_output_FFN_time",
          "matmul_output_FFN_time",
          "matmul_output_FFN_time",
          "matmul_output_FFN_time",
          "matmul_output_FFN_time",
          "matmul_output_FFN_time",
          "matmul_output_FFN_time",
          "matmul_output_FFN_time",
          "matmul_output_FFN_time",
          "matmul_output_FFN_time",
          "matmul_output_FFN_time",
          "matmul_output_FFN_time",
          "matmul_output_FFN_time",
          "matmul_output_FFN_time",
          "matmul_output_FFN_time",
          "matmul_output_FFN_time",
          "matmul_output_FFN_time",
          "matmul_output_FFN_time",
          "matmul_output_FFN_time",
          "matmul_output_FFN_time",
          "matmul_output_FFN_time",
          "matmul_output_FFN_time",
          "matmul_output_FFN_time",
          "matmul_output_FFN_time",
          "matmul_output_FFN_time",
          "matmul_output_FFN_time",
          "matmul_output_FFN_time",
          "matmul_output_FFN_time",
          "matmul_output_FFN_time",
          "matmul_output_FFN_time",
          "matmul_output_FFN_time",
          "matmul_output_FFN_time",
          "matmul_output_FFN_time",
          "matmul_output_FFN_time",
          "matmul_output_FFN_time",
          "matmul_output_FFN_time",
          "matmul_output_FFN_time",
          "rmsnorm_final_time",
          "rmsnorm_final_time",
          "rmsnorm_final_time",
          "rmsnorm_final_time",
          "rmsnorm_final_time",
          "rmsnorm_final_time",
          "rmsnorm_final_time",
          "rmsnorm_final_time",
          "rmsnorm_final_time",
          "rmsnorm_final_time",
          "rmsnorm_final_time",
          "rmsnorm_final_time",
          "rmsnorm_final_time",
          "rmsnorm_final_time",
          "rmsnorm_final_time",
          "rmsnorm_final_time",
          "rmsnorm_final_time",
          "rmsnorm_final_time",
          "rmsnorm_final_time",
          "rmsnorm_final_time",
          "rmsnorm_final_time",
          "rmsnorm_final_time",
          "rmsnorm_final_time",
          "rmsnorm_final_time",
          "rmsnorm_final_time",
          "rmsnorm_final_time",
          "rmsnorm_final_time",
          "rmsnorm_final_time",
          "rmsnorm_final_time",
          "rmsnorm_final_time",
          "rmsnorm_final_time",
          "rmsnorm_final_time",
          "rmsnorm_final_time",
          "rmsnorm_final_time",
          "rmsnorm_final_time",
          "rmsnorm_final_time",
          "rmsnorm_final_time",
          "rmsnorm_final_time",
          "rmsnorm_final_time",
          "rmsnorm_final_time",
          "rmsnorm_final_time",
          "rmsnorm_final_time",
          "rmsnorm_final_time",
          "rmsnorm_final_time",
          "rmsnorm_final_time",
          "rmsnorm_final_time",
          "rmsnorm_final_time",
          "rmsnorm_final_time",
          "rmsnorm_final_time",
          "rmsnorm_final_time",
          "rmsnorm_final_time",
          "rmsnorm_final_time",
          "rmsnorm_final_time",
          "rmsnorm_final_time",
          "rmsnorm_final_time",
          "rmsnorm_final_time",
          "rmsnorm_final_time",
          "rmsnorm_final_time",
          "rmsnorm_final_time",
          "rmsnorm_final_time",
          "rmsnorm_final_time",
          "rmsnorm_final_time",
          "rmsnorm_final_time",
          "rmsnorm_final_time",
          "rmsnorm_final_time",
          "rmsnorm_final_time",
          "rmsnorm_final_time",
          "matmul_logits_time",
          "matmul_logits_time",
          "matmul_logits_time",
          "matmul_logits_time",
          "matmul_logits_time",
          "matmul_logits_time",
          "matmul_logits_time",
          "matmul_logits_time",
          "matmul_logits_time",
          "matmul_logits_time",
          "matmul_logits_time",
          "matmul_logits_time",
          "matmul_logits_time",
          "matmul_logits_time",
          "matmul_logits_time",
          "matmul_logits_time",
          "matmul_logits_time",
          "matmul_logits_time",
          "matmul_logits_time",
          "matmul_logits_time",
          "matmul_logits_time",
          "matmul_logits_time",
          "matmul_logits_time",
          "matmul_logits_time",
          "matmul_logits_time",
          "matmul_logits_time",
          "matmul_logits_time",
          "matmul_logits_time",
          "matmul_logits_time",
          "matmul_logits_time",
          "matmul_logits_time",
          "matmul_logits_time",
          "matmul_logits_time",
          "matmul_logits_time",
          "matmul_logits_time",
          "matmul_logits_time",
          "matmul_logits_time",
          "matmul_logits_time",
          "matmul_logits_time",
          "matmul_logits_time",
          "matmul_logits_time",
          "matmul_logits_time",
          "matmul_logits_time",
          "matmul_logits_time",
          "matmul_logits_time",
          "matmul_logits_time",
          "matmul_logits_time",
          "matmul_logits_time",
          "matmul_logits_time",
          "matmul_logits_time",
          "matmul_logits_time",
          "matmul_logits_time",
          "matmul_logits_time",
          "matmul_logits_time",
          "matmul_logits_time",
          "matmul_logits_time",
          "matmul_logits_time",
          "matmul_logits_time",
          "matmul_logits_time",
          "matmul_logits_time",
          "matmul_logits_time",
          "matmul_logits_time",
          "matmul_logits_time",
          "matmul_logits_time",
          "matmul_logits_time",
          "matmul_logits_time",
          "matmul_logits_time",
          "matmul_logits_time",
          "matmul_logits_time",
          "matmul_logits_time",
          "matmul_logits_time",
          "matmul_logits_time",
          "matmul_logits_time",
          "matmul_logits_time",
          "matmul_logits_time",
          "matmul_logits_time",
          "matmul_logits_time",
          "matmul_logits_time",
          "matmul_logits_time",
          "matmul_logits_time",
          "matmul_logits_time",
          "matmul_logits_time",
          "matmul_logits_time",
          "matmul_logits_time",
          "matmul_logits_time",
          "matmul_logits_time",
          "matmul_logits_time",
          "matmul_logits_time",
          "matmul_logits_time",
          "matmul_logits_time",
          "matmul_logits_time",
          "matmul_logits_time",
          "matmul_logits_time",
          "matmul_logits_time",
          "matmul_logits_time",
          "matmul_logits_time",
          "matmul_logits_time",
          "matmul_logits_time",
          "matmul_logits_time",
          "matmul_logits_time",
          "matmul_logits_time",
          "matmul_logits_time",
          "matmul_logits_time",
          "matmul_logits_time",
          "matmul_logits_time",
          "matmul_logits_time",
          "matmul_logits_time",
          "matmul_logits_time",
          "matmul_logits_time",
          "matmul_logits_time",
          "matmul_logits_time",
          "matmul_logits_time",
          "matmul_logits_time",
          "matmul_logits_time",
          "matmul_logits_time",
          "matmul_logits_time",
          "matmul_logits_time",
          "matmul_logits_time",
          "matmul_logits_time",
          "matmul_logits_time",
          "matmul_logits_time",
          "matmul_logits_time",
          "matmul_logits_time",
          "matmul_logits_time",
          "matmul_logits_time",
          "matmul_logits_time",
          "matmul_logits_time",
          "matmul_logits_time",
          "matmul_logits_time",
          "matmul_logits_time",
          "matmul_logits_time",
          "matmul_logits_time",
          "matmul_logits_time",
          "matmul_logits_time",
          "matmul_logits_time",
          "matmul_logits_time",
          "matmul_logits_time",
          "matmul_logits_time",
          "matmul_logits_time",
          "matmul_logits_time",
          "matmul_logits_time",
          "matmul_logits_time",
          "matmul_logits_time",
          "matmul_logits_time",
          "matmul_logits_time",
          "matmul_logits_time",
          "matmul_logits_time",
          "matmul_logits_time",
          "matmul_logits_time",
          "matmul_logits_time",
          "matmul_logits_time",
          "matmul_logits_time",
          "matmul_logits_time",
          "matmul_logits_time",
          "matmul_logits_time",
          "matmul_logits_time",
          "matmul_logits_time",
          "matmul_logits_time",
          "matmul_logits_time",
          "matmul_logits_time",
          "matmul_logits_time",
          "matmul_logits_time",
          "matmul_logits_time",
          "matmul_logits_time",
          "matmul_logits_time",
          "matmul_logits_time",
          "matmul_logits_time",
          "matmul_logits_time",
          "matmul_logits_time",
          "matmul_logits_time",
          "matmul_logits_time",
          "matmul_logits_time"
         ],
         "x0": " ",
         "xaxis": "x",
         "y": {
          "bdata": "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",
          "dtype": "f8"
         },
         "y0": " ",
         "yaxis": "y"
        }
       ],
       "layout": {
        "boxmode": "group",
        "legend": {
         "tracegroupgap": 0
        },
        "template": {
         "data": {
          "bar": [
           {
            "error_x": {
             "color": "#2a3f5f"
            },
            "error_y": {
             "color": "#2a3f5f"
            },
            "marker": {
             "line": {
              "color": "#E5ECF6",
              "width": 0.5
             },
             "pattern": {
              "fillmode": "overlay",
              "size": 10,
              "solidity": 0.2
             }
            },
            "type": "bar"
           }
          ],
          "barpolar": [
           {
            "marker": {
             "line": {
              "color": "#E5ECF6",
              "width": 0.5
             },
             "pattern": {
              "fillmode": "overlay",
              "size": 10,
              "solidity": 0.2
             }
            },
            "type": "barpolar"
           }
          ],
          "carpet": [
           {
            "aaxis": {
             "endlinecolor": "#2a3f5f",
             "gridcolor": "white",
             "linecolor": "white",
             "minorgridcolor": "white",
             "startlinecolor": "#2a3f5f"
            },
            "baxis": {
             "endlinecolor": "#2a3f5f",
             "gridcolor": "white",
             "linecolor": "white",
             "minorgridcolor": "white",
             "startlinecolor": "#2a3f5f"
            },
            "type": "carpet"
           }
          ],
          "choropleth": [
           {
            "colorbar": {
             "outlinewidth": 0,
             "ticks": ""
            },
            "type": "choropleth"
           }
          ],
          "contour": [
           {
            "colorbar": {
             "outlinewidth": 0,
             "ticks": ""
            },
            "colorscale": [
             [
              0,
              "#0d0887"
             ],
             [
              0.1111111111111111,
              "#46039f"
             ],
             [
              0.2222222222222222,
              "#7201a8"
             ],
             [
              0.3333333333333333,
              "#9c179e"
             ],
             [
              0.4444444444444444,
              "#bd3786"
             ],
             [
              0.5555555555555556,
              "#d8576b"
             ],
             [
              0.6666666666666666,
              "#ed7953"
             ],
             [
              0.7777777777777778,
              "#fb9f3a"
             ],
             [
              0.8888888888888888,
              "#fdca26"
             ],
             [
              1,
              "#f0f921"
             ]
            ],
            "type": "contour"
           }
          ],
          "contourcarpet": [
           {
            "colorbar": {
             "outlinewidth": 0,
             "ticks": ""
            },
            "type": "contourcarpet"
           }
          ],
          "heatmap": [
           {
            "colorbar": {
             "outlinewidth": 0,
             "ticks": ""
            },
            "colorscale": [
             [
              0,
              "#0d0887"
             ],
             [
              0.1111111111111111,
              "#46039f"
             ],
             [
              0.2222222222222222,
              "#7201a8"
             ],
             [
              0.3333333333333333,
              "#9c179e"
             ],
             [
              0.4444444444444444,
              "#bd3786"
             ],
             [
              0.5555555555555556,
              "#d8576b"
             ],
             [
              0.6666666666666666,
              "#ed7953"
             ],
             [
              0.7777777777777778,
              "#fb9f3a"
             ],
             [
              0.8888888888888888,
              "#fdca26"
             ],
             [
              1,
              "#f0f921"
             ]
            ],
            "type": "heatmap"
           }
          ],
          "histogram": [
           {
            "marker": {
             "pattern": {
              "fillmode": "overlay",
              "size": 10,
              "solidity": 0.2
             }
            },
            "type": "histogram"
           }
          ],
          "histogram2d": [
           {
            "colorbar": {
             "outlinewidth": 0,
             "ticks": ""
            },
            "colorscale": [
             [
              0,
              "#0d0887"
             ],
             [
              0.1111111111111111,
              "#46039f"
             ],
             [
              0.2222222222222222,
              "#7201a8"
             ],
             [
              0.3333333333333333,
              "#9c179e"
             ],
             [
              0.4444444444444444,
              "#bd3786"
             ],
             [
              0.5555555555555556,
              "#d8576b"
             ],
             [
              0.6666666666666666,
              "#ed7953"
             ],
             [
              0.7777777777777778,
              "#fb9f3a"
             ],
             [
              0.8888888888888888,
              "#fdca26"
             ],
             [
              1,
              "#f0f921"
             ]
            ],
            "type": "histogram2d"
           }
          ],
          "histogram2dcontour": [
           {
            "colorbar": {
             "outlinewidth": 0,
             "ticks": ""
            },
            "colorscale": [
             [
              0,
              "#0d0887"
             ],
             [
              0.1111111111111111,
              "#46039f"
             ],
             [
              0.2222222222222222,
              "#7201a8"
             ],
             [
              0.3333333333333333,
              "#9c179e"
             ],
             [
              0.4444444444444444,
              "#bd3786"
             ],
             [
              0.5555555555555556,
              "#d8576b"
             ],
             [
              0.6666666666666666,
              "#ed7953"
             ],
             [
              0.7777777777777778,
              "#fb9f3a"
             ],
             [
              0.8888888888888888,
              "#fdca26"
             ],
             [
              1,
              "#f0f921"
             ]
            ],
            "type": "histogram2dcontour"
           }
          ],
          "mesh3d": [
           {
            "colorbar": {
             "outlinewidth": 0,
             "ticks": ""
            },
            "type": "mesh3d"
           }
          ],
          "parcoords": [
           {
            "line": {
             "colorbar": {
              "outlinewidth": 0,
              "ticks": ""
             }
            },
            "type": "parcoords"
           }
          ],
          "pie": [
           {
            "automargin": true,
            "type": "pie"
           }
          ],
          "scatter": [
           {
            "fillpattern": {
             "fillmode": "overlay",
             "size": 10,
             "solidity": 0.2
            },
            "type": "scatter"
           }
          ],
          "scatter3d": [
           {
            "line": {
             "colorbar": {
              "outlinewidth": 0,
              "ticks": ""
             }
            },
            "marker": {
             "colorbar": {
              "outlinewidth": 0,
              "ticks": ""
             }
            },
            "type": "scatter3d"
           }
          ],
          "scattercarpet": [
           {
            "marker": {
             "colorbar": {
              "outlinewidth": 0,
              "ticks": ""
             }
            },
            "type": "scattercarpet"
           }
          ],
          "scattergeo": [
           {
            "marker": {
             "colorbar": {
              "outlinewidth": 0,
              "ticks": ""
             }
            },
            "type": "scattergeo"
           }
          ],
          "scattergl": [
           {
            "marker": {
             "colorbar": {
              "outlinewidth": 0,
              "ticks": ""
             }
            },
            "type": "scattergl"
           }
          ],
          "scattermap": [
           {
            "marker": {
             "colorbar": {
              "outlinewidth": 0,
              "ticks": ""
             }
            },
            "type": "scattermap"
           }
          ],
          "scattermapbox": [
           {
            "marker": {
             "colorbar": {
              "outlinewidth": 0,
              "ticks": ""
             }
            },
            "type": "scattermapbox"
           }
          ],
          "scatterpolar": [
           {
            "marker": {
             "colorbar": {
              "outlinewidth": 0,
              "ticks": ""
             }
            },
            "type": "scatterpolar"
           }
          ],
          "scatterpolargl": [
           {
            "marker": {
             "colorbar": {
              "outlinewidth": 0,
              "ticks": ""
             }
            },
            "type": "scatterpolargl"
           }
          ],
          "scatterternary": [
           {
            "marker": {
             "colorbar": {
              "outlinewidth": 0,
              "ticks": ""
             }
            },
            "type": "scatterternary"
           }
          ],
          "surface": [
           {
            "colorbar": {
             "outlinewidth": 0,
             "ticks": ""
            },
            "colorscale": [
             [
              0,
              "#0d0887"
             ],
             [
              0.1111111111111111,
              "#46039f"
             ],
             [
              0.2222222222222222,
              "#7201a8"
             ],
             [
              0.3333333333333333,
              "#9c179e"
             ],
             [
              0.4444444444444444,
              "#bd3786"
             ],
             [
              0.5555555555555556,
              "#d8576b"
             ],
             [
              0.6666666666666666,
              "#ed7953"
             ],
             [
              0.7777777777777778,
              "#fb9f3a"
             ],
             [
              0.8888888888888888,
              "#fdca26"
             ],
             [
              1,
              "#f0f921"
             ]
            ],
            "type": "surface"
           }
          ],
          "table": [
           {
            "cells": {
             "fill": {
              "color": "#EBF0F8"
             },
             "line": {
              "color": "white"
             }
            },
            "header": {
             "fill": {
              "color": "#C8D4E3"
             },
             "line": {
              "color": "white"
             }
            },
            "type": "table"
           }
          ]
         },
         "layout": {
          "annotationdefaults": {
           "arrowcolor": "#2a3f5f",
           "arrowhead": 0,
           "arrowwidth": 1
          },
          "autotypenumbers": "strict",
          "coloraxis": {
           "colorbar": {
            "outlinewidth": 0,
            "ticks": ""
           }
          },
          "colorscale": {
           "diverging": [
            [
             0,
             "#8e0152"
            ],
            [
             0.1,
             "#c51b7d"
            ],
            [
             0.2,
             "#de77ae"
            ],
            [
             0.3,
             "#f1b6da"
            ],
            [
             0.4,
             "#fde0ef"
            ],
            [
             0.5,
             "#f7f7f7"
            ],
            [
             0.6,
             "#e6f5d0"
            ],
            [
             0.7,
             "#b8e186"
            ],
            [
             0.8,
             "#7fbc41"
            ],
            [
             0.9,
             "#4d9221"
            ],
            [
             1,
             "#276419"
            ]
           ],
           "sequential": [
            [
             0,
             "#0d0887"
            ],
            [
             0.1111111111111111,
             "#46039f"
            ],
            [
             0.2222222222222222,
             "#7201a8"
            ],
            [
             0.3333333333333333,
             "#9c179e"
            ],
            [
             0.4444444444444444,
             "#bd3786"
            ],
            [
             0.5555555555555556,
             "#d8576b"
            ],
            [
             0.6666666666666666,
             "#ed7953"
            ],
            [
             0.7777777777777778,
             "#fb9f3a"
            ],
            [
             0.8888888888888888,
             "#fdca26"
            ],
            [
             1,
             "#f0f921"
            ]
           ],
           "sequentialminus": [
            [
             0,
             "#0d0887"
            ],
            [
             0.1111111111111111,
             "#46039f"
            ],
            [
             0.2222222222222222,
             "#7201a8"
            ],
            [
             0.3333333333333333,
             "#9c179e"
            ],
            [
             0.4444444444444444,
             "#bd3786"
            ],
            [
             0.5555555555555556,
             "#d8576b"
            ],
            [
             0.6666666666666666,
             "#ed7953"
            ],
            [
             0.7777777777777778,
             "#fb9f3a"
            ],
            [
             0.8888888888888888,
             "#fdca26"
            ],
            [
             1,
             "#f0f921"
            ]
           ]
          },
          "colorway": [
           "#636efa",
           "#EF553B",
           "#00cc96",
           "#ab63fa",
           "#FFA15A",
           "#19d3f3",
           "#FF6692",
           "#B6E880",
           "#FF97FF",
           "#FECB52"
          ],
          "font": {
           "color": "#2a3f5f"
          },
          "geo": {
           "bgcolor": "white",
           "lakecolor": "white",
           "landcolor": "#E5ECF6",
           "showlakes": true,
           "showland": true,
           "subunitcolor": "white"
          },
          "hoverlabel": {
           "align": "left"
          },
          "hovermode": "closest",
          "mapbox": {
           "style": "light"
          },
          "paper_bgcolor": "white",
          "plot_bgcolor": "#E5ECF6",
          "polar": {
           "angularaxis": {
            "gridcolor": "white",
            "linecolor": "white",
            "ticks": ""
           },
           "bgcolor": "#E5ECF6",
           "radialaxis": {
            "gridcolor": "white",
            "linecolor": "white",
            "ticks": ""
           }
          },
          "scene": {
           "xaxis": {
            "backgroundcolor": "#E5ECF6",
            "gridcolor": "white",
            "gridwidth": 2,
            "linecolor": "white",
            "showbackground": true,
            "ticks": "",
            "zerolinecolor": "white"
           },
           "yaxis": {
            "backgroundcolor": "#E5ECF6",
            "gridcolor": "white",
            "gridwidth": 2,
            "linecolor": "white",
            "showbackground": true,
            "ticks": "",
            "zerolinecolor": "white"
           },
           "zaxis": {
            "backgroundcolor": "#E5ECF6",
            "gridcolor": "white",
            "gridwidth": 2,
            "linecolor": "white",
            "showbackground": true,
            "ticks": "",
            "zerolinecolor": "white"
           }
          },
          "shapedefaults": {
           "line": {
            "color": "#2a3f5f"
           }
          },
          "ternary": {
           "aaxis": {
            "gridcolor": "white",
            "linecolor": "white",
            "ticks": ""
           },
           "baxis": {
            "gridcolor": "white",
            "linecolor": "white",
            "ticks": ""
           },
           "bgcolor": "#E5ECF6",
           "caxis": {
            "gridcolor": "white",
            "linecolor": "white",
            "ticks": ""
           }
          },
          "title": {
           "x": 0.05
          },
          "xaxis": {
           "automargin": true,
           "gridcolor": "white",
           "linecolor": "white",
           "ticks": "",
           "title": {
            "standoff": 15
           },
           "zerolinecolor": "white",
           "zerolinewidth": 2
          },
          "yaxis": {
           "automargin": true,
           "gridcolor": "white",
           "linecolor": "white",
           "ticks": "",
           "title": {
            "standoff": 15
           },
           "zerolinecolor": "white",
           "zerolinewidth": 2
          }
         }
        },
        "title": {
         "text": "Boxplot of difference phase per execution"
        },
        "xaxis": {
         "anchor": "y",
         "domain": [
          0,
          1
         ],
         "title": {
          "text": "phase"
         }
        },
        "yaxis": {
         "anchor": "x",
         "domain": [
          0,
          1
         ],
         "title": {
          "text": "time (in ms)"
         }
        }
       }
      }
     },
     "metadata": {},
     "output_type": "display_data"
    }
   ],
   "source": [
    "import json\n",
    "import numpy as np\n",
    "import pandas as pd\n",
    "import plotly.express as px\n",
    "\n",
    "with open(file) as f:\n",
    "    data = json.load(f)\n",
    "\n",
    "forward = data[\"forward_instr\"]\n",
    "keys = [\n",
    "    \"rmsnorm_first_time\",\n",
    "    \"matmul_qkv_time\",\n",
    "    \"rope_time\",\n",
    "    \"multihead_time\",\n",
    "    \"matmul_output_attention_time\",\n",
    "    \"FFN_rmsnorm_time\",\n",
    "    \"matmul_FFN_time\",\n",
    "    \"swiGLU_time\",\n",
    "    \"matmul_output_FFN_time\",\n",
    "    \"rmsnorm_final_time\",\n",
    "    \"matmul_logits_time\"\n",
    "]\n",
    "\n",
    "rows = []\n",
    "for k in keys:\n",
    "    values = [v for v in forward[k] if v != 0]\n",
    "    rows += [(k, v) for v in values]\n",
    "\n",
    "df = pd.DataFrame(rows, columns=[\"phase\",  \"time (in ms)\"])\n",
    "\n",
    "px.box(df, x=\"phase\", y=\"time (in ms)\",log_y = False,title = \"Boxplot of difference phase per execution\")\n"
   ]
  },
  {
   "cell_type": "code",
   "execution_count": 84,
   "id": "341f5a4e",
   "metadata": {},
   "outputs": [
    {
     "data": {
      "application/vnd.plotly.v1+json": {
       "config": {
        "plotlyServerURL": "https://plot.ly"
       },
       "data": [
        {
         "hovertemplate": "phase=%{x}<br>percentage=%{y}<extra></extra>",
         "legendgroup": "",
         "marker": {
          "color": "#636efa",
          "pattern": {
           "shape": ""
          }
         },
         "name": "",
         "orientation": "v",
         "showlegend": false,
         "textposition": "auto",
         "type": "bar",
         "x": [
          "matmul_logits_time",
          "matmul_FFN_time",
          "matmul_qkv_time",
          "matmul_output_FFN_time",
          "matmul_output_attention_time",
          "multihead_time",
          "rope_time",
          "swiGLU_time",
          "FFN_rmsnorm_time",
          "rmsnorm_first_time",
          "rmsnorm_final_time"
         ],
         "xaxis": "x",
         "y": {
          "bdata": "DVdpjtEXTEAG/jG2MFIxQHGG7WFd2iRA3AAyKPNXJEClAqb0cRMMQKWS7ssmSf8/FxqZfsSRyD9XPXMeVc/EP9LjeSEBGaM/1rc/tik2oD/B2hMfP5d5Pw==",
          "dtype": "f8"
         },
         "yaxis": "y"
        }
       ],
       "layout": {
        "barmode": "relative",
        "legend": {
         "tracegroupgap": 0
        },
        "template": {
         "data": {
          "bar": [
           {
            "error_x": {
             "color": "#2a3f5f"
            },
            "error_y": {
             "color": "#2a3f5f"
            },
            "marker": {
             "line": {
              "color": "#E5ECF6",
              "width": 0.5
             },
             "pattern": {
              "fillmode": "overlay",
              "size": 10,
              "solidity": 0.2
             }
            },
            "type": "bar"
           }
          ],
          "barpolar": [
           {
            "marker": {
             "line": {
              "color": "#E5ECF6",
              "width": 0.5
             },
             "pattern": {
              "fillmode": "overlay",
              "size": 10,
              "solidity": 0.2
             }
            },
            "type": "barpolar"
           }
          ],
          "carpet": [
           {
            "aaxis": {
             "endlinecolor": "#2a3f5f",
             "gridcolor": "white",
             "linecolor": "white",
             "minorgridcolor": "white",
             "startlinecolor": "#2a3f5f"
            },
            "baxis": {
             "endlinecolor": "#2a3f5f",
             "gridcolor": "white",
             "linecolor": "white",
             "minorgridcolor": "white",
             "startlinecolor": "#2a3f5f"
            },
            "type": "carpet"
           }
          ],
          "choropleth": [
           {
            "colorbar": {
             "outlinewidth": 0,
             "ticks": ""
            },
            "type": "choropleth"
           }
          ],
          "contour": [
           {
            "colorbar": {
             "outlinewidth": 0,
             "ticks": ""
            },
            "colorscale": [
             [
              0,
              "#0d0887"
             ],
             [
              0.1111111111111111,
              "#46039f"
             ],
             [
              0.2222222222222222,
              "#7201a8"
             ],
             [
              0.3333333333333333,
              "#9c179e"
             ],
             [
              0.4444444444444444,
              "#bd3786"
             ],
             [
              0.5555555555555556,
              "#d8576b"
             ],
             [
              0.6666666666666666,
              "#ed7953"
             ],
             [
              0.7777777777777778,
              "#fb9f3a"
             ],
             [
              0.8888888888888888,
              "#fdca26"
             ],
             [
              1,
              "#f0f921"
             ]
            ],
            "type": "contour"
           }
          ],
          "contourcarpet": [
           {
            "colorbar": {
             "outlinewidth": 0,
             "ticks": ""
            },
            "type": "contourcarpet"
           }
          ],
          "heatmap": [
           {
            "colorbar": {
             "outlinewidth": 0,
             "ticks": ""
            },
            "colorscale": [
             [
              0,
              "#0d0887"
             ],
             [
              0.1111111111111111,
              "#46039f"
             ],
             [
              0.2222222222222222,
              "#7201a8"
             ],
             [
              0.3333333333333333,
              "#9c179e"
             ],
             [
              0.4444444444444444,
              "#bd3786"
             ],
             [
              0.5555555555555556,
              "#d8576b"
             ],
             [
              0.6666666666666666,
              "#ed7953"
             ],
             [
              0.7777777777777778,
              "#fb9f3a"
             ],
             [
              0.8888888888888888,
              "#fdca26"
             ],
             [
              1,
              "#f0f921"
             ]
            ],
            "type": "heatmap"
           }
          ],
          "histogram": [
           {
            "marker": {
             "pattern": {
              "fillmode": "overlay",
              "size": 10,
              "solidity": 0.2
             }
            },
            "type": "histogram"
           }
          ],
          "histogram2d": [
           {
            "colorbar": {
             "outlinewidth": 0,
             "ticks": ""
            },
            "colorscale": [
             [
              0,
              "#0d0887"
             ],
             [
              0.1111111111111111,
              "#46039f"
             ],
             [
              0.2222222222222222,
              "#7201a8"
             ],
             [
              0.3333333333333333,
              "#9c179e"
             ],
             [
              0.4444444444444444,
              "#bd3786"
             ],
             [
              0.5555555555555556,
              "#d8576b"
             ],
             [
              0.6666666666666666,
              "#ed7953"
             ],
             [
              0.7777777777777778,
              "#fb9f3a"
             ],
             [
              0.8888888888888888,
              "#fdca26"
             ],
             [
              1,
              "#f0f921"
             ]
            ],
            "type": "histogram2d"
           }
          ],
          "histogram2dcontour": [
           {
            "colorbar": {
             "outlinewidth": 0,
             "ticks": ""
            },
            "colorscale": [
             [
              0,
              "#0d0887"
             ],
             [
              0.1111111111111111,
              "#46039f"
             ],
             [
              0.2222222222222222,
              "#7201a8"
             ],
             [
              0.3333333333333333,
              "#9c179e"
             ],
             [
              0.4444444444444444,
              "#bd3786"
             ],
             [
              0.5555555555555556,
              "#d8576b"
             ],
             [
              0.6666666666666666,
              "#ed7953"
             ],
             [
              0.7777777777777778,
              "#fb9f3a"
             ],
             [
              0.8888888888888888,
              "#fdca26"
             ],
             [
              1,
              "#f0f921"
             ]
            ],
            "type": "histogram2dcontour"
           }
          ],
          "mesh3d": [
           {
            "colorbar": {
             "outlinewidth": 0,
             "ticks": ""
            },
            "type": "mesh3d"
           }
          ],
          "parcoords": [
           {
            "line": {
             "colorbar": {
              "outlinewidth": 0,
              "ticks": ""
             }
            },
            "type": "parcoords"
           }
          ],
          "pie": [
           {
            "automargin": true,
            "type": "pie"
           }
          ],
          "scatter": [
           {
            "fillpattern": {
             "fillmode": "overlay",
             "size": 10,
             "solidity": 0.2
            },
            "type": "scatter"
           }
          ],
          "scatter3d": [
           {
            "line": {
             "colorbar": {
              "outlinewidth": 0,
              "ticks": ""
             }
            },
            "marker": {
             "colorbar": {
              "outlinewidth": 0,
              "ticks": ""
             }
            },
            "type": "scatter3d"
           }
          ],
          "scattercarpet": [
           {
            "marker": {
             "colorbar": {
              "outlinewidth": 0,
              "ticks": ""
             }
            },
            "type": "scattercarpet"
           }
          ],
          "scattergeo": [
           {
            "marker": {
             "colorbar": {
              "outlinewidth": 0,
              "ticks": ""
             }
            },
            "type": "scattergeo"
           }
          ],
          "scattergl": [
           {
            "marker": {
             "colorbar": {
              "outlinewidth": 0,
              "ticks": ""
             }
            },
            "type": "scattergl"
           }
          ],
          "scattermap": [
           {
            "marker": {
             "colorbar": {
              "outlinewidth": 0,
              "ticks": ""
             }
            },
            "type": "scattermap"
           }
          ],
          "scattermapbox": [
           {
            "marker": {
             "colorbar": {
              "outlinewidth": 0,
              "ticks": ""
             }
            },
            "type": "scattermapbox"
           }
          ],
          "scatterpolar": [
           {
            "marker": {
             "colorbar": {
              "outlinewidth": 0,
              "ticks": ""
             }
            },
            "type": "scatterpolar"
           }
          ],
          "scatterpolargl": [
           {
            "marker": {
             "colorbar": {
              "outlinewidth": 0,
              "ticks": ""
             }
            },
            "type": "scatterpolargl"
           }
          ],
          "scatterternary": [
           {
            "marker": {
             "colorbar": {
              "outlinewidth": 0,
              "ticks": ""
             }
            },
            "type": "scatterternary"
           }
          ],
          "surface": [
           {
            "colorbar": {
             "outlinewidth": 0,
             "ticks": ""
            },
            "colorscale": [
             [
              0,
              "#0d0887"
             ],
             [
              0.1111111111111111,
              "#46039f"
             ],
             [
              0.2222222222222222,
              "#7201a8"
             ],
             [
              0.3333333333333333,
              "#9c179e"
             ],
             [
              0.4444444444444444,
              "#bd3786"
             ],
             [
              0.5555555555555556,
              "#d8576b"
             ],
             [
              0.6666666666666666,
              "#ed7953"
             ],
             [
              0.7777777777777778,
              "#fb9f3a"
             ],
             [
              0.8888888888888888,
              "#fdca26"
             ],
             [
              1,
              "#f0f921"
             ]
            ],
            "type": "surface"
           }
          ],
          "table": [
           {
            "cells": {
             "fill": {
              "color": "#EBF0F8"
             },
             "line": {
              "color": "white"
             }
            },
            "header": {
             "fill": {
              "color": "#C8D4E3"
             },
             "line": {
              "color": "white"
             }
            },
            "type": "table"
           }
          ]
         },
         "layout": {
          "annotationdefaults": {
           "arrowcolor": "#2a3f5f",
           "arrowhead": 0,
           "arrowwidth": 1
          },
          "autotypenumbers": "strict",
          "coloraxis": {
           "colorbar": {
            "outlinewidth": 0,
            "ticks": ""
           }
          },
          "colorscale": {
           "diverging": [
            [
             0,
             "#8e0152"
            ],
            [
             0.1,
             "#c51b7d"
            ],
            [
             0.2,
             "#de77ae"
            ],
            [
             0.3,
             "#f1b6da"
            ],
            [
             0.4,
             "#fde0ef"
            ],
            [
             0.5,
             "#f7f7f7"
            ],
            [
             0.6,
             "#e6f5d0"
            ],
            [
             0.7,
             "#b8e186"
            ],
            [
             0.8,
             "#7fbc41"
            ],
            [
             0.9,
             "#4d9221"
            ],
            [
             1,
             "#276419"
            ]
           ],
           "sequential": [
            [
             0,
             "#0d0887"
            ],
            [
             0.1111111111111111,
             "#46039f"
            ],
            [
             0.2222222222222222,
             "#7201a8"
            ],
            [
             0.3333333333333333,
             "#9c179e"
            ],
            [
             0.4444444444444444,
             "#bd3786"
            ],
            [
             0.5555555555555556,
             "#d8576b"
            ],
            [
             0.6666666666666666,
             "#ed7953"
            ],
            [
             0.7777777777777778,
             "#fb9f3a"
            ],
            [
             0.8888888888888888,
             "#fdca26"
            ],
            [
             1,
             "#f0f921"
            ]
           ],
           "sequentialminus": [
            [
             0,
             "#0d0887"
            ],
            [
             0.1111111111111111,
             "#46039f"
            ],
            [
             0.2222222222222222,
             "#7201a8"
            ],
            [
             0.3333333333333333,
             "#9c179e"
            ],
            [
             0.4444444444444444,
             "#bd3786"
            ],
            [
             0.5555555555555556,
             "#d8576b"
            ],
            [
             0.6666666666666666,
             "#ed7953"
            ],
            [
             0.7777777777777778,
             "#fb9f3a"
            ],
            [
             0.8888888888888888,
             "#fdca26"
            ],
            [
             1,
             "#f0f921"
            ]
           ]
          },
          "colorway": [
           "#636efa",
           "#EF553B",
           "#00cc96",
           "#ab63fa",
           "#FFA15A",
           "#19d3f3",
           "#FF6692",
           "#B6E880",
           "#FF97FF",
           "#FECB52"
          ],
          "font": {
           "color": "#2a3f5f"
          },
          "geo": {
           "bgcolor": "white",
           "lakecolor": "white",
           "landcolor": "#E5ECF6",
           "showlakes": true,
           "showland": true,
           "subunitcolor": "white"
          },
          "hoverlabel": {
           "align": "left"
          },
          "hovermode": "closest",
          "mapbox": {
           "style": "light"
          },
          "paper_bgcolor": "white",
          "plot_bgcolor": "#E5ECF6",
          "polar": {
           "angularaxis": {
            "gridcolor": "white",
            "linecolor": "white",
            "ticks": ""
           },
           "bgcolor": "#E5ECF6",
           "radialaxis": {
            "gridcolor": "white",
            "linecolor": "white",
            "ticks": ""
           }
          },
          "scene": {
           "xaxis": {
            "backgroundcolor": "#E5ECF6",
            "gridcolor": "white",
            "gridwidth": 2,
            "linecolor": "white",
            "showbackground": true,
            "ticks": "",
            "zerolinecolor": "white"
           },
           "yaxis": {
            "backgroundcolor": "#E5ECF6",
            "gridcolor": "white",
            "gridwidth": 2,
            "linecolor": "white",
            "showbackground": true,
            "ticks": "",
            "zerolinecolor": "white"
           },
           "zaxis": {
            "backgroundcolor": "#E5ECF6",
            "gridcolor": "white",
            "gridwidth": 2,
            "linecolor": "white",
            "showbackground": true,
            "ticks": "",
            "zerolinecolor": "white"
           }
          },
          "shapedefaults": {
           "line": {
            "color": "#2a3f5f"
           }
          },
          "ternary": {
           "aaxis": {
            "gridcolor": "white",
            "linecolor": "white",
            "ticks": ""
           },
           "baxis": {
            "gridcolor": "white",
            "linecolor": "white",
            "ticks": ""
           },
           "bgcolor": "#E5ECF6",
           "caxis": {
            "gridcolor": "white",
            "linecolor": "white",
            "ticks": ""
           }
          },
          "title": {
           "x": 0.05
          },
          "xaxis": {
           "automargin": true,
           "gridcolor": "white",
           "linecolor": "white",
           "ticks": "",
           "title": {
            "standoff": 15
           },
           "zerolinecolor": "white",
           "zerolinewidth": 2
          },
          "yaxis": {
           "automargin": true,
           "gridcolor": "white",
           "linecolor": "white",
           "ticks": "",
           "title": {
            "standoff": 15
           },
           "zerolinecolor": "white",
           "zerolinewidth": 2
          }
         }
        },
        "title": {
         "text": "Percentage of time spent in the different phases of forward pass"
        },
        "xaxis": {
         "anchor": "y",
         "domain": [
          0,
          1
         ],
         "title": {
          "text": "phase"
         }
        },
        "yaxis": {
         "anchor": "x",
         "domain": [
          0,
          1
         ],
         "title": {
          "text": "percentage"
         }
        }
       }
      }
     },
     "metadata": {},
     "output_type": "display_data"
    }
   ],
   "source": [
    "import json\n",
    "import numpy as np\n",
    "import pandas as pd\n",
    "import plotly.express as px\n",
    "\n",
    "with open(file) as f:\n",
    "    data = json.load(f)\n",
    "\n",
    "forward = data[\"forward_instr\"]\n",
    "keys = [\n",
    "    \"rmsnorm_first_time\",\n",
    "    \"matmul_qkv_time\",\n",
    "    \"rope_time\",\n",
    "    \"multihead_time\",\n",
    "    \"matmul_output_attention_time\",\n",
    "    \"FFN_rmsnorm_time\",\n",
    "    \"matmul_FFN_time\",\n",
    "    \"swiGLU_time\",\n",
    "    \"matmul_output_FFN_time\",\n",
    "    \"rmsnorm_final_time\",\n",
    "    \"matmul_logits_time\"\n",
    "]\n",
    "\n",
    "sums = [np.sum(forward[k]) for k in keys]\n",
    "total = sum(sums)\n",
    "percentages = [s / total * 100 for s in sums]\n",
    "\n",
    "df = pd.DataFrame({\"phase\": keys, \"percentage\": percentages})\n",
    "df = df.sort_values(\"percentage\", ascending=False)\n",
    "px.bar(df, x=\"phase\", y=\"percentage\",title= \"Percentage of time spent in the different phases of forward pass\")"
   ]
  },
  {
   "cell_type": "markdown",
   "id": "85a6fe5f",
   "metadata": {},
   "source": [
    "# 1. Multi thread comparison"
   ]
  }
 ],
 "metadata": {
  "kernelspec": {
   "display_name": ".venv",
   "language": "python",
   "name": "python3"
  },
  "language_info": {
   "codemirror_mode": {
    "name": "ipython",
    "version": 3
   },
   "file_extension": ".py",
   "mimetype": "text/x-python",
   "name": "python",
   "nbconvert_exporter": "python",
   "pygments_lexer": "ipython3",
   "version": "3.12.3"
  }
 },
 "nbformat": 4,
 "nbformat_minor": 5
}
