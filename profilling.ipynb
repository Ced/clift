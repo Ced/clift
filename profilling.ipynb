{
 "cells": [
  {
   "cell_type": "markdown",
   "id": "374754d8",
   "metadata": {},
   "source": [
    "# 0. Sequential run "
   ]
  },
  {
   "cell_type": "markdown",
   "id": "736d87c0",
   "metadata": {},
   "source": [
    "## Config"
   ]
  },
  {
   "cell_type": "code",
   "execution_count": null,
   "id": "c812c308",
   "metadata": {},
   "outputs": [],
   "source": [
    "input = \"stories15M.bin\"\n",
    "steps = \"500\"\n"
   ]
  },
  {
   "cell_type": "code",
   "execution_count": null,
   "id": "e3b07fbe",
   "metadata": {},
   "outputs": [],
   "source": [
    "### Running this Notebook\n",
    "\n",
    "To run this notebook, make sure you've installed the dependencies listed in `requirements.txt`:\n",
    "\n",
    "```bash\n",
    "pip install -r requirements.txt\n",
    "```\n",
    "\n",
    "You also need to download the model binary:\n",
    "\n",
    "```bash\n",
    "wget https://huggingface.co/karpathy/tinyllamas/resolve/main/stories15M.bin\n",
    "```\n"
   ]
  },
  {
   "cell_type": "markdown",
   "id": "e7d5b31a",
   "metadata": {},
   "source": [
    "## Generate measurements"
   ]
  },
  {
   "cell_type": "code",
   "execution_count": 2,
   "id": "9c8cb0ac",
   "metadata": {},
   "outputs": [
    {
     "name": "stdout",
     "output_type": "stream",
     "text": [
      "gcc -O3 -o run run.c -lm\n"
     ]
    },
    {
     "name": "stderr",
     "output_type": "stream",
     "text": [
      "run.c: In function ‘main’:\n",
      "run.c:1119:52: warning: assignment to ‘int’ from ‘char *’ makes integer from pointer without a cast [-Wint-conversion]\n",
      " 1119 |         else if (argv[i][1] == 'g') { global_instr = argv[i + 1]; }\n",
      "      |                                                    ^\n"
     ]
    },
    {
     "name": "stdout",
     "output_type": "stream",
     "text": [
      "gcc -O3 -o runq runq.c -lm\n"
     ]
    },
    {
     "name": "stderr",
     "output_type": "stream",
     "text": [
      "achieved tok/s: 147.033534\n"
     ]
    }
   ],
   "source": [
    "import subprocess\n",
    "import datetime\n",
    "from pathlib import Path\n",
    "\n",
    "Path(\"measurements\").mkdir(exist_ok=True)\n",
    "\n",
    "date = datetime.datetime.now().strftime(\"%Y%m%d_%H%M%S\")\n",
    "output_path = f\"measurements/output_{input}_seq_{date}.json\"\n",
    "\n",
    "subprocess.run([\"make\", \"run\"], check=True)\n",
    "\n",
    "\n",
    "with open(output_path, \"w\") as f:\n",
    "    subprocess.run([\"./run\", \"stories15M.bin\", \"-s\", \"500\"], stdout=f, check=True)\n",
    "\n",
    "file = output_path"
   ]
  },
  {
   "cell_type": "code",
   "execution_count": 3,
   "id": "4e459861",
   "metadata": {},
   "outputs": [
    {
     "name": "stdout",
     "output_type": "stream",
     "text": [
      "n_steps: int\n",
      "n_generation_steps: int\n",
      "encode_time: float\n",
      "sampling: list\n",
      "  - list of 256 items\n",
      "decode_time: list\n",
      "  - list of 256 items\n",
      "forward_instr: dict\n",
      "  n_steps: int\n",
      "  global_time: list\n",
      "    - list of 256 items\n",
      "  rmsnorm_first_time: list\n",
      "    - list of 256 items\n",
      "  matmul_qkv_time: list\n",
      "    - list of 256 items\n",
      "  rope_time: list\n",
      "    - list of 256 items\n",
      "  multihead_time: list\n",
      "    - list of 256 items\n",
      "  matmul_output_attention_time: list\n",
      "    - list of 256 items\n",
      "  FFN_rmsnorm_time: list\n",
      "    - list of 256 items\n",
      "  matmul_FFN_time: list\n",
      "    - list of 256 items\n",
      "  swiGLU_time: list\n",
      "    - list of 256 items\n",
      "  matmul_output_FFN_time: list\n",
      "    - list of 256 items\n",
      "  rmsnorm_final_time: list\n",
      "    - list of 256 items\n",
      "  matmul_logits_time: list\n",
      "    - list of 256 items\n",
      "config: dict\n",
      "  dim: int\n",
      "  hidden_dim: int\n",
      "  n_layers: int\n",
      "  n_heads: int\n",
      "  n_kv_heads: int\n",
      "  vocab_size: int\n",
      "  seq_len: int\n"
     ]
    }
   ],
   "source": [
    "import json\n",
    "\n",
    "def print_json_schema(data, indent=0):\n",
    "    prefix = '  ' * indent\n",
    "    if isinstance(data, dict):\n",
    "        for key, value in data.items():\n",
    "            print(f\"{prefix}{key}: {type(value).__name__}\")\n",
    "            print_json_schema(value, indent + 1)\n",
    "    elif isinstance(data, list):\n",
    "        print(f\"{prefix}- list of {len(data)} items\")\n",
    "        if data:\n",
    "            print_json_schema(data[0], indent + 1)\n",
    "    else:\n",
    "        # leaf node\n",
    "        pass\n",
    "\n",
    "with open(file) as f:\n",
    "    data = json.load(f)\n",
    "\n",
    "print_json_schema(data)"
   ]
  },
  {
   "cell_type": "code",
   "execution_count": 4,
   "id": "7829893d",
   "metadata": {},
   "outputs": [
    {
     "data": {
      "application/vnd.plotly.v1+json": {
       "config": {
        "plotlyServerURL": "https://plot.ly"
       },
       "data": [
        {
         "hovertemplate": "phase=%{x}<br>time in ms=%{y}<extra></extra>",
         "legendgroup": "",
         "marker": {
          "color": "#636efa",
          "pattern": {
           "shape": ""
          }
         },
         "name": "",
         "orientation": "v",
         "showlegend": false,
         "textposition": "auto",
         "type": "bar",
         "x": [
          "encode",
          "forward",
          "sampling",
          "decode"
         ],
         "xaxis": "x",
         "y": {
          "bdata": "waikTkDzSUCTXP5D8grHQF8HzhlRlm9AmnecoiO5+z8=",
          "dtype": "f8"
         },
         "yaxis": "y"
        }
       ],
       "layout": {
        "barmode": "relative",
        "legend": {
         "tracegroupgap": 0
        },
        "template": {
         "data": {
          "bar": [
           {
            "error_x": {
             "color": "#2a3f5f"
            },
            "error_y": {
             "color": "#2a3f5f"
            },
            "marker": {
             "line": {
              "color": "#E5ECF6",
              "width": 0.5
             },
             "pattern": {
              "fillmode": "overlay",
              "size": 10,
              "solidity": 0.2
             }
            },
            "type": "bar"
           }
          ],
          "barpolar": [
           {
            "marker": {
             "line": {
              "color": "#E5ECF6",
              "width": 0.5
             },
             "pattern": {
              "fillmode": "overlay",
              "size": 10,
              "solidity": 0.2
             }
            },
            "type": "barpolar"
           }
          ],
          "carpet": [
           {
            "aaxis": {
             "endlinecolor": "#2a3f5f",
             "gridcolor": "white",
             "linecolor": "white",
             "minorgridcolor": "white",
             "startlinecolor": "#2a3f5f"
            },
            "baxis": {
             "endlinecolor": "#2a3f5f",
             "gridcolor": "white",
             "linecolor": "white",
             "minorgridcolor": "white",
             "startlinecolor": "#2a3f5f"
            },
            "type": "carpet"
           }
          ],
          "choropleth": [
           {
            "colorbar": {
             "outlinewidth": 0,
             "ticks": ""
            },
            "type": "choropleth"
           }
          ],
          "contour": [
           {
            "colorbar": {
             "outlinewidth": 0,
             "ticks": ""
            },
            "colorscale": [
             [
              0,
              "#0d0887"
             ],
             [
              0.1111111111111111,
              "#46039f"
             ],
             [
              0.2222222222222222,
              "#7201a8"
             ],
             [
              0.3333333333333333,
              "#9c179e"
             ],
             [
              0.4444444444444444,
              "#bd3786"
             ],
             [
              0.5555555555555556,
              "#d8576b"
             ],
             [
              0.6666666666666666,
              "#ed7953"
             ],
             [
              0.7777777777777778,
              "#fb9f3a"
             ],
             [
              0.8888888888888888,
              "#fdca26"
             ],
             [
              1,
              "#f0f921"
             ]
            ],
            "type": "contour"
           }
          ],
          "contourcarpet": [
           {
            "colorbar": {
             "outlinewidth": 0,
             "ticks": ""
            },
            "type": "contourcarpet"
           }
          ],
          "heatmap": [
           {
            "colorbar": {
             "outlinewidth": 0,
             "ticks": ""
            },
            "colorscale": [
             [
              0,
              "#0d0887"
             ],
             [
              0.1111111111111111,
              "#46039f"
             ],
             [
              0.2222222222222222,
              "#7201a8"
             ],
             [
              0.3333333333333333,
              "#9c179e"
             ],
             [
              0.4444444444444444,
              "#bd3786"
             ],
             [
              0.5555555555555556,
              "#d8576b"
             ],
             [
              0.6666666666666666,
              "#ed7953"
             ],
             [
              0.7777777777777778,
              "#fb9f3a"
             ],
             [
              0.8888888888888888,
              "#fdca26"
             ],
             [
              1,
              "#f0f921"
             ]
            ],
            "type": "heatmap"
           }
          ],
          "histogram": [
           {
            "marker": {
             "pattern": {
              "fillmode": "overlay",
              "size": 10,
              "solidity": 0.2
             }
            },
            "type": "histogram"
           }
          ],
          "histogram2d": [
           {
            "colorbar": {
             "outlinewidth": 0,
             "ticks": ""
            },
            "colorscale": [
             [
              0,
              "#0d0887"
             ],
             [
              0.1111111111111111,
              "#46039f"
             ],
             [
              0.2222222222222222,
              "#7201a8"
             ],
             [
              0.3333333333333333,
              "#9c179e"
             ],
             [
              0.4444444444444444,
              "#bd3786"
             ],
             [
              0.5555555555555556,
              "#d8576b"
             ],
             [
              0.6666666666666666,
              "#ed7953"
             ],
             [
              0.7777777777777778,
              "#fb9f3a"
             ],
             [
              0.8888888888888888,
              "#fdca26"
             ],
             [
              1,
              "#f0f921"
             ]
            ],
            "type": "histogram2d"
           }
          ],
          "histogram2dcontour": [
           {
            "colorbar": {
             "outlinewidth": 0,
             "ticks": ""
            },
            "colorscale": [
             [
              0,
              "#0d0887"
             ],
             [
              0.1111111111111111,
              "#46039f"
             ],
             [
              0.2222222222222222,
              "#7201a8"
             ],
             [
              0.3333333333333333,
              "#9c179e"
             ],
             [
              0.4444444444444444,
              "#bd3786"
             ],
             [
              0.5555555555555556,
              "#d8576b"
             ],
             [
              0.6666666666666666,
              "#ed7953"
             ],
             [
              0.7777777777777778,
              "#fb9f3a"
             ],
             [
              0.8888888888888888,
              "#fdca26"
             ],
             [
              1,
              "#f0f921"
             ]
            ],
            "type": "histogram2dcontour"
           }
          ],
          "mesh3d": [
           {
            "colorbar": {
             "outlinewidth": 0,
             "ticks": ""
            },
            "type": "mesh3d"
           }
          ],
          "parcoords": [
           {
            "line": {
             "colorbar": {
              "outlinewidth": 0,
              "ticks": ""
             }
            },
            "type": "parcoords"
           }
          ],
          "pie": [
           {
            "automargin": true,
            "type": "pie"
           }
          ],
          "scatter": [
           {
            "fillpattern": {
             "fillmode": "overlay",
             "size": 10,
             "solidity": 0.2
            },
            "type": "scatter"
           }
          ],
          "scatter3d": [
           {
            "line": {
             "colorbar": {
              "outlinewidth": 0,
              "ticks": ""
             }
            },
            "marker": {
             "colorbar": {
              "outlinewidth": 0,
              "ticks": ""
             }
            },
            "type": "scatter3d"
           }
          ],
          "scattercarpet": [
           {
            "marker": {
             "colorbar": {
              "outlinewidth": 0,
              "ticks": ""
             }
            },
            "type": "scattercarpet"
           }
          ],
          "scattergeo": [
           {
            "marker": {
             "colorbar": {
              "outlinewidth": 0,
              "ticks": ""
             }
            },
            "type": "scattergeo"
           }
          ],
          "scattergl": [
           {
            "marker": {
             "colorbar": {
              "outlinewidth": 0,
              "ticks": ""
             }
            },
            "type": "scattergl"
           }
          ],
          "scattermap": [
           {
            "marker": {
             "colorbar": {
              "outlinewidth": 0,
              "ticks": ""
             }
            },
            "type": "scattermap"
           }
          ],
          "scattermapbox": [
           {
            "marker": {
             "colorbar": {
              "outlinewidth": 0,
              "ticks": ""
             }
            },
            "type": "scattermapbox"
           }
          ],
          "scatterpolar": [
           {
            "marker": {
             "colorbar": {
              "outlinewidth": 0,
              "ticks": ""
             }
            },
            "type": "scatterpolar"
           }
          ],
          "scatterpolargl": [
           {
            "marker": {
             "colorbar": {
              "outlinewidth": 0,
              "ticks": ""
             }
            },
            "type": "scatterpolargl"
           }
          ],
          "scatterternary": [
           {
            "marker": {
             "colorbar": {
              "outlinewidth": 0,
              "ticks": ""
             }
            },
            "type": "scatterternary"
           }
          ],
          "surface": [
           {
            "colorbar": {
             "outlinewidth": 0,
             "ticks": ""
            },
            "colorscale": [
             [
              0,
              "#0d0887"
             ],
             [
              0.1111111111111111,
              "#46039f"
             ],
             [
              0.2222222222222222,
              "#7201a8"
             ],
             [
              0.3333333333333333,
              "#9c179e"
             ],
             [
              0.4444444444444444,
              "#bd3786"
             ],
             [
              0.5555555555555556,
              "#d8576b"
             ],
             [
              0.6666666666666666,
              "#ed7953"
             ],
             [
              0.7777777777777778,
              "#fb9f3a"
             ],
             [
              0.8888888888888888,
              "#fdca26"
             ],
             [
              1,
              "#f0f921"
             ]
            ],
            "type": "surface"
           }
          ],
          "table": [
           {
            "cells": {
             "fill": {
              "color": "#EBF0F8"
             },
             "line": {
              "color": "white"
             }
            },
            "header": {
             "fill": {
              "color": "#C8D4E3"
             },
             "line": {
              "color": "white"
             }
            },
            "type": "table"
           }
          ]
         },
         "layout": {
          "annotationdefaults": {
           "arrowcolor": "#2a3f5f",
           "arrowhead": 0,
           "arrowwidth": 1
          },
          "autotypenumbers": "strict",
          "coloraxis": {
           "colorbar": {
            "outlinewidth": 0,
            "ticks": ""
           }
          },
          "colorscale": {
           "diverging": [
            [
             0,
             "#8e0152"
            ],
            [
             0.1,
             "#c51b7d"
            ],
            [
             0.2,
             "#de77ae"
            ],
            [
             0.3,
             "#f1b6da"
            ],
            [
             0.4,
             "#fde0ef"
            ],
            [
             0.5,
             "#f7f7f7"
            ],
            [
             0.6,
             "#e6f5d0"
            ],
            [
             0.7,
             "#b8e186"
            ],
            [
             0.8,
             "#7fbc41"
            ],
            [
             0.9,
             "#4d9221"
            ],
            [
             1,
             "#276419"
            ]
           ],
           "sequential": [
            [
             0,
             "#0d0887"
            ],
            [
             0.1111111111111111,
             "#46039f"
            ],
            [
             0.2222222222222222,
             "#7201a8"
            ],
            [
             0.3333333333333333,
             "#9c179e"
            ],
            [
             0.4444444444444444,
             "#bd3786"
            ],
            [
             0.5555555555555556,
             "#d8576b"
            ],
            [
             0.6666666666666666,
             "#ed7953"
            ],
            [
             0.7777777777777778,
             "#fb9f3a"
            ],
            [
             0.8888888888888888,
             "#fdca26"
            ],
            [
             1,
             "#f0f921"
            ]
           ],
           "sequentialminus": [
            [
             0,
             "#0d0887"
            ],
            [
             0.1111111111111111,
             "#46039f"
            ],
            [
             0.2222222222222222,
             "#7201a8"
            ],
            [
             0.3333333333333333,
             "#9c179e"
            ],
            [
             0.4444444444444444,
             "#bd3786"
            ],
            [
             0.5555555555555556,
             "#d8576b"
            ],
            [
             0.6666666666666666,
             "#ed7953"
            ],
            [
             0.7777777777777778,
             "#fb9f3a"
            ],
            [
             0.8888888888888888,
             "#fdca26"
            ],
            [
             1,
             "#f0f921"
            ]
           ]
          },
          "colorway": [
           "#636efa",
           "#EF553B",
           "#00cc96",
           "#ab63fa",
           "#FFA15A",
           "#19d3f3",
           "#FF6692",
           "#B6E880",
           "#FF97FF",
           "#FECB52"
          ],
          "font": {
           "color": "#2a3f5f"
          },
          "geo": {
           "bgcolor": "white",
           "lakecolor": "white",
           "landcolor": "#E5ECF6",
           "showlakes": true,
           "showland": true,
           "subunitcolor": "white"
          },
          "hoverlabel": {
           "align": "left"
          },
          "hovermode": "closest",
          "mapbox": {
           "style": "light"
          },
          "paper_bgcolor": "white",
          "plot_bgcolor": "#E5ECF6",
          "polar": {
           "angularaxis": {
            "gridcolor": "white",
            "linecolor": "white",
            "ticks": ""
           },
           "bgcolor": "#E5ECF6",
           "radialaxis": {
            "gridcolor": "white",
            "linecolor": "white",
            "ticks": ""
           }
          },
          "scene": {
           "xaxis": {
            "backgroundcolor": "#E5ECF6",
            "gridcolor": "white",
            "gridwidth": 2,
            "linecolor": "white",
            "showbackground": true,
            "ticks": "",
            "zerolinecolor": "white"
           },
           "yaxis": {
            "backgroundcolor": "#E5ECF6",
            "gridcolor": "white",
            "gridwidth": 2,
            "linecolor": "white",
            "showbackground": true,
            "ticks": "",
            "zerolinecolor": "white"
           },
           "zaxis": {
            "backgroundcolor": "#E5ECF6",
            "gridcolor": "white",
            "gridwidth": 2,
            "linecolor": "white",
            "showbackground": true,
            "ticks": "",
            "zerolinecolor": "white"
           }
          },
          "shapedefaults": {
           "line": {
            "color": "#2a3f5f"
           }
          },
          "ternary": {
           "aaxis": {
            "gridcolor": "white",
            "linecolor": "white",
            "ticks": ""
           },
           "baxis": {
            "gridcolor": "white",
            "linecolor": "white",
            "ticks": ""
           },
           "bgcolor": "#E5ECF6",
           "caxis": {
            "gridcolor": "white",
            "linecolor": "white",
            "ticks": ""
           }
          },
          "title": {
           "x": 0.05
          },
          "xaxis": {
           "automargin": true,
           "gridcolor": "white",
           "linecolor": "white",
           "ticks": "",
           "title": {
            "standoff": 15
           },
           "zerolinecolor": "white",
           "zerolinewidth": 2
          },
          "yaxis": {
           "automargin": true,
           "gridcolor": "white",
           "linecolor": "white",
           "ticks": "",
           "title": {
            "standoff": 15
           },
           "zerolinecolor": "white",
           "zerolinewidth": 2
          }
         }
        },
        "title": {
         "text": "Comparaison between the different LLM phase"
        },
        "width": 500,
        "xaxis": {
         "anchor": "y",
         "domain": [
          0,
          1
         ],
         "title": {
          "text": "phase"
         }
        },
        "yaxis": {
         "anchor": "x",
         "domain": [
          0,
          1
         ],
         "title": {
          "text": "time in ms"
         },
         "type": "log"
        }
       }
      }
     },
     "metadata": {},
     "output_type": "display_data"
    }
   ],
   "source": [
    "import json\n",
    "import numpy as np\n",
    "import pandas as pd\n",
    "import plotly.express as px\n",
    "\n",
    "with open(file) as f:\n",
    "    data = json.load(f)\n",
    "\n",
    "encode = data[\"encode_time\"]\n",
    "sampling = np.sum(data[\"sampling\"])\n",
    "forward_global = np.sum(data[\"forward_instr\"][\"global_time\"])\n",
    "decode = np.sum(data[\"decode_time\"])\n",
    "\n",
    "df = pd.DataFrame({\n",
    "    \"phase\": [\"encode\", \"forward\",\"sampling\",\"decode\"],\n",
    "    \"time in ms\": [encode, forward_global,sampling, decode]\n",
    "})\n",
    "\n",
    "px.bar(df, x=\"phase\", y=\"time in ms\",title=\"Comparaison between the different LLM phase\",width=500, log_y=True)\n"
   ]
  },
  {
   "cell_type": "code",
   "execution_count": 5,
   "id": "6d8fb7f5",
   "metadata": {},
   "outputs": [
    {
     "data": {
      "application/vnd.plotly.v1+json": {
       "config": {
        "plotlyServerURL": "https://plot.ly"
       },
       "data": [
        {
         "hovertemplate": "type=forward_global<br>step=%{x}<br>time (ms)=%{y}<extra></extra>",
         "legendgroup": "forward_global",
         "line": {
          "color": "#636efa",
          "dash": "solid"
         },
         "marker": {
          "symbol": "circle"
         },
         "mode": "lines+markers",
         "name": "forward_global",
         "orientation": "v",
         "showlegend": true,
         "type": "scatter",
         "x": {
          "bdata": "AAABAAIAAwAEAAUABgAHAAgACQAKAAsADAANAA4ADwAQABEAEgATABQAFQAWABcAGAAZABoAGwAcAB0AHgAfACAAIQAiACMAJAAlACYAJwAoACkAKgArACwALQAuAC8AMAAxADIAMwA0ADUANgA3ADgAOQA6ADsAPAA9AD4APwBAAEEAQgBDAEQARQBGAEcASABJAEoASwBMAE0ATgBPAFAAUQBSAFMAVABVAFYAVwBYAFkAWgBbAFwAXQBeAF8AYABhAGIAYwBkAGUAZgBnAGgAaQBqAGsAbABtAG4AbwBwAHEAcgBzAHQAdQB2AHcAeAB5AHoAewB8AH0AfgB/AIAAgQCCAIMAhACFAIYAhwCIAIkAigCLAIwAjQCOAI8AkACRAJIAkwCUAJUAlgCXAJgAmQCaAJsAnACdAJ4AnwCgAKEAogCjAKQApQCmAKcAqACpAKoAqwCsAK0ArgCvALAAsQCyALMAtAC1ALYAtwC4ALkAugC7ALwAvQC+AL8AwADBAMIAwwDEAMUAxgDHAMgAyQDKAMsAzADNAM4AzwDQANEA0gDTANQA1QDWANcA2ADZANoA2wDcAN0A3gDfAOAA4QDiAOMA5ADlAOYA5wDoAOkA6gDrAOwA7QDuAO8A8ADxAPIA8wD0APUA9gD3APgA+QD6APsA/AD9AP4A/wA=",
          "dtype": "i2"
         },
         "xaxis": "x",
         "y": {
          "bdata": "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",
          "dtype": "f8"
         },
         "yaxis": "y"
        },
        {
         "hovertemplate": "type=sampling<br>step=%{x}<br>time (ms)=%{y}<extra></extra>",
         "legendgroup": "sampling",
         "line": {
          "color": "#EF553B",
          "dash": "solid"
         },
         "marker": {
          "symbol": "circle"
         },
         "mode": "lines+markers",
         "name": "sampling",
         "orientation": "v",
         "showlegend": true,
         "type": "scatter",
         "x": {
          "bdata": "AAABAAIAAwAEAAUABgAHAAgACQAKAAsADAANAA4ADwAQABEAEgATABQAFQAWABcAGAAZABoAGwAcAB0AHgAfACAAIQAiACMAJAAlACYAJwAoACkAKgArACwALQAuAC8AMAAxADIAMwA0ADUANgA3ADgAOQA6ADsAPAA9AD4APwBAAEEAQgBDAEQARQBGAEcASABJAEoASwBMAE0ATgBPAFAAUQBSAFMAVABVAFYAVwBYAFkAWgBbAFwAXQBeAF8AYABhAGIAYwBkAGUAZgBnAGgAaQBqAGsAbABtAG4AbwBwAHEAcgBzAHQAdQB2AHcAeAB5AHoAewB8AH0AfgB/AIAAgQCCAIMAhACFAIYAhwCIAIkAigCLAIwAjQCOAI8AkACRAJIAkwCUAJUAlgCXAJgAmQCaAJsAnACdAJ4AnwCgAKEAogCjAKQApQCmAKcAqACpAKoAqwCsAK0ArgCvALAAsQCyALMAtAC1ALYAtwC4ALkAugC7ALwAvQC+AL8AwADBAMIAwwDEAMUAxgDHAMgAyQDKAMsAzADNAM4AzwDQANEA0gDTANQA1QDWANcA2ADZANoA2wDcAN0A3gDfAOAA4QDiAOMA5ADlAOYA5wDoAOkA6gDrAOwA7QDuAO8A8ADxAPIA8wD0APUA9gD3APgA+QD6APsA/AD9AP4A/wA=",
          "dtype": "i2"
         },
         "xaxis": "x",
         "y": {
          "bdata": "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",
          "dtype": "f8"
         },
         "yaxis": "y"
        }
       ],
       "layout": {
        "legend": {
         "title": {
          "text": "type"
         },
         "tracegroupgap": 0
        },
        "template": {
         "data": {
          "bar": [
           {
            "error_x": {
             "color": "#2a3f5f"
            },
            "error_y": {
             "color": "#2a3f5f"
            },
            "marker": {
             "line": {
              "color": "#E5ECF6",
              "width": 0.5
             },
             "pattern": {
              "fillmode": "overlay",
              "size": 10,
              "solidity": 0.2
             }
            },
            "type": "bar"
           }
          ],
          "barpolar": [
           {
            "marker": {
             "line": {
              "color": "#E5ECF6",
              "width": 0.5
             },
             "pattern": {
              "fillmode": "overlay",
              "size": 10,
              "solidity": 0.2
             }
            },
            "type": "barpolar"
           }
          ],
          "carpet": [
           {
            "aaxis": {
             "endlinecolor": "#2a3f5f",
             "gridcolor": "white",
             "linecolor": "white",
             "minorgridcolor": "white",
             "startlinecolor": "#2a3f5f"
            },
            "baxis": {
             "endlinecolor": "#2a3f5f",
             "gridcolor": "white",
             "linecolor": "white",
             "minorgridcolor": "white",
             "startlinecolor": "#2a3f5f"
            },
            "type": "carpet"
           }
          ],
          "choropleth": [
           {
            "colorbar": {
             "outlinewidth": 0,
             "ticks": ""
            },
            "type": "choropleth"
           }
          ],
          "contour": [
           {
            "colorbar": {
             "outlinewidth": 0,
             "ticks": ""
            },
            "colorscale": [
             [
              0,
              "#0d0887"
             ],
             [
              0.1111111111111111,
              "#46039f"
             ],
             [
              0.2222222222222222,
              "#7201a8"
             ],
             [
              0.3333333333333333,
              "#9c179e"
             ],
             [
              0.4444444444444444,
              "#bd3786"
             ],
             [
              0.5555555555555556,
              "#d8576b"
             ],
             [
              0.6666666666666666,
              "#ed7953"
             ],
             [
              0.7777777777777778,
              "#fb9f3a"
             ],
             [
              0.8888888888888888,
              "#fdca26"
             ],
             [
              1,
              "#f0f921"
             ]
            ],
            "type": "contour"
           }
          ],
          "contourcarpet": [
           {
            "colorbar": {
             "outlinewidth": 0,
             "ticks": ""
            },
            "type": "contourcarpet"
           }
          ],
          "heatmap": [
           {
            "colorbar": {
             "outlinewidth": 0,
             "ticks": ""
            },
            "colorscale": [
             [
              0,
              "#0d0887"
             ],
             [
              0.1111111111111111,
              "#46039f"
             ],
             [
              0.2222222222222222,
              "#7201a8"
             ],
             [
              0.3333333333333333,
              "#9c179e"
             ],
             [
              0.4444444444444444,
              "#bd3786"
             ],
             [
              0.5555555555555556,
              "#d8576b"
             ],
             [
              0.6666666666666666,
              "#ed7953"
             ],
             [
              0.7777777777777778,
              "#fb9f3a"
             ],
             [
              0.8888888888888888,
              "#fdca26"
             ],
             [
              1,
              "#f0f921"
             ]
            ],
            "type": "heatmap"
           }
          ],
          "histogram": [
           {
            "marker": {
             "pattern": {
              "fillmode": "overlay",
              "size": 10,
              "solidity": 0.2
             }
            },
            "type": "histogram"
           }
          ],
          "histogram2d": [
           {
            "colorbar": {
             "outlinewidth": 0,
             "ticks": ""
            },
            "colorscale": [
             [
              0,
              "#0d0887"
             ],
             [
              0.1111111111111111,
              "#46039f"
             ],
             [
              0.2222222222222222,
              "#7201a8"
             ],
             [
              0.3333333333333333,
              "#9c179e"
             ],
             [
              0.4444444444444444,
              "#bd3786"
             ],
             [
              0.5555555555555556,
              "#d8576b"
             ],
             [
              0.6666666666666666,
              "#ed7953"
             ],
             [
              0.7777777777777778,
              "#fb9f3a"
             ],
             [
              0.8888888888888888,
              "#fdca26"
             ],
             [
              1,
              "#f0f921"
             ]
            ],
            "type": "histogram2d"
           }
          ],
          "histogram2dcontour": [
           {
            "colorbar": {
             "outlinewidth": 0,
             "ticks": ""
            },
            "colorscale": [
             [
              0,
              "#0d0887"
             ],
             [
              0.1111111111111111,
              "#46039f"
             ],
             [
              0.2222222222222222,
              "#7201a8"
             ],
             [
              0.3333333333333333,
              "#9c179e"
             ],
             [
              0.4444444444444444,
              "#bd3786"
             ],
             [
              0.5555555555555556,
              "#d8576b"
             ],
             [
              0.6666666666666666,
              "#ed7953"
             ],
             [
              0.7777777777777778,
              "#fb9f3a"
             ],
             [
              0.8888888888888888,
              "#fdca26"
             ],
             [
              1,
              "#f0f921"
             ]
            ],
            "type": "histogram2dcontour"
           }
          ],
          "mesh3d": [
           {
            "colorbar": {
             "outlinewidth": 0,
             "ticks": ""
            },
            "type": "mesh3d"
           }
          ],
          "parcoords": [
           {
            "line": {
             "colorbar": {
              "outlinewidth": 0,
              "ticks": ""
             }
            },
            "type": "parcoords"
           }
          ],
          "pie": [
           {
            "automargin": true,
            "type": "pie"
           }
          ],
          "scatter": [
           {
            "fillpattern": {
             "fillmode": "overlay",
             "size": 10,
             "solidity": 0.2
            },
            "type": "scatter"
           }
          ],
          "scatter3d": [
           {
            "line": {
             "colorbar": {
              "outlinewidth": 0,
              "ticks": ""
             }
            },
            "marker": {
             "colorbar": {
              "outlinewidth": 0,
              "ticks": ""
             }
            },
            "type": "scatter3d"
           }
          ],
          "scattercarpet": [
           {
            "marker": {
             "colorbar": {
              "outlinewidth": 0,
              "ticks": ""
             }
            },
            "type": "scattercarpet"
           }
          ],
          "scattergeo": [
           {
            "marker": {
             "colorbar": {
              "outlinewidth": 0,
              "ticks": ""
             }
            },
            "type": "scattergeo"
           }
          ],
          "scattergl": [
           {
            "marker": {
             "colorbar": {
              "outlinewidth": 0,
              "ticks": ""
             }
            },
            "type": "scattergl"
           }
          ],
          "scattermap": [
           {
            "marker": {
             "colorbar": {
              "outlinewidth": 0,
              "ticks": ""
             }
            },
            "type": "scattermap"
           }
          ],
          "scattermapbox": [
           {
            "marker": {
             "colorbar": {
              "outlinewidth": 0,
              "ticks": ""
             }
            },
            "type": "scattermapbox"
           }
          ],
          "scatterpolar": [
           {
            "marker": {
             "colorbar": {
              "outlinewidth": 0,
              "ticks": ""
             }
            },
            "type": "scatterpolar"
           }
          ],
          "scatterpolargl": [
           {
            "marker": {
             "colorbar": {
              "outlinewidth": 0,
              "ticks": ""
             }
            },
            "type": "scatterpolargl"
           }
          ],
          "scatterternary": [
           {
            "marker": {
             "colorbar": {
              "outlinewidth": 0,
              "ticks": ""
             }
            },
            "type": "scatterternary"
           }
          ],
          "surface": [
           {
            "colorbar": {
             "outlinewidth": 0,
             "ticks": ""
            },
            "colorscale": [
             [
              0,
              "#0d0887"
             ],
             [
              0.1111111111111111,
              "#46039f"
             ],
             [
              0.2222222222222222,
              "#7201a8"
             ],
             [
              0.3333333333333333,
              "#9c179e"
             ],
             [
              0.4444444444444444,
              "#bd3786"
             ],
             [
              0.5555555555555556,
              "#d8576b"
             ],
             [
              0.6666666666666666,
              "#ed7953"
             ],
             [
              0.7777777777777778,
              "#fb9f3a"
             ],
             [
              0.8888888888888888,
              "#fdca26"
             ],
             [
              1,
              "#f0f921"
             ]
            ],
            "type": "surface"
           }
          ],
          "table": [
           {
            "cells": {
             "fill": {
              "color": "#EBF0F8"
             },
             "line": {
              "color": "white"
             }
            },
            "header": {
             "fill": {
              "color": "#C8D4E3"
             },
             "line": {
              "color": "white"
             }
            },
            "type": "table"
           }
          ]
         },
         "layout": {
          "annotationdefaults": {
           "arrowcolor": "#2a3f5f",
           "arrowhead": 0,
           "arrowwidth": 1
          },
          "autotypenumbers": "strict",
          "coloraxis": {
           "colorbar": {
            "outlinewidth": 0,
            "ticks": ""
           }
          },
          "colorscale": {
           "diverging": [
            [
             0,
             "#8e0152"
            ],
            [
             0.1,
             "#c51b7d"
            ],
            [
             0.2,
             "#de77ae"
            ],
            [
             0.3,
             "#f1b6da"
            ],
            [
             0.4,
             "#fde0ef"
            ],
            [
             0.5,
             "#f7f7f7"
            ],
            [
             0.6,
             "#e6f5d0"
            ],
            [
             0.7,
             "#b8e186"
            ],
            [
             0.8,
             "#7fbc41"
            ],
            [
             0.9,
             "#4d9221"
            ],
            [
             1,
             "#276419"
            ]
           ],
           "sequential": [
            [
             0,
             "#0d0887"
            ],
            [
             0.1111111111111111,
             "#46039f"
            ],
            [
             0.2222222222222222,
             "#7201a8"
            ],
            [
             0.3333333333333333,
             "#9c179e"
            ],
            [
             0.4444444444444444,
             "#bd3786"
            ],
            [
             0.5555555555555556,
             "#d8576b"
            ],
            [
             0.6666666666666666,
             "#ed7953"
            ],
            [
             0.7777777777777778,
             "#fb9f3a"
            ],
            [
             0.8888888888888888,
             "#fdca26"
            ],
            [
             1,
             "#f0f921"
            ]
           ],
           "sequentialminus": [
            [
             0,
             "#0d0887"
            ],
            [
             0.1111111111111111,
             "#46039f"
            ],
            [
             0.2222222222222222,
             "#7201a8"
            ],
            [
             0.3333333333333333,
             "#9c179e"
            ],
            [
             0.4444444444444444,
             "#bd3786"
            ],
            [
             0.5555555555555556,
             "#d8576b"
            ],
            [
             0.6666666666666666,
             "#ed7953"
            ],
            [
             0.7777777777777778,
             "#fb9f3a"
            ],
            [
             0.8888888888888888,
             "#fdca26"
            ],
            [
             1,
             "#f0f921"
            ]
           ]
          },
          "colorway": [
           "#636efa",
           "#EF553B",
           "#00cc96",
           "#ab63fa",
           "#FFA15A",
           "#19d3f3",
           "#FF6692",
           "#B6E880",
           "#FF97FF",
           "#FECB52"
          ],
          "font": {
           "color": "#2a3f5f"
          },
          "geo": {
           "bgcolor": "white",
           "lakecolor": "white",
           "landcolor": "#E5ECF6",
           "showlakes": true,
           "showland": true,
           "subunitcolor": "white"
          },
          "hoverlabel": {
           "align": "left"
          },
          "hovermode": "closest",
          "mapbox": {
           "style": "light"
          },
          "paper_bgcolor": "white",
          "plot_bgcolor": "#E5ECF6",
          "polar": {
           "angularaxis": {
            "gridcolor": "white",
            "linecolor": "white",
            "ticks": ""
           },
           "bgcolor": "#E5ECF6",
           "radialaxis": {
            "gridcolor": "white",
            "linecolor": "white",
            "ticks": ""
           }
          },
          "scene": {
           "xaxis": {
            "backgroundcolor": "#E5ECF6",
            "gridcolor": "white",
            "gridwidth": 2,
            "linecolor": "white",
            "showbackground": true,
            "ticks": "",
            "zerolinecolor": "white"
           },
           "yaxis": {
            "backgroundcolor": "#E5ECF6",
            "gridcolor": "white",
            "gridwidth": 2,
            "linecolor": "white",
            "showbackground": true,
            "ticks": "",
            "zerolinecolor": "white"
           },
           "zaxis": {
            "backgroundcolor": "#E5ECF6",
            "gridcolor": "white",
            "gridwidth": 2,
            "linecolor": "white",
            "showbackground": true,
            "ticks": "",
            "zerolinecolor": "white"
           }
          },
          "shapedefaults": {
           "line": {
            "color": "#2a3f5f"
           }
          },
          "ternary": {
           "aaxis": {
            "gridcolor": "white",
            "linecolor": "white",
            "ticks": ""
           },
           "baxis": {
            "gridcolor": "white",
            "linecolor": "white",
            "ticks": ""
           },
           "bgcolor": "#E5ECF6",
           "caxis": {
            "gridcolor": "white",
            "linecolor": "white",
            "ticks": ""
           }
          },
          "title": {
           "x": 0.05
          },
          "xaxis": {
           "automargin": true,
           "gridcolor": "white",
           "linecolor": "white",
           "ticks": "",
           "title": {
            "standoff": 15
           },
           "zerolinecolor": "white",
           "zerolinewidth": 2
          },
          "yaxis": {
           "automargin": true,
           "gridcolor": "white",
           "linecolor": "white",
           "ticks": "",
           "title": {
            "standoff": 15
           },
           "zerolinecolor": "white",
           "zerolinewidth": 2
          }
         }
        },
        "title": {
         "text": "Forward global vs Sampling time per step"
        },
        "xaxis": {
         "anchor": "y",
         "domain": [
          0,
          1
         ],
         "title": {
          "text": "step"
         }
        },
        "yaxis": {
         "anchor": "x",
         "domain": [
          0,
          1
         ],
         "title": {
          "text": "time (ms)"
         }
        }
       }
      }
     },
     "metadata": {},
     "output_type": "display_data"
    }
   ],
   "source": [
    "import json\n",
    "import pandas as pd\n",
    "import plotly.express as px\n",
    "\n",
    "with open(file) as f:\n",
    "    data = json.load(f)\n",
    "\n",
    "global_time = data[\"forward_instr\"][\"multihead_time\"]\n",
    "sampling = data[\"sampling\"]\n",
    "\n",
    "df = pd.DataFrame({\n",
    "    \"step\": list(range(len(global_time))) + list(range(len(sampling))),\n",
    "    \"time\": global_time + sampling,\n",
    "    \"type\": [\"forward_global\"] * len(global_time) + [\"sampling\"] * len(sampling)\n",
    "})\n",
    "\n",
    "px.line(df, x=\"step\", y=\"time\", color=\"type\",log_y=False, markers=True, labels={\"time\": \"time (ms)\"}, title=\"Forward global vs Sampling time per step\")\n"
   ]
  },
  {
   "cell_type": "code",
   "execution_count": 6,
   "id": "14d458e1",
   "metadata": {},
   "outputs": [
    {
     "data": {
      "application/vnd.plotly.v1+json": {
       "config": {
        "plotlyServerURL": "https://plot.ly"
       },
       "data": [
        {
         "alignmentgroup": "True",
         "hovertemplate": "phase=%{x}<br>time (in ms)=%{y}<extra></extra>",
         "legendgroup": "",
         "marker": {
          "color": "#636efa"
         },
         "name": "",
         "notched": false,
         "offsetgroup": "",
         "orientation": "v",
         "showlegend": false,
         "type": "box",
         "x": [
          "rmsnorm_first_time",
          "rmsnorm_first_time",
          "rmsnorm_first_time",
          "rmsnorm_first_time",
          "rmsnorm_first_time",
          "rmsnorm_first_time",
          "rmsnorm_first_time",
          "rmsnorm_first_time",
          "rmsnorm_first_time",
          "rmsnorm_first_time",
          "rmsnorm_first_time",
          "rmsnorm_first_time",
          "rmsnorm_first_time",
          "rmsnorm_first_time",
          "rmsnorm_first_time",
          "rmsnorm_first_time",
          "rmsnorm_first_time",
          "rmsnorm_first_time",
          "rmsnorm_first_time",
          "rmsnorm_first_time",
          "rmsnorm_first_time",
          "rmsnorm_first_time",
          "rmsnorm_first_time",
          "rmsnorm_first_time",
          "rmsnorm_first_time",
          "rmsnorm_first_time",
          "rmsnorm_first_time",
          "rmsnorm_first_time",
          "rmsnorm_first_time",
          "rmsnorm_first_time",
          "rmsnorm_first_time",
          "rmsnorm_first_time",
          "rmsnorm_first_time",
          "rmsnorm_first_time",
          "rmsnorm_first_time",
          "rmsnorm_first_time",
          "rmsnorm_first_time",
          "rmsnorm_first_time",
          "rmsnorm_first_time",
          "rmsnorm_first_time",
          "rmsnorm_first_time",
          "rmsnorm_first_time",
          "rmsnorm_first_time",
          "rmsnorm_first_time",
          "rmsnorm_first_time",
          "rmsnorm_first_time",
          "rmsnorm_first_time",
          "rmsnorm_first_time",
          "rmsnorm_first_time",
          "rmsnorm_first_time",
          "rmsnorm_first_time",
          "rmsnorm_first_time",
          "rmsnorm_first_time",
          "rmsnorm_first_time",
          "rmsnorm_first_time",
          "rmsnorm_first_time",
          "rmsnorm_first_time",
          "rmsnorm_first_time",
          "rmsnorm_first_time",
          "rmsnorm_first_time",
          "rmsnorm_first_time",
          "rmsnorm_first_time",
          "rmsnorm_first_time",
          "rmsnorm_first_time",
          "rmsnorm_first_time",
          "rmsnorm_first_time",
          "rmsnorm_first_time",
          "rmsnorm_first_time",
          "rmsnorm_first_time",
          "rmsnorm_first_time",
          "rmsnorm_first_time",
          "rmsnorm_first_time",
          "rmsnorm_first_time",
          "rmsnorm_first_time",
          "rmsnorm_first_time",
          "rmsnorm_first_time",
          "rmsnorm_first_time",
          "rmsnorm_first_time",
          "rmsnorm_first_time",
          "rmsnorm_first_time",
          "rmsnorm_first_time",
          "rmsnorm_first_time",
          "rmsnorm_first_time",
          "rmsnorm_first_time",
          "rmsnorm_first_time",
          "rmsnorm_first_time",
          "rmsnorm_first_time",
          "rmsnorm_first_time",
          "rmsnorm_first_time",
          "rmsnorm_first_time",
          "rmsnorm_first_time",
          "rmsnorm_first_time",
          "rmsnorm_first_time",
          "rmsnorm_first_time",
          "rmsnorm_first_time",
          "rmsnorm_first_time",
          "rmsnorm_first_time",
          "rmsnorm_first_time",
          "rmsnorm_first_time",
          "rmsnorm_first_time",
          "rmsnorm_first_time",
          "rmsnorm_first_time",
          "rmsnorm_first_time",
          "rmsnorm_first_time",
          "rmsnorm_first_time",
          "rmsnorm_first_time",
          "rmsnorm_first_time",
          "rmsnorm_first_time",
          "rmsnorm_first_time",
          "rmsnorm_first_time",
          "rmsnorm_first_time",
          "rmsnorm_first_time",
          "rmsnorm_first_time",
          "rmsnorm_first_time",
          "rmsnorm_first_time",
          "rmsnorm_first_time",
          "rmsnorm_first_time",
          "rmsnorm_first_time",
          "rmsnorm_first_time",
          "rmsnorm_first_time",
          "rmsnorm_first_time",
          "rmsnorm_first_time",
          "rmsnorm_first_time",
          "rmsnorm_first_time",
          "rmsnorm_first_time",
          "rmsnorm_first_time",
          "rmsnorm_first_time",
          "rmsnorm_first_time",
          "rmsnorm_first_time",
          "rmsnorm_first_time",
          "rmsnorm_first_time",
          "rmsnorm_first_time",
          "rmsnorm_first_time",
          "rmsnorm_first_time",
          "rmsnorm_first_time",
          "rmsnorm_first_time",
          "rmsnorm_first_time",
          "rmsnorm_first_time",
          "rmsnorm_first_time",
          "rmsnorm_first_time",
          "rmsnorm_first_time",
          "rmsnorm_first_time",
          "rmsnorm_first_time",
          "rmsnorm_first_time",
          "rmsnorm_first_time",
          "rmsnorm_first_time",
          "rmsnorm_first_time",
          "rmsnorm_first_time",
          "rmsnorm_first_time",
          "rmsnorm_first_time",
          "rmsnorm_first_time",
          "rmsnorm_first_time",
          "rmsnorm_first_time",
          "rmsnorm_first_time",
          "rmsnorm_first_time",
          "rmsnorm_first_time",
          "rmsnorm_first_time",
          "matmul_qkv_time",
          "matmul_qkv_time",
          "matmul_qkv_time",
          "matmul_qkv_time",
          "matmul_qkv_time",
          "matmul_qkv_time",
          "matmul_qkv_time",
          "matmul_qkv_time",
          "matmul_qkv_time",
          "matmul_qkv_time",
          "matmul_qkv_time",
          "matmul_qkv_time",
          "matmul_qkv_time",
          "matmul_qkv_time",
          "matmul_qkv_time",
          "matmul_qkv_time",
          "matmul_qkv_time",
          "matmul_qkv_time",
          "matmul_qkv_time",
          "matmul_qkv_time",
          "matmul_qkv_time",
          "matmul_qkv_time",
          "matmul_qkv_time",
          "matmul_qkv_time",
          "matmul_qkv_time",
          "matmul_qkv_time",
          "matmul_qkv_time",
          "matmul_qkv_time",
          "matmul_qkv_time",
          "matmul_qkv_time",
          "matmul_qkv_time",
          "matmul_qkv_time",
          "matmul_qkv_time",
          "matmul_qkv_time",
          "matmul_qkv_time",
          "matmul_qkv_time",
          "matmul_qkv_time",
          "matmul_qkv_time",
          "matmul_qkv_time",
          "matmul_qkv_time",
          "matmul_qkv_time",
          "matmul_qkv_time",
          "matmul_qkv_time",
          "matmul_qkv_time",
          "matmul_qkv_time",
          "matmul_qkv_time",
          "matmul_qkv_time",
          "matmul_qkv_time",
          "matmul_qkv_time",
          "matmul_qkv_time",
          "matmul_qkv_time",
          "matmul_qkv_time",
          "matmul_qkv_time",
          "matmul_qkv_time",
          "matmul_qkv_time",
          "matmul_qkv_time",
          "matmul_qkv_time",
          "matmul_qkv_time",
          "matmul_qkv_time",
          "matmul_qkv_time",
          "matmul_qkv_time",
          "matmul_qkv_time",
          "matmul_qkv_time",
          "matmul_qkv_time",
          "matmul_qkv_time",
          "matmul_qkv_time",
          "matmul_qkv_time",
          "matmul_qkv_time",
          "matmul_qkv_time",
          "matmul_qkv_time",
          "matmul_qkv_time",
          "matmul_qkv_time",
          "matmul_qkv_time",
          "matmul_qkv_time",
          "matmul_qkv_time",
          "matmul_qkv_time",
          "matmul_qkv_time",
          "matmul_qkv_time",
          "matmul_qkv_time",
          "matmul_qkv_time",
          "matmul_qkv_time",
          "matmul_qkv_time",
          "matmul_qkv_time",
          "matmul_qkv_time",
          "matmul_qkv_time",
          "matmul_qkv_time",
          "matmul_qkv_time",
          "matmul_qkv_time",
          "matmul_qkv_time",
          "matmul_qkv_time",
          "matmul_qkv_time",
          "matmul_qkv_time",
          "matmul_qkv_time",
          "matmul_qkv_time",
          "matmul_qkv_time",
          "matmul_qkv_time",
          "matmul_qkv_time",
          "matmul_qkv_time",
          "matmul_qkv_time",
          "matmul_qkv_time",
          "matmul_qkv_time",
          "matmul_qkv_time",
          "matmul_qkv_time",
          "matmul_qkv_time",
          "matmul_qkv_time",
          "matmul_qkv_time",
          "matmul_qkv_time",
          "matmul_qkv_time",
          "matmul_qkv_time",
          "matmul_qkv_time",
          "matmul_qkv_time",
          "matmul_qkv_time",
          "matmul_qkv_time",
          "matmul_qkv_time",
          "matmul_qkv_time",
          "matmul_qkv_time",
          "matmul_qkv_time",
          "matmul_qkv_time",
          "matmul_qkv_time",
          "matmul_qkv_time",
          "matmul_qkv_time",
          "matmul_qkv_time",
          "matmul_qkv_time",
          "matmul_qkv_time",
          "matmul_qkv_time",
          "matmul_qkv_time",
          "matmul_qkv_time",
          "matmul_qkv_time",
          "matmul_qkv_time",
          "matmul_qkv_time",
          "matmul_qkv_time",
          "matmul_qkv_time",
          "matmul_qkv_time",
          "matmul_qkv_time",
          "matmul_qkv_time",
          "matmul_qkv_time",
          "matmul_qkv_time",
          "matmul_qkv_time",
          "matmul_qkv_time",
          "matmul_qkv_time",
          "matmul_qkv_time",
          "matmul_qkv_time",
          "matmul_qkv_time",
          "matmul_qkv_time",
          "matmul_qkv_time",
          "matmul_qkv_time",
          "matmul_qkv_time",
          "matmul_qkv_time",
          "matmul_qkv_time",
          "matmul_qkv_time",
          "matmul_qkv_time",
          "matmul_qkv_time",
          "matmul_qkv_time",
          "matmul_qkv_time",
          "matmul_qkv_time",
          "matmul_qkv_time",
          "matmul_qkv_time",
          "matmul_qkv_time",
          "matmul_qkv_time",
          "matmul_qkv_time",
          "matmul_qkv_time",
          "matmul_qkv_time",
          "matmul_qkv_time",
          "matmul_qkv_time",
          "matmul_qkv_time",
          "matmul_qkv_time",
          "matmul_qkv_time",
          "matmul_qkv_time",
          "matmul_qkv_time",
          "matmul_qkv_time",
          "matmul_qkv_time",
          "matmul_qkv_time",
          "rope_time",
          "rope_time",
          "rope_time",
          "rope_time",
          "rope_time",
          "rope_time",
          "rope_time",
          "rope_time",
          "rope_time",
          "rope_time",
          "rope_time",
          "rope_time",
          "rope_time",
          "rope_time",
          "rope_time",
          "rope_time",
          "rope_time",
          "rope_time",
          "rope_time",
          "rope_time",
          "rope_time",
          "rope_time",
          "rope_time",
          "rope_time",
          "rope_time",
          "rope_time",
          "rope_time",
          "rope_time",
          "rope_time",
          "rope_time",
          "rope_time",
          "rope_time",
          "rope_time",
          "rope_time",
          "rope_time",
          "rope_time",
          "rope_time",
          "rope_time",
          "rope_time",
          "rope_time",
          "rope_time",
          "rope_time",
          "rope_time",
          "rope_time",
          "rope_time",
          "rope_time",
          "rope_time",
          "rope_time",
          "rope_time",
          "rope_time",
          "rope_time",
          "rope_time",
          "rope_time",
          "rope_time",
          "rope_time",
          "rope_time",
          "rope_time",
          "rope_time",
          "rope_time",
          "rope_time",
          "rope_time",
          "rope_time",
          "rope_time",
          "rope_time",
          "rope_time",
          "rope_time",
          "rope_time",
          "rope_time",
          "rope_time",
          "rope_time",
          "rope_time",
          "rope_time",
          "rope_time",
          "rope_time",
          "rope_time",
          "rope_time",
          "rope_time",
          "rope_time",
          "rope_time",
          "rope_time",
          "rope_time",
          "rope_time",
          "rope_time",
          "rope_time",
          "rope_time",
          "rope_time",
          "rope_time",
          "rope_time",
          "rope_time",
          "rope_time",
          "rope_time",
          "rope_time",
          "rope_time",
          "rope_time",
          "rope_time",
          "rope_time",
          "rope_time",
          "rope_time",
          "rope_time",
          "rope_time",
          "rope_time",
          "rope_time",
          "rope_time",
          "rope_time",
          "rope_time",
          "rope_time",
          "rope_time",
          "rope_time",
          "rope_time",
          "rope_time",
          "rope_time",
          "rope_time",
          "rope_time",
          "rope_time",
          "rope_time",
          "rope_time",
          "rope_time",
          "rope_time",
          "rope_time",
          "rope_time",
          "rope_time",
          "rope_time",
          "rope_time",
          "rope_time",
          "rope_time",
          "rope_time",
          "rope_time",
          "rope_time",
          "rope_time",
          "rope_time",
          "rope_time",
          "rope_time",
          "rope_time",
          "rope_time",
          "rope_time",
          "rope_time",
          "rope_time",
          "rope_time",
          "rope_time",
          "rope_time",
          "rope_time",
          "rope_time",
          "rope_time",
          "rope_time",
          "rope_time",
          "rope_time",
          "rope_time",
          "rope_time",
          "rope_time",
          "rope_time",
          "rope_time",
          "rope_time",
          "rope_time",
          "rope_time",
          "rope_time",
          "rope_time",
          "rope_time",
          "rope_time",
          "rope_time",
          "rope_time",
          "rope_time",
          "rope_time",
          "rope_time",
          "rope_time",
          "rope_time",
          "rope_time",
          "rope_time",
          "rope_time",
          "rope_time",
          "rope_time",
          "rope_time",
          "rope_time",
          "multihead_time",
          "multihead_time",
          "multihead_time",
          "multihead_time",
          "multihead_time",
          "multihead_time",
          "multihead_time",
          "multihead_time",
          "multihead_time",
          "multihead_time",
          "multihead_time",
          "multihead_time",
          "multihead_time",
          "multihead_time",
          "multihead_time",
          "multihead_time",
          "multihead_time",
          "multihead_time",
          "multihead_time",
          "multihead_time",
          "multihead_time",
          "multihead_time",
          "multihead_time",
          "multihead_time",
          "multihead_time",
          "multihead_time",
          "multihead_time",
          "multihead_time",
          "multihead_time",
          "multihead_time",
          "multihead_time",
          "multihead_time",
          "multihead_time",
          "multihead_time",
          "multihead_time",
          "multihead_time",
          "multihead_time",
          "multihead_time",
          "multihead_time",
          "multihead_time",
          "multihead_time",
          "multihead_time",
          "multihead_time",
          "multihead_time",
          "multihead_time",
          "multihead_time",
          "multihead_time",
          "multihead_time",
          "multihead_time",
          "multihead_time",
          "multihead_time",
          "multihead_time",
          "multihead_time",
          "multihead_time",
          "multihead_time",
          "multihead_time",
          "multihead_time",
          "multihead_time",
          "multihead_time",
          "multihead_time",
          "multihead_time",
          "multihead_time",
          "multihead_time",
          "multihead_time",
          "multihead_time",
          "multihead_time",
          "multihead_time",
          "multihead_time",
          "multihead_time",
          "multihead_time",
          "multihead_time",
          "multihead_time",
          "multihead_time",
          "multihead_time",
          "multihead_time",
          "multihead_time",
          "multihead_time",
          "multihead_time",
          "multihead_time",
          "multihead_time",
          "multihead_time",
          "multihead_time",
          "multihead_time",
          "multihead_time",
          "multihead_time",
          "multihead_time",
          "multihead_time",
          "multihead_time",
          "multihead_time",
          "multihead_time",
          "multihead_time",
          "multihead_time",
          "multihead_time",
          "multihead_time",
          "multihead_time",
          "multihead_time",
          "multihead_time",
          "multihead_time",
          "multihead_time",
          "multihead_time",
          "multihead_time",
          "multihead_time",
          "multihead_time",
          "multihead_time",
          "multihead_time",
          "multihead_time",
          "multihead_time",
          "multihead_time",
          "multihead_time",
          "multihead_time",
          "multihead_time",
          "multihead_time",
          "multihead_time",
          "multihead_time",
          "multihead_time",
          "multihead_time",
          "multihead_time",
          "multihead_time",
          "multihead_time",
          "multihead_time",
          "multihead_time",
          "multihead_time",
          "multihead_time",
          "multihead_time",
          "multihead_time",
          "multihead_time",
          "multihead_time",
          "multihead_time",
          "multihead_time",
          "multihead_time",
          "multihead_time",
          "multihead_time",
          "multihead_time",
          "multihead_time",
          "multihead_time",
          "multihead_time",
          "multihead_time",
          "multihead_time",
          "multihead_time",
          "multihead_time",
          "multihead_time",
          "multihead_time",
          "multihead_time",
          "multihead_time",
          "multihead_time",
          "multihead_time",
          "multihead_time",
          "multihead_time",
          "multihead_time",
          "multihead_time",
          "multihead_time",
          "multihead_time",
          "multihead_time",
          "multihead_time",
          "multihead_time",
          "multihead_time",
          "multihead_time",
          "multihead_time",
          "multihead_time",
          "multihead_time",
          "multihead_time",
          "multihead_time",
          "multihead_time",
          "multihead_time",
          "multihead_time",
          "multihead_time",
          "multihead_time",
          "multihead_time",
          "multihead_time",
          "multihead_time",
          "multihead_time",
          "multihead_time",
          "matmul_output_attention_time",
          "matmul_output_attention_time",
          "matmul_output_attention_time",
          "matmul_output_attention_time",
          "matmul_output_attention_time",
          "matmul_output_attention_time",
          "matmul_output_attention_time",
          "matmul_output_attention_time",
          "matmul_output_attention_time",
          "matmul_output_attention_time",
          "matmul_output_attention_time",
          "matmul_output_attention_time",
          "matmul_output_attention_time",
          "matmul_output_attention_time",
          "matmul_output_attention_time",
          "matmul_output_attention_time",
          "matmul_output_attention_time",
          "matmul_output_attention_time",
          "matmul_output_attention_time",
          "matmul_output_attention_time",
          "matmul_output_attention_time",
          "matmul_output_attention_time",
          "matmul_output_attention_time",
          "matmul_output_attention_time",
          "matmul_output_attention_time",
          "matmul_output_attention_time",
          "matmul_output_attention_time",
          "matmul_output_attention_time",
          "matmul_output_attention_time",
          "matmul_output_attention_time",
          "matmul_output_attention_time",
          "matmul_output_attention_time",
          "matmul_output_attention_time",
          "matmul_output_attention_time",
          "matmul_output_attention_time",
          "matmul_output_attention_time",
          "matmul_output_attention_time",
          "matmul_output_attention_time",
          "matmul_output_attention_time",
          "matmul_output_attention_time",
          "matmul_output_attention_time",
          "matmul_output_attention_time",
          "matmul_output_attention_time",
          "matmul_output_attention_time",
          "matmul_output_attention_time",
          "matmul_output_attention_time",
          "matmul_output_attention_time",
          "matmul_output_attention_time",
          "matmul_output_attention_time",
          "matmul_output_attention_time",
          "matmul_output_attention_time",
          "matmul_output_attention_time",
          "matmul_output_attention_time",
          "matmul_output_attention_time",
          "matmul_output_attention_time",
          "matmul_output_attention_time",
          "matmul_output_attention_time",
          "matmul_output_attention_time",
          "matmul_output_attention_time",
          "matmul_output_attention_time",
          "matmul_output_attention_time",
          "matmul_output_attention_time",
          "matmul_output_attention_time",
          "matmul_output_attention_time",
          "matmul_output_attention_time",
          "matmul_output_attention_time",
          "matmul_output_attention_time",
          "matmul_output_attention_time",
          "matmul_output_attention_time",
          "matmul_output_attention_time",
          "matmul_output_attention_time",
          "matmul_output_attention_time",
          "matmul_output_attention_time",
          "matmul_output_attention_time",
          "matmul_output_attention_time",
          "matmul_output_attention_time",
          "matmul_output_attention_time",
          "matmul_output_attention_time",
          "matmul_output_attention_time",
          "matmul_output_attention_time",
          "matmul_output_attention_time",
          "matmul_output_attention_time",
          "matmul_output_attention_time",
          "matmul_output_attention_time",
          "matmul_output_attention_time",
          "matmul_output_attention_time",
          "matmul_output_attention_time",
          "matmul_output_attention_time",
          "matmul_output_attention_time",
          "matmul_output_attention_time",
          "matmul_output_attention_time",
          "matmul_output_attention_time",
          "matmul_output_attention_time",
          "matmul_output_attention_time",
          "matmul_output_attention_time",
          "matmul_output_attention_time",
          "matmul_output_attention_time",
          "matmul_output_attention_time",
          "matmul_output_attention_time",
          "matmul_output_attention_time",
          "matmul_output_attention_time",
          "matmul_output_attention_time",
          "matmul_output_attention_time",
          "matmul_output_attention_time",
          "matmul_output_attention_time",
          "matmul_output_attention_time",
          "matmul_output_attention_time",
          "matmul_output_attention_time",
          "matmul_output_attention_time",
          "matmul_output_attention_time",
          "matmul_output_attention_time",
          "matmul_output_attention_time",
          "matmul_output_attention_time",
          "matmul_output_attention_time",
          "matmul_output_attention_time",
          "matmul_output_attention_time",
          "matmul_output_attention_time",
          "matmul_output_attention_time",
          "matmul_output_attention_time",
          "matmul_output_attention_time",
          "matmul_output_attention_time",
          "matmul_output_attention_time",
          "matmul_output_attention_time",
          "matmul_output_attention_time",
          "matmul_output_attention_time",
          "matmul_output_attention_time",
          "matmul_output_attention_time",
          "matmul_output_attention_time",
          "matmul_output_attention_time",
          "matmul_output_attention_time",
          "matmul_output_attention_time",
          "matmul_output_attention_time",
          "matmul_output_attention_time",
          "matmul_output_attention_time",
          "matmul_output_attention_time",
          "matmul_output_attention_time",
          "matmul_output_attention_time",
          "matmul_output_attention_time",
          "matmul_output_attention_time",
          "matmul_output_attention_time",
          "matmul_output_attention_time",
          "matmul_output_attention_time",
          "matmul_output_attention_time",
          "matmul_output_attention_time",
          "matmul_output_attention_time",
          "matmul_output_attention_time",
          "matmul_output_attention_time",
          "matmul_output_attention_time",
          "matmul_output_attention_time",
          "matmul_output_attention_time",
          "matmul_output_attention_time",
          "matmul_output_attention_time",
          "matmul_output_attention_time",
          "matmul_output_attention_time",
          "matmul_output_attention_time",
          "matmul_output_attention_time",
          "matmul_output_attention_time",
          "matmul_output_attention_time",
          "matmul_output_attention_time",
          "matmul_output_attention_time",
          "matmul_output_attention_time",
          "matmul_output_attention_time",
          "matmul_output_attention_time",
          "matmul_output_attention_time",
          "matmul_output_attention_time",
          "matmul_output_attention_time",
          "matmul_output_attention_time",
          "matmul_output_attention_time",
          "matmul_output_attention_time",
          "matmul_output_attention_time",
          "matmul_output_attention_time",
          "matmul_output_attention_time",
          "FFN_rmsnorm_time",
          "FFN_rmsnorm_time",
          "FFN_rmsnorm_time",
          "FFN_rmsnorm_time",
          "FFN_rmsnorm_time",
          "FFN_rmsnorm_time",
          "FFN_rmsnorm_time",
          "FFN_rmsnorm_time",
          "FFN_rmsnorm_time",
          "FFN_rmsnorm_time",
          "FFN_rmsnorm_time",
          "FFN_rmsnorm_time",
          "FFN_rmsnorm_time",
          "FFN_rmsnorm_time",
          "FFN_rmsnorm_time",
          "FFN_rmsnorm_time",
          "FFN_rmsnorm_time",
          "FFN_rmsnorm_time",
          "FFN_rmsnorm_time",
          "FFN_rmsnorm_time",
          "FFN_rmsnorm_time",
          "FFN_rmsnorm_time",
          "FFN_rmsnorm_time",
          "FFN_rmsnorm_time",
          "FFN_rmsnorm_time",
          "FFN_rmsnorm_time",
          "FFN_rmsnorm_time",
          "FFN_rmsnorm_time",
          "FFN_rmsnorm_time",
          "FFN_rmsnorm_time",
          "FFN_rmsnorm_time",
          "FFN_rmsnorm_time",
          "FFN_rmsnorm_time",
          "FFN_rmsnorm_time",
          "FFN_rmsnorm_time",
          "FFN_rmsnorm_time",
          "FFN_rmsnorm_time",
          "FFN_rmsnorm_time",
          "FFN_rmsnorm_time",
          "FFN_rmsnorm_time",
          "FFN_rmsnorm_time",
          "FFN_rmsnorm_time",
          "FFN_rmsnorm_time",
          "FFN_rmsnorm_time",
          "FFN_rmsnorm_time",
          "FFN_rmsnorm_time",
          "FFN_rmsnorm_time",
          "FFN_rmsnorm_time",
          "FFN_rmsnorm_time",
          "FFN_rmsnorm_time",
          "FFN_rmsnorm_time",
          "FFN_rmsnorm_time",
          "FFN_rmsnorm_time",
          "FFN_rmsnorm_time",
          "FFN_rmsnorm_time",
          "FFN_rmsnorm_time",
          "FFN_rmsnorm_time",
          "FFN_rmsnorm_time",
          "FFN_rmsnorm_time",
          "FFN_rmsnorm_time",
          "FFN_rmsnorm_time",
          "FFN_rmsnorm_time",
          "FFN_rmsnorm_time",
          "FFN_rmsnorm_time",
          "FFN_rmsnorm_time",
          "FFN_rmsnorm_time",
          "FFN_rmsnorm_time",
          "FFN_rmsnorm_time",
          "FFN_rmsnorm_time",
          "FFN_rmsnorm_time",
          "FFN_rmsnorm_time",
          "FFN_rmsnorm_time",
          "FFN_rmsnorm_time",
          "FFN_rmsnorm_time",
          "FFN_rmsnorm_time",
          "FFN_rmsnorm_time",
          "FFN_rmsnorm_time",
          "FFN_rmsnorm_time",
          "FFN_rmsnorm_time",
          "FFN_rmsnorm_time",
          "FFN_rmsnorm_time",
          "FFN_rmsnorm_time",
          "FFN_rmsnorm_time",
          "FFN_rmsnorm_time",
          "FFN_rmsnorm_time",
          "FFN_rmsnorm_time",
          "FFN_rmsnorm_time",
          "FFN_rmsnorm_time",
          "FFN_rmsnorm_time",
          "FFN_rmsnorm_time",
          "FFN_rmsnorm_time",
          "FFN_rmsnorm_time",
          "FFN_rmsnorm_time",
          "FFN_rmsnorm_time",
          "FFN_rmsnorm_time",
          "FFN_rmsnorm_time",
          "FFN_rmsnorm_time",
          "FFN_rmsnorm_time",
          "FFN_rmsnorm_time",
          "FFN_rmsnorm_time",
          "FFN_rmsnorm_time",
          "FFN_rmsnorm_time",
          "FFN_rmsnorm_time",
          "FFN_rmsnorm_time",
          "FFN_rmsnorm_time",
          "FFN_rmsnorm_time",
          "FFN_rmsnorm_time",
          "FFN_rmsnorm_time",
          "FFN_rmsnorm_time",
          "FFN_rmsnorm_time",
          "FFN_rmsnorm_time",
          "FFN_rmsnorm_time",
          "FFN_rmsnorm_time",
          "FFN_rmsnorm_time",
          "FFN_rmsnorm_time",
          "FFN_rmsnorm_time",
          "FFN_rmsnorm_time",
          "FFN_rmsnorm_time",
          "FFN_rmsnorm_time",
          "FFN_rmsnorm_time",
          "FFN_rmsnorm_time",
          "FFN_rmsnorm_time",
          "FFN_rmsnorm_time",
          "FFN_rmsnorm_time",
          "FFN_rmsnorm_time",
          "FFN_rmsnorm_time",
          "FFN_rmsnorm_time",
          "FFN_rmsnorm_time",
          "FFN_rmsnorm_time",
          "FFN_rmsnorm_time",
          "FFN_rmsnorm_time",
          "FFN_rmsnorm_time",
          "FFN_rmsnorm_time",
          "FFN_rmsnorm_time",
          "FFN_rmsnorm_time",
          "FFN_rmsnorm_time",
          "FFN_rmsnorm_time",
          "FFN_rmsnorm_time",
          "FFN_rmsnorm_time",
          "FFN_rmsnorm_time",
          "FFN_rmsnorm_time",
          "FFN_rmsnorm_time",
          "FFN_rmsnorm_time",
          "FFN_rmsnorm_time",
          "FFN_rmsnorm_time",
          "FFN_rmsnorm_time",
          "FFN_rmsnorm_time",
          "FFN_rmsnorm_time",
          "FFN_rmsnorm_time",
          "FFN_rmsnorm_time",
          "FFN_rmsnorm_time",
          "FFN_rmsnorm_time",
          "FFN_rmsnorm_time",
          "FFN_rmsnorm_time",
          "matmul_FFN_time",
          "matmul_FFN_time",
          "matmul_FFN_time",
          "matmul_FFN_time",
          "matmul_FFN_time",
          "matmul_FFN_time",
          "matmul_FFN_time",
          "matmul_FFN_time",
          "matmul_FFN_time",
          "matmul_FFN_time",
          "matmul_FFN_time",
          "matmul_FFN_time",
          "matmul_FFN_time",
          "matmul_FFN_time",
          "matmul_FFN_time",
          "matmul_FFN_time",
          "matmul_FFN_time",
          "matmul_FFN_time",
          "matmul_FFN_time",
          "matmul_FFN_time",
          "matmul_FFN_time",
          "matmul_FFN_time",
          "matmul_FFN_time",
          "matmul_FFN_time",
          "matmul_FFN_time",
          "matmul_FFN_time",
          "matmul_FFN_time",
          "matmul_FFN_time",
          "matmul_FFN_time",
          "matmul_FFN_time",
          "matmul_FFN_time",
          "matmul_FFN_time",
          "matmul_FFN_time",
          "matmul_FFN_time",
          "matmul_FFN_time",
          "matmul_FFN_time",
          "matmul_FFN_time",
          "matmul_FFN_time",
          "matmul_FFN_time",
          "matmul_FFN_time",
          "matmul_FFN_time",
          "matmul_FFN_time",
          "matmul_FFN_time",
          "matmul_FFN_time",
          "matmul_FFN_time",
          "matmul_FFN_time",
          "matmul_FFN_time",
          "matmul_FFN_time",
          "matmul_FFN_time",
          "matmul_FFN_time",
          "matmul_FFN_time",
          "matmul_FFN_time",
          "matmul_FFN_time",
          "matmul_FFN_time",
          "matmul_FFN_time",
          "matmul_FFN_time",
          "matmul_FFN_time",
          "matmul_FFN_time",
          "matmul_FFN_time",
          "matmul_FFN_time",
          "matmul_FFN_time",
          "matmul_FFN_time",
          "matmul_FFN_time",
          "matmul_FFN_time",
          "matmul_FFN_time",
          "matmul_FFN_time",
          "matmul_FFN_time",
          "matmul_FFN_time",
          "matmul_FFN_time",
          "matmul_FFN_time",
          "matmul_FFN_time",
          "matmul_FFN_time",
          "matmul_FFN_time",
          "matmul_FFN_time",
          "matmul_FFN_time",
          "matmul_FFN_time",
          "matmul_FFN_time",
          "matmul_FFN_time",
          "matmul_FFN_time",
          "matmul_FFN_time",
          "matmul_FFN_time",
          "matmul_FFN_time",
          "matmul_FFN_time",
          "matmul_FFN_time",
          "matmul_FFN_time",
          "matmul_FFN_time",
          "matmul_FFN_time",
          "matmul_FFN_time",
          "matmul_FFN_time",
          "matmul_FFN_time",
          "matmul_FFN_time",
          "matmul_FFN_time",
          "matmul_FFN_time",
          "matmul_FFN_time",
          "matmul_FFN_time",
          "matmul_FFN_time",
          "matmul_FFN_time",
          "matmul_FFN_time",
          "matmul_FFN_time",
          "matmul_FFN_time",
          "matmul_FFN_time",
          "matmul_FFN_time",
          "matmul_FFN_time",
          "matmul_FFN_time",
          "matmul_FFN_time",
          "matmul_FFN_time",
          "matmul_FFN_time",
          "matmul_FFN_time",
          "matmul_FFN_time",
          "matmul_FFN_time",
          "matmul_FFN_time",
          "matmul_FFN_time",
          "matmul_FFN_time",
          "matmul_FFN_time",
          "matmul_FFN_time",
          "matmul_FFN_time",
          "matmul_FFN_time",
          "matmul_FFN_time",
          "matmul_FFN_time",
          "matmul_FFN_time",
          "matmul_FFN_time",
          "matmul_FFN_time",
          "matmul_FFN_time",
          "matmul_FFN_time",
          "matmul_FFN_time",
          "matmul_FFN_time",
          "matmul_FFN_time",
          "matmul_FFN_time",
          "matmul_FFN_time",
          "matmul_FFN_time",
          "matmul_FFN_time",
          "matmul_FFN_time",
          "matmul_FFN_time",
          "matmul_FFN_time",
          "matmul_FFN_time",
          "matmul_FFN_time",
          "matmul_FFN_time",
          "matmul_FFN_time",
          "matmul_FFN_time",
          "matmul_FFN_time",
          "matmul_FFN_time",
          "matmul_FFN_time",
          "matmul_FFN_time",
          "matmul_FFN_time",
          "matmul_FFN_time",
          "matmul_FFN_time",
          "matmul_FFN_time",
          "matmul_FFN_time",
          "matmul_FFN_time",
          "matmul_FFN_time",
          "matmul_FFN_time",
          "matmul_FFN_time",
          "matmul_FFN_time",
          "matmul_FFN_time",
          "matmul_FFN_time",
          "matmul_FFN_time",
          "matmul_FFN_time",
          "matmul_FFN_time",
          "matmul_FFN_time",
          "matmul_FFN_time",
          "matmul_FFN_time",
          "matmul_FFN_time",
          "matmul_FFN_time",
          "matmul_FFN_time",
          "matmul_FFN_time",
          "matmul_FFN_time",
          "matmul_FFN_time",
          "matmul_FFN_time",
          "matmul_FFN_time",
          "matmul_FFN_time",
          "matmul_FFN_time",
          "matmul_FFN_time",
          "swiGLU_time",
          "swiGLU_time",
          "swiGLU_time",
          "swiGLU_time",
          "swiGLU_time",
          "swiGLU_time",
          "swiGLU_time",
          "swiGLU_time",
          "swiGLU_time",
          "swiGLU_time",
          "swiGLU_time",
          "swiGLU_time",
          "swiGLU_time",
          "swiGLU_time",
          "swiGLU_time",
          "swiGLU_time",
          "swiGLU_time",
          "swiGLU_time",
          "swiGLU_time",
          "swiGLU_time",
          "swiGLU_time",
          "swiGLU_time",
          "swiGLU_time",
          "swiGLU_time",
          "swiGLU_time",
          "swiGLU_time",
          "swiGLU_time",
          "swiGLU_time",
          "swiGLU_time",
          "swiGLU_time",
          "swiGLU_time",
          "swiGLU_time",
          "swiGLU_time",
          "swiGLU_time",
          "swiGLU_time",
          "swiGLU_time",
          "swiGLU_time",
          "swiGLU_time",
          "swiGLU_time",
          "swiGLU_time",
          "swiGLU_time",
          "swiGLU_time",
          "swiGLU_time",
          "swiGLU_time",
          "swiGLU_time",
          "swiGLU_time",
          "swiGLU_time",
          "swiGLU_time",
          "swiGLU_time",
          "swiGLU_time",
          "swiGLU_time",
          "swiGLU_time",
          "swiGLU_time",
          "swiGLU_time",
          "swiGLU_time",
          "swiGLU_time",
          "swiGLU_time",
          "swiGLU_time",
          "swiGLU_time",
          "swiGLU_time",
          "swiGLU_time",
          "swiGLU_time",
          "swiGLU_time",
          "swiGLU_time",
          "swiGLU_time",
          "swiGLU_time",
          "swiGLU_time",
          "swiGLU_time",
          "swiGLU_time",
          "swiGLU_time",
          "swiGLU_time",
          "swiGLU_time",
          "swiGLU_time",
          "swiGLU_time",
          "swiGLU_time",
          "swiGLU_time",
          "swiGLU_time",
          "swiGLU_time",
          "swiGLU_time",
          "swiGLU_time",
          "swiGLU_time",
          "swiGLU_time",
          "swiGLU_time",
          "swiGLU_time",
          "swiGLU_time",
          "swiGLU_time",
          "swiGLU_time",
          "swiGLU_time",
          "swiGLU_time",
          "swiGLU_time",
          "swiGLU_time",
          "swiGLU_time",
          "swiGLU_time",
          "swiGLU_time",
          "swiGLU_time",
          "swiGLU_time",
          "swiGLU_time",
          "swiGLU_time",
          "swiGLU_time",
          "swiGLU_time",
          "swiGLU_time",
          "swiGLU_time",
          "swiGLU_time",
          "swiGLU_time",
          "swiGLU_time",
          "swiGLU_time",
          "swiGLU_time",
          "swiGLU_time",
          "swiGLU_time",
          "swiGLU_time",
          "swiGLU_time",
          "swiGLU_time",
          "swiGLU_time",
          "swiGLU_time",
          "swiGLU_time",
          "swiGLU_time",
          "swiGLU_time",
          "swiGLU_time",
          "swiGLU_time",
          "swiGLU_time",
          "swiGLU_time",
          "swiGLU_time",
          "swiGLU_time",
          "swiGLU_time",
          "swiGLU_time",
          "swiGLU_time",
          "swiGLU_time",
          "swiGLU_time",
          "swiGLU_time",
          "swiGLU_time",
          "swiGLU_time",
          "swiGLU_time",
          "swiGLU_time",
          "swiGLU_time",
          "swiGLU_time",
          "swiGLU_time",
          "swiGLU_time",
          "swiGLU_time",
          "swiGLU_time",
          "swiGLU_time",
          "swiGLU_time",
          "swiGLU_time",
          "swiGLU_time",
          "swiGLU_time",
          "swiGLU_time",
          "swiGLU_time",
          "swiGLU_time",
          "swiGLU_time",
          "swiGLU_time",
          "swiGLU_time",
          "swiGLU_time",
          "swiGLU_time",
          "swiGLU_time",
          "swiGLU_time",
          "swiGLU_time",
          "swiGLU_time",
          "swiGLU_time",
          "swiGLU_time",
          "swiGLU_time",
          "swiGLU_time",
          "swiGLU_time",
          "swiGLU_time",
          "swiGLU_time",
          "swiGLU_time",
          "swiGLU_time",
          "swiGLU_time",
          "swiGLU_time",
          "swiGLU_time",
          "swiGLU_time",
          "swiGLU_time",
          "swiGLU_time",
          "swiGLU_time",
          "matmul_output_FFN_time",
          "matmul_output_FFN_time",
          "matmul_output_FFN_time",
          "matmul_output_FFN_time",
          "matmul_output_FFN_time",
          "matmul_output_FFN_time",
          "matmul_output_FFN_time",
          "matmul_output_FFN_time",
          "matmul_output_FFN_time",
          "matmul_output_FFN_time",
          "matmul_output_FFN_time",
          "matmul_output_FFN_time",
          "matmul_output_FFN_time",
          "matmul_output_FFN_time",
          "matmul_output_FFN_time",
          "matmul_output_FFN_time",
          "matmul_output_FFN_time",
          "matmul_output_FFN_time",
          "matmul_output_FFN_time",
          "matmul_output_FFN_time",
          "matmul_output_FFN_time",
          "matmul_output_FFN_time",
          "matmul_output_FFN_time",
          "matmul_output_FFN_time",
          "matmul_output_FFN_time",
          "matmul_output_FFN_time",
          "matmul_output_FFN_time",
          "matmul_output_FFN_time",
          "matmul_output_FFN_time",
          "matmul_output_FFN_time",
          "matmul_output_FFN_time",
          "matmul_output_FFN_time",
          "matmul_output_FFN_time",
          "matmul_output_FFN_time",
          "matmul_output_FFN_time",
          "matmul_output_FFN_time",
          "matmul_output_FFN_time",
          "matmul_output_FFN_time",
          "matmul_output_FFN_time",
          "matmul_output_FFN_time",
          "matmul_output_FFN_time",
          "matmul_output_FFN_time",
          "matmul_output_FFN_time",
          "matmul_output_FFN_time",
          "matmul_output_FFN_time",
          "matmul_output_FFN_time",
          "matmul_output_FFN_time",
          "matmul_output_FFN_time",
          "matmul_output_FFN_time",
          "matmul_output_FFN_time",
          "matmul_output_FFN_time",
          "matmul_output_FFN_time",
          "matmul_output_FFN_time",
          "matmul_output_FFN_time",
          "matmul_output_FFN_time",
          "matmul_output_FFN_time",
          "matmul_output_FFN_time",
          "matmul_output_FFN_time",
          "matmul_output_FFN_time",
          "matmul_output_FFN_time",
          "matmul_output_FFN_time",
          "matmul_output_FFN_time",
          "matmul_output_FFN_time",
          "matmul_output_FFN_time",
          "matmul_output_FFN_time",
          "matmul_output_FFN_time",
          "matmul_output_FFN_time",
          "matmul_output_FFN_time",
          "matmul_output_FFN_time",
          "matmul_output_FFN_time",
          "matmul_output_FFN_time",
          "matmul_output_FFN_time",
          "matmul_output_FFN_time",
          "matmul_output_FFN_time",
          "matmul_output_FFN_time",
          "matmul_output_FFN_time",
          "matmul_output_FFN_time",
          "matmul_output_FFN_time",
          "matmul_output_FFN_time",
          "matmul_output_FFN_time",
          "matmul_output_FFN_time",
          "matmul_output_FFN_time",
          "matmul_output_FFN_time",
          "matmul_output_FFN_time",
          "matmul_output_FFN_time",
          "matmul_output_FFN_time",
          "matmul_output_FFN_time",
          "matmul_output_FFN_time",
          "matmul_output_FFN_time",
          "matmul_output_FFN_time",
          "matmul_output_FFN_time",
          "matmul_output_FFN_time",
          "matmul_output_FFN_time",
          "matmul_output_FFN_time",
          "matmul_output_FFN_time",
          "matmul_output_FFN_time",
          "matmul_output_FFN_time",
          "matmul_output_FFN_time",
          "matmul_output_FFN_time",
          "matmul_output_FFN_time",
          "matmul_output_FFN_time",
          "matmul_output_FFN_time",
          "matmul_output_FFN_time",
          "matmul_output_FFN_time",
          "matmul_output_FFN_time",
          "matmul_output_FFN_time",
          "matmul_output_FFN_time",
          "matmul_output_FFN_time",
          "matmul_output_FFN_time",
          "matmul_output_FFN_time",
          "matmul_output_FFN_time",
          "matmul_output_FFN_time",
          "matmul_output_FFN_time",
          "matmul_output_FFN_time",
          "matmul_output_FFN_time",
          "matmul_output_FFN_time",
          "matmul_output_FFN_time",
          "matmul_output_FFN_time",
          "matmul_output_FFN_time",
          "matmul_output_FFN_time",
          "matmul_output_FFN_time",
          "matmul_output_FFN_time",
          "matmul_output_FFN_time",
          "matmul_output_FFN_time",
          "matmul_output_FFN_time",
          "matmul_output_FFN_time",
          "matmul_output_FFN_time",
          "matmul_output_FFN_time",
          "matmul_output_FFN_time",
          "matmul_output_FFN_time",
          "matmul_output_FFN_time",
          "matmul_output_FFN_time",
          "matmul_output_FFN_time",
          "matmul_output_FFN_time",
          "matmul_output_FFN_time",
          "matmul_output_FFN_time",
          "matmul_output_FFN_time",
          "matmul_output_FFN_time",
          "matmul_output_FFN_time",
          "matmul_output_FFN_time",
          "matmul_output_FFN_time",
          "matmul_output_FFN_time",
          "matmul_output_FFN_time",
          "matmul_output_FFN_time",
          "matmul_output_FFN_time",
          "matmul_output_FFN_time",
          "matmul_output_FFN_time",
          "matmul_output_FFN_time",
          "matmul_output_FFN_time",
          "matmul_output_FFN_time",
          "matmul_output_FFN_time",
          "matmul_output_FFN_time",
          "matmul_output_FFN_time",
          "matmul_output_FFN_time",
          "matmul_output_FFN_time",
          "matmul_output_FFN_time",
          "matmul_output_FFN_time",
          "matmul_output_FFN_time",
          "matmul_output_FFN_time",
          "matmul_output_FFN_time",
          "matmul_output_FFN_time",
          "matmul_output_FFN_time",
          "matmul_output_FFN_time",
          "matmul_output_FFN_time",
          "matmul_output_FFN_time",
          "matmul_output_FFN_time",
          "matmul_output_FFN_time",
          "matmul_output_FFN_time",
          "matmul_output_FFN_time",
          "matmul_output_FFN_time",
          "matmul_output_FFN_time",
          "matmul_output_FFN_time",
          "rmsnorm_final_time",
          "rmsnorm_final_time",
          "rmsnorm_final_time",
          "rmsnorm_final_time",
          "rmsnorm_final_time",
          "rmsnorm_final_time",
          "rmsnorm_final_time",
          "rmsnorm_final_time",
          "rmsnorm_final_time",
          "rmsnorm_final_time",
          "rmsnorm_final_time",
          "rmsnorm_final_time",
          "rmsnorm_final_time",
          "rmsnorm_final_time",
          "rmsnorm_final_time",
          "rmsnorm_final_time",
          "rmsnorm_final_time",
          "rmsnorm_final_time",
          "rmsnorm_final_time",
          "rmsnorm_final_time",
          "rmsnorm_final_time",
          "rmsnorm_final_time",
          "rmsnorm_final_time",
          "rmsnorm_final_time",
          "rmsnorm_final_time",
          "rmsnorm_final_time",
          "rmsnorm_final_time",
          "rmsnorm_final_time",
          "rmsnorm_final_time",
          "rmsnorm_final_time",
          "rmsnorm_final_time",
          "rmsnorm_final_time",
          "rmsnorm_final_time",
          "rmsnorm_final_time",
          "rmsnorm_final_time",
          "rmsnorm_final_time",
          "rmsnorm_final_time",
          "rmsnorm_final_time",
          "rmsnorm_final_time",
          "rmsnorm_final_time",
          "rmsnorm_final_time",
          "rmsnorm_final_time",
          "rmsnorm_final_time",
          "rmsnorm_final_time",
          "rmsnorm_final_time",
          "rmsnorm_final_time",
          "rmsnorm_final_time",
          "rmsnorm_final_time",
          "rmsnorm_final_time",
          "rmsnorm_final_time",
          "rmsnorm_final_time",
          "rmsnorm_final_time",
          "rmsnorm_final_time",
          "rmsnorm_final_time",
          "rmsnorm_final_time",
          "rmsnorm_final_time",
          "rmsnorm_final_time",
          "rmsnorm_final_time",
          "rmsnorm_final_time",
          "rmsnorm_final_time",
          "rmsnorm_final_time",
          "rmsnorm_final_time",
          "rmsnorm_final_time",
          "rmsnorm_final_time",
          "matmul_logits_time",
          "matmul_logits_time",
          "matmul_logits_time",
          "matmul_logits_time",
          "matmul_logits_time",
          "matmul_logits_time",
          "matmul_logits_time",
          "matmul_logits_time",
          "matmul_logits_time",
          "matmul_logits_time",
          "matmul_logits_time",
          "matmul_logits_time",
          "matmul_logits_time",
          "matmul_logits_time",
          "matmul_logits_time",
          "matmul_logits_time",
          "matmul_logits_time",
          "matmul_logits_time",
          "matmul_logits_time",
          "matmul_logits_time",
          "matmul_logits_time",
          "matmul_logits_time",
          "matmul_logits_time",
          "matmul_logits_time",
          "matmul_logits_time",
          "matmul_logits_time",
          "matmul_logits_time",
          "matmul_logits_time",
          "matmul_logits_time",
          "matmul_logits_time",
          "matmul_logits_time",
          "matmul_logits_time",
          "matmul_logits_time",
          "matmul_logits_time",
          "matmul_logits_time",
          "matmul_logits_time",
          "matmul_logits_time",
          "matmul_logits_time",
          "matmul_logits_time",
          "matmul_logits_time",
          "matmul_logits_time",
          "matmul_logits_time",
          "matmul_logits_time",
          "matmul_logits_time",
          "matmul_logits_time",
          "matmul_logits_time",
          "matmul_logits_time",
          "matmul_logits_time",
          "matmul_logits_time",
          "matmul_logits_time",
          "matmul_logits_time",
          "matmul_logits_time",
          "matmul_logits_time",
          "matmul_logits_time",
          "matmul_logits_time",
          "matmul_logits_time",
          "matmul_logits_time",
          "matmul_logits_time",
          "matmul_logits_time",
          "matmul_logits_time",
          "matmul_logits_time",
          "matmul_logits_time",
          "matmul_logits_time",
          "matmul_logits_time",
          "matmul_logits_time",
          "matmul_logits_time",
          "matmul_logits_time",
          "matmul_logits_time",
          "matmul_logits_time",
          "matmul_logits_time",
          "matmul_logits_time",
          "matmul_logits_time",
          "matmul_logits_time",
          "matmul_logits_time",
          "matmul_logits_time",
          "matmul_logits_time",
          "matmul_logits_time",
          "matmul_logits_time",
          "matmul_logits_time",
          "matmul_logits_time",
          "matmul_logits_time",
          "matmul_logits_time",
          "matmul_logits_time",
          "matmul_logits_time",
          "matmul_logits_time",
          "matmul_logits_time",
          "matmul_logits_time",
          "matmul_logits_time",
          "matmul_logits_time",
          "matmul_logits_time",
          "matmul_logits_time",
          "matmul_logits_time",
          "matmul_logits_time",
          "matmul_logits_time",
          "matmul_logits_time",
          "matmul_logits_time",
          "matmul_logits_time",
          "matmul_logits_time",
          "matmul_logits_time",
          "matmul_logits_time",
          "matmul_logits_time",
          "matmul_logits_time",
          "matmul_logits_time",
          "matmul_logits_time",
          "matmul_logits_time",
          "matmul_logits_time",
          "matmul_logits_time",
          "matmul_logits_time",
          "matmul_logits_time",
          "matmul_logits_time",
          "matmul_logits_time",
          "matmul_logits_time",
          "matmul_logits_time",
          "matmul_logits_time",
          "matmul_logits_time",
          "matmul_logits_time",
          "matmul_logits_time",
          "matmul_logits_time",
          "matmul_logits_time",
          "matmul_logits_time",
          "matmul_logits_time",
          "matmul_logits_time",
          "matmul_logits_time",
          "matmul_logits_time",
          "matmul_logits_time",
          "matmul_logits_time",
          "matmul_logits_time",
          "matmul_logits_time",
          "matmul_logits_time",
          "matmul_logits_time",
          "matmul_logits_time",
          "matmul_logits_time",
          "matmul_logits_time",
          "matmul_logits_time",
          "matmul_logits_time",
          "matmul_logits_time",
          "matmul_logits_time",
          "matmul_logits_time",
          "matmul_logits_time",
          "matmul_logits_time",
          "matmul_logits_time",
          "matmul_logits_time",
          "matmul_logits_time",
          "matmul_logits_time",
          "matmul_logits_time",
          "matmul_logits_time",
          "matmul_logits_time",
          "matmul_logits_time",
          "matmul_logits_time",
          "matmul_logits_time",
          "matmul_logits_time",
          "matmul_logits_time",
          "matmul_logits_time",
          "matmul_logits_time",
          "matmul_logits_time",
          "matmul_logits_time",
          "matmul_logits_time",
          "matmul_logits_time",
          "matmul_logits_time",
          "matmul_logits_time",
          "matmul_logits_time",
          "matmul_logits_time",
          "matmul_logits_time",
          "matmul_logits_time",
          "matmul_logits_time",
          "matmul_logits_time",
          "matmul_logits_time",
          "matmul_logits_time",
          "matmul_logits_time",
          "matmul_logits_time",
          "matmul_logits_time",
          "matmul_logits_time"
         ],
         "x0": " ",
         "xaxis": "x",
         "y": {
          "bdata": "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",
          "dtype": "f8"
         },
         "y0": " ",
         "yaxis": "y"
        }
       ],
       "layout": {
        "boxmode": "group",
        "legend": {
         "tracegroupgap": 0
        },
        "template": {
         "data": {
          "bar": [
           {
            "error_x": {
             "color": "#2a3f5f"
            },
            "error_y": {
             "color": "#2a3f5f"
            },
            "marker": {
             "line": {
              "color": "#E5ECF6",
              "width": 0.5
             },
             "pattern": {
              "fillmode": "overlay",
              "size": 10,
              "solidity": 0.2
             }
            },
            "type": "bar"
           }
          ],
          "barpolar": [
           {
            "marker": {
             "line": {
              "color": "#E5ECF6",
              "width": 0.5
             },
             "pattern": {
              "fillmode": "overlay",
              "size": 10,
              "solidity": 0.2
             }
            },
            "type": "barpolar"
           }
          ],
          "carpet": [
           {
            "aaxis": {
             "endlinecolor": "#2a3f5f",
             "gridcolor": "white",
             "linecolor": "white",
             "minorgridcolor": "white",
             "startlinecolor": "#2a3f5f"
            },
            "baxis": {
             "endlinecolor": "#2a3f5f",
             "gridcolor": "white",
             "linecolor": "white",
             "minorgridcolor": "white",
             "startlinecolor": "#2a3f5f"
            },
            "type": "carpet"
           }
          ],
          "choropleth": [
           {
            "colorbar": {
             "outlinewidth": 0,
             "ticks": ""
            },
            "type": "choropleth"
           }
          ],
          "contour": [
           {
            "colorbar": {
             "outlinewidth": 0,
             "ticks": ""
            },
            "colorscale": [
             [
              0,
              "#0d0887"
             ],
             [
              0.1111111111111111,
              "#46039f"
             ],
             [
              0.2222222222222222,
              "#7201a8"
             ],
             [
              0.3333333333333333,
              "#9c179e"
             ],
             [
              0.4444444444444444,
              "#bd3786"
             ],
             [
              0.5555555555555556,
              "#d8576b"
             ],
             [
              0.6666666666666666,
              "#ed7953"
             ],
             [
              0.7777777777777778,
              "#fb9f3a"
             ],
             [
              0.8888888888888888,
              "#fdca26"
             ],
             [
              1,
              "#f0f921"
             ]
            ],
            "type": "contour"
           }
          ],
          "contourcarpet": [
           {
            "colorbar": {
             "outlinewidth": 0,
             "ticks": ""
            },
            "type": "contourcarpet"
           }
          ],
          "heatmap": [
           {
            "colorbar": {
             "outlinewidth": 0,
             "ticks": ""
            },
            "colorscale": [
             [
              0,
              "#0d0887"
             ],
             [
              0.1111111111111111,
              "#46039f"
             ],
             [
              0.2222222222222222,
              "#7201a8"
             ],
             [
              0.3333333333333333,
              "#9c179e"
             ],
             [
              0.4444444444444444,
              "#bd3786"
             ],
             [
              0.5555555555555556,
              "#d8576b"
             ],
             [
              0.6666666666666666,
              "#ed7953"
             ],
             [
              0.7777777777777778,
              "#fb9f3a"
             ],
             [
              0.8888888888888888,
              "#fdca26"
             ],
             [
              1,
              "#f0f921"
             ]
            ],
            "type": "heatmap"
           }
          ],
          "histogram": [
           {
            "marker": {
             "pattern": {
              "fillmode": "overlay",
              "size": 10,
              "solidity": 0.2
             }
            },
            "type": "histogram"
           }
          ],
          "histogram2d": [
           {
            "colorbar": {
             "outlinewidth": 0,
             "ticks": ""
            },
            "colorscale": [
             [
              0,
              "#0d0887"
             ],
             [
              0.1111111111111111,
              "#46039f"
             ],
             [
              0.2222222222222222,
              "#7201a8"
             ],
             [
              0.3333333333333333,
              "#9c179e"
             ],
             [
              0.4444444444444444,
              "#bd3786"
             ],
             [
              0.5555555555555556,
              "#d8576b"
             ],
             [
              0.6666666666666666,
              "#ed7953"
             ],
             [
              0.7777777777777778,
              "#fb9f3a"
             ],
             [
              0.8888888888888888,
              "#fdca26"
             ],
             [
              1,
              "#f0f921"
             ]
            ],
            "type": "histogram2d"
           }
          ],
          "histogram2dcontour": [
           {
            "colorbar": {
             "outlinewidth": 0,
             "ticks": ""
            },
            "colorscale": [
             [
              0,
              "#0d0887"
             ],
             [
              0.1111111111111111,
              "#46039f"
             ],
             [
              0.2222222222222222,
              "#7201a8"
             ],
             [
              0.3333333333333333,
              "#9c179e"
             ],
             [
              0.4444444444444444,
              "#bd3786"
             ],
             [
              0.5555555555555556,
              "#d8576b"
             ],
             [
              0.6666666666666666,
              "#ed7953"
             ],
             [
              0.7777777777777778,
              "#fb9f3a"
             ],
             [
              0.8888888888888888,
              "#fdca26"
             ],
             [
              1,
              "#f0f921"
             ]
            ],
            "type": "histogram2dcontour"
           }
          ],
          "mesh3d": [
           {
            "colorbar": {
             "outlinewidth": 0,
             "ticks": ""
            },
            "type": "mesh3d"
           }
          ],
          "parcoords": [
           {
            "line": {
             "colorbar": {
              "outlinewidth": 0,
              "ticks": ""
             }
            },
            "type": "parcoords"
           }
          ],
          "pie": [
           {
            "automargin": true,
            "type": "pie"
           }
          ],
          "scatter": [
           {
            "fillpattern": {
             "fillmode": "overlay",
             "size": 10,
             "solidity": 0.2
            },
            "type": "scatter"
           }
          ],
          "scatter3d": [
           {
            "line": {
             "colorbar": {
              "outlinewidth": 0,
              "ticks": ""
             }
            },
            "marker": {
             "colorbar": {
              "outlinewidth": 0,
              "ticks": ""
             }
            },
            "type": "scatter3d"
           }
          ],
          "scattercarpet": [
           {
            "marker": {
             "colorbar": {
              "outlinewidth": 0,
              "ticks": ""
             }
            },
            "type": "scattercarpet"
           }
          ],
          "scattergeo": [
           {
            "marker": {
             "colorbar": {
              "outlinewidth": 0,
              "ticks": ""
             }
            },
            "type": "scattergeo"
           }
          ],
          "scattergl": [
           {
            "marker": {
             "colorbar": {
              "outlinewidth": 0,
              "ticks": ""
             }
            },
            "type": "scattergl"
           }
          ],
          "scattermap": [
           {
            "marker": {
             "colorbar": {
              "outlinewidth": 0,
              "ticks": ""
             }
            },
            "type": "scattermap"
           }
          ],
          "scattermapbox": [
           {
            "marker": {
             "colorbar": {
              "outlinewidth": 0,
              "ticks": ""
             }
            },
            "type": "scattermapbox"
           }
          ],
          "scatterpolar": [
           {
            "marker": {
             "colorbar": {
              "outlinewidth": 0,
              "ticks": ""
             }
            },
            "type": "scatterpolar"
           }
          ],
          "scatterpolargl": [
           {
            "marker": {
             "colorbar": {
              "outlinewidth": 0,
              "ticks": ""
             }
            },
            "type": "scatterpolargl"
           }
          ],
          "scatterternary": [
           {
            "marker": {
             "colorbar": {
              "outlinewidth": 0,
              "ticks": ""
             }
            },
            "type": "scatterternary"
           }
          ],
          "surface": [
           {
            "colorbar": {
             "outlinewidth": 0,
             "ticks": ""
            },
            "colorscale": [
             [
              0,
              "#0d0887"
             ],
             [
              0.1111111111111111,
              "#46039f"
             ],
             [
              0.2222222222222222,
              "#7201a8"
             ],
             [
              0.3333333333333333,
              "#9c179e"
             ],
             [
              0.4444444444444444,
              "#bd3786"
             ],
             [
              0.5555555555555556,
              "#d8576b"
             ],
             [
              0.6666666666666666,
              "#ed7953"
             ],
             [
              0.7777777777777778,
              "#fb9f3a"
             ],
             [
              0.8888888888888888,
              "#fdca26"
             ],
             [
              1,
              "#f0f921"
             ]
            ],
            "type": "surface"
           }
          ],
          "table": [
           {
            "cells": {
             "fill": {
              "color": "#EBF0F8"
             },
             "line": {
              "color": "white"
             }
            },
            "header": {
             "fill": {
              "color": "#C8D4E3"
             },
             "line": {
              "color": "white"
             }
            },
            "type": "table"
           }
          ]
         },
         "layout": {
          "annotationdefaults": {
           "arrowcolor": "#2a3f5f",
           "arrowhead": 0,
           "arrowwidth": 1
          },
          "autotypenumbers": "strict",
          "coloraxis": {
           "colorbar": {
            "outlinewidth": 0,
            "ticks": ""
           }
          },
          "colorscale": {
           "diverging": [
            [
             0,
             "#8e0152"
            ],
            [
             0.1,
             "#c51b7d"
            ],
            [
             0.2,
             "#de77ae"
            ],
            [
             0.3,
             "#f1b6da"
            ],
            [
             0.4,
             "#fde0ef"
            ],
            [
             0.5,
             "#f7f7f7"
            ],
            [
             0.6,
             "#e6f5d0"
            ],
            [
             0.7,
             "#b8e186"
            ],
            [
             0.8,
             "#7fbc41"
            ],
            [
             0.9,
             "#4d9221"
            ],
            [
             1,
             "#276419"
            ]
           ],
           "sequential": [
            [
             0,
             "#0d0887"
            ],
            [
             0.1111111111111111,
             "#46039f"
            ],
            [
             0.2222222222222222,
             "#7201a8"
            ],
            [
             0.3333333333333333,
             "#9c179e"
            ],
            [
             0.4444444444444444,
             "#bd3786"
            ],
            [
             0.5555555555555556,
             "#d8576b"
            ],
            [
             0.6666666666666666,
             "#ed7953"
            ],
            [
             0.7777777777777778,
             "#fb9f3a"
            ],
            [
             0.8888888888888888,
             "#fdca26"
            ],
            [
             1,
             "#f0f921"
            ]
           ],
           "sequentialminus": [
            [
             0,
             "#0d0887"
            ],
            [
             0.1111111111111111,
             "#46039f"
            ],
            [
             0.2222222222222222,
             "#7201a8"
            ],
            [
             0.3333333333333333,
             "#9c179e"
            ],
            [
             0.4444444444444444,
             "#bd3786"
            ],
            [
             0.5555555555555556,
             "#d8576b"
            ],
            [
             0.6666666666666666,
             "#ed7953"
            ],
            [
             0.7777777777777778,
             "#fb9f3a"
            ],
            [
             0.8888888888888888,
             "#fdca26"
            ],
            [
             1,
             "#f0f921"
            ]
           ]
          },
          "colorway": [
           "#636efa",
           "#EF553B",
           "#00cc96",
           "#ab63fa",
           "#FFA15A",
           "#19d3f3",
           "#FF6692",
           "#B6E880",
           "#FF97FF",
           "#FECB52"
          ],
          "font": {
           "color": "#2a3f5f"
          },
          "geo": {
           "bgcolor": "white",
           "lakecolor": "white",
           "landcolor": "#E5ECF6",
           "showlakes": true,
           "showland": true,
           "subunitcolor": "white"
          },
          "hoverlabel": {
           "align": "left"
          },
          "hovermode": "closest",
          "mapbox": {
           "style": "light"
          },
          "paper_bgcolor": "white",
          "plot_bgcolor": "#E5ECF6",
          "polar": {
           "angularaxis": {
            "gridcolor": "white",
            "linecolor": "white",
            "ticks": ""
           },
           "bgcolor": "#E5ECF6",
           "radialaxis": {
            "gridcolor": "white",
            "linecolor": "white",
            "ticks": ""
           }
          },
          "scene": {
           "xaxis": {
            "backgroundcolor": "#E5ECF6",
            "gridcolor": "white",
            "gridwidth": 2,
            "linecolor": "white",
            "showbackground": true,
            "ticks": "",
            "zerolinecolor": "white"
           },
           "yaxis": {
            "backgroundcolor": "#E5ECF6",
            "gridcolor": "white",
            "gridwidth": 2,
            "linecolor": "white",
            "showbackground": true,
            "ticks": "",
            "zerolinecolor": "white"
           },
           "zaxis": {
            "backgroundcolor": "#E5ECF6",
            "gridcolor": "white",
            "gridwidth": 2,
            "linecolor": "white",
            "showbackground": true,
            "ticks": "",
            "zerolinecolor": "white"
           }
          },
          "shapedefaults": {
           "line": {
            "color": "#2a3f5f"
           }
          },
          "ternary": {
           "aaxis": {
            "gridcolor": "white",
            "linecolor": "white",
            "ticks": ""
           },
           "baxis": {
            "gridcolor": "white",
            "linecolor": "white",
            "ticks": ""
           },
           "bgcolor": "#E5ECF6",
           "caxis": {
            "gridcolor": "white",
            "linecolor": "white",
            "ticks": ""
           }
          },
          "title": {
           "x": 0.05
          },
          "xaxis": {
           "automargin": true,
           "gridcolor": "white",
           "linecolor": "white",
           "ticks": "",
           "title": {
            "standoff": 15
           },
           "zerolinecolor": "white",
           "zerolinewidth": 2
          },
          "yaxis": {
           "automargin": true,
           "gridcolor": "white",
           "linecolor": "white",
           "ticks": "",
           "title": {
            "standoff": 15
           },
           "zerolinecolor": "white",
           "zerolinewidth": 2
          }
         }
        },
        "title": {
         "text": "Boxplot of difference phase per execution"
        },
        "xaxis": {
         "anchor": "y",
         "domain": [
          0,
          1
         ],
         "title": {
          "text": "phase"
         }
        },
        "yaxis": {
         "anchor": "x",
         "domain": [
          0,
          1
         ],
         "title": {
          "text": "time (in ms)"
         }
        }
       }
      }
     },
     "metadata": {},
     "output_type": "display_data"
    }
   ],
   "source": [
    "import json\n",
    "import numpy as np\n",
    "import pandas as pd\n",
    "import plotly.express as px\n",
    "\n",
    "with open(file) as f:\n",
    "    data = json.load(f)\n",
    "\n",
    "forward = data[\"forward_instr\"]\n",
    "keys = [\n",
    "    \"rmsnorm_first_time\",\n",
    "    \"matmul_qkv_time\",\n",
    "    \"rope_time\",\n",
    "    \"multihead_time\",\n",
    "    \"matmul_output_attention_time\",\n",
    "    \"FFN_rmsnorm_time\",\n",
    "    \"matmul_FFN_time\",\n",
    "    \"swiGLU_time\",\n",
    "    \"matmul_output_FFN_time\",\n",
    "    \"rmsnorm_final_time\",\n",
    "    \"matmul_logits_time\"\n",
    "]\n",
    "\n",
    "rows = []\n",
    "for k in keys:\n",
    "    values = [v for v in forward[k] if v != 0]\n",
    "    rows += [(k, v) for v in values]\n",
    "\n",
    "df = pd.DataFrame(rows, columns=[\"phase\",  \"time (in ms)\"])\n",
    "\n",
    "px.box(df, x=\"phase\", y=\"time (in ms)\",log_y = False,title = \"Boxplot of difference phase per execution\")\n"
   ]
  },
  {
   "cell_type": "code",
   "execution_count": 7,
   "id": "341f5a4e",
   "metadata": {},
   "outputs": [
    {
     "data": {
      "application/vnd.plotly.v1+json": {
       "config": {
        "plotlyServerURL": "https://plot.ly"
       },
       "data": [
        {
         "hovertemplate": "phase=%{x}<br>percentage=%{y}<extra></extra>",
         "legendgroup": "",
         "marker": {
          "color": "#636efa",
          "pattern": {
           "shape": ""
          }
         },
         "name": "",
         "orientation": "v",
         "showlegend": false,
         "textposition": "auto",
         "type": "bar",
         "x": [
          "matmul_logits_time",
          "matmul_FFN_time",
          "matmul_qkv_time",
          "matmul_output_FFN_time",
          "matmul_output_attention_time",
          "multihead_time",
          "rope_time",
          "swiGLU_time",
          "rmsnorm_first_time",
          "FFN_rmsnorm_time",
          "rmsnorm_final_time"
         ],
         "xaxis": "x",
         "y": {
          "bdata": "/Q6/ckAzTEDrsxgowD0xQH9tpQZVzyRAF2kDSodKJECq6ItrYO8LQBCWfnRPw/0/gblSVgM8yD/2xtppPGPFP7gUvsjcrKk/ERODTH5jpj+AQQwGhZF2Pw==",
          "dtype": "f8"
         },
         "yaxis": "y"
        }
       ],
       "layout": {
        "barmode": "relative",
        "legend": {
         "tracegroupgap": 0
        },
        "template": {
         "data": {
          "bar": [
           {
            "error_x": {
             "color": "#2a3f5f"
            },
            "error_y": {
             "color": "#2a3f5f"
            },
            "marker": {
             "line": {
              "color": "#E5ECF6",
              "width": 0.5
             },
             "pattern": {
              "fillmode": "overlay",
              "size": 10,
              "solidity": 0.2
             }
            },
            "type": "bar"
           }
          ],
          "barpolar": [
           {
            "marker": {
             "line": {
              "color": "#E5ECF6",
              "width": 0.5
             },
             "pattern": {
              "fillmode": "overlay",
              "size": 10,
              "solidity": 0.2
             }
            },
            "type": "barpolar"
           }
          ],
          "carpet": [
           {
            "aaxis": {
             "endlinecolor": "#2a3f5f",
             "gridcolor": "white",
             "linecolor": "white",
             "minorgridcolor": "white",
             "startlinecolor": "#2a3f5f"
            },
            "baxis": {
             "endlinecolor": "#2a3f5f",
             "gridcolor": "white",
             "linecolor": "white",
             "minorgridcolor": "white",
             "startlinecolor": "#2a3f5f"
            },
            "type": "carpet"
           }
          ],
          "choropleth": [
           {
            "colorbar": {
             "outlinewidth": 0,
             "ticks": ""
            },
            "type": "choropleth"
           }
          ],
          "contour": [
           {
            "colorbar": {
             "outlinewidth": 0,
             "ticks": ""
            },
            "colorscale": [
             [
              0,
              "#0d0887"
             ],
             [
              0.1111111111111111,
              "#46039f"
             ],
             [
              0.2222222222222222,
              "#7201a8"
             ],
             [
              0.3333333333333333,
              "#9c179e"
             ],
             [
              0.4444444444444444,
              "#bd3786"
             ],
             [
              0.5555555555555556,
              "#d8576b"
             ],
             [
              0.6666666666666666,
              "#ed7953"
             ],
             [
              0.7777777777777778,
              "#fb9f3a"
             ],
             [
              0.8888888888888888,
              "#fdca26"
             ],
             [
              1,
              "#f0f921"
             ]
            ],
            "type": "contour"
           }
          ],
          "contourcarpet": [
           {
            "colorbar": {
             "outlinewidth": 0,
             "ticks": ""
            },
            "type": "contourcarpet"
           }
          ],
          "heatmap": [
           {
            "colorbar": {
             "outlinewidth": 0,
             "ticks": ""
            },
            "colorscale": [
             [
              0,
              "#0d0887"
             ],
             [
              0.1111111111111111,
              "#46039f"
             ],
             [
              0.2222222222222222,
              "#7201a8"
             ],
             [
              0.3333333333333333,
              "#9c179e"
             ],
             [
              0.4444444444444444,
              "#bd3786"
             ],
             [
              0.5555555555555556,
              "#d8576b"
             ],
             [
              0.6666666666666666,
              "#ed7953"
             ],
             [
              0.7777777777777778,
              "#fb9f3a"
             ],
             [
              0.8888888888888888,
              "#fdca26"
             ],
             [
              1,
              "#f0f921"
             ]
            ],
            "type": "heatmap"
           }
          ],
          "histogram": [
           {
            "marker": {
             "pattern": {
              "fillmode": "overlay",
              "size": 10,
              "solidity": 0.2
             }
            },
            "type": "histogram"
           }
          ],
          "histogram2d": [
           {
            "colorbar": {
             "outlinewidth": 0,
             "ticks": ""
            },
            "colorscale": [
             [
              0,
              "#0d0887"
             ],
             [
              0.1111111111111111,
              "#46039f"
             ],
             [
              0.2222222222222222,
              "#7201a8"
             ],
             [
              0.3333333333333333,
              "#9c179e"
             ],
             [
              0.4444444444444444,
              "#bd3786"
             ],
             [
              0.5555555555555556,
              "#d8576b"
             ],
             [
              0.6666666666666666,
              "#ed7953"
             ],
             [
              0.7777777777777778,
              "#fb9f3a"
             ],
             [
              0.8888888888888888,
              "#fdca26"
             ],
             [
              1,
              "#f0f921"
             ]
            ],
            "type": "histogram2d"
           }
          ],
          "histogram2dcontour": [
           {
            "colorbar": {
             "outlinewidth": 0,
             "ticks": ""
            },
            "colorscale": [
             [
              0,
              "#0d0887"
             ],
             [
              0.1111111111111111,
              "#46039f"
             ],
             [
              0.2222222222222222,
              "#7201a8"
             ],
             [
              0.3333333333333333,
              "#9c179e"
             ],
             [
              0.4444444444444444,
              "#bd3786"
             ],
             [
              0.5555555555555556,
              "#d8576b"
             ],
             [
              0.6666666666666666,
              "#ed7953"
             ],
             [
              0.7777777777777778,
              "#fb9f3a"
             ],
             [
              0.8888888888888888,
              "#fdca26"
             ],
             [
              1,
              "#f0f921"
             ]
            ],
            "type": "histogram2dcontour"
           }
          ],
          "mesh3d": [
           {
            "colorbar": {
             "outlinewidth": 0,
             "ticks": ""
            },
            "type": "mesh3d"
           }
          ],
          "parcoords": [
           {
            "line": {
             "colorbar": {
              "outlinewidth": 0,
              "ticks": ""
             }
            },
            "type": "parcoords"
           }
          ],
          "pie": [
           {
            "automargin": true,
            "type": "pie"
           }
          ],
          "scatter": [
           {
            "fillpattern": {
             "fillmode": "overlay",
             "size": 10,
             "solidity": 0.2
            },
            "type": "scatter"
           }
          ],
          "scatter3d": [
           {
            "line": {
             "colorbar": {
              "outlinewidth": 0,
              "ticks": ""
             }
            },
            "marker": {
             "colorbar": {
              "outlinewidth": 0,
              "ticks": ""
             }
            },
            "type": "scatter3d"
           }
          ],
          "scattercarpet": [
           {
            "marker": {
             "colorbar": {
              "outlinewidth": 0,
              "ticks": ""
             }
            },
            "type": "scattercarpet"
           }
          ],
          "scattergeo": [
           {
            "marker": {
             "colorbar": {
              "outlinewidth": 0,
              "ticks": ""
             }
            },
            "type": "scattergeo"
           }
          ],
          "scattergl": [
           {
            "marker": {
             "colorbar": {
              "outlinewidth": 0,
              "ticks": ""
             }
            },
            "type": "scattergl"
           }
          ],
          "scattermap": [
           {
            "marker": {
             "colorbar": {
              "outlinewidth": 0,
              "ticks": ""
             }
            },
            "type": "scattermap"
           }
          ],
          "scattermapbox": [
           {
            "marker": {
             "colorbar": {
              "outlinewidth": 0,
              "ticks": ""
             }
            },
            "type": "scattermapbox"
           }
          ],
          "scatterpolar": [
           {
            "marker": {
             "colorbar": {
              "outlinewidth": 0,
              "ticks": ""
             }
            },
            "type": "scatterpolar"
           }
          ],
          "scatterpolargl": [
           {
            "marker": {
             "colorbar": {
              "outlinewidth": 0,
              "ticks": ""
             }
            },
            "type": "scatterpolargl"
           }
          ],
          "scatterternary": [
           {
            "marker": {
             "colorbar": {
              "outlinewidth": 0,
              "ticks": ""
             }
            },
            "type": "scatterternary"
           }
          ],
          "surface": [
           {
            "colorbar": {
             "outlinewidth": 0,
             "ticks": ""
            },
            "colorscale": [
             [
              0,
              "#0d0887"
             ],
             [
              0.1111111111111111,
              "#46039f"
             ],
             [
              0.2222222222222222,
              "#7201a8"
             ],
             [
              0.3333333333333333,
              "#9c179e"
             ],
             [
              0.4444444444444444,
              "#bd3786"
             ],
             [
              0.5555555555555556,
              "#d8576b"
             ],
             [
              0.6666666666666666,
              "#ed7953"
             ],
             [
              0.7777777777777778,
              "#fb9f3a"
             ],
             [
              0.8888888888888888,
              "#fdca26"
             ],
             [
              1,
              "#f0f921"
             ]
            ],
            "type": "surface"
           }
          ],
          "table": [
           {
            "cells": {
             "fill": {
              "color": "#EBF0F8"
             },
             "line": {
              "color": "white"
             }
            },
            "header": {
             "fill": {
              "color": "#C8D4E3"
             },
             "line": {
              "color": "white"
             }
            },
            "type": "table"
           }
          ]
         },
         "layout": {
          "annotationdefaults": {
           "arrowcolor": "#2a3f5f",
           "arrowhead": 0,
           "arrowwidth": 1
          },
          "autotypenumbers": "strict",
          "coloraxis": {
           "colorbar": {
            "outlinewidth": 0,
            "ticks": ""
           }
          },
          "colorscale": {
           "diverging": [
            [
             0,
             "#8e0152"
            ],
            [
             0.1,
             "#c51b7d"
            ],
            [
             0.2,
             "#de77ae"
            ],
            [
             0.3,
             "#f1b6da"
            ],
            [
             0.4,
             "#fde0ef"
            ],
            [
             0.5,
             "#f7f7f7"
            ],
            [
             0.6,
             "#e6f5d0"
            ],
            [
             0.7,
             "#b8e186"
            ],
            [
             0.8,
             "#7fbc41"
            ],
            [
             0.9,
             "#4d9221"
            ],
            [
             1,
             "#276419"
            ]
           ],
           "sequential": [
            [
             0,
             "#0d0887"
            ],
            [
             0.1111111111111111,
             "#46039f"
            ],
            [
             0.2222222222222222,
             "#7201a8"
            ],
            [
             0.3333333333333333,
             "#9c179e"
            ],
            [
             0.4444444444444444,
             "#bd3786"
            ],
            [
             0.5555555555555556,
             "#d8576b"
            ],
            [
             0.6666666666666666,
             "#ed7953"
            ],
            [
             0.7777777777777778,
             "#fb9f3a"
            ],
            [
             0.8888888888888888,
             "#fdca26"
            ],
            [
             1,
             "#f0f921"
            ]
           ],
           "sequentialminus": [
            [
             0,
             "#0d0887"
            ],
            [
             0.1111111111111111,
             "#46039f"
            ],
            [
             0.2222222222222222,
             "#7201a8"
            ],
            [
             0.3333333333333333,
             "#9c179e"
            ],
            [
             0.4444444444444444,
             "#bd3786"
            ],
            [
             0.5555555555555556,
             "#d8576b"
            ],
            [
             0.6666666666666666,
             "#ed7953"
            ],
            [
             0.7777777777777778,
             "#fb9f3a"
            ],
            [
             0.8888888888888888,
             "#fdca26"
            ],
            [
             1,
             "#f0f921"
            ]
           ]
          },
          "colorway": [
           "#636efa",
           "#EF553B",
           "#00cc96",
           "#ab63fa",
           "#FFA15A",
           "#19d3f3",
           "#FF6692",
           "#B6E880",
           "#FF97FF",
           "#FECB52"
          ],
          "font": {
           "color": "#2a3f5f"
          },
          "geo": {
           "bgcolor": "white",
           "lakecolor": "white",
           "landcolor": "#E5ECF6",
           "showlakes": true,
           "showland": true,
           "subunitcolor": "white"
          },
          "hoverlabel": {
           "align": "left"
          },
          "hovermode": "closest",
          "mapbox": {
           "style": "light"
          },
          "paper_bgcolor": "white",
          "plot_bgcolor": "#E5ECF6",
          "polar": {
           "angularaxis": {
            "gridcolor": "white",
            "linecolor": "white",
            "ticks": ""
           },
           "bgcolor": "#E5ECF6",
           "radialaxis": {
            "gridcolor": "white",
            "linecolor": "white",
            "ticks": ""
           }
          },
          "scene": {
           "xaxis": {
            "backgroundcolor": "#E5ECF6",
            "gridcolor": "white",
            "gridwidth": 2,
            "linecolor": "white",
            "showbackground": true,
            "ticks": "",
            "zerolinecolor": "white"
           },
           "yaxis": {
            "backgroundcolor": "#E5ECF6",
            "gridcolor": "white",
            "gridwidth": 2,
            "linecolor": "white",
            "showbackground": true,
            "ticks": "",
            "zerolinecolor": "white"
           },
           "zaxis": {
            "backgroundcolor": "#E5ECF6",
            "gridcolor": "white",
            "gridwidth": 2,
            "linecolor": "white",
            "showbackground": true,
            "ticks": "",
            "zerolinecolor": "white"
           }
          },
          "shapedefaults": {
           "line": {
            "color": "#2a3f5f"
           }
          },
          "ternary": {
           "aaxis": {
            "gridcolor": "white",
            "linecolor": "white",
            "ticks": ""
           },
           "baxis": {
            "gridcolor": "white",
            "linecolor": "white",
            "ticks": ""
           },
           "bgcolor": "#E5ECF6",
           "caxis": {
            "gridcolor": "white",
            "linecolor": "white",
            "ticks": ""
           }
          },
          "title": {
           "x": 0.05
          },
          "xaxis": {
           "automargin": true,
           "gridcolor": "white",
           "linecolor": "white",
           "ticks": "",
           "title": {
            "standoff": 15
           },
           "zerolinecolor": "white",
           "zerolinewidth": 2
          },
          "yaxis": {
           "automargin": true,
           "gridcolor": "white",
           "linecolor": "white",
           "ticks": "",
           "title": {
            "standoff": 15
           },
           "zerolinecolor": "white",
           "zerolinewidth": 2
          }
         }
        },
        "title": {
         "text": "Percentage of time spent in the different phases of forward pass"
        },
        "xaxis": {
         "anchor": "y",
         "domain": [
          0,
          1
         ],
         "title": {
          "text": "phase"
         }
        },
        "yaxis": {
         "anchor": "x",
         "domain": [
          0,
          1
         ],
         "title": {
          "text": "percentage"
         }
        }
       }
      }
     },
     "metadata": {},
     "output_type": "display_data"
    }
   ],
   "source": [
    "import json\n",
    "import numpy as np\n",
    "import pandas as pd\n",
    "import plotly.express as px\n",
    "\n",
    "with open(file) as f:\n",
    "    data = json.load(f)\n",
    "\n",
    "forward = data[\"forward_instr\"]\n",
    "keys = [\n",
    "    \"rmsnorm_first_time\",\n",
    "    \"matmul_qkv_time\",\n",
    "    \"rope_time\",\n",
    "    \"multihead_time\",\n",
    "    \"matmul_output_attention_time\",\n",
    "    \"FFN_rmsnorm_time\",\n",
    "    \"matmul_FFN_time\",\n",
    "    \"swiGLU_time\",\n",
    "    \"matmul_output_FFN_time\",\n",
    "    \"rmsnorm_final_time\",\n",
    "    \"matmul_logits_time\"\n",
    "]\n",
    "\n",
    "sums = [np.sum(forward[k]) for k in keys]\n",
    "total = sum(sums)\n",
    "percentages = [s / total * 100 for s in sums]\n",
    "\n",
    "df = pd.DataFrame({\"phase\": keys, \"percentage\": percentages})\n",
    "df = df.sort_values(\"percentage\", ascending=False)\n",
    "px.bar(df, x=\"phase\", y=\"percentage\",title= \"Percentage of time spent in the different phases of forward pass\")"
   ]
  },
  {
   "cell_type": "markdown",
   "id": "85a6fe5f",
   "metadata": {},
   "source": [
    "# 1. Multi thread comparison"
   ]
  }
 ],
 "metadata": {
  "kernelspec": {
   "display_name": ".venv",
   "language": "python",
   "name": "python3"
  },
  "language_info": {
   "codemirror_mode": {
    "name": "ipython",
    "version": 3
   },
   "file_extension": ".py",
   "mimetype": "text/x-python",
   "name": "python",
   "nbconvert_exporter": "python",
   "pygments_lexer": "ipython3",
   "version": "3.12.3"
  }
 },
 "nbformat": 4,
 "nbformat_minor": 5
}
