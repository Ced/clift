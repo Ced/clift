{
 "cells": [
  {
   "cell_type": "markdown",
   "id": "374754d8",
   "metadata": {},
   "source": [
    "# 0. Sequential run "
   ]
  },
  {
   "cell_type": "markdown",
   "id": "736d87c0",
   "metadata": {},
   "source": [
    "## Config"
   ]
  },
  {
   "cell_type": "code",
   "execution_count": 2,
   "id": "c812c308",
   "metadata": {},
   "outputs": [],
   "source": [
    "input = \"llama_3.bin\"\n",
    "steps = \"500\"\n"
   ]
  },
  {
   "cell_type": "markdown",
   "id": "e34e3ed4",
   "metadata": {},
   "source": [
    "### Running this Notebook\n",
    "\n",
    "To run this notebook, make sure you've installed the dependencies listed in `requirements.txt`:\n",
    "\n",
    "```bash\n",
    "pip install -r requirements.txt\n",
    "```\n",
    "\n",
    "You also need to download the model binary:\n",
    "\n",
    "```bash\n",
    "wget https://huggingface.co/karpathy/tinyllamas/resolve/main/stories15M.bin\n",
    "```\n"
   ]
  },
  {
   "cell_type": "markdown",
   "id": "e7d5b31a",
   "metadata": {},
   "source": [
    "## Generate measurements"
   ]
  },
  {
   "cell_type": "code",
   "execution_count": 1,
   "id": "9c8cb0ac",
   "metadata": {},
   "outputs": [
    {
     "name": "stdout",
     "output_type": "stream",
     "text": [
      "GIT_COMMIT_HASH a949d894c60358eab2f04032e87af816e4a56262\n",
      "gcc -O3 -ffast-math -fno-omit-frame-pointer -Wall -o clift clift.c -lm -DINSTR\n"
     ]
    },
    {
     "name": "stderr",
     "output_type": "stream",
     "text": [
      "clift.c: In function ‘transformer_forward’:\n",
      "clift.c:536:10: warning: unused variable ‘st’ [-Wunused-variable]\n",
      "  536 |   double st = 0;\n",
      "      |          ^~\n",
      "clift.c: In function ‘transformer_forward_inlined’:\n",
      "clift.c:802: warning: ignoring ‘#pragma omp single’ [-Wunknown-pragmas]\n",
      "  802 | #pragma omp single\n",
      "      | \n",
      "clift.c:814: warning: ignoring ‘#pragma omp single’ [-Wunknown-pragmas]\n",
      "  814 | #pragma omp single\n",
      "      | \n",
      "clift.c:839: warning: ignoring ‘#pragma omp for’ [-Wunknown-pragmas]\n",
      "  839 | #pragma omp for collapse(2) nowait\n",
      "      | \n",
      "In file included from clift.c:21:\n",
      "clift.c:852:28: warning: implicit declaration of function ‘omp_get_thread_num’ [-Wimplicit-function-declaration]\n",
      "  852 |     STOP_3(st, MATMUL_QKV, omp_get_thread_num(), past);\n",
      "      |                            ^~~~~~~~~~~~~~~~~~\n",
      "instrumentor.h:93:49: note: in definition of macro ‘STOP_3’\n",
      "   93 | #define STOP_3(st, i1, i2, i3) tab_values_3[i1][i2][i3] += get_time() - st\n",
      "      |                                                 ^~\n",
      "clift.c:856: warning: ignoring ‘#pragma omp for’ [-Wunknown-pragmas]\n",
      "  856 | #pragma omp for collapse(2) nowait\n",
      "      | \n",
      "clift.c:872: warning: ignoring ‘#pragma omp for’ [-Wunknown-pragmas]\n",
      "  872 | #pragma omp for collapse(2) nowait\n",
      "      | \n",
      "clift.c:886: warning: ignoring ‘#pragma omp barrier’ [-Wunknown-pragmas]\n",
      "  886 | #pragma omp barrier\n",
      "      | \n",
      "clift.c:888: warning: ignoring ‘#pragma omp for’ [-Wunknown-pragmas]\n",
      "  888 | #pragma omp for collapse(3) nowait\n",
      "      | \n",
      "clift.c:904: warning: ignoring ‘#pragma omp for’ [-Wunknown-pragmas]\n",
      "  904 | #pragma omp for collapse(3) nowait\n",
      "      | \n",
      "clift.c:923: warning: ignoring ‘#pragma omp for’ [-Wunknown-pragmas]\n",
      "  923 | #pragma omp for collapse(3) nowait\n",
      "      | \n",
      "clift.c:970: warning: ignoring ‘#pragma omp for’ [-Wunknown-pragmas]\n",
      "  970 | #pragma omp for collapse(3) nowait\n",
      "      | \n",
      "clift.c:982: warning: ignoring ‘#pragma omp barrier’ [-Wunknown-pragmas]\n",
      "  982 | #pragma omp barrier\n",
      "      | \n",
      "clift.c:986: warning: ignoring ‘#pragma omp for’ [-Wunknown-pragmas]\n",
      "  986 | #pragma omp for collapse(2) nowait\n",
      "      | \n",
      "clift.c:997: warning: ignoring ‘#pragma omp for’ [-Wunknown-pragmas]\n",
      "  997 | #pragma omp for collapse(2) nowait\n",
      "      | \n",
      "clift.c:1004: warning: ignoring ‘#pragma omp barrier’ [-Wunknown-pragmas]\n",
      " 1004 | #pragma omp barrier\n",
      "      | \n",
      "clift.c:1007: warning: ignoring ‘#pragma omp single’ [-Wunknown-pragmas]\n",
      " 1007 | #pragma omp single\n",
      "      | \n",
      "clift.c:1031: warning: ignoring ‘#pragma omp for’ [-Wunknown-pragmas]\n",
      " 1031 | #pragma omp for collapse(2) nowait\n",
      "      | \n",
      "clift.c:1041: warning: ignoring ‘#pragma omp for’ [-Wunknown-pragmas]\n",
      " 1041 | #pragma omp for collapse(2) nowait\n",
      "      | \n",
      "clift.c:1054: warning: ignoring ‘#pragma omp for’ [-Wunknown-pragmas]\n",
      " 1054 | #pragma omp for collapse(2) nowait\n",
      "      | \n",
      "clift.c:1065: warning: ignoring ‘#pragma omp barrier’ [-Wunknown-pragmas]\n",
      " 1065 | #pragma omp barrier\n",
      "      | \n",
      "clift.c:1069: warning: ignoring ‘#pragma omp for’ [-Wunknown-pragmas]\n",
      " 1069 | #pragma omp for collapse(2) nowait\n",
      "      | \n",
      "clift.c:1081: warning: ignoring ‘#pragma omp for’ [-Wunknown-pragmas]\n",
      " 1081 | #pragma omp for collapse(2) nowait\n",
      "      | \n",
      "clift.c:1088: warning: ignoring ‘#pragma omp barrier’ [-Wunknown-pragmas]\n",
      " 1088 | #pragma omp barrier\n",
      "      | \n",
      "clift.c:1092: warning: ignoring ‘#pragma omp single’ [-Wunknown-pragmas]\n",
      " 1092 | #pragma omp single\n",
      "      | \n",
      "clift.c:1114: warning: ignoring ‘#pragma omp for’ [-Wunknown-pragmas]\n",
      " 1114 | #pragma omp for collapse(2)\n",
      "      | \n",
      "clift.c: In function ‘generate’:\n",
      "clift.c:1730: warning: ignoring ‘#pragma omp parallel’ [-Wunknown-pragmas]\n",
      " 1730 | #pragma omp parallel\n",
      "      | \n",
      "clift.c:1739: warning: ignoring ‘#pragma omp single’ [-Wunknown-pragmas]\n",
      " 1739 | #pragma omp single\n",
      "      | \n",
      "clift.c:1768: warning: ignoring ‘#pragma omp single’ [-Wunknown-pragmas]\n",
      " 1768 | #pragma omp single\n",
      "      | \n",
      "clift.c:1773: warning: ignoring ‘#pragma omp single’ [-Wunknown-pragmas]\n",
      " 1773 | #pragma omp single\n",
      "      | \n",
      "clift.c: In function ‘main’:\n",
      "clift.c:1954:5: warning: ignoring return value of ‘fread’ declared with attribute ‘warn_unused_result’ [-Wunused-result]\n",
      " 1954 |     fread(file_prompt, 1, fsize, pf);\n",
      "      |     ^~~~~~~~~~~~~~~~~~~~~~~~~~~~~~~~\n",
      "/usr/bin/ld: /tmp/ccyual8X.o: in function `transformer_forward_inlined.constprop.0':\n",
      "clift.c:(.text+0xa74): undefined reference to `omp_get_thread_num'\n",
      "/usr/bin/ld: clift.c:(.text+0xc3a): undefined reference to `omp_get_thread_num'\n",
      "/usr/bin/ld: clift.c:(.text+0xea7): undefined reference to `omp_get_thread_num'\n",
      "/usr/bin/ld: clift.c:(.text+0x11d8): undefined reference to `omp_get_thread_num'\n",
      "/usr/bin/ld: clift.c:(.text+0x13f2): undefined reference to `omp_get_thread_num'\n",
      "/usr/bin/ld: /tmp/ccyual8X.o:clift.c:(.text+0x21c4): more undefined references to `omp_get_thread_num' follow\n",
      "collect2: error: ld returned 1 exit status\n",
      "make: *** [Makefile:15: cliftinstr] Error 1\n"
     ]
    },
    {
     "ename": "CalledProcessError",
     "evalue": "Command '['make', 'cliftinstr']' returned non-zero exit status 2.",
     "output_type": "error",
     "traceback": [
      "\u001b[31m---------------------------------------------------------------------------\u001b[39m",
      "\u001b[31mCalledProcessError\u001b[39m                        Traceback (most recent call last)",
      "\u001b[36mCell\u001b[39m\u001b[36m \u001b[39m\u001b[32mIn[1]\u001b[39m\u001b[32m, line 16\u001b[39m\n\u001b[32m     13\u001b[39m date = datetime.datetime.now().strftime(\u001b[33m\"\u001b[39m\u001b[33m%\u001b[39m\u001b[33mY\u001b[39m\u001b[33m%\u001b[39m\u001b[33mm\u001b[39m\u001b[38;5;132;01m%d\u001b[39;00m\u001b[33m_\u001b[39m\u001b[33m%\u001b[39m\u001b[33mH\u001b[39m\u001b[33m%\u001b[39m\u001b[33mM\u001b[39m\u001b[33m%\u001b[39m\u001b[33mS\u001b[39m\u001b[33m\"\u001b[39m)\n\u001b[32m     14\u001b[39m output_path = \u001b[33mf\u001b[39m\u001b[33m\"\u001b[39m\u001b[33mmeasurements/output_\u001b[39m\u001b[38;5;132;01m{\u001b[39;00m\u001b[38;5;28minput\u001b[39m\u001b[38;5;132;01m}\u001b[39;00m\u001b[33m_seq_\u001b[39m\u001b[38;5;132;01m{\u001b[39;00mdate\u001b[38;5;132;01m}\u001b[39;00m\u001b[33m.json\u001b[39m\u001b[33m\"\u001b[39m\n\u001b[32m---> \u001b[39m\u001b[32m16\u001b[39m \u001b[43msubprocess\u001b[49m\u001b[43m.\u001b[49m\u001b[43mrun\u001b[49m\u001b[43m(\u001b[49m\u001b[43m[\u001b[49m\u001b[33;43m\"\u001b[39;49m\u001b[33;43mmake\u001b[39;49m\u001b[33;43m\"\u001b[39;49m\u001b[43m,\u001b[49m\u001b[43m \u001b[49m\u001b[33;43m\"\u001b[39;49m\u001b[33;43mcliftinstr\u001b[39;49m\u001b[33;43m\"\u001b[39;49m\u001b[43m]\u001b[49m\u001b[43m,\u001b[49m\u001b[43m \u001b[49m\u001b[43mcheck\u001b[49m\u001b[43m=\u001b[49m\u001b[38;5;28;43;01mTrue\u001b[39;49;00m\u001b[43m)\u001b[49m\n\u001b[32m     19\u001b[39m \u001b[38;5;28;01mwith\u001b[39;00m \u001b[38;5;28mopen\u001b[39m(output_path, \u001b[33m\"\u001b[39m\u001b[33mw\u001b[39m\u001b[33m\"\u001b[39m) \u001b[38;5;28;01mas\u001b[39;00m f:\n\u001b[32m     20\u001b[39m     subprocess.run([\u001b[33m\"\u001b[39m\u001b[33m./cliftinstr\u001b[39m\u001b[33m\"\u001b[39m, \u001b[33m\"\u001b[39m\u001b[33m-m\u001b[39m\u001b[33m\"\u001b[39m, \u001b[33m\"\u001b[39m\u001b[33mllama3.2_1b.bin\u001b[39m\u001b[33m\"\u001b[39m, \u001b[33m\"\u001b[39m\u001b[33m-n\u001b[39m\u001b[33m\"\u001b[39m, \u001b[33m\"\u001b[39m\u001b[33m20\u001b[39m\u001b[33m\"\u001b[39m, \u001b[33m\"\u001b[39m\u001b[33m-p\u001b[39m\u001b[33m\"\u001b[39m, \u001b[33m\"\u001b[39m\u001b[33mThe son applies for a credit card with an identity already stolen. He takes the card and spends almost all\u001b[39m\u001b[33m\"\u001b[39m], stdout=f, check=\u001b[38;5;28;01mTrue\u001b[39;00m,env=env)\n",
      "\u001b[36mFile \u001b[39m\u001b[32m/usr/lib/python3.12/subprocess.py:571\u001b[39m, in \u001b[36mrun\u001b[39m\u001b[34m(input, capture_output, timeout, check, *popenargs, **kwargs)\u001b[39m\n\u001b[32m    569\u001b[39m     retcode = process.poll()\n\u001b[32m    570\u001b[39m     \u001b[38;5;28;01mif\u001b[39;00m check \u001b[38;5;129;01mand\u001b[39;00m retcode:\n\u001b[32m--> \u001b[39m\u001b[32m571\u001b[39m         \u001b[38;5;28;01mraise\u001b[39;00m CalledProcessError(retcode, process.args,\n\u001b[32m    572\u001b[39m                                  output=stdout, stderr=stderr)\n\u001b[32m    573\u001b[39m \u001b[38;5;28;01mreturn\u001b[39;00m CompletedProcess(process.args, retcode, stdout, stderr)\n",
      "\u001b[31mCalledProcessError\u001b[39m: Command '['make', 'cliftinstr']' returned non-zero exit status 2."
     ]
    }
   ],
   "source": [
    "import subprocess,os\n",
    "import datetime\n",
    "from pathlib import Path\n",
    "\n",
    "commit_hash = subprocess.check_output([\"git\", \"rev-parse\", \"HEAD\"]).decode().strip()\n",
    "env = os.environ.copy()\n",
    "print(\"GIT_COMMIT_HASH\", commit_hash)\n",
    "env[\"GIT_COMMIT_HASH\"] = commit_hash\n",
    "\n",
    "\n",
    "Path(\"measurements\").mkdir(exist_ok=True)\n",
    "\n",
    "date = datetime.datetime.now().strftime(\"%Y%m%d_%H%M%S\")\n",
    "output_path = f\"measurements/output_{input}_seq_{date}.json\"\n",
    "\n",
    "subprocess.run([\"make\", \"cliftinstr\"], check=True)\n",
    "\n",
    "\n",
    "with open(output_path, \"w\") as f:\n",
    "    subprocess.run([\"./cliftinstr\", \"-m\", \"llama3.2_1b.bin\", \"-n\", \"20\", \"-p\", \"The son applies for a credit card with an identity already stolen. He takes the card and spends almost all\"], stdout=f, check=True,env=env)\n",
    "\n",
    "file = output_path"
   ]
  },
  {
   "cell_type": "code",
   "execution_count": 6,
   "id": "4e459861",
   "metadata": {},
   "outputs": [
    {
     "ename": "JSONDecodeError",
     "evalue": "Extra data: line 46 column 1 (char 5145)",
     "output_type": "error",
     "traceback": [
      "\u001b[31m---------------------------------------------------------------------------\u001b[39m",
      "\u001b[31mJSONDecodeError\u001b[39m                           Traceback (most recent call last)",
      "\u001b[36mCell\u001b[39m\u001b[36m \u001b[39m\u001b[32mIn[6]\u001b[39m\u001b[32m, line 18\u001b[39m\n\u001b[32m     15\u001b[39m         \u001b[38;5;28;01mpass\u001b[39;00m\n\u001b[32m     17\u001b[39m \u001b[38;5;28;01mwith\u001b[39;00m \u001b[38;5;28mopen\u001b[39m(file) \u001b[38;5;28;01mas\u001b[39;00m f:\n\u001b[32m---> \u001b[39m\u001b[32m18\u001b[39m     data = \u001b[43mjson\u001b[49m\u001b[43m.\u001b[49m\u001b[43mload\u001b[49m\u001b[43m(\u001b[49m\u001b[43mf\u001b[49m\u001b[43m)\u001b[49m\n\u001b[32m     20\u001b[39m print_json_schema(data)\n",
      "\u001b[36mFile \u001b[39m\u001b[32m/usr/lib/python3.12/json/__init__.py:293\u001b[39m, in \u001b[36mload\u001b[39m\u001b[34m(fp, cls, object_hook, parse_float, parse_int, parse_constant, object_pairs_hook, **kw)\u001b[39m\n\u001b[32m    274\u001b[39m \u001b[38;5;28;01mdef\u001b[39;00m\u001b[38;5;250m \u001b[39m\u001b[34mload\u001b[39m(fp, *, \u001b[38;5;28mcls\u001b[39m=\u001b[38;5;28;01mNone\u001b[39;00m, object_hook=\u001b[38;5;28;01mNone\u001b[39;00m, parse_float=\u001b[38;5;28;01mNone\u001b[39;00m,\n\u001b[32m    275\u001b[39m         parse_int=\u001b[38;5;28;01mNone\u001b[39;00m, parse_constant=\u001b[38;5;28;01mNone\u001b[39;00m, object_pairs_hook=\u001b[38;5;28;01mNone\u001b[39;00m, **kw):\n\u001b[32m    276\u001b[39m \u001b[38;5;250m    \u001b[39m\u001b[33;03m\"\"\"Deserialize ``fp`` (a ``.read()``-supporting file-like object containing\u001b[39;00m\n\u001b[32m    277\u001b[39m \u001b[33;03m    a JSON document) to a Python object.\u001b[39;00m\n\u001b[32m    278\u001b[39m \n\u001b[32m   (...)\u001b[39m\u001b[32m    291\u001b[39m \u001b[33;03m    kwarg; otherwise ``JSONDecoder`` is used.\u001b[39;00m\n\u001b[32m    292\u001b[39m \u001b[33;03m    \"\"\"\u001b[39;00m\n\u001b[32m--> \u001b[39m\u001b[32m293\u001b[39m     \u001b[38;5;28;01mreturn\u001b[39;00m \u001b[43mloads\u001b[49m\u001b[43m(\u001b[49m\u001b[43mfp\u001b[49m\u001b[43m.\u001b[49m\u001b[43mread\u001b[49m\u001b[43m(\u001b[49m\u001b[43m)\u001b[49m\u001b[43m,\u001b[49m\n\u001b[32m    294\u001b[39m \u001b[43m        \u001b[49m\u001b[38;5;28;43mcls\u001b[39;49m\u001b[43m=\u001b[49m\u001b[38;5;28;43mcls\u001b[39;49m\u001b[43m,\u001b[49m\u001b[43m \u001b[49m\u001b[43mobject_hook\u001b[49m\u001b[43m=\u001b[49m\u001b[43mobject_hook\u001b[49m\u001b[43m,\u001b[49m\n\u001b[32m    295\u001b[39m \u001b[43m        \u001b[49m\u001b[43mparse_float\u001b[49m\u001b[43m=\u001b[49m\u001b[43mparse_float\u001b[49m\u001b[43m,\u001b[49m\u001b[43m \u001b[49m\u001b[43mparse_int\u001b[49m\u001b[43m=\u001b[49m\u001b[43mparse_int\u001b[49m\u001b[43m,\u001b[49m\n\u001b[32m    296\u001b[39m \u001b[43m        \u001b[49m\u001b[43mparse_constant\u001b[49m\u001b[43m=\u001b[49m\u001b[43mparse_constant\u001b[49m\u001b[43m,\u001b[49m\u001b[43m \u001b[49m\u001b[43mobject_pairs_hook\u001b[49m\u001b[43m=\u001b[49m\u001b[43mobject_pairs_hook\u001b[49m\u001b[43m,\u001b[49m\u001b[43m \u001b[49m\u001b[43m*\u001b[49m\u001b[43m*\u001b[49m\u001b[43mkw\u001b[49m\u001b[43m)\u001b[49m\n",
      "\u001b[36mFile \u001b[39m\u001b[32m/usr/lib/python3.12/json/__init__.py:346\u001b[39m, in \u001b[36mloads\u001b[39m\u001b[34m(s, cls, object_hook, parse_float, parse_int, parse_constant, object_pairs_hook, **kw)\u001b[39m\n\u001b[32m    341\u001b[39m     s = s.decode(detect_encoding(s), \u001b[33m'\u001b[39m\u001b[33msurrogatepass\u001b[39m\u001b[33m'\u001b[39m)\n\u001b[32m    343\u001b[39m \u001b[38;5;28;01mif\u001b[39;00m (\u001b[38;5;28mcls\u001b[39m \u001b[38;5;129;01mis\u001b[39;00m \u001b[38;5;28;01mNone\u001b[39;00m \u001b[38;5;129;01mand\u001b[39;00m object_hook \u001b[38;5;129;01mis\u001b[39;00m \u001b[38;5;28;01mNone\u001b[39;00m \u001b[38;5;129;01mand\u001b[39;00m\n\u001b[32m    344\u001b[39m         parse_int \u001b[38;5;129;01mis\u001b[39;00m \u001b[38;5;28;01mNone\u001b[39;00m \u001b[38;5;129;01mand\u001b[39;00m parse_float \u001b[38;5;129;01mis\u001b[39;00m \u001b[38;5;28;01mNone\u001b[39;00m \u001b[38;5;129;01mand\u001b[39;00m\n\u001b[32m    345\u001b[39m         parse_constant \u001b[38;5;129;01mis\u001b[39;00m \u001b[38;5;28;01mNone\u001b[39;00m \u001b[38;5;129;01mand\u001b[39;00m object_pairs_hook \u001b[38;5;129;01mis\u001b[39;00m \u001b[38;5;28;01mNone\u001b[39;00m \u001b[38;5;129;01mand\u001b[39;00m \u001b[38;5;129;01mnot\u001b[39;00m kw):\n\u001b[32m--> \u001b[39m\u001b[32m346\u001b[39m     \u001b[38;5;28;01mreturn\u001b[39;00m \u001b[43m_default_decoder\u001b[49m\u001b[43m.\u001b[49m\u001b[43mdecode\u001b[49m\u001b[43m(\u001b[49m\u001b[43ms\u001b[49m\u001b[43m)\u001b[49m\n\u001b[32m    347\u001b[39m \u001b[38;5;28;01mif\u001b[39;00m \u001b[38;5;28mcls\u001b[39m \u001b[38;5;129;01mis\u001b[39;00m \u001b[38;5;28;01mNone\u001b[39;00m:\n\u001b[32m    348\u001b[39m     \u001b[38;5;28mcls\u001b[39m = JSONDecoder\n",
      "\u001b[36mFile \u001b[39m\u001b[32m/usr/lib/python3.12/json/decoder.py:340\u001b[39m, in \u001b[36mJSONDecoder.decode\u001b[39m\u001b[34m(self, s, _w)\u001b[39m\n\u001b[32m    338\u001b[39m end = _w(s, end).end()\n\u001b[32m    339\u001b[39m \u001b[38;5;28;01mif\u001b[39;00m end != \u001b[38;5;28mlen\u001b[39m(s):\n\u001b[32m--> \u001b[39m\u001b[32m340\u001b[39m     \u001b[38;5;28;01mraise\u001b[39;00m JSONDecodeError(\u001b[33m\"\u001b[39m\u001b[33mExtra data\u001b[39m\u001b[33m\"\u001b[39m, s, end)\n\u001b[32m    341\u001b[39m \u001b[38;5;28;01mreturn\u001b[39;00m obj\n",
      "\u001b[31mJSONDecodeError\u001b[39m: Extra data: line 46 column 1 (char 5145)"
     ]
    }
   ],
   "source": [
    "import json\n",
    "\n",
    "def print_json_schema(data, indent=0):\n",
    "    prefix = '  ' * indent\n",
    "    if isinstance(data, dict):\n",
    "        for key, value in data.items():\n",
    "            print(f\"{prefix}{key}: {type(value).__name__}\")\n",
    "            print_json_schema(value, indent + 1)\n",
    "    elif isinstance(data, list):\n",
    "        print(f\"{prefix}- list of {len(data)} items\")\n",
    "        if data:\n",
    "            print_json_schema(data[0], indent + 1)\n",
    "    else:\n",
    "        # leaf node\n",
    "        pass\n",
    "\n",
    "with open(file) as f:\n",
    "    data = json.load(f)\n",
    "\n",
    "print_json_schema(data)"
   ]
  },
  {
   "cell_type": "code",
   "execution_count": 5,
   "id": "7829893d",
   "metadata": {},
   "outputs": [
    {
     "data": {
      "application/vnd.plotly.v1+json": {
       "config": {
        "plotlyServerURL": "https://plot.ly"
       },
       "data": [
        {
         "hovertemplate": "phase=%{x}<br>time (ms)=%{y}<extra></extra>",
         "legendgroup": "",
         "marker": {
          "color": "#636efa",
          "pattern": {
           "shape": ""
          }
         },
         "name": "",
         "orientation": "v",
         "showlegend": false,
         "textposition": "auto",
         "type": "bar",
         "x": [
          "ENCODE_TIME",
          "FORWARD_TIME_PROMPT",
          "SAMPLE_TIME",
          "FORWARD_TIME_GENERATION"
         ],
         "xaxis": "x",
         "y": {
          "bdata": "ppvEILDyPUDQ1VbsTxywQIQNT6+UBS1AB84ZUXqusUA=",
          "dtype": "f8"
         },
         "yaxis": "y"
        }
       ],
       "layout": {
        "barmode": "relative",
        "legend": {
         "tracegroupgap": 0
        },
        "template": {
         "data": {
          "bar": [
           {
            "error_x": {
             "color": "#2a3f5f"
            },
            "error_y": {
             "color": "#2a3f5f"
            },
            "marker": {
             "line": {
              "color": "#E5ECF6",
              "width": 0.5
             },
             "pattern": {
              "fillmode": "overlay",
              "size": 10,
              "solidity": 0.2
             }
            },
            "type": "bar"
           }
          ],
          "barpolar": [
           {
            "marker": {
             "line": {
              "color": "#E5ECF6",
              "width": 0.5
             },
             "pattern": {
              "fillmode": "overlay",
              "size": 10,
              "solidity": 0.2
             }
            },
            "type": "barpolar"
           }
          ],
          "carpet": [
           {
            "aaxis": {
             "endlinecolor": "#2a3f5f",
             "gridcolor": "white",
             "linecolor": "white",
             "minorgridcolor": "white",
             "startlinecolor": "#2a3f5f"
            },
            "baxis": {
             "endlinecolor": "#2a3f5f",
             "gridcolor": "white",
             "linecolor": "white",
             "minorgridcolor": "white",
             "startlinecolor": "#2a3f5f"
            },
            "type": "carpet"
           }
          ],
          "choropleth": [
           {
            "colorbar": {
             "outlinewidth": 0,
             "ticks": ""
            },
            "type": "choropleth"
           }
          ],
          "contour": [
           {
            "colorbar": {
             "outlinewidth": 0,
             "ticks": ""
            },
            "colorscale": [
             [
              0,
              "#0d0887"
             ],
             [
              0.1111111111111111,
              "#46039f"
             ],
             [
              0.2222222222222222,
              "#7201a8"
             ],
             [
              0.3333333333333333,
              "#9c179e"
             ],
             [
              0.4444444444444444,
              "#bd3786"
             ],
             [
              0.5555555555555556,
              "#d8576b"
             ],
             [
              0.6666666666666666,
              "#ed7953"
             ],
             [
              0.7777777777777778,
              "#fb9f3a"
             ],
             [
              0.8888888888888888,
              "#fdca26"
             ],
             [
              1,
              "#f0f921"
             ]
            ],
            "type": "contour"
           }
          ],
          "contourcarpet": [
           {
            "colorbar": {
             "outlinewidth": 0,
             "ticks": ""
            },
            "type": "contourcarpet"
           }
          ],
          "heatmap": [
           {
            "colorbar": {
             "outlinewidth": 0,
             "ticks": ""
            },
            "colorscale": [
             [
              0,
              "#0d0887"
             ],
             [
              0.1111111111111111,
              "#46039f"
             ],
             [
              0.2222222222222222,
              "#7201a8"
             ],
             [
              0.3333333333333333,
              "#9c179e"
             ],
             [
              0.4444444444444444,
              "#bd3786"
             ],
             [
              0.5555555555555556,
              "#d8576b"
             ],
             [
              0.6666666666666666,
              "#ed7953"
             ],
             [
              0.7777777777777778,
              "#fb9f3a"
             ],
             [
              0.8888888888888888,
              "#fdca26"
             ],
             [
              1,
              "#f0f921"
             ]
            ],
            "type": "heatmap"
           }
          ],
          "histogram": [
           {
            "marker": {
             "pattern": {
              "fillmode": "overlay",
              "size": 10,
              "solidity": 0.2
             }
            },
            "type": "histogram"
           }
          ],
          "histogram2d": [
           {
            "colorbar": {
             "outlinewidth": 0,
             "ticks": ""
            },
            "colorscale": [
             [
              0,
              "#0d0887"
             ],
             [
              0.1111111111111111,
              "#46039f"
             ],
             [
              0.2222222222222222,
              "#7201a8"
             ],
             [
              0.3333333333333333,
              "#9c179e"
             ],
             [
              0.4444444444444444,
              "#bd3786"
             ],
             [
              0.5555555555555556,
              "#d8576b"
             ],
             [
              0.6666666666666666,
              "#ed7953"
             ],
             [
              0.7777777777777778,
              "#fb9f3a"
             ],
             [
              0.8888888888888888,
              "#fdca26"
             ],
             [
              1,
              "#f0f921"
             ]
            ],
            "type": "histogram2d"
           }
          ],
          "histogram2dcontour": [
           {
            "colorbar": {
             "outlinewidth": 0,
             "ticks": ""
            },
            "colorscale": [
             [
              0,
              "#0d0887"
             ],
             [
              0.1111111111111111,
              "#46039f"
             ],
             [
              0.2222222222222222,
              "#7201a8"
             ],
             [
              0.3333333333333333,
              "#9c179e"
             ],
             [
              0.4444444444444444,
              "#bd3786"
             ],
             [
              0.5555555555555556,
              "#d8576b"
             ],
             [
              0.6666666666666666,
              "#ed7953"
             ],
             [
              0.7777777777777778,
              "#fb9f3a"
             ],
             [
              0.8888888888888888,
              "#fdca26"
             ],
             [
              1,
              "#f0f921"
             ]
            ],
            "type": "histogram2dcontour"
           }
          ],
          "mesh3d": [
           {
            "colorbar": {
             "outlinewidth": 0,
             "ticks": ""
            },
            "type": "mesh3d"
           }
          ],
          "parcoords": [
           {
            "line": {
             "colorbar": {
              "outlinewidth": 0,
              "ticks": ""
             }
            },
            "type": "parcoords"
           }
          ],
          "pie": [
           {
            "automargin": true,
            "type": "pie"
           }
          ],
          "scatter": [
           {
            "fillpattern": {
             "fillmode": "overlay",
             "size": 10,
             "solidity": 0.2
            },
            "type": "scatter"
           }
          ],
          "scatter3d": [
           {
            "line": {
             "colorbar": {
              "outlinewidth": 0,
              "ticks": ""
             }
            },
            "marker": {
             "colorbar": {
              "outlinewidth": 0,
              "ticks": ""
             }
            },
            "type": "scatter3d"
           }
          ],
          "scattercarpet": [
           {
            "marker": {
             "colorbar": {
              "outlinewidth": 0,
              "ticks": ""
             }
            },
            "type": "scattercarpet"
           }
          ],
          "scattergeo": [
           {
            "marker": {
             "colorbar": {
              "outlinewidth": 0,
              "ticks": ""
             }
            },
            "type": "scattergeo"
           }
          ],
          "scattergl": [
           {
            "marker": {
             "colorbar": {
              "outlinewidth": 0,
              "ticks": ""
             }
            },
            "type": "scattergl"
           }
          ],
          "scattermap": [
           {
            "marker": {
             "colorbar": {
              "outlinewidth": 0,
              "ticks": ""
             }
            },
            "type": "scattermap"
           }
          ],
          "scattermapbox": [
           {
            "marker": {
             "colorbar": {
              "outlinewidth": 0,
              "ticks": ""
             }
            },
            "type": "scattermapbox"
           }
          ],
          "scatterpolar": [
           {
            "marker": {
             "colorbar": {
              "outlinewidth": 0,
              "ticks": ""
             }
            },
            "type": "scatterpolar"
           }
          ],
          "scatterpolargl": [
           {
            "marker": {
             "colorbar": {
              "outlinewidth": 0,
              "ticks": ""
             }
            },
            "type": "scatterpolargl"
           }
          ],
          "scatterternary": [
           {
            "marker": {
             "colorbar": {
              "outlinewidth": 0,
              "ticks": ""
             }
            },
            "type": "scatterternary"
           }
          ],
          "surface": [
           {
            "colorbar": {
             "outlinewidth": 0,
             "ticks": ""
            },
            "colorscale": [
             [
              0,
              "#0d0887"
             ],
             [
              0.1111111111111111,
              "#46039f"
             ],
             [
              0.2222222222222222,
              "#7201a8"
             ],
             [
              0.3333333333333333,
              "#9c179e"
             ],
             [
              0.4444444444444444,
              "#bd3786"
             ],
             [
              0.5555555555555556,
              "#d8576b"
             ],
             [
              0.6666666666666666,
              "#ed7953"
             ],
             [
              0.7777777777777778,
              "#fb9f3a"
             ],
             [
              0.8888888888888888,
              "#fdca26"
             ],
             [
              1,
              "#f0f921"
             ]
            ],
            "type": "surface"
           }
          ],
          "table": [
           {
            "cells": {
             "fill": {
              "color": "#EBF0F8"
             },
             "line": {
              "color": "white"
             }
            },
            "header": {
             "fill": {
              "color": "#C8D4E3"
             },
             "line": {
              "color": "white"
             }
            },
            "type": "table"
           }
          ]
         },
         "layout": {
          "annotationdefaults": {
           "arrowcolor": "#2a3f5f",
           "arrowhead": 0,
           "arrowwidth": 1
          },
          "autotypenumbers": "strict",
          "coloraxis": {
           "colorbar": {
            "outlinewidth": 0,
            "ticks": ""
           }
          },
          "colorscale": {
           "diverging": [
            [
             0,
             "#8e0152"
            ],
            [
             0.1,
             "#c51b7d"
            ],
            [
             0.2,
             "#de77ae"
            ],
            [
             0.3,
             "#f1b6da"
            ],
            [
             0.4,
             "#fde0ef"
            ],
            [
             0.5,
             "#f7f7f7"
            ],
            [
             0.6,
             "#e6f5d0"
            ],
            [
             0.7,
             "#b8e186"
            ],
            [
             0.8,
             "#7fbc41"
            ],
            [
             0.9,
             "#4d9221"
            ],
            [
             1,
             "#276419"
            ]
           ],
           "sequential": [
            [
             0,
             "#0d0887"
            ],
            [
             0.1111111111111111,
             "#46039f"
            ],
            [
             0.2222222222222222,
             "#7201a8"
            ],
            [
             0.3333333333333333,
             "#9c179e"
            ],
            [
             0.4444444444444444,
             "#bd3786"
            ],
            [
             0.5555555555555556,
             "#d8576b"
            ],
            [
             0.6666666666666666,
             "#ed7953"
            ],
            [
             0.7777777777777778,
             "#fb9f3a"
            ],
            [
             0.8888888888888888,
             "#fdca26"
            ],
            [
             1,
             "#f0f921"
            ]
           ],
           "sequentialminus": [
            [
             0,
             "#0d0887"
            ],
            [
             0.1111111111111111,
             "#46039f"
            ],
            [
             0.2222222222222222,
             "#7201a8"
            ],
            [
             0.3333333333333333,
             "#9c179e"
            ],
            [
             0.4444444444444444,
             "#bd3786"
            ],
            [
             0.5555555555555556,
             "#d8576b"
            ],
            [
             0.6666666666666666,
             "#ed7953"
            ],
            [
             0.7777777777777778,
             "#fb9f3a"
            ],
            [
             0.8888888888888888,
             "#fdca26"
            ],
            [
             1,
             "#f0f921"
            ]
           ]
          },
          "colorway": [
           "#636efa",
           "#EF553B",
           "#00cc96",
           "#ab63fa",
           "#FFA15A",
           "#19d3f3",
           "#FF6692",
           "#B6E880",
           "#FF97FF",
           "#FECB52"
          ],
          "font": {
           "color": "#2a3f5f"
          },
          "geo": {
           "bgcolor": "white",
           "lakecolor": "white",
           "landcolor": "#E5ECF6",
           "showlakes": true,
           "showland": true,
           "subunitcolor": "white"
          },
          "hoverlabel": {
           "align": "left"
          },
          "hovermode": "closest",
          "mapbox": {
           "style": "light"
          },
          "paper_bgcolor": "white",
          "plot_bgcolor": "#E5ECF6",
          "polar": {
           "angularaxis": {
            "gridcolor": "white",
            "linecolor": "white",
            "ticks": ""
           },
           "bgcolor": "#E5ECF6",
           "radialaxis": {
            "gridcolor": "white",
            "linecolor": "white",
            "ticks": ""
           }
          },
          "scene": {
           "xaxis": {
            "backgroundcolor": "#E5ECF6",
            "gridcolor": "white",
            "gridwidth": 2,
            "linecolor": "white",
            "showbackground": true,
            "ticks": "",
            "zerolinecolor": "white"
           },
           "yaxis": {
            "backgroundcolor": "#E5ECF6",
            "gridcolor": "white",
            "gridwidth": 2,
            "linecolor": "white",
            "showbackground": true,
            "ticks": "",
            "zerolinecolor": "white"
           },
           "zaxis": {
            "backgroundcolor": "#E5ECF6",
            "gridcolor": "white",
            "gridwidth": 2,
            "linecolor": "white",
            "showbackground": true,
            "ticks": "",
            "zerolinecolor": "white"
           }
          },
          "shapedefaults": {
           "line": {
            "color": "#2a3f5f"
           }
          },
          "ternary": {
           "aaxis": {
            "gridcolor": "white",
            "linecolor": "white",
            "ticks": ""
           },
           "baxis": {
            "gridcolor": "white",
            "linecolor": "white",
            "ticks": ""
           },
           "bgcolor": "#E5ECF6",
           "caxis": {
            "gridcolor": "white",
            "linecolor": "white",
            "ticks": ""
           }
          },
          "title": {
           "x": 0.05
          },
          "xaxis": {
           "automargin": true,
           "gridcolor": "white",
           "linecolor": "white",
           "ticks": "",
           "title": {
            "standoff": 15
           },
           "zerolinecolor": "white",
           "zerolinewidth": 2
          },
          "yaxis": {
           "automargin": true,
           "gridcolor": "white",
           "linecolor": "white",
           "ticks": "",
           "title": {
            "standoff": 15
           },
           "zerolinecolor": "white",
           "zerolinewidth": 2
          }
         }
        },
        "title": {
         "text": "TIming of different sections"
        },
        "width": 600,
        "xaxis": {
         "anchor": "y",
         "domain": [
          0,
          1
         ],
         "title": {
          "text": "phase"
         }
        },
        "yaxis": {
         "anchor": "x",
         "domain": [
          0,
          1
         ],
         "title": {
          "text": "time (ms)"
         }
        }
       }
      }
     },
     "metadata": {},
     "output_type": "display_data"
    }
   ],
   "source": [
    "import json\n",
    "import pandas as pd\n",
    "import plotly.express as px\n",
    "\n",
    "with open(file) as f:\n",
    "    data = json.load(f)\n",
    "\n",
    "# On récupère le sous-dictionnaire JSON_1\n",
    "json1 = data[\"JSON_1\"]\n",
    "\n",
    "# Création dynamique du DataFrame\n",
    "df = pd.DataFrame(list(json1.items()), columns=[\"phase\", \"time (ms)\"])\n",
    "\n",
    "# Affichage en bar chart\n",
    "fig = px.bar(\n",
    "    df,\n",
    "    x=\"phase\",\n",
    "    y=\"time (ms)\",\n",
    "    title=\"TIming of different sections\",\n",
    "    width=600\n",
    ")\n",
    "fig.show()\n"
   ]
  },
  {
   "cell_type": "code",
   "execution_count": 6,
   "id": "ba515679",
   "metadata": {},
   "outputs": [
    {
     "data": {
      "application/vnd.plotly.v1+json": {
       "config": {
        "plotlyServerURL": "https://plot.ly"
       },
       "data": [
        {
         "hovertemplate": "component=%{x}<br>time (ms)=%{y}<extra></extra>",
         "legendgroup": "",
         "marker": {
          "color": "#636efa",
          "pattern": {
           "shape": ""
          }
         },
         "name": "",
         "orientation": "v",
         "showlegend": false,
         "textposition": "auto",
         "texttemplate": "%{y:.2f}",
         "type": "bar",
         "x": [
          "RMSNORM_INIT",
          "MATMUL_QKV",
          "ROPE",
          "ATTENTION_COMPUTATION",
          "MATMUL_OUTPUT_ATTENTION",
          "FFN_RMSNORM",
          "MATMUL_FFN",
          "SwiGLU",
          "MATMUL_OUTPUT_FFN",
          "FINAL_RMSNORM",
          "MAMTUL_LOGITS"
         ],
         "xaxis": "x",
         "y": {
          "bdata": "CYofY+5a1j+OBvAWSARzQIV80LNZdThAklz+Q/otEUC2hHzQs1F2QCDSb18HPjBAp3nHKVoZokDtnjws1B5eQEJg5dDi75BADk+vlGXITkBB8WPMXZtKQA==",
          "dtype": "f8"
         },
         "yaxis": "y"
        }
       ],
       "layout": {
        "barmode": "relative",
        "legend": {
         "tracegroupgap": 0
        },
        "template": {
         "data": {
          "bar": [
           {
            "error_x": {
             "color": "#2a3f5f"
            },
            "error_y": {
             "color": "#2a3f5f"
            },
            "marker": {
             "line": {
              "color": "#E5ECF6",
              "width": 0.5
             },
             "pattern": {
              "fillmode": "overlay",
              "size": 10,
              "solidity": 0.2
             }
            },
            "type": "bar"
           }
          ],
          "barpolar": [
           {
            "marker": {
             "line": {
              "color": "#E5ECF6",
              "width": 0.5
             },
             "pattern": {
              "fillmode": "overlay",
              "size": 10,
              "solidity": 0.2
             }
            },
            "type": "barpolar"
           }
          ],
          "carpet": [
           {
            "aaxis": {
             "endlinecolor": "#2a3f5f",
             "gridcolor": "white",
             "linecolor": "white",
             "minorgridcolor": "white",
             "startlinecolor": "#2a3f5f"
            },
            "baxis": {
             "endlinecolor": "#2a3f5f",
             "gridcolor": "white",
             "linecolor": "white",
             "minorgridcolor": "white",
             "startlinecolor": "#2a3f5f"
            },
            "type": "carpet"
           }
          ],
          "choropleth": [
           {
            "colorbar": {
             "outlinewidth": 0,
             "ticks": ""
            },
            "type": "choropleth"
           }
          ],
          "contour": [
           {
            "colorbar": {
             "outlinewidth": 0,
             "ticks": ""
            },
            "colorscale": [
             [
              0,
              "#0d0887"
             ],
             [
              0.1111111111111111,
              "#46039f"
             ],
             [
              0.2222222222222222,
              "#7201a8"
             ],
             [
              0.3333333333333333,
              "#9c179e"
             ],
             [
              0.4444444444444444,
              "#bd3786"
             ],
             [
              0.5555555555555556,
              "#d8576b"
             ],
             [
              0.6666666666666666,
              "#ed7953"
             ],
             [
              0.7777777777777778,
              "#fb9f3a"
             ],
             [
              0.8888888888888888,
              "#fdca26"
             ],
             [
              1,
              "#f0f921"
             ]
            ],
            "type": "contour"
           }
          ],
          "contourcarpet": [
           {
            "colorbar": {
             "outlinewidth": 0,
             "ticks": ""
            },
            "type": "contourcarpet"
           }
          ],
          "heatmap": [
           {
            "colorbar": {
             "outlinewidth": 0,
             "ticks": ""
            },
            "colorscale": [
             [
              0,
              "#0d0887"
             ],
             [
              0.1111111111111111,
              "#46039f"
             ],
             [
              0.2222222222222222,
              "#7201a8"
             ],
             [
              0.3333333333333333,
              "#9c179e"
             ],
             [
              0.4444444444444444,
              "#bd3786"
             ],
             [
              0.5555555555555556,
              "#d8576b"
             ],
             [
              0.6666666666666666,
              "#ed7953"
             ],
             [
              0.7777777777777778,
              "#fb9f3a"
             ],
             [
              0.8888888888888888,
              "#fdca26"
             ],
             [
              1,
              "#f0f921"
             ]
            ],
            "type": "heatmap"
           }
          ],
          "histogram": [
           {
            "marker": {
             "pattern": {
              "fillmode": "overlay",
              "size": 10,
              "solidity": 0.2
             }
            },
            "type": "histogram"
           }
          ],
          "histogram2d": [
           {
            "colorbar": {
             "outlinewidth": 0,
             "ticks": ""
            },
            "colorscale": [
             [
              0,
              "#0d0887"
             ],
             [
              0.1111111111111111,
              "#46039f"
             ],
             [
              0.2222222222222222,
              "#7201a8"
             ],
             [
              0.3333333333333333,
              "#9c179e"
             ],
             [
              0.4444444444444444,
              "#bd3786"
             ],
             [
              0.5555555555555556,
              "#d8576b"
             ],
             [
              0.6666666666666666,
              "#ed7953"
             ],
             [
              0.7777777777777778,
              "#fb9f3a"
             ],
             [
              0.8888888888888888,
              "#fdca26"
             ],
             [
              1,
              "#f0f921"
             ]
            ],
            "type": "histogram2d"
           }
          ],
          "histogram2dcontour": [
           {
            "colorbar": {
             "outlinewidth": 0,
             "ticks": ""
            },
            "colorscale": [
             [
              0,
              "#0d0887"
             ],
             [
              0.1111111111111111,
              "#46039f"
             ],
             [
              0.2222222222222222,
              "#7201a8"
             ],
             [
              0.3333333333333333,
              "#9c179e"
             ],
             [
              0.4444444444444444,
              "#bd3786"
             ],
             [
              0.5555555555555556,
              "#d8576b"
             ],
             [
              0.6666666666666666,
              "#ed7953"
             ],
             [
              0.7777777777777778,
              "#fb9f3a"
             ],
             [
              0.8888888888888888,
              "#fdca26"
             ],
             [
              1,
              "#f0f921"
             ]
            ],
            "type": "histogram2dcontour"
           }
          ],
          "mesh3d": [
           {
            "colorbar": {
             "outlinewidth": 0,
             "ticks": ""
            },
            "type": "mesh3d"
           }
          ],
          "parcoords": [
           {
            "line": {
             "colorbar": {
              "outlinewidth": 0,
              "ticks": ""
             }
            },
            "type": "parcoords"
           }
          ],
          "pie": [
           {
            "automargin": true,
            "type": "pie"
           }
          ],
          "scatter": [
           {
            "fillpattern": {
             "fillmode": "overlay",
             "size": 10,
             "solidity": 0.2
            },
            "type": "scatter"
           }
          ],
          "scatter3d": [
           {
            "line": {
             "colorbar": {
              "outlinewidth": 0,
              "ticks": ""
             }
            },
            "marker": {
             "colorbar": {
              "outlinewidth": 0,
              "ticks": ""
             }
            },
            "type": "scatter3d"
           }
          ],
          "scattercarpet": [
           {
            "marker": {
             "colorbar": {
              "outlinewidth": 0,
              "ticks": ""
             }
            },
            "type": "scattercarpet"
           }
          ],
          "scattergeo": [
           {
            "marker": {
             "colorbar": {
              "outlinewidth": 0,
              "ticks": ""
             }
            },
            "type": "scattergeo"
           }
          ],
          "scattergl": [
           {
            "marker": {
             "colorbar": {
              "outlinewidth": 0,
              "ticks": ""
             }
            },
            "type": "scattergl"
           }
          ],
          "scattermap": [
           {
            "marker": {
             "colorbar": {
              "outlinewidth": 0,
              "ticks": ""
             }
            },
            "type": "scattermap"
           }
          ],
          "scattermapbox": [
           {
            "marker": {
             "colorbar": {
              "outlinewidth": 0,
              "ticks": ""
             }
            },
            "type": "scattermapbox"
           }
          ],
          "scatterpolar": [
           {
            "marker": {
             "colorbar": {
              "outlinewidth": 0,
              "ticks": ""
             }
            },
            "type": "scatterpolar"
           }
          ],
          "scatterpolargl": [
           {
            "marker": {
             "colorbar": {
              "outlinewidth": 0,
              "ticks": ""
             }
            },
            "type": "scatterpolargl"
           }
          ],
          "scatterternary": [
           {
            "marker": {
             "colorbar": {
              "outlinewidth": 0,
              "ticks": ""
             }
            },
            "type": "scatterternary"
           }
          ],
          "surface": [
           {
            "colorbar": {
             "outlinewidth": 0,
             "ticks": ""
            },
            "colorscale": [
             [
              0,
              "#0d0887"
             ],
             [
              0.1111111111111111,
              "#46039f"
             ],
             [
              0.2222222222222222,
              "#7201a8"
             ],
             [
              0.3333333333333333,
              "#9c179e"
             ],
             [
              0.4444444444444444,
              "#bd3786"
             ],
             [
              0.5555555555555556,
              "#d8576b"
             ],
             [
              0.6666666666666666,
              "#ed7953"
             ],
             [
              0.7777777777777778,
              "#fb9f3a"
             ],
             [
              0.8888888888888888,
              "#fdca26"
             ],
             [
              1,
              "#f0f921"
             ]
            ],
            "type": "surface"
           }
          ],
          "table": [
           {
            "cells": {
             "fill": {
              "color": "#EBF0F8"
             },
             "line": {
              "color": "white"
             }
            },
            "header": {
             "fill": {
              "color": "#C8D4E3"
             },
             "line": {
              "color": "white"
             }
            },
            "type": "table"
           }
          ]
         },
         "layout": {
          "annotationdefaults": {
           "arrowcolor": "#2a3f5f",
           "arrowhead": 0,
           "arrowwidth": 1
          },
          "autotypenumbers": "strict",
          "coloraxis": {
           "colorbar": {
            "outlinewidth": 0,
            "ticks": ""
           }
          },
          "colorscale": {
           "diverging": [
            [
             0,
             "#8e0152"
            ],
            [
             0.1,
             "#c51b7d"
            ],
            [
             0.2,
             "#de77ae"
            ],
            [
             0.3,
             "#f1b6da"
            ],
            [
             0.4,
             "#fde0ef"
            ],
            [
             0.5,
             "#f7f7f7"
            ],
            [
             0.6,
             "#e6f5d0"
            ],
            [
             0.7,
             "#b8e186"
            ],
            [
             0.8,
             "#7fbc41"
            ],
            [
             0.9,
             "#4d9221"
            ],
            [
             1,
             "#276419"
            ]
           ],
           "sequential": [
            [
             0,
             "#0d0887"
            ],
            [
             0.1111111111111111,
             "#46039f"
            ],
            [
             0.2222222222222222,
             "#7201a8"
            ],
            [
             0.3333333333333333,
             "#9c179e"
            ],
            [
             0.4444444444444444,
             "#bd3786"
            ],
            [
             0.5555555555555556,
             "#d8576b"
            ],
            [
             0.6666666666666666,
             "#ed7953"
            ],
            [
             0.7777777777777778,
             "#fb9f3a"
            ],
            [
             0.8888888888888888,
             "#fdca26"
            ],
            [
             1,
             "#f0f921"
            ]
           ],
           "sequentialminus": [
            [
             0,
             "#0d0887"
            ],
            [
             0.1111111111111111,
             "#46039f"
            ],
            [
             0.2222222222222222,
             "#7201a8"
            ],
            [
             0.3333333333333333,
             "#9c179e"
            ],
            [
             0.4444444444444444,
             "#bd3786"
            ],
            [
             0.5555555555555556,
             "#d8576b"
            ],
            [
             0.6666666666666666,
             "#ed7953"
            ],
            [
             0.7777777777777778,
             "#fb9f3a"
            ],
            [
             0.8888888888888888,
             "#fdca26"
            ],
            [
             1,
             "#f0f921"
            ]
           ]
          },
          "colorway": [
           "#636efa",
           "#EF553B",
           "#00cc96",
           "#ab63fa",
           "#FFA15A",
           "#19d3f3",
           "#FF6692",
           "#B6E880",
           "#FF97FF",
           "#FECB52"
          ],
          "font": {
           "color": "#2a3f5f"
          },
          "geo": {
           "bgcolor": "white",
           "lakecolor": "white",
           "landcolor": "#E5ECF6",
           "showlakes": true,
           "showland": true,
           "subunitcolor": "white"
          },
          "hoverlabel": {
           "align": "left"
          },
          "hovermode": "closest",
          "mapbox": {
           "style": "light"
          },
          "paper_bgcolor": "white",
          "plot_bgcolor": "#E5ECF6",
          "polar": {
           "angularaxis": {
            "gridcolor": "white",
            "linecolor": "white",
            "ticks": ""
           },
           "bgcolor": "#E5ECF6",
           "radialaxis": {
            "gridcolor": "white",
            "linecolor": "white",
            "ticks": ""
           }
          },
          "scene": {
           "xaxis": {
            "backgroundcolor": "#E5ECF6",
            "gridcolor": "white",
            "gridwidth": 2,
            "linecolor": "white",
            "showbackground": true,
            "ticks": "",
            "zerolinecolor": "white"
           },
           "yaxis": {
            "backgroundcolor": "#E5ECF6",
            "gridcolor": "white",
            "gridwidth": 2,
            "linecolor": "white",
            "showbackground": true,
            "ticks": "",
            "zerolinecolor": "white"
           },
           "zaxis": {
            "backgroundcolor": "#E5ECF6",
            "gridcolor": "white",
            "gridwidth": 2,
            "linecolor": "white",
            "showbackground": true,
            "ticks": "",
            "zerolinecolor": "white"
           }
          },
          "shapedefaults": {
           "line": {
            "color": "#2a3f5f"
           }
          },
          "ternary": {
           "aaxis": {
            "gridcolor": "white",
            "linecolor": "white",
            "ticks": ""
           },
           "baxis": {
            "gridcolor": "white",
            "linecolor": "white",
            "ticks": ""
           },
           "bgcolor": "#E5ECF6",
           "caxis": {
            "gridcolor": "white",
            "linecolor": "white",
            "ticks": ""
           }
          },
          "title": {
           "x": 0.05
          },
          "xaxis": {
           "automargin": true,
           "gridcolor": "white",
           "linecolor": "white",
           "ticks": "",
           "title": {
            "standoff": 15
           },
           "zerolinecolor": "white",
           "zerolinewidth": 2
          },
          "yaxis": {
           "automargin": true,
           "gridcolor": "white",
           "linecolor": "white",
           "ticks": "",
           "title": {
            "standoff": 15
           },
           "zerolinecolor": "white",
           "zerolinewidth": 2
          }
         }
        },
        "title": {
         "text": "Component time for PROMPT PROCESSING"
        },
        "width": 800,
        "xaxis": {
         "anchor": "y",
         "domain": [
          0,
          1
         ],
         "title": {
          "text": "component"
         }
        },
        "yaxis": {
         "anchor": "x",
         "domain": [
          0,
          1
         ],
         "title": {
          "text": "time (ms)"
         }
        }
       }
      }
     },
     "metadata": {},
     "output_type": "display_data"
    }
   ],
   "source": [
    "import json\n",
    "import pandas as pd\n",
    "import plotly.express as px\n",
    "\n",
    "with open(file) as f:\n",
    "    data = json.load(f)\n",
    "\n",
    "json2 = data[\"JSON_2\"]\n",
    "\n",
    "df = pd.DataFrame({\n",
    "    \"component\": list(json2.keys()),\n",
    "    \"time (ms)\": [values[0] if isinstance(values, list) and values else None for values in json2.values()]\n",
    "})\n",
    "\n",
    "df = df.dropna()\n",
    "\n",
    "fig = px.bar(\n",
    "    df,\n",
    "    x=\"component\",\n",
    "    y=\"time (ms)\",\n",
    "    title=\"Component time for PROMPT PROCESSING\",\n",
    "\n",
    "    width=800,\n",
    "    text_auto=\".2f\"\n",
    ")\n",
    "fig.show()\n"
   ]
  },
  {
   "cell_type": "code",
   "execution_count": 7,
   "id": "94918585",
   "metadata": {},
   "outputs": [
    {
     "data": {
      "application/vnd.plotly.v1+json": {
       "config": {
        "plotlyServerURL": "https://plot.ly"
       },
       "data": [
        {
         "hovertemplate": "component=%{x}<br>time (ms)=%{y}<extra></extra>",
         "legendgroup": "",
         "marker": {
          "color": "#636efa",
          "pattern": {
           "shape": ""
          }
         },
         "name": "",
         "orientation": "v",
         "showlegend": false,
         "textposition": "auto",
         "texttemplate": "%{y:.2f}",
         "type": "bar",
         "x": [
          "RMSNORM_INIT",
          "MATMUL_QKV",
          "ROPE",
          "ATTENTION_COMPUTATION",
          "MATMUL_OUTPUT_ATTENTION",
          "FFN_RMSNORM",
          "MATMUL_FFN",
          "SwiGLU",
          "MATMUL_OUTPUT_FFN",
          "FINAL_RMSNORM",
          "MAMTUL_LOGITS"
         ],
         "xaxis": "x",
         "y": {
          "bdata": "CYofY+5a1j+OBvAWSARzQIV80LNZdThAklz+Q/otEUC2hHzQs1F2QCDSb18HPjBAp3nHKVoZokDtnjws1B5eQEJg5dDi75BADk+vlGXITkBB8WPMXZtKQA==",
          "dtype": "f8"
         },
         "yaxis": "y"
        }
       ],
       "layout": {
        "barmode": "relative",
        "legend": {
         "tracegroupgap": 0
        },
        "template": {
         "data": {
          "bar": [
           {
            "error_x": {
             "color": "#2a3f5f"
            },
            "error_y": {
             "color": "#2a3f5f"
            },
            "marker": {
             "line": {
              "color": "#E5ECF6",
              "width": 0.5
             },
             "pattern": {
              "fillmode": "overlay",
              "size": 10,
              "solidity": 0.2
             }
            },
            "type": "bar"
           }
          ],
          "barpolar": [
           {
            "marker": {
             "line": {
              "color": "#E5ECF6",
              "width": 0.5
             },
             "pattern": {
              "fillmode": "overlay",
              "size": 10,
              "solidity": 0.2
             }
            },
            "type": "barpolar"
           }
          ],
          "carpet": [
           {
            "aaxis": {
             "endlinecolor": "#2a3f5f",
             "gridcolor": "white",
             "linecolor": "white",
             "minorgridcolor": "white",
             "startlinecolor": "#2a3f5f"
            },
            "baxis": {
             "endlinecolor": "#2a3f5f",
             "gridcolor": "white",
             "linecolor": "white",
             "minorgridcolor": "white",
             "startlinecolor": "#2a3f5f"
            },
            "type": "carpet"
           }
          ],
          "choropleth": [
           {
            "colorbar": {
             "outlinewidth": 0,
             "ticks": ""
            },
            "type": "choropleth"
           }
          ],
          "contour": [
           {
            "colorbar": {
             "outlinewidth": 0,
             "ticks": ""
            },
            "colorscale": [
             [
              0,
              "#0d0887"
             ],
             [
              0.1111111111111111,
              "#46039f"
             ],
             [
              0.2222222222222222,
              "#7201a8"
             ],
             [
              0.3333333333333333,
              "#9c179e"
             ],
             [
              0.4444444444444444,
              "#bd3786"
             ],
             [
              0.5555555555555556,
              "#d8576b"
             ],
             [
              0.6666666666666666,
              "#ed7953"
             ],
             [
              0.7777777777777778,
              "#fb9f3a"
             ],
             [
              0.8888888888888888,
              "#fdca26"
             ],
             [
              1,
              "#f0f921"
             ]
            ],
            "type": "contour"
           }
          ],
          "contourcarpet": [
           {
            "colorbar": {
             "outlinewidth": 0,
             "ticks": ""
            },
            "type": "contourcarpet"
           }
          ],
          "heatmap": [
           {
            "colorbar": {
             "outlinewidth": 0,
             "ticks": ""
            },
            "colorscale": [
             [
              0,
              "#0d0887"
             ],
             [
              0.1111111111111111,
              "#46039f"
             ],
             [
              0.2222222222222222,
              "#7201a8"
             ],
             [
              0.3333333333333333,
              "#9c179e"
             ],
             [
              0.4444444444444444,
              "#bd3786"
             ],
             [
              0.5555555555555556,
              "#d8576b"
             ],
             [
              0.6666666666666666,
              "#ed7953"
             ],
             [
              0.7777777777777778,
              "#fb9f3a"
             ],
             [
              0.8888888888888888,
              "#fdca26"
             ],
             [
              1,
              "#f0f921"
             ]
            ],
            "type": "heatmap"
           }
          ],
          "histogram": [
           {
            "marker": {
             "pattern": {
              "fillmode": "overlay",
              "size": 10,
              "solidity": 0.2
             }
            },
            "type": "histogram"
           }
          ],
          "histogram2d": [
           {
            "colorbar": {
             "outlinewidth": 0,
             "ticks": ""
            },
            "colorscale": [
             [
              0,
              "#0d0887"
             ],
             [
              0.1111111111111111,
              "#46039f"
             ],
             [
              0.2222222222222222,
              "#7201a8"
             ],
             [
              0.3333333333333333,
              "#9c179e"
             ],
             [
              0.4444444444444444,
              "#bd3786"
             ],
             [
              0.5555555555555556,
              "#d8576b"
             ],
             [
              0.6666666666666666,
              "#ed7953"
             ],
             [
              0.7777777777777778,
              "#fb9f3a"
             ],
             [
              0.8888888888888888,
              "#fdca26"
             ],
             [
              1,
              "#f0f921"
             ]
            ],
            "type": "histogram2d"
           }
          ],
          "histogram2dcontour": [
           {
            "colorbar": {
             "outlinewidth": 0,
             "ticks": ""
            },
            "colorscale": [
             [
              0,
              "#0d0887"
             ],
             [
              0.1111111111111111,
              "#46039f"
             ],
             [
              0.2222222222222222,
              "#7201a8"
             ],
             [
              0.3333333333333333,
              "#9c179e"
             ],
             [
              0.4444444444444444,
              "#bd3786"
             ],
             [
              0.5555555555555556,
              "#d8576b"
             ],
             [
              0.6666666666666666,
              "#ed7953"
             ],
             [
              0.7777777777777778,
              "#fb9f3a"
             ],
             [
              0.8888888888888888,
              "#fdca26"
             ],
             [
              1,
              "#f0f921"
             ]
            ],
            "type": "histogram2dcontour"
           }
          ],
          "mesh3d": [
           {
            "colorbar": {
             "outlinewidth": 0,
             "ticks": ""
            },
            "type": "mesh3d"
           }
          ],
          "parcoords": [
           {
            "line": {
             "colorbar": {
              "outlinewidth": 0,
              "ticks": ""
             }
            },
            "type": "parcoords"
           }
          ],
          "pie": [
           {
            "automargin": true,
            "type": "pie"
           }
          ],
          "scatter": [
           {
            "fillpattern": {
             "fillmode": "overlay",
             "size": 10,
             "solidity": 0.2
            },
            "type": "scatter"
           }
          ],
          "scatter3d": [
           {
            "line": {
             "colorbar": {
              "outlinewidth": 0,
              "ticks": ""
             }
            },
            "marker": {
             "colorbar": {
              "outlinewidth": 0,
              "ticks": ""
             }
            },
            "type": "scatter3d"
           }
          ],
          "scattercarpet": [
           {
            "marker": {
             "colorbar": {
              "outlinewidth": 0,
              "ticks": ""
             }
            },
            "type": "scattercarpet"
           }
          ],
          "scattergeo": [
           {
            "marker": {
             "colorbar": {
              "outlinewidth": 0,
              "ticks": ""
             }
            },
            "type": "scattergeo"
           }
          ],
          "scattergl": [
           {
            "marker": {
             "colorbar": {
              "outlinewidth": 0,
              "ticks": ""
             }
            },
            "type": "scattergl"
           }
          ],
          "scattermap": [
           {
            "marker": {
             "colorbar": {
              "outlinewidth": 0,
              "ticks": ""
             }
            },
            "type": "scattermap"
           }
          ],
          "scattermapbox": [
           {
            "marker": {
             "colorbar": {
              "outlinewidth": 0,
              "ticks": ""
             }
            },
            "type": "scattermapbox"
           }
          ],
          "scatterpolar": [
           {
            "marker": {
             "colorbar": {
              "outlinewidth": 0,
              "ticks": ""
             }
            },
            "type": "scatterpolar"
           }
          ],
          "scatterpolargl": [
           {
            "marker": {
             "colorbar": {
              "outlinewidth": 0,
              "ticks": ""
             }
            },
            "type": "scatterpolargl"
           }
          ],
          "scatterternary": [
           {
            "marker": {
             "colorbar": {
              "outlinewidth": 0,
              "ticks": ""
             }
            },
            "type": "scatterternary"
           }
          ],
          "surface": [
           {
            "colorbar": {
             "outlinewidth": 0,
             "ticks": ""
            },
            "colorscale": [
             [
              0,
              "#0d0887"
             ],
             [
              0.1111111111111111,
              "#46039f"
             ],
             [
              0.2222222222222222,
              "#7201a8"
             ],
             [
              0.3333333333333333,
              "#9c179e"
             ],
             [
              0.4444444444444444,
              "#bd3786"
             ],
             [
              0.5555555555555556,
              "#d8576b"
             ],
             [
              0.6666666666666666,
              "#ed7953"
             ],
             [
              0.7777777777777778,
              "#fb9f3a"
             ],
             [
              0.8888888888888888,
              "#fdca26"
             ],
             [
              1,
              "#f0f921"
             ]
            ],
            "type": "surface"
           }
          ],
          "table": [
           {
            "cells": {
             "fill": {
              "color": "#EBF0F8"
             },
             "line": {
              "color": "white"
             }
            },
            "header": {
             "fill": {
              "color": "#C8D4E3"
             },
             "line": {
              "color": "white"
             }
            },
            "type": "table"
           }
          ]
         },
         "layout": {
          "annotationdefaults": {
           "arrowcolor": "#2a3f5f",
           "arrowhead": 0,
           "arrowwidth": 1
          },
          "autotypenumbers": "strict",
          "coloraxis": {
           "colorbar": {
            "outlinewidth": 0,
            "ticks": ""
           }
          },
          "colorscale": {
           "diverging": [
            [
             0,
             "#8e0152"
            ],
            [
             0.1,
             "#c51b7d"
            ],
            [
             0.2,
             "#de77ae"
            ],
            [
             0.3,
             "#f1b6da"
            ],
            [
             0.4,
             "#fde0ef"
            ],
            [
             0.5,
             "#f7f7f7"
            ],
            [
             0.6,
             "#e6f5d0"
            ],
            [
             0.7,
             "#b8e186"
            ],
            [
             0.8,
             "#7fbc41"
            ],
            [
             0.9,
             "#4d9221"
            ],
            [
             1,
             "#276419"
            ]
           ],
           "sequential": [
            [
             0,
             "#0d0887"
            ],
            [
             0.1111111111111111,
             "#46039f"
            ],
            [
             0.2222222222222222,
             "#7201a8"
            ],
            [
             0.3333333333333333,
             "#9c179e"
            ],
            [
             0.4444444444444444,
             "#bd3786"
            ],
            [
             0.5555555555555556,
             "#d8576b"
            ],
            [
             0.6666666666666666,
             "#ed7953"
            ],
            [
             0.7777777777777778,
             "#fb9f3a"
            ],
            [
             0.8888888888888888,
             "#fdca26"
            ],
            [
             1,
             "#f0f921"
            ]
           ],
           "sequentialminus": [
            [
             0,
             "#0d0887"
            ],
            [
             0.1111111111111111,
             "#46039f"
            ],
            [
             0.2222222222222222,
             "#7201a8"
            ],
            [
             0.3333333333333333,
             "#9c179e"
            ],
            [
             0.4444444444444444,
             "#bd3786"
            ],
            [
             0.5555555555555556,
             "#d8576b"
            ],
            [
             0.6666666666666666,
             "#ed7953"
            ],
            [
             0.7777777777777778,
             "#fb9f3a"
            ],
            [
             0.8888888888888888,
             "#fdca26"
            ],
            [
             1,
             "#f0f921"
            ]
           ]
          },
          "colorway": [
           "#636efa",
           "#EF553B",
           "#00cc96",
           "#ab63fa",
           "#FFA15A",
           "#19d3f3",
           "#FF6692",
           "#B6E880",
           "#FF97FF",
           "#FECB52"
          ],
          "font": {
           "color": "#2a3f5f"
          },
          "geo": {
           "bgcolor": "white",
           "lakecolor": "white",
           "landcolor": "#E5ECF6",
           "showlakes": true,
           "showland": true,
           "subunitcolor": "white"
          },
          "hoverlabel": {
           "align": "left"
          },
          "hovermode": "closest",
          "mapbox": {
           "style": "light"
          },
          "paper_bgcolor": "white",
          "plot_bgcolor": "#E5ECF6",
          "polar": {
           "angularaxis": {
            "gridcolor": "white",
            "linecolor": "white",
            "ticks": ""
           },
           "bgcolor": "#E5ECF6",
           "radialaxis": {
            "gridcolor": "white",
            "linecolor": "white",
            "ticks": ""
           }
          },
          "scene": {
           "xaxis": {
            "backgroundcolor": "#E5ECF6",
            "gridcolor": "white",
            "gridwidth": 2,
            "linecolor": "white",
            "showbackground": true,
            "ticks": "",
            "zerolinecolor": "white"
           },
           "yaxis": {
            "backgroundcolor": "#E5ECF6",
            "gridcolor": "white",
            "gridwidth": 2,
            "linecolor": "white",
            "showbackground": true,
            "ticks": "",
            "zerolinecolor": "white"
           },
           "zaxis": {
            "backgroundcolor": "#E5ECF6",
            "gridcolor": "white",
            "gridwidth": 2,
            "linecolor": "white",
            "showbackground": true,
            "ticks": "",
            "zerolinecolor": "white"
           }
          },
          "shapedefaults": {
           "line": {
            "color": "#2a3f5f"
           }
          },
          "ternary": {
           "aaxis": {
            "gridcolor": "white",
            "linecolor": "white",
            "ticks": ""
           },
           "baxis": {
            "gridcolor": "white",
            "linecolor": "white",
            "ticks": ""
           },
           "bgcolor": "#E5ECF6",
           "caxis": {
            "gridcolor": "white",
            "linecolor": "white",
            "ticks": ""
           }
          },
          "title": {
           "x": 0.05
          },
          "xaxis": {
           "automargin": true,
           "gridcolor": "white",
           "linecolor": "white",
           "ticks": "",
           "title": {
            "standoff": 15
           },
           "zerolinecolor": "white",
           "zerolinewidth": 2
          },
          "yaxis": {
           "automargin": true,
           "gridcolor": "white",
           "linecolor": "white",
           "ticks": "",
           "title": {
            "standoff": 15
           },
           "zerolinecolor": "white",
           "zerolinewidth": 2
          }
         }
        },
        "title": {
         "text": "Component time for CACHE LOADING"
        },
        "width": 800,
        "xaxis": {
         "anchor": "y",
         "domain": [
          0,
          1
         ],
         "title": {
          "text": "component"
         }
        },
        "yaxis": {
         "anchor": "x",
         "domain": [
          0,
          1
         ],
         "title": {
          "text": "time (ms)"
         },
         "type": "log"
        }
       }
      }
     },
     "metadata": {},
     "output_type": "display_data"
    }
   ],
   "source": [
    "df_2 = pd.DataFrame({\n",
    "    \"component\": list(json2.keys()),\n",
    "    \"time (ms)\": [values[1] if isinstance(values, list) and values else None for values in json2.values()]\n",
    "})\n",
    "df = df.dropna()\n",
    "\n",
    "fig = px.bar(\n",
    "    df,\n",
    "    x=\"component\",\n",
    "    y=\"time (ms)\",\n",
    "    title=\"Component time for CACHE LOADING\",\n",
    "    log_y=True,\n",
    "    width=800,\n",
    "    text_auto=\".2f\"\n",
    ")\n",
    "fig.show()"
   ]
  },
  {
   "cell_type": "code",
   "execution_count": null,
   "id": "f1653b7a",
   "metadata": {},
   "outputs": [
    {
     "data": {
      "application/vnd.plotly.v1+json": {
       "config": {
        "plotlyServerURL": "https://plot.ly"
       },
       "data": [
        {
         "hovertemplate": "component=%{x}<br>time (ms)=%{y}<extra></extra>",
         "legendgroup": "",
         "marker": {
          "color": "#636efa",
          "pattern": {
           "shape": ""
          }
         },
         "name": "",
         "orientation": "v",
         "showlegend": false,
         "textposition": "auto",
         "texttemplate": "%{y:.2f}",
         "type": "bar",
         "x": [
          "RMSNORM_INIT",
          "MATMUL_QKV",
          "ROPE",
          "ATTENTION_COMPUTATION",
          "MATMUL_OUTPUT_ATTENTION",
          "FFN_RMSNORM",
          "MATMUL_FFN",
          "SwiGLU",
          "MATMUL_OUTPUT_FFN",
          "FINAL_RMSNORM",
          "MAMTUL_LOGITS"
         ],
         "xaxis": "x",
         "y": {
          "bdata": "jhAAH7YAhT/KgM6niH8eQKLbPPNvnaM/CYLQaJb1yD9qt2yP4asUQMO8xF4cdII/6XlDAj2OREDtykkruCusP5oaeqAkHzRAu2jCAoBaPj91/ZEE5H0yQA==",
          "dtype": "f8"
         },
         "yaxis": "y"
        }
       ],
       "layout": {
        "barmode": "relative",
        "legend": {
         "tracegroupgap": 0
        },
        "template": {
         "data": {
          "bar": [
           {
            "error_x": {
             "color": "#2a3f5f"
            },
            "error_y": {
             "color": "#2a3f5f"
            },
            "marker": {
             "line": {
              "color": "#E5ECF6",
              "width": 0.5
             },
             "pattern": {
              "fillmode": "overlay",
              "size": 10,
              "solidity": 0.2
             }
            },
            "type": "bar"
           }
          ],
          "barpolar": [
           {
            "marker": {
             "line": {
              "color": "#E5ECF6",
              "width": 0.5
             },
             "pattern": {
              "fillmode": "overlay",
              "size": 10,
              "solidity": 0.2
             }
            },
            "type": "barpolar"
           }
          ],
          "carpet": [
           {
            "aaxis": {
             "endlinecolor": "#2a3f5f",
             "gridcolor": "white",
             "linecolor": "white",
             "minorgridcolor": "white",
             "startlinecolor": "#2a3f5f"
            },
            "baxis": {
             "endlinecolor": "#2a3f5f",
             "gridcolor": "white",
             "linecolor": "white",
             "minorgridcolor": "white",
             "startlinecolor": "#2a3f5f"
            },
            "type": "carpet"
           }
          ],
          "choropleth": [
           {
            "colorbar": {
             "outlinewidth": 0,
             "ticks": ""
            },
            "type": "choropleth"
           }
          ],
          "contour": [
           {
            "colorbar": {
             "outlinewidth": 0,
             "ticks": ""
            },
            "colorscale": [
             [
              0,
              "#0d0887"
             ],
             [
              0.1111111111111111,
              "#46039f"
             ],
             [
              0.2222222222222222,
              "#7201a8"
             ],
             [
              0.3333333333333333,
              "#9c179e"
             ],
             [
              0.4444444444444444,
              "#bd3786"
             ],
             [
              0.5555555555555556,
              "#d8576b"
             ],
             [
              0.6666666666666666,
              "#ed7953"
             ],
             [
              0.7777777777777778,
              "#fb9f3a"
             ],
             [
              0.8888888888888888,
              "#fdca26"
             ],
             [
              1,
              "#f0f921"
             ]
            ],
            "type": "contour"
           }
          ],
          "contourcarpet": [
           {
            "colorbar": {
             "outlinewidth": 0,
             "ticks": ""
            },
            "type": "contourcarpet"
           }
          ],
          "heatmap": [
           {
            "colorbar": {
             "outlinewidth": 0,
             "ticks": ""
            },
            "colorscale": [
             [
              0,
              "#0d0887"
             ],
             [
              0.1111111111111111,
              "#46039f"
             ],
             [
              0.2222222222222222,
              "#7201a8"
             ],
             [
              0.3333333333333333,
              "#9c179e"
             ],
             [
              0.4444444444444444,
              "#bd3786"
             ],
             [
              0.5555555555555556,
              "#d8576b"
             ],
             [
              0.6666666666666666,
              "#ed7953"
             ],
             [
              0.7777777777777778,
              "#fb9f3a"
             ],
             [
              0.8888888888888888,
              "#fdca26"
             ],
             [
              1,
              "#f0f921"
             ]
            ],
            "type": "heatmap"
           }
          ],
          "histogram": [
           {
            "marker": {
             "pattern": {
              "fillmode": "overlay",
              "size": 10,
              "solidity": 0.2
             }
            },
            "type": "histogram"
           }
          ],
          "histogram2d": [
           {
            "colorbar": {
             "outlinewidth": 0,
             "ticks": ""
            },
            "colorscale": [
             [
              0,
              "#0d0887"
             ],
             [
              0.1111111111111111,
              "#46039f"
             ],
             [
              0.2222222222222222,
              "#7201a8"
             ],
             [
              0.3333333333333333,
              "#9c179e"
             ],
             [
              0.4444444444444444,
              "#bd3786"
             ],
             [
              0.5555555555555556,
              "#d8576b"
             ],
             [
              0.6666666666666666,
              "#ed7953"
             ],
             [
              0.7777777777777778,
              "#fb9f3a"
             ],
             [
              0.8888888888888888,
              "#fdca26"
             ],
             [
              1,
              "#f0f921"
             ]
            ],
            "type": "histogram2d"
           }
          ],
          "histogram2dcontour": [
           {
            "colorbar": {
             "outlinewidth": 0,
             "ticks": ""
            },
            "colorscale": [
             [
              0,
              "#0d0887"
             ],
             [
              0.1111111111111111,
              "#46039f"
             ],
             [
              0.2222222222222222,
              "#7201a8"
             ],
             [
              0.3333333333333333,
              "#9c179e"
             ],
             [
              0.4444444444444444,
              "#bd3786"
             ],
             [
              0.5555555555555556,
              "#d8576b"
             ],
             [
              0.6666666666666666,
              "#ed7953"
             ],
             [
              0.7777777777777778,
              "#fb9f3a"
             ],
             [
              0.8888888888888888,
              "#fdca26"
             ],
             [
              1,
              "#f0f921"
             ]
            ],
            "type": "histogram2dcontour"
           }
          ],
          "mesh3d": [
           {
            "colorbar": {
             "outlinewidth": 0,
             "ticks": ""
            },
            "type": "mesh3d"
           }
          ],
          "parcoords": [
           {
            "line": {
             "colorbar": {
              "outlinewidth": 0,
              "ticks": ""
             }
            },
            "type": "parcoords"
           }
          ],
          "pie": [
           {
            "automargin": true,
            "type": "pie"
           }
          ],
          "scatter": [
           {
            "fillpattern": {
             "fillmode": "overlay",
             "size": 10,
             "solidity": 0.2
            },
            "type": "scatter"
           }
          ],
          "scatter3d": [
           {
            "line": {
             "colorbar": {
              "outlinewidth": 0,
              "ticks": ""
             }
            },
            "marker": {
             "colorbar": {
              "outlinewidth": 0,
              "ticks": ""
             }
            },
            "type": "scatter3d"
           }
          ],
          "scattercarpet": [
           {
            "marker": {
             "colorbar": {
              "outlinewidth": 0,
              "ticks": ""
             }
            },
            "type": "scattercarpet"
           }
          ],
          "scattergeo": [
           {
            "marker": {
             "colorbar": {
              "outlinewidth": 0,
              "ticks": ""
             }
            },
            "type": "scattergeo"
           }
          ],
          "scattergl": [
           {
            "marker": {
             "colorbar": {
              "outlinewidth": 0,
              "ticks": ""
             }
            },
            "type": "scattergl"
           }
          ],
          "scattermap": [
           {
            "marker": {
             "colorbar": {
              "outlinewidth": 0,
              "ticks": ""
             }
            },
            "type": "scattermap"
           }
          ],
          "scattermapbox": [
           {
            "marker": {
             "colorbar": {
              "outlinewidth": 0,
              "ticks": ""
             }
            },
            "type": "scattermapbox"
           }
          ],
          "scatterpolar": [
           {
            "marker": {
             "colorbar": {
              "outlinewidth": 0,
              "ticks": ""
             }
            },
            "type": "scatterpolar"
           }
          ],
          "scatterpolargl": [
           {
            "marker": {
             "colorbar": {
              "outlinewidth": 0,
              "ticks": ""
             }
            },
            "type": "scatterpolargl"
           }
          ],
          "scatterternary": [
           {
            "marker": {
             "colorbar": {
              "outlinewidth": 0,
              "ticks": ""
             }
            },
            "type": "scatterternary"
           }
          ],
          "surface": [
           {
            "colorbar": {
             "outlinewidth": 0,
             "ticks": ""
            },
            "colorscale": [
             [
              0,
              "#0d0887"
             ],
             [
              0.1111111111111111,
              "#46039f"
             ],
             [
              0.2222222222222222,
              "#7201a8"
             ],
             [
              0.3333333333333333,
              "#9c179e"
             ],
             [
              0.4444444444444444,
              "#bd3786"
             ],
             [
              0.5555555555555556,
              "#d8576b"
             ],
             [
              0.6666666666666666,
              "#ed7953"
             ],
             [
              0.7777777777777778,
              "#fb9f3a"
             ],
             [
              0.8888888888888888,
              "#fdca26"
             ],
             [
              1,
              "#f0f921"
             ]
            ],
            "type": "surface"
           }
          ],
          "table": [
           {
            "cells": {
             "fill": {
              "color": "#EBF0F8"
             },
             "line": {
              "color": "white"
             }
            },
            "header": {
             "fill": {
              "color": "#C8D4E3"
             },
             "line": {
              "color": "white"
             }
            },
            "type": "table"
           }
          ]
         },
         "layout": {
          "annotationdefaults": {
           "arrowcolor": "#2a3f5f",
           "arrowhead": 0,
           "arrowwidth": 1
          },
          "autotypenumbers": "strict",
          "coloraxis": {
           "colorbar": {
            "outlinewidth": 0,
            "ticks": ""
           }
          },
          "colorscale": {
           "diverging": [
            [
             0,
             "#8e0152"
            ],
            [
             0.1,
             "#c51b7d"
            ],
            [
             0.2,
             "#de77ae"
            ],
            [
             0.3,
             "#f1b6da"
            ],
            [
             0.4,
             "#fde0ef"
            ],
            [
             0.5,
             "#f7f7f7"
            ],
            [
             0.6,
             "#e6f5d0"
            ],
            [
             0.7,
             "#b8e186"
            ],
            [
             0.8,
             "#7fbc41"
            ],
            [
             0.9,
             "#4d9221"
            ],
            [
             1,
             "#276419"
            ]
           ],
           "sequential": [
            [
             0,
             "#0d0887"
            ],
            [
             0.1111111111111111,
             "#46039f"
            ],
            [
             0.2222222222222222,
             "#7201a8"
            ],
            [
             0.3333333333333333,
             "#9c179e"
            ],
            [
             0.4444444444444444,
             "#bd3786"
            ],
            [
             0.5555555555555556,
             "#d8576b"
            ],
            [
             0.6666666666666666,
             "#ed7953"
            ],
            [
             0.7777777777777778,
             "#fb9f3a"
            ],
            [
             0.8888888888888888,
             "#fdca26"
            ],
            [
             1,
             "#f0f921"
            ]
           ],
           "sequentialminus": [
            [
             0,
             "#0d0887"
            ],
            [
             0.1111111111111111,
             "#46039f"
            ],
            [
             0.2222222222222222,
             "#7201a8"
            ],
            [
             0.3333333333333333,
             "#9c179e"
            ],
            [
             0.4444444444444444,
             "#bd3786"
            ],
            [
             0.5555555555555556,
             "#d8576b"
            ],
            [
             0.6666666666666666,
             "#ed7953"
            ],
            [
             0.7777777777777778,
             "#fb9f3a"
            ],
            [
             0.8888888888888888,
             "#fdca26"
            ],
            [
             1,
             "#f0f921"
            ]
           ]
          },
          "colorway": [
           "#636efa",
           "#EF553B",
           "#00cc96",
           "#ab63fa",
           "#FFA15A",
           "#19d3f3",
           "#FF6692",
           "#B6E880",
           "#FF97FF",
           "#FECB52"
          ],
          "font": {
           "color": "#2a3f5f"
          },
          "geo": {
           "bgcolor": "white",
           "lakecolor": "white",
           "landcolor": "#E5ECF6",
           "showlakes": true,
           "showland": true,
           "subunitcolor": "white"
          },
          "hoverlabel": {
           "align": "left"
          },
          "hovermode": "closest",
          "mapbox": {
           "style": "light"
          },
          "paper_bgcolor": "white",
          "plot_bgcolor": "#E5ECF6",
          "polar": {
           "angularaxis": {
            "gridcolor": "white",
            "linecolor": "white",
            "ticks": ""
           },
           "bgcolor": "#E5ECF6",
           "radialaxis": {
            "gridcolor": "white",
            "linecolor": "white",
            "ticks": ""
           }
          },
          "scene": {
           "xaxis": {
            "backgroundcolor": "#E5ECF6",
            "gridcolor": "white",
            "gridwidth": 2,
            "linecolor": "white",
            "showbackground": true,
            "ticks": "",
            "zerolinecolor": "white"
           },
           "yaxis": {
            "backgroundcolor": "#E5ECF6",
            "gridcolor": "white",
            "gridwidth": 2,
            "linecolor": "white",
            "showbackground": true,
            "ticks": "",
            "zerolinecolor": "white"
           },
           "zaxis": {
            "backgroundcolor": "#E5ECF6",
            "gridcolor": "white",
            "gridwidth": 2,
            "linecolor": "white",
            "showbackground": true,
            "ticks": "",
            "zerolinecolor": "white"
           }
          },
          "shapedefaults": {
           "line": {
            "color": "#2a3f5f"
           }
          },
          "ternary": {
           "aaxis": {
            "gridcolor": "white",
            "linecolor": "white",
            "ticks": ""
           },
           "baxis": {
            "gridcolor": "white",
            "linecolor": "white",
            "ticks": ""
           },
           "bgcolor": "#E5ECF6",
           "caxis": {
            "gridcolor": "white",
            "linecolor": "white",
            "ticks": ""
           }
          },
          "title": {
           "x": 0.05
          },
          "xaxis": {
           "automargin": true,
           "gridcolor": "white",
           "linecolor": "white",
           "ticks": "",
           "title": {
            "standoff": 15
           },
           "zerolinecolor": "white",
           "zerolinewidth": 2
          },
          "yaxis": {
           "automargin": true,
           "gridcolor": "white",
           "linecolor": "white",
           "ticks": "",
           "title": {
            "standoff": 15
           },
           "zerolinecolor": "white",
           "zerolinewidth": 2
          }
         }
        },
        "title": {
         "text": "Average component time for TOKEN GENERATION"
        },
        "width": 800,
        "xaxis": {
         "anchor": "y",
         "domain": [
          0,
          1
         ],
         "title": {
          "text": "component"
         }
        },
        "yaxis": {
         "anchor": "x",
         "domain": [
          0,
          1
         ],
         "title": {
          "text": "time (ms)"
         }
        }
       }
      }
     },
     "metadata": {},
     "output_type": "display_data"
    }
   ],
   "source": [
    "import json\n",
    "import pandas as pd\n",
    "import plotly.express as px\n",
    "\n",
    "with open(file) as f:\n",
    "    data = json.load(f)\n",
    "\n",
    "json2 = data[\"JSON_2\"]\n",
    "\n",
    "df = pd.DataFrame({\n",
    "    \"component\": list(json2.keys()),\n",
    "    \"time (ms)\": [\n",
    "        sum(values[2:]) / len(values[2:]) if isinstance(values, list) and len(values) > 2 else None\n",
    "        for values in json2.values()\n",
    "    ]\n",
    "})\n",
    "\n",
    "df = df.dropna()\n",
    "\n",
    "fig = px.bar(\n",
    "    df,\n",
    "    x=\"component\",\n",
    "    y=\"time (ms)\",\n",
    "    title=\"Average component time for TOKEN GENERATION\",\n",
    "\n",
    "    text_auto='.2f',\n",
    "    width=800\n",
    ")\n",
    "fig.show()\n"
   ]
  },
  {
   "cell_type": "code",
   "execution_count": 9,
   "id": "c9b271da",
   "metadata": {},
   "outputs": [
    {
     "name": "stdout",
     "output_type": "stream",
     "text": [
      "4342.627600000001\n"
     ]
    }
   ],
   "source": [
    "total = sum(values[0] for values in json2.values() if isinstance(values, list) and values)\n",
    "print(total)"
   ]
  },
  {
   "cell_type": "code",
   "execution_count": 10,
   "id": "6d8fb7f5",
   "metadata": {},
   "outputs": [
    {
     "data": {
      "application/vnd.plotly.v1+json": {
       "config": {
        "plotlyServerURL": "https://plot.ly"
       },
       "data": [
        {
         "hovertemplate": "component=RMSNORM_INIT<br>step=%{x}<br>time (ms)=%{y}<extra></extra>",
         "legendgroup": "RMSNORM_INIT",
         "line": {
          "color": "#636efa",
          "dash": "solid"
         },
         "marker": {
          "symbol": "circle"
         },
         "mode": "lines+markers",
         "name": "RMSNORM_INIT",
         "orientation": "v",
         "showlegend": true,
         "type": "scatter",
         "x": {
          "bdata": "AAECAwQFBgcICQoLDA0O",
          "dtype": "i1"
         },
         "xaxis": "x",
         "y": {
          "bdata": "nYAmwoanlz8XSFD8GHOXP4lBYOXQIps/hlrTvOMUnT+NKO0NvjCZPxdIUPwYc5c/6SYxCKwcmj/D0ytlGeKYP9IA3gIJip8/E2HD0ytlmT90RpT2Bl+YP5LLf0i/fZ0/jSjtDb4wmT+Cc0aU9gafP4Za07zjFJ0/",
          "dtype": "f8"
         },
         "yaxis": "y"
        },
        {
         "hovertemplate": "component=MATMUL_QKV<br>step=%{x}<br>time (ms)=%{y}<extra></extra>",
         "legendgroup": "MATMUL_QKV",
         "line": {
          "color": "#EF553B",
          "dash": "solid"
         },
         "marker": {
          "symbol": "circle"
         },
         "mode": "lines+markers",
         "name": "MATMUL_QKV",
         "orientation": "v",
         "showlegend": true,
         "type": "scatter",
         "x": {
          "bdata": "AAECAwQFBgcICQoLDA0O",
          "dtype": "i1"
         },
         "xaxis": "x",
         "y": {
          "bdata": "BoGVQ4ucMUCb5h2n6Cg2QHPXEvJBrzNAuK8D54z4NkBkXdxGA6gyQHh6pSxDzDFADr4wmSrYMkDb+X5qvAQyQDBMpgpGJTJA2V92Tx4WMkAN4C2QoBgyQLG/7J48bDJAnl4pyxBXMkAIPZtVn+s1QHxhMlUw+jRA",
          "dtype": "f8"
         },
         "yaxis": "y"
        },
        {
         "hovertemplate": "component=ROPE<br>step=%{x}<br>time (ms)=%{y}<extra></extra>",
         "legendgroup": "ROPE",
         "line": {
          "color": "#00cc96",
          "dash": "solid"
         },
         "marker": {
          "symbol": "circle"
         },
         "mode": "lines+markers",
         "name": "ROPE",
         "orientation": "v",
         "showlegend": true,
         "type": "scatter",
         "x": {
          "bdata": "AAECAwQFBgcICQoLDA0O",
          "dtype": "i1"
         },
         "xaxis": "x",
         "y": {
          "bdata": "qRPQRNjwtD9oke18PzW+P/H0SlmGOLY/fa62Yn/ZvT9AE2HD0yu1P4y5awn5oLc/6Nms+lxttT9KDAIrhxa5P8NkqmBUUrc/UkmdgCbCtj+J0t7gC5O5P/YoXI/C9bg/jLlrCfmgtz+fPCzUmua9P8SxLm6jAbw/",
          "dtype": "f8"
         },
         "yaxis": "y"
        },
        {
         "hovertemplate": "component=ATTENTION_COMPUTATION<br>step=%{x}<br>time (ms)=%{y}<extra></extra>",
         "legendgroup": "ATTENTION_COMPUTATION",
         "line": {
          "color": "#ab63fa",
          "dash": "solid"
         },
         "marker": {
          "symbol": "circle"
         },
         "mode": "lines+markers",
         "name": "ATTENTION_COMPUTATION",
         "orientation": "v",
         "showlegend": true,
         "type": "scatter",
         "x": {
          "bdata": "AAECAwQFBgcICQoLDA0O",
          "dtype": "i1"
         },
         "xaxis": "x",
         "y": {
          "bdata": "pN++Dpwz2j+OdXEbDeDdPyo6kst/SNs/ZDvfT42X3j/129eBc0bcP5SHhVrTvNs/ufyH9NvX3T9z1xLyQc/eP/cGX5hMFeA/1sVtNIC34D+iRbbz/dTgPxWMSuoENOE/io7k8h/S4T9O0ZFc/kPiP8PTK2UZ4uI/",
          "dtype": "f8"
         },
         "yaxis": "y"
        },
        {
         "hovertemplate": "component=MATMUL_OUTPUT_ATTENTION<br>step=%{x}<br>time (ms)=%{y}<extra></extra>",
         "legendgroup": "MATMUL_OUTPUT_ATTENTION",
         "line": {
          "color": "#FFA15A",
          "dash": "solid"
         },
         "marker": {
          "symbol": "circle"
         },
         "mode": "lines+markers",
         "name": "MATMUL_OUTPUT_ATTENTION",
         "orientation": "v",
         "showlegend": true,
         "type": "scatter",
         "x": {
          "bdata": "AAECAwQFBgcICQoLDA0O",
          "dtype": "i1"
         },
         "xaxis": "x",
         "y": {
          "bdata": "lWWIY10cKEC1N/jCZCouQCGwcmiRrSpAD5wzorQXL0Bb07zjFB0pQJT2Bl+YLChAQBNhw9NLKEAIrBxaZPsoQBE2PL1SlihAMQisHFqkKEAbnl4py9AoQPp+arx0EyhAPzVeukmsKEDDZKpgVHItQNc07zhF5y1A",
          "dtype": "f8"
         },
         "yaxis": "y"
        },
        {
         "hovertemplate": "component=FFN_RMSNORM<br>step=%{x}<br>time (ms)=%{y}<extra></extra>",
         "legendgroup": "FFN_RMSNORM",
         "line": {
          "color": "#19d3f3",
          "dash": "solid"
         },
         "marker": {
          "symbol": "circle"
         },
         "mode": "lines+markers",
         "name": "FFN_RMSNORM",
         "orientation": "v",
         "showlegend": true,
         "type": "scatter",
         "x": {
          "bdata": "AAECAwQFBgcICQoLDA0O",
          "dtype": "i1"
         },
         "xaxis": "x",
         "y": {
          "bdata": "oWez6nO1lT/tDb4wmSqYP3ctIR/0bJY/r5RliGNdnD9VwaikTkCTP/H0SlmGOJY/pU5AE2HDkz9qvHSTGASWP40o7Q2+MJk/bqMBvAUSlD9fB84ZUdqbPz2bVZ+rrZg/TfOOU3Qklz/A7J48LNSaP8e6uI0G8JY/",
          "dtype": "f8"
         },
         "yaxis": "y"
        },
        {
         "hovertemplate": "component=MATMUL_FFN<br>step=%{x}<br>time (ms)=%{y}<extra></extra>",
         "legendgroup": "MATMUL_FFN",
         "line": {
          "color": "#FF6692",
          "dash": "solid"
         },
         "marker": {
          "symbol": "circle"
         },
         "mode": "lines+markers",
         "name": "MATMUL_FFN",
         "orientation": "v",
         "showlegend": true,
         "type": "scatter",
         "x": {
          "bdata": "AAECAwQFBgcICQoLDA0O",
          "dtype": "i1"
         },
         "xaxis": "x",
         "y": {
          "bdata": "6Gor9pehV0DnHafoSGJfQFjKMsSxFltAS1mGONYhYEDzH9JvX1NXQHNoke18Q1dAjErqBDQhWEDXNO84RUNYQA4tsp3vq1hATtGRXP4LWEBwzojS3khYQCgPC7WmFVhAseHplbJUWEAldQKaCPNeQPvL7snD1lxA",
          "dtype": "f8"
         },
         "yaxis": "y"
        },
        {
         "hovertemplate": "component=SwiGLU<br>step=%{x}<br>time (ms)=%{y}<extra></extra>",
         "legendgroup": "SwiGLU",
         "line": {
          "color": "#B6E880",
          "dash": "solid"
         },
         "marker": {
          "symbol": "circle"
         },
         "mode": "lines+markers",
         "name": "SwiGLU",
         "orientation": "v",
         "showlegend": true,
         "type": "scatter",
         "x": {
          "bdata": "AAECAwQFBgcICQoLDA0O",
          "dtype": "i1"
         },
         "xaxis": "x",
         "y": {
          "bdata": "4zYawFsgwT9bQj7o2azCP4EmwoanV8I/yJi7lpAPwj/r4jYawFvAPxlz1xLyQb8/RIts5/upwT+mCkYldQLCPxx8YTJVMMI/mG4Sg8DKwT9hw9MrZRnCPwu1pnnHKcI/UiegibDhwT/3Bl+YTBXEP3gLJCh+jME/",
          "dtype": "f8"
         },
         "yaxis": "y"
        },
        {
         "hovertemplate": "component=MATMUL_OUTPUT_FFN<br>step=%{x}<br>time (ms)=%{y}<extra></extra>",
         "legendgroup": "MATMUL_OUTPUT_FFN",
         "line": {
          "color": "#FF97FF",
          "dash": "solid"
         },
         "marker": {
          "symbol": "circle"
         },
         "mode": "lines+markers",
         "name": "MATMUL_OUTPUT_FFN",
         "orientation": "v",
         "showlegend": true,
         "type": "scatter",
         "x": {
          "bdata": "AAECAwQFBgcICQoLDA0O",
          "dtype": "i1"
         },
         "xaxis": "x",
         "y": {
          "bdata": "xm00gLewRkBHA3gLJGBPQNCzWfW5UktAHqfoSC7nT0A+6Nms+qRHQEaU9gZfEEZAcT0K16MIR0BhMlUwKglIQHZxGw3glUdAdQKaCBs2R0DD9Shcj3pHQN5xio7kckdAQfFjzF0zR0AnwoanV1JPQC2yne+n/ktA",
          "dtype": "f8"
         },
         "yaxis": "y"
        },
        {
         "hovertemplate": "component=FINAL_RMSNORM<br>step=%{x}<br>time (ms)=%{y}<extra></extra>",
         "legendgroup": "FINAL_RMSNORM",
         "line": {
          "color": "#FECB52",
          "dash": "solid"
         },
         "marker": {
          "symbol": "circle"
         },
         "mode": "lines+markers",
         "name": "FINAL_RMSNORM",
         "orientation": "v",
         "showlegend": true,
         "type": "scatter",
         "x": {
          "bdata": "AAECAwQFBgcICQoLDA0O",
          "dtype": "i1"
         },
         "xaxis": "x",
         "y": {
          "bdata": "/Knx0k1iUD9hMlUwKqlTP8WPMXctIV8/YTJVMCqpUz9hMlUwKqlTP8WPMXctIV8//Knx0k1iUD/8qfHSTWJQP/yp8dJNYlA/YTJVMCqpUz/8qfHSTWJQP/yp8dJNYlA//Knx0k1iUD/8qfHSTWJQP/yp8dJNYlA/",
          "dtype": "f8"
         },
         "yaxis": "y"
        },
        {
         "hovertemplate": "component=MAMTUL_LOGITS<br>step=%{x}<br>time (ms)=%{y}<extra></extra>",
         "legendgroup": "MAMTUL_LOGITS",
         "line": {
          "color": "#636efa",
          "dash": "solid"
         },
         "marker": {
          "symbol": "circle"
         },
         "mode": "lines+markers",
         "name": "MAMTUL_LOGITS",
         "orientation": "v",
         "showlegend": true,
         "type": "scatter",
         "x": {
          "bdata": "AAECAwQFBgcICQoLDA0O",
          "dtype": "i1"
         },
         "xaxis": "x",
         "y": {
          "bdata": "qvHSTWJwRkD129eBczZQQLyWkA96nkdALUMc6+KGR0C9UpYhjr1FQDeJQWDl0EVAZRniWBfvRkCoxks3iUFGQNV46SYxSEZAeAskKH4kRkByio7k8kdGQKkT0ETYaEZA7Z48LNQCRkAi/fZ14BRKQLfRAN4CYUdA",
          "dtype": "f8"
         },
         "yaxis": "y"
        }
       ],
       "layout": {
        "legend": {
         "title": {
          "text": "component"
         },
         "tracegroupgap": 0
        },
        "template": {
         "data": {
          "bar": [
           {
            "error_x": {
             "color": "#2a3f5f"
            },
            "error_y": {
             "color": "#2a3f5f"
            },
            "marker": {
             "line": {
              "color": "#E5ECF6",
              "width": 0.5
             },
             "pattern": {
              "fillmode": "overlay",
              "size": 10,
              "solidity": 0.2
             }
            },
            "type": "bar"
           }
          ],
          "barpolar": [
           {
            "marker": {
             "line": {
              "color": "#E5ECF6",
              "width": 0.5
             },
             "pattern": {
              "fillmode": "overlay",
              "size": 10,
              "solidity": 0.2
             }
            },
            "type": "barpolar"
           }
          ],
          "carpet": [
           {
            "aaxis": {
             "endlinecolor": "#2a3f5f",
             "gridcolor": "white",
             "linecolor": "white",
             "minorgridcolor": "white",
             "startlinecolor": "#2a3f5f"
            },
            "baxis": {
             "endlinecolor": "#2a3f5f",
             "gridcolor": "white",
             "linecolor": "white",
             "minorgridcolor": "white",
             "startlinecolor": "#2a3f5f"
            },
            "type": "carpet"
           }
          ],
          "choropleth": [
           {
            "colorbar": {
             "outlinewidth": 0,
             "ticks": ""
            },
            "type": "choropleth"
           }
          ],
          "contour": [
           {
            "colorbar": {
             "outlinewidth": 0,
             "ticks": ""
            },
            "colorscale": [
             [
              0,
              "#0d0887"
             ],
             [
              0.1111111111111111,
              "#46039f"
             ],
             [
              0.2222222222222222,
              "#7201a8"
             ],
             [
              0.3333333333333333,
              "#9c179e"
             ],
             [
              0.4444444444444444,
              "#bd3786"
             ],
             [
              0.5555555555555556,
              "#d8576b"
             ],
             [
              0.6666666666666666,
              "#ed7953"
             ],
             [
              0.7777777777777778,
              "#fb9f3a"
             ],
             [
              0.8888888888888888,
              "#fdca26"
             ],
             [
              1,
              "#f0f921"
             ]
            ],
            "type": "contour"
           }
          ],
          "contourcarpet": [
           {
            "colorbar": {
             "outlinewidth": 0,
             "ticks": ""
            },
            "type": "contourcarpet"
           }
          ],
          "heatmap": [
           {
            "colorbar": {
             "outlinewidth": 0,
             "ticks": ""
            },
            "colorscale": [
             [
              0,
              "#0d0887"
             ],
             [
              0.1111111111111111,
              "#46039f"
             ],
             [
              0.2222222222222222,
              "#7201a8"
             ],
             [
              0.3333333333333333,
              "#9c179e"
             ],
             [
              0.4444444444444444,
              "#bd3786"
             ],
             [
              0.5555555555555556,
              "#d8576b"
             ],
             [
              0.6666666666666666,
              "#ed7953"
             ],
             [
              0.7777777777777778,
              "#fb9f3a"
             ],
             [
              0.8888888888888888,
              "#fdca26"
             ],
             [
              1,
              "#f0f921"
             ]
            ],
            "type": "heatmap"
           }
          ],
          "histogram": [
           {
            "marker": {
             "pattern": {
              "fillmode": "overlay",
              "size": 10,
              "solidity": 0.2
             }
            },
            "type": "histogram"
           }
          ],
          "histogram2d": [
           {
            "colorbar": {
             "outlinewidth": 0,
             "ticks": ""
            },
            "colorscale": [
             [
              0,
              "#0d0887"
             ],
             [
              0.1111111111111111,
              "#46039f"
             ],
             [
              0.2222222222222222,
              "#7201a8"
             ],
             [
              0.3333333333333333,
              "#9c179e"
             ],
             [
              0.4444444444444444,
              "#bd3786"
             ],
             [
              0.5555555555555556,
              "#d8576b"
             ],
             [
              0.6666666666666666,
              "#ed7953"
             ],
             [
              0.7777777777777778,
              "#fb9f3a"
             ],
             [
              0.8888888888888888,
              "#fdca26"
             ],
             [
              1,
              "#f0f921"
             ]
            ],
            "type": "histogram2d"
           }
          ],
          "histogram2dcontour": [
           {
            "colorbar": {
             "outlinewidth": 0,
             "ticks": ""
            },
            "colorscale": [
             [
              0,
              "#0d0887"
             ],
             [
              0.1111111111111111,
              "#46039f"
             ],
             [
              0.2222222222222222,
              "#7201a8"
             ],
             [
              0.3333333333333333,
              "#9c179e"
             ],
             [
              0.4444444444444444,
              "#bd3786"
             ],
             [
              0.5555555555555556,
              "#d8576b"
             ],
             [
              0.6666666666666666,
              "#ed7953"
             ],
             [
              0.7777777777777778,
              "#fb9f3a"
             ],
             [
              0.8888888888888888,
              "#fdca26"
             ],
             [
              1,
              "#f0f921"
             ]
            ],
            "type": "histogram2dcontour"
           }
          ],
          "mesh3d": [
           {
            "colorbar": {
             "outlinewidth": 0,
             "ticks": ""
            },
            "type": "mesh3d"
           }
          ],
          "parcoords": [
           {
            "line": {
             "colorbar": {
              "outlinewidth": 0,
              "ticks": ""
             }
            },
            "type": "parcoords"
           }
          ],
          "pie": [
           {
            "automargin": true,
            "type": "pie"
           }
          ],
          "scatter": [
           {
            "fillpattern": {
             "fillmode": "overlay",
             "size": 10,
             "solidity": 0.2
            },
            "type": "scatter"
           }
          ],
          "scatter3d": [
           {
            "line": {
             "colorbar": {
              "outlinewidth": 0,
              "ticks": ""
             }
            },
            "marker": {
             "colorbar": {
              "outlinewidth": 0,
              "ticks": ""
             }
            },
            "type": "scatter3d"
           }
          ],
          "scattercarpet": [
           {
            "marker": {
             "colorbar": {
              "outlinewidth": 0,
              "ticks": ""
             }
            },
            "type": "scattercarpet"
           }
          ],
          "scattergeo": [
           {
            "marker": {
             "colorbar": {
              "outlinewidth": 0,
              "ticks": ""
             }
            },
            "type": "scattergeo"
           }
          ],
          "scattergl": [
           {
            "marker": {
             "colorbar": {
              "outlinewidth": 0,
              "ticks": ""
             }
            },
            "type": "scattergl"
           }
          ],
          "scattermap": [
           {
            "marker": {
             "colorbar": {
              "outlinewidth": 0,
              "ticks": ""
             }
            },
            "type": "scattermap"
           }
          ],
          "scattermapbox": [
           {
            "marker": {
             "colorbar": {
              "outlinewidth": 0,
              "ticks": ""
             }
            },
            "type": "scattermapbox"
           }
          ],
          "scatterpolar": [
           {
            "marker": {
             "colorbar": {
              "outlinewidth": 0,
              "ticks": ""
             }
            },
            "type": "scatterpolar"
           }
          ],
          "scatterpolargl": [
           {
            "marker": {
             "colorbar": {
              "outlinewidth": 0,
              "ticks": ""
             }
            },
            "type": "scatterpolargl"
           }
          ],
          "scatterternary": [
           {
            "marker": {
             "colorbar": {
              "outlinewidth": 0,
              "ticks": ""
             }
            },
            "type": "scatterternary"
           }
          ],
          "surface": [
           {
            "colorbar": {
             "outlinewidth": 0,
             "ticks": ""
            },
            "colorscale": [
             [
              0,
              "#0d0887"
             ],
             [
              0.1111111111111111,
              "#46039f"
             ],
             [
              0.2222222222222222,
              "#7201a8"
             ],
             [
              0.3333333333333333,
              "#9c179e"
             ],
             [
              0.4444444444444444,
              "#bd3786"
             ],
             [
              0.5555555555555556,
              "#d8576b"
             ],
             [
              0.6666666666666666,
              "#ed7953"
             ],
             [
              0.7777777777777778,
              "#fb9f3a"
             ],
             [
              0.8888888888888888,
              "#fdca26"
             ],
             [
              1,
              "#f0f921"
             ]
            ],
            "type": "surface"
           }
          ],
          "table": [
           {
            "cells": {
             "fill": {
              "color": "#EBF0F8"
             },
             "line": {
              "color": "white"
             }
            },
            "header": {
             "fill": {
              "color": "#C8D4E3"
             },
             "line": {
              "color": "white"
             }
            },
            "type": "table"
           }
          ]
         },
         "layout": {
          "annotationdefaults": {
           "arrowcolor": "#2a3f5f",
           "arrowhead": 0,
           "arrowwidth": 1
          },
          "autotypenumbers": "strict",
          "coloraxis": {
           "colorbar": {
            "outlinewidth": 0,
            "ticks": ""
           }
          },
          "colorscale": {
           "diverging": [
            [
             0,
             "#8e0152"
            ],
            [
             0.1,
             "#c51b7d"
            ],
            [
             0.2,
             "#de77ae"
            ],
            [
             0.3,
             "#f1b6da"
            ],
            [
             0.4,
             "#fde0ef"
            ],
            [
             0.5,
             "#f7f7f7"
            ],
            [
             0.6,
             "#e6f5d0"
            ],
            [
             0.7,
             "#b8e186"
            ],
            [
             0.8,
             "#7fbc41"
            ],
            [
             0.9,
             "#4d9221"
            ],
            [
             1,
             "#276419"
            ]
           ],
           "sequential": [
            [
             0,
             "#0d0887"
            ],
            [
             0.1111111111111111,
             "#46039f"
            ],
            [
             0.2222222222222222,
             "#7201a8"
            ],
            [
             0.3333333333333333,
             "#9c179e"
            ],
            [
             0.4444444444444444,
             "#bd3786"
            ],
            [
             0.5555555555555556,
             "#d8576b"
            ],
            [
             0.6666666666666666,
             "#ed7953"
            ],
            [
             0.7777777777777778,
             "#fb9f3a"
            ],
            [
             0.8888888888888888,
             "#fdca26"
            ],
            [
             1,
             "#f0f921"
            ]
           ],
           "sequentialminus": [
            [
             0,
             "#0d0887"
            ],
            [
             0.1111111111111111,
             "#46039f"
            ],
            [
             0.2222222222222222,
             "#7201a8"
            ],
            [
             0.3333333333333333,
             "#9c179e"
            ],
            [
             0.4444444444444444,
             "#bd3786"
            ],
            [
             0.5555555555555556,
             "#d8576b"
            ],
            [
             0.6666666666666666,
             "#ed7953"
            ],
            [
             0.7777777777777778,
             "#fb9f3a"
            ],
            [
             0.8888888888888888,
             "#fdca26"
            ],
            [
             1,
             "#f0f921"
            ]
           ]
          },
          "colorway": [
           "#636efa",
           "#EF553B",
           "#00cc96",
           "#ab63fa",
           "#FFA15A",
           "#19d3f3",
           "#FF6692",
           "#B6E880",
           "#FF97FF",
           "#FECB52"
          ],
          "font": {
           "color": "#2a3f5f"
          },
          "geo": {
           "bgcolor": "white",
           "lakecolor": "white",
           "landcolor": "#E5ECF6",
           "showlakes": true,
           "showland": true,
           "subunitcolor": "white"
          },
          "hoverlabel": {
           "align": "left"
          },
          "hovermode": "closest",
          "mapbox": {
           "style": "light"
          },
          "paper_bgcolor": "white",
          "plot_bgcolor": "#E5ECF6",
          "polar": {
           "angularaxis": {
            "gridcolor": "white",
            "linecolor": "white",
            "ticks": ""
           },
           "bgcolor": "#E5ECF6",
           "radialaxis": {
            "gridcolor": "white",
            "linecolor": "white",
            "ticks": ""
           }
          },
          "scene": {
           "xaxis": {
            "backgroundcolor": "#E5ECF6",
            "gridcolor": "white",
            "gridwidth": 2,
            "linecolor": "white",
            "showbackground": true,
            "ticks": "",
            "zerolinecolor": "white"
           },
           "yaxis": {
            "backgroundcolor": "#E5ECF6",
            "gridcolor": "white",
            "gridwidth": 2,
            "linecolor": "white",
            "showbackground": true,
            "ticks": "",
            "zerolinecolor": "white"
           },
           "zaxis": {
            "backgroundcolor": "#E5ECF6",
            "gridcolor": "white",
            "gridwidth": 2,
            "linecolor": "white",
            "showbackground": true,
            "ticks": "",
            "zerolinecolor": "white"
           }
          },
          "shapedefaults": {
           "line": {
            "color": "#2a3f5f"
           }
          },
          "ternary": {
           "aaxis": {
            "gridcolor": "white",
            "linecolor": "white",
            "ticks": ""
           },
           "baxis": {
            "gridcolor": "white",
            "linecolor": "white",
            "ticks": ""
           },
           "bgcolor": "#E5ECF6",
           "caxis": {
            "gridcolor": "white",
            "linecolor": "white",
            "ticks": ""
           }
          },
          "title": {
           "x": 0.05
          },
          "xaxis": {
           "automargin": true,
           "gridcolor": "white",
           "linecolor": "white",
           "ticks": "",
           "title": {
            "standoff": 15
           },
           "zerolinecolor": "white",
           "zerolinewidth": 2
          },
          "yaxis": {
           "automargin": true,
           "gridcolor": "white",
           "linecolor": "white",
           "ticks": "",
           "title": {
            "standoff": 15
           },
           "zerolinecolor": "white",
           "zerolinewidth": 2
          }
         }
        },
        "title": {
         "text": "Per-step time per component during token generation"
        },
        "xaxis": {
         "anchor": "y",
         "domain": [
          0,
          1
         ],
         "title": {
          "text": "step"
         }
        },
        "yaxis": {
         "anchor": "x",
         "domain": [
          0,
          1
         ],
         "title": {
          "text": "time (ms)"
         }
        }
       }
      }
     },
     "metadata": {},
     "output_type": "display_data"
    }
   ],
   "source": [
    "import json\n",
    "import pandas as pd\n",
    "import plotly.express as px\n",
    "\n",
    "with open(file) as f:\n",
    "    data = json.load(f)\n",
    "\n",
    "json2 = data[\"JSON_2\"]\n",
    "\n",
    "rows = []\n",
    "for component, values in json2.items():\n",
    "    if not isinstance(values, list):\n",
    "        continue\n",
    "    cleaned = [v for v in values[2:] if v != 0]\n",
    "    for i, v in enumerate(cleaned):\n",
    "        rows.append({\n",
    "            \"step\": i,\n",
    "            \"time\": v,\n",
    "            \"component\": component\n",
    "        })\n",
    "\n",
    "df = pd.DataFrame(rows)\n",
    "\n",
    "fig = px.line(\n",
    "    df,\n",
    "    x=\"step\",\n",
    "    y=\"time\",\n",
    "    color=\"component\",\n",
    "    markers=True,\n",
    "    labels={\"time\": \"time (ms)\"},\n",
    "    title=\"Per-step time per component during token generation\"\n",
    ")\n",
    "\n",
    "fig.show()\n"
   ]
  },
  {
   "cell_type": "code",
   "execution_count": 11,
   "id": "14d458e1",
   "metadata": {},
   "outputs": [
    {
     "ename": "KeyError",
     "evalue": "'forward_instr'",
     "output_type": "error",
     "traceback": [
      "\u001b[31m---------------------------------------------------------------------------\u001b[39m",
      "\u001b[31mKeyError\u001b[39m                                  Traceback (most recent call last)",
      "\u001b[36mCell\u001b[39m\u001b[36m \u001b[39m\u001b[32mIn[11]\u001b[39m\u001b[32m, line 9\u001b[39m\n\u001b[32m      6\u001b[39m \u001b[38;5;28;01mwith\u001b[39;00m \u001b[38;5;28mopen\u001b[39m(file) \u001b[38;5;28;01mas\u001b[39;00m f:\n\u001b[32m      7\u001b[39m     data = json.load(f)\n\u001b[32m----> \u001b[39m\u001b[32m9\u001b[39m forward = \u001b[43mdata\u001b[49m\u001b[43m[\u001b[49m\u001b[33;43m\"\u001b[39;49m\u001b[33;43mforward_instr\u001b[39;49m\u001b[33;43m\"\u001b[39;49m\u001b[43m]\u001b[49m\n\u001b[32m     10\u001b[39m keys = [\n\u001b[32m     11\u001b[39m     \u001b[33m\"\u001b[39m\u001b[33mrmsnorm_first_time\u001b[39m\u001b[33m\"\u001b[39m,\n\u001b[32m     12\u001b[39m     \u001b[33m\"\u001b[39m\u001b[33mmatmul_qkv_time\u001b[39m\u001b[33m\"\u001b[39m,\n\u001b[32m   (...)\u001b[39m\u001b[32m     21\u001b[39m     \u001b[33m\"\u001b[39m\u001b[33mmatmul_logits_time\u001b[39m\u001b[33m\"\u001b[39m\n\u001b[32m     22\u001b[39m ]\n\u001b[32m     24\u001b[39m rows = []\n",
      "\u001b[31mKeyError\u001b[39m: 'forward_instr'"
     ]
    }
   ],
   "source": [
    "import json\n",
    "import numpy as np\n",
    "import pandas as pd\n",
    "import plotly.express as px\n",
    "\n",
    "with open(file) as f:\n",
    "    data = json.load(f)\n",
    "\n",
    "forward = data[\"forward_instr\"]\n",
    "keys = [\n",
    "    \"rmsnorm_first_time\",\n",
    "    \"matmul_qkv_time\",\n",
    "    \"rope_time\",\n",
    "    \"multihead_time\",\n",
    "    \"matmul_output_attention_time\",\n",
    "    \"FFN_rmsnorm_time\",\n",
    "    \"matmul_FFN_time\",\n",
    "    \"swiGLU_time\",\n",
    "    \"matmul_output_FFN_time\",\n",
    "    \"rmsnorm_final_time\",\n",
    "    \"matmul_logits_time\"\n",
    "]\n",
    "\n",
    "rows = []\n",
    "for k in keys:\n",
    "    values = [v for v in forward[k] if v != 0]\n",
    "    rows += [(k, v) for v in values]\n",
    "\n",
    "df = pd.DataFrame(rows, columns=[\"phase\",  \"time (in ms)\"])\n",
    "\n",
    "px.box(df, x=\"phase\", y=\"time (in ms)\",log_y = False,title = \"Boxplot of difference phase per execution\")\n"
   ]
  },
  {
   "cell_type": "code",
   "execution_count": null,
   "id": "341f5a4e",
   "metadata": {},
   "outputs": [
    {
     "data": {
      "application/vnd.plotly.v1+json": {
       "config": {
        "plotlyServerURL": "https://plot.ly"
       },
       "data": [
        {
         "hovertemplate": "component=%{x}<br>percentage=%{y}<extra></extra>",
         "legendgroup": "",
         "marker": {
          "color": "#636efa",
          "pattern": {
           "shape": ""
          }
         },
         "name": "",
         "orientation": "v",
         "showlegend": false,
         "textposition": "auto",
         "texttemplate": "%{y:.2f}",
         "type": "bar",
         "x": [
          "MATMUL_FFN",
          "MATMUL_OUTPUT_FFN",
          "MATMUL_OUTPUT_ATTENTION",
          "MATMUL_QKV",
          "MAMTUL_LOGITS",
          "MHA",
          "ROPE",
          "SwiGLU",
          "RMSNORM_INIT",
          "FFN_RMSNORM",
          "FINAL_RMSNORM"
         ],
         "xaxis": "x",
         "y": {
          "bdata": "asVnuU3XSkBsKW9Gh8E5QGQAuEl7YiVA1cWcQorgH0AB2MgAlg/zP/RhmK4DSuA/tw8maVIctz+umOMkd4uzPxWkrdamFpY/QheEj4ydhj+yefqRczdJPw==",
          "dtype": "f8"
         },
         "yaxis": "y"
        }
       ],
       "layout": {
        "barmode": "relative",
        "legend": {
         "tracegroupgap": 0
        },
        "template": {
         "data": {
          "bar": [
           {
            "error_x": {
             "color": "#2a3f5f"
            },
            "error_y": {
             "color": "#2a3f5f"
            },
            "marker": {
             "line": {
              "color": "#E5ECF6",
              "width": 0.5
             },
             "pattern": {
              "fillmode": "overlay",
              "size": 10,
              "solidity": 0.2
             }
            },
            "type": "bar"
           }
          ],
          "barpolar": [
           {
            "marker": {
             "line": {
              "color": "#E5ECF6",
              "width": 0.5
             },
             "pattern": {
              "fillmode": "overlay",
              "size": 10,
              "solidity": 0.2
             }
            },
            "type": "barpolar"
           }
          ],
          "carpet": [
           {
            "aaxis": {
             "endlinecolor": "#2a3f5f",
             "gridcolor": "white",
             "linecolor": "white",
             "minorgridcolor": "white",
             "startlinecolor": "#2a3f5f"
            },
            "baxis": {
             "endlinecolor": "#2a3f5f",
             "gridcolor": "white",
             "linecolor": "white",
             "minorgridcolor": "white",
             "startlinecolor": "#2a3f5f"
            },
            "type": "carpet"
           }
          ],
          "choropleth": [
           {
            "colorbar": {
             "outlinewidth": 0,
             "ticks": ""
            },
            "type": "choropleth"
           }
          ],
          "contour": [
           {
            "colorbar": {
             "outlinewidth": 0,
             "ticks": ""
            },
            "colorscale": [
             [
              0,
              "#0d0887"
             ],
             [
              0.1111111111111111,
              "#46039f"
             ],
             [
              0.2222222222222222,
              "#7201a8"
             ],
             [
              0.3333333333333333,
              "#9c179e"
             ],
             [
              0.4444444444444444,
              "#bd3786"
             ],
             [
              0.5555555555555556,
              "#d8576b"
             ],
             [
              0.6666666666666666,
              "#ed7953"
             ],
             [
              0.7777777777777778,
              "#fb9f3a"
             ],
             [
              0.8888888888888888,
              "#fdca26"
             ],
             [
              1,
              "#f0f921"
             ]
            ],
            "type": "contour"
           }
          ],
          "contourcarpet": [
           {
            "colorbar": {
             "outlinewidth": 0,
             "ticks": ""
            },
            "type": "contourcarpet"
           }
          ],
          "heatmap": [
           {
            "colorbar": {
             "outlinewidth": 0,
             "ticks": ""
            },
            "colorscale": [
             [
              0,
              "#0d0887"
             ],
             [
              0.1111111111111111,
              "#46039f"
             ],
             [
              0.2222222222222222,
              "#7201a8"
             ],
             [
              0.3333333333333333,
              "#9c179e"
             ],
             [
              0.4444444444444444,
              "#bd3786"
             ],
             [
              0.5555555555555556,
              "#d8576b"
             ],
             [
              0.6666666666666666,
              "#ed7953"
             ],
             [
              0.7777777777777778,
              "#fb9f3a"
             ],
             [
              0.8888888888888888,
              "#fdca26"
             ],
             [
              1,
              "#f0f921"
             ]
            ],
            "type": "heatmap"
           }
          ],
          "histogram": [
           {
            "marker": {
             "pattern": {
              "fillmode": "overlay",
              "size": 10,
              "solidity": 0.2
             }
            },
            "type": "histogram"
           }
          ],
          "histogram2d": [
           {
            "colorbar": {
             "outlinewidth": 0,
             "ticks": ""
            },
            "colorscale": [
             [
              0,
              "#0d0887"
             ],
             [
              0.1111111111111111,
              "#46039f"
             ],
             [
              0.2222222222222222,
              "#7201a8"
             ],
             [
              0.3333333333333333,
              "#9c179e"
             ],
             [
              0.4444444444444444,
              "#bd3786"
             ],
             [
              0.5555555555555556,
              "#d8576b"
             ],
             [
              0.6666666666666666,
              "#ed7953"
             ],
             [
              0.7777777777777778,
              "#fb9f3a"
             ],
             [
              0.8888888888888888,
              "#fdca26"
             ],
             [
              1,
              "#f0f921"
             ]
            ],
            "type": "histogram2d"
           }
          ],
          "histogram2dcontour": [
           {
            "colorbar": {
             "outlinewidth": 0,
             "ticks": ""
            },
            "colorscale": [
             [
              0,
              "#0d0887"
             ],
             [
              0.1111111111111111,
              "#46039f"
             ],
             [
              0.2222222222222222,
              "#7201a8"
             ],
             [
              0.3333333333333333,
              "#9c179e"
             ],
             [
              0.4444444444444444,
              "#bd3786"
             ],
             [
              0.5555555555555556,
              "#d8576b"
             ],
             [
              0.6666666666666666,
              "#ed7953"
             ],
             [
              0.7777777777777778,
              "#fb9f3a"
             ],
             [
              0.8888888888888888,
              "#fdca26"
             ],
             [
              1,
              "#f0f921"
             ]
            ],
            "type": "histogram2dcontour"
           }
          ],
          "mesh3d": [
           {
            "colorbar": {
             "outlinewidth": 0,
             "ticks": ""
            },
            "type": "mesh3d"
           }
          ],
          "parcoords": [
           {
            "line": {
             "colorbar": {
              "outlinewidth": 0,
              "ticks": ""
             }
            },
            "type": "parcoords"
           }
          ],
          "pie": [
           {
            "automargin": true,
            "type": "pie"
           }
          ],
          "scatter": [
           {
            "fillpattern": {
             "fillmode": "overlay",
             "size": 10,
             "solidity": 0.2
            },
            "type": "scatter"
           }
          ],
          "scatter3d": [
           {
            "line": {
             "colorbar": {
              "outlinewidth": 0,
              "ticks": ""
             }
            },
            "marker": {
             "colorbar": {
              "outlinewidth": 0,
              "ticks": ""
             }
            },
            "type": "scatter3d"
           }
          ],
          "scattercarpet": [
           {
            "marker": {
             "colorbar": {
              "outlinewidth": 0,
              "ticks": ""
             }
            },
            "type": "scattercarpet"
           }
          ],
          "scattergeo": [
           {
            "marker": {
             "colorbar": {
              "outlinewidth": 0,
              "ticks": ""
             }
            },
            "type": "scattergeo"
           }
          ],
          "scattergl": [
           {
            "marker": {
             "colorbar": {
              "outlinewidth": 0,
              "ticks": ""
             }
            },
            "type": "scattergl"
           }
          ],
          "scattermap": [
           {
            "marker": {
             "colorbar": {
              "outlinewidth": 0,
              "ticks": ""
             }
            },
            "type": "scattermap"
           }
          ],
          "scattermapbox": [
           {
            "marker": {
             "colorbar": {
              "outlinewidth": 0,
              "ticks": ""
             }
            },
            "type": "scattermapbox"
           }
          ],
          "scatterpolar": [
           {
            "marker": {
             "colorbar": {
              "outlinewidth": 0,
              "ticks": ""
             }
            },
            "type": "scatterpolar"
           }
          ],
          "scatterpolargl": [
           {
            "marker": {
             "colorbar": {
              "outlinewidth": 0,
              "ticks": ""
             }
            },
            "type": "scatterpolargl"
           }
          ],
          "scatterternary": [
           {
            "marker": {
             "colorbar": {
              "outlinewidth": 0,
              "ticks": ""
             }
            },
            "type": "scatterternary"
           }
          ],
          "surface": [
           {
            "colorbar": {
             "outlinewidth": 0,
             "ticks": ""
            },
            "colorscale": [
             [
              0,
              "#0d0887"
             ],
             [
              0.1111111111111111,
              "#46039f"
             ],
             [
              0.2222222222222222,
              "#7201a8"
             ],
             [
              0.3333333333333333,
              "#9c179e"
             ],
             [
              0.4444444444444444,
              "#bd3786"
             ],
             [
              0.5555555555555556,
              "#d8576b"
             ],
             [
              0.6666666666666666,
              "#ed7953"
             ],
             [
              0.7777777777777778,
              "#fb9f3a"
             ],
             [
              0.8888888888888888,
              "#fdca26"
             ],
             [
              1,
              "#f0f921"
             ]
            ],
            "type": "surface"
           }
          ],
          "table": [
           {
            "cells": {
             "fill": {
              "color": "#EBF0F8"
             },
             "line": {
              "color": "white"
             }
            },
            "header": {
             "fill": {
              "color": "#C8D4E3"
             },
             "line": {
              "color": "white"
             }
            },
            "type": "table"
           }
          ]
         },
         "layout": {
          "annotationdefaults": {
           "arrowcolor": "#2a3f5f",
           "arrowhead": 0,
           "arrowwidth": 1
          },
          "autotypenumbers": "strict",
          "coloraxis": {
           "colorbar": {
            "outlinewidth": 0,
            "ticks": ""
           }
          },
          "colorscale": {
           "diverging": [
            [
             0,
             "#8e0152"
            ],
            [
             0.1,
             "#c51b7d"
            ],
            [
             0.2,
             "#de77ae"
            ],
            [
             0.3,
             "#f1b6da"
            ],
            [
             0.4,
             "#fde0ef"
            ],
            [
             0.5,
             "#f7f7f7"
            ],
            [
             0.6,
             "#e6f5d0"
            ],
            [
             0.7,
             "#b8e186"
            ],
            [
             0.8,
             "#7fbc41"
            ],
            [
             0.9,
             "#4d9221"
            ],
            [
             1,
             "#276419"
            ]
           ],
           "sequential": [
            [
             0,
             "#0d0887"
            ],
            [
             0.1111111111111111,
             "#46039f"
            ],
            [
             0.2222222222222222,
             "#7201a8"
            ],
            [
             0.3333333333333333,
             "#9c179e"
            ],
            [
             0.4444444444444444,
             "#bd3786"
            ],
            [
             0.5555555555555556,
             "#d8576b"
            ],
            [
             0.6666666666666666,
             "#ed7953"
            ],
            [
             0.7777777777777778,
             "#fb9f3a"
            ],
            [
             0.8888888888888888,
             "#fdca26"
            ],
            [
             1,
             "#f0f921"
            ]
           ],
           "sequentialminus": [
            [
             0,
             "#0d0887"
            ],
            [
             0.1111111111111111,
             "#46039f"
            ],
            [
             0.2222222222222222,
             "#7201a8"
            ],
            [
             0.3333333333333333,
             "#9c179e"
            ],
            [
             0.4444444444444444,
             "#bd3786"
            ],
            [
             0.5555555555555556,
             "#d8576b"
            ],
            [
             0.6666666666666666,
             "#ed7953"
            ],
            [
             0.7777777777777778,
             "#fb9f3a"
            ],
            [
             0.8888888888888888,
             "#fdca26"
            ],
            [
             1,
             "#f0f921"
            ]
           ]
          },
          "colorway": [
           "#636efa",
           "#EF553B",
           "#00cc96",
           "#ab63fa",
           "#FFA15A",
           "#19d3f3",
           "#FF6692",
           "#B6E880",
           "#FF97FF",
           "#FECB52"
          ],
          "font": {
           "color": "#2a3f5f"
          },
          "geo": {
           "bgcolor": "white",
           "lakecolor": "white",
           "landcolor": "#E5ECF6",
           "showlakes": true,
           "showland": true,
           "subunitcolor": "white"
          },
          "hoverlabel": {
           "align": "left"
          },
          "hovermode": "closest",
          "mapbox": {
           "style": "light"
          },
          "paper_bgcolor": "white",
          "plot_bgcolor": "#E5ECF6",
          "polar": {
           "angularaxis": {
            "gridcolor": "white",
            "linecolor": "white",
            "ticks": ""
           },
           "bgcolor": "#E5ECF6",
           "radialaxis": {
            "gridcolor": "white",
            "linecolor": "white",
            "ticks": ""
           }
          },
          "scene": {
           "xaxis": {
            "backgroundcolor": "#E5ECF6",
            "gridcolor": "white",
            "gridwidth": 2,
            "linecolor": "white",
            "showbackground": true,
            "ticks": "",
            "zerolinecolor": "white"
           },
           "yaxis": {
            "backgroundcolor": "#E5ECF6",
            "gridcolor": "white",
            "gridwidth": 2,
            "linecolor": "white",
            "showbackground": true,
            "ticks": "",
            "zerolinecolor": "white"
           },
           "zaxis": {
            "backgroundcolor": "#E5ECF6",
            "gridcolor": "white",
            "gridwidth": 2,
            "linecolor": "white",
            "showbackground": true,
            "ticks": "",
            "zerolinecolor": "white"
           }
          },
          "shapedefaults": {
           "line": {
            "color": "#2a3f5f"
           }
          },
          "ternary": {
           "aaxis": {
            "gridcolor": "white",
            "linecolor": "white",
            "ticks": ""
           },
           "baxis": {
            "gridcolor": "white",
            "linecolor": "white",
            "ticks": ""
           },
           "bgcolor": "#E5ECF6",
           "caxis": {
            "gridcolor": "white",
            "linecolor": "white",
            "ticks": ""
           }
          },
          "title": {
           "x": 0.05
          },
          "xaxis": {
           "automargin": true,
           "gridcolor": "white",
           "linecolor": "white",
           "ticks": "",
           "title": {
            "standoff": 15
           },
           "zerolinecolor": "white",
           "zerolinewidth": 2
          },
          "yaxis": {
           "automargin": true,
           "gridcolor": "white",
           "linecolor": "white",
           "ticks": "",
           "title": {
            "standoff": 15
           },
           "zerolinecolor": "white",
           "zerolinewidth": 2
          }
         }
        },
        "title": {
         "text": "Percentage of time for PROMPT_PROCESSING"
        },
        "xaxis": {
         "anchor": "y",
         "domain": [
          0,
          1
         ],
         "title": {
          "text": "component"
         }
        },
        "yaxis": {
         "anchor": "x",
         "domain": [
          0,
          1
         ],
         "title": {
          "text": "percentage"
         }
        }
       }
      }
     },
     "metadata": {},
     "output_type": "display_data"
    },
    {
     "data": {
      "application/vnd.plotly.v1+json": {
       "config": {
        "plotlyServerURL": "https://plot.ly"
       },
       "data": [
        {
         "hovertemplate": "component=%{x}<br>percentage=%{y}<extra></extra>",
         "legendgroup": "",
         "marker": {
          "color": "#636efa",
          "pattern": {
           "shape": ""
          }
         },
         "name": "",
         "orientation": "v",
         "showlegend": false,
         "textposition": "auto",
         "texttemplate": "%{y:.2f}",
         "type": "bar",
         "x": [
          "MATMUL_FFN",
          "MATMUL_OUTPUT_FFN",
          "MAMTUL_LOGITS",
          "MATMUL_QKV",
          "MATMUL_OUTPUT_ATTENTION",
          "MHA",
          "ROPE",
          "SwiGLU",
          "RMSNORM_INIT",
          "FFN_RMSNORM",
          "FINAL_RMSNORM"
         ],
         "xaxis": "x",
         "y": {
          "bdata": "Zn2muOcyRkBcgjncPR01QHKok0vQJDRAevpsfY+WIEClFJcO+YsWQP2+arJJg8w/hWwk9HBnuz8EQRSXi5+vP4AMvByIUIY/m7i5FDuThT9v751y/xBBPw==",
          "dtype": "f8"
         },
         "yaxis": "y"
        }
       ],
       "layout": {
        "barmode": "relative",
        "legend": {
         "tracegroupgap": 0
        },
        "template": {
         "data": {
          "bar": [
           {
            "error_x": {
             "color": "#2a3f5f"
            },
            "error_y": {
             "color": "#2a3f5f"
            },
            "marker": {
             "line": {
              "color": "#E5ECF6",
              "width": 0.5
             },
             "pattern": {
              "fillmode": "overlay",
              "size": 10,
              "solidity": 0.2
             }
            },
            "type": "bar"
           }
          ],
          "barpolar": [
           {
            "marker": {
             "line": {
              "color": "#E5ECF6",
              "width": 0.5
             },
             "pattern": {
              "fillmode": "overlay",
              "size": 10,
              "solidity": 0.2
             }
            },
            "type": "barpolar"
           }
          ],
          "carpet": [
           {
            "aaxis": {
             "endlinecolor": "#2a3f5f",
             "gridcolor": "white",
             "linecolor": "white",
             "minorgridcolor": "white",
             "startlinecolor": "#2a3f5f"
            },
            "baxis": {
             "endlinecolor": "#2a3f5f",
             "gridcolor": "white",
             "linecolor": "white",
             "minorgridcolor": "white",
             "startlinecolor": "#2a3f5f"
            },
            "type": "carpet"
           }
          ],
          "choropleth": [
           {
            "colorbar": {
             "outlinewidth": 0,
             "ticks": ""
            },
            "type": "choropleth"
           }
          ],
          "contour": [
           {
            "colorbar": {
             "outlinewidth": 0,
             "ticks": ""
            },
            "colorscale": [
             [
              0,
              "#0d0887"
             ],
             [
              0.1111111111111111,
              "#46039f"
             ],
             [
              0.2222222222222222,
              "#7201a8"
             ],
             [
              0.3333333333333333,
              "#9c179e"
             ],
             [
              0.4444444444444444,
              "#bd3786"
             ],
             [
              0.5555555555555556,
              "#d8576b"
             ],
             [
              0.6666666666666666,
              "#ed7953"
             ],
             [
              0.7777777777777778,
              "#fb9f3a"
             ],
             [
              0.8888888888888888,
              "#fdca26"
             ],
             [
              1,
              "#f0f921"
             ]
            ],
            "type": "contour"
           }
          ],
          "contourcarpet": [
           {
            "colorbar": {
             "outlinewidth": 0,
             "ticks": ""
            },
            "type": "contourcarpet"
           }
          ],
          "heatmap": [
           {
            "colorbar": {
             "outlinewidth": 0,
             "ticks": ""
            },
            "colorscale": [
             [
              0,
              "#0d0887"
             ],
             [
              0.1111111111111111,
              "#46039f"
             ],
             [
              0.2222222222222222,
              "#7201a8"
             ],
             [
              0.3333333333333333,
              "#9c179e"
             ],
             [
              0.4444444444444444,
              "#bd3786"
             ],
             [
              0.5555555555555556,
              "#d8576b"
             ],
             [
              0.6666666666666666,
              "#ed7953"
             ],
             [
              0.7777777777777778,
              "#fb9f3a"
             ],
             [
              0.8888888888888888,
              "#fdca26"
             ],
             [
              1,
              "#f0f921"
             ]
            ],
            "type": "heatmap"
           }
          ],
          "histogram": [
           {
            "marker": {
             "pattern": {
              "fillmode": "overlay",
              "size": 10,
              "solidity": 0.2
             }
            },
            "type": "histogram"
           }
          ],
          "histogram2d": [
           {
            "colorbar": {
             "outlinewidth": 0,
             "ticks": ""
            },
            "colorscale": [
             [
              0,
              "#0d0887"
             ],
             [
              0.1111111111111111,
              "#46039f"
             ],
             [
              0.2222222222222222,
              "#7201a8"
             ],
             [
              0.3333333333333333,
              "#9c179e"
             ],
             [
              0.4444444444444444,
              "#bd3786"
             ],
             [
              0.5555555555555556,
              "#d8576b"
             ],
             [
              0.6666666666666666,
              "#ed7953"
             ],
             [
              0.7777777777777778,
              "#fb9f3a"
             ],
             [
              0.8888888888888888,
              "#fdca26"
             ],
             [
              1,
              "#f0f921"
             ]
            ],
            "type": "histogram2d"
           }
          ],
          "histogram2dcontour": [
           {
            "colorbar": {
             "outlinewidth": 0,
             "ticks": ""
            },
            "colorscale": [
             [
              0,
              "#0d0887"
             ],
             [
              0.1111111111111111,
              "#46039f"
             ],
             [
              0.2222222222222222,
              "#7201a8"
             ],
             [
              0.3333333333333333,
              "#9c179e"
             ],
             [
              0.4444444444444444,
              "#bd3786"
             ],
             [
              0.5555555555555556,
              "#d8576b"
             ],
             [
              0.6666666666666666,
              "#ed7953"
             ],
             [
              0.7777777777777778,
              "#fb9f3a"
             ],
             [
              0.8888888888888888,
              "#fdca26"
             ],
             [
              1,
              "#f0f921"
             ]
            ],
            "type": "histogram2dcontour"
           }
          ],
          "mesh3d": [
           {
            "colorbar": {
             "outlinewidth": 0,
             "ticks": ""
            },
            "type": "mesh3d"
           }
          ],
          "parcoords": [
           {
            "line": {
             "colorbar": {
              "outlinewidth": 0,
              "ticks": ""
             }
            },
            "type": "parcoords"
           }
          ],
          "pie": [
           {
            "automargin": true,
            "type": "pie"
           }
          ],
          "scatter": [
           {
            "fillpattern": {
             "fillmode": "overlay",
             "size": 10,
             "solidity": 0.2
            },
            "type": "scatter"
           }
          ],
          "scatter3d": [
           {
            "line": {
             "colorbar": {
              "outlinewidth": 0,
              "ticks": ""
             }
            },
            "marker": {
             "colorbar": {
              "outlinewidth": 0,
              "ticks": ""
             }
            },
            "type": "scatter3d"
           }
          ],
          "scattercarpet": [
           {
            "marker": {
             "colorbar": {
              "outlinewidth": 0,
              "ticks": ""
             }
            },
            "type": "scattercarpet"
           }
          ],
          "scattergeo": [
           {
            "marker": {
             "colorbar": {
              "outlinewidth": 0,
              "ticks": ""
             }
            },
            "type": "scattergeo"
           }
          ],
          "scattergl": [
           {
            "marker": {
             "colorbar": {
              "outlinewidth": 0,
              "ticks": ""
             }
            },
            "type": "scattergl"
           }
          ],
          "scattermap": [
           {
            "marker": {
             "colorbar": {
              "outlinewidth": 0,
              "ticks": ""
             }
            },
            "type": "scattermap"
           }
          ],
          "scattermapbox": [
           {
            "marker": {
             "colorbar": {
              "outlinewidth": 0,
              "ticks": ""
             }
            },
            "type": "scattermapbox"
           }
          ],
          "scatterpolar": [
           {
            "marker": {
             "colorbar": {
              "outlinewidth": 0,
              "ticks": ""
             }
            },
            "type": "scatterpolar"
           }
          ],
          "scatterpolargl": [
           {
            "marker": {
             "colorbar": {
              "outlinewidth": 0,
              "ticks": ""
             }
            },
            "type": "scatterpolargl"
           }
          ],
          "scatterternary": [
           {
            "marker": {
             "colorbar": {
              "outlinewidth": 0,
              "ticks": ""
             }
            },
            "type": "scatterternary"
           }
          ],
          "surface": [
           {
            "colorbar": {
             "outlinewidth": 0,
             "ticks": ""
            },
            "colorscale": [
             [
              0,
              "#0d0887"
             ],
             [
              0.1111111111111111,
              "#46039f"
             ],
             [
              0.2222222222222222,
              "#7201a8"
             ],
             [
              0.3333333333333333,
              "#9c179e"
             ],
             [
              0.4444444444444444,
              "#bd3786"
             ],
             [
              0.5555555555555556,
              "#d8576b"
             ],
             [
              0.6666666666666666,
              "#ed7953"
             ],
             [
              0.7777777777777778,
              "#fb9f3a"
             ],
             [
              0.8888888888888888,
              "#fdca26"
             ],
             [
              1,
              "#f0f921"
             ]
            ],
            "type": "surface"
           }
          ],
          "table": [
           {
            "cells": {
             "fill": {
              "color": "#EBF0F8"
             },
             "line": {
              "color": "white"
             }
            },
            "header": {
             "fill": {
              "color": "#C8D4E3"
             },
             "line": {
              "color": "white"
             }
            },
            "type": "table"
           }
          ]
         },
         "layout": {
          "annotationdefaults": {
           "arrowcolor": "#2a3f5f",
           "arrowhead": 0,
           "arrowwidth": 1
          },
          "autotypenumbers": "strict",
          "coloraxis": {
           "colorbar": {
            "outlinewidth": 0,
            "ticks": ""
           }
          },
          "colorscale": {
           "diverging": [
            [
             0,
             "#8e0152"
            ],
            [
             0.1,
             "#c51b7d"
            ],
            [
             0.2,
             "#de77ae"
            ],
            [
             0.3,
             "#f1b6da"
            ],
            [
             0.4,
             "#fde0ef"
            ],
            [
             0.5,
             "#f7f7f7"
            ],
            [
             0.6,
             "#e6f5d0"
            ],
            [
             0.7,
             "#b8e186"
            ],
            [
             0.8,
             "#7fbc41"
            ],
            [
             0.9,
             "#4d9221"
            ],
            [
             1,
             "#276419"
            ]
           ],
           "sequential": [
            [
             0,
             "#0d0887"
            ],
            [
             0.1111111111111111,
             "#46039f"
            ],
            [
             0.2222222222222222,
             "#7201a8"
            ],
            [
             0.3333333333333333,
             "#9c179e"
            ],
            [
             0.4444444444444444,
             "#bd3786"
            ],
            [
             0.5555555555555556,
             "#d8576b"
            ],
            [
             0.6666666666666666,
             "#ed7953"
            ],
            [
             0.7777777777777778,
             "#fb9f3a"
            ],
            [
             0.8888888888888888,
             "#fdca26"
            ],
            [
             1,
             "#f0f921"
            ]
           ],
           "sequentialminus": [
            [
             0,
             "#0d0887"
            ],
            [
             0.1111111111111111,
             "#46039f"
            ],
            [
             0.2222222222222222,
             "#7201a8"
            ],
            [
             0.3333333333333333,
             "#9c179e"
            ],
            [
             0.4444444444444444,
             "#bd3786"
            ],
            [
             0.5555555555555556,
             "#d8576b"
            ],
            [
             0.6666666666666666,
             "#ed7953"
            ],
            [
             0.7777777777777778,
             "#fb9f3a"
            ],
            [
             0.8888888888888888,
             "#fdca26"
            ],
            [
             1,
             "#f0f921"
            ]
           ]
          },
          "colorway": [
           "#636efa",
           "#EF553B",
           "#00cc96",
           "#ab63fa",
           "#FFA15A",
           "#19d3f3",
           "#FF6692",
           "#B6E880",
           "#FF97FF",
           "#FECB52"
          ],
          "font": {
           "color": "#2a3f5f"
          },
          "geo": {
           "bgcolor": "white",
           "lakecolor": "white",
           "landcolor": "#E5ECF6",
           "showlakes": true,
           "showland": true,
           "subunitcolor": "white"
          },
          "hoverlabel": {
           "align": "left"
          },
          "hovermode": "closest",
          "mapbox": {
           "style": "light"
          },
          "paper_bgcolor": "white",
          "plot_bgcolor": "#E5ECF6",
          "polar": {
           "angularaxis": {
            "gridcolor": "white",
            "linecolor": "white",
            "ticks": ""
           },
           "bgcolor": "#E5ECF6",
           "radialaxis": {
            "gridcolor": "white",
            "linecolor": "white",
            "ticks": ""
           }
          },
          "scene": {
           "xaxis": {
            "backgroundcolor": "#E5ECF6",
            "gridcolor": "white",
            "gridwidth": 2,
            "linecolor": "white",
            "showbackground": true,
            "ticks": "",
            "zerolinecolor": "white"
           },
           "yaxis": {
            "backgroundcolor": "#E5ECF6",
            "gridcolor": "white",
            "gridwidth": 2,
            "linecolor": "white",
            "showbackground": true,
            "ticks": "",
            "zerolinecolor": "white"
           },
           "zaxis": {
            "backgroundcolor": "#E5ECF6",
            "gridcolor": "white",
            "gridwidth": 2,
            "linecolor": "white",
            "showbackground": true,
            "ticks": "",
            "zerolinecolor": "white"
           }
          },
          "shapedefaults": {
           "line": {
            "color": "#2a3f5f"
           }
          },
          "ternary": {
           "aaxis": {
            "gridcolor": "white",
            "linecolor": "white",
            "ticks": ""
           },
           "baxis": {
            "gridcolor": "white",
            "linecolor": "white",
            "ticks": ""
           },
           "bgcolor": "#E5ECF6",
           "caxis": {
            "gridcolor": "white",
            "linecolor": "white",
            "ticks": ""
           }
          },
          "title": {
           "x": 0.05
          },
          "xaxis": {
           "automargin": true,
           "gridcolor": "white",
           "linecolor": "white",
           "ticks": "",
           "title": {
            "standoff": 15
           },
           "zerolinecolor": "white",
           "zerolinewidth": 2
          },
          "yaxis": {
           "automargin": true,
           "gridcolor": "white",
           "linecolor": "white",
           "ticks": "",
           "title": {
            "standoff": 15
           },
           "zerolinecolor": "white",
           "zerolinewidth": 2
          }
         }
        },
        "title": {
         "text": "Percentage of time ffor TOKEN_GENERATION"
        },
        "xaxis": {
         "anchor": "y",
         "domain": [
          0,
          1
         ],
         "title": {
          "text": "component"
         }
        },
        "yaxis": {
         "anchor": "x",
         "domain": [
          0,
          1
         ],
         "title": {
          "text": "percentage"
         }
        }
       }
      }
     },
     "metadata": {},
     "output_type": "display_data"
    }
   ],
   "source": [
    "import json\n",
    "import numpy as np\n",
    "import pandas as pd\n",
    "import plotly.express as px\n",
    "\n",
    "with open(file) as f:\n",
    "    data = json.load(f)\n",
    "\n",
    "json2 = data[\"JSON_2\"]\n",
    "\n",
    "first_values = {\n",
    "    k: v[0] for k, v in json2.items()\n",
    "    if isinstance(v, list) and len(v) > 0\n",
    "}\n",
    "total_first = sum(first_values.values())\n",
    "percent_first = {\n",
    "    k: v / total_first * 100 for k, v in first_values.items()\n",
    "}\n",
    "\n",
    "df_first = pd.DataFrame({\n",
    "    \"component\": list(percent_first.keys()),\n",
    "    \"percentage\": list(percent_first.values())\n",
    "}).sort_values(\"percentage\", ascending=False)\n",
    "\n",
    "fig1 = px.bar(\n",
    "    df_first,\n",
    "    x=\"component\",\n",
    "    y=\"percentage\",\n",
    "    title=\"Percentage of time for PROMPT_PROCESSING\",\n",
    "    text_auto=\".2f\"\n",
    ")\n",
    "fig1.show()\n",
    "\n",
    "main_values = {\n",
    "    k: sum(v[2:]) for k, v in json2.items()\n",
    "    if isinstance(v, list) and len(v) > 2\n",
    "}\n",
    "total_main = sum(main_values.values())\n",
    "percent_main = {\n",
    "    k: v / total_main * 100 for k, v in main_values.items()\n",
    "}\n",
    "\n",
    "df_main = pd.DataFrame({\n",
    "    \"component\": list(percent_main.keys()),\n",
    "    \"percentage\": list(percent_main.values())\n",
    "}).sort_values(\"percentage\", ascending=False)\n",
    "\n",
    "fig2 = px.bar(\n",
    "    df_main,\n",
    "    x=\"component\",\n",
    "    y=\"percentage\",\n",
    "    title=\"Percentage of time for TOKEN_GENERATION\",\n",
    "    text_auto=\".2f\"\n",
    ")\n",
    "fig2.show()\n"
   ]
  },
  {
   "cell_type": "markdown",
   "id": "85a6fe5f",
   "metadata": {},
   "source": [
    "# 1. Multi thread comparison"
   ]
  },
  {
   "cell_type": "markdown",
   "id": "445a1582",
   "metadata": {},
   "source": [
    "## 2. ROPE Comparaison"
   ]
  },
  {
   "cell_type": "code",
   "execution_count": null,
   "id": "5aea1370",
   "metadata": {},
   "outputs": [],
   "source": [
    "file1 = \"measurements/output_llama_3.bin_seq_20250617_165939.json\"\n",
    "file2 = \"measurements/output_llama_3.bin_seq_20250618_174751.json\""
   ]
  },
  {
   "cell_type": "code",
   "execution_count": null,
   "id": "64424dc3",
   "metadata": {},
   "outputs": [
    {
     "data": {
      "application/vnd.plotly.v1+json": {
       "config": {
        "plotlyServerURL": "https://plot.ly"
       },
       "data": [
        {
         "hovertemplate": "stage=%{x}<br>speedup (%)=%{y}<extra></extra>",
         "legendgroup": "",
         "marker": {
          "color": "#636efa",
          "pattern": {
           "shape": ""
          }
         },
         "name": "",
         "orientation": "v",
         "showlegend": false,
         "textposition": "auto",
         "type": "bar",
         "x": [
          "PROMPT_PROCESSING",
          "TOKEN_GENERATION"
         ],
         "xaxis": "x",
         "y": {
          "bdata": "AV8xqmhth0COY57+po9xQA==",
          "dtype": "f8"
         },
         "yaxis": "y"
        }
       ],
       "layout": {
        "barmode": "relative",
        "legend": {
         "tracegroupgap": 0
        },
        "template": {
         "data": {
          "bar": [
           {
            "error_x": {
             "color": "#2a3f5f"
            },
            "error_y": {
             "color": "#2a3f5f"
            },
            "marker": {
             "line": {
              "color": "#E5ECF6",
              "width": 0.5
             },
             "pattern": {
              "fillmode": "overlay",
              "size": 10,
              "solidity": 0.2
             }
            },
            "type": "bar"
           }
          ],
          "barpolar": [
           {
            "marker": {
             "line": {
              "color": "#E5ECF6",
              "width": 0.5
             },
             "pattern": {
              "fillmode": "overlay",
              "size": 10,
              "solidity": 0.2
             }
            },
            "type": "barpolar"
           }
          ],
          "carpet": [
           {
            "aaxis": {
             "endlinecolor": "#2a3f5f",
             "gridcolor": "white",
             "linecolor": "white",
             "minorgridcolor": "white",
             "startlinecolor": "#2a3f5f"
            },
            "baxis": {
             "endlinecolor": "#2a3f5f",
             "gridcolor": "white",
             "linecolor": "white",
             "minorgridcolor": "white",
             "startlinecolor": "#2a3f5f"
            },
            "type": "carpet"
           }
          ],
          "choropleth": [
           {
            "colorbar": {
             "outlinewidth": 0,
             "ticks": ""
            },
            "type": "choropleth"
           }
          ],
          "contour": [
           {
            "colorbar": {
             "outlinewidth": 0,
             "ticks": ""
            },
            "colorscale": [
             [
              0,
              "#0d0887"
             ],
             [
              0.1111111111111111,
              "#46039f"
             ],
             [
              0.2222222222222222,
              "#7201a8"
             ],
             [
              0.3333333333333333,
              "#9c179e"
             ],
             [
              0.4444444444444444,
              "#bd3786"
             ],
             [
              0.5555555555555556,
              "#d8576b"
             ],
             [
              0.6666666666666666,
              "#ed7953"
             ],
             [
              0.7777777777777778,
              "#fb9f3a"
             ],
             [
              0.8888888888888888,
              "#fdca26"
             ],
             [
              1,
              "#f0f921"
             ]
            ],
            "type": "contour"
           }
          ],
          "contourcarpet": [
           {
            "colorbar": {
             "outlinewidth": 0,
             "ticks": ""
            },
            "type": "contourcarpet"
           }
          ],
          "heatmap": [
           {
            "colorbar": {
             "outlinewidth": 0,
             "ticks": ""
            },
            "colorscale": [
             [
              0,
              "#0d0887"
             ],
             [
              0.1111111111111111,
              "#46039f"
             ],
             [
              0.2222222222222222,
              "#7201a8"
             ],
             [
              0.3333333333333333,
              "#9c179e"
             ],
             [
              0.4444444444444444,
              "#bd3786"
             ],
             [
              0.5555555555555556,
              "#d8576b"
             ],
             [
              0.6666666666666666,
              "#ed7953"
             ],
             [
              0.7777777777777778,
              "#fb9f3a"
             ],
             [
              0.8888888888888888,
              "#fdca26"
             ],
             [
              1,
              "#f0f921"
             ]
            ],
            "type": "heatmap"
           }
          ],
          "histogram": [
           {
            "marker": {
             "pattern": {
              "fillmode": "overlay",
              "size": 10,
              "solidity": 0.2
             }
            },
            "type": "histogram"
           }
          ],
          "histogram2d": [
           {
            "colorbar": {
             "outlinewidth": 0,
             "ticks": ""
            },
            "colorscale": [
             [
              0,
              "#0d0887"
             ],
             [
              0.1111111111111111,
              "#46039f"
             ],
             [
              0.2222222222222222,
              "#7201a8"
             ],
             [
              0.3333333333333333,
              "#9c179e"
             ],
             [
              0.4444444444444444,
              "#bd3786"
             ],
             [
              0.5555555555555556,
              "#d8576b"
             ],
             [
              0.6666666666666666,
              "#ed7953"
             ],
             [
              0.7777777777777778,
              "#fb9f3a"
             ],
             [
              0.8888888888888888,
              "#fdca26"
             ],
             [
              1,
              "#f0f921"
             ]
            ],
            "type": "histogram2d"
           }
          ],
          "histogram2dcontour": [
           {
            "colorbar": {
             "outlinewidth": 0,
             "ticks": ""
            },
            "colorscale": [
             [
              0,
              "#0d0887"
             ],
             [
              0.1111111111111111,
              "#46039f"
             ],
             [
              0.2222222222222222,
              "#7201a8"
             ],
             [
              0.3333333333333333,
              "#9c179e"
             ],
             [
              0.4444444444444444,
              "#bd3786"
             ],
             [
              0.5555555555555556,
              "#d8576b"
             ],
             [
              0.6666666666666666,
              "#ed7953"
             ],
             [
              0.7777777777777778,
              "#fb9f3a"
             ],
             [
              0.8888888888888888,
              "#fdca26"
             ],
             [
              1,
              "#f0f921"
             ]
            ],
            "type": "histogram2dcontour"
           }
          ],
          "mesh3d": [
           {
            "colorbar": {
             "outlinewidth": 0,
             "ticks": ""
            },
            "type": "mesh3d"
           }
          ],
          "parcoords": [
           {
            "line": {
             "colorbar": {
              "outlinewidth": 0,
              "ticks": ""
             }
            },
            "type": "parcoords"
           }
          ],
          "pie": [
           {
            "automargin": true,
            "type": "pie"
           }
          ],
          "scatter": [
           {
            "fillpattern": {
             "fillmode": "overlay",
             "size": 10,
             "solidity": 0.2
            },
            "type": "scatter"
           }
          ],
          "scatter3d": [
           {
            "line": {
             "colorbar": {
              "outlinewidth": 0,
              "ticks": ""
             }
            },
            "marker": {
             "colorbar": {
              "outlinewidth": 0,
              "ticks": ""
             }
            },
            "type": "scatter3d"
           }
          ],
          "scattercarpet": [
           {
            "marker": {
             "colorbar": {
              "outlinewidth": 0,
              "ticks": ""
             }
            },
            "type": "scattercarpet"
           }
          ],
          "scattergeo": [
           {
            "marker": {
             "colorbar": {
              "outlinewidth": 0,
              "ticks": ""
             }
            },
            "type": "scattergeo"
           }
          ],
          "scattergl": [
           {
            "marker": {
             "colorbar": {
              "outlinewidth": 0,
              "ticks": ""
             }
            },
            "type": "scattergl"
           }
          ],
          "scattermap": [
           {
            "marker": {
             "colorbar": {
              "outlinewidth": 0,
              "ticks": ""
             }
            },
            "type": "scattermap"
           }
          ],
          "scattermapbox": [
           {
            "marker": {
             "colorbar": {
              "outlinewidth": 0,
              "ticks": ""
             }
            },
            "type": "scattermapbox"
           }
          ],
          "scatterpolar": [
           {
            "marker": {
             "colorbar": {
              "outlinewidth": 0,
              "ticks": ""
             }
            },
            "type": "scatterpolar"
           }
          ],
          "scatterpolargl": [
           {
            "marker": {
             "colorbar": {
              "outlinewidth": 0,
              "ticks": ""
             }
            },
            "type": "scatterpolargl"
           }
          ],
          "scatterternary": [
           {
            "marker": {
             "colorbar": {
              "outlinewidth": 0,
              "ticks": ""
             }
            },
            "type": "scatterternary"
           }
          ],
          "surface": [
           {
            "colorbar": {
             "outlinewidth": 0,
             "ticks": ""
            },
            "colorscale": [
             [
              0,
              "#0d0887"
             ],
             [
              0.1111111111111111,
              "#46039f"
             ],
             [
              0.2222222222222222,
              "#7201a8"
             ],
             [
              0.3333333333333333,
              "#9c179e"
             ],
             [
              0.4444444444444444,
              "#bd3786"
             ],
             [
              0.5555555555555556,
              "#d8576b"
             ],
             [
              0.6666666666666666,
              "#ed7953"
             ],
             [
              0.7777777777777778,
              "#fb9f3a"
             ],
             [
              0.8888888888888888,
              "#fdca26"
             ],
             [
              1,
              "#f0f921"
             ]
            ],
            "type": "surface"
           }
          ],
          "table": [
           {
            "cells": {
             "fill": {
              "color": "#EBF0F8"
             },
             "line": {
              "color": "white"
             }
            },
            "header": {
             "fill": {
              "color": "#C8D4E3"
             },
             "line": {
              "color": "white"
             }
            },
            "type": "table"
           }
          ]
         },
         "layout": {
          "annotationdefaults": {
           "arrowcolor": "#2a3f5f",
           "arrowhead": 0,
           "arrowwidth": 1
          },
          "autotypenumbers": "strict",
          "coloraxis": {
           "colorbar": {
            "outlinewidth": 0,
            "ticks": ""
           }
          },
          "colorscale": {
           "diverging": [
            [
             0,
             "#8e0152"
            ],
            [
             0.1,
             "#c51b7d"
            ],
            [
             0.2,
             "#de77ae"
            ],
            [
             0.3,
             "#f1b6da"
            ],
            [
             0.4,
             "#fde0ef"
            ],
            [
             0.5,
             "#f7f7f7"
            ],
            [
             0.6,
             "#e6f5d0"
            ],
            [
             0.7,
             "#b8e186"
            ],
            [
             0.8,
             "#7fbc41"
            ],
            [
             0.9,
             "#4d9221"
            ],
            [
             1,
             "#276419"
            ]
           ],
           "sequential": [
            [
             0,
             "#0d0887"
            ],
            [
             0.1111111111111111,
             "#46039f"
            ],
            [
             0.2222222222222222,
             "#7201a8"
            ],
            [
             0.3333333333333333,
             "#9c179e"
            ],
            [
             0.4444444444444444,
             "#bd3786"
            ],
            [
             0.5555555555555556,
             "#d8576b"
            ],
            [
             0.6666666666666666,
             "#ed7953"
            ],
            [
             0.7777777777777778,
             "#fb9f3a"
            ],
            [
             0.8888888888888888,
             "#fdca26"
            ],
            [
             1,
             "#f0f921"
            ]
           ],
           "sequentialminus": [
            [
             0,
             "#0d0887"
            ],
            [
             0.1111111111111111,
             "#46039f"
            ],
            [
             0.2222222222222222,
             "#7201a8"
            ],
            [
             0.3333333333333333,
             "#9c179e"
            ],
            [
             0.4444444444444444,
             "#bd3786"
            ],
            [
             0.5555555555555556,
             "#d8576b"
            ],
            [
             0.6666666666666666,
             "#ed7953"
            ],
            [
             0.7777777777777778,
             "#fb9f3a"
            ],
            [
             0.8888888888888888,
             "#fdca26"
            ],
            [
             1,
             "#f0f921"
            ]
           ]
          },
          "colorway": [
           "#636efa",
           "#EF553B",
           "#00cc96",
           "#ab63fa",
           "#FFA15A",
           "#19d3f3",
           "#FF6692",
           "#B6E880",
           "#FF97FF",
           "#FECB52"
          ],
          "font": {
           "color": "#2a3f5f"
          },
          "geo": {
           "bgcolor": "white",
           "lakecolor": "white",
           "landcolor": "#E5ECF6",
           "showlakes": true,
           "showland": true,
           "subunitcolor": "white"
          },
          "hoverlabel": {
           "align": "left"
          },
          "hovermode": "closest",
          "mapbox": {
           "style": "light"
          },
          "paper_bgcolor": "white",
          "plot_bgcolor": "#E5ECF6",
          "polar": {
           "angularaxis": {
            "gridcolor": "white",
            "linecolor": "white",
            "ticks": ""
           },
           "bgcolor": "#E5ECF6",
           "radialaxis": {
            "gridcolor": "white",
            "linecolor": "white",
            "ticks": ""
           }
          },
          "scene": {
           "xaxis": {
            "backgroundcolor": "#E5ECF6",
            "gridcolor": "white",
            "gridwidth": 2,
            "linecolor": "white",
            "showbackground": true,
            "ticks": "",
            "zerolinecolor": "white"
           },
           "yaxis": {
            "backgroundcolor": "#E5ECF6",
            "gridcolor": "white",
            "gridwidth": 2,
            "linecolor": "white",
            "showbackground": true,
            "ticks": "",
            "zerolinecolor": "white"
           },
           "zaxis": {
            "backgroundcolor": "#E5ECF6",
            "gridcolor": "white",
            "gridwidth": 2,
            "linecolor": "white",
            "showbackground": true,
            "ticks": "",
            "zerolinecolor": "white"
           }
          },
          "shapedefaults": {
           "line": {
            "color": "#2a3f5f"
           }
          },
          "ternary": {
           "aaxis": {
            "gridcolor": "white",
            "linecolor": "white",
            "ticks": ""
           },
           "baxis": {
            "gridcolor": "white",
            "linecolor": "white",
            "ticks": ""
           },
           "bgcolor": "#E5ECF6",
           "caxis": {
            "gridcolor": "white",
            "linecolor": "white",
            "ticks": ""
           }
          },
          "title": {
           "x": 0.05
          },
          "xaxis": {
           "automargin": true,
           "gridcolor": "white",
           "linecolor": "white",
           "ticks": "",
           "title": {
            "standoff": 15
           },
           "zerolinecolor": "white",
           "zerolinewidth": 2
          },
          "yaxis": {
           "automargin": true,
           "gridcolor": "white",
           "linecolor": "white",
           "ticks": "",
           "title": {
            "standoff": 15
           },
           "zerolinecolor": "white",
           "zerolinewidth": 2
          }
         }
        },
        "title": {
         "text": "ROPE speedup with pre-computed Rope"
        },
        "width": 500,
        "xaxis": {
         "anchor": "y",
         "domain": [
          0,
          1
         ],
         "title": {
          "text": "stage"
         }
        },
        "yaxis": {
         "anchor": "x",
         "domain": [
          0,
          1
         ],
         "title": {
          "text": "speedup (%)"
         }
        }
       }
      }
     },
     "metadata": {},
     "output_type": "display_data"
    }
   ],
   "source": [
    "import json\n",
    "import pandas as pd\n",
    "import numpy as np\n",
    "import plotly.express as px\n",
    "\n",
    "\n",
    "def extract_metrics(path):\n",
    "    with open(path) as f:\n",
    "        data = json.load(f)\n",
    "        rope = data[\"JSON_2\"][\"ROPE\"]\n",
    "        return {\"PROMPT_PROCESSING\": rope[0], \"TOKEN_GENERATION\": np.mean(rope[2:])}\n",
    "\n",
    "\n",
    "metrics1 = extract_metrics(file1)\n",
    "metrics2 = extract_metrics(file2)\n",
    "\n",
    "speedups = {\"stage\": [], \"speedup (%)\": [], \"delta\" : []}\n",
    "\n",
    "for key in [\"PROMPT_PROCESSING\", \"TOKEN_GENERATION\"]:\n",
    "    ratio = 100 * metrics1[key] / metrics2[key]\n",
    "    speedups[\"stage\"].append(key)\n",
    "    speedups[\"speedup (%)\"].append(ratio)\n",
    "    speedups[\"delta\"].append(metrics2[key] - metrics1[key])\n",
    "\n",
    "df = pd.DataFrame(speedups)\n",
    "\n",
    "fig = px.bar(df, x=\"stage\", y=\"speedup (%)\", title=\"ROPE speedup with pre-computed Rope\", width=500)\n",
    "fig.show()"
   ]
  },
  {
   "cell_type": "code",
   "execution_count": null,
   "id": "a28665b6",
   "metadata": {},
   "outputs": [
    {
     "data": {
      "text/html": [
       "<div>\n",
       "<style scoped>\n",
       "    .dataframe tbody tr th:only-of-type {\n",
       "        vertical-align: middle;\n",
       "    }\n",
       "\n",
       "    .dataframe tbody tr th {\n",
       "        vertical-align: top;\n",
       "    }\n",
       "\n",
       "    .dataframe thead th {\n",
       "        text-align: right;\n",
       "    }\n",
       "</style>\n",
       "<table border=\"1\" class=\"dataframe\">\n",
       "  <thead>\n",
       "    <tr style=\"text-align: right;\">\n",
       "      <th></th>\n",
       "      <th>stage</th>\n",
       "      <th>speedup (%)</th>\n",
       "      <th>delta</th>\n",
       "    </tr>\n",
       "  </thead>\n",
       "  <tbody>\n",
       "    <tr>\n",
       "      <th>0</th>\n",
       "      <td>PROMPT_PROCESSING</td>\n",
       "      <td>749.676106</td>\n",
       "      <td>-3.510200</td>\n",
       "    </tr>\n",
       "    <tr>\n",
       "      <th>1</th>\n",
       "      <td>TOKEN_GENERATION</td>\n",
       "      <td>280.978270</td>\n",
       "      <td>-0.064743</td>\n",
       "    </tr>\n",
       "  </tbody>\n",
       "</table>\n",
       "</div>"
      ],
      "text/plain": [
       "               stage  speedup (%)     delta\n",
       "0  PROMPT_PROCESSING   749.676106 -3.510200\n",
       "1   TOKEN_GENERATION   280.978270 -0.064743"
      ]
     },
     "execution_count": 47,
     "metadata": {},
     "output_type": "execute_result"
    }
   ],
   "source": [
    "df"
   ]
  },
  {
   "cell_type": "markdown",
   "id": "1fcca26a",
   "metadata": {},
   "source": [
    "## 2. Parralel Execution"
   ]
  },
  {
   "cell_type": "code",
   "execution_count": 40,
   "id": "338a83b3",
   "metadata": {},
   "outputs": [
    {
     "name": "stdout",
     "output_type": "stream",
     "text": [
      "gcc -O3 -DINSTR -ffast-math -fno-omit-frame-pointer -Wall -fopenmp -march=native clift.c  -lm  -o cliftinstr\n"
     ]
    },
    {
     "name": "stderr",
     "output_type": "stream",
     "text": [
      "clift.c: In function ‘transformer_forward’:\n",
      "clift.c:540:10: warning: unused variable ‘st’ [-Wunused-variable]\n",
      "  540 |   double st = 0;\n",
      "      |          ^~\n",
      "clift.c: In function ‘generate’:\n",
      "clift.c:1762:17: warning: unused variable ‘piece’ [-Wunused-variable]\n",
      " 1762 |           char* piece = tokenizer_decode(tokenizer, current, next);\n",
      "      |                 ^~~~~\n",
      "clift.c:1792:17: warning: unused variable ‘piece’ [-Wunused-variable]\n",
      " 1792 |           char* piece = tokenizer_decode(tokenizer, current, next);\n",
      "      |                 ^~~~~\n",
      "clift.c: In function ‘main’:\n",
      "clift.c:1962:5: warning: ignoring return value of ‘fread’ declared with attribute ‘warn_unused_result’ [-Wunused-result]\n",
      " 1962 |     fread(file_prompt, 1, fsize, pf);\n",
      "      |     ^~~~~~~~~~~~~~~~~~~~~~~~~~~~~~~~\n",
      "transformer_t configuration:\n",
      "- embedding_dim:  2048\n",
      "- hidden_dim:     8192\n",
      "- layer_count:    16\n",
      "- q_head_count:   32\n",
      "- kv_head_count:  8\n",
      "- vocabulary_len: 128256\n",
      "- context_len:    2048\n",
      "runtime setup:\n",
      "- num_threads:    1\n",
      "Sequence (34 tokens):\n",
      "128000 2356 220 81101 320 8921 1764 2840 3105 8 34388 49831 406 3869 326 529 541 265 951 220 68641 78 83649 83 2552 1880 3869 1208 67628 951 2211 102843 62306 5512 \n",
      "\u001b[1;34mLe lama (Lama glama) appartient à l’ordre des artiodactyles et à la famille des camélidés\u001b[0mPrompt processing (prefill): 34 tokens in  6.028 s (5.640345 tok/s)\n",
      "Token generation  (decode):  19 tokens in  4.575 s (4.153005 tok/s)\n",
      "transformer_t configuration:\n",
      "- embedding_dim:  2048\n",
      "- hidden_dim:     8192\n",
      "- layer_count:    16\n",
      "- q_head_count:   32\n",
      "- kv_head_count:  8\n",
      "- vocabulary_len: 128256\n",
      "- context_len:    2048\n",
      "runtime setup:\n",
      "- num_threads:    2\n",
      "Sequence (34 tokens):\n",
      "128000 2356 220 81101 320 8921 1764 2840 3105 8 34388 49831 406 3869 326 529 541 265 951 220 68641 78 83649 83 2552 1880 3869 1208 67628 951 2211 102843 62306 5512 \n",
      "\u001b[1;34mLe lama (Lama glama) appartient à l’ordre des artiodactyles et à la famille des camélidés\u001b[0mPrompt processing (prefill): 34 tokens in  4.372 s (7.776761 tok/s)\n",
      "Token generation  (decode):  19 tokens in  3.026 s (6.278916 tok/s)\n",
      "transformer_t configuration:\n",
      "- embedding_dim:  2048\n",
      "- hidden_dim:     8192\n",
      "- layer_count:    16\n",
      "- q_head_count:   32\n",
      "- kv_head_count:  8\n",
      "- vocabulary_len: 128256\n",
      "- context_len:    2048\n",
      "runtime setup:\n",
      "- num_threads:    4\n",
      "Sequence (34 tokens):\n",
      "128000 2356 220 81101 320 8921 1764 2840 3105 8 34388 49831 406 3869 326 529 541 265 951 220 68641 78 83649 83 2552 1880 3869 1208 67628 951 2211 102843 62306 5512 \n",
      "\u001b[1;34mLe lama (Lama glama) appartient à l’ordre des artiodactyles et à la famille des camélidés\u001b[0mPrompt processing (prefill): 34 tokens in  3.174 s (10.712035 tok/s)\n",
      "Token generation  (decode):  19 tokens in  3.157 s (6.018372 tok/s)\n",
      "transformer_t configuration:\n",
      "- embedding_dim:  2048\n",
      "- hidden_dim:     8192\n",
      "- layer_count:    16\n",
      "- q_head_count:   32\n",
      "- kv_head_count:  8\n",
      "- vocabulary_len: 128256\n",
      "- context_len:    2048\n",
      "runtime setup:\n",
      "- num_threads:    8\n",
      "Sequence (34 tokens):\n",
      "128000 2356 220 81101 320 8921 1764 2840 3105 8 34388 49831 406 3869 326 529 541 265 951 220 68641 78 83649 83 2552 1880 3869 1208 67628 951 2211 102843 62306 5512 \n",
      "\u001b[1;34mLe lama (Lama glama) appartient à l’ordre des artiodactyles et à la famille des camélidés\u001b[0mPrompt processing (prefill): 34 tokens in  2.737 s (12.422360 tok/s)\n",
      "Token generation  (decode):  19 tokens in  2.387 s (7.959782 tok/s)\n",
      "transformer_t configuration:\n",
      "- embedding_dim:  2048\n",
      "- hidden_dim:     8192\n",
      "- layer_count:    16\n",
      "- q_head_count:   32\n",
      "- kv_head_count:  8\n",
      "- vocabulary_len: 128256\n",
      "- context_len:    2048\n",
      "runtime setup:\n",
      "- num_threads:    10\n",
      "Sequence (34 tokens):\n",
      "128000 2356 220 81101 320 8921 1764 2840 3105 8 34388 49831 406 3869 326 529 541 265 951 220 68641 78 83649 83 2552 1880 3869 1208 67628 951 2211 102843 62306 5512 \n",
      "\u001b[1;34mLe lama (Lama glama) appartient à l’ordre des artiodactyles et à la famille des camélidés\u001b[0mPrompt processing (prefill): 34 tokens in  2.391 s (14.219992 tok/s)\n",
      "Token generation  (decode):  19 tokens in  2.246 s (8.459484 tok/s)\n",
      "transformer_t configuration:\n",
      "- embedding_dim:  2048\n",
      "- hidden_dim:     8192\n",
      "- layer_count:    16\n",
      "- q_head_count:   32\n",
      "- kv_head_count:  8\n",
      "- vocabulary_len: 128256\n",
      "- context_len:    2048\n",
      "runtime setup:\n",
      "- num_threads:    12\n",
      "Sequence (34 tokens):\n",
      "128000 2356 220 81101 320 8921 1764 2840 3105 8 34388 49831 406 3869 326 529 541 265 951 220 68641 78 83649 83 2552 1880 3869 1208 67628 951 2211 102843 62306 5512 \n",
      "\u001b[1;34mLe lama (Lama glama) appartient à l’ordre des artiodactyles et à la famille des camélidés\u001b[0mPrompt processing (prefill): 34 tokens in  2.067 s (16.448960 tok/s)\n",
      "Token generation  (decode):  19 tokens in  2.020 s (9.405941 tok/s)\n",
      "transformer_t configuration:\n",
      "- embedding_dim:  2048\n",
      "- hidden_dim:     8192\n",
      "- layer_count:    16\n",
      "- q_head_count:   32\n",
      "- kv_head_count:  8\n",
      "- vocabulary_len: 128256\n",
      "- context_len:    2048\n",
      "runtime setup:\n",
      "- num_threads:    1\n",
      "Sequence (61 tokens):\n",
      "128000 2356 220 81101 11 10065 74522 2428 271 2356 220 81101 320 8921 1764 2840 3105 8 34388 49831 406 3869 326 529 541 265 951 220 68641 78 83649 83 2552 1880 3869 1208 67628 951 2211 102843 62306 5512 11 15890 3900 1826 514 5636 6800 2109 43711 12021 61512 294 529 32 102843 34395 3930 27430 1826 \n",
      "\u001b[1;34mLe lama, animal domestique\n",
      "\n",
      "Le lama (Lama glama) appartient à l’ordre des artiodactyles et à la famille des camélidés, dont il est le plus grand représentant d’Amérique du Sud est\u001b[0mPrompt processing (prefill): 61 tokens in  8.713 s (7.001033 tok/s)\n",
      "Token generation  (decode):  19 tokens in  3.715 s (5.114401 tok/s)\n",
      "transformer_t configuration:\n",
      "- embedding_dim:  2048\n",
      "- hidden_dim:     8192\n",
      "- layer_count:    16\n",
      "- q_head_count:   32\n",
      "- kv_head_count:  8\n",
      "- vocabulary_len: 128256\n",
      "- context_len:    2048\n",
      "runtime setup:\n",
      "- num_threads:    2\n",
      "Sequence (61 tokens):\n",
      "128000 2356 220 81101 11 10065 74522 2428 271 2356 220 81101 320 8921 1764 2840 3105 8 34388 49831 406 3869 326 529 541 265 951 220 68641 78 83649 83 2552 1880 3869 1208 67628 951 2211 102843 62306 5512 11 15890 3900 1826 514 5636 6800 2109 43711 12021 61512 294 529 32 102843 34395 3930 27430 1826 \n",
      "\u001b[1;34mLe lama, animal domestique\n",
      "\n",
      "Le lama (Lama glama) appartient à l’ordre des artiodactyles et à la famille des camélidés, dont il est le plus grand représentant d’Amérique du Sud est\u001b[0mPrompt processing (prefill): 61 tokens in  6.176 s (9.876943 tok/s)\n",
      "Token generation  (decode):  19 tokens in  2.726 s (6.969919 tok/s)\n",
      "transformer_t configuration:\n",
      "- embedding_dim:  2048\n",
      "- hidden_dim:     8192\n",
      "- layer_count:    16\n",
      "- q_head_count:   32\n",
      "- kv_head_count:  8\n",
      "- vocabulary_len: 128256\n",
      "- context_len:    2048\n",
      "runtime setup:\n",
      "- num_threads:    4\n",
      "Sequence (61 tokens):\n",
      "128000 2356 220 81101 11 10065 74522 2428 271 2356 220 81101 320 8921 1764 2840 3105 8 34388 49831 406 3869 326 529 541 265 951 220 68641 78 83649 83 2552 1880 3869 1208 67628 951 2211 102843 62306 5512 11 15890 3900 1826 514 5636 6800 2109 43711 12021 61512 294 529 32 102843 34395 3930 27430 1826 \n",
      "\u001b[1;34mLe lama, animal domestique\n",
      "\n",
      "Le lama (Lama glama) appartient à l’ordre des artiodactyles et à la famille des camélidés, dont il est le plus grand représentant d’Amérique du Sud est\u001b[0mPrompt processing (prefill): 61 tokens in  5.119 s (11.916390 tok/s)\n",
      "Token generation  (decode):  19 tokens in  2.742 s (6.929249 tok/s)\n",
      "transformer_t configuration:\n",
      "- embedding_dim:  2048\n",
      "- hidden_dim:     8192\n",
      "- layer_count:    16\n",
      "- q_head_count:   32\n",
      "- kv_head_count:  8\n",
      "- vocabulary_len: 128256\n",
      "- context_len:    2048\n",
      "runtime setup:\n",
      "- num_threads:    8\n",
      "Sequence (61 tokens):\n",
      "128000 2356 220 81101 11 10065 74522 2428 271 2356 220 81101 320 8921 1764 2840 3105 8 34388 49831 406 3869 326 529 541 265 951 220 68641 78 83649 83 2552 1880 3869 1208 67628 951 2211 102843 62306 5512 11 15890 3900 1826 514 5636 6800 2109 43711 12021 61512 294 529 32 102843 34395 3930 27430 1826 \n",
      "\u001b[1;34mLe lama, animal domestique\n",
      "\n",
      "Le lama (Lama glama) appartient à l’ordre des artiodactyles et à la famille des camélidés, dont il est le plus grand représentant d’Amérique du Sud est\u001b[0mPrompt processing (prefill): 61 tokens in  3.949 s (15.446949 tok/s)\n",
      "Token generation  (decode):  19 tokens in  2.534 s (7.498027 tok/s)\n",
      "transformer_t configuration:\n",
      "- embedding_dim:  2048\n",
      "- hidden_dim:     8192\n",
      "- layer_count:    16\n",
      "- q_head_count:   32\n",
      "- kv_head_count:  8\n",
      "- vocabulary_len: 128256\n",
      "- context_len:    2048\n",
      "runtime setup:\n",
      "- num_threads:    10\n",
      "Sequence (61 tokens):\n",
      "128000 2356 220 81101 11 10065 74522 2428 271 2356 220 81101 320 8921 1764 2840 3105 8 34388 49831 406 3869 326 529 541 265 951 220 68641 78 83649 83 2552 1880 3869 1208 67628 951 2211 102843 62306 5512 11 15890 3900 1826 514 5636 6800 2109 43711 12021 61512 294 529 32 102843 34395 3930 27430 1826 \n",
      "\u001b[1;34mLe lama, animal domestique\n",
      "\n",
      "Le lama (Lama glama) appartient à l’ordre des artiodactyles et à la famille des camélidés, dont il est le plus grand représentant d’Amérique du Sud est\u001b[0mPrompt processing (prefill): 61 tokens in  4.324 s (14.107308 tok/s)\n",
      "Token generation  (decode):  19 tokens in  2.174 s (8.739650 tok/s)\n",
      "transformer_t configuration:\n",
      "- embedding_dim:  2048\n",
      "- hidden_dim:     8192\n",
      "- layer_count:    16\n",
      "- q_head_count:   32\n",
      "- kv_head_count:  8\n",
      "- vocabulary_len: 128256\n",
      "- context_len:    2048\n",
      "runtime setup:\n",
      "- num_threads:    12\n",
      "Sequence (61 tokens):\n",
      "128000 2356 220 81101 11 10065 74522 2428 271 2356 220 81101 320 8921 1764 2840 3105 8 34388 49831 406 3869 326 529 541 265 951 220 68641 78 83649 83 2552 1880 3869 1208 67628 951 2211 102843 62306 5512 11 15890 3900 1826 514 5636 6800 2109 43711 12021 61512 294 529 32 102843 34395 3930 27430 1826 \n",
      "\u001b[1;34mLe lama, animal domestique\n",
      "\n",
      "Le lama (Lama glama) appartient à l’ordre des artiodactyles et à la famille des camélidés, dont il est le plus grand représentant d’Amérique du Sud est\u001b[0mPrompt processing (prefill): 61 tokens in  3.804 s (16.035752 tok/s)\n",
      "Token generation  (decode):  19 tokens in  2.057 s (9.236753 tok/s)\n",
      "transformer_t configuration:\n",
      "- embedding_dim:  2048\n",
      "- hidden_dim:     8192\n",
      "- layer_count:    16\n",
      "- q_head_count:   32\n",
      "- kv_head_count:  8\n",
      "- vocabulary_len: 128256\n",
      "- context_len:    2048\n",
      "runtime setup:\n",
      "- num_threads:    1\n",
      "Sequence (119 tokens):\n",
      "128000 2356 220 81101 11 10065 74522 2428 271 2356 220 81101 320 8921 1764 2840 3105 8 34388 49831 406 3869 326 529 541 265 951 220 68641 78 83649 83 2552 1880 3869 1208 67628 951 2211 102843 62306 5512 11 15890 3900 1826 514 5636 6800 2109 43711 12021 61512 294 529 32 102843 34395 3930 27430 9952 6316 62321 12844 8065 7515 4744 409 220 16 11 914 296 50026 5019 653 97418 23536 406 55398 91240 220 6330 21647 13 24703 83 10065 74522 2428 71925 6960 653 51625 53819 220 96893 978 5019 3625 28800 125800 409 1208 8474 64 220 75328 409 40852 82694 2249 2503 96559 68 9465 220 18 8 \n",
      "\u001b[1;34mLe lama, animal domestique\n",
      "\n",
      "Le lama (Lama glama) appartient à l’ordre des artiodactyles et à la famille des camélidés, dont il est le plus grand représentant d’Amérique du Sud avec une hauteur au garrot de 1,25 m environ pour un poids allant jusqu’à 160 kg. Cet animal domestique représente un précieux allié pour les peuples de la puna (zone de plateaux située entre 3)\u001b[0mPrompt processing (prefill): 119 tokens in 17.703 s (6.722025 tok/s)\n",
      "Token generation  (decode):  19 tokens in  3.738 s (5.082932 tok/s)\n",
      "transformer_t configuration:\n",
      "- embedding_dim:  2048\n",
      "- hidden_dim:     8192\n",
      "- layer_count:    16\n",
      "- q_head_count:   32\n",
      "- kv_head_count:  8\n",
      "- vocabulary_len: 128256\n",
      "- context_len:    2048\n",
      "runtime setup:\n",
      "- num_threads:    2\n",
      "Sequence (119 tokens):\n",
      "128000 2356 220 81101 11 10065 74522 2428 271 2356 220 81101 320 8921 1764 2840 3105 8 34388 49831 406 3869 326 529 541 265 951 220 68641 78 83649 83 2552 1880 3869 1208 67628 951 2211 102843 62306 5512 11 15890 3900 1826 514 5636 6800 2109 43711 12021 61512 294 529 32 102843 34395 3930 27430 9952 6316 62321 12844 8065 7515 4744 409 220 16 11 914 296 50026 5019 653 97418 23536 406 55398 91240 220 6330 21647 13 24703 83 10065 74522 2428 71925 6960 653 51625 53819 220 96893 978 5019 3625 28800 125800 409 1208 8474 64 220 75328 409 40852 82694 2249 2503 96559 68 9465 220 18 8 \n",
      "\u001b[1;34mLe lama, animal domestique\n",
      "\n",
      "Le lama (Lama glama) appartient à l’ordre des artiodactyles et à la famille des camélidés, dont il est le plus grand représentant d’Amérique du Sud avec une hauteur au garrot de 1,25 m environ pour un poids allant jusqu’à 160 kg. Cet animal domestique représente un précieux allié pour les peuples de la puna (zone de plateaux située entre 3)\u001b[0mPrompt processing (prefill): 119 tokens in 12.250 s (9.714286 tok/s)\n",
      "Token generation  (decode):  19 tokens in  2.789 s (6.812478 tok/s)\n",
      "transformer_t configuration:\n",
      "- embedding_dim:  2048\n",
      "- hidden_dim:     8192\n",
      "- layer_count:    16\n",
      "- q_head_count:   32\n",
      "- kv_head_count:  8\n",
      "- vocabulary_len: 128256\n",
      "- context_len:    2048\n",
      "runtime setup:\n",
      "- num_threads:    4\n",
      "Sequence (119 tokens):\n",
      "128000 2356 220 81101 11 10065 74522 2428 271 2356 220 81101 320 8921 1764 2840 3105 8 34388 49831 406 3869 326 529 541 265 951 220 68641 78 83649 83 2552 1880 3869 1208 67628 951 2211 102843 62306 5512 11 15890 3900 1826 514 5636 6800 2109 43711 12021 61512 294 529 32 102843 34395 3930 27430 9952 6316 62321 12844 8065 7515 4744 409 220 16 11 914 296 50026 5019 653 97418 23536 406 55398 91240 220 6330 21647 13 24703 83 10065 74522 2428 71925 6960 653 51625 53819 220 96893 978 5019 3625 28800 125800 409 1208 8474 64 220 75328 409 40852 82694 2249 2503 96559 68 9465 220 18 8 \n",
      "\u001b[1;34mLe lama, animal domestique\n",
      "\n",
      "Le lama (Lama glama) appartient à l’ordre des artiodactyles et à la famille des camélidés, dont il est le plus grand représentant d’Amérique du Sud avec une hauteur au garrot de 1,25 m environ pour un poids allant jusqu’à 160 kg. Cet animal domestique représente un précieux allié pour les peuples de la puna (zone de plateaux située entre 3)\u001b[0mPrompt processing (prefill): 119 tokens in  9.891 s (12.031139 tok/s)\n",
      "Token generation  (decode):  19 tokens in  2.715 s (6.998158 tok/s)\n",
      "transformer_t configuration:\n",
      "- embedding_dim:  2048\n",
      "- hidden_dim:     8192\n",
      "- layer_count:    16\n",
      "- q_head_count:   32\n",
      "- kv_head_count:  8\n",
      "- vocabulary_len: 128256\n",
      "- context_len:    2048\n",
      "runtime setup:\n",
      "- num_threads:    8\n",
      "Sequence (119 tokens):\n",
      "128000 2356 220 81101 11 10065 74522 2428 271 2356 220 81101 320 8921 1764 2840 3105 8 34388 49831 406 3869 326 529 541 265 951 220 68641 78 83649 83 2552 1880 3869 1208 67628 951 2211 102843 62306 5512 11 15890 3900 1826 514 5636 6800 2109 43711 12021 61512 294 529 32 102843 34395 3930 27430 9952 6316 62321 12844 8065 7515 4744 409 220 16 11 914 296 50026 5019 653 97418 23536 406 55398 91240 220 6330 21647 13 24703 83 10065 74522 2428 71925 6960 653 51625 53819 220 96893 978 5019 3625 28800 125800 409 1208 8474 64 220 75328 409 40852 82694 2249 2503 96559 68 9465 220 18 8 \n",
      "\u001b[1;34mLe lama, animal domestique\n",
      "\n",
      "Le lama (Lama glama) appartient à l’ordre des artiodactyles et à la famille des camélidés, dont il est le plus grand représentant d’Amérique du Sud avec une hauteur au garrot de 1,25 m environ pour un poids allant jusqu’à 160 kg. Cet animal domestique représente un précieux allié pour les peuples de la puna (zone de plateaux située entre 3)\u001b[0mPrompt processing (prefill): 119 tokens in  7.796 s (15.264238 tok/s)\n",
      "Token generation  (decode):  19 tokens in  2.275 s (8.351648 tok/s)\n",
      "transformer_t configuration:\n",
      "- embedding_dim:  2048\n",
      "- hidden_dim:     8192\n",
      "- layer_count:    16\n",
      "- q_head_count:   32\n",
      "- kv_head_count:  8\n",
      "- vocabulary_len: 128256\n",
      "- context_len:    2048\n",
      "runtime setup:\n",
      "- num_threads:    10\n",
      "Sequence (119 tokens):\n",
      "128000 2356 220 81101 11 10065 74522 2428 271 2356 220 81101 320 8921 1764 2840 3105 8 34388 49831 406 3869 326 529 541 265 951 220 68641 78 83649 83 2552 1880 3869 1208 67628 951 2211 102843 62306 5512 11 15890 3900 1826 514 5636 6800 2109 43711 12021 61512 294 529 32 102843 34395 3930 27430 9952 6316 62321 12844 8065 7515 4744 409 220 16 11 914 296 50026 5019 653 97418 23536 406 55398 91240 220 6330 21647 13 24703 83 10065 74522 2428 71925 6960 653 51625 53819 220 96893 978 5019 3625 28800 125800 409 1208 8474 64 220 75328 409 40852 82694 2249 2503 96559 68 9465 220 18 8 \n",
      "\u001b[1;34mLe lama, animal domestique\n",
      "\n",
      "Le lama (Lama glama) appartient à l’ordre des artiodactyles et à la famille des camélidés, dont il est le plus grand représentant d’Amérique du Sud avec une hauteur au garrot de 1,25 m environ pour un poids allant jusqu’à 160 kg. Cet animal domestique représente un précieux allié pour les peuples de la puna (zone de plateaux située entre 3)\u001b[0mPrompt processing (prefill): 119 tokens in  7.319 s (16.259052 tok/s)\n",
      "Token generation  (decode):  19 tokens in  2.146 s (8.853681 tok/s)\n",
      "transformer_t configuration:\n",
      "- embedding_dim:  2048\n",
      "- hidden_dim:     8192\n",
      "- layer_count:    16\n",
      "- q_head_count:   32\n",
      "- kv_head_count:  8\n",
      "- vocabulary_len: 128256\n",
      "- context_len:    2048\n",
      "runtime setup:\n",
      "- num_threads:    12\n",
      "Sequence (119 tokens):\n",
      "128000 2356 220 81101 11 10065 74522 2428 271 2356 220 81101 320 8921 1764 2840 3105 8 34388 49831 406 3869 326 529 541 265 951 220 68641 78 83649 83 2552 1880 3869 1208 67628 951 2211 102843 62306 5512 11 15890 3900 1826 514 5636 6800 2109 43711 12021 61512 294 529 32 102843 34395 3930 27430 9952 6316 62321 12844 8065 7515 4744 409 220 16 11 914 296 50026 5019 653 97418 23536 406 55398 91240 220 6330 21647 13 24703 83 10065 74522 2428 71925 6960 653 51625 53819 220 96893 978 5019 3625 28800 125800 409 1208 8474 64 220 75328 409 40852 82694 2249 2503 96559 68 9465 220 18 8 \n",
      "\u001b[1;34mLe lama, animal domestique\n",
      "\n",
      "Le lama (Lama glama) appartient à l’ordre des artiodactyles et à la famille des camélidés, dont il est le plus grand représentant d’Amérique du Sud avec une hauteur au garrot de 1,25 m environ pour un poids allant jusqu’à 160 kg. Cet animal domestique représente un précieux allié pour les peuples de la puna (zone de plateaux située entre 3)\u001b[0mPrompt processing (prefill): 119 tokens in  7.197 s (16.534667 tok/s)\n",
      "Token generation  (decode):  19 tokens in  2.053 s (9.254749 tok/s)\n",
      "transformer_t configuration:\n",
      "- embedding_dim:  2048\n",
      "- hidden_dim:     8192\n",
      "- layer_count:    16\n",
      "- q_head_count:   32\n",
      "- kv_head_count:  8\n",
      "- vocabulary_len: 128256\n",
      "- context_len:    2048\n",
      "runtime setup:\n",
      "- num_threads:    1\n",
      "Sequence (239 tokens):\n",
      "128000 2356 220 81101 11 10065 74522 2428 271 2356 220 81101 320 8921 1764 2840 3105 8 34388 49831 406 3869 326 529 541 265 951 220 68641 78 83649 83 2552 1880 3869 1208 67628 951 2211 102843 62306 5512 11 15890 3900 1826 514 5636 6800 2109 43711 12021 61512 294 529 32 102843 34395 3930 27430 9952 6316 62321 12844 8065 7515 4744 409 220 16 11 914 296 50026 5019 653 97418 23536 406 55398 91240 220 6330 21647 13 24703 83 10065 74522 2428 71925 6960 653 51625 53819 220 96893 978 5019 3625 28800 125800 409 1208 8474 64 220 75328 409 40852 82694 2249 2503 96559 68 9465 220 18 220 2636 1880 220 11738 15 296 294 83508 83 3993 8 1841 3900 96488 951 3678 5776 4338 288 11 81994 275 409 1208 51476 68 5019 2389 762 10462 30052 81 951 348 37093 1392 1880 951 272 15170 19020 44351 1744 409 1208 4669 43441 5019 46798 38315 5019 3625 34561 94943 82 220 51701 288 13 4953 18826 901 409 37563 6316 6900 1043 57663 68 3869 220 966 21647 11 514 220 81101 841 113147 6502 3869 45165 6151 3395 261 3625 2854 1771 627 6720 4020 1880 46110 3167 12791 84 5019 514 220 81101 271 2356 220 81101 2278 4558 451 653 50510 2852 281 81892 15890 1208 220 39340 668 4244 68 3930 \n",
      "\u001b[1;34mLe lama, animal domestique\n",
      "\n",
      "Le lama (Lama glama) appartient à l’ordre des artiodactyles et à la famille des camélidés, dont il est le plus grand représentant d’Amérique du Sud avec une hauteur au garrot de 1,25 m environ pour un poids allant jusqu’à 160 kg. Cet animal domestique représente un précieux allié pour les peuples de la puna (zone de plateaux située entre 3 500 et 4800 m d'altitude) car il transporte des marchandises, fournit de la laine pour confectionner des vêtements et des couvertures ainsi que de la viande pour nourrir pour les communautés andines. Incapable de supporter une charge supérieure à 30 kg, le lama ne sert pas à véhiculer les humains.\n",
      "Long cou et petit museau pour le lama\n",
      "\n",
      "Le lama possède un épais pelage dont la teinte varie du\u001b[0mPrompt processing (prefill): 239 tokens in 34.741 s (6.879480 tok/s)\n",
      "Token generation  (decode):  19 tokens in  3.761 s (5.051848 tok/s)\n",
      "transformer_t configuration:\n",
      "- embedding_dim:  2048\n",
      "- hidden_dim:     8192\n",
      "- layer_count:    16\n",
      "- q_head_count:   32\n",
      "- kv_head_count:  8\n",
      "- vocabulary_len: 128256\n",
      "- context_len:    2048\n",
      "runtime setup:\n",
      "- num_threads:    2\n",
      "Sequence (239 tokens):\n",
      "128000 2356 220 81101 11 10065 74522 2428 271 2356 220 81101 320 8921 1764 2840 3105 8 34388 49831 406 3869 326 529 541 265 951 220 68641 78 83649 83 2552 1880 3869 1208 67628 951 2211 102843 62306 5512 11 15890 3900 1826 514 5636 6800 2109 43711 12021 61512 294 529 32 102843 34395 3930 27430 9952 6316 62321 12844 8065 7515 4744 409 220 16 11 914 296 50026 5019 653 97418 23536 406 55398 91240 220 6330 21647 13 24703 83 10065 74522 2428 71925 6960 653 51625 53819 220 96893 978 5019 3625 28800 125800 409 1208 8474 64 220 75328 409 40852 82694 2249 2503 96559 68 9465 220 18 220 2636 1880 220 11738 15 296 294 83508 83 3993 8 1841 3900 96488 951 3678 5776 4338 288 11 81994 275 409 1208 51476 68 5019 2389 762 10462 30052 81 951 348 37093 1392 1880 951 272 15170 19020 44351 1744 409 1208 4669 43441 5019 46798 38315 5019 3625 34561 94943 82 220 51701 288 13 4953 18826 901 409 37563 6316 6900 1043 57663 68 3869 220 966 21647 11 514 220 81101 841 113147 6502 3869 45165 6151 3395 261 3625 2854 1771 627 6720 4020 1880 46110 3167 12791 84 5019 514 220 81101 271 2356 220 81101 2278 4558 451 653 50510 2852 281 81892 15890 1208 220 39340 668 4244 68 3930 \n",
      "\u001b[1;34mLe lama, animal domestique\n",
      "\n",
      "Le lama (Lama glama) appartient à l’ordre des artiodactyles et à la famille des camélidés, dont il est le plus grand représentant d’Amérique du Sud avec une hauteur au garrot de 1,25 m environ pour un poids allant jusqu’à 160 kg. Cet animal domestique représente un précieux allié pour les peuples de la puna (zone de plateaux située entre 3 500 et 4800 m d'altitude) car il transporte des marchandises, fournit de la laine pour confectionner des vêtements et des couvertures ainsi que de la viande pour nourrir pour les communautés andines. Incapable de supporter une charge supérieure à 30 kg, le lama ne sert pas à véhiculer les humains.\n",
      "Long cou et petit museau pour le lama\n",
      "\n",
      "Le lama possède un épais pelage dont la teinte varie du\u001b[0mPrompt processing (prefill): 239 tokens in 24.253 s (9.854451 tok/s)\n",
      "Token generation  (decode):  19 tokens in  2.838 s (6.694856 tok/s)\n",
      "transformer_t configuration:\n",
      "- embedding_dim:  2048\n",
      "- hidden_dim:     8192\n",
      "- layer_count:    16\n",
      "- q_head_count:   32\n",
      "- kv_head_count:  8\n",
      "- vocabulary_len: 128256\n",
      "- context_len:    2048\n",
      "runtime setup:\n",
      "- num_threads:    4\n",
      "Sequence (239 tokens):\n",
      "128000 2356 220 81101 11 10065 74522 2428 271 2356 220 81101 320 8921 1764 2840 3105 8 34388 49831 406 3869 326 529 541 265 951 220 68641 78 83649 83 2552 1880 3869 1208 67628 951 2211 102843 62306 5512 11 15890 3900 1826 514 5636 6800 2109 43711 12021 61512 294 529 32 102843 34395 3930 27430 9952 6316 62321 12844 8065 7515 4744 409 220 16 11 914 296 50026 5019 653 97418 23536 406 55398 91240 220 6330 21647 13 24703 83 10065 74522 2428 71925 6960 653 51625 53819 220 96893 978 5019 3625 28800 125800 409 1208 8474 64 220 75328 409 40852 82694 2249 2503 96559 68 9465 220 18 220 2636 1880 220 11738 15 296 294 83508 83 3993 8 1841 3900 96488 951 3678 5776 4338 288 11 81994 275 409 1208 51476 68 5019 2389 762 10462 30052 81 951 348 37093 1392 1880 951 272 15170 19020 44351 1744 409 1208 4669 43441 5019 46798 38315 5019 3625 34561 94943 82 220 51701 288 13 4953 18826 901 409 37563 6316 6900 1043 57663 68 3869 220 966 21647 11 514 220 81101 841 113147 6502 3869 45165 6151 3395 261 3625 2854 1771 627 6720 4020 1880 46110 3167 12791 84 5019 514 220 81101 271 2356 220 81101 2278 4558 451 653 50510 2852 281 81892 15890 1208 220 39340 668 4244 68 3930 \n",
      "\u001b[1;34mLe lama, animal domestique\n",
      "\n",
      "Le lama (Lama glama) appartient à l’ordre des artiodactyles et à la famille des camélidés, dont il est le plus grand représentant d’Amérique du Sud avec une hauteur au garrot de 1,25 m environ pour un poids allant jusqu’à 160 kg. Cet animal domestique représente un précieux allié pour les peuples de la puna (zone de plateaux située entre 3 500 et 4800 m d'altitude) car il transporte des marchandises, fournit de la laine pour confectionner des vêtements et des couvertures ainsi que de la viande pour nourrir pour les communautés andines. Incapable de supporter une charge supérieure à 30 kg, le lama ne sert pas à véhiculer les humains.\n",
      "Long cou et petit museau pour le lama\n",
      "\n",
      "Le lama possède un épais pelage dont la teinte varie du\u001b[0mPrompt processing (prefill): 239 tokens in 20.143 s (11.865164 tok/s)\n",
      "Token generation  (decode):  19 tokens in  2.975 s (6.386555 tok/s)\n",
      "transformer_t configuration:\n",
      "- embedding_dim:  2048\n",
      "- hidden_dim:     8192\n",
      "- layer_count:    16\n",
      "- q_head_count:   32\n",
      "- kv_head_count:  8\n",
      "- vocabulary_len: 128256\n",
      "- context_len:    2048\n",
      "runtime setup:\n",
      "- num_threads:    8\n",
      "Sequence (239 tokens):\n",
      "128000 2356 220 81101 11 10065 74522 2428 271 2356 220 81101 320 8921 1764 2840 3105 8 34388 49831 406 3869 326 529 541 265 951 220 68641 78 83649 83 2552 1880 3869 1208 67628 951 2211 102843 62306 5512 11 15890 3900 1826 514 5636 6800 2109 43711 12021 61512 294 529 32 102843 34395 3930 27430 9952 6316 62321 12844 8065 7515 4744 409 220 16 11 914 296 50026 5019 653 97418 23536 406 55398 91240 220 6330 21647 13 24703 83 10065 74522 2428 71925 6960 653 51625 53819 220 96893 978 5019 3625 28800 125800 409 1208 8474 64 220 75328 409 40852 82694 2249 2503 96559 68 9465 220 18 220 2636 1880 220 11738 15 296 294 83508 83 3993 8 1841 3900 96488 951 3678 5776 4338 288 11 81994 275 409 1208 51476 68 5019 2389 762 10462 30052 81 951 348 37093 1392 1880 951 272 15170 19020 44351 1744 409 1208 4669 43441 5019 46798 38315 5019 3625 34561 94943 82 220 51701 288 13 4953 18826 901 409 37563 6316 6900 1043 57663 68 3869 220 966 21647 11 514 220 81101 841 113147 6502 3869 45165 6151 3395 261 3625 2854 1771 627 6720 4020 1880 46110 3167 12791 84 5019 514 220 81101 271 2356 220 81101 2278 4558 451 653 50510 2852 281 81892 15890 1208 220 39340 668 4244 68 3930 \n",
      "\u001b[1;34mLe lama, animal domestique\n",
      "\n",
      "Le lama (Lama glama) appartient à l’ordre des artiodactyles et à la famille des camélidés, dont il est le plus grand représentant d’Amérique du Sud avec une hauteur au garrot de 1,25 m environ pour un poids allant jusqu’à 160 kg. Cet animal domestique représente un précieux allié pour les peuples de la puna (zone de plateaux située entre 3 500 et 4800 m d'altitude) car il transporte des marchandises, fournit de la laine pour confectionner des vêtements et des couvertures ainsi que de la viande pour nourrir pour les communautés andines. Incapable de supporter une charge supérieure à 30 kg, le lama ne sert pas à véhiculer les humains.\n",
      "Long cou et petit museau pour le lama\n",
      "\n",
      "Le lama possède un épais pelage dont la teinte varie du\u001b[0mPrompt processing (prefill): 239 tokens in 16.430 s (14.546561 tok/s)\n",
      "Token generation  (decode):  19 tokens in  2.247 s (8.455719 tok/s)\n",
      "transformer_t configuration:\n",
      "- embedding_dim:  2048\n",
      "- hidden_dim:     8192\n",
      "- layer_count:    16\n",
      "- q_head_count:   32\n",
      "- kv_head_count:  8\n",
      "- vocabulary_len: 128256\n",
      "- context_len:    2048\n",
      "runtime setup:\n",
      "- num_threads:    10\n",
      "Sequence (239 tokens):\n",
      "128000 2356 220 81101 11 10065 74522 2428 271 2356 220 81101 320 8921 1764 2840 3105 8 34388 49831 406 3869 326 529 541 265 951 220 68641 78 83649 83 2552 1880 3869 1208 67628 951 2211 102843 62306 5512 11 15890 3900 1826 514 5636 6800 2109 43711 12021 61512 294 529 32 102843 34395 3930 27430 9952 6316 62321 12844 8065 7515 4744 409 220 16 11 914 296 50026 5019 653 97418 23536 406 55398 91240 220 6330 21647 13 24703 83 10065 74522 2428 71925 6960 653 51625 53819 220 96893 978 5019 3625 28800 125800 409 1208 8474 64 220 75328 409 40852 82694 2249 2503 96559 68 9465 220 18 220 2636 1880 220 11738 15 296 294 83508 83 3993 8 1841 3900 96488 951 3678 5776 4338 288 11 81994 275 409 1208 51476 68 5019 2389 762 10462 30052 81 951 348 37093 1392 1880 951 272 15170 19020 44351 1744 409 1208 4669 43441 5019 46798 38315 5019 3625 34561 94943 82 220 51701 288 13 4953 18826 901 409 37563 6316 6900 1043 57663 68 3869 220 966 21647 11 514 220 81101 841 113147 6502 3869 45165 6151 3395 261 3625 2854 1771 627 6720 4020 1880 46110 3167 12791 84 5019 514 220 81101 271 2356 220 81101 2278 4558 451 653 50510 2852 281 81892 15890 1208 220 39340 668 4244 68 3930 \n",
      "\u001b[1;34mLe lama, animal domestique\n",
      "\n",
      "Le lama (Lama glama) appartient à l’ordre des artiodactyles et à la famille des camélidés, dont il est le plus grand représentant d’Amérique du Sud avec une hauteur au garrot de 1,25 m environ pour un poids allant jusqu’à 160 kg. Cet animal domestique représente un précieux allié pour les peuples de la puna (zone de plateaux située entre 3 500 et 4800 m d'altitude) car il transporte des marchandises, fournit de la laine pour confectionner des vêtements et des couvertures ainsi que de la viande pour nourrir pour les communautés andines. Incapable de supporter une charge supérieure à 30 kg, le lama ne sert pas à véhiculer les humains.\n",
      "Long cou et petit museau pour le lama\n",
      "\n",
      "Le lama possède un épais pelage dont la teinte varie du\u001b[0mPrompt processing (prefill): 239 tokens in 14.468 s (16.519215 tok/s)\n",
      "Token generation  (decode):  19 tokens in  2.147 s (8.849558 tok/s)\n",
      "transformer_t configuration:\n",
      "- embedding_dim:  2048\n",
      "- hidden_dim:     8192\n",
      "- layer_count:    16\n",
      "- q_head_count:   32\n",
      "- kv_head_count:  8\n",
      "- vocabulary_len: 128256\n",
      "- context_len:    2048\n",
      "runtime setup:\n",
      "- num_threads:    12\n",
      "Sequence (239 tokens):\n",
      "128000 2356 220 81101 11 10065 74522 2428 271 2356 220 81101 320 8921 1764 2840 3105 8 34388 49831 406 3869 326 529 541 265 951 220 68641 78 83649 83 2552 1880 3869 1208 67628 951 2211 102843 62306 5512 11 15890 3900 1826 514 5636 6800 2109 43711 12021 61512 294 529 32 102843 34395 3930 27430 9952 6316 62321 12844 8065 7515 4744 409 220 16 11 914 296 50026 5019 653 97418 23536 406 55398 91240 220 6330 21647 13 24703 83 10065 74522 2428 71925 6960 653 51625 53819 220 96893 978 5019 3625 28800 125800 409 1208 8474 64 220 75328 409 40852 82694 2249 2503 96559 68 9465 220 18 220 2636 1880 220 11738 15 296 294 83508 83 3993 8 1841 3900 96488 951 3678 5776 4338 288 11 81994 275 409 1208 51476 68 5019 2389 762 10462 30052 81 951 348 37093 1392 1880 951 272 15170 19020 44351 1744 409 1208 4669 43441 5019 46798 38315 5019 3625 34561 94943 82 220 51701 288 13 4953 18826 901 409 37563 6316 6900 1043 57663 68 3869 220 966 21647 11 514 220 81101 841 113147 6502 3869 45165 6151 3395 261 3625 2854 1771 627 6720 4020 1880 46110 3167 12791 84 5019 514 220 81101 271 2356 220 81101 2278 4558 451 653 50510 2852 281 81892 15890 1208 220 39340 668 4244 68 3930 \n",
      "\u001b[1;34mLe lama, animal domestique\n",
      "\n",
      "Le lama (Lama glama) appartient à l’ordre des artiodactyles et à la famille des camélidés, dont il est le plus grand représentant d’Amérique du Sud avec une hauteur au garrot de 1,25 m environ pour un poids allant jusqu’à 160 kg. Cet animal domestique représente un précieux allié pour les peuples de la puna (zone de plateaux située entre 3 500 et 4800 m d'altitude) car il transporte des marchandises, fournit de la laine pour confectionner des vêtements et des couvertures ainsi que de la viande pour nourrir pour les communautés andines. Incapable de supporter une charge supérieure à 30 kg, le lama ne sert pas à véhiculer les humains.\n",
      "Long cou et petit museau pour le lama\n",
      "\n",
      "Le lama possède un épais pelage dont la teinte varie du\u001b[0mPrompt processing (prefill): 239 tokens in 13.783 s (17.340202 tok/s)\n",
      "Token generation  (decode):  19 tokens in  2.017 s (9.419931 tok/s)\n",
      "transformer_t configuration:\n",
      "- embedding_dim:  2048\n",
      "- hidden_dim:     8192\n",
      "- layer_count:    16\n",
      "- q_head_count:   32\n",
      "- kv_head_count:  8\n",
      "- vocabulary_len: 128256\n",
      "- context_len:    2048\n",
      "runtime setup:\n",
      "- num_threads:    1\n",
      "Sequence (469 tokens):\n",
      "128000 2356 220 81101 11 10065 74522 2428 271 2356 220 81101 320 8921 1764 2840 3105 8 34388 49831 406 3869 326 529 541 265 951 220 68641 78 83649 83 2552 1880 3869 1208 67628 951 2211 102843 62306 5512 11 15890 3900 1826 514 5636 6800 2109 43711 12021 61512 294 529 32 102843 34395 3930 27430 9952 6316 62321 12844 8065 7515 4744 409 220 16 11 914 296 50026 5019 653 97418 23536 406 55398 91240 220 6330 21647 13 24703 83 10065 74522 2428 71925 6960 653 51625 53819 220 96893 978 5019 3625 28800 125800 409 1208 8474 64 220 75328 409 40852 82694 2249 2503 96559 68 9465 220 18 220 2636 1880 220 11738 15 296 294 83508 83 3993 8 1841 3900 96488 951 3678 5776 4338 288 11 81994 275 409 1208 51476 68 5019 2389 762 10462 30052 81 951 348 37093 1392 1880 951 272 15170 19020 44351 1744 409 1208 4669 43441 5019 46798 38315 5019 3625 34561 94943 82 220 51701 288 13 4953 18826 901 409 37563 6316 6900 1043 57663 68 3869 220 966 21647 11 514 220 81101 841 113147 6502 3869 45165 6151 3395 261 3625 2854 1771 627 6720 4020 1880 46110 3167 12791 84 5019 514 220 81101 271 2356 220 81101 2278 4558 451 653 50510 2852 281 81892 15890 1208 220 39340 668 4244 68 3930 42707 8065 64347 665 281 56692 406 1370 514 56662 11 514 86930 6033 514 1529 20732 123708 13 12103 1317 4020 11 1765 1677 123708 294 36577 38920 83067 220 82301 77 27591 1880 294 29719 3167 12791 84 1913 11 25400 2389 12339 6316 4502 64145 283 6672 33013 276 51084 68 13 33150 25520 86521 409 15907 379 20732 87 463 123708 70 5512 1370 409 18285 5981 62444 82 11 513 33201 65613 406 951 477 59891 645 15890 3625 1327 43711 76 35933 513 48755 9225 306 5553 326 52152 123708 81 62005 13 16233 326 4558 49606 1043 57663 68 95127 361 294 118904 74913 68 409 829 6374 24341 82 304 125325 2396 665 31493 115089 68 13 64027 829 63005 14240 69596 82 220 46708 59157 13109 11 3900 274 40753 13178 409 4020 46756 53961 513 4751 86396 1370 653 297 67330 8 665 3381 514 74206 10065 13171 409 274 57892 268 5081 81 1765 3625 6252 50435 82 10253 281 21938 264 33713 25123 82 1880 220 96250 657 412 90802 288 951 1628 288 627 2356 220 81101 11 653 83195 20605 56057 6634 271 2356 220 81101 13458 1765 326 41901 16167 951 38682 919 20605 3326 90802 288 409 326 52374 102843 34395 220 81101 97825 264 264 264 264 294 812 1589 97264 264 264 \n",
      "\u001b[1;34mLe lama, animal domestique\n",
      "\n",
      "Le lama (Lama glama) appartient à l’ordre des artiodactyles et à la famille des camélidés, dont il est le plus grand représentant d’Amérique du Sud avec une hauteur au garrot de 1,25 m environ pour un poids allant jusqu’à 160 kg. Cet animal domestique représente un précieux allié pour les peuples de la puna (zone de plateaux située entre 3 500 et 4800 m d'altitude) car il transporte des marchandises, fournit de la laine pour confectionner des vêtements et des couvertures ainsi que de la viande pour nourrir pour les communautés andines. Incapable de supporter une charge supérieure à 30 kg, le lama ne sert pas à véhiculer les humains.\n",
      "Long cou et petit museau pour le lama\n",
      "\n",
      "Le lama possède un épais pelage dont la teinte varie du brun au blanc en passant par le noir, le gris ou le bleuté. Son long cou, surmonté d’une petite tête arrondie et d’un museau fin, lui confère une silhouette élancée. Au-dessus de ses yeux protégés par de longs cils, se dressent des oreilles dont les extrémités se recourbent vers l'intérieur. Sa lèvre supérieure fendue dévoile de saillantes incisives en spatule. Ses sabots étroits (en réalité, il s’agit de coussinets se terminant par un ongle) en font le seul animal capable de s’aventurer sur les sentiers aux pentes abruptes et caillouteuses des Andes.\n",
      "Le lama, un vrai montagnard\n",
      "\n",
      "Le lama vit sur l'ensemble des régions montagneuses de l'Amérique lama modele a a a a dents crachat a a\u001b[0mPrompt processing (prefill): 469 tokens in 72.791 s (6.443104 tok/s)\n",
      "Token generation  (decode):  19 tokens in  3.935 s (4.828463 tok/s)\n",
      "transformer_t configuration:\n",
      "- embedding_dim:  2048\n",
      "- hidden_dim:     8192\n",
      "- layer_count:    16\n",
      "- q_head_count:   32\n",
      "- kv_head_count:  8\n",
      "- vocabulary_len: 128256\n",
      "- context_len:    2048\n",
      "runtime setup:\n",
      "- num_threads:    2\n",
      "Sequence (469 tokens):\n",
      "128000 2356 220 81101 11 10065 74522 2428 271 2356 220 81101 320 8921 1764 2840 3105 8 34388 49831 406 3869 326 529 541 265 951 220 68641 78 83649 83 2552 1880 3869 1208 67628 951 2211 102843 62306 5512 11 15890 3900 1826 514 5636 6800 2109 43711 12021 61512 294 529 32 102843 34395 3930 27430 9952 6316 62321 12844 8065 7515 4744 409 220 16 11 914 296 50026 5019 653 97418 23536 406 55398 91240 220 6330 21647 13 24703 83 10065 74522 2428 71925 6960 653 51625 53819 220 96893 978 5019 3625 28800 125800 409 1208 8474 64 220 75328 409 40852 82694 2249 2503 96559 68 9465 220 18 220 2636 1880 220 11738 15 296 294 83508 83 3993 8 1841 3900 96488 951 3678 5776 4338 288 11 81994 275 409 1208 51476 68 5019 2389 762 10462 30052 81 951 348 37093 1392 1880 951 272 15170 19020 44351 1744 409 1208 4669 43441 5019 46798 38315 5019 3625 34561 94943 82 220 51701 288 13 4953 18826 901 409 37563 6316 6900 1043 57663 68 3869 220 966 21647 11 514 220 81101 841 113147 6502 3869 45165 6151 3395 261 3625 2854 1771 627 6720 4020 1880 46110 3167 12791 84 5019 514 220 81101 271 2356 220 81101 2278 4558 451 653 50510 2852 281 81892 15890 1208 220 39340 668 4244 68 3930 42707 8065 64347 665 281 56692 406 1370 514 56662 11 514 86930 6033 514 1529 20732 123708 13 12103 1317 4020 11 1765 1677 123708 294 36577 38920 83067 220 82301 77 27591 1880 294 29719 3167 12791 84 1913 11 25400 2389 12339 6316 4502 64145 283 6672 33013 276 51084 68 13 33150 25520 86521 409 15907 379 20732 87 463 123708 70 5512 1370 409 18285 5981 62444 82 11 513 33201 65613 406 951 477 59891 645 15890 3625 1327 43711 76 35933 513 48755 9225 306 5553 326 52152 123708 81 62005 13 16233 326 4558 49606 1043 57663 68 95127 361 294 118904 74913 68 409 829 6374 24341 82 304 125325 2396 665 31493 115089 68 13 64027 829 63005 14240 69596 82 220 46708 59157 13109 11 3900 274 40753 13178 409 4020 46756 53961 513 4751 86396 1370 653 297 67330 8 665 3381 514 74206 10065 13171 409 274 57892 268 5081 81 1765 3625 6252 50435 82 10253 281 21938 264 33713 25123 82 1880 220 96250 657 412 90802 288 951 1628 288 627 2356 220 81101 11 653 83195 20605 56057 6634 271 2356 220 81101 13458 1765 326 41901 16167 951 38682 919 20605 3326 90802 288 409 326 52374 102843 34395 220 81101 97825 264 264 264 264 294 812 1589 97264 264 264 \n",
      "\u001b[1;34mLe lama, animal domestique\n",
      "\n",
      "Le lama (Lama glama) appartient à l’ordre des artiodactyles et à la famille des camélidés, dont il est le plus grand représentant d’Amérique du Sud avec une hauteur au garrot de 1,25 m environ pour un poids allant jusqu’à 160 kg. Cet animal domestique représente un précieux allié pour les peuples de la puna (zone de plateaux située entre 3 500 et 4800 m d'altitude) car il transporte des marchandises, fournit de la laine pour confectionner des vêtements et des couvertures ainsi que de la viande pour nourrir pour les communautés andines. Incapable de supporter une charge supérieure à 30 kg, le lama ne sert pas à véhiculer les humains.\n",
      "Long cou et petit museau pour le lama\n",
      "\n",
      "Le lama possède un épais pelage dont la teinte varie du brun au blanc en passant par le noir, le gris ou le bleuté. Son long cou, surmonté d’une petite tête arrondie et d’un museau fin, lui confère une silhouette élancée. Au-dessus de ses yeux protégés par de longs cils, se dressent des oreilles dont les extrémités se recourbent vers l'intérieur. Sa lèvre supérieure fendue dévoile de saillantes incisives en spatule. Ses sabots étroits (en réalité, il s’agit de coussinets se terminant par un ongle) en font le seul animal capable de s’aventurer sur les sentiers aux pentes abruptes et caillouteuses des Andes.\n",
      "Le lama, un vrai montagnard\n",
      "\n",
      "Le lama vit sur l'ensemble des régions montagneuses de l'Amérique lama modele a a a a dents crachat a a\u001b[0mPrompt processing (prefill): 469 tokens in 48.525 s (9.665121 tok/s)\n",
      "Token generation  (decode):  19 tokens in  2.737 s (6.941907 tok/s)\n",
      "transformer_t configuration:\n",
      "- embedding_dim:  2048\n",
      "- hidden_dim:     8192\n",
      "- layer_count:    16\n",
      "- q_head_count:   32\n",
      "- kv_head_count:  8\n",
      "- vocabulary_len: 128256\n",
      "- context_len:    2048\n",
      "runtime setup:\n",
      "- num_threads:    4\n",
      "Sequence (469 tokens):\n",
      "128000 2356 220 81101 11 10065 74522 2428 271 2356 220 81101 320 8921 1764 2840 3105 8 34388 49831 406 3869 326 529 541 265 951 220 68641 78 83649 83 2552 1880 3869 1208 67628 951 2211 102843 62306 5512 11 15890 3900 1826 514 5636 6800 2109 43711 12021 61512 294 529 32 102843 34395 3930 27430 9952 6316 62321 12844 8065 7515 4744 409 220 16 11 914 296 50026 5019 653 97418 23536 406 55398 91240 220 6330 21647 13 24703 83 10065 74522 2428 71925 6960 653 51625 53819 220 96893 978 5019 3625 28800 125800 409 1208 8474 64 220 75328 409 40852 82694 2249 2503 96559 68 9465 220 18 220 2636 1880 220 11738 15 296 294 83508 83 3993 8 1841 3900 96488 951 3678 5776 4338 288 11 81994 275 409 1208 51476 68 5019 2389 762 10462 30052 81 951 348 37093 1392 1880 951 272 15170 19020 44351 1744 409 1208 4669 43441 5019 46798 38315 5019 3625 34561 94943 82 220 51701 288 13 4953 18826 901 409 37563 6316 6900 1043 57663 68 3869 220 966 21647 11 514 220 81101 841 113147 6502 3869 45165 6151 3395 261 3625 2854 1771 627 6720 4020 1880 46110 3167 12791 84 5019 514 220 81101 271 2356 220 81101 2278 4558 451 653 50510 2852 281 81892 15890 1208 220 39340 668 4244 68 3930 42707 8065 64347 665 281 56692 406 1370 514 56662 11 514 86930 6033 514 1529 20732 123708 13 12103 1317 4020 11 1765 1677 123708 294 36577 38920 83067 220 82301 77 27591 1880 294 29719 3167 12791 84 1913 11 25400 2389 12339 6316 4502 64145 283 6672 33013 276 51084 68 13 33150 25520 86521 409 15907 379 20732 87 463 123708 70 5512 1370 409 18285 5981 62444 82 11 513 33201 65613 406 951 477 59891 645 15890 3625 1327 43711 76 35933 513 48755 9225 306 5553 326 52152 123708 81 62005 13 16233 326 4558 49606 1043 57663 68 95127 361 294 118904 74913 68 409 829 6374 24341 82 304 125325 2396 665 31493 115089 68 13 64027 829 63005 14240 69596 82 220 46708 59157 13109 11 3900 274 40753 13178 409 4020 46756 53961 513 4751 86396 1370 653 297 67330 8 665 3381 514 74206 10065 13171 409 274 57892 268 5081 81 1765 3625 6252 50435 82 10253 281 21938 264 33713 25123 82 1880 220 96250 657 412 90802 288 951 1628 288 627 2356 220 81101 11 653 83195 20605 56057 6634 271 2356 220 81101 13458 1765 326 41901 16167 951 38682 919 20605 3326 90802 288 409 326 52374 102843 34395 220 81101 97825 264 264 264 264 294 812 1589 97264 264 264 \n",
      "\u001b[1;34mLe lama, animal domestique\n",
      "\n",
      "Le lama (Lama glama) appartient à l’ordre des artiodactyles et �� la famille des camélidés, dont il est le plus grand représentant d’Amérique du Sud avec une hauteur au garrot de 1,25 m environ pour un poids allant jusqu’à 160 kg. Cet animal domestique représente un précieux allié pour les peuples de la puna (zone de plateaux située entre 3 500 et 4800 m d'altitude) car il transporte des marchandises, fournit de la laine pour confectionner des vêtements et des couvertures ainsi que de la viande pour nourrir pour les communautés andines. Incapable de supporter une charge supérieure à 30 kg, le lama ne sert pas à véhiculer les humains.\n",
      "Long cou et petit museau pour le lama\n",
      "\n",
      "Le lama possède un épais pelage dont la teinte varie du brun au blanc en passant par le noir, le gris ou le bleuté. Son long cou, surmonté d’une petite tête arrondie et d’un museau fin, lui confère une silhouette élancée. Au-dessus de ses yeux protégés par de longs cils, se dressent des oreilles dont les extrémités se recourbent vers l'intérieur. Sa lèvre supérieure fendue dévoile de saillantes incisives en spatule. Ses sabots étroits (en réalité, il s’agit de coussinets se terminant par un ongle) en font le seul animal capable de s’aventurer sur les sentiers aux pentes abruptes et caillouteuses des Andes.\n",
      "Le lama, un vrai montagnard\n",
      "\n",
      "Le lama vit sur l'ensemble des régions montagneuses de l'Amérique lama modele a a a a dents crachat a a\u001b[0mPrompt processing (prefill): 469 tokens in 37.386 s (12.544803 tok/s)\n",
      "Token generation  (decode):  19 tokens in  2.730 s (6.959707 tok/s)\n",
      "transformer_t configuration:\n",
      "- embedding_dim:  2048\n",
      "- hidden_dim:     8192\n",
      "- layer_count:    16\n",
      "- q_head_count:   32\n",
      "- kv_head_count:  8\n",
      "- vocabulary_len: 128256\n",
      "- context_len:    2048\n",
      "runtime setup:\n",
      "- num_threads:    8\n",
      "Sequence (469 tokens):\n",
      "128000 2356 220 81101 11 10065 74522 2428 271 2356 220 81101 320 8921 1764 2840 3105 8 34388 49831 406 3869 326 529 541 265 951 220 68641 78 83649 83 2552 1880 3869 1208 67628 951 2211 102843 62306 5512 11 15890 3900 1826 514 5636 6800 2109 43711 12021 61512 294 529 32 102843 34395 3930 27430 9952 6316 62321 12844 8065 7515 4744 409 220 16 11 914 296 50026 5019 653 97418 23536 406 55398 91240 220 6330 21647 13 24703 83 10065 74522 2428 71925 6960 653 51625 53819 220 96893 978 5019 3625 28800 125800 409 1208 8474 64 220 75328 409 40852 82694 2249 2503 96559 68 9465 220 18 220 2636 1880 220 11738 15 296 294 83508 83 3993 8 1841 3900 96488 951 3678 5776 4338 288 11 81994 275 409 1208 51476 68 5019 2389 762 10462 30052 81 951 348 37093 1392 1880 951 272 15170 19020 44351 1744 409 1208 4669 43441 5019 46798 38315 5019 3625 34561 94943 82 220 51701 288 13 4953 18826 901 409 37563 6316 6900 1043 57663 68 3869 220 966 21647 11 514 220 81101 841 113147 6502 3869 45165 6151 3395 261 3625 2854 1771 627 6720 4020 1880 46110 3167 12791 84 5019 514 220 81101 271 2356 220 81101 2278 4558 451 653 50510 2852 281 81892 15890 1208 220 39340 668 4244 68 3930 42707 8065 64347 665 281 56692 406 1370 514 56662 11 514 86930 6033 514 1529 20732 123708 13 12103 1317 4020 11 1765 1677 123708 294 36577 38920 83067 220 82301 77 27591 1880 294 29719 3167 12791 84 1913 11 25400 2389 12339 6316 4502 64145 283 6672 33013 276 51084 68 13 33150 25520 86521 409 15907 379 20732 87 463 123708 70 5512 1370 409 18285 5981 62444 82 11 513 33201 65613 406 951 477 59891 645 15890 3625 1327 43711 76 35933 513 48755 9225 306 5553 326 52152 123708 81 62005 13 16233 326 4558 49606 1043 57663 68 95127 361 294 118904 74913 68 409 829 6374 24341 82 304 125325 2396 665 31493 115089 68 13 64027 829 63005 14240 69596 82 220 46708 59157 13109 11 3900 274 40753 13178 409 4020 46756 53961 513 4751 86396 1370 653 297 67330 8 665 3381 514 74206 10065 13171 409 274 57892 268 5081 81 1765 3625 6252 50435 82 10253 281 21938 264 33713 25123 82 1880 220 96250 657 412 90802 288 951 1628 288 627 2356 220 81101 11 653 83195 20605 56057 6634 271 2356 220 81101 13458 1765 326 41901 16167 951 38682 919 20605 3326 90802 288 409 326 52374 102843 34395 220 81101 97825 264 264 264 264 294 812 1589 97264 264 264 \n",
      "\u001b[1;34mLe lama, animal domestique\n",
      "\n",
      "Le lama (Lama glama) appartient à l’ordre des artiodactyles et à la famille des camélidés, dont il est le plus grand représentant d’Amérique du Sud avec une hauteur au garrot de 1,25 m environ pour un poids allant jusqu’à 160 kg. Cet animal domestique représente un précieux allié pour les peuples de la puna (zone de plateaux située entre 3 500 et 4800 m d'altitude) car il transporte des marchandises, fournit de la laine pour confectionner des vêtements et des couvertures ainsi que de la viande pour nourrir pour les communautés andines. Incapable de supporter une charge supérieure à 30 kg, le lama ne sert pas à véhiculer les humains.\n",
      "Long cou et petit museau pour le lama\n",
      "\n",
      "Le lama possède un épais pelage dont la teinte varie du brun au blanc en passant par le noir, le gris ou le bleuté. Son long cou, surmonté d’une petite tête arrondie et d’un museau fin, lui confère une silhouette élancée. Au-dessus de ses yeux protégés par de longs cils, se dressent des oreilles dont les extrémités se recourbent vers l'intérieur. Sa lèvre supérieure fendue dévoile de saillantes incisives en spatule. Ses sabots étroits (en réalité, il s’agit de coussinets se terminant par un ongle) en font le seul animal capable de s’aventurer sur les sentiers aux pentes abruptes et caillouteuses des Andes.\n",
      "Le lama, un vrai montagnard\n",
      "\n",
      "Le lama vit sur l'ensemble des régions montagneuses de l'Amérique lama modele a a a a dents crachat a a\u001b[0mPrompt processing (prefill): 469 tokens in 28.539 s (16.433652 tok/s)\n",
      "Token generation  (decode):  19 tokens in  2.202 s (8.628520 tok/s)\n",
      "transformer_t configuration:\n",
      "- embedding_dim:  2048\n",
      "- hidden_dim:     8192\n",
      "- layer_count:    16\n",
      "- q_head_count:   32\n",
      "- kv_head_count:  8\n",
      "- vocabulary_len: 128256\n",
      "- context_len:    2048\n",
      "runtime setup:\n",
      "- num_threads:    10\n",
      "Sequence (469 tokens):\n",
      "128000 2356 220 81101 11 10065 74522 2428 271 2356 220 81101 320 8921 1764 2840 3105 8 34388 49831 406 3869 326 529 541 265 951 220 68641 78 83649 83 2552 1880 3869 1208 67628 951 2211 102843 62306 5512 11 15890 3900 1826 514 5636 6800 2109 43711 12021 61512 294 529 32 102843 34395 3930 27430 9952 6316 62321 12844 8065 7515 4744 409 220 16 11 914 296 50026 5019 653 97418 23536 406 55398 91240 220 6330 21647 13 24703 83 10065 74522 2428 71925 6960 653 51625 53819 220 96893 978 5019 3625 28800 125800 409 1208 8474 64 220 75328 409 40852 82694 2249 2503 96559 68 9465 220 18 220 2636 1880 220 11738 15 296 294 83508 83 3993 8 1841 3900 96488 951 3678 5776 4338 288 11 81994 275 409 1208 51476 68 5019 2389 762 10462 30052 81 951 348 37093 1392 1880 951 272 15170 19020 44351 1744 409 1208 4669 43441 5019 46798 38315 5019 3625 34561 94943 82 220 51701 288 13 4953 18826 901 409 37563 6316 6900 1043 57663 68 3869 220 966 21647 11 514 220 81101 841 113147 6502 3869 45165 6151 3395 261 3625 2854 1771 627 6720 4020 1880 46110 3167 12791 84 5019 514 220 81101 271 2356 220 81101 2278 4558 451 653 50510 2852 281 81892 15890 1208 220 39340 668 4244 68 3930 42707 8065 64347 665 281 56692 406 1370 514 56662 11 514 86930 6033 514 1529 20732 123708 13 12103 1317 4020 11 1765 1677 123708 294 36577 38920 83067 220 82301 77 27591 1880 294 29719 3167 12791 84 1913 11 25400 2389 12339 6316 4502 64145 283 6672 33013 276 51084 68 13 33150 25520 86521 409 15907 379 20732 87 463 123708 70 5512 1370 409 18285 5981 62444 82 11 513 33201 65613 406 951 477 59891 645 15890 3625 1327 43711 76 35933 513 48755 9225 306 5553 326 52152 123708 81 62005 13 16233 326 4558 49606 1043 57663 68 95127 361 294 118904 74913 68 409 829 6374 24341 82 304 125325 2396 665 31493 115089 68 13 64027 829 63005 14240 69596 82 220 46708 59157 13109 11 3900 274 40753 13178 409 4020 46756 53961 513 4751 86396 1370 653 297 67330 8 665 3381 514 74206 10065 13171 409 274 57892 268 5081 81 1765 3625 6252 50435 82 10253 281 21938 264 33713 25123 82 1880 220 96250 657 412 90802 288 951 1628 288 627 2356 220 81101 11 653 83195 20605 56057 6634 271 2356 220 81101 13458 1765 326 41901 16167 951 38682 919 20605 3326 90802 288 409 326 52374 102843 34395 220 81101 97825 264 264 264 264 294 812 1589 97264 264 264 \n",
      "\u001b[1;34mLe lama, animal domestique\n",
      "\n",
      "Le lama (Lama glama) appartient à l’ordre des artiodactyles et à la famille des camélidés, dont il est le plus grand représentant d’Amérique du Sud avec une hauteur au garrot de 1,25 m environ pour un poids allant jusqu’à 160 kg. Cet animal domestique représente un précieux allié pour les peuples de la puna (zone de plateaux située entre 3 500 et 4800 m d'altitude) car il transporte des marchandises, fournit de la laine pour confectionner des vêtements et des couvertures ainsi que de la viande pour nourrir pour les communautés andines. Incapable de supporter une charge supérieure à 30 kg, le lama ne sert pas à véhiculer les humains.\n",
      "Long cou et petit museau pour le lama\n",
      "\n",
      "Le lama possède un épais pelage dont la teinte varie du brun au blanc en passant par le noir, le gris ou le bleuté. Son long cou, surmonté d’une petite tête arrondie et d’un museau fin, lui confère une silhouette élancée. Au-dessus de ses yeux protégés par de longs cils, se dressent des oreilles dont les extrémités se recourbent vers l'intérieur. Sa lèvre supérieure fendue dévoile de saillantes incisives en spatule. Ses sabots étroits (en réalité, il s’agit de coussinets se terminant par un ongle) en font le seul animal capable de s’aventurer sur les sentiers aux pentes abruptes et caillouteuses des Andes.\n",
      "Le lama, un vrai montagnard\n",
      "\n",
      "Le lama vit sur l'ensemble des régions montagneuses de l'Amérique lama modele a a a a dents crachat a a\u001b[0mPrompt processing (prefill): 469 tokens in 27.554 s (17.021122 tok/s)\n",
      "Token generation  (decode):  19 tokens in  2.098 s (9.056244 tok/s)\n",
      "transformer_t configuration:\n",
      "- embedding_dim:  2048\n",
      "- hidden_dim:     8192\n",
      "- layer_count:    16\n",
      "- q_head_count:   32\n",
      "- kv_head_count:  8\n",
      "- vocabulary_len: 128256\n",
      "- context_len:    2048\n",
      "runtime setup:\n",
      "- num_threads:    12\n",
      "Sequence (469 tokens):\n",
      "128000 2356 220 81101 11 10065 74522 2428 271 2356 220 81101 320 8921 1764 2840 3105 8 34388 49831 406 3869 326 529 541 265 951 220 68641 78 83649 83 2552 1880 3869 1208 67628 951 2211 102843 62306 5512 11 15890 3900 1826 514 5636 6800 2109 43711 12021 61512 294 529 32 102843 34395 3930 27430 9952 6316 62321 12844 8065 7515 4744 409 220 16 11 914 296 50026 5019 653 97418 23536 406 55398 91240 220 6330 21647 13 24703 83 10065 74522 2428 71925 6960 653 51625 53819 220 96893 978 5019 3625 28800 125800 409 1208 8474 64 220 75328 409 40852 82694 2249 2503 96559 68 9465 220 18 220 2636 1880 220 11738 15 296 294 83508 83 3993 8 1841 3900 96488 951 3678 5776 4338 288 11 81994 275 409 1208 51476 68 5019 2389 762 10462 30052 81 951 348 37093 1392 1880 951 272 15170 19020 44351 1744 409 1208 4669 43441 5019 46798 38315 5019 3625 34561 94943 82 220 51701 288 13 4953 18826 901 409 37563 6316 6900 1043 57663 68 3869 220 966 21647 11 514 220 81101 841 113147 6502 3869 45165 6151 3395 261 3625 2854 1771 627 6720 4020 1880 46110 3167 12791 84 5019 514 220 81101 271 2356 220 81101 2278 4558 451 653 50510 2852 281 81892 15890 1208 220 39340 668 4244 68 3930 42707 8065 64347 665 281 56692 406 1370 514 56662 11 514 86930 6033 514 1529 20732 123708 13 12103 1317 4020 11 1765 1677 123708 294 36577 38920 83067 220 82301 77 27591 1880 294 29719 3167 12791 84 1913 11 25400 2389 12339 6316 4502 64145 283 6672 33013 276 51084 68 13 33150 25520 86521 409 15907 379 20732 87 463 123708 70 5512 1370 409 18285 5981 62444 82 11 513 33201 65613 406 951 477 59891 645 15890 3625 1327 43711 76 35933 513 48755 9225 306 5553 326 52152 123708 81 62005 13 16233 326 4558 49606 1043 57663 68 95127 361 294 118904 74913 68 409 829 6374 24341 82 304 125325 2396 665 31493 115089 68 13 64027 829 63005 14240 69596 82 220 46708 59157 13109 11 3900 274 40753 13178 409 4020 46756 53961 513 4751 86396 1370 653 297 67330 8 665 3381 514 74206 10065 13171 409 274 57892 268 5081 81 1765 3625 6252 50435 82 10253 281 21938 264 33713 25123 82 1880 220 96250 657 412 90802 288 951 1628 288 627 2356 220 81101 11 653 83195 20605 56057 6634 271 2356 220 81101 13458 1765 326 41901 16167 951 38682 919 20605 3326 90802 288 409 326 52374 102843 34395 220 81101 97825 264 264 264 264 294 812 1589 97264 264 264 \n",
      "\u001b[1;34mLe lama, animal domestique\n",
      "\n",
      "Le lama (Lama glama) appartient à l’ordre des artiodactyles et à la famille des camélidés, dont il est le plus grand représentant d’Amérique du Sud avec une hauteur au garrot de 1,25 m environ pour un poids allant jusqu’à 160 kg. Cet animal domestique représente un précieux allié pour les peuples de la puna (zone de plateaux située entre 3 500 et 4800 m d'altitude) car il transporte des marchandises, fournit de la laine pour confectionner des vêtements et des couvertures ainsi que de la viande pour nourrir pour les communautés andines. Incapable de supporter une charge supérieure à 30 kg, le lama ne sert pas à véhiculer les humains.\n",
      "Long cou et petit museau pour le lama\n",
      "\n",
      "Le lama possède un épais pelage dont la teinte varie du brun au blanc en passant par le noir, le gris ou le bleuté. Son long cou, surmonté d’une petite tête arrondie et d’un museau fin, lui confère une silhouette élancée. Au-dessus de ses yeux protégés par de longs cils, se dressent des oreilles dont les extrémités se recourbent vers l'intérieur. Sa lèvre supérieure fendue dévoile de saillantes incisives en spatule. Ses sabots étroits (en réalité, il s’agit de coussinets se terminant par un ongle) en font le seul animal capable de s’aventurer sur les sentiers aux pentes abruptes et caillouteuses des Andes.\n",
      "Le lama, un vrai montagnard\n",
      "\n",
      "Le lama vit sur l'ensemble des régions montagneuses de l'Amérique lama modele a a a a dents crachat a a\u001b[0mPrompt processing (prefill): 469 tokens in 26.264 s (17.857143 tok/s)\n",
      "Token generation  (decode):  19 tokens in  2.036 s (9.332024 tok/s)\n",
      "transformer_t configuration:\n",
      "- embedding_dim:  2048\n",
      "- hidden_dim:     8192\n",
      "- layer_count:    16\n",
      "- q_head_count:   32\n",
      "- kv_head_count:  8\n",
      "- vocabulary_len: 128256\n",
      "- context_len:    2048\n",
      "runtime setup:\n",
      "- num_threads:    1\n",
      "Sequence (959 tokens):\n",
      "128000 2356 220 81101 11 10065 74522 2428 271 2356 220 81101 320 8921 1764 2840 3105 8 34388 49831 406 3869 326 529 541 265 951 220 68641 78 83649 83 2552 1880 3869 1208 67628 951 2211 102843 62306 5512 11 15890 3900 1826 514 5636 6800 2109 43711 12021 61512 294 529 32 102843 34395 3930 27430 9952 6316 62321 12844 8065 7515 4744 409 220 16 11 914 296 50026 5019 653 97418 23536 406 55398 91240 220 6330 21647 13 24703 83 10065 74522 2428 71925 6960 653 51625 53819 220 96893 978 5019 3625 28800 125800 409 1208 8474 64 220 75328 409 40852 82694 2249 2503 96559 68 9465 220 18 220 2636 1880 220 11738 15 296 294 83508 83 3993 8 1841 3900 96488 951 3678 5776 4338 288 11 81994 275 409 1208 51476 68 5019 2389 762 10462 30052 81 951 348 37093 1392 1880 951 272 15170 19020 44351 1744 409 1208 4669 43441 5019 46798 38315 5019 3625 34561 94943 82 220 51701 288 13 4953 18826 901 409 37563 6316 6900 1043 57663 68 3869 220 966 21647 11 514 220 81101 841 113147 6502 3869 45165 6151 3395 261 3625 2854 1771 627 6720 4020 1880 46110 3167 12791 84 5019 514 220 81101 271 2356 220 81101 2278 4558 451 653 50510 2852 281 81892 15890 1208 220 39340 668 4244 68 3930 42707 8065 64347 665 281 56692 406 1370 514 56662 11 514 86930 6033 514 1529 20732 123708 13 12103 1317 4020 11 1765 1677 123708 294 36577 38920 83067 220 82301 77 27591 1880 294 29719 3167 12791 84 1913 11 25400 2389 12339 6316 4502 64145 283 6672 33013 276 51084 68 13 33150 25520 86521 409 15907 379 20732 87 463 123708 70 5512 1370 409 18285 5981 62444 82 11 513 33201 65613 406 951 477 59891 645 15890 3625 1327 43711 76 35933 513 48755 9225 306 5553 326 52152 123708 81 62005 13 16233 326 4558 49606 1043 57663 68 95127 361 294 118904 74913 68 409 829 6374 24341 82 304 125325 2396 665 31493 115089 68 13 64027 829 63005 14240 69596 82 220 46708 59157 13109 11 3900 274 40753 13178 409 4020 46756 53961 513 4751 86396 1370 653 297 67330 8 665 3381 514 74206 10065 13171 409 274 57892 268 5081 81 1765 3625 6252 50435 82 10253 281 21938 264 33713 25123 82 1880 220 96250 657 412 90802 288 951 1628 288 627 2356 220 81101 11 653 83195 20605 56057 6634 271 2356 220 81101 13458 1765 326 41901 16167 951 38682 919 20605 3326 90802 288 409 326 52374 102843 34395 3930 27430 11 514 1317 409 1208 1867 8747 657 12339 951 1628 288 9465 220 17 220 2636 1880 220 19 220 931 296 294 40753 4937 3993 320 6255 24227 11 393 56771 84 11 25007 72 64519 11 29124 74083 12844 11 82822 11 82515 73939 2009 29340 409 42067 389 8890 69328 390 49831 406 653 13026 33013 68 52274 409 14015 16501 288 436 49404 288 3869 1208 57128 61137 68 7930 25400 14175 95201 83 409 37563 1208 96666 121597 1335 409 326 529 5241 49865 48099 951 6520 6256 40852 82694 2249 13 12095 514 33820 8318 69 12339 51913 78 120040 95755 49831 75 1001 1765 326 40753 75 13446 10946 78 220 51701 11 389 514 10607 28463 7010 3625 26467 294 92252 3423 8467 1880 3625 4371 1572 13 50501 708 8892 2852 737 4406 123708 7010 514 38900 665 50435 320 27887 2629 2641 83345 285 11 4606 11 116112 75618 73939 11 514 220 81101 1826 33013 68 52274 81186 5019 829 51476 68 11 5636 25595 346 1880 5636 70412 68 1744 73103 3930 54409 783 627 2356 220 81101 11 33820 8318 69 12339 436 10318 519 271 42515 25945 31807 11451 11 514 220 81101 25692 45347 51854 49301 15878 7643 65167 1880 18757 1082 4538 37646 84 864 98507 68 665 10462 4558 55755 7010 3625 45165 70 10515 12249 934 35329 1615 20372 68 13 2009 38682 547 38450 12267 409 3846 33820 8318 69 12339 513 31435 409 1099 10830 52235 288 11 409 6136 288 39999 64 51084 288 11 409 82711 31355 294 40753 81 10551 2392 11 409 54409 65613 11 409 12553 12301 11 409 220 120382 818 6033 409 58210 87 13 6947 68 3625 9467 17082 11 514 436 10318 519 41635 68 3625 453 12843 15878 3625 19218 72684 13 5034 46798 81 9464 1826 48901 75 1001 6892 68862 68 7010 15907 56321 1560 38501 19807 44829 38682 5673 13109 68 13 2009 2211 102843 62306 978 11412 45575 1208 19218 72684 5019 1208 9517 67 52750 44829 326 57892 13412 13 2009 220 81101 86807 28463 63828 9211 3625 22710 417 409 12069 342 97692 7010 3625 4371 1572 7930 25400 81994 79738 3625 8492 7992 978 106252 812 15890 3900 264 63669 13 445 58386 41599 72 91602 28068 68 653 436 57332 91329 1640 2428 3062 7010 3625 1628 288 39723 3900 2967 1088 1208 45165 70 10515 367 22253 68 665 326 25877 61512 3625 294 19395 64272 82 7010 3625 281 64272 5808 4282 77433 3869 15907 829 63005 436 9034 414 43711 82 627 2356 84850 4558 21152 1589 97264 3930 220 81101 271 24641 220 81101 82 93002 406 8065 19910 294 29719 57951 294 36577 38920 1891 4458 483 409 78957 40321 978 294 29719 296 108204 68 25462 11 409 1172 28226 645 1880 409 60120 13 480 43711 6885 556 9952 15907 99898 10610 31539 264 264 \n",
      "\u001b[1;34mLe lama, animal domestique\n",
      "\n",
      "Le lama (Lama glama) appartient à l’ordre des artiodactyles et à la famille des camélidés, dont il est le plus grand représentant d’Amérique du Sud avec une hauteur au garrot de 1,25 m environ pour un poids allant jusqu’à 160 kg. Cet animal domestique représente un précieux allié pour les peuples de la puna (zone de plateaux située entre 3 500 et 4800 m d'altitude) car il transporte des marchandises, fournit de la laine pour confectionner des vêtements et des couvertures ainsi que de la viande pour nourrir pour les communautés andines. Incapable de supporter une charge supérieure à 30 kg, le lama ne sert pas à véhiculer les humains.\n",
      "Long cou et petit museau pour le lama\n",
      "\n",
      "Le lama possède un épais pelage dont la teinte varie du brun au blanc en passant par le noir, le gris ou le bleuté. Son long cou, surmonté d’une petite tête arrondie et d’un museau fin, lui confère une silhouette élancée. Au-dessus de ses yeux protégés par de longs cils, se dressent des oreilles dont les extrémités se recourbent vers l'intérieur. Sa lèvre supérieure fendue dévoile de saillantes incisives en spatule. Ses sabots étroits (en réalité, il s’agit de coussinets se terminant par un ongle) en font le seul animal capable de s’aventurer sur les sentiers aux pentes abruptes et caillouteuses des Andes.\n",
      "Le lama, un vrai montagnard\n",
      "\n",
      "Le lama vit sur l'ensemble des régions montagneuses de l'Amérique du Sud, le long de la cordillère des Andes entre 2 500 et 4 000 m d’altitude (Colombie, Pérou, Bolivie, Équateur, Argentine, Chili…) Le sang de cet ongulé contient un nombre élevé de globules rouges à la forme ovale qui lui permettent de supporter la raréfaction de l’oxygène des hauts plateaux. Si le mammifère évolue essentiellement sur l’altiplano andin, on le rencontre aussi dans les zones désertiques et les salines. Désormais importé dans le monde entier (États-Unis, Europe, Australie…), le lama est élevé notamment pour sa laine, plus douce et plus chaude que celle du mouton.\n",
      "Le lama, mammifère ruminant\n",
      "\n",
      "Animal très résistant, le lama peut passer plusieurs jours sans manger et puise son eau presque entièrement dans les végétaux qu'il consomme. Le régime alimentaire de ce mammifère se compose de graminées, de plantes herbacées, de feuilles d’arbustes, de mousse, de lichen, de racine ou de noix. Comme les vaches, le ruminant avale les aliments sans les mastiquer. La nourriture est partiellement ingérée dans ses trois estomacs puis régurgitée. Le camélidé va alors la mastiquer pour la réduire puis l’avaler. Le lama aime aussi lécher les pierres de sel gemme dans les salines qui lui fournissent les oligoéléments dont il a besoin. L’herbivore joue un rôle écologique important dans les Andes où il broute la végétation basse en limitant les dégâts dans les pâturages grâce à ses sabots rembourrés.\n",
      "Le célèbre crachat du lama\n",
      "\n",
      "Les lamas vivent au sein d’un groupe d’une petite dizaine de membres composé d’un mâle dominant, de femelles et de jeunes. Grégaire avec ses congénères a a\u001b[0mPrompt processing (prefill): 959 tokens in 143.367 s (6.689127 tok/s)\n",
      "Token generation  (decode):  19 tokens in  3.918 s (4.849413 tok/s)\n",
      "transformer_t configuration:\n",
      "- embedding_dim:  2048\n",
      "- hidden_dim:     8192\n",
      "- layer_count:    16\n",
      "- q_head_count:   32\n",
      "- kv_head_count:  8\n",
      "- vocabulary_len: 128256\n",
      "- context_len:    2048\n",
      "runtime setup:\n",
      "- num_threads:    2\n",
      "Sequence (959 tokens):\n",
      "128000 2356 220 81101 11 10065 74522 2428 271 2356 220 81101 320 8921 1764 2840 3105 8 34388 49831 406 3869 326 529 541 265 951 220 68641 78 83649 83 2552 1880 3869 1208 67628 951 2211 102843 62306 5512 11 15890 3900 1826 514 5636 6800 2109 43711 12021 61512 294 529 32 102843 34395 3930 27430 9952 6316 62321 12844 8065 7515 4744 409 220 16 11 914 296 50026 5019 653 97418 23536 406 55398 91240 220 6330 21647 13 24703 83 10065 74522 2428 71925 6960 653 51625 53819 220 96893 978 5019 3625 28800 125800 409 1208 8474 64 220 75328 409 40852 82694 2249 2503 96559 68 9465 220 18 220 2636 1880 220 11738 15 296 294 83508 83 3993 8 1841 3900 96488 951 3678 5776 4338 288 11 81994 275 409 1208 51476 68 5019 2389 762 10462 30052 81 951 348 37093 1392 1880 951 272 15170 19020 44351 1744 409 1208 4669 43441 5019 46798 38315 5019 3625 34561 94943 82 220 51701 288 13 4953 18826 901 409 37563 6316 6900 1043 57663 68 3869 220 966 21647 11 514 220 81101 841 113147 6502 3869 45165 6151 3395 261 3625 2854 1771 627 6720 4020 1880 46110 3167 12791 84 5019 514 220 81101 271 2356 220 81101 2278 4558 451 653 50510 2852 281 81892 15890 1208 220 39340 668 4244 68 3930 42707 8065 64347 665 281 56692 406 1370 514 56662 11 514 86930 6033 514 1529 20732 123708 13 12103 1317 4020 11 1765 1677 123708 294 36577 38920 83067 220 82301 77 27591 1880 294 29719 3167 12791 84 1913 11 25400 2389 12339 6316 4502 64145 283 6672 33013 276 51084 68 13 33150 25520 86521 409 15907 379 20732 87 463 123708 70 5512 1370 409 18285 5981 62444 82 11 513 33201 65613 406 951 477 59891 645 15890 3625 1327 43711 76 35933 513 48755 9225 306 5553 326 52152 123708 81 62005 13 16233 326 4558 49606 1043 57663 68 95127 361 294 118904 74913 68 409 829 6374 24341 82 304 125325 2396 665 31493 115089 68 13 64027 829 63005 14240 69596 82 220 46708 59157 13109 11 3900 274 40753 13178 409 4020 46756 53961 513 4751 86396 1370 653 297 67330 8 665 3381 514 74206 10065 13171 409 274 57892 268 5081 81 1765 3625 6252 50435 82 10253 281 21938 264 33713 25123 82 1880 220 96250 657 412 90802 288 951 1628 288 627 2356 220 81101 11 653 83195 20605 56057 6634 271 2356 220 81101 13458 1765 326 41901 16167 951 38682 919 20605 3326 90802 288 409 326 52374 102843 34395 3930 27430 11 514 1317 409 1208 1867 8747 657 12339 951 1628 288 9465 220 17 220 2636 1880 220 19 220 931 296 294 40753 4937 3993 320 6255 24227 11 393 56771 84 11 25007 72 64519 11 29124 74083 12844 11 82822 11 82515 73939 2009 29340 409 42067 389 8890 69328 390 49831 406 653 13026 33013 68 52274 409 14015 16501 288 436 49404 288 3869 1208 57128 61137 68 7930 25400 14175 95201 83 409 37563 1208 96666 121597 1335 409 326 529 5241 49865 48099 951 6520 6256 40852 82694 2249 13 12095 514 33820 8318 69 12339 51913 78 120040 95755 49831 75 1001 1765 326 40753 75 13446 10946 78 220 51701 11 389 514 10607 28463 7010 3625 26467 294 92252 3423 8467 1880 3625 4371 1572 13 50501 708 8892 2852 737 4406 123708 7010 514 38900 665 50435 320 27887 2629 2641 83345 285 11 4606 11 116112 75618 73939 11 514 220 81101 1826 33013 68 52274 81186 5019 829 51476 68 11 5636 25595 346 1880 5636 70412 68 1744 73103 3930 54409 783 627 2356 220 81101 11 33820 8318 69 12339 436 10318 519 271 42515 25945 31807 11451 11 514 220 81101 25692 45347 51854 49301 15878 7643 65167 1880 18757 1082 4538 37646 84 864 98507 68 665 10462 4558 55755 7010 3625 45165 70 10515 12249 934 35329 1615 20372 68 13 2009 38682 547 38450 12267 409 3846 33820 8318 69 12339 513 31435 409 1099 10830 52235 288 11 409 6136 288 39999 64 51084 288 11 409 82711 31355 294 40753 81 10551 2392 11 409 54409 65613 11 409 12553 12301 11 409 220 120382 818 6033 409 58210 87 13 6947 68 3625 9467 17082 11 514 436 10318 519 41635 68 3625 453 12843 15878 3625 19218 72684 13 5034 46798 81 9464 1826 48901 75 1001 6892 68862 68 7010 15907 56321 1560 38501 19807 44829 38682 5673 13109 68 13 2009 2211 102843 62306 978 11412 45575 1208 19218 72684 5019 1208 9517 67 52750 44829 326 57892 13412 13 2009 220 81101 86807 28463 63828 9211 3625 22710 417 409 12069 342 97692 7010 3625 4371 1572 7930 25400 81994 79738 3625 8492 7992 978 106252 812 15890 3900 264 63669 13 445 58386 41599 72 91602 28068 68 653 436 57332 91329 1640 2428 3062 7010 3625 1628 288 39723 3900 2967 1088 1208 45165 70 10515 367 22253 68 665 326 25877 61512 3625 294 19395 64272 82 7010 3625 281 64272 5808 4282 77433 3869 15907 829 63005 436 9034 414 43711 82 627 2356 84850 4558 21152 1589 97264 3930 220 81101 271 24641 220 81101 82 93002 406 8065 19910 294 29719 57951 294 36577 38920 1891 4458 483 409 78957 40321 978 294 29719 296 108204 68 25462 11 409 1172 28226 645 1880 409 60120 13 480 43711 6885 556 9952 15907 99898 10610 31539 264 264 \n",
      "\u001b[1;34mLe lama, animal domestique\n",
      "\n",
      "Le lama (Lama glama) appartient à l’ordre des artiodactyles et à la famille des camélidés, dont il est le plus grand représentant d’Amérique du Sud avec une hauteur au garrot de 1,25 m environ pour un poids allant jusqu’à 160 kg. Cet animal domestique représente un précieux allié pour les peuples de la puna (zone de plateaux située entre 3 500 et 4800 m d'altitude) car il transporte des marchandises, fournit de la laine pour confectionner des vêtements et des couvertures ainsi que de la viande pour nourrir pour les communautés andines. Incapable de supporter une charge supérieure à 30 kg, le lama ne sert pas à véhiculer les humains.\n",
      "Long cou et petit museau pour le lama\n",
      "\n",
      "Le lama possède un épais pelage dont la teinte varie du brun au blanc en passant par le noir, le gris ou le bleuté. Son long cou, surmonté d’une petite tête arrondie et d’un museau fin, lui confère une silhouette élancée. Au-dessus de ses yeux protégés par de longs cils, se dressent des oreilles dont les extrémités se recourbent vers l'intérieur. Sa lèvre supérieure fendue dévoile de saillantes incisives en spatule. Ses sabots étroits (en réalité, il s’agit de coussinets se terminant par un ongle) en font le seul animal capable de s’aventurer sur les sentiers aux pentes abruptes et caillouteuses des Andes.\n",
      "Le lama, un vrai montagnard\n",
      "\n",
      "Le lama vit sur l'ensemble des régions montagneuses de l'Amérique du Sud, le long de la cordillère des Andes entre 2 500 et 4 000 m d’altitude (Colombie, Pérou, Bolivie, Équateur, Argentine, Chili…) Le sang de cet ongulé contient un nombre élevé de globules rouges à la forme ovale qui lui permettent de supporter la raréfaction de l’oxygène des hauts plateaux. Si le mammifère évolue essentiellement sur l’altiplano andin, on le rencontre aussi dans les zones désertiques et les salines. Désormais importé dans le monde entier (États-Unis, Europe, Australie…), le lama est élevé notamment pour sa laine, plus douce et plus chaude que celle du mouton.\n",
      "Le lama, mammifère ruminant\n",
      "\n",
      "Animal très résistant, le lama peut passer plusieurs jours sans manger et puise son eau presque entièrement dans les végétaux qu'il consomme. Le régime alimentaire de ce mammifère se compose de graminées, de plantes herbacées, de feuilles d’arbustes, de mousse, de lichen, de racine ou de noix. Comme les vaches, le ruminant avale les aliments sans les mastiquer. La nourriture est partiellement ingérée dans ses trois estomacs puis régurgitée. Le camélidé va alors la mastiquer pour la réduire puis l’avaler. Le lama aime aussi lécher les pierres de sel gemme dans les salines qui lui fournissent les oligoéléments dont il a besoin. L’herbivore joue un rôle écologique important dans les Andes où il broute la végétation basse en limitant les dégâts dans les pâturages grâce à ses sabots rembourrés.\n",
      "Le célèbre crachat du lama\n",
      "\n",
      "Les lamas vivent au sein d’un groupe d’une petite dizaine de membres composé d’un mâle dominant, de femelles et de jeunes. Grégaire avec ses congén��res a a\u001b[0mPrompt processing (prefill): 959 tokens in 99.338 s (9.653909 tok/s)\n",
      "Token generation  (decode):  19 tokens in  2.960 s (6.418919 tok/s)\n",
      "transformer_t configuration:\n",
      "- embedding_dim:  2048\n",
      "- hidden_dim:     8192\n",
      "- layer_count:    16\n",
      "- q_head_count:   32\n",
      "- kv_head_count:  8\n",
      "- vocabulary_len: 128256\n",
      "- context_len:    2048\n",
      "runtime setup:\n",
      "- num_threads:    4\n",
      "Sequence (959 tokens):\n",
      "128000 2356 220 81101 11 10065 74522 2428 271 2356 220 81101 320 8921 1764 2840 3105 8 34388 49831 406 3869 326 529 541 265 951 220 68641 78 83649 83 2552 1880 3869 1208 67628 951 2211 102843 62306 5512 11 15890 3900 1826 514 5636 6800 2109 43711 12021 61512 294 529 32 102843 34395 3930 27430 9952 6316 62321 12844 8065 7515 4744 409 220 16 11 914 296 50026 5019 653 97418 23536 406 55398 91240 220 6330 21647 13 24703 83 10065 74522 2428 71925 6960 653 51625 53819 220 96893 978 5019 3625 28800 125800 409 1208 8474 64 220 75328 409 40852 82694 2249 2503 96559 68 9465 220 18 220 2636 1880 220 11738 15 296 294 83508 83 3993 8 1841 3900 96488 951 3678 5776 4338 288 11 81994 275 409 1208 51476 68 5019 2389 762 10462 30052 81 951 348 37093 1392 1880 951 272 15170 19020 44351 1744 409 1208 4669 43441 5019 46798 38315 5019 3625 34561 94943 82 220 51701 288 13 4953 18826 901 409 37563 6316 6900 1043 57663 68 3869 220 966 21647 11 514 220 81101 841 113147 6502 3869 45165 6151 3395 261 3625 2854 1771 627 6720 4020 1880 46110 3167 12791 84 5019 514 220 81101 271 2356 220 81101 2278 4558 451 653 50510 2852 281 81892 15890 1208 220 39340 668 4244 68 3930 42707 8065 64347 665 281 56692 406 1370 514 56662 11 514 86930 6033 514 1529 20732 123708 13 12103 1317 4020 11 1765 1677 123708 294 36577 38920 83067 220 82301 77 27591 1880 294 29719 3167 12791 84 1913 11 25400 2389 12339 6316 4502 64145 283 6672 33013 276 51084 68 13 33150 25520 86521 409 15907 379 20732 87 463 123708 70 5512 1370 409 18285 5981 62444 82 11 513 33201 65613 406 951 477 59891 645 15890 3625 1327 43711 76 35933 513 48755 9225 306 5553 326 52152 123708 81 62005 13 16233 326 4558 49606 1043 57663 68 95127 361 294 118904 74913 68 409 829 6374 24341 82 304 125325 2396 665 31493 115089 68 13 64027 829 63005 14240 69596 82 220 46708 59157 13109 11 3900 274 40753 13178 409 4020 46756 53961 513 4751 86396 1370 653 297 67330 8 665 3381 514 74206 10065 13171 409 274 57892 268 5081 81 1765 3625 6252 50435 82 10253 281 21938 264 33713 25123 82 1880 220 96250 657 412 90802 288 951 1628 288 627 2356 220 81101 11 653 83195 20605 56057 6634 271 2356 220 81101 13458 1765 326 41901 16167 951 38682 919 20605 3326 90802 288 409 326 52374 102843 34395 3930 27430 11 514 1317 409 1208 1867 8747 657 12339 951 1628 288 9465 220 17 220 2636 1880 220 19 220 931 296 294 40753 4937 3993 320 6255 24227 11 393 56771 84 11 25007 72 64519 11 29124 74083 12844 11 82822 11 82515 73939 2009 29340 409 42067 389 8890 69328 390 49831 406 653 13026 33013 68 52274 409 14015 16501 288 436 49404 288 3869 1208 57128 61137 68 7930 25400 14175 95201 83 409 37563 1208 96666 121597 1335 409 326 529 5241 49865 48099 951 6520 6256 40852 82694 2249 13 12095 514 33820 8318 69 12339 51913 78 120040 95755 49831 75 1001 1765 326 40753 75 13446 10946 78 220 51701 11 389 514 10607 28463 7010 3625 26467 294 92252 3423 8467 1880 3625 4371 1572 13 50501 708 8892 2852 737 4406 123708 7010 514 38900 665 50435 320 27887 2629 2641 83345 285 11 4606 11 116112 75618 73939 11 514 220 81101 1826 33013 68 52274 81186 5019 829 51476 68 11 5636 25595 346 1880 5636 70412 68 1744 73103 3930 54409 783 627 2356 220 81101 11 33820 8318 69 12339 436 10318 519 271 42515 25945 31807 11451 11 514 220 81101 25692 45347 51854 49301 15878 7643 65167 1880 18757 1082 4538 37646 84 864 98507 68 665 10462 4558 55755 7010 3625 45165 70 10515 12249 934 35329 1615 20372 68 13 2009 38682 547 38450 12267 409 3846 33820 8318 69 12339 513 31435 409 1099 10830 52235 288 11 409 6136 288 39999 64 51084 288 11 409 82711 31355 294 40753 81 10551 2392 11 409 54409 65613 11 409 12553 12301 11 409 220 120382 818 6033 409 58210 87 13 6947 68 3625 9467 17082 11 514 436 10318 519 41635 68 3625 453 12843 15878 3625 19218 72684 13 5034 46798 81 9464 1826 48901 75 1001 6892 68862 68 7010 15907 56321 1560 38501 19807 44829 38682 5673 13109 68 13 2009 2211 102843 62306 978 11412 45575 1208 19218 72684 5019 1208 9517 67 52750 44829 326 57892 13412 13 2009 220 81101 86807 28463 63828 9211 3625 22710 417 409 12069 342 97692 7010 3625 4371 1572 7930 25400 81994 79738 3625 8492 7992 978 106252 812 15890 3900 264 63669 13 445 58386 41599 72 91602 28068 68 653 436 57332 91329 1640 2428 3062 7010 3625 1628 288 39723 3900 2967 1088 1208 45165 70 10515 367 22253 68 665 326 25877 61512 3625 294 19395 64272 82 7010 3625 281 64272 5808 4282 77433 3869 15907 829 63005 436 9034 414 43711 82 627 2356 84850 4558 21152 1589 97264 3930 220 81101 271 24641 220 81101 82 93002 406 8065 19910 294 29719 57951 294 36577 38920 1891 4458 483 409 78957 40321 978 294 29719 296 108204 68 25462 11 409 1172 28226 645 1880 409 60120 13 480 43711 6885 556 9952 15907 99898 10610 31539 264 264 \n",
      "\u001b[1;34mLe lama, animal domestique\n",
      "\n",
      "Le lama (Lama glama) appartient à l’ordre des artiodactyles et à la famille des camélidés, dont il est le plus grand représentant d’Amérique du Sud avec une hauteur au garrot de 1,25 m environ pour un poids allant jusqu’à 160 kg. Cet animal domestique représente un précieux allié pour les peuples de la puna (zone de plateaux située entre 3 500 et 4800 m d'altitude) car il transporte des marchandises, fournit de la laine pour confectionner des vêtements et des couvertures ainsi que de la viande pour nourrir pour les communautés andines. Incapable de supporter une charge supérieure à 30 kg, le lama ne sert pas à véhiculer les humains.\n",
      "Long cou et petit museau pour le lama\n",
      "\n",
      "Le lama possède un épais pelage dont la teinte varie du brun au blanc en passant par le noir, le gris ou le bleuté. Son long cou, surmonté d’une petite tête arrondie et d’un museau fin, lui confère une silhouette élancée. Au-dessus de ses yeux protégés par de longs cils, se dressent des oreilles dont les extrémités se recourbent vers l'intérieur. Sa lèvre supérieure fendue dévoile de saillantes incisives en spatule. Ses sabots étroits (en réalité, il s’agit de coussinets se terminant par un ongle) en font le seul animal capable de s’aventurer sur les sentiers aux pentes abruptes et caillouteuses des Andes.\n",
      "Le lama, un vrai montagnard\n",
      "\n",
      "Le lama vit sur l'ensemble des régions montagneuses de l'Amérique du Sud, le long de la cordillère des Andes entre 2 500 et 4 000 m d’altitude (Colombie, Pérou, Bolivie, Équateur, Argentine, Chili…) Le sang de cet ongulé contient un nombre élevé de globules rouges à la forme ovale qui lui permettent de supporter la raréfaction de l’oxygène des hauts plateaux. Si le mammifère évolue essentiellement sur l’altiplano andin, on le rencontre aussi dans les zones désertiques et les salines. Désormais importé dans le monde entier (États-Unis, Europe, Australie…), le lama est élevé notamment pour sa laine, plus douce et plus chaude que celle du mouton.\n",
      "Le lama, mammifère ruminant\n",
      "\n",
      "Animal très résistant, le lama peut passer plusieurs jours sans manger et puise son eau presque entièrement dans les végétaux qu'il consomme. Le régime alimentaire de ce mammifère se compose de graminées, de plantes herbacées, de feuilles d’arbustes, de mousse, de lichen, de racine ou de noix. Comme les vaches, le ruminant avale les aliments sans les mastiquer. La nourriture est partiellement ingérée dans ses trois estomacs puis régurgitée. Le camélidé va alors la mastiquer pour la réduire puis l’avaler. Le lama aime aussi lécher les pierres de sel gemme dans les salines qui lui fournissent les oligoéléments dont il a besoin. L’herbivore joue un rôle écologique important dans les Andes où il broute la végétation basse en limitant les dégâts dans les pâturages grâce à ses sabots rembourrés.\n",
      "Le célèbre crachat du lama\n",
      "\n",
      "Les lamas vivent au sein d’un groupe d’une petite dizaine de membres composé d’un mâle dominant, de femelles et de jeunes. Grégaire avec ses congénères a a\u001b[0mPrompt processing (prefill): 959 tokens in 85.802 s (11.176896 tok/s)\n",
      "Token generation  (decode):  19 tokens in  2.795 s (6.797853 tok/s)\n",
      "transformer_t configuration:\n",
      "- embedding_dim:  2048\n",
      "- hidden_dim:     8192\n",
      "- layer_count:    16\n",
      "- q_head_count:   32\n",
      "- kv_head_count:  8\n",
      "- vocabulary_len: 128256\n",
      "- context_len:    2048\n",
      "runtime setup:\n",
      "- num_threads:    8\n",
      "Sequence (959 tokens):\n",
      "128000 2356 220 81101 11 10065 74522 2428 271 2356 220 81101 320 8921 1764 2840 3105 8 34388 49831 406 3869 326 529 541 265 951 220 68641 78 83649 83 2552 1880 3869 1208 67628 951 2211 102843 62306 5512 11 15890 3900 1826 514 5636 6800 2109 43711 12021 61512 294 529 32 102843 34395 3930 27430 9952 6316 62321 12844 8065 7515 4744 409 220 16 11 914 296 50026 5019 653 97418 23536 406 55398 91240 220 6330 21647 13 24703 83 10065 74522 2428 71925 6960 653 51625 53819 220 96893 978 5019 3625 28800 125800 409 1208 8474 64 220 75328 409 40852 82694 2249 2503 96559 68 9465 220 18 220 2636 1880 220 11738 15 296 294 83508 83 3993 8 1841 3900 96488 951 3678 5776 4338 288 11 81994 275 409 1208 51476 68 5019 2389 762 10462 30052 81 951 348 37093 1392 1880 951 272 15170 19020 44351 1744 409 1208 4669 43441 5019 46798 38315 5019 3625 34561 94943 82 220 51701 288 13 4953 18826 901 409 37563 6316 6900 1043 57663 68 3869 220 966 21647 11 514 220 81101 841 113147 6502 3869 45165 6151 3395 261 3625 2854 1771 627 6720 4020 1880 46110 3167 12791 84 5019 514 220 81101 271 2356 220 81101 2278 4558 451 653 50510 2852 281 81892 15890 1208 220 39340 668 4244 68 3930 42707 8065 64347 665 281 56692 406 1370 514 56662 11 514 86930 6033 514 1529 20732 123708 13 12103 1317 4020 11 1765 1677 123708 294 36577 38920 83067 220 82301 77 27591 1880 294 29719 3167 12791 84 1913 11 25400 2389 12339 6316 4502 64145 283 6672 33013 276 51084 68 13 33150 25520 86521 409 15907 379 20732 87 463 123708 70 5512 1370 409 18285 5981 62444 82 11 513 33201 65613 406 951 477 59891 645 15890 3625 1327 43711 76 35933 513 48755 9225 306 5553 326 52152 123708 81 62005 13 16233 326 4558 49606 1043 57663 68 95127 361 294 118904 74913 68 409 829 6374 24341 82 304 125325 2396 665 31493 115089 68 13 64027 829 63005 14240 69596 82 220 46708 59157 13109 11 3900 274 40753 13178 409 4020 46756 53961 513 4751 86396 1370 653 297 67330 8 665 3381 514 74206 10065 13171 409 274 57892 268 5081 81 1765 3625 6252 50435 82 10253 281 21938 264 33713 25123 82 1880 220 96250 657 412 90802 288 951 1628 288 627 2356 220 81101 11 653 83195 20605 56057 6634 271 2356 220 81101 13458 1765 326 41901 16167 951 38682 919 20605 3326 90802 288 409 326 52374 102843 34395 3930 27430 11 514 1317 409 1208 1867 8747 657 12339 951 1628 288 9465 220 17 220 2636 1880 220 19 220 931 296 294 40753 4937 3993 320 6255 24227 11 393 56771 84 11 25007 72 64519 11 29124 74083 12844 11 82822 11 82515 73939 2009 29340 409 42067 389 8890 69328 390 49831 406 653 13026 33013 68 52274 409 14015 16501 288 436 49404 288 3869 1208 57128 61137 68 7930 25400 14175 95201 83 409 37563 1208 96666 121597 1335 409 326 529 5241 49865 48099 951 6520 6256 40852 82694 2249 13 12095 514 33820 8318 69 12339 51913 78 120040 95755 49831 75 1001 1765 326 40753 75 13446 10946 78 220 51701 11 389 514 10607 28463 7010 3625 26467 294 92252 3423 8467 1880 3625 4371 1572 13 50501 708 8892 2852 737 4406 123708 7010 514 38900 665 50435 320 27887 2629 2641 83345 285 11 4606 11 116112 75618 73939 11 514 220 81101 1826 33013 68 52274 81186 5019 829 51476 68 11 5636 25595 346 1880 5636 70412 68 1744 73103 3930 54409 783 627 2356 220 81101 11 33820 8318 69 12339 436 10318 519 271 42515 25945 31807 11451 11 514 220 81101 25692 45347 51854 49301 15878 7643 65167 1880 18757 1082 4538 37646 84 864 98507 68 665 10462 4558 55755 7010 3625 45165 70 10515 12249 934 35329 1615 20372 68 13 2009 38682 547 38450 12267 409 3846 33820 8318 69 12339 513 31435 409 1099 10830 52235 288 11 409 6136 288 39999 64 51084 288 11 409 82711 31355 294 40753 81 10551 2392 11 409 54409 65613 11 409 12553 12301 11 409 220 120382 818 6033 409 58210 87 13 6947 68 3625 9467 17082 11 514 436 10318 519 41635 68 3625 453 12843 15878 3625 19218 72684 13 5034 46798 81 9464 1826 48901 75 1001 6892 68862 68 7010 15907 56321 1560 38501 19807 44829 38682 5673 13109 68 13 2009 2211 102843 62306 978 11412 45575 1208 19218 72684 5019 1208 9517 67 52750 44829 326 57892 13412 13 2009 220 81101 86807 28463 63828 9211 3625 22710 417 409 12069 342 97692 7010 3625 4371 1572 7930 25400 81994 79738 3625 8492 7992 978 106252 812 15890 3900 264 63669 13 445 58386 41599 72 91602 28068 68 653 436 57332 91329 1640 2428 3062 7010 3625 1628 288 39723 3900 2967 1088 1208 45165 70 10515 367 22253 68 665 326 25877 61512 3625 294 19395 64272 82 7010 3625 281 64272 5808 4282 77433 3869 15907 829 63005 436 9034 414 43711 82 627 2356 84850 4558 21152 1589 97264 3930 220 81101 271 24641 220 81101 82 93002 406 8065 19910 294 29719 57951 294 36577 38920 1891 4458 483 409 78957 40321 978 294 29719 296 108204 68 25462 11 409 1172 28226 645 1880 409 60120 13 480 43711 6885 556 9952 15907 99898 10610 31539 264 264 \n",
      "\u001b[1;34mLe lama, animal domestique\n",
      "\n",
      "Le lama (Lama glama) appartient à l’ordre des artiodactyles et à la famille des camélidés, dont il est le plus grand représentant d’Amérique du Sud avec une hauteur au garrot de 1,25 m environ pour un poids allant jusqu’à 160 kg. Cet animal domestique représente un précieux allié pour les peuples de la puna (zone de plateaux située entre 3 500 et 4800 m d'altitude) car il transporte des marchandises, fournit de la laine pour confectionner des vêtements et des couvertures ainsi que de la viande pour nourrir pour les communautés andines. Incapable de supporter une charge supérieure à 30 kg, le lama ne sert pas à véhiculer les humains.\n",
      "Long cou et petit museau pour le lama\n",
      "\n",
      "Le lama possède un épais pelage dont la teinte varie du brun au blanc en passant par le noir, le gris ou le bleuté. Son long cou, surmonté d’une petite tête arrondie et d’un museau fin, lui confère une silhouette élancée. Au-dessus de ses yeux protégés par de longs cils, se dressent des oreilles dont les extrémités se recourbent vers l'intérieur. Sa lèvre supérieure fendue dévoile de saillantes incisives en spatule. Ses sabots étroits (en réalité, il s’agit de coussinets se terminant par un ongle) en font le seul animal capable de s’aventurer sur les sentiers aux pentes abruptes et caillouteuses des Andes.\n",
      "Le lama, un vrai montagnard\n",
      "\n",
      "Le lama vit sur l'ensemble des régions montagneuses de l'Amérique du Sud, le long de la cordillère des Andes entre 2 500 et 4 000 m d’altitude (Colombie, Pérou, Bolivie, Équateur, Argentine, Chili…) Le sang de cet ongulé contient un nombre élevé de globules rouges à la forme ovale qui lui permettent de supporter la raréfaction de l’oxygène des hauts plateaux. Si le mammifère évolue essentiellement sur l’altiplano andin, on le rencontre aussi dans les zones désertiques et les salines. Désormais importé dans le monde entier (États-Unis, Europe, Australie…), le lama est élevé notamment pour sa laine, plus douce et plus chaude que celle du mouton.\n",
      "Le lama, mammifère ruminant\n",
      "\n",
      "Animal très résistant, le lama peut passer plusieurs jours sans manger et puise son eau presque entièrement dans les végétaux qu'il consomme. Le régime alimentaire de ce mammifère se compose de graminées, de plantes herbacées, de feuilles d’arbustes, de mousse, de lichen, de racine ou de noix. Comme les vaches, le ruminant avale les aliments sans les mastiquer. La nourriture est partiellement ingérée dans ses trois estomacs puis régurgitée. Le camélidé va alors la mastiquer pour la réduire puis l’avaler. Le lama aime aussi lécher les pierres de sel gemme dans les salines qui lui fournissent les oligoéléments dont il a besoin. L’herbivore joue un rôle écologique important dans les Andes où il broute la végétation basse en limitant les dégâts dans les pâturages grâce à ses sabots rembourrés.\n",
      "Le célèbre crachat du lama\n",
      "\n",
      "Les lamas vivent au sein d’un groupe d’une petite dizaine de membres composé d’un mâle dominant, de femelles et de jeunes. Grégaire avec ses congénères a a\u001b[0mPrompt processing (prefill): 959 tokens in 63.715 s (15.051401 tok/s)\n",
      "Token generation  (decode):  19 tokens in  2.673 s (7.108118 tok/s)\n",
      "transformer_t configuration:\n",
      "- embedding_dim:  2048\n",
      "- hidden_dim:     8192\n",
      "- layer_count:    16\n",
      "- q_head_count:   32\n",
      "- kv_head_count:  8\n",
      "- vocabulary_len: 128256\n",
      "- context_len:    2048\n",
      "runtime setup:\n",
      "- num_threads:    10\n",
      "Sequence (959 tokens):\n",
      "128000 2356 220 81101 11 10065 74522 2428 271 2356 220 81101 320 8921 1764 2840 3105 8 34388 49831 406 3869 326 529 541 265 951 220 68641 78 83649 83 2552 1880 3869 1208 67628 951 2211 102843 62306 5512 11 15890 3900 1826 514 5636 6800 2109 43711 12021 61512 294 529 32 102843 34395 3930 27430 9952 6316 62321 12844 8065 7515 4744 409 220 16 11 914 296 50026 5019 653 97418 23536 406 55398 91240 220 6330 21647 13 24703 83 10065 74522 2428 71925 6960 653 51625 53819 220 96893 978 5019 3625 28800 125800 409 1208 8474 64 220 75328 409 40852 82694 2249 2503 96559 68 9465 220 18 220 2636 1880 220 11738 15 296 294 83508 83 3993 8 1841 3900 96488 951 3678 5776 4338 288 11 81994 275 409 1208 51476 68 5019 2389 762 10462 30052 81 951 348 37093 1392 1880 951 272 15170 19020 44351 1744 409 1208 4669 43441 5019 46798 38315 5019 3625 34561 94943 82 220 51701 288 13 4953 18826 901 409 37563 6316 6900 1043 57663 68 3869 220 966 21647 11 514 220 81101 841 113147 6502 3869 45165 6151 3395 261 3625 2854 1771 627 6720 4020 1880 46110 3167 12791 84 5019 514 220 81101 271 2356 220 81101 2278 4558 451 653 50510 2852 281 81892 15890 1208 220 39340 668 4244 68 3930 42707 8065 64347 665 281 56692 406 1370 514 56662 11 514 86930 6033 514 1529 20732 123708 13 12103 1317 4020 11 1765 1677 123708 294 36577 38920 83067 220 82301 77 27591 1880 294 29719 3167 12791 84 1913 11 25400 2389 12339 6316 4502 64145 283 6672 33013 276 51084 68 13 33150 25520 86521 409 15907 379 20732 87 463 123708 70 5512 1370 409 18285 5981 62444 82 11 513 33201 65613 406 951 477 59891 645 15890 3625 1327 43711 76 35933 513 48755 9225 306 5553 326 52152 123708 81 62005 13 16233 326 4558 49606 1043 57663 68 95127 361 294 118904 74913 68 409 829 6374 24341 82 304 125325 2396 665 31493 115089 68 13 64027 829 63005 14240 69596 82 220 46708 59157 13109 11 3900 274 40753 13178 409 4020 46756 53961 513 4751 86396 1370 653 297 67330 8 665 3381 514 74206 10065 13171 409 274 57892 268 5081 81 1765 3625 6252 50435 82 10253 281 21938 264 33713 25123 82 1880 220 96250 657 412 90802 288 951 1628 288 627 2356 220 81101 11 653 83195 20605 56057 6634 271 2356 220 81101 13458 1765 326 41901 16167 951 38682 919 20605 3326 90802 288 409 326 52374 102843 34395 3930 27430 11 514 1317 409 1208 1867 8747 657 12339 951 1628 288 9465 220 17 220 2636 1880 220 19 220 931 296 294 40753 4937 3993 320 6255 24227 11 393 56771 84 11 25007 72 64519 11 29124 74083 12844 11 82822 11 82515 73939 2009 29340 409 42067 389 8890 69328 390 49831 406 653 13026 33013 68 52274 409 14015 16501 288 436 49404 288 3869 1208 57128 61137 68 7930 25400 14175 95201 83 409 37563 1208 96666 121597 1335 409 326 529 5241 49865 48099 951 6520 6256 40852 82694 2249 13 12095 514 33820 8318 69 12339 51913 78 120040 95755 49831 75 1001 1765 326 40753 75 13446 10946 78 220 51701 11 389 514 10607 28463 7010 3625 26467 294 92252 3423 8467 1880 3625 4371 1572 13 50501 708 8892 2852 737 4406 123708 7010 514 38900 665 50435 320 27887 2629 2641 83345 285 11 4606 11 116112 75618 73939 11 514 220 81101 1826 33013 68 52274 81186 5019 829 51476 68 11 5636 25595 346 1880 5636 70412 68 1744 73103 3930 54409 783 627 2356 220 81101 11 33820 8318 69 12339 436 10318 519 271 42515 25945 31807 11451 11 514 220 81101 25692 45347 51854 49301 15878 7643 65167 1880 18757 1082 4538 37646 84 864 98507 68 665 10462 4558 55755 7010 3625 45165 70 10515 12249 934 35329 1615 20372 68 13 2009 38682 547 38450 12267 409 3846 33820 8318 69 12339 513 31435 409 1099 10830 52235 288 11 409 6136 288 39999 64 51084 288 11 409 82711 31355 294 40753 81 10551 2392 11 409 54409 65613 11 409 12553 12301 11 409 220 120382 818 6033 409 58210 87 13 6947 68 3625 9467 17082 11 514 436 10318 519 41635 68 3625 453 12843 15878 3625 19218 72684 13 5034 46798 81 9464 1826 48901 75 1001 6892 68862 68 7010 15907 56321 1560 38501 19807 44829 38682 5673 13109 68 13 2009 2211 102843 62306 978 11412 45575 1208 19218 72684 5019 1208 9517 67 52750 44829 326 57892 13412 13 2009 220 81101 86807 28463 63828 9211 3625 22710 417 409 12069 342 97692 7010 3625 4371 1572 7930 25400 81994 79738 3625 8492 7992 978 106252 812 15890 3900 264 63669 13 445 58386 41599 72 91602 28068 68 653 436 57332 91329 1640 2428 3062 7010 3625 1628 288 39723 3900 2967 1088 1208 45165 70 10515 367 22253 68 665 326 25877 61512 3625 294 19395 64272 82 7010 3625 281 64272 5808 4282 77433 3869 15907 829 63005 436 9034 414 43711 82 627 2356 84850 4558 21152 1589 97264 3930 220 81101 271 24641 220 81101 82 93002 406 8065 19910 294 29719 57951 294 36577 38920 1891 4458 483 409 78957 40321 978 294 29719 296 108204 68 25462 11 409 1172 28226 645 1880 409 60120 13 480 43711 6885 556 9952 15907 99898 10610 31539 264 264 \n",
      "\u001b[1;34mLe lama, animal domestique\n",
      "\n",
      "Le lama (Lama glama) appartient à l’ordre des artiodactyles et à la famille des camélidés, dont il est le plus grand représentant d’Amérique du Sud avec une hauteur au garrot de 1,25 m environ pour un poids allant jusqu’à 160 kg. Cet animal domestique représente un précieux allié pour les peuples de la puna (zone de plateaux située entre 3 500 et 4800 m d'altitude) car il transporte des marchandises, fournit de la laine pour confectionner des vêtements et des couvertures ainsi que de la viande pour nourrir pour les communautés andines. Incapable de supporter une charge supérieure à 30 kg, le lama ne sert pas à véhiculer les humains.\n",
      "Long cou et petit museau pour le lama\n",
      "\n",
      "Le lama possède un épais pelage dont la teinte varie du brun au blanc en passant par le noir, le gris ou le bleuté. Son long cou, surmonté d’une petite tête arrondie et d’un museau fin, lui confère une silhouette élancée. Au-dessus de ses yeux protégés par de longs cils, se dressent des oreilles dont les extrémités se recourbent vers l'intérieur. Sa lèvre supérieure fendue dévoile de saillantes incisives en spatule. Ses sabots étroits (en réalité, il s’agit de coussinets se terminant par un ongle) en font le seul animal capable de s’aventurer sur les sentiers aux pentes abruptes et caillouteuses des Andes.\n",
      "Le lama, un vrai montagnard\n",
      "\n",
      "Le lama vit sur l'ensemble des régions montagneuses de l'Amérique du Sud, le long de la cordillère des Andes entre 2 500 et 4 000 m d’altitude (Colombie, Pérou, Bolivie, Équateur, Argentine, Chili…) Le sang de cet ongulé contient un nombre élevé de globules rouges à la forme ovale qui lui permettent de supporter la raréfaction de l’oxygène des hauts plateaux. Si le mammifère évolue essentiellement sur l’altiplano andin, on le rencontre aussi dans les zones désertiques et les salines. Désormais importé dans le monde entier (États-Unis, Europe, Australie…), le lama est élevé notamment pour sa laine, plus douce et plus chaude que celle du mouton.\n",
      "Le lama, mammifère ruminant\n",
      "\n",
      "Animal très résistant, le lama peut passer plusieurs jours sans manger et puise son eau presque entièrement dans les végétaux qu'il consomme. Le régime alimentaire de ce mammifère se compose de graminées, de plantes herbacées, de feuilles d’arbustes, de mousse, de lichen, de racine ou de noix. Comme les vaches, le ruminant avale les aliments sans les mastiquer. La nourriture est partiellement ingérée dans ses trois estomacs puis régurgitée. Le camélidé va alors la mastiquer pour la réduire puis l’avaler. Le lama aime aussi lécher les pierres de sel gemme dans les salines qui lui fournissent les oligoéléments dont il a besoin. L’herbivore joue un rôle écologique important dans les Andes où il broute la végétation basse en limitant les dégâts dans les pâturages grâce à ses sabots rembourrés.\n",
      "Le célèbre crachat du lama\n",
      "\n",
      "Les lamas vivent au sein d’un groupe d’une petite dizaine de membres composé d’un mâle dominant, de femelles et de jeunes. Grégaire avec ses congénères a a\u001b[0mPrompt processing (prefill): 959 tokens in 62.497 s (15.344737 tok/s)\n",
      "Token generation  (decode):  19 tokens in  2.362 s (8.044030 tok/s)\n",
      "transformer_t configuration:\n",
      "- embedding_dim:  2048\n",
      "- hidden_dim:     8192\n",
      "- layer_count:    16\n",
      "- q_head_count:   32\n",
      "- kv_head_count:  8\n",
      "- vocabulary_len: 128256\n",
      "- context_len:    2048\n",
      "runtime setup:\n",
      "- num_threads:    12\n",
      "Sequence (959 tokens):\n",
      "128000 2356 220 81101 11 10065 74522 2428 271 2356 220 81101 320 8921 1764 2840 3105 8 34388 49831 406 3869 326 529 541 265 951 220 68641 78 83649 83 2552 1880 3869 1208 67628 951 2211 102843 62306 5512 11 15890 3900 1826 514 5636 6800 2109 43711 12021 61512 294 529 32 102843 34395 3930 27430 9952 6316 62321 12844 8065 7515 4744 409 220 16 11 914 296 50026 5019 653 97418 23536 406 55398 91240 220 6330 21647 13 24703 83 10065 74522 2428 71925 6960 653 51625 53819 220 96893 978 5019 3625 28800 125800 409 1208 8474 64 220 75328 409 40852 82694 2249 2503 96559 68 9465 220 18 220 2636 1880 220 11738 15 296 294 83508 83 3993 8 1841 3900 96488 951 3678 5776 4338 288 11 81994 275 409 1208 51476 68 5019 2389 762 10462 30052 81 951 348 37093 1392 1880 951 272 15170 19020 44351 1744 409 1208 4669 43441 5019 46798 38315 5019 3625 34561 94943 82 220 51701 288 13 4953 18826 901 409 37563 6316 6900 1043 57663 68 3869 220 966 21647 11 514 220 81101 841 113147 6502 3869 45165 6151 3395 261 3625 2854 1771 627 6720 4020 1880 46110 3167 12791 84 5019 514 220 81101 271 2356 220 81101 2278 4558 451 653 50510 2852 281 81892 15890 1208 220 39340 668 4244 68 3930 42707 8065 64347 665 281 56692 406 1370 514 56662 11 514 86930 6033 514 1529 20732 123708 13 12103 1317 4020 11 1765 1677 123708 294 36577 38920 83067 220 82301 77 27591 1880 294 29719 3167 12791 84 1913 11 25400 2389 12339 6316 4502 64145 283 6672 33013 276 51084 68 13 33150 25520 86521 409 15907 379 20732 87 463 123708 70 5512 1370 409 18285 5981 62444 82 11 513 33201 65613 406 951 477 59891 645 15890 3625 1327 43711 76 35933 513 48755 9225 306 5553 326 52152 123708 81 62005 13 16233 326 4558 49606 1043 57663 68 95127 361 294 118904 74913 68 409 829 6374 24341 82 304 125325 2396 665 31493 115089 68 13 64027 829 63005 14240 69596 82 220 46708 59157 13109 11 3900 274 40753 13178 409 4020 46756 53961 513 4751 86396 1370 653 297 67330 8 665 3381 514 74206 10065 13171 409 274 57892 268 5081 81 1765 3625 6252 50435 82 10253 281 21938 264 33713 25123 82 1880 220 96250 657 412 90802 288 951 1628 288 627 2356 220 81101 11 653 83195 20605 56057 6634 271 2356 220 81101 13458 1765 326 41901 16167 951 38682 919 20605 3326 90802 288 409 326 52374 102843 34395 3930 27430 11 514 1317 409 1208 1867 8747 657 12339 951 1628 288 9465 220 17 220 2636 1880 220 19 220 931 296 294 40753 4937 3993 320 6255 24227 11 393 56771 84 11 25007 72 64519 11 29124 74083 12844 11 82822 11 82515 73939 2009 29340 409 42067 389 8890 69328 390 49831 406 653 13026 33013 68 52274 409 14015 16501 288 436 49404 288 3869 1208 57128 61137 68 7930 25400 14175 95201 83 409 37563 1208 96666 121597 1335 409 326 529 5241 49865 48099 951 6520 6256 40852 82694 2249 13 12095 514 33820 8318 69 12339 51913 78 120040 95755 49831 75 1001 1765 326 40753 75 13446 10946 78 220 51701 11 389 514 10607 28463 7010 3625 26467 294 92252 3423 8467 1880 3625 4371 1572 13 50501 708 8892 2852 737 4406 123708 7010 514 38900 665 50435 320 27887 2629 2641 83345 285 11 4606 11 116112 75618 73939 11 514 220 81101 1826 33013 68 52274 81186 5019 829 51476 68 11 5636 25595 346 1880 5636 70412 68 1744 73103 3930 54409 783 627 2356 220 81101 11 33820 8318 69 12339 436 10318 519 271 42515 25945 31807 11451 11 514 220 81101 25692 45347 51854 49301 15878 7643 65167 1880 18757 1082 4538 37646 84 864 98507 68 665 10462 4558 55755 7010 3625 45165 70 10515 12249 934 35329 1615 20372 68 13 2009 38682 547 38450 12267 409 3846 33820 8318 69 12339 513 31435 409 1099 10830 52235 288 11 409 6136 288 39999 64 51084 288 11 409 82711 31355 294 40753 81 10551 2392 11 409 54409 65613 11 409 12553 12301 11 409 220 120382 818 6033 409 58210 87 13 6947 68 3625 9467 17082 11 514 436 10318 519 41635 68 3625 453 12843 15878 3625 19218 72684 13 5034 46798 81 9464 1826 48901 75 1001 6892 68862 68 7010 15907 56321 1560 38501 19807 44829 38682 5673 13109 68 13 2009 2211 102843 62306 978 11412 45575 1208 19218 72684 5019 1208 9517 67 52750 44829 326 57892 13412 13 2009 220 81101 86807 28463 63828 9211 3625 22710 417 409 12069 342 97692 7010 3625 4371 1572 7930 25400 81994 79738 3625 8492 7992 978 106252 812 15890 3900 264 63669 13 445 58386 41599 72 91602 28068 68 653 436 57332 91329 1640 2428 3062 7010 3625 1628 288 39723 3900 2967 1088 1208 45165 70 10515 367 22253 68 665 326 25877 61512 3625 294 19395 64272 82 7010 3625 281 64272 5808 4282 77433 3869 15907 829 63005 436 9034 414 43711 82 627 2356 84850 4558 21152 1589 97264 3930 220 81101 271 24641 220 81101 82 93002 406 8065 19910 294 29719 57951 294 36577 38920 1891 4458 483 409 78957 40321 978 294 29719 296 108204 68 25462 11 409 1172 28226 645 1880 409 60120 13 480 43711 6885 556 9952 15907 99898 10610 31539 264 264 \n",
      "\u001b[1;34mLe lama, animal domestique\n",
      "\n",
      "Le lama (Lama glama) appartient à l’ordre des artiodactyles et à la famille des camélidés, dont il est le plus grand représentant d’Amérique du Sud avec une hauteur au garrot de 1,25 m environ pour un poids allant jusqu’à 160 kg. Cet animal domestique représente un précieux allié pour les peuples de la puna (zone de plateaux située entre 3 500 et 4800 m d'altitude) car il transporte des marchandises, fournit de la laine pour confectionner des vêtements et des couvertures ainsi que de la viande pour nourrir pour les communautés andines. Incapable de supporter une charge supérieure à 30 kg, le lama ne sert pas à véhiculer les humains.\n",
      "Long cou et petit museau pour le lama\n",
      "\n",
      "Le lama possède un épais pelage dont la teinte varie du brun au blanc en passant par le noir, le gris ou le bleuté. Son long cou, surmonté d’une petite tête arrondie et d’un museau fin, lui confère une silhouette élancée. Au-dessus de ses yeux protégés par de longs cils, se dressent des oreilles dont les extrémités se recourbent vers l'intérieur. Sa lèvre supérieure fendue dévoile de saillantes incisives en spatule. Ses sabots étroits (en réalité, il s’agit de coussinets se terminant par un ongle) en font le seul animal capable de s’aventurer sur les sentiers aux pentes abruptes et caillouteuses des Andes.\n",
      "Le lama, un vrai montagnard\n",
      "\n",
      "Le lama vit sur l'ensemble des régions montagneuses de l'Amérique du Sud, le long de la cordillère des Andes entre 2 500 et 4 000 m d’altitude (Colombie, Pérou, Bolivie, Équateur, Argentine, Chili…) Le sang de cet ongulé contient un nombre élevé de globules rouges à la forme ovale qui lui permettent de supporter la raréfaction de l’oxygène des hauts plateaux. Si le mammifère évolue essentiellement sur l’altiplano andin, on le rencontre aussi dans les zones désertiques et les salines. Désormais importé dans le monde entier (États-Unis, Europe, Australie…), le lama est élevé notamment pour sa laine, plus douce et plus chaude que celle du mouton.\n",
      "Le lama, mammifère ruminant\n",
      "\n",
      "Animal très résistant, le lama peut passer plusieurs jours sans manger et puise son eau presque entièrement dans les végétaux qu'il consomme. Le régime alimentaire de ce mammifère se compose de graminées, de plantes herbacées, de feuilles d’arbustes, de mousse, de lichen, de racine ou de noix. Comme les vaches, le ruminant avale les aliments sans les mastiquer. La nourriture est partiellement ingérée dans ses trois estomacs puis régurgitée. Le camélidé va alors la mastiquer pour la réduire puis l’avaler. Le lama aime aussi lécher les pierres de sel gemme dans les salines qui lui fournissent les oligoéléments dont il a besoin. L’herbivore joue un rôle écologique important dans les Andes où il broute la végétation basse en limitant les dégâts dans les pâturages grâce à ses sabots rembourrés.\n",
      "Le célèbre crachat du lama\n",
      "\n",
      "Les lamas vivent au sein d’un groupe d’une petite dizaine de membres composé d’un mâle dominant, de femelles et de jeunes. Grégaire avec ses congénères a a\u001b[0mPrompt processing (prefill): 959 tokens in 57.883 s (16.567904 tok/s)\n",
      "Token generation  (decode):  19 tokens in  2.064 s (9.205426 tok/s)\n",
      "transformer_t configuration:\n",
      "- embedding_dim:  2048\n",
      "- hidden_dim:     8192\n",
      "- layer_count:    16\n",
      "- q_head_count:   32\n",
      "- kv_head_count:  8\n",
      "- vocabulary_len: 128256\n",
      "- context_len:    2048\n",
      "runtime setup:\n",
      "- num_threads:    1\n",
      "Sequence (1905 tokens):\n",
      "128000 2356 220 81101 11 10065 74522 2428 271 2356 220 81101 320 8921 1764 2840 3105 8 34388 49831 406 3869 326 529 541 265 951 220 68641 78 83649 83 2552 1880 3869 1208 67628 951 2211 102843 62306 5512 11 15890 3900 1826 514 5636 6800 2109 43711 12021 61512 294 529 32 102843 34395 3930 27430 9952 6316 62321 12844 8065 7515 4744 409 220 16 11 914 296 50026 5019 653 97418 23536 406 55398 91240 220 6330 21647 13 24703 83 10065 74522 2428 71925 6960 653 51625 53819 220 96893 978 5019 3625 28800 125800 409 1208 8474 64 220 75328 409 40852 82694 2249 2503 96559 68 9465 220 18 220 2636 1880 220 11738 15 296 294 83508 83 3993 8 1841 3900 96488 951 3678 5776 4338 288 11 81994 275 409 1208 51476 68 5019 2389 762 10462 30052 81 951 348 37093 1392 1880 951 272 15170 19020 44351 1744 409 1208 4669 43441 5019 46798 38315 5019 3625 34561 94943 82 220 51701 288 13 4953 18826 901 409 37563 6316 6900 1043 57663 68 3869 220 966 21647 11 514 220 81101 841 113147 6502 3869 45165 6151 3395 261 3625 2854 1771 627 6720 4020 1880 46110 3167 12791 84 5019 514 220 81101 271 2356 220 81101 2278 4558 451 653 50510 2852 281 81892 15890 1208 220 39340 668 4244 68 3930 42707 8065 64347 665 281 56692 406 1370 514 56662 11 514 86930 6033 514 1529 20732 123708 13 12103 1317 4020 11 1765 1677 123708 294 36577 38920 83067 220 82301 77 27591 1880 294 29719 3167 12791 84 1913 11 25400 2389 12339 6316 4502 64145 283 6672 33013 276 51084 68 13 33150 25520 86521 409 15907 379 20732 87 463 123708 70 5512 1370 409 18285 5981 62444 82 11 513 33201 65613 406 951 477 59891 645 15890 3625 1327 43711 76 35933 513 48755 9225 306 5553 326 52152 123708 81 62005 13 16233 326 4558 49606 1043 57663 68 95127 361 294 118904 74913 68 409 829 6374 24341 82 304 125325 2396 665 31493 115089 68 13 64027 829 63005 14240 69596 82 220 46708 59157 13109 11 3900 274 40753 13178 409 4020 46756 53961 513 4751 86396 1370 653 297 67330 8 665 3381 514 74206 10065 13171 409 274 57892 268 5081 81 1765 3625 6252 50435 82 10253 281 21938 264 33713 25123 82 1880 220 96250 657 412 90802 288 951 1628 288 627 2356 220 81101 11 653 83195 20605 56057 6634 271 2356 220 81101 13458 1765 326 41901 16167 951 38682 919 20605 3326 90802 288 409 326 52374 102843 34395 3930 27430 11 514 1317 409 1208 1867 8747 657 12339 951 1628 288 9465 220 17 220 2636 1880 220 19 220 931 296 294 40753 4937 3993 320 6255 24227 11 393 56771 84 11 25007 72 64519 11 29124 74083 12844 11 82822 11 82515 73939 2009 29340 409 42067 389 8890 69328 390 49831 406 653 13026 33013 68 52274 409 14015 16501 288 436 49404 288 3869 1208 57128 61137 68 7930 25400 14175 95201 83 409 37563 1208 96666 121597 1335 409 326 529 5241 49865 48099 951 6520 6256 40852 82694 2249 13 12095 514 33820 8318 69 12339 51913 78 120040 95755 49831 75 1001 1765 326 40753 75 13446 10946 78 220 51701 11 389 514 10607 28463 7010 3625 26467 294 92252 3423 8467 1880 3625 4371 1572 13 50501 708 8892 2852 737 4406 123708 7010 514 38900 665 50435 320 27887 2629 2641 83345 285 11 4606 11 116112 75618 73939 11 514 220 81101 1826 33013 68 52274 81186 5019 829 51476 68 11 5636 25595 346 1880 5636 70412 68 1744 73103 3930 54409 783 627 2356 220 81101 11 33820 8318 69 12339 436 10318 519 271 42515 25945 31807 11451 11 514 220 81101 25692 45347 51854 49301 15878 7643 65167 1880 18757 1082 4538 37646 84 864 98507 68 665 10462 4558 55755 7010 3625 45165 70 10515 12249 934 35329 1615 20372 68 13 2009 38682 547 38450 12267 409 3846 33820 8318 69 12339 513 31435 409 1099 10830 52235 288 11 409 6136 288 39999 64 51084 288 11 409 82711 31355 294 40753 81 10551 2392 11 409 54409 65613 11 409 12553 12301 11 409 220 120382 818 6033 409 58210 87 13 6947 68 3625 9467 17082 11 514 436 10318 519 41635 68 3625 453 12843 15878 3625 19218 72684 13 5034 46798 81 9464 1826 48901 75 1001 6892 68862 68 7010 15907 56321 1560 38501 19807 44829 38682 5673 13109 68 13 2009 2211 102843 62306 978 11412 45575 1208 19218 72684 5019 1208 9517 67 52750 44829 326 57892 13412 13 2009 220 81101 86807 28463 63828 9211 3625 22710 417 409 12069 342 97692 7010 3625 4371 1572 7930 25400 81994 79738 3625 8492 7992 978 106252 812 15890 3900 264 63669 13 445 58386 41599 72 91602 28068 68 653 436 57332 91329 1640 2428 3062 7010 3625 1628 288 39723 3900 2967 1088 1208 45165 70 10515 367 22253 68 665 326 25877 61512 3625 294 19395 64272 82 7010 3625 281 64272 5808 4282 77433 3869 15907 829 63005 436 9034 414 43711 82 627 2356 84850 4558 21152 1589 97264 3930 220 81101 271 24641 220 81101 82 93002 406 8065 19910 294 29719 57951 294 36577 38920 1891 4458 483 409 78957 40321 978 294 29719 296 108204 68 25462 11 409 1172 28226 645 1880 409 60120 13 480 43711 6885 556 9952 15907 99898 10610 31539 11 326 88161 2931 25692 43905 86633 513 20605 38149 4392 46756 69 6233 388 16968 304 66353 82 7930 16006 68 14687 409 281 32453 95920 4538 7317 72 53709 265 13 12103 57705 12339 3674 25400 2389 12339 409 308 2925 81 90802 288 24282 28900 288 5019 4790 52750 15907 220 17060 41356 13 82251 6455 11 653 220 81101 220 12748 51084 15473 14034 15907 477 59891 645 665 2961 20712 11 44829 56445 3869 1206 20234 81 829 96282 7010 1208 712 34927 13 62408 1957 25400 29557 409 14814 52750 6316 220 48521 77 36255 668 4371 535 11 409 733 32837 1565 15907 28068 288 1880 33632 258 11 409 46141 9211 55398 91240 220 18 296 75104 409 6138 13 1219 981 978 294 36577 38682 324 13178 367 11 514 1589 97264 13935 68 1880 93562 82 978 48521 303 2605 61652 5826 123708 8637 81235 1208 18922 635 409 326 40753 38361 68 61969 556 13 2895 66096 3869 829 114118 123708 22235 409 47371 1137 11 514 220 81101 1826 409 5636 665 5636 4186 69068 22299 7515 27591 77 409 259 896 12791 2249 220 10316 9799 82 82660 86250 1001 705 439 20370 519 44351 26633 25664 551 9313 1880 281 64272 554 627 46 46790 2354 44178 43711 68 46206 41798 220 81101 271 2356 72601 1499 49865 373 3930 220 81101 274 40753 81 10462 3395 68 90053 294 29719 296 108204 68 25462 1880 409 4538 96018 76 1391 61512 220 20 3869 220 21 961 97820 82 13 5186 12416 326 26248 58761 84 2833 11 326 94572 46790 273 409 1208 1172 28226 273 308 17771 908 92174 43711 1744 220 1187 3869 220 1927 76145 5636 62197 13 33150 98020 294 36577 13033 367 409 220 806 3869 220 1032 46415 11 4415 77422 653 74206 46110 220 11718 68 69328 85008 8 7930 281 12416 68 50026 220 605 21647 13 50501 15222 84 67359 11 514 308 66867 12791 84 12 52235 1826 13171 409 513 28605 1880 409 924 84595 829 296 12339 7010 326 39982 12844 68 7930 7937 1208 57459 3122 13 445 40753 36882 72 79507 10878 68 5636 6033 40970 220 20 46415 1880 514 10479 52274 8551 68 264 96518 2005 531 550 74646 68 46756 7986 4538 1280 102504 30819 665 7930 5683 519 409 27138 3869 47838 514 96018 76 13 1252 36963 296 108204 68 528 4558 15893 45575 6316 2653 68 409 84850 36038 71237 82 98544 81 12416 409 326 20234 66601 3900 9314 45168 829 14425 24918 1880 829 3674 8082 3869 30517 11 81186 11 951 12896 82 9952 294 93922 10479 52274 8551 288 13 69830 98507 35329 40142 520 39340 83 829 296 2693 13109 1877 31037 11 5553 220 17 6033 220 18 8261 11 3900 14240 62573 9008 4538 83187 7317 72 53709 265 13 32541 10253 60120 1172 28226 645 11 84568 15132 78467 68 123708 288 409 1208 490 58082 98304 68 5553 326 6 9011 713 409 220 605 3869 220 717 46415 13 445 12844 52087 551 48041 71933 951 87081 409 296 108204 288 665 93381 77 36255 83 409 46524 28130 96018 76 47371 6729 85440 627 2356 220 81101 551 74522 76366 39587 463 123708 70 978 271 2356 272 53478 668 11 514 18757 1764 1880 326 529 81656 9363 2109 43711 325 43569 83 3625 82660 86250 2249 27389 6036 38647 3930 220 81101 7010 4538 39646 7138 75 13 328 40753 70 66262 294 29719 10065 74522 76366 11 514 2211 102843 62306 978 841 7216 6502 1765 1208 34024 85059 409 326 529 33758 6625 68 5019 1208 29711 409 1208 7138 220 55502 29768 570 1322 123708 70 978 11 514 220 81101 308 22117 6502 77554 68862 22299 6316 16948 4558 346 296 7304 51084 68 13 12103 16948 76743 16848 409 17536 1826 409 220 605 8261 3869 220 508 8261 627 42515 8126 106252 266 2428 409 1208 4563 8747 657 12339 951 1628 288 11 272 22117 76776 3869 4538 57705 12339 1744 514 220 81101 42182 829 312 17101 102843 68 13 507 2005 11 3900 1826 514 2138 20732 87 33820 8318 69 12339 7930 46141 1557 42676 389 514 687 45083 648 758 8171 5553 326 529 32 102843 34395 3930 27430 5019 91026 653 2211 102843 62306 978 8065 2798 76743 479 409 82711 627 8921 3453 5081 951 88025 1826 1208 924 97105 68 551 7010 1208 296 9011 331 42827 1043 57663 68 389 71451 653 304 79155 12844 48027 77 25506 1880 264 27843 69068 8065 39002 409 1208 27389 1764 11927 36882 556 11 924 33920 294 31109 77680 15729 76082 48027 77 25506 68 11 304 20811 118545 68 1880 409 62827 91116 818 1765 1208 48901 459 123708 81 62005 68 409 1208 78068 36882 556 13 5034 27389 45444 12267 34556 69328 68 220 22550 76 65826 406 3869 6316 76082 1744 326 54386 38831 83384 46206 3625 34809 12791 2249 308 17771 6502 30179 6960 13 11876 22337 17724 7930 15132 665 3729 3625 220 8699 9952 3625 46106 15132 26633 25945 98385 27389 45444 17724 320 4355 55133 14240 519 25945 436 21178 5794 71237 8 1880 56321 22337 17724 3544 82 11 738 2739 3695 46680 81 54960 22299 272 37907 951 46106 2211 102843 62306 5512 13 46706 1208 296 9011 331 42827 304 59958 81 62005 68 11 3625 56321 304 125325 2396 15132 18285 38768 82 1880 665 57128 409 31493 115089 68 2652 220 323 264 \n",
      "\u001b[1;34mLe lama, animal domestique\n",
      "\n",
      "Le lama (Lama glama) appartient à l’ordre des artiodactyles et à la famille des camélidés, dont il est le plus grand représentant d’Amérique du Sud avec une hauteur au garrot de 1,25 m environ pour un poids allant jusqu’à 160 kg. Cet animal domestique représente un précieux allié pour les peuples de la puna (zone de plateaux située entre 3 500 et 4800 m d'altitude) car il transporte des marchandises, fournit de la laine pour confectionner des vêtements et des couvertures ainsi que de la viande pour nourrir pour les communautés andines. Incapable de supporter une charge supérieure à 30 kg, le lama ne sert pas à véhiculer les humains.\n",
      "Long cou et petit museau pour le lama\n",
      "\n",
      "Le lama possède un épais pelage dont la teinte varie du brun au blanc en passant par le noir, le gris ou le bleuté. Son long cou, surmonté d’une petite tête arrondie et d’un museau fin, lui confère une silhouette élancée. Au-dessus de ses yeux protégés par de longs cils, se dressent des oreilles dont les extrémités se recourbent vers l'intérieur. Sa lèvre supérieure fendue dévoile de saillantes incisives en spatule. Ses sabots étroits (en réalité, il s’agit de coussinets se terminant par un ongle) en font le seul animal capable de s’aventurer sur les sentiers aux pentes abruptes et caillouteuses des Andes.\n",
      "Le lama, un vrai montagnard\n",
      "\n",
      "Le lama vit sur l'ensemble des régions montagneuses de l'Amérique du Sud, le long de la cordillère des Andes entre 2 500 et 4 000 m d’altitude (Colombie, Pérou, Bolivie, Équateur, Argentine, Chili…) Le sang de cet ongulé contient un nombre élevé de globules rouges à la forme ovale qui lui permettent de supporter la raréfaction de l’oxygène des hauts plateaux. Si le mammifère évolue essentiellement sur l’altiplano andin, on le rencontre aussi dans les zones désertiques et les salines. Désormais importé dans le monde entier (États-Unis, Europe, Australie…), le lama est élevé notamment pour sa laine, plus douce et plus chaude que celle du mouton.\n",
      "Le lama, mammifère ruminant\n",
      "\n",
      "Animal très résistant, le lama peut passer plusieurs jours sans manger et puise son eau presque entièrement dans les végétaux qu'il consomme. Le régime alimentaire de ce mammifère se compose de graminées, de plantes herbacées, de feuilles d’arbustes, de mousse, de lichen, de racine ou de noix. Comme les vaches, le ruminant avale les aliments sans les mastiquer. La nourriture est partiellement ingérée dans ses trois estomacs puis régurgitée. Le camélidé va alors la mastiquer pour la réduire puis l’avaler. Le lama aime aussi lécher les pierres de sel gemme dans les salines qui lui fournissent les oligoéléments dont il a besoin. L’herbivore joue un rôle écologique important dans les Andes où il broute la végétation basse en limitant les dégâts dans les pâturages grâce à ses sabots rembourrés.\n",
      "Le célèbre crachat du lama\n",
      "\n",
      "Les lamas vivent au sein d’un groupe d’une petite dizaine de membres composé d’un mâle dominant, de femelles et de jeunes. Grégaire avec ses congénères, l’animal peut toutefois se montrer agressif envers tout intrus qui tenterait de pénétrer son territoire. Son caractère social lui confère de nombreuses expressions faciales pour traduire ses émotions. Ainsi, un lama agacé rabat ses oreilles en arrière, puis commence à claquer sa langue dans la bouche. Cette action lui permet de produire une abondante salive, de gonfler ses joues et enfin, de cracher jusqu’à 3 mètres de distance. Composé d’une régurgitation, le crachat acide et nauséabond provoque systématiquement la fuite de l’adversaire. Grâce à sa stratégie de défense, le lama est de plus en plus utilisé comme gardien de troupeaux (ovins principalement), assurant ainsi deux missions : protection et pâture.\n",
      "Ovulation différée chez Dame lama\n",
      "\n",
      "Le système polygame du lama s’articule autour d’un mâle dominant et de son harem comptant 5 à 6 partenaires. Après l'accouplement, l'ovule de la femelle n'est libéré que 24 à 36 heures plus tard. Au terme d’une gestation de 11 à 13 mois, naît un seul petit (appelé cria) qui pèse environ 10 kg. Débrouillard, le nouveau-né est capable de se lever et de suivre sa mère dans l'heure qui suit la mise bas. L’allaitement dure plus ou moins 5 mois et le juvénile acquiert progressivement son indépendance en quittant de temps à autre le harem. Un jeune mâle intègre alors une harde de célibataires auprès de laquelle il finit sa croissance et sa socialisation à travers, notamment, des combats avec d’autres juvéniles. Lorsqu'il aura atteint sa maturité sexuelle, vers 2 ou 3 ans, il établira son propre territoire. Quant aux jeunes femelles, elles sont rejetées de la tribu familiale vers l'âge de 10 à 12 mois. Leur destin : rejoindre des clans de mâles en attendant de trouver leur harem définitif.\n",
      "Le lama : domestiqué donc protégé\n",
      "\n",
      "Le coyote, le puma et l’ocelot représentent les principaux prédateurs du lama dans son habitat naturel. S’agissant d’un animal domestiqué, le camélidé ne figure pas sur la liste rouge de l’Union internationale pour la conservation de la nature (UICN). Protégé, le lama n’est pas considéré comme une espèce menacée. Son espérance de vie est de 10 ans à 20 ans.\n",
      "Animal emblématique de la Cordillère des Andes, c’est surtout �� son caractère que le lama doit sa renommée. Oui, il est le fameux mammifère qui crache quand on le contrarie ! Cap vers l’Amérique du Sud pour rencontrer un camélidé au tempérament de feu.\n",
      "La denture des adultes est la suivante : dans la mâchoire supérieure on trouve un inciseur pointu et aiguisé au bord de la prémaxillaire, suivi d'une véritable canine pointue, incurvée et de taille moyenne sur la partie antérieure de la maxillaire. La prémolaire isolée ressemblant à une canine que l'on retrouve chez les chameaux n'est pas présente. Les molaires qui sont en contact les unes avec les autres sont deux très petites prémolaires (la première étant très rudimentaire) et trois molaires larges, construites généralement comme celles des autres camélidés. Dans la mâchoire inférieure, les trois incisives sont longues et en forme de spatule ;  and a\u001b[0m"
     ]
    },
    {
     "ename": "CalledProcessError",
     "evalue": "Command '['./cliftinstr', '-m', 'llama3.2_1b.bin', '-n', '20', '-f', 'prompt/file_1024.txt', '-t', '1']' died with <Signals.SIGSEGV: 11>.",
     "output_type": "error",
     "traceback": [
      "\u001b[31m---------------------------------------------------------------------------\u001b[39m",
      "\u001b[31mCalledProcessError\u001b[39m                        Traceback (most recent call last)",
      "\u001b[36mCell\u001b[39m\u001b[36m \u001b[39m\u001b[32mIn[40]\u001b[39m\u001b[32m, line 22\u001b[39m\n\u001b[32m     20\u001b[39m \u001b[38;5;28;01mfor\u001b[39;00m file \u001b[38;5;129;01min\u001b[39;00m prompt_file:\n\u001b[32m     21\u001b[39m     \u001b[38;5;28;01mfor\u001b[39;00m n_threads \u001b[38;5;129;01min\u001b[39;00m thread_counts:\n\u001b[32m---> \u001b[39m\u001b[32m22\u001b[39m         proc = \u001b[43msubprocess\u001b[49m\u001b[43m.\u001b[49m\u001b[43mrun\u001b[49m\u001b[43m(\u001b[49m\n\u001b[32m     23\u001b[39m \u001b[43m            \u001b[49m\u001b[43m[\u001b[49m\u001b[33;43m\"\u001b[39;49m\u001b[33;43m./cliftinstr\u001b[39;49m\u001b[33;43m\"\u001b[39;49m\u001b[43m,\u001b[49m\u001b[43m \u001b[49m\u001b[33;43m\"\u001b[39;49m\u001b[33;43m-m\u001b[39;49m\u001b[33;43m\"\u001b[39;49m\u001b[43m,\u001b[49m\u001b[43m \u001b[49m\u001b[43mmodel_path\u001b[49m\u001b[43m,\u001b[49m\u001b[43m \u001b[49m\u001b[33;43m\"\u001b[39;49m\u001b[33;43m-n\u001b[39;49m\u001b[33;43m\"\u001b[39;49m\u001b[43m,\u001b[49m\u001b[43m \u001b[49m\u001b[33;43m\"\u001b[39;49m\u001b[33;43m20\u001b[39;49m\u001b[33;43m\"\u001b[39;49m\u001b[43m,\u001b[49m\u001b[43m \u001b[49m\u001b[33;43m\"\u001b[39;49m\u001b[33;43m-f\u001b[39;49m\u001b[33;43m\"\u001b[39;49m\u001b[43m,\u001b[49m\u001b[43m \u001b[49m\u001b[43mfile\u001b[49m\u001b[43m,\u001b[49m\u001b[33;43m\"\u001b[39;49m\u001b[33;43m-t\u001b[39;49m\u001b[33;43m\"\u001b[39;49m\u001b[43m,\u001b[49m\u001b[43m \u001b[49m\u001b[38;5;28;43mstr\u001b[39;49m\u001b[43m(\u001b[49m\u001b[43mn_threads\u001b[49m\u001b[43m)\u001b[49m\u001b[43m]\u001b[49m\u001b[43m,\u001b[49m\n\u001b[32m     24\u001b[39m \u001b[43m            \u001b[49m\u001b[43mstdout\u001b[49m\u001b[43m=\u001b[49m\u001b[43msubprocess\u001b[49m\u001b[43m.\u001b[49m\u001b[43mPIPE\u001b[49m\u001b[43m,\u001b[49m\n\u001b[32m     25\u001b[39m \u001b[43m            \u001b[49m\u001b[43mcheck\u001b[49m\u001b[43m=\u001b[49m\u001b[38;5;28;43;01mTrue\u001b[39;49;00m\u001b[43m,\u001b[49m\n\u001b[32m     26\u001b[39m \u001b[43m            \u001b[49m\u001b[43menv\u001b[49m\u001b[43m=\u001b[49m\u001b[43menv\u001b[49m\n\u001b[32m     27\u001b[39m \u001b[43m        \u001b[49m\u001b[43m)\u001b[49m\n\u001b[32m     29\u001b[39m         f.write(proc.stdout.decode().strip())\n\u001b[32m     30\u001b[39m         f.write(\u001b[33m\"\u001b[39m\u001b[38;5;130;01m\\n\u001b[39;00m\u001b[33m---\u001b[39m\u001b[38;5;130;01m\\n\u001b[39;00m\u001b[33m\"\u001b[39m)\n",
      "\u001b[36mFile \u001b[39m\u001b[32m/usr/lib/python3.12/subprocess.py:571\u001b[39m, in \u001b[36mrun\u001b[39m\u001b[34m(input, capture_output, timeout, check, *popenargs, **kwargs)\u001b[39m\n\u001b[32m    569\u001b[39m     retcode = process.poll()\n\u001b[32m    570\u001b[39m     \u001b[38;5;28;01mif\u001b[39;00m check \u001b[38;5;129;01mand\u001b[39;00m retcode:\n\u001b[32m--> \u001b[39m\u001b[32m571\u001b[39m         \u001b[38;5;28;01mraise\u001b[39;00m CalledProcessError(retcode, process.args,\n\u001b[32m    572\u001b[39m                                  output=stdout, stderr=stderr)\n\u001b[32m    573\u001b[39m \u001b[38;5;28;01mreturn\u001b[39;00m CompletedProcess(process.args, retcode, stdout, stderr)\n",
      "\u001b[31mCalledProcessError\u001b[39m: Command '['./cliftinstr', '-m', 'llama3.2_1b.bin', '-n', '20', '-f', 'prompt/file_1024.txt', '-t', '1']' died with <Signals.SIGSEGV: 11>."
     ]
    }
   ],
   "source": [
    "import subprocess, os\n",
    "import datetime\n",
    "from pathlib import Path\n",
    "\n",
    "commit_hash = subprocess.check_output([\"git\", \"rev-parse\", \"HEAD\"]).decode().strip()\n",
    "env_base = os.environ.copy()\n",
    "env_base[\"GIT_COMMIT_HASH\"] = commit_hash\n",
    "\n",
    "Path(\"measurements\").mkdir(exist_ok=True)\n",
    "subprocess.run([\"make\", \"ompinstr\"], check=True)\n",
    "\n",
    "thread_counts = [1, 2, 4, 8, 10, 12]\n",
    "date = datetime.datetime.now().strftime(\"%Y%m%d_%H%M%S\")\n",
    "output_path = f\"measurements/output_concat_{date}.jsons\"  # <- extension explicite\n",
    "\n",
    "prompt = \"The son applies for a credit card with an identity already stolen. He takes the card and spends almost all\"\n",
    "model_path = \"llama3.2_1b.bin\"\n",
    "prompt_file = [\"prompt/file_16.txt\",\"prompt/file_32.txt\",\"prompt/file_64.txt\",\"prompt/file_128.txt\",\"prompt/file_256.txt\",\"prompt/file_512.txt\",\"prompt/file_1024.txt\"]\n",
    "with open(output_path, \"w\") as f:\n",
    "    for file in prompt_file:\n",
    "        for n_threads in thread_counts:\n",
    "            proc = subprocess.run(\n",
    "                [\"./cliftinstr\", \"-m\", model_path, \"-n\", \"20\", \"-f\", file,\"-t\", str(n_threads)],\n",
    "                stdout=subprocess.PIPE,\n",
    "                check=True,\n",
    "                env=env\n",
    "            )\n",
    "\n",
    "            f.write(proc.stdout.decode().strip())\n",
    "            f.write(\"\\n---\\n\")\n",
    "file = output_path\n"
   ]
  },
  {
   "cell_type": "code",
   "execution_count": 1,
   "id": "a17cfb90",
   "metadata": {},
   "outputs": [],
   "source": [
    "file = \"measurements/output_concat_20250624_132950.jsons\""
   ]
  },
  {
   "cell_type": "code",
   "execution_count": 44,
   "id": "83bdd430",
   "metadata": {},
   "outputs": [
    {
     "name": "stdout",
     "output_type": "stream",
     "text": [
      "commit: str\n",
      "JSON_1_COMPT: dict\n",
      "  PROMPT_LEN: float\n",
      "  TOKEN_GENERATED: float\n",
      "  NUM_THREADS: float\n",
      "JSON_1: dict\n",
      "  GENERATE_TIME: float\n",
      "  PROMPT_PROCESSING_TIME: float\n",
      "  TOKEN_GENERATION_TIME: float\n",
      "JSON_2: dict\n",
      "  RMSNORM_INIT: list\n",
      "    - list of 54 items\n",
      "  FFN_RMSNORM: list\n",
      "    - list of 54 items\n",
      "  FINAL_RMSNORM: list\n",
      "    - list of 54 items\n",
      "JSON_3: dict\n",
      "  MATMUL_QKV: list\n",
      "    - list of 1 items\n",
      "      - list of 54 items\n",
      "  ROPE: list\n",
      "    - list of 1 items\n",
      "      - list of 54 items\n",
      "  ATTENTION_COMPUTATION: list\n",
      "    - list of 1 items\n",
      "      - list of 54 items\n",
      "  MATMUL_OUTPUT_ATTENTION: list\n",
      "    - list of 1 items\n",
      "      - list of 54 items\n",
      "  MATMUL_FFN: list\n",
      "    - list of 1 items\n",
      "      - list of 54 items\n",
      "  SwiGLU: list\n",
      "    - list of 1 items\n",
      "      - list of 54 items\n",
      "  MATMUL_OUTPUT_FFN: list\n",
      "    - list of 1 items\n",
      "      - list of 54 items\n",
      "  MATMUL_LOGITS: list\n",
      "    - list of 1 items\n",
      "      - list of 54 items\n"
     ]
    }
   ],
   "source": [
    "import json\n",
    "\n",
    "\n",
    "\n",
    "with open(file, \"r\") as f:\n",
    "    content = f.read()\n",
    "\n",
    "chunks = content.split(\"\\n---\\n\")\n",
    "parsed = [json.loads(chunk) for chunk in chunks if chunk.strip()]\n",
    "print_json_schema(parsed[0])"
   ]
  },
  {
   "cell_type": "code",
   "execution_count": 19,
   "id": "96eea14e",
   "metadata": {},
   "outputs": [
    {
     "data": {
      "application/vnd.plotly.v1+json": {
       "config": {
        "plotlyServerURL": "https://plot.ly"
       },
       "data": [
        {
         "hovertemplate": "variable=GENERATE_TIME<br>Threads=%{x}<br>value=%{y}<extra></extra>",
         "legendgroup": "GENERATE_TIME",
         "line": {
          "color": "#636efa",
          "dash": "solid"
         },
         "marker": {
          "symbol": "circle"
         },
         "mode": "lines+markers",
         "name": "GENERATE_TIME",
         "orientation": "v",
         "showlegend": true,
         "type": "scatter",
         "x": {
          "bdata": "AAAAAAAA8D8AAAAAAAAAQAAAAAAAABBAAAAAAAAAIEAAAAAAAAAkQAAAAAAAAChA",
          "dtype": "f8"
         },
         "xaxis": "x",
         "y": {
          "bdata": "AAAAAAAA8D8Uu/zIPv/2P4Hkj2GpJvk/32s79aRh/z/PJGqLg/oAQCGmQ6c5lQFA",
          "dtype": "f8"
         },
         "yaxis": "y"
        },
        {
         "hovertemplate": "variable=PROMPT_PROCESSING_TIME<br>Threads=%{x}<br>value=%{y}<extra></extra>",
         "legendgroup": "PROMPT_PROCESSING_TIME",
         "line": {
          "color": "#EF553B",
          "dash": "solid"
         },
         "marker": {
          "symbol": "circle"
         },
         "mode": "lines+markers",
         "name": "PROMPT_PROCESSING_TIME",
         "orientation": "v",
         "showlegend": true,
         "type": "scatter",
         "x": {
          "bdata": "AAAAAAAA8D8AAAAAAAAAQAAAAAAAABBAAAAAAAAAIEAAAAAAAAAkQAAAAAAAAChA",
          "dtype": "f8"
         },
         "xaxis": "x",
         "y": {
          "bdata": "AAAAAAAA8D89PtwH9FD4P9v52798hv4/DBbOOCbTBEB3aEb9bJkHQHqA2oHyxAhA",
          "dtype": "f8"
         },
         "yaxis": "y"
        },
        {
         "hovertemplate": "variable=TOKEN_GENERATION_TIME<br>Threads=%{x}<br>value=%{y}<extra></extra>",
         "legendgroup": "TOKEN_GENERATION_TIME",
         "line": {
          "color": "#00cc96",
          "dash": "solid"
         },
         "marker": {
          "symbol": "circle"
         },
         "mode": "lines+markers",
         "name": "TOKEN_GENERATION_TIME",
         "orientation": "v",
         "showlegend": true,
         "type": "scatter",
         "x": {
          "bdata": "AAAAAAAA8D8AAAAAAAAAQAAAAAAAABBAAAAAAAAAIEAAAAAAAAAkQAAAAAAAAChA",
          "dtype": "f8"
         },
         "xaxis": "x",
         "y": {
          "bdata": "AAAAAAAA8D9mxSDyajr2P63z4MFg+fU/kksR7R8H+z9Zpgw5oSr9Pwm8Rf4jNf4/",
          "dtype": "f8"
         },
         "yaxis": "y"
        },
        {
         "hovertemplate": "variable=Ideal<br>Threads=%{x}<br>value=%{y}<extra></extra>",
         "legendgroup": "Ideal",
         "line": {
          "color": "#ab63fa",
          "dash": "solid"
         },
         "marker": {
          "symbol": "circle"
         },
         "mode": "lines+markers",
         "name": "Ideal",
         "orientation": "v",
         "showlegend": true,
         "type": "scatter",
         "x": {
          "bdata": "AAAAAAAA8D8AAAAAAAAAQAAAAAAAABBAAAAAAAAAIEAAAAAAAAAkQAAAAAAAAChA",
          "dtype": "f8"
         },
         "xaxis": "x",
         "y": {
          "bdata": "AAAAAAAA8D8AAAAAAAAAQAAAAAAAABBAAAAAAAAAIEAAAAAAAAAkQAAAAAAAAChA",
          "dtype": "f8"
         },
         "yaxis": "y"
        }
       ],
       "layout": {
        "legend": {
         "title": {
          "text": "variable"
         },
         "tracegroupgap": 0
        },
        "template": {
         "data": {
          "bar": [
           {
            "error_x": {
             "color": "#2a3f5f"
            },
            "error_y": {
             "color": "#2a3f5f"
            },
            "marker": {
             "line": {
              "color": "#E5ECF6",
              "width": 0.5
             },
             "pattern": {
              "fillmode": "overlay",
              "size": 10,
              "solidity": 0.2
             }
            },
            "type": "bar"
           }
          ],
          "barpolar": [
           {
            "marker": {
             "line": {
              "color": "#E5ECF6",
              "width": 0.5
             },
             "pattern": {
              "fillmode": "overlay",
              "size": 10,
              "solidity": 0.2
             }
            },
            "type": "barpolar"
           }
          ],
          "carpet": [
           {
            "aaxis": {
             "endlinecolor": "#2a3f5f",
             "gridcolor": "white",
             "linecolor": "white",
             "minorgridcolor": "white",
             "startlinecolor": "#2a3f5f"
            },
            "baxis": {
             "endlinecolor": "#2a3f5f",
             "gridcolor": "white",
             "linecolor": "white",
             "minorgridcolor": "white",
             "startlinecolor": "#2a3f5f"
            },
            "type": "carpet"
           }
          ],
          "choropleth": [
           {
            "colorbar": {
             "outlinewidth": 0,
             "ticks": ""
            },
            "type": "choropleth"
           }
          ],
          "contour": [
           {
            "colorbar": {
             "outlinewidth": 0,
             "ticks": ""
            },
            "colorscale": [
             [
              0,
              "#0d0887"
             ],
             [
              0.1111111111111111,
              "#46039f"
             ],
             [
              0.2222222222222222,
              "#7201a8"
             ],
             [
              0.3333333333333333,
              "#9c179e"
             ],
             [
              0.4444444444444444,
              "#bd3786"
             ],
             [
              0.5555555555555556,
              "#d8576b"
             ],
             [
              0.6666666666666666,
              "#ed7953"
             ],
             [
              0.7777777777777778,
              "#fb9f3a"
             ],
             [
              0.8888888888888888,
              "#fdca26"
             ],
             [
              1,
              "#f0f921"
             ]
            ],
            "type": "contour"
           }
          ],
          "contourcarpet": [
           {
            "colorbar": {
             "outlinewidth": 0,
             "ticks": ""
            },
            "type": "contourcarpet"
           }
          ],
          "heatmap": [
           {
            "colorbar": {
             "outlinewidth": 0,
             "ticks": ""
            },
            "colorscale": [
             [
              0,
              "#0d0887"
             ],
             [
              0.1111111111111111,
              "#46039f"
             ],
             [
              0.2222222222222222,
              "#7201a8"
             ],
             [
              0.3333333333333333,
              "#9c179e"
             ],
             [
              0.4444444444444444,
              "#bd3786"
             ],
             [
              0.5555555555555556,
              "#d8576b"
             ],
             [
              0.6666666666666666,
              "#ed7953"
             ],
             [
              0.7777777777777778,
              "#fb9f3a"
             ],
             [
              0.8888888888888888,
              "#fdca26"
             ],
             [
              1,
              "#f0f921"
             ]
            ],
            "type": "heatmap"
           }
          ],
          "histogram": [
           {
            "marker": {
             "pattern": {
              "fillmode": "overlay",
              "size": 10,
              "solidity": 0.2
             }
            },
            "type": "histogram"
           }
          ],
          "histogram2d": [
           {
            "colorbar": {
             "outlinewidth": 0,
             "ticks": ""
            },
            "colorscale": [
             [
              0,
              "#0d0887"
             ],
             [
              0.1111111111111111,
              "#46039f"
             ],
             [
              0.2222222222222222,
              "#7201a8"
             ],
             [
              0.3333333333333333,
              "#9c179e"
             ],
             [
              0.4444444444444444,
              "#bd3786"
             ],
             [
              0.5555555555555556,
              "#d8576b"
             ],
             [
              0.6666666666666666,
              "#ed7953"
             ],
             [
              0.7777777777777778,
              "#fb9f3a"
             ],
             [
              0.8888888888888888,
              "#fdca26"
             ],
             [
              1,
              "#f0f921"
             ]
            ],
            "type": "histogram2d"
           }
          ],
          "histogram2dcontour": [
           {
            "colorbar": {
             "outlinewidth": 0,
             "ticks": ""
            },
            "colorscale": [
             [
              0,
              "#0d0887"
             ],
             [
              0.1111111111111111,
              "#46039f"
             ],
             [
              0.2222222222222222,
              "#7201a8"
             ],
             [
              0.3333333333333333,
              "#9c179e"
             ],
             [
              0.4444444444444444,
              "#bd3786"
             ],
             [
              0.5555555555555556,
              "#d8576b"
             ],
             [
              0.6666666666666666,
              "#ed7953"
             ],
             [
              0.7777777777777778,
              "#fb9f3a"
             ],
             [
              0.8888888888888888,
              "#fdca26"
             ],
             [
              1,
              "#f0f921"
             ]
            ],
            "type": "histogram2dcontour"
           }
          ],
          "mesh3d": [
           {
            "colorbar": {
             "outlinewidth": 0,
             "ticks": ""
            },
            "type": "mesh3d"
           }
          ],
          "parcoords": [
           {
            "line": {
             "colorbar": {
              "outlinewidth": 0,
              "ticks": ""
             }
            },
            "type": "parcoords"
           }
          ],
          "pie": [
           {
            "automargin": true,
            "type": "pie"
           }
          ],
          "scatter": [
           {
            "fillpattern": {
             "fillmode": "overlay",
             "size": 10,
             "solidity": 0.2
            },
            "type": "scatter"
           }
          ],
          "scatter3d": [
           {
            "line": {
             "colorbar": {
              "outlinewidth": 0,
              "ticks": ""
             }
            },
            "marker": {
             "colorbar": {
              "outlinewidth": 0,
              "ticks": ""
             }
            },
            "type": "scatter3d"
           }
          ],
          "scattercarpet": [
           {
            "marker": {
             "colorbar": {
              "outlinewidth": 0,
              "ticks": ""
             }
            },
            "type": "scattercarpet"
           }
          ],
          "scattergeo": [
           {
            "marker": {
             "colorbar": {
              "outlinewidth": 0,
              "ticks": ""
             }
            },
            "type": "scattergeo"
           }
          ],
          "scattergl": [
           {
            "marker": {
             "colorbar": {
              "outlinewidth": 0,
              "ticks": ""
             }
            },
            "type": "scattergl"
           }
          ],
          "scattermap": [
           {
            "marker": {
             "colorbar": {
              "outlinewidth": 0,
              "ticks": ""
             }
            },
            "type": "scattermap"
           }
          ],
          "scattermapbox": [
           {
            "marker": {
             "colorbar": {
              "outlinewidth": 0,
              "ticks": ""
             }
            },
            "type": "scattermapbox"
           }
          ],
          "scatterpolar": [
           {
            "marker": {
             "colorbar": {
              "outlinewidth": 0,
              "ticks": ""
             }
            },
            "type": "scatterpolar"
           }
          ],
          "scatterpolargl": [
           {
            "marker": {
             "colorbar": {
              "outlinewidth": 0,
              "ticks": ""
             }
            },
            "type": "scatterpolargl"
           }
          ],
          "scatterternary": [
           {
            "marker": {
             "colorbar": {
              "outlinewidth": 0,
              "ticks": ""
             }
            },
            "type": "scatterternary"
           }
          ],
          "surface": [
           {
            "colorbar": {
             "outlinewidth": 0,
             "ticks": ""
            },
            "colorscale": [
             [
              0,
              "#0d0887"
             ],
             [
              0.1111111111111111,
              "#46039f"
             ],
             [
              0.2222222222222222,
              "#7201a8"
             ],
             [
              0.3333333333333333,
              "#9c179e"
             ],
             [
              0.4444444444444444,
              "#bd3786"
             ],
             [
              0.5555555555555556,
              "#d8576b"
             ],
             [
              0.6666666666666666,
              "#ed7953"
             ],
             [
              0.7777777777777778,
              "#fb9f3a"
             ],
             [
              0.8888888888888888,
              "#fdca26"
             ],
             [
              1,
              "#f0f921"
             ]
            ],
            "type": "surface"
           }
          ],
          "table": [
           {
            "cells": {
             "fill": {
              "color": "#EBF0F8"
             },
             "line": {
              "color": "white"
             }
            },
            "header": {
             "fill": {
              "color": "#C8D4E3"
             },
             "line": {
              "color": "white"
             }
            },
            "type": "table"
           }
          ]
         },
         "layout": {
          "annotationdefaults": {
           "arrowcolor": "#2a3f5f",
           "arrowhead": 0,
           "arrowwidth": 1
          },
          "autotypenumbers": "strict",
          "coloraxis": {
           "colorbar": {
            "outlinewidth": 0,
            "ticks": ""
           }
          },
          "colorscale": {
           "diverging": [
            [
             0,
             "#8e0152"
            ],
            [
             0.1,
             "#c51b7d"
            ],
            [
             0.2,
             "#de77ae"
            ],
            [
             0.3,
             "#f1b6da"
            ],
            [
             0.4,
             "#fde0ef"
            ],
            [
             0.5,
             "#f7f7f7"
            ],
            [
             0.6,
             "#e6f5d0"
            ],
            [
             0.7,
             "#b8e186"
            ],
            [
             0.8,
             "#7fbc41"
            ],
            [
             0.9,
             "#4d9221"
            ],
            [
             1,
             "#276419"
            ]
           ],
           "sequential": [
            [
             0,
             "#0d0887"
            ],
            [
             0.1111111111111111,
             "#46039f"
            ],
            [
             0.2222222222222222,
             "#7201a8"
            ],
            [
             0.3333333333333333,
             "#9c179e"
            ],
            [
             0.4444444444444444,
             "#bd3786"
            ],
            [
             0.5555555555555556,
             "#d8576b"
            ],
            [
             0.6666666666666666,
             "#ed7953"
            ],
            [
             0.7777777777777778,
             "#fb9f3a"
            ],
            [
             0.8888888888888888,
             "#fdca26"
            ],
            [
             1,
             "#f0f921"
            ]
           ],
           "sequentialminus": [
            [
             0,
             "#0d0887"
            ],
            [
             0.1111111111111111,
             "#46039f"
            ],
            [
             0.2222222222222222,
             "#7201a8"
            ],
            [
             0.3333333333333333,
             "#9c179e"
            ],
            [
             0.4444444444444444,
             "#bd3786"
            ],
            [
             0.5555555555555556,
             "#d8576b"
            ],
            [
             0.6666666666666666,
             "#ed7953"
            ],
            [
             0.7777777777777778,
             "#fb9f3a"
            ],
            [
             0.8888888888888888,
             "#fdca26"
            ],
            [
             1,
             "#f0f921"
            ]
           ]
          },
          "colorway": [
           "#636efa",
           "#EF553B",
           "#00cc96",
           "#ab63fa",
           "#FFA15A",
           "#19d3f3",
           "#FF6692",
           "#B6E880",
           "#FF97FF",
           "#FECB52"
          ],
          "font": {
           "color": "#2a3f5f"
          },
          "geo": {
           "bgcolor": "white",
           "lakecolor": "white",
           "landcolor": "#E5ECF6",
           "showlakes": true,
           "showland": true,
           "subunitcolor": "white"
          },
          "hoverlabel": {
           "align": "left"
          },
          "hovermode": "closest",
          "mapbox": {
           "style": "light"
          },
          "paper_bgcolor": "white",
          "plot_bgcolor": "#E5ECF6",
          "polar": {
           "angularaxis": {
            "gridcolor": "white",
            "linecolor": "white",
            "ticks": ""
           },
           "bgcolor": "#E5ECF6",
           "radialaxis": {
            "gridcolor": "white",
            "linecolor": "white",
            "ticks": ""
           }
          },
          "scene": {
           "xaxis": {
            "backgroundcolor": "#E5ECF6",
            "gridcolor": "white",
            "gridwidth": 2,
            "linecolor": "white",
            "showbackground": true,
            "ticks": "",
            "zerolinecolor": "white"
           },
           "yaxis": {
            "backgroundcolor": "#E5ECF6",
            "gridcolor": "white",
            "gridwidth": 2,
            "linecolor": "white",
            "showbackground": true,
            "ticks": "",
            "zerolinecolor": "white"
           },
           "zaxis": {
            "backgroundcolor": "#E5ECF6",
            "gridcolor": "white",
            "gridwidth": 2,
            "linecolor": "white",
            "showbackground": true,
            "ticks": "",
            "zerolinecolor": "white"
           }
          },
          "shapedefaults": {
           "line": {
            "color": "#2a3f5f"
           }
          },
          "ternary": {
           "aaxis": {
            "gridcolor": "white",
            "linecolor": "white",
            "ticks": ""
           },
           "baxis": {
            "gridcolor": "white",
            "linecolor": "white",
            "ticks": ""
           },
           "bgcolor": "#E5ECF6",
           "caxis": {
            "gridcolor": "white",
            "linecolor": "white",
            "ticks": ""
           }
          },
          "title": {
           "x": 0.05
          },
          "xaxis": {
           "automargin": true,
           "gridcolor": "white",
           "linecolor": "white",
           "ticks": "",
           "title": {
            "standoff": 15
           },
           "zerolinecolor": "white",
           "zerolinewidth": 2
          },
          "yaxis": {
           "automargin": true,
           "gridcolor": "white",
           "linecolor": "white",
           "ticks": "",
           "title": {
            "standoff": 15
           },
           "zerolinecolor": "white",
           "zerolinewidth": 2
          }
         }
        },
        "title": {
         "text": "Global Speedup"
        },
        "xaxis": {
         "anchor": "y",
         "domain": [
          0,
          1
         ],
         "title": {
          "text": "Threads"
         }
        },
        "yaxis": {
         "anchor": "x",
         "domain": [
          0,
          1
         ],
         "title": {
          "text": "value"
         }
        }
       }
      }
     },
     "metadata": {},
     "output_type": "display_data"
    }
   ],
   "source": [
    "import json, pandas as pd, plotly.express as px\n",
    "\n",
    "with open(file) as f:\n",
    "    parsed = [json.loads(x) for x in f.read().split(\"\\n---\\n\") if x.strip()]\n",
    "\n",
    "parsed.sort(key=lambda d: d[\"JSON_1_COMPT\"][\"NUM_THREADS\"])\n",
    "threads = [d[\"JSON_1_COMPT\"][\"NUM_THREADS\"] for d in parsed]\n",
    "\n",
    "gen = [d[\"JSON_1\"][\"GENERATE_TIME\"] for d in parsed]\n",
    "prompt = [d[\"JSON_1\"][\"PROMPT_PROCESSING_TIME\"] for d in parsed]\n",
    "token = [d[\"JSON_1\"][\"TOKEN_GENERATION_TIME\"] for d in parsed]\n",
    "\n",
    "df = pd.DataFrame({\n",
    "    \"Threads\": threads,\n",
    "    \"GENERATE_TIME\": [gen[0]/x for x in gen],\n",
    "    \"PROMPT_PROCESSING_TIME\": [prompt[0]/x for x in prompt],\n",
    "    \"TOKEN_GENERATION_TIME\": [token[0]/x for x in token],\n",
    "    \"Ideal\": threads\n",
    "})\n",
    "\n",
    "px.line(df, x=\"Threads\", y=[\"GENERATE_TIME\", \"PROMPT_PROCESSING_TIME\", \"TOKEN_GENERATION_TIME\", \"Ideal\"],title=\"Global Speedup\", markers=True).show()\n"
   ]
  },
  {
   "cell_type": "code",
   "execution_count": 30,
   "id": "8733fe19",
   "metadata": {},
   "outputs": [],
   "source": [
    "file = \"measurements/output_concat_20250624_094845.jsons\""
   ]
  },
  {
   "cell_type": "code",
   "execution_count": 26,
   "id": "6b49ab47",
   "metadata": {},
   "outputs": [
    {
     "data": {
      "application/vnd.plotly.v1+json": {
       "config": {
        "plotlyServerURL": "https://plot.ly"
       },
       "data": [
        {
         "alignmentgroup": "True",
         "boxpoints": "all",
         "hovertemplate": "Threads=1 threads<br>Phase=%{x}<br>Time (ms)=%{y}<extra></extra>",
         "legendgroup": "1 threads",
         "marker": {
          "color": "#636efa"
         },
         "name": "1 threads",
         "notched": false,
         "offsetgroup": "1 threads",
         "orientation": "v",
         "showlegend": true,
         "type": "box",
         "x": [
          "MATMUL_QKV",
          "ROPE",
          "ATTENTION_COMPUTATION",
          "MATMUL_OUTPUT_ATTENTION",
          "MATMUL_FFN",
          "SwiGLU",
          "MATMUL_OUTPUT_FFN",
          "MATMUL_LOGITS"
         ],
         "x0": " ",
         "xaxis": "x",
         "y": {
          "bdata": "Dwu1pnk3a0AGEhQ/xtzZP7Pqc7UVewtAGCZTBaPjc0D99nXg3CGhQPXb14FzRiNAeJyiI/nIkEAukKD4Mb5FQA==",
          "dtype": "f8"
         },
         "y0": " ",
         "yaxis": "y"
        },
        {
         "alignmentgroup": "True",
         "boxpoints": "all",
         "hovertemplate": "Threads=2 threads<br>Phase=%{x}<br>Time (ms)=%{y}<extra></extra>",
         "legendgroup": "2 threads",
         "marker": {
          "color": "#EF553B"
         },
         "name": "2 threads",
         "notched": false,
         "offsetgroup": "2 threads",
         "orientation": "v",
         "showlegend": true,
         "type": "box",
         "x": [
          "MATMUL_QKV",
          "MATMUL_QKV",
          "ROPE",
          "ROPE",
          "ATTENTION_COMPUTATION",
          "ATTENTION_COMPUTATION",
          "MATMUL_OUTPUT_ATTENTION",
          "MATMUL_OUTPUT_ATTENTION",
          "MATMUL_FFN",
          "MATMUL_FFN",
          "SwiGLU",
          "SwiGLU",
          "MATMUL_OUTPUT_FFN",
          "MATMUL_OUTPUT_FFN",
          "MATMUL_LOGITS",
          "MATMUL_LOGITS"
         ],
         "x0": " ",
         "xaxis": "x",
         "y": {
          "bdata": "tFn1udoOWkAOLbKd7+dcQNxGA3gLJMg/Gw3gLZCgyD/y0k1iEFj7P+F6FK5H4f0/veMUHckNY0Ac6+I2GmRjQMx/SL/9PpZA0LNZ9bn8lkAQWDm0yPYSQIQNT6+UZRNABcWPMfduhkDAWyBBcViHQPhT46WbJD5AppvEILDyPUA=",
          "dtype": "f8"
         },
         "y0": " ",
         "yaxis": "y"
        },
        {
         "alignmentgroup": "True",
         "boxpoints": "all",
         "hovertemplate": "Threads=4 threads<br>Phase=%{x}<br>Time (ms)=%{y}<extra></extra>",
         "legendgroup": "4 threads",
         "marker": {
          "color": "#00cc96"
         },
         "name": "4 threads",
         "notched": false,
         "offsetgroup": "4 threads",
         "orientation": "v",
         "showlegend": true,
         "type": "box",
         "x": [
          "MATMUL_QKV",
          "MATMUL_QKV",
          "MATMUL_QKV",
          "MATMUL_QKV",
          "ROPE",
          "ROPE",
          "ROPE",
          "ROPE",
          "ATTENTION_COMPUTATION",
          "ATTENTION_COMPUTATION",
          "ATTENTION_COMPUTATION",
          "ATTENTION_COMPUTATION",
          "MATMUL_OUTPUT_ATTENTION",
          "MATMUL_OUTPUT_ATTENTION",
          "MATMUL_OUTPUT_ATTENTION",
          "MATMUL_OUTPUT_ATTENTION",
          "MATMUL_FFN",
          "MATMUL_FFN",
          "MATMUL_FFN",
          "MATMUL_FFN",
          "SwiGLU",
          "SwiGLU",
          "SwiGLU",
          "SwiGLU",
          "MATMUL_OUTPUT_FFN",
          "MATMUL_OUTPUT_FFN",
          "MATMUL_OUTPUT_FFN",
          "MATMUL_OUTPUT_FFN",
          "MATMUL_LOGITS",
          "MATMUL_LOGITS",
          "MATMUL_LOGITS",
          "MATMUL_LOGITS"
         ],
         "x0": " ",
         "xaxis": "x",
         "y": {
          "bdata": "rrZif9nRU0BIUPwYc0dUQNejcD0KA1dA097gC5MJVUCWIY51cRu9PxBYObTIdr4/oImw4emVwj8dyeU/pN++PzXvOEVHcvQ/3nGKjuTy8T8AkX77OnD0P05iEFg5tPE/5WGh1jQrVUCSXP5D+rFYQL1SliGOkVtAr5RliGOxW0APnDOiNFeJQFK4HoVr641A0SLb+T7skEBDHOvithaQQCPb+X5qvAJAeVioNc07BkBEaW/whUkDQFOWIY518QNA4umVsgxIekAldQKaCJx+QLfRAN6CtYBAqaROQBOggUCY3ZOHhWo9QKYKRiV1Uj1AtvP91HhpPUDek4eFWoM9QA==",
          "dtype": "f8"
         },
         "y0": " ",
         "yaxis": "y"
        },
        {
         "alignmentgroup": "True",
         "boxpoints": "all",
         "hovertemplate": "Threads=8 threads<br>Phase=%{x}<br>Time (ms)=%{y}<extra></extra>",
         "legendgroup": "8 threads",
         "marker": {
          "color": "#ab63fa"
         },
         "name": "8 threads",
         "notched": false,
         "offsetgroup": "8 threads",
         "orientation": "v",
         "showlegend": true,
         "type": "box",
         "x": [
          "MATMUL_QKV",
          "MATMUL_QKV",
          "MATMUL_QKV",
          "MATMUL_QKV",
          "MATMUL_QKV",
          "MATMUL_QKV",
          "MATMUL_QKV",
          "MATMUL_QKV",
          "ROPE",
          "ROPE",
          "ROPE",
          "ROPE",
          "ROPE",
          "ROPE",
          "ROPE",
          "ROPE",
          "ATTENTION_COMPUTATION",
          "ATTENTION_COMPUTATION",
          "ATTENTION_COMPUTATION",
          "ATTENTION_COMPUTATION",
          "ATTENTION_COMPUTATION",
          "ATTENTION_COMPUTATION",
          "ATTENTION_COMPUTATION",
          "ATTENTION_COMPUTATION",
          "MATMUL_OUTPUT_ATTENTION",
          "MATMUL_OUTPUT_ATTENTION",
          "MATMUL_OUTPUT_ATTENTION",
          "MATMUL_OUTPUT_ATTENTION",
          "MATMUL_OUTPUT_ATTENTION",
          "MATMUL_OUTPUT_ATTENTION",
          "MATMUL_OUTPUT_ATTENTION",
          "MATMUL_OUTPUT_ATTENTION",
          "MATMUL_FFN",
          "MATMUL_FFN",
          "MATMUL_FFN",
          "MATMUL_FFN",
          "MATMUL_FFN",
          "MATMUL_FFN",
          "MATMUL_FFN",
          "MATMUL_FFN",
          "SwiGLU",
          "SwiGLU",
          "SwiGLU",
          "SwiGLU",
          "SwiGLU",
          "SwiGLU",
          "SwiGLU",
          "SwiGLU",
          "MATMUL_OUTPUT_FFN",
          "MATMUL_OUTPUT_FFN",
          "MATMUL_OUTPUT_FFN",
          "MATMUL_OUTPUT_FFN",
          "MATMUL_OUTPUT_FFN",
          "MATMUL_OUTPUT_FFN",
          "MATMUL_OUTPUT_FFN",
          "MATMUL_OUTPUT_FFN",
          "MATMUL_LOGITS",
          "MATMUL_LOGITS",
          "MATMUL_LOGITS",
          "MATMUL_LOGITS",
          "MATMUL_LOGITS",
          "MATMUL_LOGITS",
          "MATMUL_LOGITS",
          "MATMUL_LOGITS"
         ],
         "x0": " ",
         "xaxis": "x",
         "y": {
          "bdata": "9+RhodYsRUDXo3A9Cm9IQEhQ/Bhz90hAw9MrZRnSSECJ0t7gCwNJQGiz6nO1FUhALNSa5h3/RkCDwMqhRWZIQPwYc9cS8rE/sVBrmnecsj+M22gAb4G0P2pN845TdLQ/e4MvTKYKtj+xUGuad5yyPw5Pr5RliLM/TfOOU3Qktz+TqYJRSZ3kPxKlvcEXJuU/OGdEaW/w6T+dEaW9wRfoP5LLf0i/fec/7FG4HoXr5T9PQBNhw9PlP4enV8oyxOc/3GgAb4F4UEAZBFYOLWJPQIcW2c73Q09Az2bV52pnUEAOvjCZKkRQQJ0Rpb3BX1FAW9O84xR9UEB+jLlrCf1SQC0hH/Rs7INAqFfKMkRlgkB6xyk6EkqFQL6fGi/dbIZAJQaBlUMEhUBL6gQ0EZaHQDJ3LSGfcIdAnRGlvUH5iEC4QILix5j4P2TMXUvIB/Q/dEaU9gZf+z/Qs1n1udr7P/jCZKpgVPk/VHQkl/+Q/z8LJCh+jLn8P7Hh6ZWyDPs/AU2EDU/WdUBBguLHmLB0QEJg5dAi0nZAvjCZKhj3eECuR+F6FDF3QDLmriXkzXhAfGEyVTCAdkAwTKYKRgZ6QJhuEoPAqjhA1XjpJjGoOEDdJAaBlYM4QIXrUbgeZThAf2q8dJN4OEB/+zpwzpg4QEHxY8xdmzhA3pOHhVpjOEA=",
          "dtype": "f8"
         },
         "y0": " ",
         "yaxis": "y"
        },
        {
         "alignmentgroup": "True",
         "boxpoints": "all",
         "hovertemplate": "Threads=10 threads<br>Phase=%{x}<br>Time (ms)=%{y}<extra></extra>",
         "legendgroup": "10 threads",
         "marker": {
          "color": "#FFA15A"
         },
         "name": "10 threads",
         "notched": false,
         "offsetgroup": "10 threads",
         "orientation": "v",
         "showlegend": true,
         "type": "box",
         "x": [
          "MATMUL_QKV",
          "MATMUL_QKV",
          "MATMUL_QKV",
          "MATMUL_QKV",
          "MATMUL_QKV",
          "MATMUL_QKV",
          "MATMUL_QKV",
          "MATMUL_QKV",
          "MATMUL_QKV",
          "MATMUL_QKV",
          "ROPE",
          "ROPE",
          "ROPE",
          "ROPE",
          "ROPE",
          "ROPE",
          "ROPE",
          "ROPE",
          "ROPE",
          "ROPE",
          "ATTENTION_COMPUTATION",
          "ATTENTION_COMPUTATION",
          "ATTENTION_COMPUTATION",
          "ATTENTION_COMPUTATION",
          "ATTENTION_COMPUTATION",
          "ATTENTION_COMPUTATION",
          "ATTENTION_COMPUTATION",
          "ATTENTION_COMPUTATION",
          "ATTENTION_COMPUTATION",
          "ATTENTION_COMPUTATION",
          "MATMUL_OUTPUT_ATTENTION",
          "MATMUL_OUTPUT_ATTENTION",
          "MATMUL_OUTPUT_ATTENTION",
          "MATMUL_OUTPUT_ATTENTION",
          "MATMUL_OUTPUT_ATTENTION",
          "MATMUL_OUTPUT_ATTENTION",
          "MATMUL_OUTPUT_ATTENTION",
          "MATMUL_OUTPUT_ATTENTION",
          "MATMUL_OUTPUT_ATTENTION",
          "MATMUL_OUTPUT_ATTENTION",
          "MATMUL_FFN",
          "MATMUL_FFN",
          "MATMUL_FFN",
          "MATMUL_FFN",
          "MATMUL_FFN",
          "MATMUL_FFN",
          "MATMUL_FFN",
          "MATMUL_FFN",
          "MATMUL_FFN",
          "MATMUL_FFN",
          "SwiGLU",
          "SwiGLU",
          "SwiGLU",
          "SwiGLU",
          "SwiGLU",
          "SwiGLU",
          "SwiGLU",
          "SwiGLU",
          "SwiGLU",
          "SwiGLU",
          "MATMUL_OUTPUT_FFN",
          "MATMUL_OUTPUT_FFN",
          "MATMUL_OUTPUT_FFN",
          "MATMUL_OUTPUT_FFN",
          "MATMUL_OUTPUT_FFN",
          "MATMUL_OUTPUT_FFN",
          "MATMUL_OUTPUT_FFN",
          "MATMUL_OUTPUT_FFN",
          "MATMUL_OUTPUT_FFN",
          "MATMUL_OUTPUT_FFN",
          "MATMUL_LOGITS",
          "MATMUL_LOGITS",
          "MATMUL_LOGITS",
          "MATMUL_LOGITS",
          "MATMUL_LOGITS",
          "MATMUL_LOGITS",
          "MATMUL_LOGITS",
          "MATMUL_LOGITS",
          "MATMUL_LOGITS",
          "MATMUL_LOGITS"
         ],
         "x0": " ",
         "xaxis": "x",
         "y": {
          "bdata": "mG4Sg8ASRkAibHh6pbRFQISezarP1UpA1edqK/Y3REA51sVtNJhDQLN78rBQ60RAnu+nxksnRkDtDb4wmaJFQH9qvHSTiEVAEoPAyqHVRUDGbTSAt0CyP6VOQBNhw7M/RPrt68A5sz/n+6nx0k2yP+viNhrAW7A/6Nms+lxttT+pE9BE2PC0P/kx5q4l5LM/TDeJQWDlsD9dbcX+snuyPzLmriXkg+Q/ufyH9NvX5T/KVMGopE7mP+LplbIMceI/qoJRSZ2A4j8PnDOitDfkPxSuR+F6FOY/MLsnDwu15D+30QDeAgniP+LplbIMceI/L90kBoF9TUBEaW/whZlRQFJJnYAm4ktAOpLLf0iHTkCneccpOlpNQHKKjuTy+1BAGXPXEvIRT0CSXP5D+qFQQJLLf0i//UxAgQTFjzGTUED1SlmGOP+DQAu1pnnHQ4VA001iEFgqgUBy+Q/pN9+CQLPqc7UVGoJAVg4tsp1FhkA+eViote+FQMKGp1dKooVAkX77OnCggkBX7C+7p+OFQE5iEFg5NAFAVFInoImw/D+oxks3iUH6P8RCrWnecfc/+n5qvHST9j9QjZduEoP6PxueXinLEPk/mG4Sg8DK9z9N845TdCT0P0vIBz2bVf4/jErqBDTZdEDD0ytlGc91QET67evA629ABaOSOgGoc0AAb4EExQtxQD0K16Nwe3VAuY0G8BYmdUCYTBWMShF2QBIUP8bc9nNAwoanV8q0dkBeukkMAis1QApoImx4CjVA16NwPQoXNUBEi2zn+wk1QEoMAiuH9jRAkX77OnAeNUAB3gIJih81QBfZzvdTIzVA16NwPQoXNUAX2c73UyM1QA==",
          "dtype": "f8"
         },
         "y0": " ",
         "yaxis": "y"
        },
        {
         "alignmentgroup": "True",
         "boxpoints": "all",
         "hovertemplate": "Threads=12 threads<br>Phase=%{x}<br>Time (ms)=%{y}<extra></extra>",
         "legendgroup": "12 threads",
         "marker": {
          "color": "#19d3f3"
         },
         "name": "12 threads",
         "notched": false,
         "offsetgroup": "12 threads",
         "orientation": "v",
         "showlegend": true,
         "type": "box",
         "x": [
          "MATMUL_QKV",
          "MATMUL_QKV",
          "MATMUL_QKV",
          "MATMUL_QKV",
          "MATMUL_QKV",
          "MATMUL_QKV",
          "MATMUL_QKV",
          "MATMUL_QKV",
          "MATMUL_QKV",
          "MATMUL_QKV",
          "MATMUL_QKV",
          "MATMUL_QKV",
          "ROPE",
          "ROPE",
          "ROPE",
          "ROPE",
          "ROPE",
          "ROPE",
          "ROPE",
          "ROPE",
          "ROPE",
          "ROPE",
          "ROPE",
          "ROPE",
          "ATTENTION_COMPUTATION",
          "ATTENTION_COMPUTATION",
          "ATTENTION_COMPUTATION",
          "ATTENTION_COMPUTATION",
          "ATTENTION_COMPUTATION",
          "ATTENTION_COMPUTATION",
          "ATTENTION_COMPUTATION",
          "ATTENTION_COMPUTATION",
          "ATTENTION_COMPUTATION",
          "ATTENTION_COMPUTATION",
          "ATTENTION_COMPUTATION",
          "ATTENTION_COMPUTATION",
          "MATMUL_OUTPUT_ATTENTION",
          "MATMUL_OUTPUT_ATTENTION",
          "MATMUL_OUTPUT_ATTENTION",
          "MATMUL_OUTPUT_ATTENTION",
          "MATMUL_OUTPUT_ATTENTION",
          "MATMUL_OUTPUT_ATTENTION",
          "MATMUL_OUTPUT_ATTENTION",
          "MATMUL_OUTPUT_ATTENTION",
          "MATMUL_OUTPUT_ATTENTION",
          "MATMUL_OUTPUT_ATTENTION",
          "MATMUL_OUTPUT_ATTENTION",
          "MATMUL_OUTPUT_ATTENTION",
          "MATMUL_FFN",
          "MATMUL_FFN",
          "MATMUL_FFN",
          "MATMUL_FFN",
          "MATMUL_FFN",
          "MATMUL_FFN",
          "MATMUL_FFN",
          "MATMUL_FFN",
          "MATMUL_FFN",
          "MATMUL_FFN",
          "MATMUL_FFN",
          "MATMUL_FFN",
          "SwiGLU",
          "SwiGLU",
          "SwiGLU",
          "SwiGLU",
          "SwiGLU",
          "SwiGLU",
          "SwiGLU",
          "SwiGLU",
          "SwiGLU",
          "SwiGLU",
          "SwiGLU",
          "SwiGLU",
          "MATMUL_OUTPUT_FFN",
          "MATMUL_OUTPUT_FFN",
          "MATMUL_OUTPUT_FFN",
          "MATMUL_OUTPUT_FFN",
          "MATMUL_OUTPUT_FFN",
          "MATMUL_OUTPUT_FFN",
          "MATMUL_OUTPUT_FFN",
          "MATMUL_OUTPUT_FFN",
          "MATMUL_OUTPUT_FFN",
          "MATMUL_OUTPUT_FFN",
          "MATMUL_OUTPUT_FFN",
          "MATMUL_OUTPUT_FFN",
          "MATMUL_LOGITS",
          "MATMUL_LOGITS",
          "MATMUL_LOGITS",
          "MATMUL_LOGITS",
          "MATMUL_LOGITS",
          "MATMUL_LOGITS",
          "MATMUL_LOGITS",
          "MATMUL_LOGITS",
          "MATMUL_LOGITS",
          "MATMUL_LOGITS",
          "MATMUL_LOGITS",
          "MATMUL_LOGITS"
         ],
         "x0": " ",
         "xaxis": "x",
         "y": {
          "bdata": "rrZif9mdRUCdgCbChqdDQNiBc0aUvkJApHA9CtcLREA+6Nms+uxDQPLSTWIQmERAEoPAyqH1REBQ/Bhz18JIQD2bVZ+rHUhAukkMAiuPQ0DzH9JvX7dEQPLSTWIQwENA3+ALk6mCsT8JG55eKcuwPxUdyeU/pK8/M8SxLm6jsT9hMlUwKqmzP9/gC5OpgrE/2qz6XG3Frj8rhxbZzvezP36MuWsJ+bA/TDeJQWDlsD8RNjy9UpaxPyJseHqlLLM/QYLix5i74D9R2ht8YTLhP6JFtvP91OA/dEaU9gZf4j9Q/Bhz1xLiP+cdp+hILuE/g1FJnYAm4D+h+DHmriXoP9c07zhFR+Q/x7q4jQbw4j+srdhfdk/kP/T91HjpJuE/8rBQa5rnTEC6SQwCK29LQJVliGNd/EtAY+5aQj5IT0CWsgxxrGtPQLN78rBQa01AfdCzWfUFUEDAWyBB8a9QQLN78rBQb1FA2ht8YTJ1T0BGlPYGX/BNQJSHhVrTrExAQKTfvo5Ig0Dx9EpZBquDQGEyVTAqCYJA+aBns2rZg0CneccpOqCDQCnLEMc6KIJAQxzr4rbEgkCaCBue3siBQE5iEFg5JYJAy6FFtvMJgkAW+8vuyQeEQFuxv+yeYINA8WPMXUvI9T+srdhfdk/5P7dif9k9efU/bAn5oGez9z/ByqFFtvP4P+oENBE2PPY/46WbxCCw+D+oxks3iUH1P/yp8dJNYvY/aJHtfD+1BEDIBz2bVZ/6PyGwcmiR7fQ/kst/SL+Cc0CQMXctIelzQP7UeOkmcnJAYHZPHhbXc0DM7snDQiRzQLpJDAIr53JAnDOitDf1ckCh+DHmruFxQNk9eViorXJAAiuHFtm1ckAf9GxWfdFzQPmgZ7PqQXNAgSbChqfnM0CLbOf7qfEzQDPEsS5u0zNA8WPMXUv4M0DFILByaPEzQIEmwoan5zNAgZVDi2zHMkDhehSuRwE0QJzEILBy6DNA9+RhodZkMEDxY8xdS/gzQIC3QILi5zNA",
          "dtype": "f8"
         },
         "y0": " ",
         "yaxis": "y"
        }
       ],
       "layout": {
        "boxmode": "group",
        "legend": {
         "title": {
          "text": "Threads"
         },
         "tracegroupgap": 0
        },
        "template": {
         "data": {
          "bar": [
           {
            "error_x": {
             "color": "#2a3f5f"
            },
            "error_y": {
             "color": "#2a3f5f"
            },
            "marker": {
             "line": {
              "color": "#E5ECF6",
              "width": 0.5
             },
             "pattern": {
              "fillmode": "overlay",
              "size": 10,
              "solidity": 0.2
             }
            },
            "type": "bar"
           }
          ],
          "barpolar": [
           {
            "marker": {
             "line": {
              "color": "#E5ECF6",
              "width": 0.5
             },
             "pattern": {
              "fillmode": "overlay",
              "size": 10,
              "solidity": 0.2
             }
            },
            "type": "barpolar"
           }
          ],
          "carpet": [
           {
            "aaxis": {
             "endlinecolor": "#2a3f5f",
             "gridcolor": "white",
             "linecolor": "white",
             "minorgridcolor": "white",
             "startlinecolor": "#2a3f5f"
            },
            "baxis": {
             "endlinecolor": "#2a3f5f",
             "gridcolor": "white",
             "linecolor": "white",
             "minorgridcolor": "white",
             "startlinecolor": "#2a3f5f"
            },
            "type": "carpet"
           }
          ],
          "choropleth": [
           {
            "colorbar": {
             "outlinewidth": 0,
             "ticks": ""
            },
            "type": "choropleth"
           }
          ],
          "contour": [
           {
            "colorbar": {
             "outlinewidth": 0,
             "ticks": ""
            },
            "colorscale": [
             [
              0,
              "#0d0887"
             ],
             [
              0.1111111111111111,
              "#46039f"
             ],
             [
              0.2222222222222222,
              "#7201a8"
             ],
             [
              0.3333333333333333,
              "#9c179e"
             ],
             [
              0.4444444444444444,
              "#bd3786"
             ],
             [
              0.5555555555555556,
              "#d8576b"
             ],
             [
              0.6666666666666666,
              "#ed7953"
             ],
             [
              0.7777777777777778,
              "#fb9f3a"
             ],
             [
              0.8888888888888888,
              "#fdca26"
             ],
             [
              1,
              "#f0f921"
             ]
            ],
            "type": "contour"
           }
          ],
          "contourcarpet": [
           {
            "colorbar": {
             "outlinewidth": 0,
             "ticks": ""
            },
            "type": "contourcarpet"
           }
          ],
          "heatmap": [
           {
            "colorbar": {
             "outlinewidth": 0,
             "ticks": ""
            },
            "colorscale": [
             [
              0,
              "#0d0887"
             ],
             [
              0.1111111111111111,
              "#46039f"
             ],
             [
              0.2222222222222222,
              "#7201a8"
             ],
             [
              0.3333333333333333,
              "#9c179e"
             ],
             [
              0.4444444444444444,
              "#bd3786"
             ],
             [
              0.5555555555555556,
              "#d8576b"
             ],
             [
              0.6666666666666666,
              "#ed7953"
             ],
             [
              0.7777777777777778,
              "#fb9f3a"
             ],
             [
              0.8888888888888888,
              "#fdca26"
             ],
             [
              1,
              "#f0f921"
             ]
            ],
            "type": "heatmap"
           }
          ],
          "histogram": [
           {
            "marker": {
             "pattern": {
              "fillmode": "overlay",
              "size": 10,
              "solidity": 0.2
             }
            },
            "type": "histogram"
           }
          ],
          "histogram2d": [
           {
            "colorbar": {
             "outlinewidth": 0,
             "ticks": ""
            },
            "colorscale": [
             [
              0,
              "#0d0887"
             ],
             [
              0.1111111111111111,
              "#46039f"
             ],
             [
              0.2222222222222222,
              "#7201a8"
             ],
             [
              0.3333333333333333,
              "#9c179e"
             ],
             [
              0.4444444444444444,
              "#bd3786"
             ],
             [
              0.5555555555555556,
              "#d8576b"
             ],
             [
              0.6666666666666666,
              "#ed7953"
             ],
             [
              0.7777777777777778,
              "#fb9f3a"
             ],
             [
              0.8888888888888888,
              "#fdca26"
             ],
             [
              1,
              "#f0f921"
             ]
            ],
            "type": "histogram2d"
           }
          ],
          "histogram2dcontour": [
           {
            "colorbar": {
             "outlinewidth": 0,
             "ticks": ""
            },
            "colorscale": [
             [
              0,
              "#0d0887"
             ],
             [
              0.1111111111111111,
              "#46039f"
             ],
             [
              0.2222222222222222,
              "#7201a8"
             ],
             [
              0.3333333333333333,
              "#9c179e"
             ],
             [
              0.4444444444444444,
              "#bd3786"
             ],
             [
              0.5555555555555556,
              "#d8576b"
             ],
             [
              0.6666666666666666,
              "#ed7953"
             ],
             [
              0.7777777777777778,
              "#fb9f3a"
             ],
             [
              0.8888888888888888,
              "#fdca26"
             ],
             [
              1,
              "#f0f921"
             ]
            ],
            "type": "histogram2dcontour"
           }
          ],
          "mesh3d": [
           {
            "colorbar": {
             "outlinewidth": 0,
             "ticks": ""
            },
            "type": "mesh3d"
           }
          ],
          "parcoords": [
           {
            "line": {
             "colorbar": {
              "outlinewidth": 0,
              "ticks": ""
             }
            },
            "type": "parcoords"
           }
          ],
          "pie": [
           {
            "automargin": true,
            "type": "pie"
           }
          ],
          "scatter": [
           {
            "fillpattern": {
             "fillmode": "overlay",
             "size": 10,
             "solidity": 0.2
            },
            "type": "scatter"
           }
          ],
          "scatter3d": [
           {
            "line": {
             "colorbar": {
              "outlinewidth": 0,
              "ticks": ""
             }
            },
            "marker": {
             "colorbar": {
              "outlinewidth": 0,
              "ticks": ""
             }
            },
            "type": "scatter3d"
           }
          ],
          "scattercarpet": [
           {
            "marker": {
             "colorbar": {
              "outlinewidth": 0,
              "ticks": ""
             }
            },
            "type": "scattercarpet"
           }
          ],
          "scattergeo": [
           {
            "marker": {
             "colorbar": {
              "outlinewidth": 0,
              "ticks": ""
             }
            },
            "type": "scattergeo"
           }
          ],
          "scattergl": [
           {
            "marker": {
             "colorbar": {
              "outlinewidth": 0,
              "ticks": ""
             }
            },
            "type": "scattergl"
           }
          ],
          "scattermap": [
           {
            "marker": {
             "colorbar": {
              "outlinewidth": 0,
              "ticks": ""
             }
            },
            "type": "scattermap"
           }
          ],
          "scattermapbox": [
           {
            "marker": {
             "colorbar": {
              "outlinewidth": 0,
              "ticks": ""
             }
            },
            "type": "scattermapbox"
           }
          ],
          "scatterpolar": [
           {
            "marker": {
             "colorbar": {
              "outlinewidth": 0,
              "ticks": ""
             }
            },
            "type": "scatterpolar"
           }
          ],
          "scatterpolargl": [
           {
            "marker": {
             "colorbar": {
              "outlinewidth": 0,
              "ticks": ""
             }
            },
            "type": "scatterpolargl"
           }
          ],
          "scatterternary": [
           {
            "marker": {
             "colorbar": {
              "outlinewidth": 0,
              "ticks": ""
             }
            },
            "type": "scatterternary"
           }
          ],
          "surface": [
           {
            "colorbar": {
             "outlinewidth": 0,
             "ticks": ""
            },
            "colorscale": [
             [
              0,
              "#0d0887"
             ],
             [
              0.1111111111111111,
              "#46039f"
             ],
             [
              0.2222222222222222,
              "#7201a8"
             ],
             [
              0.3333333333333333,
              "#9c179e"
             ],
             [
              0.4444444444444444,
              "#bd3786"
             ],
             [
              0.5555555555555556,
              "#d8576b"
             ],
             [
              0.6666666666666666,
              "#ed7953"
             ],
             [
              0.7777777777777778,
              "#fb9f3a"
             ],
             [
              0.8888888888888888,
              "#fdca26"
             ],
             [
              1,
              "#f0f921"
             ]
            ],
            "type": "surface"
           }
          ],
          "table": [
           {
            "cells": {
             "fill": {
              "color": "#EBF0F8"
             },
             "line": {
              "color": "white"
             }
            },
            "header": {
             "fill": {
              "color": "#C8D4E3"
             },
             "line": {
              "color": "white"
             }
            },
            "type": "table"
           }
          ]
         },
         "layout": {
          "annotationdefaults": {
           "arrowcolor": "#2a3f5f",
           "arrowhead": 0,
           "arrowwidth": 1
          },
          "autotypenumbers": "strict",
          "coloraxis": {
           "colorbar": {
            "outlinewidth": 0,
            "ticks": ""
           }
          },
          "colorscale": {
           "diverging": [
            [
             0,
             "#8e0152"
            ],
            [
             0.1,
             "#c51b7d"
            ],
            [
             0.2,
             "#de77ae"
            ],
            [
             0.3,
             "#f1b6da"
            ],
            [
             0.4,
             "#fde0ef"
            ],
            [
             0.5,
             "#f7f7f7"
            ],
            [
             0.6,
             "#e6f5d0"
            ],
            [
             0.7,
             "#b8e186"
            ],
            [
             0.8,
             "#7fbc41"
            ],
            [
             0.9,
             "#4d9221"
            ],
            [
             1,
             "#276419"
            ]
           ],
           "sequential": [
            [
             0,
             "#0d0887"
            ],
            [
             0.1111111111111111,
             "#46039f"
            ],
            [
             0.2222222222222222,
             "#7201a8"
            ],
            [
             0.3333333333333333,
             "#9c179e"
            ],
            [
             0.4444444444444444,
             "#bd3786"
            ],
            [
             0.5555555555555556,
             "#d8576b"
            ],
            [
             0.6666666666666666,
             "#ed7953"
            ],
            [
             0.7777777777777778,
             "#fb9f3a"
            ],
            [
             0.8888888888888888,
             "#fdca26"
            ],
            [
             1,
             "#f0f921"
            ]
           ],
           "sequentialminus": [
            [
             0,
             "#0d0887"
            ],
            [
             0.1111111111111111,
             "#46039f"
            ],
            [
             0.2222222222222222,
             "#7201a8"
            ],
            [
             0.3333333333333333,
             "#9c179e"
            ],
            [
             0.4444444444444444,
             "#bd3786"
            ],
            [
             0.5555555555555556,
             "#d8576b"
            ],
            [
             0.6666666666666666,
             "#ed7953"
            ],
            [
             0.7777777777777778,
             "#fb9f3a"
            ],
            [
             0.8888888888888888,
             "#fdca26"
            ],
            [
             1,
             "#f0f921"
            ]
           ]
          },
          "colorway": [
           "#636efa",
           "#EF553B",
           "#00cc96",
           "#ab63fa",
           "#FFA15A",
           "#19d3f3",
           "#FF6692",
           "#B6E880",
           "#FF97FF",
           "#FECB52"
          ],
          "font": {
           "color": "#2a3f5f"
          },
          "geo": {
           "bgcolor": "white",
           "lakecolor": "white",
           "landcolor": "#E5ECF6",
           "showlakes": true,
           "showland": true,
           "subunitcolor": "white"
          },
          "hoverlabel": {
           "align": "left"
          },
          "hovermode": "closest",
          "mapbox": {
           "style": "light"
          },
          "paper_bgcolor": "white",
          "plot_bgcolor": "#E5ECF6",
          "polar": {
           "angularaxis": {
            "gridcolor": "white",
            "linecolor": "white",
            "ticks": ""
           },
           "bgcolor": "#E5ECF6",
           "radialaxis": {
            "gridcolor": "white",
            "linecolor": "white",
            "ticks": ""
           }
          },
          "scene": {
           "xaxis": {
            "backgroundcolor": "#E5ECF6",
            "gridcolor": "white",
            "gridwidth": 2,
            "linecolor": "white",
            "showbackground": true,
            "ticks": "",
            "zerolinecolor": "white"
           },
           "yaxis": {
            "backgroundcolor": "#E5ECF6",
            "gridcolor": "white",
            "gridwidth": 2,
            "linecolor": "white",
            "showbackground": true,
            "ticks": "",
            "zerolinecolor": "white"
           },
           "zaxis": {
            "backgroundcolor": "#E5ECF6",
            "gridcolor": "white",
            "gridwidth": 2,
            "linecolor": "white",
            "showbackground": true,
            "ticks": "",
            "zerolinecolor": "white"
           }
          },
          "shapedefaults": {
           "line": {
            "color": "#2a3f5f"
           }
          },
          "ternary": {
           "aaxis": {
            "gridcolor": "white",
            "linecolor": "white",
            "ticks": ""
           },
           "baxis": {
            "gridcolor": "white",
            "linecolor": "white",
            "ticks": ""
           },
           "bgcolor": "#E5ECF6",
           "caxis": {
            "gridcolor": "white",
            "linecolor": "white",
            "ticks": ""
           }
          },
          "title": {
           "x": 0.05
          },
          "xaxis": {
           "automargin": true,
           "gridcolor": "white",
           "linecolor": "white",
           "ticks": "",
           "title": {
            "standoff": 15
           },
           "zerolinecolor": "white",
           "zerolinewidth": 2
          },
          "yaxis": {
           "automargin": true,
           "gridcolor": "white",
           "linecolor": "white",
           "ticks": "",
           "title": {
            "standoff": 15
           },
           "zerolinecolor": "white",
           "zerolinewidth": 2
          }
         }
        },
        "title": {
         "text": "Prompt Processing Time per Phase"
        },
        "xaxis": {
         "anchor": "y",
         "domain": [
          0,
          1
         ],
         "title": {
          "text": "Phase"
         }
        },
        "yaxis": {
         "anchor": "x",
         "domain": [
          0,
          1
         ],
         "title": {
          "text": "Time (ms)"
         }
        }
       }
      }
     },
     "metadata": {},
     "output_type": "display_data"
    }
   ],
   "source": [
    "import json, pandas as pd, plotly.express as px\n",
    "\n",
    "with open(file) as f:\n",
    "    parsed = [json.loads(x) for x in f.read().split(\"\\n---\\n\") if x.strip()]\n",
    "\n",
    "data = []\n",
    "for entry in parsed:\n",
    "    t = int(entry[\"JSON_1_COMPT\"][\"NUM_THREADS\"])\n",
    "    for phase, matrix in entry[\"JSON_3\"].items():\n",
    "        for i in range(t):\n",
    "            val = matrix[i][0]\n",
    "            data.append({\"Phase\": phase, \"Time (ms)\": val, \"Threads\": f\"{t} threads\"})\n",
    "\n",
    "df = pd.DataFrame(data)\n",
    "fig = px.box(df, x=\"Phase\", y=\"Time (ms)\", color=\"Threads\", points=\"all\", title=\"Prompt Processing Time per Phase\")\n",
    "fig.show()\n"
   ]
  },
  {
   "cell_type": "code",
   "execution_count": 34,
   "id": "3ea66e44",
   "metadata": {},
   "outputs": [
    {
     "data": {
      "application/vnd.plotly.v1+json": {
       "config": {
        "plotlyServerURL": "https://plot.ly"
       },
       "data": [
        {
         "hovertemplate": "Phase=MATMUL_QKV<br>Threads=%{x}<br>Speedup=%{y}<extra></extra>",
         "legendgroup": "MATMUL_QKV",
         "line": {
          "color": "#636efa",
          "dash": "solid"
         },
         "marker": {
          "symbol": "circle"
         },
         "mode": "lines+markers",
         "name": "MATMUL_QKV",
         "orientation": "v",
         "showlegend": true,
         "type": "scatter",
         "x": {
          "bdata": "AQIECAoM",
          "dtype": "i1"
         },
         "xaxis": "x",
         "y": {
          "bdata": "AAAAAAAA8D+RWLkB6rD/Pw8yQKM1swRAyRXG7qsnEkAmHDQN+O0TQEJ/BHGK3RRA",
          "dtype": "f8"
         },
         "yaxis": "y"
        },
        {
         "hovertemplate": "Phase=ROPE<br>Threads=%{x}<br>Speedup=%{y}<extra></extra>",
         "legendgroup": "ROPE",
         "line": {
          "color": "#EF553B",
          "dash": "solid"
         },
         "marker": {
          "symbol": "circle"
         },
         "mode": "lines+markers",
         "name": "ROPE",
         "orientation": "v",
         "showlegend": true,
         "type": "scatter",
         "x": {
          "bdata": "AQIECAoM",
          "dtype": "i1"
         },
         "xaxis": "x",
         "y": {
          "bdata": "AAAAAAAA8D9xhY8UV/gAQM9AIk2y8AlAgDV93cyUFECCYc1p2dQVQDaEb/XrihdA",
          "dtype": "f8"
         },
         "yaxis": "y"
        },
        {
         "hovertemplate": "Phase=ATTENTION_COMPUTATION<br>Threads=%{x}<br>Speedup=%{y}<extra></extra>",
         "legendgroup": "ATTENTION_COMPUTATION",
         "line": {
          "color": "#00cc96",
          "dash": "solid"
         },
         "marker": {
          "symbol": "circle"
         },
         "mode": "lines+markers",
         "name": "ATTENTION_COMPUTATION",
         "orientation": "v",
         "showlegend": true,
         "type": "scatter",
         "x": {
          "bdata": "AQIECAoM",
          "dtype": "i1"
         },
         "xaxis": "x",
         "y": {
          "bdata": "AAAAAAAA8D/paUdLH7z+P5NlQXer+gZARD24SBk+E0DUlzoZh90VQEH6LZnm1RdA",
          "dtype": "f8"
         },
         "yaxis": "y"
        },
        {
         "hovertemplate": "Phase=MATMUL_OUTPUT_ATTENTION<br>Threads=%{x}<br>Speedup=%{y}<extra></extra>",
         "legendgroup": "MATMUL_OUTPUT_ATTENTION",
         "line": {
          "color": "#ab63fa",
          "dash": "solid"
         },
         "marker": {
          "symbol": "circle"
         },
         "mode": "lines+markers",
         "name": "MATMUL_OUTPUT_ATTENTION",
         "orientation": "v",
         "showlegend": true,
         "type": "scatter",
         "x": {
          "bdata": "AQIECAoM",
          "dtype": "i1"
         },
         "xaxis": "x",
         "y": {
          "bdata": "AAAAAAAA8D94moH1E44AQIvZ82PCLAlARsKVMJYYE0B2HgYDMFcUQOglzxZC0hRA",
          "dtype": "f8"
         },
         "yaxis": "y"
        },
        {
         "hovertemplate": "Phase=MATMUL_FFN<br>Threads=%{x}<br>Speedup=%{y}<extra></extra>",
         "legendgroup": "MATMUL_FFN",
         "line": {
          "color": "#FFA15A",
          "dash": "solid"
         },
         "marker": {
          "symbol": "circle"
         },
         "mode": "lines+markers",
         "name": "MATMUL_FFN",
         "orientation": "v",
         "showlegend": true,
         "type": "scatter",
         "x": {
          "bdata": "AQIECAoM",
          "dtype": "i1"
         },
         "xaxis": "x",
         "y": {
          "bdata": "AAAAAAAA8D8iqCragD34PzCBZfG/FAJAsIXYiA0OCUDNJ7aOMSwLQFrgnbHzAg1A",
          "dtype": "f8"
         },
         "yaxis": "y"
        },
        {
         "hovertemplate": "Phase=SwiGLU<br>Threads=%{x}<br>Speedup=%{y}<extra></extra>",
         "legendgroup": "SwiGLU",
         "line": {
          "color": "#19d3f3",
          "dash": "solid"
         },
         "marker": {
          "symbol": "circle"
         },
         "mode": "lines+markers",
         "name": "SwiGLU",
         "orientation": "v",
         "showlegend": true,
         "type": "scatter",
         "x": {
          "bdata": "AQIECAoM",
          "dtype": "i1"
         },
         "xaxis": "x",
         "y": {
          "bdata": "AAAAAAAA8D+ijHWiPhQAQMq3Ju9uww5A/Ery1+k3F0AeFhjByZwXQIWGrBBM8RhA",
          "dtype": "f8"
         },
         "yaxis": "y"
        },
        {
         "hovertemplate": "Phase=MATMUL_OUTPUT_FFN<br>Threads=%{x}<br>Speedup=%{y}<extra></extra>",
         "legendgroup": "MATMUL_OUTPUT_FFN",
         "line": {
          "color": "#FF6692",
          "dash": "solid"
         },
         "marker": {
          "symbol": "circle"
         },
         "mode": "lines+markers",
         "name": "MATMUL_OUTPUT_FFN",
         "orientation": "v",
         "showlegend": true,
         "type": "scatter",
         "x": {
          "bdata": "AQIECAoM",
          "dtype": "i1"
         },
         "xaxis": "x",
         "y": {
          "bdata": "AAAAAAAA8D/8qJRDRHf3P5Yjkn19HAFA+ncTsbT/BkBDrmD58H8KQK7ZuASkIwxA",
          "dtype": "f8"
         },
         "yaxis": "y"
        },
        {
         "hovertemplate": "Phase=MATMUL_LOGITS<br>Threads=%{x}<br>Speedup=%{y}<extra></extra>",
         "legendgroup": "MATMUL_LOGITS",
         "line": {
          "color": "#B6E880",
          "dash": "solid"
         },
         "marker": {
          "symbol": "circle"
         },
         "mode": "lines+markers",
         "name": "MATMUL_LOGITS",
         "orientation": "v",
         "showlegend": true,
         "type": "scatter",
         "x": {
          "bdata": "AQIECAoM",
          "dtype": "i1"
         },
         "xaxis": "x",
         "y": {
          "bdata": "AAAAAAAA8D8Z7UWdSCj3P6jzujgvp/c/llJnYixb/D9OTBr2oX4AQGWk3GlJzgFA",
          "dtype": "f8"
         },
         "yaxis": "y"
        }
       ],
       "layout": {
        "legend": {
         "title": {
          "text": "Phase"
         },
         "tracegroupgap": 0
        },
        "template": {
         "data": {
          "bar": [
           {
            "error_x": {
             "color": "#2a3f5f"
            },
            "error_y": {
             "color": "#2a3f5f"
            },
            "marker": {
             "line": {
              "color": "#E5ECF6",
              "width": 0.5
             },
             "pattern": {
              "fillmode": "overlay",
              "size": 10,
              "solidity": 0.2
             }
            },
            "type": "bar"
           }
          ],
          "barpolar": [
           {
            "marker": {
             "line": {
              "color": "#E5ECF6",
              "width": 0.5
             },
             "pattern": {
              "fillmode": "overlay",
              "size": 10,
              "solidity": 0.2
             }
            },
            "type": "barpolar"
           }
          ],
          "carpet": [
           {
            "aaxis": {
             "endlinecolor": "#2a3f5f",
             "gridcolor": "white",
             "linecolor": "white",
             "minorgridcolor": "white",
             "startlinecolor": "#2a3f5f"
            },
            "baxis": {
             "endlinecolor": "#2a3f5f",
             "gridcolor": "white",
             "linecolor": "white",
             "minorgridcolor": "white",
             "startlinecolor": "#2a3f5f"
            },
            "type": "carpet"
           }
          ],
          "choropleth": [
           {
            "colorbar": {
             "outlinewidth": 0,
             "ticks": ""
            },
            "type": "choropleth"
           }
          ],
          "contour": [
           {
            "colorbar": {
             "outlinewidth": 0,
             "ticks": ""
            },
            "colorscale": [
             [
              0,
              "#0d0887"
             ],
             [
              0.1111111111111111,
              "#46039f"
             ],
             [
              0.2222222222222222,
              "#7201a8"
             ],
             [
              0.3333333333333333,
              "#9c179e"
             ],
             [
              0.4444444444444444,
              "#bd3786"
             ],
             [
              0.5555555555555556,
              "#d8576b"
             ],
             [
              0.6666666666666666,
              "#ed7953"
             ],
             [
              0.7777777777777778,
              "#fb9f3a"
             ],
             [
              0.8888888888888888,
              "#fdca26"
             ],
             [
              1,
              "#f0f921"
             ]
            ],
            "type": "contour"
           }
          ],
          "contourcarpet": [
           {
            "colorbar": {
             "outlinewidth": 0,
             "ticks": ""
            },
            "type": "contourcarpet"
           }
          ],
          "heatmap": [
           {
            "colorbar": {
             "outlinewidth": 0,
             "ticks": ""
            },
            "colorscale": [
             [
              0,
              "#0d0887"
             ],
             [
              0.1111111111111111,
              "#46039f"
             ],
             [
              0.2222222222222222,
              "#7201a8"
             ],
             [
              0.3333333333333333,
              "#9c179e"
             ],
             [
              0.4444444444444444,
              "#bd3786"
             ],
             [
              0.5555555555555556,
              "#d8576b"
             ],
             [
              0.6666666666666666,
              "#ed7953"
             ],
             [
              0.7777777777777778,
              "#fb9f3a"
             ],
             [
              0.8888888888888888,
              "#fdca26"
             ],
             [
              1,
              "#f0f921"
             ]
            ],
            "type": "heatmap"
           }
          ],
          "histogram": [
           {
            "marker": {
             "pattern": {
              "fillmode": "overlay",
              "size": 10,
              "solidity": 0.2
             }
            },
            "type": "histogram"
           }
          ],
          "histogram2d": [
           {
            "colorbar": {
             "outlinewidth": 0,
             "ticks": ""
            },
            "colorscale": [
             [
              0,
              "#0d0887"
             ],
             [
              0.1111111111111111,
              "#46039f"
             ],
             [
              0.2222222222222222,
              "#7201a8"
             ],
             [
              0.3333333333333333,
              "#9c179e"
             ],
             [
              0.4444444444444444,
              "#bd3786"
             ],
             [
              0.5555555555555556,
              "#d8576b"
             ],
             [
              0.6666666666666666,
              "#ed7953"
             ],
             [
              0.7777777777777778,
              "#fb9f3a"
             ],
             [
              0.8888888888888888,
              "#fdca26"
             ],
             [
              1,
              "#f0f921"
             ]
            ],
            "type": "histogram2d"
           }
          ],
          "histogram2dcontour": [
           {
            "colorbar": {
             "outlinewidth": 0,
             "ticks": ""
            },
            "colorscale": [
             [
              0,
              "#0d0887"
             ],
             [
              0.1111111111111111,
              "#46039f"
             ],
             [
              0.2222222222222222,
              "#7201a8"
             ],
             [
              0.3333333333333333,
              "#9c179e"
             ],
             [
              0.4444444444444444,
              "#bd3786"
             ],
             [
              0.5555555555555556,
              "#d8576b"
             ],
             [
              0.6666666666666666,
              "#ed7953"
             ],
             [
              0.7777777777777778,
              "#fb9f3a"
             ],
             [
              0.8888888888888888,
              "#fdca26"
             ],
             [
              1,
              "#f0f921"
             ]
            ],
            "type": "histogram2dcontour"
           }
          ],
          "mesh3d": [
           {
            "colorbar": {
             "outlinewidth": 0,
             "ticks": ""
            },
            "type": "mesh3d"
           }
          ],
          "parcoords": [
           {
            "line": {
             "colorbar": {
              "outlinewidth": 0,
              "ticks": ""
             }
            },
            "type": "parcoords"
           }
          ],
          "pie": [
           {
            "automargin": true,
            "type": "pie"
           }
          ],
          "scatter": [
           {
            "fillpattern": {
             "fillmode": "overlay",
             "size": 10,
             "solidity": 0.2
            },
            "type": "scatter"
           }
          ],
          "scatter3d": [
           {
            "line": {
             "colorbar": {
              "outlinewidth": 0,
              "ticks": ""
             }
            },
            "marker": {
             "colorbar": {
              "outlinewidth": 0,
              "ticks": ""
             }
            },
            "type": "scatter3d"
           }
          ],
          "scattercarpet": [
           {
            "marker": {
             "colorbar": {
              "outlinewidth": 0,
              "ticks": ""
             }
            },
            "type": "scattercarpet"
           }
          ],
          "scattergeo": [
           {
            "marker": {
             "colorbar": {
              "outlinewidth": 0,
              "ticks": ""
             }
            },
            "type": "scattergeo"
           }
          ],
          "scattergl": [
           {
            "marker": {
             "colorbar": {
              "outlinewidth": 0,
              "ticks": ""
             }
            },
            "type": "scattergl"
           }
          ],
          "scattermap": [
           {
            "marker": {
             "colorbar": {
              "outlinewidth": 0,
              "ticks": ""
             }
            },
            "type": "scattermap"
           }
          ],
          "scattermapbox": [
           {
            "marker": {
             "colorbar": {
              "outlinewidth": 0,
              "ticks": ""
             }
            },
            "type": "scattermapbox"
           }
          ],
          "scatterpolar": [
           {
            "marker": {
             "colorbar": {
              "outlinewidth": 0,
              "ticks": ""
             }
            },
            "type": "scatterpolar"
           }
          ],
          "scatterpolargl": [
           {
            "marker": {
             "colorbar": {
              "outlinewidth": 0,
              "ticks": ""
             }
            },
            "type": "scatterpolargl"
           }
          ],
          "scatterternary": [
           {
            "marker": {
             "colorbar": {
              "outlinewidth": 0,
              "ticks": ""
             }
            },
            "type": "scatterternary"
           }
          ],
          "surface": [
           {
            "colorbar": {
             "outlinewidth": 0,
             "ticks": ""
            },
            "colorscale": [
             [
              0,
              "#0d0887"
             ],
             [
              0.1111111111111111,
              "#46039f"
             ],
             [
              0.2222222222222222,
              "#7201a8"
             ],
             [
              0.3333333333333333,
              "#9c179e"
             ],
             [
              0.4444444444444444,
              "#bd3786"
             ],
             [
              0.5555555555555556,
              "#d8576b"
             ],
             [
              0.6666666666666666,
              "#ed7953"
             ],
             [
              0.7777777777777778,
              "#fb9f3a"
             ],
             [
              0.8888888888888888,
              "#fdca26"
             ],
             [
              1,
              "#f0f921"
             ]
            ],
            "type": "surface"
           }
          ],
          "table": [
           {
            "cells": {
             "fill": {
              "color": "#EBF0F8"
             },
             "line": {
              "color": "white"
             }
            },
            "header": {
             "fill": {
              "color": "#C8D4E3"
             },
             "line": {
              "color": "white"
             }
            },
            "type": "table"
           }
          ]
         },
         "layout": {
          "annotationdefaults": {
           "arrowcolor": "#2a3f5f",
           "arrowhead": 0,
           "arrowwidth": 1
          },
          "autotypenumbers": "strict",
          "coloraxis": {
           "colorbar": {
            "outlinewidth": 0,
            "ticks": ""
           }
          },
          "colorscale": {
           "diverging": [
            [
             0,
             "#8e0152"
            ],
            [
             0.1,
             "#c51b7d"
            ],
            [
             0.2,
             "#de77ae"
            ],
            [
             0.3,
             "#f1b6da"
            ],
            [
             0.4,
             "#fde0ef"
            ],
            [
             0.5,
             "#f7f7f7"
            ],
            [
             0.6,
             "#e6f5d0"
            ],
            [
             0.7,
             "#b8e186"
            ],
            [
             0.8,
             "#7fbc41"
            ],
            [
             0.9,
             "#4d9221"
            ],
            [
             1,
             "#276419"
            ]
           ],
           "sequential": [
            [
             0,
             "#0d0887"
            ],
            [
             0.1111111111111111,
             "#46039f"
            ],
            [
             0.2222222222222222,
             "#7201a8"
            ],
            [
             0.3333333333333333,
             "#9c179e"
            ],
            [
             0.4444444444444444,
             "#bd3786"
            ],
            [
             0.5555555555555556,
             "#d8576b"
            ],
            [
             0.6666666666666666,
             "#ed7953"
            ],
            [
             0.7777777777777778,
             "#fb9f3a"
            ],
            [
             0.8888888888888888,
             "#fdca26"
            ],
            [
             1,
             "#f0f921"
            ]
           ],
           "sequentialminus": [
            [
             0,
             "#0d0887"
            ],
            [
             0.1111111111111111,
             "#46039f"
            ],
            [
             0.2222222222222222,
             "#7201a8"
            ],
            [
             0.3333333333333333,
             "#9c179e"
            ],
            [
             0.4444444444444444,
             "#bd3786"
            ],
            [
             0.5555555555555556,
             "#d8576b"
            ],
            [
             0.6666666666666666,
             "#ed7953"
            ],
            [
             0.7777777777777778,
             "#fb9f3a"
            ],
            [
             0.8888888888888888,
             "#fdca26"
            ],
            [
             1,
             "#f0f921"
            ]
           ]
          },
          "colorway": [
           "#636efa",
           "#EF553B",
           "#00cc96",
           "#ab63fa",
           "#FFA15A",
           "#19d3f3",
           "#FF6692",
           "#B6E880",
           "#FF97FF",
           "#FECB52"
          ],
          "font": {
           "color": "#2a3f5f"
          },
          "geo": {
           "bgcolor": "white",
           "lakecolor": "white",
           "landcolor": "#E5ECF6",
           "showlakes": true,
           "showland": true,
           "subunitcolor": "white"
          },
          "hoverlabel": {
           "align": "left"
          },
          "hovermode": "closest",
          "mapbox": {
           "style": "light"
          },
          "paper_bgcolor": "white",
          "plot_bgcolor": "#E5ECF6",
          "polar": {
           "angularaxis": {
            "gridcolor": "white",
            "linecolor": "white",
            "ticks": ""
           },
           "bgcolor": "#E5ECF6",
           "radialaxis": {
            "gridcolor": "white",
            "linecolor": "white",
            "ticks": ""
           }
          },
          "scene": {
           "xaxis": {
            "backgroundcolor": "#E5ECF6",
            "gridcolor": "white",
            "gridwidth": 2,
            "linecolor": "white",
            "showbackground": true,
            "ticks": "",
            "zerolinecolor": "white"
           },
           "yaxis": {
            "backgroundcolor": "#E5ECF6",
            "gridcolor": "white",
            "gridwidth": 2,
            "linecolor": "white",
            "showbackground": true,
            "ticks": "",
            "zerolinecolor": "white"
           },
           "zaxis": {
            "backgroundcolor": "#E5ECF6",
            "gridcolor": "white",
            "gridwidth": 2,
            "linecolor": "white",
            "showbackground": true,
            "ticks": "",
            "zerolinecolor": "white"
           }
          },
          "shapedefaults": {
           "line": {
            "color": "#2a3f5f"
           }
          },
          "ternary": {
           "aaxis": {
            "gridcolor": "white",
            "linecolor": "white",
            "ticks": ""
           },
           "baxis": {
            "gridcolor": "white",
            "linecolor": "white",
            "ticks": ""
           },
           "bgcolor": "#E5ECF6",
           "caxis": {
            "gridcolor": "white",
            "linecolor": "white",
            "ticks": ""
           }
          },
          "title": {
           "x": 0.05
          },
          "xaxis": {
           "automargin": true,
           "gridcolor": "white",
           "linecolor": "white",
           "ticks": "",
           "title": {
            "standoff": 15
           },
           "zerolinecolor": "white",
           "zerolinewidth": 2
          },
          "yaxis": {
           "automargin": true,
           "gridcolor": "white",
           "linecolor": "white",
           "ticks": "",
           "title": {
            "standoff": 15
           },
           "zerolinecolor": "white",
           "zerolinewidth": 2
          }
         }
        },
        "title": {
         "text": "Speedup (max thread time) per Phase"
        },
        "xaxis": {
         "anchor": "y",
         "domain": [
          0,
          1
         ],
         "title": {
          "text": "Threads"
         }
        },
        "yaxis": {
         "anchor": "x",
         "domain": [
          0,
          1
         ],
         "title": {
          "text": "Speedup"
         }
        }
       }
      }
     },
     "metadata": {},
     "output_type": "display_data"
    }
   ],
   "source": [
    "import json, pandas as pd, plotly.express as px\n",
    "\n",
    "\n",
    "\n",
    "with open(file) as f:\n",
    "    parsed = [json.loads(x) for x in f.read().split(\"\\n---\\n\") if x.strip()]\n",
    "\n",
    "phase_mean_times = {}\n",
    "\n",
    "for entry in parsed:\n",
    "    t = int(entry[\"JSON_1_COMPT\"][\"NUM_THREADS\"])\n",
    "    for phase, matrix in entry[\"JSON_3\"].items():\n",
    "        mean_time = sum(matrix[i][0] for i in range(t))/t\n",
    "        phase_mean_times.setdefault(phase, []).append((t, mean_time))\n",
    "\n",
    "records = []\n",
    "for phase, values in phase_mean_times.items():\n",
    "    values.sort()\n",
    "    baseline = values[0][1]\n",
    "    for t, time in values:\n",
    "        speedup = baseline / time if time != 0 else None\n",
    "        records.append({\"Phase\": phase, \"Threads\": t, \"Speedup\": speedup})\n",
    "\n",
    "df = pd.DataFrame(records)\n",
    "fig = px.line(df, x=\"Threads\", y=\"Speedup\", color=\"Phase\", markers=True, title=\"Speedup (max thread time) per Phase\")\n",
    "fig.show()\n"
   ]
  },
  {
   "cell_type": "code",
   "execution_count": 15,
   "id": "1771f565",
   "metadata": {},
   "outputs": [],
   "source": [
    "import json, pandas as pd, plotly.express as px\n",
    "\n",
    "def line_tokens_per_thread(file):\n",
    "    with open(file) as f:\n",
    "        parsed = [json.loads(x) for x in f.read().split(\"\\n---\\n\") if x.strip()]\n",
    "\n",
    "    all_data = []\n",
    "    for entry in parsed:\n",
    "        prompt_len = entry[\"JSON_1_COMPT\"][\"PROMPT_LEN\"]\n",
    "        tokens = entry[\"JSON_1_COMPT\"][\"PROMPT_LEN\"]\n",
    "        threads = int(entry[\"JSON_1_COMPT\"][\"NUM_THREADS\"])\n",
    "        for phase, matrix in entry[\"JSON_3\"].items():\n",
    "            if phase != \"MATMUL_LOGITS\":\n",
    "                val = sum(matrix[i][0] for i in range(threads)) / threads\n",
    "                tokens_per_s = (tokens / val) * 1e3 if val != 0 else 0\n",
    "                all_data.append({\n",
    "                    \"Prompt length\": prompt_len,\n",
    "                    \"Phase\": phase,\n",
    "                    \"Threads\": threads,\n",
    "                    \"Tokens/s\": tokens_per_s\n",
    "                })\n",
    "\n",
    "    df = pd.DataFrame(all_data)\n",
    "\n",
    "    # Calcul du gain en % par rapport à la plus petite longueur de prompt (par Threads et Phase)\n",
    "    df[\"Gain (%)\"] = 0.0\n",
    "    for (threads, phase), group in df.groupby([\"Threads\", \"Phase\"]):\n",
    "        group_sorted = group.sort_values(\"Prompt length\")\n",
    "        ref_val = group_sorted.iloc[0][\"Tokens/s\"]\n",
    "        df.loc[group_sorted.index, \"Gain (%)\"] = (group_sorted[\"Tokens/s\"] / ref_val - 1) * 100\n",
    "\n",
    "    for thread_value in sorted(df[\"Threads\"].unique()):\n",
    "        df_thread = df[df[\"Threads\"] == thread_value]\n",
    "        fig = px.line(\n",
    "            df_thread,\n",
    "            x=\"Prompt length\",\n",
    "            y=\"Gain (%)\",\n",
    "            color=\"Phase\",\n",
    "            markers=True,\n",
    "            title=f\"Gain en % vs prompt minimal — {thread_value} thread(s)\"\n",
    "        )\n",
    "        fig.write_image(f\"measurements/omp/gain_token_s_{thread_value}_thread.png\")\n",
    "        fig.show()\n"
   ]
  },
  {
   "cell_type": "code",
   "execution_count": 16,
   "id": "77b95e7d",
   "metadata": {},
   "outputs": [
    {
     "data": {
      "application/vnd.plotly.v1+json": {
       "config": {
        "plotlyServerURL": "https://plot.ly"
       },
       "data": [
        {
         "hovertemplate": "Phase=MATMUL_QKV<br>Prompt length=%{x}<br>Gain (%)=%{y}<extra></extra>",
         "legendgroup": "MATMUL_QKV",
         "line": {
          "color": "#636efa",
          "dash": "solid"
         },
         "marker": {
          "symbol": "circle"
         },
         "mode": "lines+markers",
         "name": "MATMUL_QKV",
         "orientation": "v",
         "showlegend": true,
         "type": "scatter",
         "x": {
          "bdata": "AAAAAAAAQUAAAAAAAIBOQAAAAAAAwF1AAAAAAADgbUAAAAAAAFB9QAAAAAAA+I1A",
          "dtype": "f8"
         },
         "xaxis": "x",
         "y": {
          "bdata": "AAAAAAAAAADB8J8g/S8xQFTbW2W9YCJAQpdPW3sgKUDsskJUQJQgQIp2CW01T1pA",
          "dtype": "f8"
         },
         "yaxis": "y"
        },
        {
         "hovertemplate": "Phase=ROPE<br>Prompt length=%{x}<br>Gain (%)=%{y}<extra></extra>",
         "legendgroup": "ROPE",
         "line": {
          "color": "#EF553B",
          "dash": "solid"
         },
         "marker": {
          "symbol": "circle"
         },
         "mode": "lines+markers",
         "name": "ROPE",
         "orientation": "v",
         "showlegend": true,
         "type": "scatter",
         "x": {
          "bdata": "AAAAAAAAQUAAAAAAAIBOQAAAAAAAwF1AAAAAAADgbUAAAAAAAFB9QAAAAAAA+I1A",
          "dtype": "f8"
         },
         "xaxis": "x",
         "y": {
          "bdata": "AAAAAAAAAACls4c9Ju83QMKWL2qD6jRAgIAG3GZQQkBZ+VBg2ihDQG9AmzK7BGdA",
          "dtype": "f8"
         },
         "yaxis": "y"
        },
        {
         "hovertemplate": "Phase=ATTENTION_COMPUTATION<br>Prompt length=%{x}<br>Gain (%)=%{y}<extra></extra>",
         "legendgroup": "ATTENTION_COMPUTATION",
         "line": {
          "color": "#00cc96",
          "dash": "solid"
         },
         "marker": {
          "symbol": "circle"
         },
         "mode": "lines+markers",
         "name": "ATTENTION_COMPUTATION",
         "orientation": "v",
         "showlegend": true,
         "type": "scatter",
         "x": {
          "bdata": "AAAAAAAAQUAAAAAAAIBOQAAAAAAAwF1AAAAAAADgbUAAAAAAAFB9QAAAAAAA+I1A",
          "dtype": "f8"
         },
         "xaxis": "x",
         "y": {
          "bdata": "AAAAAAAAAACzIkcKDyY1wD9MdDfsO0zAeVmJAglOU8BwtP8QBBdWwI/r1y3l7VPA",
          "dtype": "f8"
         },
         "yaxis": "y"
        },
        {
         "hovertemplate": "Phase=MATMUL_OUTPUT_ATTENTION<br>Prompt length=%{x}<br>Gain (%)=%{y}<extra></extra>",
         "legendgroup": "MATMUL_OUTPUT_ATTENTION",
         "line": {
          "color": "#ab63fa",
          "dash": "solid"
         },
         "marker": {
          "symbol": "circle"
         },
         "mode": "lines+markers",
         "name": "MATMUL_OUTPUT_ATTENTION",
         "orientation": "v",
         "showlegend": true,
         "type": "scatter",
         "x": {
          "bdata": "AAAAAAAAQUAAAAAAAIBOQAAAAAAAwF1AAAAAAADgbUAAAAAAAFB9QAAAAAAA+I1A",
          "dtype": "f8"
         },
         "xaxis": "x",
         "y": {
          "bdata": "AAAAAAAAAAAexYoJdY8zQCBzTQNyUSJA1o1m3yM8LED8D/HmMUovQBagq4ZW/l1A",
          "dtype": "f8"
         },
         "yaxis": "y"
        },
        {
         "hovertemplate": "Phase=MATMUL_FFN<br>Prompt length=%{x}<br>Gain (%)=%{y}<extra></extra>",
         "legendgroup": "MATMUL_FFN",
         "line": {
          "color": "#FFA15A",
          "dash": "solid"
         },
         "marker": {
          "symbol": "circle"
         },
         "mode": "lines+markers",
         "name": "MATMUL_FFN",
         "orientation": "v",
         "showlegend": true,
         "type": "scatter",
         "x": {
          "bdata": "AAAAAAAAQUAAAAAAAIBOQAAAAAAAwF1AAAAAAADgbUAAAAAAAFB9QAAAAAAA+I1A",
          "dtype": "f8"
         },
         "xaxis": "x",
         "y": {
          "bdata": "AAAAAAAAAADUXTQoHhM2QCeSNNGLwDFAfj4MfsjkNEASUq4qavcqQJavR185WF5A",
          "dtype": "f8"
         },
         "yaxis": "y"
        },
        {
         "hovertemplate": "Phase=SwiGLU<br>Prompt length=%{x}<br>Gain (%)=%{y}<extra></extra>",
         "legendgroup": "SwiGLU",
         "line": {
          "color": "#19d3f3",
          "dash": "solid"
         },
         "marker": {
          "symbol": "circle"
         },
         "mode": "lines+markers",
         "name": "SwiGLU",
         "orientation": "v",
         "showlegend": true,
         "type": "scatter",
         "x": {
          "bdata": "AAAAAAAAQUAAAAAAAIBOQAAAAAAAwF1AAAAAAADgbUAAAAAAAFB9QAAAAAAA+I1A",
          "dtype": "f8"
         },
         "xaxis": "x",
         "y": {
          "bdata": "AAAAAAAAAAD2WC8v2u8xQI5nmdS9AiZAwAsD7mYOJECcRx+qvEwCQL/UpTjZp1hA",
          "dtype": "f8"
         },
         "yaxis": "y"
        },
        {
         "hovertemplate": "Phase=MATMUL_OUTPUT_FFN<br>Prompt length=%{x}<br>Gain (%)=%{y}<extra></extra>",
         "legendgroup": "MATMUL_OUTPUT_FFN",
         "line": {
          "color": "#FF6692",
          "dash": "solid"
         },
         "marker": {
          "symbol": "circle"
         },
         "mode": "lines+markers",
         "name": "MATMUL_OUTPUT_FFN",
         "orientation": "v",
         "showlegend": true,
         "type": "scatter",
         "x": {
          "bdata": "AAAAAAAAQUAAAAAAAIBOQAAAAAAAwF1AAAAAAADgbUAAAAAAAFB9QAAAAAAA+I1A",
          "dtype": "f8"
         },
         "xaxis": "x",
         "y": {
          "bdata": "AAAAAAAAAAA+dHkAtZU+QKNoYiPhDTpAwqrPS/zNO0ARr2SJgHgxQK87OsRW5WBA",
          "dtype": "f8"
         },
         "yaxis": "y"
        }
       ],
       "layout": {
        "legend": {
         "title": {
          "text": "Phase"
         },
         "tracegroupgap": 0
        },
        "template": {
         "data": {
          "bar": [
           {
            "error_x": {
             "color": "#2a3f5f"
            },
            "error_y": {
             "color": "#2a3f5f"
            },
            "marker": {
             "line": {
              "color": "#E5ECF6",
              "width": 0.5
             },
             "pattern": {
              "fillmode": "overlay",
              "size": 10,
              "solidity": 0.2
             }
            },
            "type": "bar"
           }
          ],
          "barpolar": [
           {
            "marker": {
             "line": {
              "color": "#E5ECF6",
              "width": 0.5
             },
             "pattern": {
              "fillmode": "overlay",
              "size": 10,
              "solidity": 0.2
             }
            },
            "type": "barpolar"
           }
          ],
          "carpet": [
           {
            "aaxis": {
             "endlinecolor": "#2a3f5f",
             "gridcolor": "white",
             "linecolor": "white",
             "minorgridcolor": "white",
             "startlinecolor": "#2a3f5f"
            },
            "baxis": {
             "endlinecolor": "#2a3f5f",
             "gridcolor": "white",
             "linecolor": "white",
             "minorgridcolor": "white",
             "startlinecolor": "#2a3f5f"
            },
            "type": "carpet"
           }
          ],
          "choropleth": [
           {
            "colorbar": {
             "outlinewidth": 0,
             "ticks": ""
            },
            "type": "choropleth"
           }
          ],
          "contour": [
           {
            "colorbar": {
             "outlinewidth": 0,
             "ticks": ""
            },
            "colorscale": [
             [
              0,
              "#0d0887"
             ],
             [
              0.1111111111111111,
              "#46039f"
             ],
             [
              0.2222222222222222,
              "#7201a8"
             ],
             [
              0.3333333333333333,
              "#9c179e"
             ],
             [
              0.4444444444444444,
              "#bd3786"
             ],
             [
              0.5555555555555556,
              "#d8576b"
             ],
             [
              0.6666666666666666,
              "#ed7953"
             ],
             [
              0.7777777777777778,
              "#fb9f3a"
             ],
             [
              0.8888888888888888,
              "#fdca26"
             ],
             [
              1,
              "#f0f921"
             ]
            ],
            "type": "contour"
           }
          ],
          "contourcarpet": [
           {
            "colorbar": {
             "outlinewidth": 0,
             "ticks": ""
            },
            "type": "contourcarpet"
           }
          ],
          "heatmap": [
           {
            "colorbar": {
             "outlinewidth": 0,
             "ticks": ""
            },
            "colorscale": [
             [
              0,
              "#0d0887"
             ],
             [
              0.1111111111111111,
              "#46039f"
             ],
             [
              0.2222222222222222,
              "#7201a8"
             ],
             [
              0.3333333333333333,
              "#9c179e"
             ],
             [
              0.4444444444444444,
              "#bd3786"
             ],
             [
              0.5555555555555556,
              "#d8576b"
             ],
             [
              0.6666666666666666,
              "#ed7953"
             ],
             [
              0.7777777777777778,
              "#fb9f3a"
             ],
             [
              0.8888888888888888,
              "#fdca26"
             ],
             [
              1,
              "#f0f921"
             ]
            ],
            "type": "heatmap"
           }
          ],
          "histogram": [
           {
            "marker": {
             "pattern": {
              "fillmode": "overlay",
              "size": 10,
              "solidity": 0.2
             }
            },
            "type": "histogram"
           }
          ],
          "histogram2d": [
           {
            "colorbar": {
             "outlinewidth": 0,
             "ticks": ""
            },
            "colorscale": [
             [
              0,
              "#0d0887"
             ],
             [
              0.1111111111111111,
              "#46039f"
             ],
             [
              0.2222222222222222,
              "#7201a8"
             ],
             [
              0.3333333333333333,
              "#9c179e"
             ],
             [
              0.4444444444444444,
              "#bd3786"
             ],
             [
              0.5555555555555556,
              "#d8576b"
             ],
             [
              0.6666666666666666,
              "#ed7953"
             ],
             [
              0.7777777777777778,
              "#fb9f3a"
             ],
             [
              0.8888888888888888,
              "#fdca26"
             ],
             [
              1,
              "#f0f921"
             ]
            ],
            "type": "histogram2d"
           }
          ],
          "histogram2dcontour": [
           {
            "colorbar": {
             "outlinewidth": 0,
             "ticks": ""
            },
            "colorscale": [
             [
              0,
              "#0d0887"
             ],
             [
              0.1111111111111111,
              "#46039f"
             ],
             [
              0.2222222222222222,
              "#7201a8"
             ],
             [
              0.3333333333333333,
              "#9c179e"
             ],
             [
              0.4444444444444444,
              "#bd3786"
             ],
             [
              0.5555555555555556,
              "#d8576b"
             ],
             [
              0.6666666666666666,
              "#ed7953"
             ],
             [
              0.7777777777777778,
              "#fb9f3a"
             ],
             [
              0.8888888888888888,
              "#fdca26"
             ],
             [
              1,
              "#f0f921"
             ]
            ],
            "type": "histogram2dcontour"
           }
          ],
          "mesh3d": [
           {
            "colorbar": {
             "outlinewidth": 0,
             "ticks": ""
            },
            "type": "mesh3d"
           }
          ],
          "parcoords": [
           {
            "line": {
             "colorbar": {
              "outlinewidth": 0,
              "ticks": ""
             }
            },
            "type": "parcoords"
           }
          ],
          "pie": [
           {
            "automargin": true,
            "type": "pie"
           }
          ],
          "scatter": [
           {
            "fillpattern": {
             "fillmode": "overlay",
             "size": 10,
             "solidity": 0.2
            },
            "type": "scatter"
           }
          ],
          "scatter3d": [
           {
            "line": {
             "colorbar": {
              "outlinewidth": 0,
              "ticks": ""
             }
            },
            "marker": {
             "colorbar": {
              "outlinewidth": 0,
              "ticks": ""
             }
            },
            "type": "scatter3d"
           }
          ],
          "scattercarpet": [
           {
            "marker": {
             "colorbar": {
              "outlinewidth": 0,
              "ticks": ""
             }
            },
            "type": "scattercarpet"
           }
          ],
          "scattergeo": [
           {
            "marker": {
             "colorbar": {
              "outlinewidth": 0,
              "ticks": ""
             }
            },
            "type": "scattergeo"
           }
          ],
          "scattergl": [
           {
            "marker": {
             "colorbar": {
              "outlinewidth": 0,
              "ticks": ""
             }
            },
            "type": "scattergl"
           }
          ],
          "scattermap": [
           {
            "marker": {
             "colorbar": {
              "outlinewidth": 0,
              "ticks": ""
             }
            },
            "type": "scattermap"
           }
          ],
          "scattermapbox": [
           {
            "marker": {
             "colorbar": {
              "outlinewidth": 0,
              "ticks": ""
             }
            },
            "type": "scattermapbox"
           }
          ],
          "scatterpolar": [
           {
            "marker": {
             "colorbar": {
              "outlinewidth": 0,
              "ticks": ""
             }
            },
            "type": "scatterpolar"
           }
          ],
          "scatterpolargl": [
           {
            "marker": {
             "colorbar": {
              "outlinewidth": 0,
              "ticks": ""
             }
            },
            "type": "scatterpolargl"
           }
          ],
          "scatterternary": [
           {
            "marker": {
             "colorbar": {
              "outlinewidth": 0,
              "ticks": ""
             }
            },
            "type": "scatterternary"
           }
          ],
          "surface": [
           {
            "colorbar": {
             "outlinewidth": 0,
             "ticks": ""
            },
            "colorscale": [
             [
              0,
              "#0d0887"
             ],
             [
              0.1111111111111111,
              "#46039f"
             ],
             [
              0.2222222222222222,
              "#7201a8"
             ],
             [
              0.3333333333333333,
              "#9c179e"
             ],
             [
              0.4444444444444444,
              "#bd3786"
             ],
             [
              0.5555555555555556,
              "#d8576b"
             ],
             [
              0.6666666666666666,
              "#ed7953"
             ],
             [
              0.7777777777777778,
              "#fb9f3a"
             ],
             [
              0.8888888888888888,
              "#fdca26"
             ],
             [
              1,
              "#f0f921"
             ]
            ],
            "type": "surface"
           }
          ],
          "table": [
           {
            "cells": {
             "fill": {
              "color": "#EBF0F8"
             },
             "line": {
              "color": "white"
             }
            },
            "header": {
             "fill": {
              "color": "#C8D4E3"
             },
             "line": {
              "color": "white"
             }
            },
            "type": "table"
           }
          ]
         },
         "layout": {
          "annotationdefaults": {
           "arrowcolor": "#2a3f5f",
           "arrowhead": 0,
           "arrowwidth": 1
          },
          "autotypenumbers": "strict",
          "coloraxis": {
           "colorbar": {
            "outlinewidth": 0,
            "ticks": ""
           }
          },
          "colorscale": {
           "diverging": [
            [
             0,
             "#8e0152"
            ],
            [
             0.1,
             "#c51b7d"
            ],
            [
             0.2,
             "#de77ae"
            ],
            [
             0.3,
             "#f1b6da"
            ],
            [
             0.4,
             "#fde0ef"
            ],
            [
             0.5,
             "#f7f7f7"
            ],
            [
             0.6,
             "#e6f5d0"
            ],
            [
             0.7,
             "#b8e186"
            ],
            [
             0.8,
             "#7fbc41"
            ],
            [
             0.9,
             "#4d9221"
            ],
            [
             1,
             "#276419"
            ]
           ],
           "sequential": [
            [
             0,
             "#0d0887"
            ],
            [
             0.1111111111111111,
             "#46039f"
            ],
            [
             0.2222222222222222,
             "#7201a8"
            ],
            [
             0.3333333333333333,
             "#9c179e"
            ],
            [
             0.4444444444444444,
             "#bd3786"
            ],
            [
             0.5555555555555556,
             "#d8576b"
            ],
            [
             0.6666666666666666,
             "#ed7953"
            ],
            [
             0.7777777777777778,
             "#fb9f3a"
            ],
            [
             0.8888888888888888,
             "#fdca26"
            ],
            [
             1,
             "#f0f921"
            ]
           ],
           "sequentialminus": [
            [
             0,
             "#0d0887"
            ],
            [
             0.1111111111111111,
             "#46039f"
            ],
            [
             0.2222222222222222,
             "#7201a8"
            ],
            [
             0.3333333333333333,
             "#9c179e"
            ],
            [
             0.4444444444444444,
             "#bd3786"
            ],
            [
             0.5555555555555556,
             "#d8576b"
            ],
            [
             0.6666666666666666,
             "#ed7953"
            ],
            [
             0.7777777777777778,
             "#fb9f3a"
            ],
            [
             0.8888888888888888,
             "#fdca26"
            ],
            [
             1,
             "#f0f921"
            ]
           ]
          },
          "colorway": [
           "#636efa",
           "#EF553B",
           "#00cc96",
           "#ab63fa",
           "#FFA15A",
           "#19d3f3",
           "#FF6692",
           "#B6E880",
           "#FF97FF",
           "#FECB52"
          ],
          "font": {
           "color": "#2a3f5f"
          },
          "geo": {
           "bgcolor": "white",
           "lakecolor": "white",
           "landcolor": "#E5ECF6",
           "showlakes": true,
           "showland": true,
           "subunitcolor": "white"
          },
          "hoverlabel": {
           "align": "left"
          },
          "hovermode": "closest",
          "mapbox": {
           "style": "light"
          },
          "paper_bgcolor": "white",
          "plot_bgcolor": "#E5ECF6",
          "polar": {
           "angularaxis": {
            "gridcolor": "white",
            "linecolor": "white",
            "ticks": ""
           },
           "bgcolor": "#E5ECF6",
           "radialaxis": {
            "gridcolor": "white",
            "linecolor": "white",
            "ticks": ""
           }
          },
          "scene": {
           "xaxis": {
            "backgroundcolor": "#E5ECF6",
            "gridcolor": "white",
            "gridwidth": 2,
            "linecolor": "white",
            "showbackground": true,
            "ticks": "",
            "zerolinecolor": "white"
           },
           "yaxis": {
            "backgroundcolor": "#E5ECF6",
            "gridcolor": "white",
            "gridwidth": 2,
            "linecolor": "white",
            "showbackground": true,
            "ticks": "",
            "zerolinecolor": "white"
           },
           "zaxis": {
            "backgroundcolor": "#E5ECF6",
            "gridcolor": "white",
            "gridwidth": 2,
            "linecolor": "white",
            "showbackground": true,
            "ticks": "",
            "zerolinecolor": "white"
           }
          },
          "shapedefaults": {
           "line": {
            "color": "#2a3f5f"
           }
          },
          "ternary": {
           "aaxis": {
            "gridcolor": "white",
            "linecolor": "white",
            "ticks": ""
           },
           "baxis": {
            "gridcolor": "white",
            "linecolor": "white",
            "ticks": ""
           },
           "bgcolor": "#E5ECF6",
           "caxis": {
            "gridcolor": "white",
            "linecolor": "white",
            "ticks": ""
           }
          },
          "title": {
           "x": 0.05
          },
          "xaxis": {
           "automargin": true,
           "gridcolor": "white",
           "linecolor": "white",
           "ticks": "",
           "title": {
            "standoff": 15
           },
           "zerolinecolor": "white",
           "zerolinewidth": 2
          },
          "yaxis": {
           "automargin": true,
           "gridcolor": "white",
           "linecolor": "white",
           "ticks": "",
           "title": {
            "standoff": 15
           },
           "zerolinecolor": "white",
           "zerolinewidth": 2
          }
         }
        },
        "title": {
         "text": "Gain en % vs prompt minimal — 1 thread(s)"
        },
        "xaxis": {
         "anchor": "y",
         "domain": [
          0,
          1
         ],
         "title": {
          "text": "Prompt length"
         }
        },
        "yaxis": {
         "anchor": "x",
         "domain": [
          0,
          1
         ],
         "title": {
          "text": "Gain (%)"
         }
        }
       }
      }
     },
     "metadata": {},
     "output_type": "display_data"
    },
    {
     "data": {
      "application/vnd.plotly.v1+json": {
       "config": {
        "plotlyServerURL": "https://plot.ly"
       },
       "data": [
        {
         "hovertemplate": "Phase=MATMUL_QKV<br>Prompt length=%{x}<br>Gain (%)=%{y}<extra></extra>",
         "legendgroup": "MATMUL_QKV",
         "line": {
          "color": "#636efa",
          "dash": "solid"
         },
         "marker": {
          "symbol": "circle"
         },
         "mode": "lines+markers",
         "name": "MATMUL_QKV",
         "orientation": "v",
         "showlegend": true,
         "type": "scatter",
         "x": {
          "bdata": "AAAAAAAAQUAAAAAAAIBOQAAAAAAAwF1AAAAAAADgbUAAAAAAAFB9QAAAAAAA+I1A",
          "dtype": "f8"
         },
         "xaxis": "x",
         "y": {
          "bdata": "AAAAAAAAAABYvQiMTAo3QIr7eZ3qpTBA+szi98nYM0DLcAavr3M5QBIPLnV8UF9A",
          "dtype": "f8"
         },
         "yaxis": "y"
        },
        {
         "hovertemplate": "Phase=ROPE<br>Prompt length=%{x}<br>Gain (%)=%{y}<extra></extra>",
         "legendgroup": "ROPE",
         "line": {
          "color": "#EF553B",
          "dash": "solid"
         },
         "marker": {
          "symbol": "circle"
         },
         "mode": "lines+markers",
         "name": "ROPE",
         "orientation": "v",
         "showlegend": true,
         "type": "scatter",
         "x": {
          "bdata": "AAAAAAAAQUAAAAAAAIBOQAAAAAAAwF1AAAAAAADgbUAAAAAAAFB9QAAAAAAA+I1A",
          "dtype": "f8"
         },
         "xaxis": "x",
         "y": {
          "bdata": "AAAAAAAAAADcrm4SH1A0QIBa2phW1jVAGaNsvKUxO0BczQVwWiMsQEqOj2S2VGNA",
          "dtype": "f8"
         },
         "yaxis": "y"
        },
        {
         "hovertemplate": "Phase=ATTENTION_COMPUTATION<br>Prompt length=%{x}<br>Gain (%)=%{y}<extra></extra>",
         "legendgroup": "ATTENTION_COMPUTATION",
         "line": {
          "color": "#00cc96",
          "dash": "solid"
         },
         "marker": {
          "symbol": "circle"
         },
         "mode": "lines+markers",
         "name": "ATTENTION_COMPUTATION",
         "orientation": "v",
         "showlegend": true,
         "type": "scatter",
         "x": {
          "bdata": "AAAAAAAAQUAAAAAAAIBOQAAAAAAAwF1AAAAAAADgbUAAAAAAAFB9QAAAAAAA+I1A",
          "dtype": "f8"
         },
         "xaxis": "x",
         "y": {
          "bdata": "AAAAAAAAAAAFV1+OhxUqwLsV7UF340nAfsfOKQjUUsDi3JT0lKpVwD5z4hy3cVPA",
          "dtype": "f8"
         },
         "yaxis": "y"
        },
        {
         "hovertemplate": "Phase=MATMUL_OUTPUT_ATTENTION<br>Prompt length=%{x}<br>Gain (%)=%{y}<extra></extra>",
         "legendgroup": "MATMUL_OUTPUT_ATTENTION",
         "line": {
          "color": "#ab63fa",
          "dash": "solid"
         },
         "marker": {
          "symbol": "circle"
         },
         "mode": "lines+markers",
         "name": "MATMUL_OUTPUT_ATTENTION",
         "orientation": "v",
         "showlegend": true,
         "type": "scatter",
         "x": {
          "bdata": "AAAAAAAAQUAAAAAAAIBOQAAAAAAAwF1AAAAAAADgbUAAAAAAAFB9QAAAAAAA+I1A",
          "dtype": "f8"
         },
         "xaxis": "x",
         "y": {
          "bdata": "AAAAAAAAAACgozR3hEsyQPZp+nMlDi5AYGMcRr1ENEAG5y71J/o1QAmWf8KrCGBA",
          "dtype": "f8"
         },
         "yaxis": "y"
        },
        {
         "hovertemplate": "Phase=MATMUL_FFN<br>Prompt length=%{x}<br>Gain (%)=%{y}<extra></extra>",
         "legendgroup": "MATMUL_FFN",
         "line": {
          "color": "#FFA15A",
          "dash": "solid"
         },
         "marker": {
          "symbol": "circle"
         },
         "mode": "lines+markers",
         "name": "MATMUL_FFN",
         "orientation": "v",
         "showlegend": true,
         "type": "scatter",
         "x": {
          "bdata": "AAAAAAAAQUAAAAAAAIBOQAAAAAAAwF1AAAAAAADgbUAAAAAAAFB9QAAAAAAA+I1A",
          "dtype": "f8"
         },
         "xaxis": "x",
         "y": {
          "bdata": "AAAAAAAAAAAh01XB2ioyQLHpyLiXFDBArnSndKrwMECEQ+1DAhYvQE66nNWq91xA",
          "dtype": "f8"
         },
         "yaxis": "y"
        },
        {
         "hovertemplate": "Phase=SwiGLU<br>Prompt length=%{x}<br>Gain (%)=%{y}<extra></extra>",
         "legendgroup": "SwiGLU",
         "line": {
          "color": "#19d3f3",
          "dash": "solid"
         },
         "marker": {
          "symbol": "circle"
         },
         "mode": "lines+markers",
         "name": "SwiGLU",
         "orientation": "v",
         "showlegend": true,
         "type": "scatter",
         "x": {
          "bdata": "AAAAAAAAQUAAAAAAAIBOQAAAAAAAwF1AAAAAAADgbUAAAAAAAFB9QAAAAAAA+I1A",
          "dtype": "f8"
         },
         "xaxis": "x",
         "y": {
          "bdata": "AAAAAAAAAADCx6camTonQKZpF/ssdSZAyn3Ilw+BKUCI9f6xjGwiQJldAjyH+lpA",
          "dtype": "f8"
         },
         "yaxis": "y"
        },
        {
         "hovertemplate": "Phase=MATMUL_OUTPUT_FFN<br>Prompt length=%{x}<br>Gain (%)=%{y}<extra></extra>",
         "legendgroup": "MATMUL_OUTPUT_FFN",
         "line": {
          "color": "#FF6692",
          "dash": "solid"
         },
         "marker": {
          "symbol": "circle"
         },
         "mode": "lines+markers",
         "name": "MATMUL_OUTPUT_FFN",
         "orientation": "v",
         "showlegend": true,
         "type": "scatter",
         "x": {
          "bdata": "AAAAAAAAQUAAAAAAAIBOQAAAAAAAwF1AAAAAAADgbUAAAAAAAFB9QAAAAAAA+I1A",
          "dtype": "f8"
         },
         "xaxis": "x",
         "y": {
          "bdata": "AAAAAAAAAAAJ/KtD8FszQOmN2Y8rBDJAkqYyl4U2M0BYfmguly8xQL0VSeCFOF5A",
          "dtype": "f8"
         },
         "yaxis": "y"
        }
       ],
       "layout": {
        "legend": {
         "title": {
          "text": "Phase"
         },
         "tracegroupgap": 0
        },
        "template": {
         "data": {
          "bar": [
           {
            "error_x": {
             "color": "#2a3f5f"
            },
            "error_y": {
             "color": "#2a3f5f"
            },
            "marker": {
             "line": {
              "color": "#E5ECF6",
              "width": 0.5
             },
             "pattern": {
              "fillmode": "overlay",
              "size": 10,
              "solidity": 0.2
             }
            },
            "type": "bar"
           }
          ],
          "barpolar": [
           {
            "marker": {
             "line": {
              "color": "#E5ECF6",
              "width": 0.5
             },
             "pattern": {
              "fillmode": "overlay",
              "size": 10,
              "solidity": 0.2
             }
            },
            "type": "barpolar"
           }
          ],
          "carpet": [
           {
            "aaxis": {
             "endlinecolor": "#2a3f5f",
             "gridcolor": "white",
             "linecolor": "white",
             "minorgridcolor": "white",
             "startlinecolor": "#2a3f5f"
            },
            "baxis": {
             "endlinecolor": "#2a3f5f",
             "gridcolor": "white",
             "linecolor": "white",
             "minorgridcolor": "white",
             "startlinecolor": "#2a3f5f"
            },
            "type": "carpet"
           }
          ],
          "choropleth": [
           {
            "colorbar": {
             "outlinewidth": 0,
             "ticks": ""
            },
            "type": "choropleth"
           }
          ],
          "contour": [
           {
            "colorbar": {
             "outlinewidth": 0,
             "ticks": ""
            },
            "colorscale": [
             [
              0,
              "#0d0887"
             ],
             [
              0.1111111111111111,
              "#46039f"
             ],
             [
              0.2222222222222222,
              "#7201a8"
             ],
             [
              0.3333333333333333,
              "#9c179e"
             ],
             [
              0.4444444444444444,
              "#bd3786"
             ],
             [
              0.5555555555555556,
              "#d8576b"
             ],
             [
              0.6666666666666666,
              "#ed7953"
             ],
             [
              0.7777777777777778,
              "#fb9f3a"
             ],
             [
              0.8888888888888888,
              "#fdca26"
             ],
             [
              1,
              "#f0f921"
             ]
            ],
            "type": "contour"
           }
          ],
          "contourcarpet": [
           {
            "colorbar": {
             "outlinewidth": 0,
             "ticks": ""
            },
            "type": "contourcarpet"
           }
          ],
          "heatmap": [
           {
            "colorbar": {
             "outlinewidth": 0,
             "ticks": ""
            },
            "colorscale": [
             [
              0,
              "#0d0887"
             ],
             [
              0.1111111111111111,
              "#46039f"
             ],
             [
              0.2222222222222222,
              "#7201a8"
             ],
             [
              0.3333333333333333,
              "#9c179e"
             ],
             [
              0.4444444444444444,
              "#bd3786"
             ],
             [
              0.5555555555555556,
              "#d8576b"
             ],
             [
              0.6666666666666666,
              "#ed7953"
             ],
             [
              0.7777777777777778,
              "#fb9f3a"
             ],
             [
              0.8888888888888888,
              "#fdca26"
             ],
             [
              1,
              "#f0f921"
             ]
            ],
            "type": "heatmap"
           }
          ],
          "histogram": [
           {
            "marker": {
             "pattern": {
              "fillmode": "overlay",
              "size": 10,
              "solidity": 0.2
             }
            },
            "type": "histogram"
           }
          ],
          "histogram2d": [
           {
            "colorbar": {
             "outlinewidth": 0,
             "ticks": ""
            },
            "colorscale": [
             [
              0,
              "#0d0887"
             ],
             [
              0.1111111111111111,
              "#46039f"
             ],
             [
              0.2222222222222222,
              "#7201a8"
             ],
             [
              0.3333333333333333,
              "#9c179e"
             ],
             [
              0.4444444444444444,
              "#bd3786"
             ],
             [
              0.5555555555555556,
              "#d8576b"
             ],
             [
              0.6666666666666666,
              "#ed7953"
             ],
             [
              0.7777777777777778,
              "#fb9f3a"
             ],
             [
              0.8888888888888888,
              "#fdca26"
             ],
             [
              1,
              "#f0f921"
             ]
            ],
            "type": "histogram2d"
           }
          ],
          "histogram2dcontour": [
           {
            "colorbar": {
             "outlinewidth": 0,
             "ticks": ""
            },
            "colorscale": [
             [
              0,
              "#0d0887"
             ],
             [
              0.1111111111111111,
              "#46039f"
             ],
             [
              0.2222222222222222,
              "#7201a8"
             ],
             [
              0.3333333333333333,
              "#9c179e"
             ],
             [
              0.4444444444444444,
              "#bd3786"
             ],
             [
              0.5555555555555556,
              "#d8576b"
             ],
             [
              0.6666666666666666,
              "#ed7953"
             ],
             [
              0.7777777777777778,
              "#fb9f3a"
             ],
             [
              0.8888888888888888,
              "#fdca26"
             ],
             [
              1,
              "#f0f921"
             ]
            ],
            "type": "histogram2dcontour"
           }
          ],
          "mesh3d": [
           {
            "colorbar": {
             "outlinewidth": 0,
             "ticks": ""
            },
            "type": "mesh3d"
           }
          ],
          "parcoords": [
           {
            "line": {
             "colorbar": {
              "outlinewidth": 0,
              "ticks": ""
             }
            },
            "type": "parcoords"
           }
          ],
          "pie": [
           {
            "automargin": true,
            "type": "pie"
           }
          ],
          "scatter": [
           {
            "fillpattern": {
             "fillmode": "overlay",
             "size": 10,
             "solidity": 0.2
            },
            "type": "scatter"
           }
          ],
          "scatter3d": [
           {
            "line": {
             "colorbar": {
              "outlinewidth": 0,
              "ticks": ""
             }
            },
            "marker": {
             "colorbar": {
              "outlinewidth": 0,
              "ticks": ""
             }
            },
            "type": "scatter3d"
           }
          ],
          "scattercarpet": [
           {
            "marker": {
             "colorbar": {
              "outlinewidth": 0,
              "ticks": ""
             }
            },
            "type": "scattercarpet"
           }
          ],
          "scattergeo": [
           {
            "marker": {
             "colorbar": {
              "outlinewidth": 0,
              "ticks": ""
             }
            },
            "type": "scattergeo"
           }
          ],
          "scattergl": [
           {
            "marker": {
             "colorbar": {
              "outlinewidth": 0,
              "ticks": ""
             }
            },
            "type": "scattergl"
           }
          ],
          "scattermap": [
           {
            "marker": {
             "colorbar": {
              "outlinewidth": 0,
              "ticks": ""
             }
            },
            "type": "scattermap"
           }
          ],
          "scattermapbox": [
           {
            "marker": {
             "colorbar": {
              "outlinewidth": 0,
              "ticks": ""
             }
            },
            "type": "scattermapbox"
           }
          ],
          "scatterpolar": [
           {
            "marker": {
             "colorbar": {
              "outlinewidth": 0,
              "ticks": ""
             }
            },
            "type": "scatterpolar"
           }
          ],
          "scatterpolargl": [
           {
            "marker": {
             "colorbar": {
              "outlinewidth": 0,
              "ticks": ""
             }
            },
            "type": "scatterpolargl"
           }
          ],
          "scatterternary": [
           {
            "marker": {
             "colorbar": {
              "outlinewidth": 0,
              "ticks": ""
             }
            },
            "type": "scatterternary"
           }
          ],
          "surface": [
           {
            "colorbar": {
             "outlinewidth": 0,
             "ticks": ""
            },
            "colorscale": [
             [
              0,
              "#0d0887"
             ],
             [
              0.1111111111111111,
              "#46039f"
             ],
             [
              0.2222222222222222,
              "#7201a8"
             ],
             [
              0.3333333333333333,
              "#9c179e"
             ],
             [
              0.4444444444444444,
              "#bd3786"
             ],
             [
              0.5555555555555556,
              "#d8576b"
             ],
             [
              0.6666666666666666,
              "#ed7953"
             ],
             [
              0.7777777777777778,
              "#fb9f3a"
             ],
             [
              0.8888888888888888,
              "#fdca26"
             ],
             [
              1,
              "#f0f921"
             ]
            ],
            "type": "surface"
           }
          ],
          "table": [
           {
            "cells": {
             "fill": {
              "color": "#EBF0F8"
             },
             "line": {
              "color": "white"
             }
            },
            "header": {
             "fill": {
              "color": "#C8D4E3"
             },
             "line": {
              "color": "white"
             }
            },
            "type": "table"
           }
          ]
         },
         "layout": {
          "annotationdefaults": {
           "arrowcolor": "#2a3f5f",
           "arrowhead": 0,
           "arrowwidth": 1
          },
          "autotypenumbers": "strict",
          "coloraxis": {
           "colorbar": {
            "outlinewidth": 0,
            "ticks": ""
           }
          },
          "colorscale": {
           "diverging": [
            [
             0,
             "#8e0152"
            ],
            [
             0.1,
             "#c51b7d"
            ],
            [
             0.2,
             "#de77ae"
            ],
            [
             0.3,
             "#f1b6da"
            ],
            [
             0.4,
             "#fde0ef"
            ],
            [
             0.5,
             "#f7f7f7"
            ],
            [
             0.6,
             "#e6f5d0"
            ],
            [
             0.7,
             "#b8e186"
            ],
            [
             0.8,
             "#7fbc41"
            ],
            [
             0.9,
             "#4d9221"
            ],
            [
             1,
             "#276419"
            ]
           ],
           "sequential": [
            [
             0,
             "#0d0887"
            ],
            [
             0.1111111111111111,
             "#46039f"
            ],
            [
             0.2222222222222222,
             "#7201a8"
            ],
            [
             0.3333333333333333,
             "#9c179e"
            ],
            [
             0.4444444444444444,
             "#bd3786"
            ],
            [
             0.5555555555555556,
             "#d8576b"
            ],
            [
             0.6666666666666666,
             "#ed7953"
            ],
            [
             0.7777777777777778,
             "#fb9f3a"
            ],
            [
             0.8888888888888888,
             "#fdca26"
            ],
            [
             1,
             "#f0f921"
            ]
           ],
           "sequentialminus": [
            [
             0,
             "#0d0887"
            ],
            [
             0.1111111111111111,
             "#46039f"
            ],
            [
             0.2222222222222222,
             "#7201a8"
            ],
            [
             0.3333333333333333,
             "#9c179e"
            ],
            [
             0.4444444444444444,
             "#bd3786"
            ],
            [
             0.5555555555555556,
             "#d8576b"
            ],
            [
             0.6666666666666666,
             "#ed7953"
            ],
            [
             0.7777777777777778,
             "#fb9f3a"
            ],
            [
             0.8888888888888888,
             "#fdca26"
            ],
            [
             1,
             "#f0f921"
            ]
           ]
          },
          "colorway": [
           "#636efa",
           "#EF553B",
           "#00cc96",
           "#ab63fa",
           "#FFA15A",
           "#19d3f3",
           "#FF6692",
           "#B6E880",
           "#FF97FF",
           "#FECB52"
          ],
          "font": {
           "color": "#2a3f5f"
          },
          "geo": {
           "bgcolor": "white",
           "lakecolor": "white",
           "landcolor": "#E5ECF6",
           "showlakes": true,
           "showland": true,
           "subunitcolor": "white"
          },
          "hoverlabel": {
           "align": "left"
          },
          "hovermode": "closest",
          "mapbox": {
           "style": "light"
          },
          "paper_bgcolor": "white",
          "plot_bgcolor": "#E5ECF6",
          "polar": {
           "angularaxis": {
            "gridcolor": "white",
            "linecolor": "white",
            "ticks": ""
           },
           "bgcolor": "#E5ECF6",
           "radialaxis": {
            "gridcolor": "white",
            "linecolor": "white",
            "ticks": ""
           }
          },
          "scene": {
           "xaxis": {
            "backgroundcolor": "#E5ECF6",
            "gridcolor": "white",
            "gridwidth": 2,
            "linecolor": "white",
            "showbackground": true,
            "ticks": "",
            "zerolinecolor": "white"
           },
           "yaxis": {
            "backgroundcolor": "#E5ECF6",
            "gridcolor": "white",
            "gridwidth": 2,
            "linecolor": "white",
            "showbackground": true,
            "ticks": "",
            "zerolinecolor": "white"
           },
           "zaxis": {
            "backgroundcolor": "#E5ECF6",
            "gridcolor": "white",
            "gridwidth": 2,
            "linecolor": "white",
            "showbackground": true,
            "ticks": "",
            "zerolinecolor": "white"
           }
          },
          "shapedefaults": {
           "line": {
            "color": "#2a3f5f"
           }
          },
          "ternary": {
           "aaxis": {
            "gridcolor": "white",
            "linecolor": "white",
            "ticks": ""
           },
           "baxis": {
            "gridcolor": "white",
            "linecolor": "white",
            "ticks": ""
           },
           "bgcolor": "#E5ECF6",
           "caxis": {
            "gridcolor": "white",
            "linecolor": "white",
            "ticks": ""
           }
          },
          "title": {
           "x": 0.05
          },
          "xaxis": {
           "automargin": true,
           "gridcolor": "white",
           "linecolor": "white",
           "ticks": "",
           "title": {
            "standoff": 15
           },
           "zerolinecolor": "white",
           "zerolinewidth": 2
          },
          "yaxis": {
           "automargin": true,
           "gridcolor": "white",
           "linecolor": "white",
           "ticks": "",
           "title": {
            "standoff": 15
           },
           "zerolinecolor": "white",
           "zerolinewidth": 2
          }
         }
        },
        "title": {
         "text": "Gain en % vs prompt minimal — 2 thread(s)"
        },
        "xaxis": {
         "anchor": "y",
         "domain": [
          0,
          1
         ],
         "title": {
          "text": "Prompt length"
         }
        },
        "yaxis": {
         "anchor": "x",
         "domain": [
          0,
          1
         ],
         "title": {
          "text": "Gain (%)"
         }
        }
       }
      }
     },
     "metadata": {},
     "output_type": "display_data"
    },
    {
     "data": {
      "application/vnd.plotly.v1+json": {
       "config": {
        "plotlyServerURL": "https://plot.ly"
       },
       "data": [
        {
         "hovertemplate": "Phase=MATMUL_QKV<br>Prompt length=%{x}<br>Gain (%)=%{y}<extra></extra>",
         "legendgroup": "MATMUL_QKV",
         "line": {
          "color": "#636efa",
          "dash": "solid"
         },
         "marker": {
          "symbol": "circle"
         },
         "mode": "lines+markers",
         "name": "MATMUL_QKV",
         "orientation": "v",
         "showlegend": true,
         "type": "scatter",
         "x": {
          "bdata": "AAAAAAAAQUAAAAAAAIBOQAAAAAAAwF1AAAAAAADgbUAAAAAAAFB9QAAAAAAA+I1A",
          "dtype": "f8"
         },
         "xaxis": "x",
         "y": {
          "bdata": "AAAAAAAAAAD/FRP2keMRQDKH9tHKVy1AADwXYGTyMED8k3jrlfQ4QOGGtc12s1xA",
          "dtype": "f8"
         },
         "yaxis": "y"
        },
        {
         "hovertemplate": "Phase=ROPE<br>Prompt length=%{x}<br>Gain (%)=%{y}<extra></extra>",
         "legendgroup": "ROPE",
         "line": {
          "color": "#EF553B",
          "dash": "solid"
         },
         "marker": {
          "symbol": "circle"
         },
         "mode": "lines+markers",
         "name": "ROPE",
         "orientation": "v",
         "showlegend": true,
         "type": "scatter",
         "x": {
          "bdata": "AAAAAAAAQUAAAAAAAIBOQAAAAAAAwF1AAAAAAADgbUAAAAAAAFB9QAAAAAAA+I1A",
          "dtype": "f8"
         },
         "xaxis": "x",
         "y": {
          "bdata": "AAAAAAAAAACizUWOwE0MQBq4zYYZ1SDAapkp5pdKKUAGcbb0hxgFQDW9rHJYSGBA",
          "dtype": "f8"
         },
         "yaxis": "y"
        },
        {
         "hovertemplate": "Phase=ATTENTION_COMPUTATION<br>Prompt length=%{x}<br>Gain (%)=%{y}<extra></extra>",
         "legendgroup": "ATTENTION_COMPUTATION",
         "line": {
          "color": "#00cc96",
          "dash": "solid"
         },
         "marker": {
          "symbol": "circle"
         },
         "mode": "lines+markers",
         "name": "ATTENTION_COMPUTATION",
         "orientation": "v",
         "showlegend": true,
         "type": "scatter",
         "x": {
          "bdata": "AAAAAAAAQUAAAAAAAIBOQAAAAAAAwF1AAAAAAADgbUAAAAAAAFB9QAAAAAAA+I1A",
          "dtype": "f8"
         },
         "xaxis": "x",
         "y": {
          "bdata": "AAAAAAAAAAByJMlpNcU5wNMdh6dLxEvAqAeYd95YU8C7LrqQx9FVwHaHB4KYAVTA",
          "dtype": "f8"
         },
         "yaxis": "y"
        },
        {
         "hovertemplate": "Phase=MATMUL_OUTPUT_ATTENTION<br>Prompt length=%{x}<br>Gain (%)=%{y}<extra></extra>",
         "legendgroup": "MATMUL_OUTPUT_ATTENTION",
         "line": {
          "color": "#ab63fa",
          "dash": "solid"
         },
         "marker": {
          "symbol": "circle"
         },
         "mode": "lines+markers",
         "name": "MATMUL_OUTPUT_ATTENTION",
         "orientation": "v",
         "showlegend": true,
         "type": "scatter",
         "x": {
          "bdata": "AAAAAAAAQUAAAAAAAIBOQAAAAAAAwF1AAAAAAADgbUAAAAAAAFB9QAAAAAAA+I1A",
          "dtype": "f8"
         },
         "xaxis": "x",
         "y": {
          "bdata": "AAAAAAAAAADCtHutaKMkQCSmyXvebCZAVBoOKTSrKUD0VydyPO4zQI1fCb0LI1lA",
          "dtype": "f8"
         },
         "yaxis": "y"
        },
        {
         "hovertemplate": "Phase=MATMUL_FFN<br>Prompt length=%{x}<br>Gain (%)=%{y}<extra></extra>",
         "legendgroup": "MATMUL_FFN",
         "line": {
          "color": "#FFA15A",
          "dash": "solid"
         },
         "marker": {
          "symbol": "circle"
         },
         "mode": "lines+markers",
         "name": "MATMUL_FFN",
         "orientation": "v",
         "showlegend": true,
         "type": "scatter",
         "x": {
          "bdata": "AAAAAAAAQUAAAAAAAIBOQAAAAAAAwF1AAAAAAADgbUAAAAAAAFB9QAAAAAAA+I1A",
          "dtype": "f8"
         },
         "xaxis": "x",
         "y": {
          "bdata": "AAAAAAAAAAB4Em3afM4ZQFSmdmxpqRRANm6QfFFEDUC63Kf0e20fQBXKJeK2V1VA",
          "dtype": "f8"
         },
         "yaxis": "y"
        },
        {
         "hovertemplate": "Phase=SwiGLU<br>Prompt length=%{x}<br>Gain (%)=%{y}<extra></extra>",
         "legendgroup": "SwiGLU",
         "line": {
          "color": "#19d3f3",
          "dash": "solid"
         },
         "marker": {
          "symbol": "circle"
         },
         "mode": "lines+markers",
         "name": "SwiGLU",
         "orientation": "v",
         "showlegend": true,
         "type": "scatter",
         "x": {
          "bdata": "AAAAAAAAQUAAAAAAAIBOQAAAAAAAwF1AAAAAAADgbUAAAAAAAFB9QAAAAAAA+I1A",
          "dtype": "f8"
         },
         "xaxis": "x",
         "y": {
          "bdata": "AAAAAAAAAADMapHUaAzxP0s/UXEMNAjA0YZHAY7PFcDswoBt8VcJQPGujhOxv1FA",
          "dtype": "f8"
         },
         "yaxis": "y"
        },
        {
         "hovertemplate": "Phase=MATMUL_OUTPUT_FFN<br>Prompt length=%{x}<br>Gain (%)=%{y}<extra></extra>",
         "legendgroup": "MATMUL_OUTPUT_FFN",
         "line": {
          "color": "#FF6692",
          "dash": "solid"
         },
         "marker": {
          "symbol": "circle"
         },
         "mode": "lines+markers",
         "name": "MATMUL_OUTPUT_FFN",
         "orientation": "v",
         "showlegend": true,
         "type": "scatter",
         "x": {
          "bdata": "AAAAAAAAQUAAAAAAAIBOQAAAAAAAwF1AAAAAAADgbUAAAAAAAFB9QAAAAAAA+I1A",
          "dtype": "f8"
         },
         "xaxis": "x",
         "y": {
          "bdata": "AAAAAAAAAACZjhWpDYEiQEyv16THHSFAWCw38YHQFEA+JiXsrioqQD8Bid9/KVZA",
          "dtype": "f8"
         },
         "yaxis": "y"
        }
       ],
       "layout": {
        "legend": {
         "title": {
          "text": "Phase"
         },
         "tracegroupgap": 0
        },
        "template": {
         "data": {
          "bar": [
           {
            "error_x": {
             "color": "#2a3f5f"
            },
            "error_y": {
             "color": "#2a3f5f"
            },
            "marker": {
             "line": {
              "color": "#E5ECF6",
              "width": 0.5
             },
             "pattern": {
              "fillmode": "overlay",
              "size": 10,
              "solidity": 0.2
             }
            },
            "type": "bar"
           }
          ],
          "barpolar": [
           {
            "marker": {
             "line": {
              "color": "#E5ECF6",
              "width": 0.5
             },
             "pattern": {
              "fillmode": "overlay",
              "size": 10,
              "solidity": 0.2
             }
            },
            "type": "barpolar"
           }
          ],
          "carpet": [
           {
            "aaxis": {
             "endlinecolor": "#2a3f5f",
             "gridcolor": "white",
             "linecolor": "white",
             "minorgridcolor": "white",
             "startlinecolor": "#2a3f5f"
            },
            "baxis": {
             "endlinecolor": "#2a3f5f",
             "gridcolor": "white",
             "linecolor": "white",
             "minorgridcolor": "white",
             "startlinecolor": "#2a3f5f"
            },
            "type": "carpet"
           }
          ],
          "choropleth": [
           {
            "colorbar": {
             "outlinewidth": 0,
             "ticks": ""
            },
            "type": "choropleth"
           }
          ],
          "contour": [
           {
            "colorbar": {
             "outlinewidth": 0,
             "ticks": ""
            },
            "colorscale": [
             [
              0,
              "#0d0887"
             ],
             [
              0.1111111111111111,
              "#46039f"
             ],
             [
              0.2222222222222222,
              "#7201a8"
             ],
             [
              0.3333333333333333,
              "#9c179e"
             ],
             [
              0.4444444444444444,
              "#bd3786"
             ],
             [
              0.5555555555555556,
              "#d8576b"
             ],
             [
              0.6666666666666666,
              "#ed7953"
             ],
             [
              0.7777777777777778,
              "#fb9f3a"
             ],
             [
              0.8888888888888888,
              "#fdca26"
             ],
             [
              1,
              "#f0f921"
             ]
            ],
            "type": "contour"
           }
          ],
          "contourcarpet": [
           {
            "colorbar": {
             "outlinewidth": 0,
             "ticks": ""
            },
            "type": "contourcarpet"
           }
          ],
          "heatmap": [
           {
            "colorbar": {
             "outlinewidth": 0,
             "ticks": ""
            },
            "colorscale": [
             [
              0,
              "#0d0887"
             ],
             [
              0.1111111111111111,
              "#46039f"
             ],
             [
              0.2222222222222222,
              "#7201a8"
             ],
             [
              0.3333333333333333,
              "#9c179e"
             ],
             [
              0.4444444444444444,
              "#bd3786"
             ],
             [
              0.5555555555555556,
              "#d8576b"
             ],
             [
              0.6666666666666666,
              "#ed7953"
             ],
             [
              0.7777777777777778,
              "#fb9f3a"
             ],
             [
              0.8888888888888888,
              "#fdca26"
             ],
             [
              1,
              "#f0f921"
             ]
            ],
            "type": "heatmap"
           }
          ],
          "histogram": [
           {
            "marker": {
             "pattern": {
              "fillmode": "overlay",
              "size": 10,
              "solidity": 0.2
             }
            },
            "type": "histogram"
           }
          ],
          "histogram2d": [
           {
            "colorbar": {
             "outlinewidth": 0,
             "ticks": ""
            },
            "colorscale": [
             [
              0,
              "#0d0887"
             ],
             [
              0.1111111111111111,
              "#46039f"
             ],
             [
              0.2222222222222222,
              "#7201a8"
             ],
             [
              0.3333333333333333,
              "#9c179e"
             ],
             [
              0.4444444444444444,
              "#bd3786"
             ],
             [
              0.5555555555555556,
              "#d8576b"
             ],
             [
              0.6666666666666666,
              "#ed7953"
             ],
             [
              0.7777777777777778,
              "#fb9f3a"
             ],
             [
              0.8888888888888888,
              "#fdca26"
             ],
             [
              1,
              "#f0f921"
             ]
            ],
            "type": "histogram2d"
           }
          ],
          "histogram2dcontour": [
           {
            "colorbar": {
             "outlinewidth": 0,
             "ticks": ""
            },
            "colorscale": [
             [
              0,
              "#0d0887"
             ],
             [
              0.1111111111111111,
              "#46039f"
             ],
             [
              0.2222222222222222,
              "#7201a8"
             ],
             [
              0.3333333333333333,
              "#9c179e"
             ],
             [
              0.4444444444444444,
              "#bd3786"
             ],
             [
              0.5555555555555556,
              "#d8576b"
             ],
             [
              0.6666666666666666,
              "#ed7953"
             ],
             [
              0.7777777777777778,
              "#fb9f3a"
             ],
             [
              0.8888888888888888,
              "#fdca26"
             ],
             [
              1,
              "#f0f921"
             ]
            ],
            "type": "histogram2dcontour"
           }
          ],
          "mesh3d": [
           {
            "colorbar": {
             "outlinewidth": 0,
             "ticks": ""
            },
            "type": "mesh3d"
           }
          ],
          "parcoords": [
           {
            "line": {
             "colorbar": {
              "outlinewidth": 0,
              "ticks": ""
             }
            },
            "type": "parcoords"
           }
          ],
          "pie": [
           {
            "automargin": true,
            "type": "pie"
           }
          ],
          "scatter": [
           {
            "fillpattern": {
             "fillmode": "overlay",
             "size": 10,
             "solidity": 0.2
            },
            "type": "scatter"
           }
          ],
          "scatter3d": [
           {
            "line": {
             "colorbar": {
              "outlinewidth": 0,
              "ticks": ""
             }
            },
            "marker": {
             "colorbar": {
              "outlinewidth": 0,
              "ticks": ""
             }
            },
            "type": "scatter3d"
           }
          ],
          "scattercarpet": [
           {
            "marker": {
             "colorbar": {
              "outlinewidth": 0,
              "ticks": ""
             }
            },
            "type": "scattercarpet"
           }
          ],
          "scattergeo": [
           {
            "marker": {
             "colorbar": {
              "outlinewidth": 0,
              "ticks": ""
             }
            },
            "type": "scattergeo"
           }
          ],
          "scattergl": [
           {
            "marker": {
             "colorbar": {
              "outlinewidth": 0,
              "ticks": ""
             }
            },
            "type": "scattergl"
           }
          ],
          "scattermap": [
           {
            "marker": {
             "colorbar": {
              "outlinewidth": 0,
              "ticks": ""
             }
            },
            "type": "scattermap"
           }
          ],
          "scattermapbox": [
           {
            "marker": {
             "colorbar": {
              "outlinewidth": 0,
              "ticks": ""
             }
            },
            "type": "scattermapbox"
           }
          ],
          "scatterpolar": [
           {
            "marker": {
             "colorbar": {
              "outlinewidth": 0,
              "ticks": ""
             }
            },
            "type": "scatterpolar"
           }
          ],
          "scatterpolargl": [
           {
            "marker": {
             "colorbar": {
              "outlinewidth": 0,
              "ticks": ""
             }
            },
            "type": "scatterpolargl"
           }
          ],
          "scatterternary": [
           {
            "marker": {
             "colorbar": {
              "outlinewidth": 0,
              "ticks": ""
             }
            },
            "type": "scatterternary"
           }
          ],
          "surface": [
           {
            "colorbar": {
             "outlinewidth": 0,
             "ticks": ""
            },
            "colorscale": [
             [
              0,
              "#0d0887"
             ],
             [
              0.1111111111111111,
              "#46039f"
             ],
             [
              0.2222222222222222,
              "#7201a8"
             ],
             [
              0.3333333333333333,
              "#9c179e"
             ],
             [
              0.4444444444444444,
              "#bd3786"
             ],
             [
              0.5555555555555556,
              "#d8576b"
             ],
             [
              0.6666666666666666,
              "#ed7953"
             ],
             [
              0.7777777777777778,
              "#fb9f3a"
             ],
             [
              0.8888888888888888,
              "#fdca26"
             ],
             [
              1,
              "#f0f921"
             ]
            ],
            "type": "surface"
           }
          ],
          "table": [
           {
            "cells": {
             "fill": {
              "color": "#EBF0F8"
             },
             "line": {
              "color": "white"
             }
            },
            "header": {
             "fill": {
              "color": "#C8D4E3"
             },
             "line": {
              "color": "white"
             }
            },
            "type": "table"
           }
          ]
         },
         "layout": {
          "annotationdefaults": {
           "arrowcolor": "#2a3f5f",
           "arrowhead": 0,
           "arrowwidth": 1
          },
          "autotypenumbers": "strict",
          "coloraxis": {
           "colorbar": {
            "outlinewidth": 0,
            "ticks": ""
           }
          },
          "colorscale": {
           "diverging": [
            [
             0,
             "#8e0152"
            ],
            [
             0.1,
             "#c51b7d"
            ],
            [
             0.2,
             "#de77ae"
            ],
            [
             0.3,
             "#f1b6da"
            ],
            [
             0.4,
             "#fde0ef"
            ],
            [
             0.5,
             "#f7f7f7"
            ],
            [
             0.6,
             "#e6f5d0"
            ],
            [
             0.7,
             "#b8e186"
            ],
            [
             0.8,
             "#7fbc41"
            ],
            [
             0.9,
             "#4d9221"
            ],
            [
             1,
             "#276419"
            ]
           ],
           "sequential": [
            [
             0,
             "#0d0887"
            ],
            [
             0.1111111111111111,
             "#46039f"
            ],
            [
             0.2222222222222222,
             "#7201a8"
            ],
            [
             0.3333333333333333,
             "#9c179e"
            ],
            [
             0.4444444444444444,
             "#bd3786"
            ],
            [
             0.5555555555555556,
             "#d8576b"
            ],
            [
             0.6666666666666666,
             "#ed7953"
            ],
            [
             0.7777777777777778,
             "#fb9f3a"
            ],
            [
             0.8888888888888888,
             "#fdca26"
            ],
            [
             1,
             "#f0f921"
            ]
           ],
           "sequentialminus": [
            [
             0,
             "#0d0887"
            ],
            [
             0.1111111111111111,
             "#46039f"
            ],
            [
             0.2222222222222222,
             "#7201a8"
            ],
            [
             0.3333333333333333,
             "#9c179e"
            ],
            [
             0.4444444444444444,
             "#bd3786"
            ],
            [
             0.5555555555555556,
             "#d8576b"
            ],
            [
             0.6666666666666666,
             "#ed7953"
            ],
            [
             0.7777777777777778,
             "#fb9f3a"
            ],
            [
             0.8888888888888888,
             "#fdca26"
            ],
            [
             1,
             "#f0f921"
            ]
           ]
          },
          "colorway": [
           "#636efa",
           "#EF553B",
           "#00cc96",
           "#ab63fa",
           "#FFA15A",
           "#19d3f3",
           "#FF6692",
           "#B6E880",
           "#FF97FF",
           "#FECB52"
          ],
          "font": {
           "color": "#2a3f5f"
          },
          "geo": {
           "bgcolor": "white",
           "lakecolor": "white",
           "landcolor": "#E5ECF6",
           "showlakes": true,
           "showland": true,
           "subunitcolor": "white"
          },
          "hoverlabel": {
           "align": "left"
          },
          "hovermode": "closest",
          "mapbox": {
           "style": "light"
          },
          "paper_bgcolor": "white",
          "plot_bgcolor": "#E5ECF6",
          "polar": {
           "angularaxis": {
            "gridcolor": "white",
            "linecolor": "white",
            "ticks": ""
           },
           "bgcolor": "#E5ECF6",
           "radialaxis": {
            "gridcolor": "white",
            "linecolor": "white",
            "ticks": ""
           }
          },
          "scene": {
           "xaxis": {
            "backgroundcolor": "#E5ECF6",
            "gridcolor": "white",
            "gridwidth": 2,
            "linecolor": "white",
            "showbackground": true,
            "ticks": "",
            "zerolinecolor": "white"
           },
           "yaxis": {
            "backgroundcolor": "#E5ECF6",
            "gridcolor": "white",
            "gridwidth": 2,
            "linecolor": "white",
            "showbackground": true,
            "ticks": "",
            "zerolinecolor": "white"
           },
           "zaxis": {
            "backgroundcolor": "#E5ECF6",
            "gridcolor": "white",
            "gridwidth": 2,
            "linecolor": "white",
            "showbackground": true,
            "ticks": "",
            "zerolinecolor": "white"
           }
          },
          "shapedefaults": {
           "line": {
            "color": "#2a3f5f"
           }
          },
          "ternary": {
           "aaxis": {
            "gridcolor": "white",
            "linecolor": "white",
            "ticks": ""
           },
           "baxis": {
            "gridcolor": "white",
            "linecolor": "white",
            "ticks": ""
           },
           "bgcolor": "#E5ECF6",
           "caxis": {
            "gridcolor": "white",
            "linecolor": "white",
            "ticks": ""
           }
          },
          "title": {
           "x": 0.05
          },
          "xaxis": {
           "automargin": true,
           "gridcolor": "white",
           "linecolor": "white",
           "ticks": "",
           "title": {
            "standoff": 15
           },
           "zerolinecolor": "white",
           "zerolinewidth": 2
          },
          "yaxis": {
           "automargin": true,
           "gridcolor": "white",
           "linecolor": "white",
           "ticks": "",
           "title": {
            "standoff": 15
           },
           "zerolinecolor": "white",
           "zerolinewidth": 2
          }
         }
        },
        "title": {
         "text": "Gain en % vs prompt minimal — 4 thread(s)"
        },
        "xaxis": {
         "anchor": "y",
         "domain": [
          0,
          1
         ],
         "title": {
          "text": "Prompt length"
         }
        },
        "yaxis": {
         "anchor": "x",
         "domain": [
          0,
          1
         ],
         "title": {
          "text": "Gain (%)"
         }
        }
       }
      }
     },
     "metadata": {},
     "output_type": "display_data"
    },
    {
     "data": {
      "application/vnd.plotly.v1+json": {
       "config": {
        "plotlyServerURL": "https://plot.ly"
       },
       "data": [
        {
         "hovertemplate": "Phase=MATMUL_QKV<br>Prompt length=%{x}<br>Gain (%)=%{y}<extra></extra>",
         "legendgroup": "MATMUL_QKV",
         "line": {
          "color": "#636efa",
          "dash": "solid"
         },
         "marker": {
          "symbol": "circle"
         },
         "mode": "lines+markers",
         "name": "MATMUL_QKV",
         "orientation": "v",
         "showlegend": true,
         "type": "scatter",
         "x": {
          "bdata": "AAAAAAAAQUAAAAAAAIBOQAAAAAAAwF1AAAAAAADgbUAAAAAAAFB9QAAAAAAA+I1A",
          "dtype": "f8"
         },
         "xaxis": "x",
         "y": {
          "bdata": "AAAAAAAAAAD9qCjYok0jQFcSIKQGnSBAvpE1jvEEJEBL0Rp2yzYuQGREb3CATFxA",
          "dtype": "f8"
         },
         "yaxis": "y"
        },
        {
         "hovertemplate": "Phase=ROPE<br>Prompt length=%{x}<br>Gain (%)=%{y}<extra></extra>",
         "legendgroup": "ROPE",
         "line": {
          "color": "#EF553B",
          "dash": "solid"
         },
         "marker": {
          "symbol": "circle"
         },
         "mode": "lines+markers",
         "name": "ROPE",
         "orientation": "v",
         "showlegend": true,
         "type": "scatter",
         "x": {
          "bdata": "AAAAAAAAQUAAAAAAAIBOQAAAAAAAwF1AAAAAAADgbUAAAAAAAFB9QAAAAAAA+I1A",
          "dtype": "f8"
         },
         "xaxis": "x",
         "y": {
          "bdata": "AAAAAAAAAACMkVhXuzs6QKC9viLq6ck/2RRv/IvDMUASkhY5bXXwv2k7CadlFVpA",
          "dtype": "f8"
         },
         "yaxis": "y"
        },
        {
         "hovertemplate": "Phase=ATTENTION_COMPUTATION<br>Prompt length=%{x}<br>Gain (%)=%{y}<extra></extra>",
         "legendgroup": "ATTENTION_COMPUTATION",
         "line": {
          "color": "#00cc96",
          "dash": "solid"
         },
         "marker": {
          "symbol": "circle"
         },
         "mode": "lines+markers",
         "name": "ATTENTION_COMPUTATION",
         "orientation": "v",
         "showlegend": true,
         "type": "scatter",
         "x": {
          "bdata": "AAAAAAAAQUAAAAAAAIBOQAAAAAAAwF1AAAAAAADgbUAAAAAAAFB9QAAAAAAA+I1A",
          "dtype": "f8"
         },
         "xaxis": "x",
         "y": {
          "bdata": "AAAAAAAAAAAvGduttrw2wFWLGUdOXk3AGcF18X2mU8A990h1x/FVwDqRxXvV5lPA",
          "dtype": "f8"
         },
         "yaxis": "y"
        },
        {
         "hovertemplate": "Phase=MATMUL_OUTPUT_ATTENTION<br>Prompt length=%{x}<br>Gain (%)=%{y}<extra></extra>",
         "legendgroup": "MATMUL_OUTPUT_ATTENTION",
         "line": {
          "color": "#ab63fa",
          "dash": "solid"
         },
         "marker": {
          "symbol": "circle"
         },
         "mode": "lines+markers",
         "name": "MATMUL_OUTPUT_ATTENTION",
         "orientation": "v",
         "showlegend": true,
         "type": "scatter",
         "x": {
          "bdata": "AAAAAAAAQUAAAAAAAIBOQAAAAAAAwF1AAAAAAADgbUAAAAAAAFB9QAAAAAAA+I1A",
          "dtype": "f8"
         },
         "xaxis": "x",
         "y": {
          "bdata": "AAAAAAAAAAC7oPQYGNQ3QOYDeP0a7jdAvGoB+lKBNUA30t0xNqBEQGdT0G5lqGNA",
          "dtype": "f8"
         },
         "yaxis": "y"
        },
        {
         "hovertemplate": "Phase=MATMUL_FFN<br>Prompt length=%{x}<br>Gain (%)=%{y}<extra></extra>",
         "legendgroup": "MATMUL_FFN",
         "line": {
          "color": "#FFA15A",
          "dash": "solid"
         },
         "marker": {
          "symbol": "circle"
         },
         "mode": "lines+markers",
         "name": "MATMUL_FFN",
         "orientation": "v",
         "showlegend": true,
         "type": "scatter",
         "x": {
          "bdata": "AAAAAAAAQUAAAAAAAIBOQAAAAAAAwF1AAAAAAADgbUAAAAAAAFB9QAAAAAAA+I1A",
          "dtype": "f8"
         },
         "xaxis": "x",
         "y": {
          "bdata": "AAAAAAAAAABpK6RRQZ84QPfLt+ExGDdAAkkLUdztLUC8fD7ClUk9QLBHXYV6AGFA",
          "dtype": "f8"
         },
         "yaxis": "y"
        },
        {
         "hovertemplate": "Phase=SwiGLU<br>Prompt length=%{x}<br>Gain (%)=%{y}<extra></extra>",
         "legendgroup": "SwiGLU",
         "line": {
          "color": "#19d3f3",
          "dash": "solid"
         },
         "marker": {
          "symbol": "circle"
         },
         "mode": "lines+markers",
         "name": "SwiGLU",
         "orientation": "v",
         "showlegend": true,
         "type": "scatter",
         "x": {
          "bdata": "AAAAAAAAQUAAAAAAAIBOQAAAAAAAwF1AAAAAAADgbUAAAAAAAFB9QAAAAAAA+I1A",
          "dtype": "f8"
         },
         "xaxis": "x",
         "y": {
          "bdata": "AAAAAAAAAAAaQIw4X8Y+QG4aXJJEazZAPR8gXyHNM0B2Y0SfjW87QIW7P/k7RWBA",
          "dtype": "f8"
         },
         "yaxis": "y"
        },
        {
         "hovertemplate": "Phase=MATMUL_OUTPUT_FFN<br>Prompt length=%{x}<br>Gain (%)=%{y}<extra></extra>",
         "legendgroup": "MATMUL_OUTPUT_FFN",
         "line": {
          "color": "#FF6692",
          "dash": "solid"
         },
         "marker": {
          "symbol": "circle"
         },
         "mode": "lines+markers",
         "name": "MATMUL_OUTPUT_FFN",
         "orientation": "v",
         "showlegend": true,
         "type": "scatter",
         "x": {
          "bdata": "AAAAAAAAQUAAAAAAAIBOQAAAAAAAwF1AAAAAAADgbUAAAAAAAFB9QAAAAAAA+I1A",
          "dtype": "f8"
         },
         "xaxis": "x",
         "y": {
          "bdata": "AAAAAAAAAABfodZDI6Y6QFAT1FMo6DtAsQ3aF2QiNECyZQ7sAwNEQL2pvXWfqmNA",
          "dtype": "f8"
         },
         "yaxis": "y"
        }
       ],
       "layout": {
        "legend": {
         "title": {
          "text": "Phase"
         },
         "tracegroupgap": 0
        },
        "template": {
         "data": {
          "bar": [
           {
            "error_x": {
             "color": "#2a3f5f"
            },
            "error_y": {
             "color": "#2a3f5f"
            },
            "marker": {
             "line": {
              "color": "#E5ECF6",
              "width": 0.5
             },
             "pattern": {
              "fillmode": "overlay",
              "size": 10,
              "solidity": 0.2
             }
            },
            "type": "bar"
           }
          ],
          "barpolar": [
           {
            "marker": {
             "line": {
              "color": "#E5ECF6",
              "width": 0.5
             },
             "pattern": {
              "fillmode": "overlay",
              "size": 10,
              "solidity": 0.2
             }
            },
            "type": "barpolar"
           }
          ],
          "carpet": [
           {
            "aaxis": {
             "endlinecolor": "#2a3f5f",
             "gridcolor": "white",
             "linecolor": "white",
             "minorgridcolor": "white",
             "startlinecolor": "#2a3f5f"
            },
            "baxis": {
             "endlinecolor": "#2a3f5f",
             "gridcolor": "white",
             "linecolor": "white",
             "minorgridcolor": "white",
             "startlinecolor": "#2a3f5f"
            },
            "type": "carpet"
           }
          ],
          "choropleth": [
           {
            "colorbar": {
             "outlinewidth": 0,
             "ticks": ""
            },
            "type": "choropleth"
           }
          ],
          "contour": [
           {
            "colorbar": {
             "outlinewidth": 0,
             "ticks": ""
            },
            "colorscale": [
             [
              0,
              "#0d0887"
             ],
             [
              0.1111111111111111,
              "#46039f"
             ],
             [
              0.2222222222222222,
              "#7201a8"
             ],
             [
              0.3333333333333333,
              "#9c179e"
             ],
             [
              0.4444444444444444,
              "#bd3786"
             ],
             [
              0.5555555555555556,
              "#d8576b"
             ],
             [
              0.6666666666666666,
              "#ed7953"
             ],
             [
              0.7777777777777778,
              "#fb9f3a"
             ],
             [
              0.8888888888888888,
              "#fdca26"
             ],
             [
              1,
              "#f0f921"
             ]
            ],
            "type": "contour"
           }
          ],
          "contourcarpet": [
           {
            "colorbar": {
             "outlinewidth": 0,
             "ticks": ""
            },
            "type": "contourcarpet"
           }
          ],
          "heatmap": [
           {
            "colorbar": {
             "outlinewidth": 0,
             "ticks": ""
            },
            "colorscale": [
             [
              0,
              "#0d0887"
             ],
             [
              0.1111111111111111,
              "#46039f"
             ],
             [
              0.2222222222222222,
              "#7201a8"
             ],
             [
              0.3333333333333333,
              "#9c179e"
             ],
             [
              0.4444444444444444,
              "#bd3786"
             ],
             [
              0.5555555555555556,
              "#d8576b"
             ],
             [
              0.6666666666666666,
              "#ed7953"
             ],
             [
              0.7777777777777778,
              "#fb9f3a"
             ],
             [
              0.8888888888888888,
              "#fdca26"
             ],
             [
              1,
              "#f0f921"
             ]
            ],
            "type": "heatmap"
           }
          ],
          "histogram": [
           {
            "marker": {
             "pattern": {
              "fillmode": "overlay",
              "size": 10,
              "solidity": 0.2
             }
            },
            "type": "histogram"
           }
          ],
          "histogram2d": [
           {
            "colorbar": {
             "outlinewidth": 0,
             "ticks": ""
            },
            "colorscale": [
             [
              0,
              "#0d0887"
             ],
             [
              0.1111111111111111,
              "#46039f"
             ],
             [
              0.2222222222222222,
              "#7201a8"
             ],
             [
              0.3333333333333333,
              "#9c179e"
             ],
             [
              0.4444444444444444,
              "#bd3786"
             ],
             [
              0.5555555555555556,
              "#d8576b"
             ],
             [
              0.6666666666666666,
              "#ed7953"
             ],
             [
              0.7777777777777778,
              "#fb9f3a"
             ],
             [
              0.8888888888888888,
              "#fdca26"
             ],
             [
              1,
              "#f0f921"
             ]
            ],
            "type": "histogram2d"
           }
          ],
          "histogram2dcontour": [
           {
            "colorbar": {
             "outlinewidth": 0,
             "ticks": ""
            },
            "colorscale": [
             [
              0,
              "#0d0887"
             ],
             [
              0.1111111111111111,
              "#46039f"
             ],
             [
              0.2222222222222222,
              "#7201a8"
             ],
             [
              0.3333333333333333,
              "#9c179e"
             ],
             [
              0.4444444444444444,
              "#bd3786"
             ],
             [
              0.5555555555555556,
              "#d8576b"
             ],
             [
              0.6666666666666666,
              "#ed7953"
             ],
             [
              0.7777777777777778,
              "#fb9f3a"
             ],
             [
              0.8888888888888888,
              "#fdca26"
             ],
             [
              1,
              "#f0f921"
             ]
            ],
            "type": "histogram2dcontour"
           }
          ],
          "mesh3d": [
           {
            "colorbar": {
             "outlinewidth": 0,
             "ticks": ""
            },
            "type": "mesh3d"
           }
          ],
          "parcoords": [
           {
            "line": {
             "colorbar": {
              "outlinewidth": 0,
              "ticks": ""
             }
            },
            "type": "parcoords"
           }
          ],
          "pie": [
           {
            "automargin": true,
            "type": "pie"
           }
          ],
          "scatter": [
           {
            "fillpattern": {
             "fillmode": "overlay",
             "size": 10,
             "solidity": 0.2
            },
            "type": "scatter"
           }
          ],
          "scatter3d": [
           {
            "line": {
             "colorbar": {
              "outlinewidth": 0,
              "ticks": ""
             }
            },
            "marker": {
             "colorbar": {
              "outlinewidth": 0,
              "ticks": ""
             }
            },
            "type": "scatter3d"
           }
          ],
          "scattercarpet": [
           {
            "marker": {
             "colorbar": {
              "outlinewidth": 0,
              "ticks": ""
             }
            },
            "type": "scattercarpet"
           }
          ],
          "scattergeo": [
           {
            "marker": {
             "colorbar": {
              "outlinewidth": 0,
              "ticks": ""
             }
            },
            "type": "scattergeo"
           }
          ],
          "scattergl": [
           {
            "marker": {
             "colorbar": {
              "outlinewidth": 0,
              "ticks": ""
             }
            },
            "type": "scattergl"
           }
          ],
          "scattermap": [
           {
            "marker": {
             "colorbar": {
              "outlinewidth": 0,
              "ticks": ""
             }
            },
            "type": "scattermap"
           }
          ],
          "scattermapbox": [
           {
            "marker": {
             "colorbar": {
              "outlinewidth": 0,
              "ticks": ""
             }
            },
            "type": "scattermapbox"
           }
          ],
          "scatterpolar": [
           {
            "marker": {
             "colorbar": {
              "outlinewidth": 0,
              "ticks": ""
             }
            },
            "type": "scatterpolar"
           }
          ],
          "scatterpolargl": [
           {
            "marker": {
             "colorbar": {
              "outlinewidth": 0,
              "ticks": ""
             }
            },
            "type": "scatterpolargl"
           }
          ],
          "scatterternary": [
           {
            "marker": {
             "colorbar": {
              "outlinewidth": 0,
              "ticks": ""
             }
            },
            "type": "scatterternary"
           }
          ],
          "surface": [
           {
            "colorbar": {
             "outlinewidth": 0,
             "ticks": ""
            },
            "colorscale": [
             [
              0,
              "#0d0887"
             ],
             [
              0.1111111111111111,
              "#46039f"
             ],
             [
              0.2222222222222222,
              "#7201a8"
             ],
             [
              0.3333333333333333,
              "#9c179e"
             ],
             [
              0.4444444444444444,
              "#bd3786"
             ],
             [
              0.5555555555555556,
              "#d8576b"
             ],
             [
              0.6666666666666666,
              "#ed7953"
             ],
             [
              0.7777777777777778,
              "#fb9f3a"
             ],
             [
              0.8888888888888888,
              "#fdca26"
             ],
             [
              1,
              "#f0f921"
             ]
            ],
            "type": "surface"
           }
          ],
          "table": [
           {
            "cells": {
             "fill": {
              "color": "#EBF0F8"
             },
             "line": {
              "color": "white"
             }
            },
            "header": {
             "fill": {
              "color": "#C8D4E3"
             },
             "line": {
              "color": "white"
             }
            },
            "type": "table"
           }
          ]
         },
         "layout": {
          "annotationdefaults": {
           "arrowcolor": "#2a3f5f",
           "arrowhead": 0,
           "arrowwidth": 1
          },
          "autotypenumbers": "strict",
          "coloraxis": {
           "colorbar": {
            "outlinewidth": 0,
            "ticks": ""
           }
          },
          "colorscale": {
           "diverging": [
            [
             0,
             "#8e0152"
            ],
            [
             0.1,
             "#c51b7d"
            ],
            [
             0.2,
             "#de77ae"
            ],
            [
             0.3,
             "#f1b6da"
            ],
            [
             0.4,
             "#fde0ef"
            ],
            [
             0.5,
             "#f7f7f7"
            ],
            [
             0.6,
             "#e6f5d0"
            ],
            [
             0.7,
             "#b8e186"
            ],
            [
             0.8,
             "#7fbc41"
            ],
            [
             0.9,
             "#4d9221"
            ],
            [
             1,
             "#276419"
            ]
           ],
           "sequential": [
            [
             0,
             "#0d0887"
            ],
            [
             0.1111111111111111,
             "#46039f"
            ],
            [
             0.2222222222222222,
             "#7201a8"
            ],
            [
             0.3333333333333333,
             "#9c179e"
            ],
            [
             0.4444444444444444,
             "#bd3786"
            ],
            [
             0.5555555555555556,
             "#d8576b"
            ],
            [
             0.6666666666666666,
             "#ed7953"
            ],
            [
             0.7777777777777778,
             "#fb9f3a"
            ],
            [
             0.8888888888888888,
             "#fdca26"
            ],
            [
             1,
             "#f0f921"
            ]
           ],
           "sequentialminus": [
            [
             0,
             "#0d0887"
            ],
            [
             0.1111111111111111,
             "#46039f"
            ],
            [
             0.2222222222222222,
             "#7201a8"
            ],
            [
             0.3333333333333333,
             "#9c179e"
            ],
            [
             0.4444444444444444,
             "#bd3786"
            ],
            [
             0.5555555555555556,
             "#d8576b"
            ],
            [
             0.6666666666666666,
             "#ed7953"
            ],
            [
             0.7777777777777778,
             "#fb9f3a"
            ],
            [
             0.8888888888888888,
             "#fdca26"
            ],
            [
             1,
             "#f0f921"
            ]
           ]
          },
          "colorway": [
           "#636efa",
           "#EF553B",
           "#00cc96",
           "#ab63fa",
           "#FFA15A",
           "#19d3f3",
           "#FF6692",
           "#B6E880",
           "#FF97FF",
           "#FECB52"
          ],
          "font": {
           "color": "#2a3f5f"
          },
          "geo": {
           "bgcolor": "white",
           "lakecolor": "white",
           "landcolor": "#E5ECF6",
           "showlakes": true,
           "showland": true,
           "subunitcolor": "white"
          },
          "hoverlabel": {
           "align": "left"
          },
          "hovermode": "closest",
          "mapbox": {
           "style": "light"
          },
          "paper_bgcolor": "white",
          "plot_bgcolor": "#E5ECF6",
          "polar": {
           "angularaxis": {
            "gridcolor": "white",
            "linecolor": "white",
            "ticks": ""
           },
           "bgcolor": "#E5ECF6",
           "radialaxis": {
            "gridcolor": "white",
            "linecolor": "white",
            "ticks": ""
           }
          },
          "scene": {
           "xaxis": {
            "backgroundcolor": "#E5ECF6",
            "gridcolor": "white",
            "gridwidth": 2,
            "linecolor": "white",
            "showbackground": true,
            "ticks": "",
            "zerolinecolor": "white"
           },
           "yaxis": {
            "backgroundcolor": "#E5ECF6",
            "gridcolor": "white",
            "gridwidth": 2,
            "linecolor": "white",
            "showbackground": true,
            "ticks": "",
            "zerolinecolor": "white"
           },
           "zaxis": {
            "backgroundcolor": "#E5ECF6",
            "gridcolor": "white",
            "gridwidth": 2,
            "linecolor": "white",
            "showbackground": true,
            "ticks": "",
            "zerolinecolor": "white"
           }
          },
          "shapedefaults": {
           "line": {
            "color": "#2a3f5f"
           }
          },
          "ternary": {
           "aaxis": {
            "gridcolor": "white",
            "linecolor": "white",
            "ticks": ""
           },
           "baxis": {
            "gridcolor": "white",
            "linecolor": "white",
            "ticks": ""
           },
           "bgcolor": "#E5ECF6",
           "caxis": {
            "gridcolor": "white",
            "linecolor": "white",
            "ticks": ""
           }
          },
          "title": {
           "x": 0.05
          },
          "xaxis": {
           "automargin": true,
           "gridcolor": "white",
           "linecolor": "white",
           "ticks": "",
           "title": {
            "standoff": 15
           },
           "zerolinecolor": "white",
           "zerolinewidth": 2
          },
          "yaxis": {
           "automargin": true,
           "gridcolor": "white",
           "linecolor": "white",
           "ticks": "",
           "title": {
            "standoff": 15
           },
           "zerolinecolor": "white",
           "zerolinewidth": 2
          }
         }
        },
        "title": {
         "text": "Gain en % vs prompt minimal — 8 thread(s)"
        },
        "xaxis": {
         "anchor": "y",
         "domain": [
          0,
          1
         ],
         "title": {
          "text": "Prompt length"
         }
        },
        "yaxis": {
         "anchor": "x",
         "domain": [
          0,
          1
         ],
         "title": {
          "text": "Gain (%)"
         }
        }
       }
      }
     },
     "metadata": {},
     "output_type": "display_data"
    },
    {
     "data": {
      "application/vnd.plotly.v1+json": {
       "config": {
        "plotlyServerURL": "https://plot.ly"
       },
       "data": [
        {
         "hovertemplate": "Phase=MATMUL_QKV<br>Prompt length=%{x}<br>Gain (%)=%{y}<extra></extra>",
         "legendgroup": "MATMUL_QKV",
         "line": {
          "color": "#636efa",
          "dash": "solid"
         },
         "marker": {
          "symbol": "circle"
         },
         "mode": "lines+markers",
         "name": "MATMUL_QKV",
         "orientation": "v",
         "showlegend": true,
         "type": "scatter",
         "x": {
          "bdata": "AAAAAAAAQUAAAAAAAIBOQAAAAAAAwF1AAAAAAADgbUAAAAAAAFB9QAAAAAAA+I1A",
          "dtype": "f8"
         },
         "xaxis": "x",
         "y": {
          "bdata": "AAAAAAAAAABESR1+5BoSwKSxWYpSDSFA8lJPfbxII0CYyAs6jwgpQLm8elx+tVZA",
          "dtype": "f8"
         },
         "yaxis": "y"
        },
        {
         "hovertemplate": "Phase=ROPE<br>Prompt length=%{x}<br>Gain (%)=%{y}<extra></extra>",
         "legendgroup": "ROPE",
         "line": {
          "color": "#EF553B",
          "dash": "solid"
         },
         "marker": {
          "symbol": "circle"
         },
         "mode": "lines+markers",
         "name": "ROPE",
         "orientation": "v",
         "showlegend": true,
         "type": "scatter",
         "x": {
          "bdata": "AAAAAAAAQUAAAAAAAIBOQAAAAAAAwF1AAAAAAADgbUAAAAAAAFB9QAAAAAAA+I1A",
          "dtype": "f8"
         },
         "xaxis": "x",
         "y": {
          "bdata": "AAAAAAAAAABcw3pTPDghQMyRSaXg8i1AVJzvQ+NQNkA1pWPfAlcwQJrwUiJiKV5A",
          "dtype": "f8"
         },
         "yaxis": "y"
        },
        {
         "hovertemplate": "Phase=ATTENTION_COMPUTATION<br>Prompt length=%{x}<br>Gain (%)=%{y}<extra></extra>",
         "legendgroup": "ATTENTION_COMPUTATION",
         "line": {
          "color": "#00cc96",
          "dash": "solid"
         },
         "marker": {
          "symbol": "circle"
         },
         "mode": "lines+markers",
         "name": "ATTENTION_COMPUTATION",
         "orientation": "v",
         "showlegend": true,
         "type": "scatter",
         "x": {
          "bdata": "AAAAAAAAQUAAAAAAAIBOQAAAAAAAwF1AAAAAAADgbUAAAAAAAFB9QAAAAAAA+I1A",
          "dtype": "f8"
         },
         "xaxis": "x",
         "y": {
          "bdata": "AAAAAAAAAABGPjoFm31AwBntsFVebU3A3B8s0F6gU8DAF454qSFWwIGFj8vMZFTA",
          "dtype": "f8"
         },
         "yaxis": "y"
        },
        {
         "hovertemplate": "Phase=MATMUL_OUTPUT_ATTENTION<br>Prompt length=%{x}<br>Gain (%)=%{y}<extra></extra>",
         "legendgroup": "MATMUL_OUTPUT_ATTENTION",
         "line": {
          "color": "#ab63fa",
          "dash": "solid"
         },
         "marker": {
          "symbol": "circle"
         },
         "mode": "lines+markers",
         "name": "MATMUL_OUTPUT_ATTENTION",
         "orientation": "v",
         "showlegend": true,
         "type": "scatter",
         "x": {
          "bdata": "AAAAAAAAQUAAAAAAAIBOQAAAAAAAwF1AAAAAAADgbUAAAAAAAFB9QAAAAAAA+I1A",
          "dtype": "f8"
         },
         "xaxis": "x",
         "y": {
          "bdata": "AAAAAAAAAACZZiSL7OsNwMQo0VJx3yRAoL7yeOKLMUCu9kGZB7wxQAjQbX7w6VhA",
          "dtype": "f8"
         },
         "yaxis": "y"
        },
        {
         "hovertemplate": "Phase=MATMUL_FFN<br>Prompt length=%{x}<br>Gain (%)=%{y}<extra></extra>",
         "legendgroup": "MATMUL_FFN",
         "line": {
          "color": "#FFA15A",
          "dash": "solid"
         },
         "marker": {
          "symbol": "circle"
         },
         "mode": "lines+markers",
         "name": "MATMUL_FFN",
         "orientation": "v",
         "showlegend": true,
         "type": "scatter",
         "x": {
          "bdata": "AAAAAAAAQUAAAAAAAIBOQAAAAAAAwF1AAAAAAADgbUAAAAAAAFB9QAAAAAAA+I1A",
          "dtype": "f8"
         },
         "xaxis": "x",
         "y": {
          "bdata": "AAAAAAAAAABh6TJ464QMwHitJqKQ1SZANBR6Up6VKECiIc9OGx4uQFtZCZe5h1dA",
          "dtype": "f8"
         },
         "yaxis": "y"
        },
        {
         "hovertemplate": "Phase=SwiGLU<br>Prompt length=%{x}<br>Gain (%)=%{y}<extra></extra>",
         "legendgroup": "SwiGLU",
         "line": {
          "color": "#19d3f3",
          "dash": "solid"
         },
         "marker": {
          "symbol": "circle"
         },
         "mode": "lines+markers",
         "name": "SwiGLU",
         "orientation": "v",
         "showlegend": true,
         "type": "scatter",
         "x": {
          "bdata": "AAAAAAAAQUAAAAAAAIBOQAAAAAAAwF1AAAAAAADgbUAAAAAAAFB9QAAAAAAA+I1A",
          "dtype": "f8"
         },
         "xaxis": "x",
         "y": {
          "bdata": "AAAAAAAAAAAsNkx+78UhwO7qxSG1Gi1Ajh92tqc9KEAiboxmQSQiQNXnOLxT41BA",
          "dtype": "f8"
         },
         "yaxis": "y"
        },
        {
         "hovertemplate": "Phase=MATMUL_OUTPUT_FFN<br>Prompt length=%{x}<br>Gain (%)=%{y}<extra></extra>",
         "legendgroup": "MATMUL_OUTPUT_FFN",
         "line": {
          "color": "#FF6692",
          "dash": "solid"
         },
         "marker": {
          "symbol": "circle"
         },
         "mode": "lines+markers",
         "name": "MATMUL_OUTPUT_FFN",
         "orientation": "v",
         "showlegend": true,
         "type": "scatter",
         "x": {
          "bdata": "AAAAAAAAQUAAAAAAAIBOQAAAAAAAwF1AAAAAAADgbUAAAAAAAFB9QAAAAAAA+I1A",
          "dtype": "f8"
         },
         "xaxis": "x",
         "y": {
          "bdata": "AAAAAAAAAADMuPIWhCQEwOJX9MTx/SxABUlCZ1hZMUBF8dYjHFg1QPbMfx3c6VlA",
          "dtype": "f8"
         },
         "yaxis": "y"
        }
       ],
       "layout": {
        "legend": {
         "title": {
          "text": "Phase"
         },
         "tracegroupgap": 0
        },
        "template": {
         "data": {
          "bar": [
           {
            "error_x": {
             "color": "#2a3f5f"
            },
            "error_y": {
             "color": "#2a3f5f"
            },
            "marker": {
             "line": {
              "color": "#E5ECF6",
              "width": 0.5
             },
             "pattern": {
              "fillmode": "overlay",
              "size": 10,
              "solidity": 0.2
             }
            },
            "type": "bar"
           }
          ],
          "barpolar": [
           {
            "marker": {
             "line": {
              "color": "#E5ECF6",
              "width": 0.5
             },
             "pattern": {
              "fillmode": "overlay",
              "size": 10,
              "solidity": 0.2
             }
            },
            "type": "barpolar"
           }
          ],
          "carpet": [
           {
            "aaxis": {
             "endlinecolor": "#2a3f5f",
             "gridcolor": "white",
             "linecolor": "white",
             "minorgridcolor": "white",
             "startlinecolor": "#2a3f5f"
            },
            "baxis": {
             "endlinecolor": "#2a3f5f",
             "gridcolor": "white",
             "linecolor": "white",
             "minorgridcolor": "white",
             "startlinecolor": "#2a3f5f"
            },
            "type": "carpet"
           }
          ],
          "choropleth": [
           {
            "colorbar": {
             "outlinewidth": 0,
             "ticks": ""
            },
            "type": "choropleth"
           }
          ],
          "contour": [
           {
            "colorbar": {
             "outlinewidth": 0,
             "ticks": ""
            },
            "colorscale": [
             [
              0,
              "#0d0887"
             ],
             [
              0.1111111111111111,
              "#46039f"
             ],
             [
              0.2222222222222222,
              "#7201a8"
             ],
             [
              0.3333333333333333,
              "#9c179e"
             ],
             [
              0.4444444444444444,
              "#bd3786"
             ],
             [
              0.5555555555555556,
              "#d8576b"
             ],
             [
              0.6666666666666666,
              "#ed7953"
             ],
             [
              0.7777777777777778,
              "#fb9f3a"
             ],
             [
              0.8888888888888888,
              "#fdca26"
             ],
             [
              1,
              "#f0f921"
             ]
            ],
            "type": "contour"
           }
          ],
          "contourcarpet": [
           {
            "colorbar": {
             "outlinewidth": 0,
             "ticks": ""
            },
            "type": "contourcarpet"
           }
          ],
          "heatmap": [
           {
            "colorbar": {
             "outlinewidth": 0,
             "ticks": ""
            },
            "colorscale": [
             [
              0,
              "#0d0887"
             ],
             [
              0.1111111111111111,
              "#46039f"
             ],
             [
              0.2222222222222222,
              "#7201a8"
             ],
             [
              0.3333333333333333,
              "#9c179e"
             ],
             [
              0.4444444444444444,
              "#bd3786"
             ],
             [
              0.5555555555555556,
              "#d8576b"
             ],
             [
              0.6666666666666666,
              "#ed7953"
             ],
             [
              0.7777777777777778,
              "#fb9f3a"
             ],
             [
              0.8888888888888888,
              "#fdca26"
             ],
             [
              1,
              "#f0f921"
             ]
            ],
            "type": "heatmap"
           }
          ],
          "histogram": [
           {
            "marker": {
             "pattern": {
              "fillmode": "overlay",
              "size": 10,
              "solidity": 0.2
             }
            },
            "type": "histogram"
           }
          ],
          "histogram2d": [
           {
            "colorbar": {
             "outlinewidth": 0,
             "ticks": ""
            },
            "colorscale": [
             [
              0,
              "#0d0887"
             ],
             [
              0.1111111111111111,
              "#46039f"
             ],
             [
              0.2222222222222222,
              "#7201a8"
             ],
             [
              0.3333333333333333,
              "#9c179e"
             ],
             [
              0.4444444444444444,
              "#bd3786"
             ],
             [
              0.5555555555555556,
              "#d8576b"
             ],
             [
              0.6666666666666666,
              "#ed7953"
             ],
             [
              0.7777777777777778,
              "#fb9f3a"
             ],
             [
              0.8888888888888888,
              "#fdca26"
             ],
             [
              1,
              "#f0f921"
             ]
            ],
            "type": "histogram2d"
           }
          ],
          "histogram2dcontour": [
           {
            "colorbar": {
             "outlinewidth": 0,
             "ticks": ""
            },
            "colorscale": [
             [
              0,
              "#0d0887"
             ],
             [
              0.1111111111111111,
              "#46039f"
             ],
             [
              0.2222222222222222,
              "#7201a8"
             ],
             [
              0.3333333333333333,
              "#9c179e"
             ],
             [
              0.4444444444444444,
              "#bd3786"
             ],
             [
              0.5555555555555556,
              "#d8576b"
             ],
             [
              0.6666666666666666,
              "#ed7953"
             ],
             [
              0.7777777777777778,
              "#fb9f3a"
             ],
             [
              0.8888888888888888,
              "#fdca26"
             ],
             [
              1,
              "#f0f921"
             ]
            ],
            "type": "histogram2dcontour"
           }
          ],
          "mesh3d": [
           {
            "colorbar": {
             "outlinewidth": 0,
             "ticks": ""
            },
            "type": "mesh3d"
           }
          ],
          "parcoords": [
           {
            "line": {
             "colorbar": {
              "outlinewidth": 0,
              "ticks": ""
             }
            },
            "type": "parcoords"
           }
          ],
          "pie": [
           {
            "automargin": true,
            "type": "pie"
           }
          ],
          "scatter": [
           {
            "fillpattern": {
             "fillmode": "overlay",
             "size": 10,
             "solidity": 0.2
            },
            "type": "scatter"
           }
          ],
          "scatter3d": [
           {
            "line": {
             "colorbar": {
              "outlinewidth": 0,
              "ticks": ""
             }
            },
            "marker": {
             "colorbar": {
              "outlinewidth": 0,
              "ticks": ""
             }
            },
            "type": "scatter3d"
           }
          ],
          "scattercarpet": [
           {
            "marker": {
             "colorbar": {
              "outlinewidth": 0,
              "ticks": ""
             }
            },
            "type": "scattercarpet"
           }
          ],
          "scattergeo": [
           {
            "marker": {
             "colorbar": {
              "outlinewidth": 0,
              "ticks": ""
             }
            },
            "type": "scattergeo"
           }
          ],
          "scattergl": [
           {
            "marker": {
             "colorbar": {
              "outlinewidth": 0,
              "ticks": ""
             }
            },
            "type": "scattergl"
           }
          ],
          "scattermap": [
           {
            "marker": {
             "colorbar": {
              "outlinewidth": 0,
              "ticks": ""
             }
            },
            "type": "scattermap"
           }
          ],
          "scattermapbox": [
           {
            "marker": {
             "colorbar": {
              "outlinewidth": 0,
              "ticks": ""
             }
            },
            "type": "scattermapbox"
           }
          ],
          "scatterpolar": [
           {
            "marker": {
             "colorbar": {
              "outlinewidth": 0,
              "ticks": ""
             }
            },
            "type": "scatterpolar"
           }
          ],
          "scatterpolargl": [
           {
            "marker": {
             "colorbar": {
              "outlinewidth": 0,
              "ticks": ""
             }
            },
            "type": "scatterpolargl"
           }
          ],
          "scatterternary": [
           {
            "marker": {
             "colorbar": {
              "outlinewidth": 0,
              "ticks": ""
             }
            },
            "type": "scatterternary"
           }
          ],
          "surface": [
           {
            "colorbar": {
             "outlinewidth": 0,
             "ticks": ""
            },
            "colorscale": [
             [
              0,
              "#0d0887"
             ],
             [
              0.1111111111111111,
              "#46039f"
             ],
             [
              0.2222222222222222,
              "#7201a8"
             ],
             [
              0.3333333333333333,
              "#9c179e"
             ],
             [
              0.4444444444444444,
              "#bd3786"
             ],
             [
              0.5555555555555556,
              "#d8576b"
             ],
             [
              0.6666666666666666,
              "#ed7953"
             ],
             [
              0.7777777777777778,
              "#fb9f3a"
             ],
             [
              0.8888888888888888,
              "#fdca26"
             ],
             [
              1,
              "#f0f921"
             ]
            ],
            "type": "surface"
           }
          ],
          "table": [
           {
            "cells": {
             "fill": {
              "color": "#EBF0F8"
             },
             "line": {
              "color": "white"
             }
            },
            "header": {
             "fill": {
              "color": "#C8D4E3"
             },
             "line": {
              "color": "white"
             }
            },
            "type": "table"
           }
          ]
         },
         "layout": {
          "annotationdefaults": {
           "arrowcolor": "#2a3f5f",
           "arrowhead": 0,
           "arrowwidth": 1
          },
          "autotypenumbers": "strict",
          "coloraxis": {
           "colorbar": {
            "outlinewidth": 0,
            "ticks": ""
           }
          },
          "colorscale": {
           "diverging": [
            [
             0,
             "#8e0152"
            ],
            [
             0.1,
             "#c51b7d"
            ],
            [
             0.2,
             "#de77ae"
            ],
            [
             0.3,
             "#f1b6da"
            ],
            [
             0.4,
             "#fde0ef"
            ],
            [
             0.5,
             "#f7f7f7"
            ],
            [
             0.6,
             "#e6f5d0"
            ],
            [
             0.7,
             "#b8e186"
            ],
            [
             0.8,
             "#7fbc41"
            ],
            [
             0.9,
             "#4d9221"
            ],
            [
             1,
             "#276419"
            ]
           ],
           "sequential": [
            [
             0,
             "#0d0887"
            ],
            [
             0.1111111111111111,
             "#46039f"
            ],
            [
             0.2222222222222222,
             "#7201a8"
            ],
            [
             0.3333333333333333,
             "#9c179e"
            ],
            [
             0.4444444444444444,
             "#bd3786"
            ],
            [
             0.5555555555555556,
             "#d8576b"
            ],
            [
             0.6666666666666666,
             "#ed7953"
            ],
            [
             0.7777777777777778,
             "#fb9f3a"
            ],
            [
             0.8888888888888888,
             "#fdca26"
            ],
            [
             1,
             "#f0f921"
            ]
           ],
           "sequentialminus": [
            [
             0,
             "#0d0887"
            ],
            [
             0.1111111111111111,
             "#46039f"
            ],
            [
             0.2222222222222222,
             "#7201a8"
            ],
            [
             0.3333333333333333,
             "#9c179e"
            ],
            [
             0.4444444444444444,
             "#bd3786"
            ],
            [
             0.5555555555555556,
             "#d8576b"
            ],
            [
             0.6666666666666666,
             "#ed7953"
            ],
            [
             0.7777777777777778,
             "#fb9f3a"
            ],
            [
             0.8888888888888888,
             "#fdca26"
            ],
            [
             1,
             "#f0f921"
            ]
           ]
          },
          "colorway": [
           "#636efa",
           "#EF553B",
           "#00cc96",
           "#ab63fa",
           "#FFA15A",
           "#19d3f3",
           "#FF6692",
           "#B6E880",
           "#FF97FF",
           "#FECB52"
          ],
          "font": {
           "color": "#2a3f5f"
          },
          "geo": {
           "bgcolor": "white",
           "lakecolor": "white",
           "landcolor": "#E5ECF6",
           "showlakes": true,
           "showland": true,
           "subunitcolor": "white"
          },
          "hoverlabel": {
           "align": "left"
          },
          "hovermode": "closest",
          "mapbox": {
           "style": "light"
          },
          "paper_bgcolor": "white",
          "plot_bgcolor": "#E5ECF6",
          "polar": {
           "angularaxis": {
            "gridcolor": "white",
            "linecolor": "white",
            "ticks": ""
           },
           "bgcolor": "#E5ECF6",
           "radialaxis": {
            "gridcolor": "white",
            "linecolor": "white",
            "ticks": ""
           }
          },
          "scene": {
           "xaxis": {
            "backgroundcolor": "#E5ECF6",
            "gridcolor": "white",
            "gridwidth": 2,
            "linecolor": "white",
            "showbackground": true,
            "ticks": "",
            "zerolinecolor": "white"
           },
           "yaxis": {
            "backgroundcolor": "#E5ECF6",
            "gridcolor": "white",
            "gridwidth": 2,
            "linecolor": "white",
            "showbackground": true,
            "ticks": "",
            "zerolinecolor": "white"
           },
           "zaxis": {
            "backgroundcolor": "#E5ECF6",
            "gridcolor": "white",
            "gridwidth": 2,
            "linecolor": "white",
            "showbackground": true,
            "ticks": "",
            "zerolinecolor": "white"
           }
          },
          "shapedefaults": {
           "line": {
            "color": "#2a3f5f"
           }
          },
          "ternary": {
           "aaxis": {
            "gridcolor": "white",
            "linecolor": "white",
            "ticks": ""
           },
           "baxis": {
            "gridcolor": "white",
            "linecolor": "white",
            "ticks": ""
           },
           "bgcolor": "#E5ECF6",
           "caxis": {
            "gridcolor": "white",
            "linecolor": "white",
            "ticks": ""
           }
          },
          "title": {
           "x": 0.05
          },
          "xaxis": {
           "automargin": true,
           "gridcolor": "white",
           "linecolor": "white",
           "ticks": "",
           "title": {
            "standoff": 15
           },
           "zerolinecolor": "white",
           "zerolinewidth": 2
          },
          "yaxis": {
           "automargin": true,
           "gridcolor": "white",
           "linecolor": "white",
           "ticks": "",
           "title": {
            "standoff": 15
           },
           "zerolinecolor": "white",
           "zerolinewidth": 2
          }
         }
        },
        "title": {
         "text": "Gain en % vs prompt minimal — 10 thread(s)"
        },
        "xaxis": {
         "anchor": "y",
         "domain": [
          0,
          1
         ],
         "title": {
          "text": "Prompt length"
         }
        },
        "yaxis": {
         "anchor": "x",
         "domain": [
          0,
          1
         ],
         "title": {
          "text": "Gain (%)"
         }
        }
       }
      }
     },
     "metadata": {},
     "output_type": "display_data"
    },
    {
     "data": {
      "application/vnd.plotly.v1+json": {
       "config": {
        "plotlyServerURL": "https://plot.ly"
       },
       "data": [
        {
         "hovertemplate": "Phase=MATMUL_QKV<br>Prompt length=%{x}<br>Gain (%)=%{y}<extra></extra>",
         "legendgroup": "MATMUL_QKV",
         "line": {
          "color": "#636efa",
          "dash": "solid"
         },
         "marker": {
          "symbol": "circle"
         },
         "mode": "lines+markers",
         "name": "MATMUL_QKV",
         "orientation": "v",
         "showlegend": true,
         "type": "scatter",
         "x": {
          "bdata": "AAAAAAAAQUAAAAAAAIBOQAAAAAAAwF1AAAAAAADgbUAAAAAAAFB9QAAAAAAA+I1A",
          "dtype": "f8"
         },
         "xaxis": "x",
         "y": {
          "bdata": "AAAAAAAAAABoGaNMKO8QwFqPt10UAArAFhqxT05U87+Qfyc+xjbvP7zlNv9UFFFA",
          "dtype": "f8"
         },
         "yaxis": "y"
        },
        {
         "hovertemplate": "Phase=ROPE<br>Prompt length=%{x}<br>Gain (%)=%{y}<extra></extra>",
         "legendgroup": "ROPE",
         "line": {
          "color": "#EF553B",
          "dash": "solid"
         },
         "marker": {
          "symbol": "circle"
         },
         "mode": "lines+markers",
         "name": "ROPE",
         "orientation": "v",
         "showlegend": true,
         "type": "scatter",
         "x": {
          "bdata": "AAAAAAAAQUAAAAAAAIBOQAAAAAAAwF1AAAAAAADgbUAAAAAAAFB9QAAAAAAA+I1A",
          "dtype": "f8"
         },
         "xaxis": "x",
         "y": {
          "bdata": "AAAAAAAAAAAXjDHYPzgXQLC4mI+ICiZAqhjXr9PdKkBeDGocBxAkQLb6LBafrlhA",
          "dtype": "f8"
         },
         "yaxis": "y"
        },
        {
         "hovertemplate": "Phase=ATTENTION_COMPUTATION<br>Prompt length=%{x}<br>Gain (%)=%{y}<extra></extra>",
         "legendgroup": "ATTENTION_COMPUTATION",
         "line": {
          "color": "#00cc96",
          "dash": "solid"
         },
         "marker": {
          "symbol": "circle"
         },
         "mode": "lines+markers",
         "name": "ATTENTION_COMPUTATION",
         "orientation": "v",
         "showlegend": true,
         "type": "scatter",
         "x": {
          "bdata": "AAAAAAAAQUAAAAAAAIBOQAAAAAAAwF1AAAAAAADgbUAAAAAAAFB9QAAAAAAA+I1A",
          "dtype": "f8"
         },
         "xaxis": "x",
         "y": {
          "bdata": "AAAAAAAAAACGxvxVYCw+wLfyO0Dr4E3AKQgfBNLOU8CyPC5B+itWwLSlzGPPk1TA",
          "dtype": "f8"
         },
         "yaxis": "y"
        },
        {
         "hovertemplate": "Phase=MATMUL_OUTPUT_ATTENTION<br>Prompt length=%{x}<br>Gain (%)=%{y}<extra></extra>",
         "legendgroup": "MATMUL_OUTPUT_ATTENTION",
         "line": {
          "color": "#ab63fa",
          "dash": "solid"
         },
         "marker": {
          "symbol": "circle"
         },
         "mode": "lines+markers",
         "name": "MATMUL_OUTPUT_ATTENTION",
         "orientation": "v",
         "showlegend": true,
         "type": "scatter",
         "x": {
          "bdata": "AAAAAAAAQUAAAAAAAIBOQAAAAAAAwF1AAAAAAADgbUAAAAAAAFB9QAAAAAAA+I1A",
          "dtype": "f8"
         },
         "xaxis": "x",
         "y": {
          "bdata": "AAAAAAAAAACsMCFCDlT8v30Rna5VvAPAuq3JjwZEAkAKrgi5e90IQOCFAuHejVJA",
          "dtype": "f8"
         },
         "yaxis": "y"
        },
        {
         "hovertemplate": "Phase=MATMUL_FFN<br>Prompt length=%{x}<br>Gain (%)=%{y}<extra></extra>",
         "legendgroup": "MATMUL_FFN",
         "line": {
          "color": "#FFA15A",
          "dash": "solid"
         },
         "marker": {
          "symbol": "circle"
         },
         "mode": "lines+markers",
         "name": "MATMUL_FFN",
         "orientation": "v",
         "showlegend": true,
         "type": "scatter",
         "x": {
          "bdata": "AAAAAAAAQUAAAAAAAIBOQAAAAAAAwF1AAAAAAADgbUAAAAAAAFB9QAAAAAAA+I1A",
          "dtype": "f8"
         },
         "xaxis": "x",
         "y": {
          "bdata": "AAAAAAAAAAAfAo6RffoJwBB9rFhd28u/mgjyVtmgDEC5pPhlvPUYQMDL2Jkt71RA",
          "dtype": "f8"
         },
         "yaxis": "y"
        },
        {
         "hovertemplate": "Phase=SwiGLU<br>Prompt length=%{x}<br>Gain (%)=%{y}<extra></extra>",
         "legendgroup": "SwiGLU",
         "line": {
          "color": "#19d3f3",
          "dash": "solid"
         },
         "marker": {
          "symbol": "circle"
         },
         "mode": "lines+markers",
         "name": "SwiGLU",
         "orientation": "v",
         "showlegend": true,
         "type": "scatter",
         "x": {
          "bdata": "AAAAAAAAQUAAAAAAAIBOQAAAAAAAwF1AAAAAAADgbUAAAAAAAFB9QAAAAAAA+I1A",
          "dtype": "f8"
         },
         "xaxis": "x",
         "y": {
          "bdata": "AAAAAAAAAABbA3kwQ+okwAR+EhTBdhPAAKAs/8CK6r/wASQALCDhv368iH/qqE5A",
          "dtype": "f8"
         },
         "yaxis": "y"
        },
        {
         "hovertemplate": "Phase=MATMUL_OUTPUT_FFN<br>Prompt length=%{x}<br>Gain (%)=%{y}<extra></extra>",
         "legendgroup": "MATMUL_OUTPUT_FFN",
         "line": {
          "color": "#FF6692",
          "dash": "solid"
         },
         "marker": {
          "symbol": "circle"
         },
         "mode": "lines+markers",
         "name": "MATMUL_OUTPUT_FFN",
         "orientation": "v",
         "showlegend": true,
         "type": "scatter",
         "x": {
          "bdata": "AAAAAAAAQUAAAAAAAIBOQAAAAAAAwF1AAAAAAADgbUAAAAAAAFB9QAAAAAAA+I1A",
          "dtype": "f8"
         },
         "xaxis": "x",
         "y": {
          "bdata": "AAAAAAAAAADal2F1ooH6v5jUCgbp++U/kTSxAMdUIkBPyGvW2IEuQNwrHUP6eVZA",
          "dtype": "f8"
         },
         "yaxis": "y"
        }
       ],
       "layout": {
        "legend": {
         "title": {
          "text": "Phase"
         },
         "tracegroupgap": 0
        },
        "template": {
         "data": {
          "bar": [
           {
            "error_x": {
             "color": "#2a3f5f"
            },
            "error_y": {
             "color": "#2a3f5f"
            },
            "marker": {
             "line": {
              "color": "#E5ECF6",
              "width": 0.5
             },
             "pattern": {
              "fillmode": "overlay",
              "size": 10,
              "solidity": 0.2
             }
            },
            "type": "bar"
           }
          ],
          "barpolar": [
           {
            "marker": {
             "line": {
              "color": "#E5ECF6",
              "width": 0.5
             },
             "pattern": {
              "fillmode": "overlay",
              "size": 10,
              "solidity": 0.2
             }
            },
            "type": "barpolar"
           }
          ],
          "carpet": [
           {
            "aaxis": {
             "endlinecolor": "#2a3f5f",
             "gridcolor": "white",
             "linecolor": "white",
             "minorgridcolor": "white",
             "startlinecolor": "#2a3f5f"
            },
            "baxis": {
             "endlinecolor": "#2a3f5f",
             "gridcolor": "white",
             "linecolor": "white",
             "minorgridcolor": "white",
             "startlinecolor": "#2a3f5f"
            },
            "type": "carpet"
           }
          ],
          "choropleth": [
           {
            "colorbar": {
             "outlinewidth": 0,
             "ticks": ""
            },
            "type": "choropleth"
           }
          ],
          "contour": [
           {
            "colorbar": {
             "outlinewidth": 0,
             "ticks": ""
            },
            "colorscale": [
             [
              0,
              "#0d0887"
             ],
             [
              0.1111111111111111,
              "#46039f"
             ],
             [
              0.2222222222222222,
              "#7201a8"
             ],
             [
              0.3333333333333333,
              "#9c179e"
             ],
             [
              0.4444444444444444,
              "#bd3786"
             ],
             [
              0.5555555555555556,
              "#d8576b"
             ],
             [
              0.6666666666666666,
              "#ed7953"
             ],
             [
              0.7777777777777778,
              "#fb9f3a"
             ],
             [
              0.8888888888888888,
              "#fdca26"
             ],
             [
              1,
              "#f0f921"
             ]
            ],
            "type": "contour"
           }
          ],
          "contourcarpet": [
           {
            "colorbar": {
             "outlinewidth": 0,
             "ticks": ""
            },
            "type": "contourcarpet"
           }
          ],
          "heatmap": [
           {
            "colorbar": {
             "outlinewidth": 0,
             "ticks": ""
            },
            "colorscale": [
             [
              0,
              "#0d0887"
             ],
             [
              0.1111111111111111,
              "#46039f"
             ],
             [
              0.2222222222222222,
              "#7201a8"
             ],
             [
              0.3333333333333333,
              "#9c179e"
             ],
             [
              0.4444444444444444,
              "#bd3786"
             ],
             [
              0.5555555555555556,
              "#d8576b"
             ],
             [
              0.6666666666666666,
              "#ed7953"
             ],
             [
              0.7777777777777778,
              "#fb9f3a"
             ],
             [
              0.8888888888888888,
              "#fdca26"
             ],
             [
              1,
              "#f0f921"
             ]
            ],
            "type": "heatmap"
           }
          ],
          "histogram": [
           {
            "marker": {
             "pattern": {
              "fillmode": "overlay",
              "size": 10,
              "solidity": 0.2
             }
            },
            "type": "histogram"
           }
          ],
          "histogram2d": [
           {
            "colorbar": {
             "outlinewidth": 0,
             "ticks": ""
            },
            "colorscale": [
             [
              0,
              "#0d0887"
             ],
             [
              0.1111111111111111,
              "#46039f"
             ],
             [
              0.2222222222222222,
              "#7201a8"
             ],
             [
              0.3333333333333333,
              "#9c179e"
             ],
             [
              0.4444444444444444,
              "#bd3786"
             ],
             [
              0.5555555555555556,
              "#d8576b"
             ],
             [
              0.6666666666666666,
              "#ed7953"
             ],
             [
              0.7777777777777778,
              "#fb9f3a"
             ],
             [
              0.8888888888888888,
              "#fdca26"
             ],
             [
              1,
              "#f0f921"
             ]
            ],
            "type": "histogram2d"
           }
          ],
          "histogram2dcontour": [
           {
            "colorbar": {
             "outlinewidth": 0,
             "ticks": ""
            },
            "colorscale": [
             [
              0,
              "#0d0887"
             ],
             [
              0.1111111111111111,
              "#46039f"
             ],
             [
              0.2222222222222222,
              "#7201a8"
             ],
             [
              0.3333333333333333,
              "#9c179e"
             ],
             [
              0.4444444444444444,
              "#bd3786"
             ],
             [
              0.5555555555555556,
              "#d8576b"
             ],
             [
              0.6666666666666666,
              "#ed7953"
             ],
             [
              0.7777777777777778,
              "#fb9f3a"
             ],
             [
              0.8888888888888888,
              "#fdca26"
             ],
             [
              1,
              "#f0f921"
             ]
            ],
            "type": "histogram2dcontour"
           }
          ],
          "mesh3d": [
           {
            "colorbar": {
             "outlinewidth": 0,
             "ticks": ""
            },
            "type": "mesh3d"
           }
          ],
          "parcoords": [
           {
            "line": {
             "colorbar": {
              "outlinewidth": 0,
              "ticks": ""
             }
            },
            "type": "parcoords"
           }
          ],
          "pie": [
           {
            "automargin": true,
            "type": "pie"
           }
          ],
          "scatter": [
           {
            "fillpattern": {
             "fillmode": "overlay",
             "size": 10,
             "solidity": 0.2
            },
            "type": "scatter"
           }
          ],
          "scatter3d": [
           {
            "line": {
             "colorbar": {
              "outlinewidth": 0,
              "ticks": ""
             }
            },
            "marker": {
             "colorbar": {
              "outlinewidth": 0,
              "ticks": ""
             }
            },
            "type": "scatter3d"
           }
          ],
          "scattercarpet": [
           {
            "marker": {
             "colorbar": {
              "outlinewidth": 0,
              "ticks": ""
             }
            },
            "type": "scattercarpet"
           }
          ],
          "scattergeo": [
           {
            "marker": {
             "colorbar": {
              "outlinewidth": 0,
              "ticks": ""
             }
            },
            "type": "scattergeo"
           }
          ],
          "scattergl": [
           {
            "marker": {
             "colorbar": {
              "outlinewidth": 0,
              "ticks": ""
             }
            },
            "type": "scattergl"
           }
          ],
          "scattermap": [
           {
            "marker": {
             "colorbar": {
              "outlinewidth": 0,
              "ticks": ""
             }
            },
            "type": "scattermap"
           }
          ],
          "scattermapbox": [
           {
            "marker": {
             "colorbar": {
              "outlinewidth": 0,
              "ticks": ""
             }
            },
            "type": "scattermapbox"
           }
          ],
          "scatterpolar": [
           {
            "marker": {
             "colorbar": {
              "outlinewidth": 0,
              "ticks": ""
             }
            },
            "type": "scatterpolar"
           }
          ],
          "scatterpolargl": [
           {
            "marker": {
             "colorbar": {
              "outlinewidth": 0,
              "ticks": ""
             }
            },
            "type": "scatterpolargl"
           }
          ],
          "scatterternary": [
           {
            "marker": {
             "colorbar": {
              "outlinewidth": 0,
              "ticks": ""
             }
            },
            "type": "scatterternary"
           }
          ],
          "surface": [
           {
            "colorbar": {
             "outlinewidth": 0,
             "ticks": ""
            },
            "colorscale": [
             [
              0,
              "#0d0887"
             ],
             [
              0.1111111111111111,
              "#46039f"
             ],
             [
              0.2222222222222222,
              "#7201a8"
             ],
             [
              0.3333333333333333,
              "#9c179e"
             ],
             [
              0.4444444444444444,
              "#bd3786"
             ],
             [
              0.5555555555555556,
              "#d8576b"
             ],
             [
              0.6666666666666666,
              "#ed7953"
             ],
             [
              0.7777777777777778,
              "#fb9f3a"
             ],
             [
              0.8888888888888888,
              "#fdca26"
             ],
             [
              1,
              "#f0f921"
             ]
            ],
            "type": "surface"
           }
          ],
          "table": [
           {
            "cells": {
             "fill": {
              "color": "#EBF0F8"
             },
             "line": {
              "color": "white"
             }
            },
            "header": {
             "fill": {
              "color": "#C8D4E3"
             },
             "line": {
              "color": "white"
             }
            },
            "type": "table"
           }
          ]
         },
         "layout": {
          "annotationdefaults": {
           "arrowcolor": "#2a3f5f",
           "arrowhead": 0,
           "arrowwidth": 1
          },
          "autotypenumbers": "strict",
          "coloraxis": {
           "colorbar": {
            "outlinewidth": 0,
            "ticks": ""
           }
          },
          "colorscale": {
           "diverging": [
            [
             0,
             "#8e0152"
            ],
            [
             0.1,
             "#c51b7d"
            ],
            [
             0.2,
             "#de77ae"
            ],
            [
             0.3,
             "#f1b6da"
            ],
            [
             0.4,
             "#fde0ef"
            ],
            [
             0.5,
             "#f7f7f7"
            ],
            [
             0.6,
             "#e6f5d0"
            ],
            [
             0.7,
             "#b8e186"
            ],
            [
             0.8,
             "#7fbc41"
            ],
            [
             0.9,
             "#4d9221"
            ],
            [
             1,
             "#276419"
            ]
           ],
           "sequential": [
            [
             0,
             "#0d0887"
            ],
            [
             0.1111111111111111,
             "#46039f"
            ],
            [
             0.2222222222222222,
             "#7201a8"
            ],
            [
             0.3333333333333333,
             "#9c179e"
            ],
            [
             0.4444444444444444,
             "#bd3786"
            ],
            [
             0.5555555555555556,
             "#d8576b"
            ],
            [
             0.6666666666666666,
             "#ed7953"
            ],
            [
             0.7777777777777778,
             "#fb9f3a"
            ],
            [
             0.8888888888888888,
             "#fdca26"
            ],
            [
             1,
             "#f0f921"
            ]
           ],
           "sequentialminus": [
            [
             0,
             "#0d0887"
            ],
            [
             0.1111111111111111,
             "#46039f"
            ],
            [
             0.2222222222222222,
             "#7201a8"
            ],
            [
             0.3333333333333333,
             "#9c179e"
            ],
            [
             0.4444444444444444,
             "#bd3786"
            ],
            [
             0.5555555555555556,
             "#d8576b"
            ],
            [
             0.6666666666666666,
             "#ed7953"
            ],
            [
             0.7777777777777778,
             "#fb9f3a"
            ],
            [
             0.8888888888888888,
             "#fdca26"
            ],
            [
             1,
             "#f0f921"
            ]
           ]
          },
          "colorway": [
           "#636efa",
           "#EF553B",
           "#00cc96",
           "#ab63fa",
           "#FFA15A",
           "#19d3f3",
           "#FF6692",
           "#B6E880",
           "#FF97FF",
           "#FECB52"
          ],
          "font": {
           "color": "#2a3f5f"
          },
          "geo": {
           "bgcolor": "white",
           "lakecolor": "white",
           "landcolor": "#E5ECF6",
           "showlakes": true,
           "showland": true,
           "subunitcolor": "white"
          },
          "hoverlabel": {
           "align": "left"
          },
          "hovermode": "closest",
          "mapbox": {
           "style": "light"
          },
          "paper_bgcolor": "white",
          "plot_bgcolor": "#E5ECF6",
          "polar": {
           "angularaxis": {
            "gridcolor": "white",
            "linecolor": "white",
            "ticks": ""
           },
           "bgcolor": "#E5ECF6",
           "radialaxis": {
            "gridcolor": "white",
            "linecolor": "white",
            "ticks": ""
           }
          },
          "scene": {
           "xaxis": {
            "backgroundcolor": "#E5ECF6",
            "gridcolor": "white",
            "gridwidth": 2,
            "linecolor": "white",
            "showbackground": true,
            "ticks": "",
            "zerolinecolor": "white"
           },
           "yaxis": {
            "backgroundcolor": "#E5ECF6",
            "gridcolor": "white",
            "gridwidth": 2,
            "linecolor": "white",
            "showbackground": true,
            "ticks": "",
            "zerolinecolor": "white"
           },
           "zaxis": {
            "backgroundcolor": "#E5ECF6",
            "gridcolor": "white",
            "gridwidth": 2,
            "linecolor": "white",
            "showbackground": true,
            "ticks": "",
            "zerolinecolor": "white"
           }
          },
          "shapedefaults": {
           "line": {
            "color": "#2a3f5f"
           }
          },
          "ternary": {
           "aaxis": {
            "gridcolor": "white",
            "linecolor": "white",
            "ticks": ""
           },
           "baxis": {
            "gridcolor": "white",
            "linecolor": "white",
            "ticks": ""
           },
           "bgcolor": "#E5ECF6",
           "caxis": {
            "gridcolor": "white",
            "linecolor": "white",
            "ticks": ""
           }
          },
          "title": {
           "x": 0.05
          },
          "xaxis": {
           "automargin": true,
           "gridcolor": "white",
           "linecolor": "white",
           "ticks": "",
           "title": {
            "standoff": 15
           },
           "zerolinecolor": "white",
           "zerolinewidth": 2
          },
          "yaxis": {
           "automargin": true,
           "gridcolor": "white",
           "linecolor": "white",
           "ticks": "",
           "title": {
            "standoff": 15
           },
           "zerolinecolor": "white",
           "zerolinewidth": 2
          }
         }
        },
        "title": {
         "text": "Gain en % vs prompt minimal — 12 thread(s)"
        },
        "xaxis": {
         "anchor": "y",
         "domain": [
          0,
          1
         ],
         "title": {
          "text": "Prompt length"
         }
        },
        "yaxis": {
         "anchor": "x",
         "domain": [
          0,
          1
         ],
         "title": {
          "text": "Gain (%)"
         }
        }
       }
      }
     },
     "metadata": {},
     "output_type": "display_data"
    }
   ],
   "source": [
    "line_tokens_per_thread(file)"
   ]
  },
  {
   "cell_type": "code",
   "execution_count": 9,
   "id": "95c0a89c",
   "metadata": {},
   "outputs": [],
   "source": [
    "import json, pandas as pd, plotly.express as px\n",
    "\n",
    "def Speed_up_prompt(file):\n",
    "    with open(file) as f:\n",
    "        parsed = [json.loads(x) for x in f.read().split(\"\\n---\\n\") if x.strip()]\n",
    "\n",
    "    grouped = {}\n",
    "    for entry in parsed:\n",
    "        prompt_len = entry[\"JSON_1_COMPT\"][\"PROMPT_LEN\"]\n",
    "        threads = int(entry[\"JSON_1_COMPT\"][\"NUM_THREADS\"])\n",
    "        for phase, matrix in entry[\"JSON_3\"].items():\n",
    "            val = sum(matrix[i][0] for i in range(threads)) / threads\n",
    "            grouped.setdefault((phase, prompt_len), []).append((threads, val))\n",
    "\n",
    "    records = []\n",
    "    for (phase, prompt_len), values in grouped.items():\n",
    "        values.sort()\n",
    "        baseline = values[0][1]\n",
    "        for t, time in values:\n",
    "            speedup = baseline / time if time != 0 else None\n",
    "            records.append({\n",
    "                \"Phase\": phase,\n",
    "                \"Prompt length\": prompt_len,\n",
    "                \"Threads\": t,\n",
    "                \"Speedup\": speedup\n",
    "            })\n",
    "\n",
    "    df = pd.DataFrame(records)\n",
    "\n",
    "    for prompt_len in sorted(df[\"Prompt length\"].unique()):\n",
    "        sub_df = df[df[\"Prompt length\"] == prompt_len].copy()\n",
    "\n",
    "        ideal = pd.DataFrame({\n",
    "            \"Threads\": sorted(sub_df[\"Threads\"].unique()),\n",
    "            \"Speedup\": sorted(sub_df[\"Threads\"].unique()),\n",
    "            \"Phase\": [\"Ideql\"] * len(sub_df[\"Threads\"].unique())\n",
    "        })\n",
    "\n",
    "        full_df = pd.concat([sub_df, ideal], ignore_index=True)\n",
    "\n",
    "        fig = px.line(\n",
    "            full_df,\n",
    "            x=\"Threads\",\n",
    "            y=\"Speedup\",\n",
    "            color=\"Phase\",\n",
    "            markers=True,\n",
    "            title=f\"Speedup vs Threads — Prompt Length {prompt_len}\"\n",
    "        )\n",
    "        fig.write_image(f\"measurements/omp/speedup_{prompt_len}.png\")\n",
    "        fig.show()\n"
   ]
  },
  {
   "cell_type": "code",
   "execution_count": 10,
   "id": "3bce2ab8",
   "metadata": {},
   "outputs": [
    {
     "data": {
      "application/vnd.plotly.v1+json": {
       "config": {
        "plotlyServerURL": "https://plot.ly"
       },
       "data": [
        {
         "hovertemplate": "Phase=MATMUL_QKV<br>Threads=%{x}<br>Speedup=%{y}<extra></extra>",
         "legendgroup": "MATMUL_QKV",
         "line": {
          "color": "#636efa",
          "dash": "solid"
         },
         "marker": {
          "symbol": "circle"
         },
         "mode": "lines+markers",
         "name": "MATMUL_QKV",
         "orientation": "v",
         "showlegend": true,
         "type": "scatter",
         "x": {
          "bdata": "AQIECAoM",
          "dtype": "i1"
         },
         "xaxis": "x",
         "y": {
          "bdata": "AAAAAAAA8D/rjlo3oxz5PxvC4Q91QANA2OABV0b/DUBScxy9uNYQQJQts3bG1hJA",
          "dtype": "f8"
         },
         "yaxis": "y"
        },
        {
         "hovertemplate": "Phase=ROPE<br>Threads=%{x}<br>Speedup=%{y}<extra></extra>",
         "legendgroup": "ROPE",
         "line": {
          "color": "#EF553B",
          "dash": "solid"
         },
         "marker": {
          "symbol": "circle"
         },
         "mode": "lines+markers",
         "name": "ROPE",
         "orientation": "v",
         "showlegend": true,
         "type": "scatter",
         "x": {
          "bdata": "AQIECAoM",
          "dtype": "i1"
         },
         "xaxis": "x",
         "y": {
          "bdata": "AAAAAAAA8D/BfscuWn78PxpAsQA91glAh8u4VAMdEUCdlpXI0tQSQNNqPHVZYRZA",
          "dtype": "f8"
         },
         "yaxis": "y"
        },
        {
         "hovertemplate": "Phase=ATTENTION_COMPUTATION<br>Threads=%{x}<br>Speedup=%{y}<extra></extra>",
         "legendgroup": "ATTENTION_COMPUTATION",
         "line": {
          "color": "#00cc96",
          "dash": "solid"
         },
         "marker": {
          "symbol": "circle"
         },
         "mode": "lines+markers",
         "name": "ATTENTION_COMPUTATION",
         "orientation": "v",
         "showlegend": true,
         "type": "scatter",
         "x": {
          "bdata": "AQIECAoM",
          "dtype": "i1"
         },
         "xaxis": "x",
         "y": {
          "bdata": "AAAAAAAA8D9EgmzXSBH5PwzStV83zgdAig0ciedDEUD6uueG+BYUQOXYZXnGiRZA",
          "dtype": "f8"
         },
         "yaxis": "y"
        },
        {
         "hovertemplate": "Phase=MATMUL_OUTPUT_ATTENTION<br>Threads=%{x}<br>Speedup=%{y}<extra></extra>",
         "legendgroup": "MATMUL_OUTPUT_ATTENTION",
         "line": {
          "color": "#ab63fa",
          "dash": "solid"
         },
         "marker": {
          "symbol": "circle"
         },
         "mode": "lines+markers",
         "name": "MATMUL_OUTPUT_ATTENTION",
         "orientation": "v",
         "showlegend": true,
         "type": "scatter",
         "x": {
          "bdata": "AQIECAoM",
          "dtype": "i1"
         },
         "xaxis": "x",
         "y": {
          "bdata": "AAAAAAAA8D/NvrcttHT7P8C3NqiotgdAG0Ru3mWTC0Bw8qXsweUQQB2IklDaWhNA",
          "dtype": "f8"
         },
         "yaxis": "y"
        },
        {
         "hovertemplate": "Phase=MATMUL_FFN<br>Threads=%{x}<br>Speedup=%{y}<extra></extra>",
         "legendgroup": "MATMUL_FFN",
         "line": {
          "color": "#FFA15A",
          "dash": "solid"
         },
         "marker": {
          "symbol": "circle"
         },
         "mode": "lines+markers",
         "name": "MATMUL_FFN",
         "orientation": "v",
         "showlegend": true,
         "type": "scatter",
         "x": {
          "bdata": "AQIECAoM",
          "dtype": "i1"
         },
         "xaxis": "x",
         "y": {
          "bdata": "AAAAAAAA8D8JjX5LGLH3Pxg95Br7hAJAI/vhLEcwBUDPc5mwOtQIQDjIpGoZHQxA",
          "dtype": "f8"
         },
         "yaxis": "y"
        },
        {
         "hovertemplate": "Phase=SwiGLU<br>Threads=%{x}<br>Speedup=%{y}<extra></extra>",
         "legendgroup": "SwiGLU",
         "line": {
          "color": "#19d3f3",
          "dash": "solid"
         },
         "marker": {
          "symbol": "circle"
         },
         "mode": "lines+markers",
         "name": "SwiGLU",
         "orientation": "v",
         "showlegend": true,
         "type": "scatter",
         "x": {
          "bdata": "AQIECAoM",
          "dtype": "i1"
         },
         "xaxis": "x",
         "y": {
          "bdata": "AAAAAAAA8D+tByQLPTP6P/6TPQl9MQtAsqHBNEAiEUDxAN6fueYVQAfoDkCCiBlA",
          "dtype": "f8"
         },
         "yaxis": "y"
        },
        {
         "hovertemplate": "Phase=MATMUL_OUTPUT_FFN<br>Threads=%{x}<br>Speedup=%{y}<extra></extra>",
         "legendgroup": "MATMUL_OUTPUT_FFN",
         "line": {
          "color": "#FF6692",
          "dash": "solid"
         },
         "marker": {
          "symbol": "circle"
         },
         "mode": "lines+markers",
         "name": "MATMUL_OUTPUT_FFN",
         "orientation": "v",
         "showlegend": true,
         "type": "scatter",
         "x": {
          "bdata": "AQIECAoM",
          "dtype": "i1"
         },
         "xaxis": "x",
         "y": {
          "bdata": "AAAAAAAA8D8ycjXBpPH2P79EMsU2FwJA/rgYwNPEA0DNk9gxOh4HQOPHI0ND/wlA",
          "dtype": "f8"
         },
         "yaxis": "y"
        },
        {
         "hovertemplate": "Phase=MATMUL_LOGITS<br>Threads=%{x}<br>Speedup=%{y}<extra></extra>",
         "legendgroup": "MATMUL_LOGITS",
         "line": {
          "color": "#B6E880",
          "dash": "solid"
         },
         "marker": {
          "symbol": "circle"
         },
         "mode": "lines+markers",
         "name": "MATMUL_LOGITS",
         "orientation": "v",
         "showlegend": true,
         "type": "scatter",
         "x": {
          "bdata": "AQIECAoM",
          "dtype": "i1"
         },
         "xaxis": "x",
         "y": {
          "bdata": "AAAAAAAA8D/jwYFVUpjoP41pXLdTRvk/jP2re6Zp+z8XSaNKTUr/P0wZFzCBRQFA",
          "dtype": "f8"
         },
         "yaxis": "y"
        },
        {
         "hovertemplate": "Phase=Ideql<br>Threads=%{x}<br>Speedup=%{y}<extra></extra>",
         "legendgroup": "Ideql",
         "line": {
          "color": "#FF97FF",
          "dash": "solid"
         },
         "marker": {
          "symbol": "circle"
         },
         "mode": "lines+markers",
         "name": "Ideql",
         "orientation": "v",
         "showlegend": true,
         "type": "scatter",
         "x": {
          "bdata": "AQIECAoM",
          "dtype": "i1"
         },
         "xaxis": "x",
         "y": {
          "bdata": "AAAAAAAA8D8AAAAAAAAAQAAAAAAAABBAAAAAAAAAIEAAAAAAAAAkQAAAAAAAAChA",
          "dtype": "f8"
         },
         "yaxis": "y"
        }
       ],
       "layout": {
        "legend": {
         "title": {
          "text": "Phase"
         },
         "tracegroupgap": 0
        },
        "template": {
         "data": {
          "bar": [
           {
            "error_x": {
             "color": "#2a3f5f"
            },
            "error_y": {
             "color": "#2a3f5f"
            },
            "marker": {
             "line": {
              "color": "#E5ECF6",
              "width": 0.5
             },
             "pattern": {
              "fillmode": "overlay",
              "size": 10,
              "solidity": 0.2
             }
            },
            "type": "bar"
           }
          ],
          "barpolar": [
           {
            "marker": {
             "line": {
              "color": "#E5ECF6",
              "width": 0.5
             },
             "pattern": {
              "fillmode": "overlay",
              "size": 10,
              "solidity": 0.2
             }
            },
            "type": "barpolar"
           }
          ],
          "carpet": [
           {
            "aaxis": {
             "endlinecolor": "#2a3f5f",
             "gridcolor": "white",
             "linecolor": "white",
             "minorgridcolor": "white",
             "startlinecolor": "#2a3f5f"
            },
            "baxis": {
             "endlinecolor": "#2a3f5f",
             "gridcolor": "white",
             "linecolor": "white",
             "minorgridcolor": "white",
             "startlinecolor": "#2a3f5f"
            },
            "type": "carpet"
           }
          ],
          "choropleth": [
           {
            "colorbar": {
             "outlinewidth": 0,
             "ticks": ""
            },
            "type": "choropleth"
           }
          ],
          "contour": [
           {
            "colorbar": {
             "outlinewidth": 0,
             "ticks": ""
            },
            "colorscale": [
             [
              0,
              "#0d0887"
             ],
             [
              0.1111111111111111,
              "#46039f"
             ],
             [
              0.2222222222222222,
              "#7201a8"
             ],
             [
              0.3333333333333333,
              "#9c179e"
             ],
             [
              0.4444444444444444,
              "#bd3786"
             ],
             [
              0.5555555555555556,
              "#d8576b"
             ],
             [
              0.6666666666666666,
              "#ed7953"
             ],
             [
              0.7777777777777778,
              "#fb9f3a"
             ],
             [
              0.8888888888888888,
              "#fdca26"
             ],
             [
              1,
              "#f0f921"
             ]
            ],
            "type": "contour"
           }
          ],
          "contourcarpet": [
           {
            "colorbar": {
             "outlinewidth": 0,
             "ticks": ""
            },
            "type": "contourcarpet"
           }
          ],
          "heatmap": [
           {
            "colorbar": {
             "outlinewidth": 0,
             "ticks": ""
            },
            "colorscale": [
             [
              0,
              "#0d0887"
             ],
             [
              0.1111111111111111,
              "#46039f"
             ],
             [
              0.2222222222222222,
              "#7201a8"
             ],
             [
              0.3333333333333333,
              "#9c179e"
             ],
             [
              0.4444444444444444,
              "#bd3786"
             ],
             [
              0.5555555555555556,
              "#d8576b"
             ],
             [
              0.6666666666666666,
              "#ed7953"
             ],
             [
              0.7777777777777778,
              "#fb9f3a"
             ],
             [
              0.8888888888888888,
              "#fdca26"
             ],
             [
              1,
              "#f0f921"
             ]
            ],
            "type": "heatmap"
           }
          ],
          "histogram": [
           {
            "marker": {
             "pattern": {
              "fillmode": "overlay",
              "size": 10,
              "solidity": 0.2
             }
            },
            "type": "histogram"
           }
          ],
          "histogram2d": [
           {
            "colorbar": {
             "outlinewidth": 0,
             "ticks": ""
            },
            "colorscale": [
             [
              0,
              "#0d0887"
             ],
             [
              0.1111111111111111,
              "#46039f"
             ],
             [
              0.2222222222222222,
              "#7201a8"
             ],
             [
              0.3333333333333333,
              "#9c179e"
             ],
             [
              0.4444444444444444,
              "#bd3786"
             ],
             [
              0.5555555555555556,
              "#d8576b"
             ],
             [
              0.6666666666666666,
              "#ed7953"
             ],
             [
              0.7777777777777778,
              "#fb9f3a"
             ],
             [
              0.8888888888888888,
              "#fdca26"
             ],
             [
              1,
              "#f0f921"
             ]
            ],
            "type": "histogram2d"
           }
          ],
          "histogram2dcontour": [
           {
            "colorbar": {
             "outlinewidth": 0,
             "ticks": ""
            },
            "colorscale": [
             [
              0,
              "#0d0887"
             ],
             [
              0.1111111111111111,
              "#46039f"
             ],
             [
              0.2222222222222222,
              "#7201a8"
             ],
             [
              0.3333333333333333,
              "#9c179e"
             ],
             [
              0.4444444444444444,
              "#bd3786"
             ],
             [
              0.5555555555555556,
              "#d8576b"
             ],
             [
              0.6666666666666666,
              "#ed7953"
             ],
             [
              0.7777777777777778,
              "#fb9f3a"
             ],
             [
              0.8888888888888888,
              "#fdca26"
             ],
             [
              1,
              "#f0f921"
             ]
            ],
            "type": "histogram2dcontour"
           }
          ],
          "mesh3d": [
           {
            "colorbar": {
             "outlinewidth": 0,
             "ticks": ""
            },
            "type": "mesh3d"
           }
          ],
          "parcoords": [
           {
            "line": {
             "colorbar": {
              "outlinewidth": 0,
              "ticks": ""
             }
            },
            "type": "parcoords"
           }
          ],
          "pie": [
           {
            "automargin": true,
            "type": "pie"
           }
          ],
          "scatter": [
           {
            "fillpattern": {
             "fillmode": "overlay",
             "size": 10,
             "solidity": 0.2
            },
            "type": "scatter"
           }
          ],
          "scatter3d": [
           {
            "line": {
             "colorbar": {
              "outlinewidth": 0,
              "ticks": ""
             }
            },
            "marker": {
             "colorbar": {
              "outlinewidth": 0,
              "ticks": ""
             }
            },
            "type": "scatter3d"
           }
          ],
          "scattercarpet": [
           {
            "marker": {
             "colorbar": {
              "outlinewidth": 0,
              "ticks": ""
             }
            },
            "type": "scattercarpet"
           }
          ],
          "scattergeo": [
           {
            "marker": {
             "colorbar": {
              "outlinewidth": 0,
              "ticks": ""
             }
            },
            "type": "scattergeo"
           }
          ],
          "scattergl": [
           {
            "marker": {
             "colorbar": {
              "outlinewidth": 0,
              "ticks": ""
             }
            },
            "type": "scattergl"
           }
          ],
          "scattermap": [
           {
            "marker": {
             "colorbar": {
              "outlinewidth": 0,
              "ticks": ""
             }
            },
            "type": "scattermap"
           }
          ],
          "scattermapbox": [
           {
            "marker": {
             "colorbar": {
              "outlinewidth": 0,
              "ticks": ""
             }
            },
            "type": "scattermapbox"
           }
          ],
          "scatterpolar": [
           {
            "marker": {
             "colorbar": {
              "outlinewidth": 0,
              "ticks": ""
             }
            },
            "type": "scatterpolar"
           }
          ],
          "scatterpolargl": [
           {
            "marker": {
             "colorbar": {
              "outlinewidth": 0,
              "ticks": ""
             }
            },
            "type": "scatterpolargl"
           }
          ],
          "scatterternary": [
           {
            "marker": {
             "colorbar": {
              "outlinewidth": 0,
              "ticks": ""
             }
            },
            "type": "scatterternary"
           }
          ],
          "surface": [
           {
            "colorbar": {
             "outlinewidth": 0,
             "ticks": ""
            },
            "colorscale": [
             [
              0,
              "#0d0887"
             ],
             [
              0.1111111111111111,
              "#46039f"
             ],
             [
              0.2222222222222222,
              "#7201a8"
             ],
             [
              0.3333333333333333,
              "#9c179e"
             ],
             [
              0.4444444444444444,
              "#bd3786"
             ],
             [
              0.5555555555555556,
              "#d8576b"
             ],
             [
              0.6666666666666666,
              "#ed7953"
             ],
             [
              0.7777777777777778,
              "#fb9f3a"
             ],
             [
              0.8888888888888888,
              "#fdca26"
             ],
             [
              1,
              "#f0f921"
             ]
            ],
            "type": "surface"
           }
          ],
          "table": [
           {
            "cells": {
             "fill": {
              "color": "#EBF0F8"
             },
             "line": {
              "color": "white"
             }
            },
            "header": {
             "fill": {
              "color": "#C8D4E3"
             },
             "line": {
              "color": "white"
             }
            },
            "type": "table"
           }
          ]
         },
         "layout": {
          "annotationdefaults": {
           "arrowcolor": "#2a3f5f",
           "arrowhead": 0,
           "arrowwidth": 1
          },
          "autotypenumbers": "strict",
          "coloraxis": {
           "colorbar": {
            "outlinewidth": 0,
            "ticks": ""
           }
          },
          "colorscale": {
           "diverging": [
            [
             0,
             "#8e0152"
            ],
            [
             0.1,
             "#c51b7d"
            ],
            [
             0.2,
             "#de77ae"
            ],
            [
             0.3,
             "#f1b6da"
            ],
            [
             0.4,
             "#fde0ef"
            ],
            [
             0.5,
             "#f7f7f7"
            ],
            [
             0.6,
             "#e6f5d0"
            ],
            [
             0.7,
             "#b8e186"
            ],
            [
             0.8,
             "#7fbc41"
            ],
            [
             0.9,
             "#4d9221"
            ],
            [
             1,
             "#276419"
            ]
           ],
           "sequential": [
            [
             0,
             "#0d0887"
            ],
            [
             0.1111111111111111,
             "#46039f"
            ],
            [
             0.2222222222222222,
             "#7201a8"
            ],
            [
             0.3333333333333333,
             "#9c179e"
            ],
            [
             0.4444444444444444,
             "#bd3786"
            ],
            [
             0.5555555555555556,
             "#d8576b"
            ],
            [
             0.6666666666666666,
             "#ed7953"
            ],
            [
             0.7777777777777778,
             "#fb9f3a"
            ],
            [
             0.8888888888888888,
             "#fdca26"
            ],
            [
             1,
             "#f0f921"
            ]
           ],
           "sequentialminus": [
            [
             0,
             "#0d0887"
            ],
            [
             0.1111111111111111,
             "#46039f"
            ],
            [
             0.2222222222222222,
             "#7201a8"
            ],
            [
             0.3333333333333333,
             "#9c179e"
            ],
            [
             0.4444444444444444,
             "#bd3786"
            ],
            [
             0.5555555555555556,
             "#d8576b"
            ],
            [
             0.6666666666666666,
             "#ed7953"
            ],
            [
             0.7777777777777778,
             "#fb9f3a"
            ],
            [
             0.8888888888888888,
             "#fdca26"
            ],
            [
             1,
             "#f0f921"
            ]
           ]
          },
          "colorway": [
           "#636efa",
           "#EF553B",
           "#00cc96",
           "#ab63fa",
           "#FFA15A",
           "#19d3f3",
           "#FF6692",
           "#B6E880",
           "#FF97FF",
           "#FECB52"
          ],
          "font": {
           "color": "#2a3f5f"
          },
          "geo": {
           "bgcolor": "white",
           "lakecolor": "white",
           "landcolor": "#E5ECF6",
           "showlakes": true,
           "showland": true,
           "subunitcolor": "white"
          },
          "hoverlabel": {
           "align": "left"
          },
          "hovermode": "closest",
          "mapbox": {
           "style": "light"
          },
          "paper_bgcolor": "white",
          "plot_bgcolor": "#E5ECF6",
          "polar": {
           "angularaxis": {
            "gridcolor": "white",
            "linecolor": "white",
            "ticks": ""
           },
           "bgcolor": "#E5ECF6",
           "radialaxis": {
            "gridcolor": "white",
            "linecolor": "white",
            "ticks": ""
           }
          },
          "scene": {
           "xaxis": {
            "backgroundcolor": "#E5ECF6",
            "gridcolor": "white",
            "gridwidth": 2,
            "linecolor": "white",
            "showbackground": true,
            "ticks": "",
            "zerolinecolor": "white"
           },
           "yaxis": {
            "backgroundcolor": "#E5ECF6",
            "gridcolor": "white",
            "gridwidth": 2,
            "linecolor": "white",
            "showbackground": true,
            "ticks": "",
            "zerolinecolor": "white"
           },
           "zaxis": {
            "backgroundcolor": "#E5ECF6",
            "gridcolor": "white",
            "gridwidth": 2,
            "linecolor": "white",
            "showbackground": true,
            "ticks": "",
            "zerolinecolor": "white"
           }
          },
          "shapedefaults": {
           "line": {
            "color": "#2a3f5f"
           }
          },
          "ternary": {
           "aaxis": {
            "gridcolor": "white",
            "linecolor": "white",
            "ticks": ""
           },
           "baxis": {
            "gridcolor": "white",
            "linecolor": "white",
            "ticks": ""
           },
           "bgcolor": "#E5ECF6",
           "caxis": {
            "gridcolor": "white",
            "linecolor": "white",
            "ticks": ""
           }
          },
          "title": {
           "x": 0.05
          },
          "xaxis": {
           "automargin": true,
           "gridcolor": "white",
           "linecolor": "white",
           "ticks": "",
           "title": {
            "standoff": 15
           },
           "zerolinecolor": "white",
           "zerolinewidth": 2
          },
          "yaxis": {
           "automargin": true,
           "gridcolor": "white",
           "linecolor": "white",
           "ticks": "",
           "title": {
            "standoff": 15
           },
           "zerolinecolor": "white",
           "zerolinewidth": 2
          }
         }
        },
        "title": {
         "text": "Speedup vs Threads — Prompt Length 34.0"
        },
        "xaxis": {
         "anchor": "y",
         "domain": [
          0,
          1
         ],
         "title": {
          "text": "Threads"
         }
        },
        "yaxis": {
         "anchor": "x",
         "domain": [
          0,
          1
         ],
         "title": {
          "text": "Speedup"
         }
        }
       }
      }
     },
     "metadata": {},
     "output_type": "display_data"
    },
    {
     "data": {
      "application/vnd.plotly.v1+json": {
       "config": {
        "plotlyServerURL": "https://plot.ly"
       },
       "data": [
        {
         "hovertemplate": "Phase=MATMUL_QKV<br>Threads=%{x}<br>Speedup=%{y}<extra></extra>",
         "legendgroup": "MATMUL_QKV",
         "line": {
          "color": "#636efa",
          "dash": "solid"
         },
         "marker": {
          "symbol": "circle"
         },
         "mode": "lines+markers",
         "name": "MATMUL_QKV",
         "orientation": "v",
         "showlegend": true,
         "type": "scatter",
         "x": {
          "bdata": "AQIECAoM",
          "dtype": "i1"
         },
         "xaxis": "x",
         "y": {
          "bdata": "AAAAAAAA8D+cxGsctV36P1zbWCK0KQFA6ApbGXQRDEADqKjW+G8LQKXMXB9qyg5A",
          "dtype": "f8"
         },
         "yaxis": "y"
        },
        {
         "hovertemplate": "Phase=ROPE<br>Threads=%{x}<br>Speedup=%{y}<extra></extra>",
         "legendgroup": "ROPE",
         "line": {
          "color": "#EF553B",
          "dash": "solid"
         },
         "marker": {
          "symbol": "circle"
         },
         "mode": "lines+markers",
         "name": "ROPE",
         "orientation": "v",
         "showlegend": true,
         "type": "scatter",
         "x": {
          "bdata": "AQIECAoM",
          "dtype": "i1"
         },
         "xaxis": "x",
         "y": {
          "bdata": "AAAAAAAA8D8+tiJoOKn7PxXcW7C2lQVAox4ab0luEUB1W4Oyu4AQQN1QJ8hAGxNA",
          "dtype": "f8"
         },
         "yaxis": "y"
        },
        {
         "hovertemplate": "Phase=ATTENTION_COMPUTATION<br>Threads=%{x}<br>Speedup=%{y}<extra></extra>",
         "legendgroup": "ATTENTION_COMPUTATION",
         "line": {
          "color": "#00cc96",
          "dash": "solid"
         },
         "marker": {
          "symbol": "circle"
         },
         "mode": "lines+markers",
         "name": "ATTENTION_COMPUTATION",
         "orientation": "v",
         "showlegend": true,
         "type": "scatter",
         "x": {
          "bdata": "AQIECAoM",
          "dtype": "i1"
         },
         "xaxis": "x",
         "y": {
          "bdata": "AAAAAAAA8D8sUmrSCaX7P62ykMQEaQZAyuDwDN3qEEBwqccwNBMRQAqhOf9p9RNA",
          "dtype": "f8"
         },
         "yaxis": "y"
        },
        {
         "hovertemplate": "Phase=MATMUL_OUTPUT_ATTENTION<br>Threads=%{x}<br>Speedup=%{y}<extra></extra>",
         "legendgroup": "MATMUL_OUTPUT_ATTENTION",
         "line": {
          "color": "#ab63fa",
          "dash": "solid"
         },
         "marker": {
          "symbol": "circle"
         },
         "mode": "lines+markers",
         "name": "MATMUL_OUTPUT_ATTENTION",
         "orientation": "v",
         "showlegend": true,
         "type": "scatter",
         "x": {
          "bdata": "AQIECAoM",
          "dtype": "i1"
         },
         "xaxis": "x",
         "y": {
          "bdata": "AAAAAAAA8D8B1QNxUCr7P4PqgvJv4QVArp2cNWiPDEBtOUvzdTULQIrKxzS0zQ9A",
          "dtype": "f8"
         },
         "yaxis": "y"
        },
        {
         "hovertemplate": "Phase=MATMUL_FFN<br>Threads=%{x}<br>Speedup=%{y}<extra></extra>",
         "legendgroup": "MATMUL_FFN",
         "line": {
          "color": "#FFA15A",
          "dash": "solid"
         },
         "marker": {
          "symbol": "circle"
         },
         "mode": "lines+markers",
         "name": "MATMUL_FFN",
         "orientation": "v",
         "showlegend": true,
         "type": "scatter",
         "x": {
          "bdata": "AQIECAoM",
          "dtype": "i1"
         },
         "xaxis": "x",
         "y": {
          "bdata": "AAAAAAAA8D8iKMm79+72P21JZsc7JgBAN+0iT3ihBUD05rjWN50DQOXZYeYzSAZA",
          "dtype": "f8"
         },
         "yaxis": "y"
        },
        {
         "hovertemplate": "Phase=SwiGLU<br>Threads=%{x}<br>Speedup=%{y}<extra></extra>",
         "legendgroup": "SwiGLU",
         "line": {
          "color": "#19d3f3",
          "dash": "solid"
         },
         "marker": {
          "symbol": "circle"
         },
         "mode": "lines+markers",
         "name": "SwiGLU",
         "orientation": "v",
         "showlegend": true,
         "type": "scatter",
         "x": {
          "bdata": "AQIECAoM",
          "dtype": "i1"
         },
         "xaxis": "x",
         "y": {
          "bdata": "AAAAAAAA8D/eipqlq8v4P7zPz/SdTQdAW4WNy7b/EkAPPZvHiOsQQJo9TcnHYhNA",
          "dtype": "f8"
         },
         "yaxis": "y"
        },
        {
         "hovertemplate": "Phase=MATMUL_OUTPUT_FFN<br>Threads=%{x}<br>Speedup=%{y}<extra></extra>",
         "legendgroup": "MATMUL_OUTPUT_FFN",
         "line": {
          "color": "#FF6692",
          "dash": "solid"
         },
         "marker": {
          "symbol": "circle"
         },
         "mode": "lines+markers",
         "name": "MATMUL_OUTPUT_FFN",
         "orientation": "v",
         "showlegend": true,
         "type": "scatter",
         "x": {
          "bdata": "AQIECAoM",
          "dtype": "i1"
         },
         "xaxis": "x",
         "y": {
          "bdata": "AAAAAAAA8D/smx36t/j0P0EWIf1JRf4/zQ50TEssA0CzHyAh/EEBQNJckFITlANA",
          "dtype": "f8"
         },
         "yaxis": "y"
        },
        {
         "hovertemplate": "Phase=MATMUL_LOGITS<br>Threads=%{x}<br>Speedup=%{y}<extra></extra>",
         "legendgroup": "MATMUL_LOGITS",
         "line": {
          "color": "#B6E880",
          "dash": "solid"
         },
         "marker": {
          "symbol": "circle"
         },
         "mode": "lines+markers",
         "name": "MATMUL_LOGITS",
         "orientation": "v",
         "showlegend": true,
         "type": "scatter",
         "x": {
          "bdata": "AQIECAoM",
          "dtype": "i1"
         },
         "xaxis": "x",
         "y": {
          "bdata": "AAAAAAAA8D+vzBMOukr5PwZlgnyu4fo/qHgtmQh1AUDr0s8lAjn/PxBg661Z9QBA",
          "dtype": "f8"
         },
         "yaxis": "y"
        },
        {
         "hovertemplate": "Phase=Ideql<br>Threads=%{x}<br>Speedup=%{y}<extra></extra>",
         "legendgroup": "Ideql",
         "line": {
          "color": "#FF97FF",
          "dash": "solid"
         },
         "marker": {
          "symbol": "circle"
         },
         "mode": "lines+markers",
         "name": "Ideql",
         "orientation": "v",
         "showlegend": true,
         "type": "scatter",
         "x": {
          "bdata": "AQIECAoM",
          "dtype": "i1"
         },
         "xaxis": "x",
         "y": {
          "bdata": "AAAAAAAA8D8AAAAAAAAAQAAAAAAAABBAAAAAAAAAIEAAAAAAAAAkQAAAAAAAAChA",
          "dtype": "f8"
         },
         "yaxis": "y"
        }
       ],
       "layout": {
        "legend": {
         "title": {
          "text": "Phase"
         },
         "tracegroupgap": 0
        },
        "template": {
         "data": {
          "bar": [
           {
            "error_x": {
             "color": "#2a3f5f"
            },
            "error_y": {
             "color": "#2a3f5f"
            },
            "marker": {
             "line": {
              "color": "#E5ECF6",
              "width": 0.5
             },
             "pattern": {
              "fillmode": "overlay",
              "size": 10,
              "solidity": 0.2
             }
            },
            "type": "bar"
           }
          ],
          "barpolar": [
           {
            "marker": {
             "line": {
              "color": "#E5ECF6",
              "width": 0.5
             },
             "pattern": {
              "fillmode": "overlay",
              "size": 10,
              "solidity": 0.2
             }
            },
            "type": "barpolar"
           }
          ],
          "carpet": [
           {
            "aaxis": {
             "endlinecolor": "#2a3f5f",
             "gridcolor": "white",
             "linecolor": "white",
             "minorgridcolor": "white",
             "startlinecolor": "#2a3f5f"
            },
            "baxis": {
             "endlinecolor": "#2a3f5f",
             "gridcolor": "white",
             "linecolor": "white",
             "minorgridcolor": "white",
             "startlinecolor": "#2a3f5f"
            },
            "type": "carpet"
           }
          ],
          "choropleth": [
           {
            "colorbar": {
             "outlinewidth": 0,
             "ticks": ""
            },
            "type": "choropleth"
           }
          ],
          "contour": [
           {
            "colorbar": {
             "outlinewidth": 0,
             "ticks": ""
            },
            "colorscale": [
             [
              0,
              "#0d0887"
             ],
             [
              0.1111111111111111,
              "#46039f"
             ],
             [
              0.2222222222222222,
              "#7201a8"
             ],
             [
              0.3333333333333333,
              "#9c179e"
             ],
             [
              0.4444444444444444,
              "#bd3786"
             ],
             [
              0.5555555555555556,
              "#d8576b"
             ],
             [
              0.6666666666666666,
              "#ed7953"
             ],
             [
              0.7777777777777778,
              "#fb9f3a"
             ],
             [
              0.8888888888888888,
              "#fdca26"
             ],
             [
              1,
              "#f0f921"
             ]
            ],
            "type": "contour"
           }
          ],
          "contourcarpet": [
           {
            "colorbar": {
             "outlinewidth": 0,
             "ticks": ""
            },
            "type": "contourcarpet"
           }
          ],
          "heatmap": [
           {
            "colorbar": {
             "outlinewidth": 0,
             "ticks": ""
            },
            "colorscale": [
             [
              0,
              "#0d0887"
             ],
             [
              0.1111111111111111,
              "#46039f"
             ],
             [
              0.2222222222222222,
              "#7201a8"
             ],
             [
              0.3333333333333333,
              "#9c179e"
             ],
             [
              0.4444444444444444,
              "#bd3786"
             ],
             [
              0.5555555555555556,
              "#d8576b"
             ],
             [
              0.6666666666666666,
              "#ed7953"
             ],
             [
              0.7777777777777778,
              "#fb9f3a"
             ],
             [
              0.8888888888888888,
              "#fdca26"
             ],
             [
              1,
              "#f0f921"
             ]
            ],
            "type": "heatmap"
           }
          ],
          "histogram": [
           {
            "marker": {
             "pattern": {
              "fillmode": "overlay",
              "size": 10,
              "solidity": 0.2
             }
            },
            "type": "histogram"
           }
          ],
          "histogram2d": [
           {
            "colorbar": {
             "outlinewidth": 0,
             "ticks": ""
            },
            "colorscale": [
             [
              0,
              "#0d0887"
             ],
             [
              0.1111111111111111,
              "#46039f"
             ],
             [
              0.2222222222222222,
              "#7201a8"
             ],
             [
              0.3333333333333333,
              "#9c179e"
             ],
             [
              0.4444444444444444,
              "#bd3786"
             ],
             [
              0.5555555555555556,
              "#d8576b"
             ],
             [
              0.6666666666666666,
              "#ed7953"
             ],
             [
              0.7777777777777778,
              "#fb9f3a"
             ],
             [
              0.8888888888888888,
              "#fdca26"
             ],
             [
              1,
              "#f0f921"
             ]
            ],
            "type": "histogram2d"
           }
          ],
          "histogram2dcontour": [
           {
            "colorbar": {
             "outlinewidth": 0,
             "ticks": ""
            },
            "colorscale": [
             [
              0,
              "#0d0887"
             ],
             [
              0.1111111111111111,
              "#46039f"
             ],
             [
              0.2222222222222222,
              "#7201a8"
             ],
             [
              0.3333333333333333,
              "#9c179e"
             ],
             [
              0.4444444444444444,
              "#bd3786"
             ],
             [
              0.5555555555555556,
              "#d8576b"
             ],
             [
              0.6666666666666666,
              "#ed7953"
             ],
             [
              0.7777777777777778,
              "#fb9f3a"
             ],
             [
              0.8888888888888888,
              "#fdca26"
             ],
             [
              1,
              "#f0f921"
             ]
            ],
            "type": "histogram2dcontour"
           }
          ],
          "mesh3d": [
           {
            "colorbar": {
             "outlinewidth": 0,
             "ticks": ""
            },
            "type": "mesh3d"
           }
          ],
          "parcoords": [
           {
            "line": {
             "colorbar": {
              "outlinewidth": 0,
              "ticks": ""
             }
            },
            "type": "parcoords"
           }
          ],
          "pie": [
           {
            "automargin": true,
            "type": "pie"
           }
          ],
          "scatter": [
           {
            "fillpattern": {
             "fillmode": "overlay",
             "size": 10,
             "solidity": 0.2
            },
            "type": "scatter"
           }
          ],
          "scatter3d": [
           {
            "line": {
             "colorbar": {
              "outlinewidth": 0,
              "ticks": ""
             }
            },
            "marker": {
             "colorbar": {
              "outlinewidth": 0,
              "ticks": ""
             }
            },
            "type": "scatter3d"
           }
          ],
          "scattercarpet": [
           {
            "marker": {
             "colorbar": {
              "outlinewidth": 0,
              "ticks": ""
             }
            },
            "type": "scattercarpet"
           }
          ],
          "scattergeo": [
           {
            "marker": {
             "colorbar": {
              "outlinewidth": 0,
              "ticks": ""
             }
            },
            "type": "scattergeo"
           }
          ],
          "scattergl": [
           {
            "marker": {
             "colorbar": {
              "outlinewidth": 0,
              "ticks": ""
             }
            },
            "type": "scattergl"
           }
          ],
          "scattermap": [
           {
            "marker": {
             "colorbar": {
              "outlinewidth": 0,
              "ticks": ""
             }
            },
            "type": "scattermap"
           }
          ],
          "scattermapbox": [
           {
            "marker": {
             "colorbar": {
              "outlinewidth": 0,
              "ticks": ""
             }
            },
            "type": "scattermapbox"
           }
          ],
          "scatterpolar": [
           {
            "marker": {
             "colorbar": {
              "outlinewidth": 0,
              "ticks": ""
             }
            },
            "type": "scatterpolar"
           }
          ],
          "scatterpolargl": [
           {
            "marker": {
             "colorbar": {
              "outlinewidth": 0,
              "ticks": ""
             }
            },
            "type": "scatterpolargl"
           }
          ],
          "scatterternary": [
           {
            "marker": {
             "colorbar": {
              "outlinewidth": 0,
              "ticks": ""
             }
            },
            "type": "scatterternary"
           }
          ],
          "surface": [
           {
            "colorbar": {
             "outlinewidth": 0,
             "ticks": ""
            },
            "colorscale": [
             [
              0,
              "#0d0887"
             ],
             [
              0.1111111111111111,
              "#46039f"
             ],
             [
              0.2222222222222222,
              "#7201a8"
             ],
             [
              0.3333333333333333,
              "#9c179e"
             ],
             [
              0.4444444444444444,
              "#bd3786"
             ],
             [
              0.5555555555555556,
              "#d8576b"
             ],
             [
              0.6666666666666666,
              "#ed7953"
             ],
             [
              0.7777777777777778,
              "#fb9f3a"
             ],
             [
              0.8888888888888888,
              "#fdca26"
             ],
             [
              1,
              "#f0f921"
             ]
            ],
            "type": "surface"
           }
          ],
          "table": [
           {
            "cells": {
             "fill": {
              "color": "#EBF0F8"
             },
             "line": {
              "color": "white"
             }
            },
            "header": {
             "fill": {
              "color": "#C8D4E3"
             },
             "line": {
              "color": "white"
             }
            },
            "type": "table"
           }
          ]
         },
         "layout": {
          "annotationdefaults": {
           "arrowcolor": "#2a3f5f",
           "arrowhead": 0,
           "arrowwidth": 1
          },
          "autotypenumbers": "strict",
          "coloraxis": {
           "colorbar": {
            "outlinewidth": 0,
            "ticks": ""
           }
          },
          "colorscale": {
           "diverging": [
            [
             0,
             "#8e0152"
            ],
            [
             0.1,
             "#c51b7d"
            ],
            [
             0.2,
             "#de77ae"
            ],
            [
             0.3,
             "#f1b6da"
            ],
            [
             0.4,
             "#fde0ef"
            ],
            [
             0.5,
             "#f7f7f7"
            ],
            [
             0.6,
             "#e6f5d0"
            ],
            [
             0.7,
             "#b8e186"
            ],
            [
             0.8,
             "#7fbc41"
            ],
            [
             0.9,
             "#4d9221"
            ],
            [
             1,
             "#276419"
            ]
           ],
           "sequential": [
            [
             0,
             "#0d0887"
            ],
            [
             0.1111111111111111,
             "#46039f"
            ],
            [
             0.2222222222222222,
             "#7201a8"
            ],
            [
             0.3333333333333333,
             "#9c179e"
            ],
            [
             0.4444444444444444,
             "#bd3786"
            ],
            [
             0.5555555555555556,
             "#d8576b"
            ],
            [
             0.6666666666666666,
             "#ed7953"
            ],
            [
             0.7777777777777778,
             "#fb9f3a"
            ],
            [
             0.8888888888888888,
             "#fdca26"
            ],
            [
             1,
             "#f0f921"
            ]
           ],
           "sequentialminus": [
            [
             0,
             "#0d0887"
            ],
            [
             0.1111111111111111,
             "#46039f"
            ],
            [
             0.2222222222222222,
             "#7201a8"
            ],
            [
             0.3333333333333333,
             "#9c179e"
            ],
            [
             0.4444444444444444,
             "#bd3786"
            ],
            [
             0.5555555555555556,
             "#d8576b"
            ],
            [
             0.6666666666666666,
             "#ed7953"
            ],
            [
             0.7777777777777778,
             "#fb9f3a"
            ],
            [
             0.8888888888888888,
             "#fdca26"
            ],
            [
             1,
             "#f0f921"
            ]
           ]
          },
          "colorway": [
           "#636efa",
           "#EF553B",
           "#00cc96",
           "#ab63fa",
           "#FFA15A",
           "#19d3f3",
           "#FF6692",
           "#B6E880",
           "#FF97FF",
           "#FECB52"
          ],
          "font": {
           "color": "#2a3f5f"
          },
          "geo": {
           "bgcolor": "white",
           "lakecolor": "white",
           "landcolor": "#E5ECF6",
           "showlakes": true,
           "showland": true,
           "subunitcolor": "white"
          },
          "hoverlabel": {
           "align": "left"
          },
          "hovermode": "closest",
          "mapbox": {
           "style": "light"
          },
          "paper_bgcolor": "white",
          "plot_bgcolor": "#E5ECF6",
          "polar": {
           "angularaxis": {
            "gridcolor": "white",
            "linecolor": "white",
            "ticks": ""
           },
           "bgcolor": "#E5ECF6",
           "radialaxis": {
            "gridcolor": "white",
            "linecolor": "white",
            "ticks": ""
           }
          },
          "scene": {
           "xaxis": {
            "backgroundcolor": "#E5ECF6",
            "gridcolor": "white",
            "gridwidth": 2,
            "linecolor": "white",
            "showbackground": true,
            "ticks": "",
            "zerolinecolor": "white"
           },
           "yaxis": {
            "backgroundcolor": "#E5ECF6",
            "gridcolor": "white",
            "gridwidth": 2,
            "linecolor": "white",
            "showbackground": true,
            "ticks": "",
            "zerolinecolor": "white"
           },
           "zaxis": {
            "backgroundcolor": "#E5ECF6",
            "gridcolor": "white",
            "gridwidth": 2,
            "linecolor": "white",
            "showbackground": true,
            "ticks": "",
            "zerolinecolor": "white"
           }
          },
          "shapedefaults": {
           "line": {
            "color": "#2a3f5f"
           }
          },
          "ternary": {
           "aaxis": {
            "gridcolor": "white",
            "linecolor": "white",
            "ticks": ""
           },
           "baxis": {
            "gridcolor": "white",
            "linecolor": "white",
            "ticks": ""
           },
           "bgcolor": "#E5ECF6",
           "caxis": {
            "gridcolor": "white",
            "linecolor": "white",
            "ticks": ""
           }
          },
          "title": {
           "x": 0.05
          },
          "xaxis": {
           "automargin": true,
           "gridcolor": "white",
           "linecolor": "white",
           "ticks": "",
           "title": {
            "standoff": 15
           },
           "zerolinecolor": "white",
           "zerolinewidth": 2
          },
          "yaxis": {
           "automargin": true,
           "gridcolor": "white",
           "linecolor": "white",
           "ticks": "",
           "title": {
            "standoff": 15
           },
           "zerolinecolor": "white",
           "zerolinewidth": 2
          }
         }
        },
        "title": {
         "text": "Speedup vs Threads — Prompt Length 61.0"
        },
        "xaxis": {
         "anchor": "y",
         "domain": [
          0,
          1
         ],
         "title": {
          "text": "Threads"
         }
        },
        "yaxis": {
         "anchor": "x",
         "domain": [
          0,
          1
         ],
         "title": {
          "text": "Speedup"
         }
        }
       }
      }
     },
     "metadata": {},
     "output_type": "display_data"
    },
    {
     "data": {
      "application/vnd.plotly.v1+json": {
       "config": {
        "plotlyServerURL": "https://plot.ly"
       },
       "data": [
        {
         "hovertemplate": "Phase=MATMUL_QKV<br>Threads=%{x}<br>Speedup=%{y}<extra></extra>",
         "legendgroup": "MATMUL_QKV",
         "line": {
          "color": "#636efa",
          "dash": "solid"
         },
         "marker": {
          "symbol": "circle"
         },
         "mode": "lines+markers",
         "name": "MATMUL_QKV",
         "orientation": "v",
         "showlegend": true,
         "type": "scatter",
         "x": {
          "bdata": "AQIECAoM",
          "dtype": "i1"
         },
         "xaxis": "x",
         "y": {
          "bdata": "AAAAAAAA8D8EvrkwztP6P10KyvjrNwRAK8+UyTnBDUCmkaq6jLwQQOFIulVbsRBA",
          "dtype": "f8"
         },
         "yaxis": "y"
        },
        {
         "hovertemplate": "Phase=ROPE<br>Threads=%{x}<br>Speedup=%{y}<extra></extra>",
         "legendgroup": "ROPE",
         "line": {
          "color": "#EF553B",
          "dash": "solid"
         },
         "marker": {
          "symbol": "circle"
         },
         "mode": "lines+markers",
         "name": "ROPE",
         "orientation": "v",
         "showlegend": true,
         "type": "scatter",
         "x": {
          "bdata": "AQIECAoM",
          "dtype": "i1"
         },
         "xaxis": "x",
         "y": {
          "bdata": "AAAAAAAA8D/vBYh/7LX8P+kj9jW7kQNADxsuaApdDEBh/hnN7ucRQAarJft4jBRA",
          "dtype": "f8"
         },
         "yaxis": "y"
        },
        {
         "hovertemplate": "Phase=ATTENTION_COMPUTATION<br>Threads=%{x}<br>Speedup=%{y}<extra></extra>",
         "legendgroup": "ATTENTION_COMPUTATION",
         "line": {
          "color": "#00cc96",
          "dash": "solid"
         },
         "marker": {
          "symbol": "circle"
         },
         "mode": "lines+markers",
         "name": "ATTENTION_COMPUTATION",
         "orientation": "v",
         "showlegend": true,
         "type": "scatter",
         "x": {
          "bdata": "AQIECAoM",
          "dtype": "i1"
         },
         "xaxis": "x",
         "y": {
          "bdata": "AAAAAAAA8D8w6/WK0sT7PwnH66YNUQhA8RyL0JBdEEAfHSwmDP0SQK4fZ5HX1RRA",
          "dtype": "f8"
         },
         "yaxis": "y"
        },
        {
         "hovertemplate": "Phase=MATMUL_OUTPUT_ATTENTION<br>Threads=%{x}<br>Speedup=%{y}<extra></extra>",
         "legendgroup": "MATMUL_OUTPUT_ATTENTION",
         "line": {
          "color": "#ab63fa",
          "dash": "solid"
         },
         "marker": {
          "symbol": "circle"
         },
         "mode": "lines+markers",
         "name": "MATMUL_OUTPUT_ATTENTION",
         "orientation": "v",
         "showlegend": true,
         "type": "scatter",
         "x": {
          "bdata": "AQIECAoM",
          "dtype": "i1"
         },
         "xaxis": "x",
         "y": {
          "bdata": "AAAAAAAA8D8ERDvak+78P8zyQgzdKAhA+POYr6ZOD0APCHw7YBgRQPODPVQiSxFA",
          "dtype": "f8"
         },
         "yaxis": "y"
        },
        {
         "hovertemplate": "Phase=MATMUL_FFN<br>Threads=%{x}<br>Speedup=%{y}<extra></extra>",
         "legendgroup": "MATMUL_FFN",
         "line": {
          "color": "#FFA15A",
          "dash": "solid"
         },
         "marker": {
          "symbol": "circle"
         },
         "mode": "lines+markers",
         "name": "MATMUL_FFN",
         "orientation": "v",
         "showlegend": true,
         "type": "scatter",
         "x": {
          "bdata": "AQIECAoM",
          "dtype": "i1"
         },
         "xaxis": "x",
         "y": {
          "bdata": "AAAAAAAA8D9H3WmQ/Vr3P3MU4/E1igBARQDWNmAmBkACePhPRH4HQJFxVg7G0gdA",
          "dtype": "f8"
         },
         "yaxis": "y"
        },
        {
         "hovertemplate": "Phase=SwiGLU<br>Threads=%{x}<br>Speedup=%{y}<extra></extra>",
         "legendgroup": "SwiGLU",
         "line": {
          "color": "#19d3f3",
          "dash": "solid"
         },
         "marker": {
          "symbol": "circle"
         },
         "mode": "lines+markers",
         "name": "SwiGLU",
         "orientation": "v",
         "showlegend": true,
         "type": "scatter",
         "x": {
          "bdata": "AQIECAoM",
          "dtype": "i1"
         },
         "xaxis": "x",
         "y": {
          "bdata": "AAAAAAAA8D/i24xAvkD6P7sbQlqTwQdAFtO1qD/lEkB51VaT3pkWQHvvmIXu4RVA",
          "dtype": "f8"
         },
         "yaxis": "y"
        },
        {
         "hovertemplate": "Phase=MATMUL_OUTPUT_FFN<br>Threads=%{x}<br>Speedup=%{y}<extra></extra>",
         "legendgroup": "MATMUL_OUTPUT_FFN",
         "line": {
          "color": "#FF6692",
          "dash": "solid"
         },
         "marker": {
          "symbol": "circle"
         },
         "mode": "lines+markers",
         "name": "MATMUL_OUTPUT_FFN",
         "orientation": "v",
         "showlegend": true,
         "type": "scatter",
         "x": {
          "bdata": "AQIECAoM",
          "dtype": "i1"
         },
         "xaxis": "x",
         "y": {
          "bdata": "AAAAAAAA8D/w3qViG3v1P1CDAqvSKP8/n1h8EzUPBEDud/vskf8EQDO86Uf0wwRA",
          "dtype": "f8"
         },
         "yaxis": "y"
        },
        {
         "hovertemplate": "Phase=MATMUL_LOGITS<br>Threads=%{x}<br>Speedup=%{y}<extra></extra>",
         "legendgroup": "MATMUL_LOGITS",
         "line": {
          "color": "#B6E880",
          "dash": "solid"
         },
         "marker": {
          "symbol": "circle"
         },
         "mode": "lines+markers",
         "name": "MATMUL_LOGITS",
         "orientation": "v",
         "showlegend": true,
         "type": "scatter",
         "x": {
          "bdata": "AQIECAoM",
          "dtype": "i1"
         },
         "xaxis": "x",
         "y": {
          "bdata": "AAAAAAAA8D8dbfaWhub2P7va2ow9ofU/4Ep+NgUs/j+srCt0mav/P0gNQjkUwP8/",
          "dtype": "f8"
         },
         "yaxis": "y"
        },
        {
         "hovertemplate": "Phase=Ideql<br>Threads=%{x}<br>Speedup=%{y}<extra></extra>",
         "legendgroup": "Ideql",
         "line": {
          "color": "#FF97FF",
          "dash": "solid"
         },
         "marker": {
          "symbol": "circle"
         },
         "mode": "lines+markers",
         "name": "Ideql",
         "orientation": "v",
         "showlegend": true,
         "type": "scatter",
         "x": {
          "bdata": "AQIECAoM",
          "dtype": "i1"
         },
         "xaxis": "x",
         "y": {
          "bdata": "AAAAAAAA8D8AAAAAAAAAQAAAAAAAABBAAAAAAAAAIEAAAAAAAAAkQAAAAAAAAChA",
          "dtype": "f8"
         },
         "yaxis": "y"
        }
       ],
       "layout": {
        "legend": {
         "title": {
          "text": "Phase"
         },
         "tracegroupgap": 0
        },
        "template": {
         "data": {
          "bar": [
           {
            "error_x": {
             "color": "#2a3f5f"
            },
            "error_y": {
             "color": "#2a3f5f"
            },
            "marker": {
             "line": {
              "color": "#E5ECF6",
              "width": 0.5
             },
             "pattern": {
              "fillmode": "overlay",
              "size": 10,
              "solidity": 0.2
             }
            },
            "type": "bar"
           }
          ],
          "barpolar": [
           {
            "marker": {
             "line": {
              "color": "#E5ECF6",
              "width": 0.5
             },
             "pattern": {
              "fillmode": "overlay",
              "size": 10,
              "solidity": 0.2
             }
            },
            "type": "barpolar"
           }
          ],
          "carpet": [
           {
            "aaxis": {
             "endlinecolor": "#2a3f5f",
             "gridcolor": "white",
             "linecolor": "white",
             "minorgridcolor": "white",
             "startlinecolor": "#2a3f5f"
            },
            "baxis": {
             "endlinecolor": "#2a3f5f",
             "gridcolor": "white",
             "linecolor": "white",
             "minorgridcolor": "white",
             "startlinecolor": "#2a3f5f"
            },
            "type": "carpet"
           }
          ],
          "choropleth": [
           {
            "colorbar": {
             "outlinewidth": 0,
             "ticks": ""
            },
            "type": "choropleth"
           }
          ],
          "contour": [
           {
            "colorbar": {
             "outlinewidth": 0,
             "ticks": ""
            },
            "colorscale": [
             [
              0,
              "#0d0887"
             ],
             [
              0.1111111111111111,
              "#46039f"
             ],
             [
              0.2222222222222222,
              "#7201a8"
             ],
             [
              0.3333333333333333,
              "#9c179e"
             ],
             [
              0.4444444444444444,
              "#bd3786"
             ],
             [
              0.5555555555555556,
              "#d8576b"
             ],
             [
              0.6666666666666666,
              "#ed7953"
             ],
             [
              0.7777777777777778,
              "#fb9f3a"
             ],
             [
              0.8888888888888888,
              "#fdca26"
             ],
             [
              1,
              "#f0f921"
             ]
            ],
            "type": "contour"
           }
          ],
          "contourcarpet": [
           {
            "colorbar": {
             "outlinewidth": 0,
             "ticks": ""
            },
            "type": "contourcarpet"
           }
          ],
          "heatmap": [
           {
            "colorbar": {
             "outlinewidth": 0,
             "ticks": ""
            },
            "colorscale": [
             [
              0,
              "#0d0887"
             ],
             [
              0.1111111111111111,
              "#46039f"
             ],
             [
              0.2222222222222222,
              "#7201a8"
             ],
             [
              0.3333333333333333,
              "#9c179e"
             ],
             [
              0.4444444444444444,
              "#bd3786"
             ],
             [
              0.5555555555555556,
              "#d8576b"
             ],
             [
              0.6666666666666666,
              "#ed7953"
             ],
             [
              0.7777777777777778,
              "#fb9f3a"
             ],
             [
              0.8888888888888888,
              "#fdca26"
             ],
             [
              1,
              "#f0f921"
             ]
            ],
            "type": "heatmap"
           }
          ],
          "histogram": [
           {
            "marker": {
             "pattern": {
              "fillmode": "overlay",
              "size": 10,
              "solidity": 0.2
             }
            },
            "type": "histogram"
           }
          ],
          "histogram2d": [
           {
            "colorbar": {
             "outlinewidth": 0,
             "ticks": ""
            },
            "colorscale": [
             [
              0,
              "#0d0887"
             ],
             [
              0.1111111111111111,
              "#46039f"
             ],
             [
              0.2222222222222222,
              "#7201a8"
             ],
             [
              0.3333333333333333,
              "#9c179e"
             ],
             [
              0.4444444444444444,
              "#bd3786"
             ],
             [
              0.5555555555555556,
              "#d8576b"
             ],
             [
              0.6666666666666666,
              "#ed7953"
             ],
             [
              0.7777777777777778,
              "#fb9f3a"
             ],
             [
              0.8888888888888888,
              "#fdca26"
             ],
             [
              1,
              "#f0f921"
             ]
            ],
            "type": "histogram2d"
           }
          ],
          "histogram2dcontour": [
           {
            "colorbar": {
             "outlinewidth": 0,
             "ticks": ""
            },
            "colorscale": [
             [
              0,
              "#0d0887"
             ],
             [
              0.1111111111111111,
              "#46039f"
             ],
             [
              0.2222222222222222,
              "#7201a8"
             ],
             [
              0.3333333333333333,
              "#9c179e"
             ],
             [
              0.4444444444444444,
              "#bd3786"
             ],
             [
              0.5555555555555556,
              "#d8576b"
             ],
             [
              0.6666666666666666,
              "#ed7953"
             ],
             [
              0.7777777777777778,
              "#fb9f3a"
             ],
             [
              0.8888888888888888,
              "#fdca26"
             ],
             [
              1,
              "#f0f921"
             ]
            ],
            "type": "histogram2dcontour"
           }
          ],
          "mesh3d": [
           {
            "colorbar": {
             "outlinewidth": 0,
             "ticks": ""
            },
            "type": "mesh3d"
           }
          ],
          "parcoords": [
           {
            "line": {
             "colorbar": {
              "outlinewidth": 0,
              "ticks": ""
             }
            },
            "type": "parcoords"
           }
          ],
          "pie": [
           {
            "automargin": true,
            "type": "pie"
           }
          ],
          "scatter": [
           {
            "fillpattern": {
             "fillmode": "overlay",
             "size": 10,
             "solidity": 0.2
            },
            "type": "scatter"
           }
          ],
          "scatter3d": [
           {
            "line": {
             "colorbar": {
              "outlinewidth": 0,
              "ticks": ""
             }
            },
            "marker": {
             "colorbar": {
              "outlinewidth": 0,
              "ticks": ""
             }
            },
            "type": "scatter3d"
           }
          ],
          "scattercarpet": [
           {
            "marker": {
             "colorbar": {
              "outlinewidth": 0,
              "ticks": ""
             }
            },
            "type": "scattercarpet"
           }
          ],
          "scattergeo": [
           {
            "marker": {
             "colorbar": {
              "outlinewidth": 0,
              "ticks": ""
             }
            },
            "type": "scattergeo"
           }
          ],
          "scattergl": [
           {
            "marker": {
             "colorbar": {
              "outlinewidth": 0,
              "ticks": ""
             }
            },
            "type": "scattergl"
           }
          ],
          "scattermap": [
           {
            "marker": {
             "colorbar": {
              "outlinewidth": 0,
              "ticks": ""
             }
            },
            "type": "scattermap"
           }
          ],
          "scattermapbox": [
           {
            "marker": {
             "colorbar": {
              "outlinewidth": 0,
              "ticks": ""
             }
            },
            "type": "scattermapbox"
           }
          ],
          "scatterpolar": [
           {
            "marker": {
             "colorbar": {
              "outlinewidth": 0,
              "ticks": ""
             }
            },
            "type": "scatterpolar"
           }
          ],
          "scatterpolargl": [
           {
            "marker": {
             "colorbar": {
              "outlinewidth": 0,
              "ticks": ""
             }
            },
            "type": "scatterpolargl"
           }
          ],
          "scatterternary": [
           {
            "marker": {
             "colorbar": {
              "outlinewidth": 0,
              "ticks": ""
             }
            },
            "type": "scatterternary"
           }
          ],
          "surface": [
           {
            "colorbar": {
             "outlinewidth": 0,
             "ticks": ""
            },
            "colorscale": [
             [
              0,
              "#0d0887"
             ],
             [
              0.1111111111111111,
              "#46039f"
             ],
             [
              0.2222222222222222,
              "#7201a8"
             ],
             [
              0.3333333333333333,
              "#9c179e"
             ],
             [
              0.4444444444444444,
              "#bd3786"
             ],
             [
              0.5555555555555556,
              "#d8576b"
             ],
             [
              0.6666666666666666,
              "#ed7953"
             ],
             [
              0.7777777777777778,
              "#fb9f3a"
             ],
             [
              0.8888888888888888,
              "#fdca26"
             ],
             [
              1,
              "#f0f921"
             ]
            ],
            "type": "surface"
           }
          ],
          "table": [
           {
            "cells": {
             "fill": {
              "color": "#EBF0F8"
             },
             "line": {
              "color": "white"
             }
            },
            "header": {
             "fill": {
              "color": "#C8D4E3"
             },
             "line": {
              "color": "white"
             }
            },
            "type": "table"
           }
          ]
         },
         "layout": {
          "annotationdefaults": {
           "arrowcolor": "#2a3f5f",
           "arrowhead": 0,
           "arrowwidth": 1
          },
          "autotypenumbers": "strict",
          "coloraxis": {
           "colorbar": {
            "outlinewidth": 0,
            "ticks": ""
           }
          },
          "colorscale": {
           "diverging": [
            [
             0,
             "#8e0152"
            ],
            [
             0.1,
             "#c51b7d"
            ],
            [
             0.2,
             "#de77ae"
            ],
            [
             0.3,
             "#f1b6da"
            ],
            [
             0.4,
             "#fde0ef"
            ],
            [
             0.5,
             "#f7f7f7"
            ],
            [
             0.6,
             "#e6f5d0"
            ],
            [
             0.7,
             "#b8e186"
            ],
            [
             0.8,
             "#7fbc41"
            ],
            [
             0.9,
             "#4d9221"
            ],
            [
             1,
             "#276419"
            ]
           ],
           "sequential": [
            [
             0,
             "#0d0887"
            ],
            [
             0.1111111111111111,
             "#46039f"
            ],
            [
             0.2222222222222222,
             "#7201a8"
            ],
            [
             0.3333333333333333,
             "#9c179e"
            ],
            [
             0.4444444444444444,
             "#bd3786"
            ],
            [
             0.5555555555555556,
             "#d8576b"
            ],
            [
             0.6666666666666666,
             "#ed7953"
            ],
            [
             0.7777777777777778,
             "#fb9f3a"
            ],
            [
             0.8888888888888888,
             "#fdca26"
            ],
            [
             1,
             "#f0f921"
            ]
           ],
           "sequentialminus": [
            [
             0,
             "#0d0887"
            ],
            [
             0.1111111111111111,
             "#46039f"
            ],
            [
             0.2222222222222222,
             "#7201a8"
            ],
            [
             0.3333333333333333,
             "#9c179e"
            ],
            [
             0.4444444444444444,
             "#bd3786"
            ],
            [
             0.5555555555555556,
             "#d8576b"
            ],
            [
             0.6666666666666666,
             "#ed7953"
            ],
            [
             0.7777777777777778,
             "#fb9f3a"
            ],
            [
             0.8888888888888888,
             "#fdca26"
            ],
            [
             1,
             "#f0f921"
            ]
           ]
          },
          "colorway": [
           "#636efa",
           "#EF553B",
           "#00cc96",
           "#ab63fa",
           "#FFA15A",
           "#19d3f3",
           "#FF6692",
           "#B6E880",
           "#FF97FF",
           "#FECB52"
          ],
          "font": {
           "color": "#2a3f5f"
          },
          "geo": {
           "bgcolor": "white",
           "lakecolor": "white",
           "landcolor": "#E5ECF6",
           "showlakes": true,
           "showland": true,
           "subunitcolor": "white"
          },
          "hoverlabel": {
           "align": "left"
          },
          "hovermode": "closest",
          "mapbox": {
           "style": "light"
          },
          "paper_bgcolor": "white",
          "plot_bgcolor": "#E5ECF6",
          "polar": {
           "angularaxis": {
            "gridcolor": "white",
            "linecolor": "white",
            "ticks": ""
           },
           "bgcolor": "#E5ECF6",
           "radialaxis": {
            "gridcolor": "white",
            "linecolor": "white",
            "ticks": ""
           }
          },
          "scene": {
           "xaxis": {
            "backgroundcolor": "#E5ECF6",
            "gridcolor": "white",
            "gridwidth": 2,
            "linecolor": "white",
            "showbackground": true,
            "ticks": "",
            "zerolinecolor": "white"
           },
           "yaxis": {
            "backgroundcolor": "#E5ECF6",
            "gridcolor": "white",
            "gridwidth": 2,
            "linecolor": "white",
            "showbackground": true,
            "ticks": "",
            "zerolinecolor": "white"
           },
           "zaxis": {
            "backgroundcolor": "#E5ECF6",
            "gridcolor": "white",
            "gridwidth": 2,
            "linecolor": "white",
            "showbackground": true,
            "ticks": "",
            "zerolinecolor": "white"
           }
          },
          "shapedefaults": {
           "line": {
            "color": "#2a3f5f"
           }
          },
          "ternary": {
           "aaxis": {
            "gridcolor": "white",
            "linecolor": "white",
            "ticks": ""
           },
           "baxis": {
            "gridcolor": "white",
            "linecolor": "white",
            "ticks": ""
           },
           "bgcolor": "#E5ECF6",
           "caxis": {
            "gridcolor": "white",
            "linecolor": "white",
            "ticks": ""
           }
          },
          "title": {
           "x": 0.05
          },
          "xaxis": {
           "automargin": true,
           "gridcolor": "white",
           "linecolor": "white",
           "ticks": "",
           "title": {
            "standoff": 15
           },
           "zerolinecolor": "white",
           "zerolinewidth": 2
          },
          "yaxis": {
           "automargin": true,
           "gridcolor": "white",
           "linecolor": "white",
           "ticks": "",
           "title": {
            "standoff": 15
           },
           "zerolinecolor": "white",
           "zerolinewidth": 2
          }
         }
        },
        "title": {
         "text": "Speedup vs Threads — Prompt Length 119.0"
        },
        "xaxis": {
         "anchor": "y",
         "domain": [
          0,
          1
         ],
         "title": {
          "text": "Threads"
         }
        },
        "yaxis": {
         "anchor": "x",
         "domain": [
          0,
          1
         ],
         "title": {
          "text": "Speedup"
         }
        }
       }
      }
     },
     "metadata": {},
     "output_type": "display_data"
    },
    {
     "data": {
      "application/vnd.plotly.v1+json": {
       "config": {
        "plotlyServerURL": "https://plot.ly"
       },
       "data": [
        {
         "hovertemplate": "Phase=MATMUL_QKV<br>Threads=%{x}<br>Speedup=%{y}<extra></extra>",
         "legendgroup": "MATMUL_QKV",
         "line": {
          "color": "#636efa",
          "dash": "solid"
         },
         "marker": {
          "symbol": "circle"
         },
         "mode": "lines+markers",
         "name": "MATMUL_QKV",
         "orientation": "v",
         "showlegend": true,
         "type": "scatter",
         "x": {
          "bdata": "AQIECAoM",
          "dtype": "i1"
         },
         "xaxis": "x",
         "y": {
          "bdata": "AAAAAAAA8D8dDtncmbz6P1zS7h9hAARAc3PcEA1RDUB1A0ZB2GYQQDDhfye8iBBA",
          "dtype": "f8"
         },
         "yaxis": "y"
        },
        {
         "hovertemplate": "Phase=ROPE<br>Threads=%{x}<br>Speedup=%{y}<extra></extra>",
         "legendgroup": "ROPE",
         "line": {
          "color": "#EF553B",
          "dash": "solid"
         },
         "marker": {
          "symbol": "circle"
         },
         "mode": "lines+markers",
         "name": "ROPE",
         "orientation": "v",
         "showlegend": true,
         "type": "scatter",
         "x": {
          "bdata": "AQIECAoM",
          "dtype": "i1"
         },
         "xaxis": "x",
         "y": {
          "bdata": "AAAAAAAA8D/HxHP0rIb6P+lp7FI8TQVAdGyVLkCADUAnFm811NsQQPsMPZ+ylBJA",
          "dtype": "f8"
         },
         "yaxis": "y"
        },
        {
         "hovertemplate": "Phase=ATTENTION_COMPUTATION<br>Threads=%{x}<br>Speedup=%{y}<extra></extra>",
         "legendgroup": "ATTENTION_COMPUTATION",
         "line": {
          "color": "#00cc96",
          "dash": "solid"
         },
         "marker": {
          "symbol": "circle"
         },
         "mode": "lines+markers",
         "name": "ATTENTION_COMPUTATION",
         "orientation": "v",
         "showlegend": true,
         "type": "scatter",
         "x": {
          "bdata": "AQIECAoM",
          "dtype": "i1"
         },
         "xaxis": "x",
         "y": {
          "bdata": "AAAAAAAA8D8cGd9WSSr7P5A73XfuoAdA28wVHb43EEAGAJmTiPQSQAdA/FoejBRA",
          "dtype": "f8"
         },
         "yaxis": "y"
        },
        {
         "hovertemplate": "Phase=MATMUL_OUTPUT_ATTENTION<br>Threads=%{x}<br>Speedup=%{y}<extra></extra>",
         "legendgroup": "MATMUL_OUTPUT_ATTENTION",
         "line": {
          "color": "#ab63fa",
          "dash": "solid"
         },
         "marker": {
          "symbol": "circle"
         },
         "mode": "lines+markers",
         "name": "MATMUL_OUTPUT_ATTENTION",
         "orientation": "v",
         "showlegend": true,
         "type": "scatter",
         "x": {
          "bdata": "AQIECAoM",
          "dtype": "i1"
         },
         "xaxis": "x",
         "y": {
          "bdata": "AAAAAAAA8D9xEgPzju/8P0geukVncgdAjIXBXWhcDUBrs7WGvGcRQFK0NOcFWRFA",
          "dtype": "f8"
         },
         "yaxis": "y"
        },
        {
         "hovertemplate": "Phase=MATMUL_FFN<br>Threads=%{x}<br>Speedup=%{y}<extra></extra>",
         "legendgroup": "MATMUL_FFN",
         "line": {
          "color": "#FFA15A",
          "dash": "solid"
         },
         "marker": {
          "symbol": "circle"
         },
         "mode": "lines+markers",
         "name": "MATMUL_FFN",
         "orientation": "v",
         "showlegend": true,
         "type": "scatter",
         "x": {
          "bdata": "AQIECAoM",
          "dtype": "i1"
         },
         "xaxis": "x",
         "y": {
          "bdata": "AAAAAAAA8D8ohASNv+r2P4xxgxoowv8/LMky5j8mBEDtFft3/Q8HQKKbQDdJFghA",
          "dtype": "f8"
         },
         "yaxis": "y"
        },
        {
         "hovertemplate": "Phase=SwiGLU<br>Threads=%{x}<br>Speedup=%{y}<extra></extra>",
         "legendgroup": "SwiGLU",
         "line": {
          "color": "#19d3f3",
          "dash": "solid"
         },
         "marker": {
          "symbol": "circle"
         },
         "mode": "lines+markers",
         "name": "SwiGLU",
         "orientation": "v",
         "showlegend": true,
         "type": "scatter",
         "x": {
          "bdata": "AQIECAoM",
          "dtype": "i1"
         },
         "xaxis": "x",
         "y": {
          "bdata": "AAAAAAAA8D9vo+3CSdn6PwXaaQkEXgdAMySrJtunEkBy7rqmV1EWQG37QpR8AxdA",
          "dtype": "f8"
         },
         "yaxis": "y"
        },
        {
         "hovertemplate": "Phase=MATMUL_OUTPUT_FFN<br>Threads=%{x}<br>Speedup=%{y}<extra></extra>",
         "legendgroup": "MATMUL_OUTPUT_FFN",
         "line": {
          "color": "#FF6692",
          "dash": "solid"
         },
         "marker": {
          "symbol": "circle"
         },
         "mode": "lines+markers",
         "name": "MATMUL_OUTPUT_FFN",
         "orientation": "v",
         "showlegend": true,
         "type": "scatter",
         "x": {
          "bdata": "AQIECAoM",
          "dtype": "i1"
         },
         "xaxis": "x",
         "y": {
          "bdata": "AAAAAAAA8D/R+LDUyWb1Pw+eHxF1yP0/p405CRmVAkBSHr54DzoFQAHiCXWoNAZA",
          "dtype": "f8"
         },
         "yaxis": "y"
        },
        {
         "hovertemplate": "Phase=MATMUL_LOGITS<br>Threads=%{x}<br>Speedup=%{y}<extra></extra>",
         "legendgroup": "MATMUL_LOGITS",
         "line": {
          "color": "#B6E880",
          "dash": "solid"
         },
         "marker": {
          "symbol": "circle"
         },
         "mode": "lines+markers",
         "name": "MATMUL_LOGITS",
         "orientation": "v",
         "showlegend": true,
         "type": "scatter",
         "x": {
          "bdata": "AQIECAoM",
          "dtype": "i1"
         },
         "xaxis": "x",
         "y": {
          "bdata": "AAAAAAAA8D8/FvmkF/X2P7stCDgKJfQ/ErjgqcHW+T80ZPBAE+cAQEoeFyjCmQBA",
          "dtype": "f8"
         },
         "yaxis": "y"
        },
        {
         "hovertemplate": "Phase=Ideql<br>Threads=%{x}<br>Speedup=%{y}<extra></extra>",
         "legendgroup": "Ideql",
         "line": {
          "color": "#FF97FF",
          "dash": "solid"
         },
         "marker": {
          "symbol": "circle"
         },
         "mode": "lines+markers",
         "name": "Ideql",
         "orientation": "v",
         "showlegend": true,
         "type": "scatter",
         "x": {
          "bdata": "AQIECAoM",
          "dtype": "i1"
         },
         "xaxis": "x",
         "y": {
          "bdata": "AAAAAAAA8D8AAAAAAAAAQAAAAAAAABBAAAAAAAAAIEAAAAAAAAAkQAAAAAAAAChA",
          "dtype": "f8"
         },
         "yaxis": "y"
        }
       ],
       "layout": {
        "legend": {
         "title": {
          "text": "Phase"
         },
         "tracegroupgap": 0
        },
        "template": {
         "data": {
          "bar": [
           {
            "error_x": {
             "color": "#2a3f5f"
            },
            "error_y": {
             "color": "#2a3f5f"
            },
            "marker": {
             "line": {
              "color": "#E5ECF6",
              "width": 0.5
             },
             "pattern": {
              "fillmode": "overlay",
              "size": 10,
              "solidity": 0.2
             }
            },
            "type": "bar"
           }
          ],
          "barpolar": [
           {
            "marker": {
             "line": {
              "color": "#E5ECF6",
              "width": 0.5
             },
             "pattern": {
              "fillmode": "overlay",
              "size": 10,
              "solidity": 0.2
             }
            },
            "type": "barpolar"
           }
          ],
          "carpet": [
           {
            "aaxis": {
             "endlinecolor": "#2a3f5f",
             "gridcolor": "white",
             "linecolor": "white",
             "minorgridcolor": "white",
             "startlinecolor": "#2a3f5f"
            },
            "baxis": {
             "endlinecolor": "#2a3f5f",
             "gridcolor": "white",
             "linecolor": "white",
             "minorgridcolor": "white",
             "startlinecolor": "#2a3f5f"
            },
            "type": "carpet"
           }
          ],
          "choropleth": [
           {
            "colorbar": {
             "outlinewidth": 0,
             "ticks": ""
            },
            "type": "choropleth"
           }
          ],
          "contour": [
           {
            "colorbar": {
             "outlinewidth": 0,
             "ticks": ""
            },
            "colorscale": [
             [
              0,
              "#0d0887"
             ],
             [
              0.1111111111111111,
              "#46039f"
             ],
             [
              0.2222222222222222,
              "#7201a8"
             ],
             [
              0.3333333333333333,
              "#9c179e"
             ],
             [
              0.4444444444444444,
              "#bd3786"
             ],
             [
              0.5555555555555556,
              "#d8576b"
             ],
             [
              0.6666666666666666,
              "#ed7953"
             ],
             [
              0.7777777777777778,
              "#fb9f3a"
             ],
             [
              0.8888888888888888,
              "#fdca26"
             ],
             [
              1,
              "#f0f921"
             ]
            ],
            "type": "contour"
           }
          ],
          "contourcarpet": [
           {
            "colorbar": {
             "outlinewidth": 0,
             "ticks": ""
            },
            "type": "contourcarpet"
           }
          ],
          "heatmap": [
           {
            "colorbar": {
             "outlinewidth": 0,
             "ticks": ""
            },
            "colorscale": [
             [
              0,
              "#0d0887"
             ],
             [
              0.1111111111111111,
              "#46039f"
             ],
             [
              0.2222222222222222,
              "#7201a8"
             ],
             [
              0.3333333333333333,
              "#9c179e"
             ],
             [
              0.4444444444444444,
              "#bd3786"
             ],
             [
              0.5555555555555556,
              "#d8576b"
             ],
             [
              0.6666666666666666,
              "#ed7953"
             ],
             [
              0.7777777777777778,
              "#fb9f3a"
             ],
             [
              0.8888888888888888,
              "#fdca26"
             ],
             [
              1,
              "#f0f921"
             ]
            ],
            "type": "heatmap"
           }
          ],
          "histogram": [
           {
            "marker": {
             "pattern": {
              "fillmode": "overlay",
              "size": 10,
              "solidity": 0.2
             }
            },
            "type": "histogram"
           }
          ],
          "histogram2d": [
           {
            "colorbar": {
             "outlinewidth": 0,
             "ticks": ""
            },
            "colorscale": [
             [
              0,
              "#0d0887"
             ],
             [
              0.1111111111111111,
              "#46039f"
             ],
             [
              0.2222222222222222,
              "#7201a8"
             ],
             [
              0.3333333333333333,
              "#9c179e"
             ],
             [
              0.4444444444444444,
              "#bd3786"
             ],
             [
              0.5555555555555556,
              "#d8576b"
             ],
             [
              0.6666666666666666,
              "#ed7953"
             ],
             [
              0.7777777777777778,
              "#fb9f3a"
             ],
             [
              0.8888888888888888,
              "#fdca26"
             ],
             [
              1,
              "#f0f921"
             ]
            ],
            "type": "histogram2d"
           }
          ],
          "histogram2dcontour": [
           {
            "colorbar": {
             "outlinewidth": 0,
             "ticks": ""
            },
            "colorscale": [
             [
              0,
              "#0d0887"
             ],
             [
              0.1111111111111111,
              "#46039f"
             ],
             [
              0.2222222222222222,
              "#7201a8"
             ],
             [
              0.3333333333333333,
              "#9c179e"
             ],
             [
              0.4444444444444444,
              "#bd3786"
             ],
             [
              0.5555555555555556,
              "#d8576b"
             ],
             [
              0.6666666666666666,
              "#ed7953"
             ],
             [
              0.7777777777777778,
              "#fb9f3a"
             ],
             [
              0.8888888888888888,
              "#fdca26"
             ],
             [
              1,
              "#f0f921"
             ]
            ],
            "type": "histogram2dcontour"
           }
          ],
          "mesh3d": [
           {
            "colorbar": {
             "outlinewidth": 0,
             "ticks": ""
            },
            "type": "mesh3d"
           }
          ],
          "parcoords": [
           {
            "line": {
             "colorbar": {
              "outlinewidth": 0,
              "ticks": ""
             }
            },
            "type": "parcoords"
           }
          ],
          "pie": [
           {
            "automargin": true,
            "type": "pie"
           }
          ],
          "scatter": [
           {
            "fillpattern": {
             "fillmode": "overlay",
             "size": 10,
             "solidity": 0.2
            },
            "type": "scatter"
           }
          ],
          "scatter3d": [
           {
            "line": {
             "colorbar": {
              "outlinewidth": 0,
              "ticks": ""
             }
            },
            "marker": {
             "colorbar": {
              "outlinewidth": 0,
              "ticks": ""
             }
            },
            "type": "scatter3d"
           }
          ],
          "scattercarpet": [
           {
            "marker": {
             "colorbar": {
              "outlinewidth": 0,
              "ticks": ""
             }
            },
            "type": "scattercarpet"
           }
          ],
          "scattergeo": [
           {
            "marker": {
             "colorbar": {
              "outlinewidth": 0,
              "ticks": ""
             }
            },
            "type": "scattergeo"
           }
          ],
          "scattergl": [
           {
            "marker": {
             "colorbar": {
              "outlinewidth": 0,
              "ticks": ""
             }
            },
            "type": "scattergl"
           }
          ],
          "scattermap": [
           {
            "marker": {
             "colorbar": {
              "outlinewidth": 0,
              "ticks": ""
             }
            },
            "type": "scattermap"
           }
          ],
          "scattermapbox": [
           {
            "marker": {
             "colorbar": {
              "outlinewidth": 0,
              "ticks": ""
             }
            },
            "type": "scattermapbox"
           }
          ],
          "scatterpolar": [
           {
            "marker": {
             "colorbar": {
              "outlinewidth": 0,
              "ticks": ""
             }
            },
            "type": "scatterpolar"
           }
          ],
          "scatterpolargl": [
           {
            "marker": {
             "colorbar": {
              "outlinewidth": 0,
              "ticks": ""
             }
            },
            "type": "scatterpolargl"
           }
          ],
          "scatterternary": [
           {
            "marker": {
             "colorbar": {
              "outlinewidth": 0,
              "ticks": ""
             }
            },
            "type": "scatterternary"
           }
          ],
          "surface": [
           {
            "colorbar": {
             "outlinewidth": 0,
             "ticks": ""
            },
            "colorscale": [
             [
              0,
              "#0d0887"
             ],
             [
              0.1111111111111111,
              "#46039f"
             ],
             [
              0.2222222222222222,
              "#7201a8"
             ],
             [
              0.3333333333333333,
              "#9c179e"
             ],
             [
              0.4444444444444444,
              "#bd3786"
             ],
             [
              0.5555555555555556,
              "#d8576b"
             ],
             [
              0.6666666666666666,
              "#ed7953"
             ],
             [
              0.7777777777777778,
              "#fb9f3a"
             ],
             [
              0.8888888888888888,
              "#fdca26"
             ],
             [
              1,
              "#f0f921"
             ]
            ],
            "type": "surface"
           }
          ],
          "table": [
           {
            "cells": {
             "fill": {
              "color": "#EBF0F8"
             },
             "line": {
              "color": "white"
             }
            },
            "header": {
             "fill": {
              "color": "#C8D4E3"
             },
             "line": {
              "color": "white"
             }
            },
            "type": "table"
           }
          ]
         },
         "layout": {
          "annotationdefaults": {
           "arrowcolor": "#2a3f5f",
           "arrowhead": 0,
           "arrowwidth": 1
          },
          "autotypenumbers": "strict",
          "coloraxis": {
           "colorbar": {
            "outlinewidth": 0,
            "ticks": ""
           }
          },
          "colorscale": {
           "diverging": [
            [
             0,
             "#8e0152"
            ],
            [
             0.1,
             "#c51b7d"
            ],
            [
             0.2,
             "#de77ae"
            ],
            [
             0.3,
             "#f1b6da"
            ],
            [
             0.4,
             "#fde0ef"
            ],
            [
             0.5,
             "#f7f7f7"
            ],
            [
             0.6,
             "#e6f5d0"
            ],
            [
             0.7,
             "#b8e186"
            ],
            [
             0.8,
             "#7fbc41"
            ],
            [
             0.9,
             "#4d9221"
            ],
            [
             1,
             "#276419"
            ]
           ],
           "sequential": [
            [
             0,
             "#0d0887"
            ],
            [
             0.1111111111111111,
             "#46039f"
            ],
            [
             0.2222222222222222,
             "#7201a8"
            ],
            [
             0.3333333333333333,
             "#9c179e"
            ],
            [
             0.4444444444444444,
             "#bd3786"
            ],
            [
             0.5555555555555556,
             "#d8576b"
            ],
            [
             0.6666666666666666,
             "#ed7953"
            ],
            [
             0.7777777777777778,
             "#fb9f3a"
            ],
            [
             0.8888888888888888,
             "#fdca26"
            ],
            [
             1,
             "#f0f921"
            ]
           ],
           "sequentialminus": [
            [
             0,
             "#0d0887"
            ],
            [
             0.1111111111111111,
             "#46039f"
            ],
            [
             0.2222222222222222,
             "#7201a8"
            ],
            [
             0.3333333333333333,
             "#9c179e"
            ],
            [
             0.4444444444444444,
             "#bd3786"
            ],
            [
             0.5555555555555556,
             "#d8576b"
            ],
            [
             0.6666666666666666,
             "#ed7953"
            ],
            [
             0.7777777777777778,
             "#fb9f3a"
            ],
            [
             0.8888888888888888,
             "#fdca26"
            ],
            [
             1,
             "#f0f921"
            ]
           ]
          },
          "colorway": [
           "#636efa",
           "#EF553B",
           "#00cc96",
           "#ab63fa",
           "#FFA15A",
           "#19d3f3",
           "#FF6692",
           "#B6E880",
           "#FF97FF",
           "#FECB52"
          ],
          "font": {
           "color": "#2a3f5f"
          },
          "geo": {
           "bgcolor": "white",
           "lakecolor": "white",
           "landcolor": "#E5ECF6",
           "showlakes": true,
           "showland": true,
           "subunitcolor": "white"
          },
          "hoverlabel": {
           "align": "left"
          },
          "hovermode": "closest",
          "mapbox": {
           "style": "light"
          },
          "paper_bgcolor": "white",
          "plot_bgcolor": "#E5ECF6",
          "polar": {
           "angularaxis": {
            "gridcolor": "white",
            "linecolor": "white",
            "ticks": ""
           },
           "bgcolor": "#E5ECF6",
           "radialaxis": {
            "gridcolor": "white",
            "linecolor": "white",
            "ticks": ""
           }
          },
          "scene": {
           "xaxis": {
            "backgroundcolor": "#E5ECF6",
            "gridcolor": "white",
            "gridwidth": 2,
            "linecolor": "white",
            "showbackground": true,
            "ticks": "",
            "zerolinecolor": "white"
           },
           "yaxis": {
            "backgroundcolor": "#E5ECF6",
            "gridcolor": "white",
            "gridwidth": 2,
            "linecolor": "white",
            "showbackground": true,
            "ticks": "",
            "zerolinecolor": "white"
           },
           "zaxis": {
            "backgroundcolor": "#E5ECF6",
            "gridcolor": "white",
            "gridwidth": 2,
            "linecolor": "white",
            "showbackground": true,
            "ticks": "",
            "zerolinecolor": "white"
           }
          },
          "shapedefaults": {
           "line": {
            "color": "#2a3f5f"
           }
          },
          "ternary": {
           "aaxis": {
            "gridcolor": "white",
            "linecolor": "white",
            "ticks": ""
           },
           "baxis": {
            "gridcolor": "white",
            "linecolor": "white",
            "ticks": ""
           },
           "bgcolor": "#E5ECF6",
           "caxis": {
            "gridcolor": "white",
            "linecolor": "white",
            "ticks": ""
           }
          },
          "title": {
           "x": 0.05
          },
          "xaxis": {
           "automargin": true,
           "gridcolor": "white",
           "linecolor": "white",
           "ticks": "",
           "title": {
            "standoff": 15
           },
           "zerolinecolor": "white",
           "zerolinewidth": 2
          },
          "yaxis": {
           "automargin": true,
           "gridcolor": "white",
           "linecolor": "white",
           "ticks": "",
           "title": {
            "standoff": 15
           },
           "zerolinecolor": "white",
           "zerolinewidth": 2
          }
         }
        },
        "title": {
         "text": "Speedup vs Threads — Prompt Length 239.0"
        },
        "xaxis": {
         "anchor": "y",
         "domain": [
          0,
          1
         ],
         "title": {
          "text": "Threads"
         }
        },
        "yaxis": {
         "anchor": "x",
         "domain": [
          0,
          1
         ],
         "title": {
          "text": "Speedup"
         }
        }
       }
      }
     },
     "metadata": {},
     "output_type": "display_data"
    },
    {
     "data": {
      "application/vnd.plotly.v1+json": {
       "config": {
        "plotlyServerURL": "https://plot.ly"
       },
       "data": [
        {
         "hovertemplate": "Phase=MATMUL_QKV<br>Threads=%{x}<br>Speedup=%{y}<extra></extra>",
         "legendgroup": "MATMUL_QKV",
         "line": {
          "color": "#636efa",
          "dash": "solid"
         },
         "marker": {
          "symbol": "circle"
         },
         "mode": "lines+markers",
         "name": "MATMUL_QKV",
         "orientation": "v",
         "showlegend": true,
         "type": "scatter",
         "x": {
          "bdata": "AQIECAoM",
          "dtype": "i1"
         },
         "xaxis": "x",
         "y": {
          "bdata": "AAAAAAAA8D9FOIUWfBf9P6R5GYbzNgZAqEOHA7viD0DdyMFw/n4RQKWtnccIkRFA",
          "dtype": "f8"
         },
         "yaxis": "y"
        },
        {
         "hovertemplate": "Phase=ROPE<br>Threads=%{x}<br>Speedup=%{y}<extra></extra>",
         "legendgroup": "ROPE",
         "line": {
          "color": "#EF553B",
          "dash": "solid"
         },
         "marker": {
          "symbol": "circle"
         },
         "mode": "lines+markers",
         "name": "ROPE",
         "orientation": "v",
         "showlegend": true,
         "type": "scatter",
         "x": {
          "bdata": "AQIECAoM",
          "dtype": "i1"
         },
         "xaxis": "x",
         "y": {
          "bdata": "AAAAAAAA8D8sOPaogX/3PzYeu7H2KwNAjprZJnt9CEDFQVJakK0PQElFf6+hzRFA",
          "dtype": "f8"
         },
         "yaxis": "y"
        },
        {
         "hovertemplate": "Phase=ATTENTION_COMPUTATION<br>Threads=%{x}<br>Speedup=%{y}<extra></extra>",
         "legendgroup": "ATTENTION_COMPUTATION",
         "line": {
          "color": "#00cc96",
          "dash": "solid"
         },
         "marker": {
          "symbol": "circle"
         },
         "mode": "lines+markers",
         "name": "ATTENTION_COMPUTATION",
         "orientation": "v",
         "showlegend": true,
         "type": "scatter",
         "x": {
          "bdata": "AQIECAoM",
          "dtype": "i1"
         },
         "xaxis": "x",
         "y": {
          "bdata": "AAAAAAAA8D+gCICAVbf8P2+6p6aXBApASn9UZdMgEkAfErnLec0TQBYxUUJu5xVA",
          "dtype": "f8"
         },
         "yaxis": "y"
        },
        {
         "hovertemplate": "Phase=MATMUL_OUTPUT_ATTENTION<br>Threads=%{x}<br>Speedup=%{y}<extra></extra>",
         "legendgroup": "MATMUL_OUTPUT_ATTENTION",
         "line": {
          "color": "#ab63fa",
          "dash": "solid"
         },
         "marker": {
          "symbol": "circle"
         },
         "mode": "lines+markers",
         "name": "MATMUL_OUTPUT_ATTENTION",
         "orientation": "v",
         "showlegend": true,
         "type": "scatter",
         "x": {
          "bdata": "AQIECAoM",
          "dtype": "i1"
         },
         "xaxis": "x",
         "y": {
          "bdata": "AAAAAAAA8D+HuDJnkfX8Pzu/4M2hlwhAozZtvUPXEEAAsfBW6zMRQOlFhcO1QRFA",
          "dtype": "f8"
         },
         "yaxis": "y"
        },
        {
         "hovertemplate": "Phase=MATMUL_FFN<br>Threads=%{x}<br>Speedup=%{y}<extra></extra>",
         "legendgroup": "MATMUL_FFN",
         "line": {
          "color": "#FFA15A",
          "dash": "solid"
         },
         "marker": {
          "symbol": "circle"
         },
         "mode": "lines+markers",
         "name": "MATMUL_FFN",
         "orientation": "v",
         "showlegend": true,
         "type": "scatter",
         "x": {
          "bdata": "AQIECAoM",
          "dtype": "i1"
         },
         "xaxis": "x",
         "y": {
          "bdata": "AAAAAAAA8D+bjkCcLR/4P/tJKEfumQFAZOJPRLAjCEAuLos3eiwJQHo8poS7UQpA",
          "dtype": "f8"
         },
         "yaxis": "y"
        },
        {
         "hovertemplate": "Phase=SwiGLU<br>Threads=%{x}<br>Speedup=%{y}<extra></extra>",
         "legendgroup": "SwiGLU",
         "line": {
          "color": "#19d3f3",
          "dash": "solid"
         },
         "marker": {
          "symbol": "circle"
         },
         "mode": "lines+markers",
         "name": "SwiGLU",
         "orientation": "v",
         "showlegend": true,
         "type": "scatter",
         "x": {
          "bdata": "AQIECAoM",
          "dtype": "i1"
         },
         "xaxis": "x",
         "y": {
          "bdata": "AAAAAAAA8D/eQNIpTPn7Pxvt5mBpbQtAfpe/TqZYFUDjOZ0Qi1oXQFzWPt8h1BhA",
          "dtype": "f8"
         },
         "yaxis": "y"
        },
        {
         "hovertemplate": "Phase=MATMUL_OUTPUT_FFN<br>Threads=%{x}<br>Speedup=%{y}<extra></extra>",
         "legendgroup": "MATMUL_OUTPUT_FFN",
         "line": {
          "color": "#FF6692",
          "dash": "solid"
         },
         "marker": {
          "symbol": "circle"
         },
         "mode": "lines+markers",
         "name": "MATMUL_OUTPUT_FFN",
         "orientation": "v",
         "showlegend": true,
         "type": "scatter",
         "x": {
          "bdata": "AQIECAoM",
          "dtype": "i1"
         },
         "xaxis": "x",
         "y": {
          "bdata": "AAAAAAAA8D+py0YcZ+P2P1sb6dM+agFAURcEpXCQB0AyiujXX+EHQGNV8EqngQlA",
          "dtype": "f8"
         },
         "yaxis": "y"
        },
        {
         "hovertemplate": "Phase=MATMUL_LOGITS<br>Threads=%{x}<br>Speedup=%{y}<extra></extra>",
         "legendgroup": "MATMUL_LOGITS",
         "line": {
          "color": "#B6E880",
          "dash": "solid"
         },
         "marker": {
          "symbol": "circle"
         },
         "mode": "lines+markers",
         "name": "MATMUL_LOGITS",
         "orientation": "v",
         "showlegend": true,
         "type": "scatter",
         "x": {
          "bdata": "AQIECAoM",
          "dtype": "i1"
         },
         "xaxis": "x",
         "y": {
          "bdata": "AAAAAAAA8D/XPGuI31X4P69zZCE7gfk/iESUz2tN/j/Pk6OwXz4AQHe2RQ6s3QFA",
          "dtype": "f8"
         },
         "yaxis": "y"
        },
        {
         "hovertemplate": "Phase=Ideql<br>Threads=%{x}<br>Speedup=%{y}<extra></extra>",
         "legendgroup": "Ideql",
         "line": {
          "color": "#FF97FF",
          "dash": "solid"
         },
         "marker": {
          "symbol": "circle"
         },
         "mode": "lines+markers",
         "name": "Ideql",
         "orientation": "v",
         "showlegend": true,
         "type": "scatter",
         "x": {
          "bdata": "AQIECAoM",
          "dtype": "i1"
         },
         "xaxis": "x",
         "y": {
          "bdata": "AAAAAAAA8D8AAAAAAAAAQAAAAAAAABBAAAAAAAAAIEAAAAAAAAAkQAAAAAAAAChA",
          "dtype": "f8"
         },
         "yaxis": "y"
        }
       ],
       "layout": {
        "legend": {
         "title": {
          "text": "Phase"
         },
         "tracegroupgap": 0
        },
        "template": {
         "data": {
          "bar": [
           {
            "error_x": {
             "color": "#2a3f5f"
            },
            "error_y": {
             "color": "#2a3f5f"
            },
            "marker": {
             "line": {
              "color": "#E5ECF6",
              "width": 0.5
             },
             "pattern": {
              "fillmode": "overlay",
              "size": 10,
              "solidity": 0.2
             }
            },
            "type": "bar"
           }
          ],
          "barpolar": [
           {
            "marker": {
             "line": {
              "color": "#E5ECF6",
              "width": 0.5
             },
             "pattern": {
              "fillmode": "overlay",
              "size": 10,
              "solidity": 0.2
             }
            },
            "type": "barpolar"
           }
          ],
          "carpet": [
           {
            "aaxis": {
             "endlinecolor": "#2a3f5f",
             "gridcolor": "white",
             "linecolor": "white",
             "minorgridcolor": "white",
             "startlinecolor": "#2a3f5f"
            },
            "baxis": {
             "endlinecolor": "#2a3f5f",
             "gridcolor": "white",
             "linecolor": "white",
             "minorgridcolor": "white",
             "startlinecolor": "#2a3f5f"
            },
            "type": "carpet"
           }
          ],
          "choropleth": [
           {
            "colorbar": {
             "outlinewidth": 0,
             "ticks": ""
            },
            "type": "choropleth"
           }
          ],
          "contour": [
           {
            "colorbar": {
             "outlinewidth": 0,
             "ticks": ""
            },
            "colorscale": [
             [
              0,
              "#0d0887"
             ],
             [
              0.1111111111111111,
              "#46039f"
             ],
             [
              0.2222222222222222,
              "#7201a8"
             ],
             [
              0.3333333333333333,
              "#9c179e"
             ],
             [
              0.4444444444444444,
              "#bd3786"
             ],
             [
              0.5555555555555556,
              "#d8576b"
             ],
             [
              0.6666666666666666,
              "#ed7953"
             ],
             [
              0.7777777777777778,
              "#fb9f3a"
             ],
             [
              0.8888888888888888,
              "#fdca26"
             ],
             [
              1,
              "#f0f921"
             ]
            ],
            "type": "contour"
           }
          ],
          "contourcarpet": [
           {
            "colorbar": {
             "outlinewidth": 0,
             "ticks": ""
            },
            "type": "contourcarpet"
           }
          ],
          "heatmap": [
           {
            "colorbar": {
             "outlinewidth": 0,
             "ticks": ""
            },
            "colorscale": [
             [
              0,
              "#0d0887"
             ],
             [
              0.1111111111111111,
              "#46039f"
             ],
             [
              0.2222222222222222,
              "#7201a8"
             ],
             [
              0.3333333333333333,
              "#9c179e"
             ],
             [
              0.4444444444444444,
              "#bd3786"
             ],
             [
              0.5555555555555556,
              "#d8576b"
             ],
             [
              0.6666666666666666,
              "#ed7953"
             ],
             [
              0.7777777777777778,
              "#fb9f3a"
             ],
             [
              0.8888888888888888,
              "#fdca26"
             ],
             [
              1,
              "#f0f921"
             ]
            ],
            "type": "heatmap"
           }
          ],
          "histogram": [
           {
            "marker": {
             "pattern": {
              "fillmode": "overlay",
              "size": 10,
              "solidity": 0.2
             }
            },
            "type": "histogram"
           }
          ],
          "histogram2d": [
           {
            "colorbar": {
             "outlinewidth": 0,
             "ticks": ""
            },
            "colorscale": [
             [
              0,
              "#0d0887"
             ],
             [
              0.1111111111111111,
              "#46039f"
             ],
             [
              0.2222222222222222,
              "#7201a8"
             ],
             [
              0.3333333333333333,
              "#9c179e"
             ],
             [
              0.4444444444444444,
              "#bd3786"
             ],
             [
              0.5555555555555556,
              "#d8576b"
             ],
             [
              0.6666666666666666,
              "#ed7953"
             ],
             [
              0.7777777777777778,
              "#fb9f3a"
             ],
             [
              0.8888888888888888,
              "#fdca26"
             ],
             [
              1,
              "#f0f921"
             ]
            ],
            "type": "histogram2d"
           }
          ],
          "histogram2dcontour": [
           {
            "colorbar": {
             "outlinewidth": 0,
             "ticks": ""
            },
            "colorscale": [
             [
              0,
              "#0d0887"
             ],
             [
              0.1111111111111111,
              "#46039f"
             ],
             [
              0.2222222222222222,
              "#7201a8"
             ],
             [
              0.3333333333333333,
              "#9c179e"
             ],
             [
              0.4444444444444444,
              "#bd3786"
             ],
             [
              0.5555555555555556,
              "#d8576b"
             ],
             [
              0.6666666666666666,
              "#ed7953"
             ],
             [
              0.7777777777777778,
              "#fb9f3a"
             ],
             [
              0.8888888888888888,
              "#fdca26"
             ],
             [
              1,
              "#f0f921"
             ]
            ],
            "type": "histogram2dcontour"
           }
          ],
          "mesh3d": [
           {
            "colorbar": {
             "outlinewidth": 0,
             "ticks": ""
            },
            "type": "mesh3d"
           }
          ],
          "parcoords": [
           {
            "line": {
             "colorbar": {
              "outlinewidth": 0,
              "ticks": ""
             }
            },
            "type": "parcoords"
           }
          ],
          "pie": [
           {
            "automargin": true,
            "type": "pie"
           }
          ],
          "scatter": [
           {
            "fillpattern": {
             "fillmode": "overlay",
             "size": 10,
             "solidity": 0.2
            },
            "type": "scatter"
           }
          ],
          "scatter3d": [
           {
            "line": {
             "colorbar": {
              "outlinewidth": 0,
              "ticks": ""
             }
            },
            "marker": {
             "colorbar": {
              "outlinewidth": 0,
              "ticks": ""
             }
            },
            "type": "scatter3d"
           }
          ],
          "scattercarpet": [
           {
            "marker": {
             "colorbar": {
              "outlinewidth": 0,
              "ticks": ""
             }
            },
            "type": "scattercarpet"
           }
          ],
          "scattergeo": [
           {
            "marker": {
             "colorbar": {
              "outlinewidth": 0,
              "ticks": ""
             }
            },
            "type": "scattergeo"
           }
          ],
          "scattergl": [
           {
            "marker": {
             "colorbar": {
              "outlinewidth": 0,
              "ticks": ""
             }
            },
            "type": "scattergl"
           }
          ],
          "scattermap": [
           {
            "marker": {
             "colorbar": {
              "outlinewidth": 0,
              "ticks": ""
             }
            },
            "type": "scattermap"
           }
          ],
          "scattermapbox": [
           {
            "marker": {
             "colorbar": {
              "outlinewidth": 0,
              "ticks": ""
             }
            },
            "type": "scattermapbox"
           }
          ],
          "scatterpolar": [
           {
            "marker": {
             "colorbar": {
              "outlinewidth": 0,
              "ticks": ""
             }
            },
            "type": "scatterpolar"
           }
          ],
          "scatterpolargl": [
           {
            "marker": {
             "colorbar": {
              "outlinewidth": 0,
              "ticks": ""
             }
            },
            "type": "scatterpolargl"
           }
          ],
          "scatterternary": [
           {
            "marker": {
             "colorbar": {
              "outlinewidth": 0,
              "ticks": ""
             }
            },
            "type": "scatterternary"
           }
          ],
          "surface": [
           {
            "colorbar": {
             "outlinewidth": 0,
             "ticks": ""
            },
            "colorscale": [
             [
              0,
              "#0d0887"
             ],
             [
              0.1111111111111111,
              "#46039f"
             ],
             [
              0.2222222222222222,
              "#7201a8"
             ],
             [
              0.3333333333333333,
              "#9c179e"
             ],
             [
              0.4444444444444444,
              "#bd3786"
             ],
             [
              0.5555555555555556,
              "#d8576b"
             ],
             [
              0.6666666666666666,
              "#ed7953"
             ],
             [
              0.7777777777777778,
              "#fb9f3a"
             ],
             [
              0.8888888888888888,
              "#fdca26"
             ],
             [
              1,
              "#f0f921"
             ]
            ],
            "type": "surface"
           }
          ],
          "table": [
           {
            "cells": {
             "fill": {
              "color": "#EBF0F8"
             },
             "line": {
              "color": "white"
             }
            },
            "header": {
             "fill": {
              "color": "#C8D4E3"
             },
             "line": {
              "color": "white"
             }
            },
            "type": "table"
           }
          ]
         },
         "layout": {
          "annotationdefaults": {
           "arrowcolor": "#2a3f5f",
           "arrowhead": 0,
           "arrowwidth": 1
          },
          "autotypenumbers": "strict",
          "coloraxis": {
           "colorbar": {
            "outlinewidth": 0,
            "ticks": ""
           }
          },
          "colorscale": {
           "diverging": [
            [
             0,
             "#8e0152"
            ],
            [
             0.1,
             "#c51b7d"
            ],
            [
             0.2,
             "#de77ae"
            ],
            [
             0.3,
             "#f1b6da"
            ],
            [
             0.4,
             "#fde0ef"
            ],
            [
             0.5,
             "#f7f7f7"
            ],
            [
             0.6,
             "#e6f5d0"
            ],
            [
             0.7,
             "#b8e186"
            ],
            [
             0.8,
             "#7fbc41"
            ],
            [
             0.9,
             "#4d9221"
            ],
            [
             1,
             "#276419"
            ]
           ],
           "sequential": [
            [
             0,
             "#0d0887"
            ],
            [
             0.1111111111111111,
             "#46039f"
            ],
            [
             0.2222222222222222,
             "#7201a8"
            ],
            [
             0.3333333333333333,
             "#9c179e"
            ],
            [
             0.4444444444444444,
             "#bd3786"
            ],
            [
             0.5555555555555556,
             "#d8576b"
            ],
            [
             0.6666666666666666,
             "#ed7953"
            ],
            [
             0.7777777777777778,
             "#fb9f3a"
            ],
            [
             0.8888888888888888,
             "#fdca26"
            ],
            [
             1,
             "#f0f921"
            ]
           ],
           "sequentialminus": [
            [
             0,
             "#0d0887"
            ],
            [
             0.1111111111111111,
             "#46039f"
            ],
            [
             0.2222222222222222,
             "#7201a8"
            ],
            [
             0.3333333333333333,
             "#9c179e"
            ],
            [
             0.4444444444444444,
             "#bd3786"
            ],
            [
             0.5555555555555556,
             "#d8576b"
            ],
            [
             0.6666666666666666,
             "#ed7953"
            ],
            [
             0.7777777777777778,
             "#fb9f3a"
            ],
            [
             0.8888888888888888,
             "#fdca26"
            ],
            [
             1,
             "#f0f921"
            ]
           ]
          },
          "colorway": [
           "#636efa",
           "#EF553B",
           "#00cc96",
           "#ab63fa",
           "#FFA15A",
           "#19d3f3",
           "#FF6692",
           "#B6E880",
           "#FF97FF",
           "#FECB52"
          ],
          "font": {
           "color": "#2a3f5f"
          },
          "geo": {
           "bgcolor": "white",
           "lakecolor": "white",
           "landcolor": "#E5ECF6",
           "showlakes": true,
           "showland": true,
           "subunitcolor": "white"
          },
          "hoverlabel": {
           "align": "left"
          },
          "hovermode": "closest",
          "mapbox": {
           "style": "light"
          },
          "paper_bgcolor": "white",
          "plot_bgcolor": "#E5ECF6",
          "polar": {
           "angularaxis": {
            "gridcolor": "white",
            "linecolor": "white",
            "ticks": ""
           },
           "bgcolor": "#E5ECF6",
           "radialaxis": {
            "gridcolor": "white",
            "linecolor": "white",
            "ticks": ""
           }
          },
          "scene": {
           "xaxis": {
            "backgroundcolor": "#E5ECF6",
            "gridcolor": "white",
            "gridwidth": 2,
            "linecolor": "white",
            "showbackground": true,
            "ticks": "",
            "zerolinecolor": "white"
           },
           "yaxis": {
            "backgroundcolor": "#E5ECF6",
            "gridcolor": "white",
            "gridwidth": 2,
            "linecolor": "white",
            "showbackground": true,
            "ticks": "",
            "zerolinecolor": "white"
           },
           "zaxis": {
            "backgroundcolor": "#E5ECF6",
            "gridcolor": "white",
            "gridwidth": 2,
            "linecolor": "white",
            "showbackground": true,
            "ticks": "",
            "zerolinecolor": "white"
           }
          },
          "shapedefaults": {
           "line": {
            "color": "#2a3f5f"
           }
          },
          "ternary": {
           "aaxis": {
            "gridcolor": "white",
            "linecolor": "white",
            "ticks": ""
           },
           "baxis": {
            "gridcolor": "white",
            "linecolor": "white",
            "ticks": ""
           },
           "bgcolor": "#E5ECF6",
           "caxis": {
            "gridcolor": "white",
            "linecolor": "white",
            "ticks": ""
           }
          },
          "title": {
           "x": 0.05
          },
          "xaxis": {
           "automargin": true,
           "gridcolor": "white",
           "linecolor": "white",
           "ticks": "",
           "title": {
            "standoff": 15
           },
           "zerolinecolor": "white",
           "zerolinewidth": 2
          },
          "yaxis": {
           "automargin": true,
           "gridcolor": "white",
           "linecolor": "white",
           "ticks": "",
           "title": {
            "standoff": 15
           },
           "zerolinecolor": "white",
           "zerolinewidth": 2
          }
         }
        },
        "title": {
         "text": "Speedup vs Threads — Prompt Length 469.0"
        },
        "xaxis": {
         "anchor": "y",
         "domain": [
          0,
          1
         ],
         "title": {
          "text": "Threads"
         }
        },
        "yaxis": {
         "anchor": "x",
         "domain": [
          0,
          1
         ],
         "title": {
          "text": "Speedup"
         }
        }
       }
      }
     },
     "metadata": {},
     "output_type": "display_data"
    },
    {
     "data": {
      "application/vnd.plotly.v1+json": {
       "config": {
        "plotlyServerURL": "https://plot.ly"
       },
       "data": [
        {
         "hovertemplate": "Phase=MATMUL_QKV<br>Threads=%{x}<br>Speedup=%{y}<extra></extra>",
         "legendgroup": "MATMUL_QKV",
         "line": {
          "color": "#636efa",
          "dash": "solid"
         },
         "marker": {
          "symbol": "circle"
         },
         "mode": "lines+markers",
         "name": "MATMUL_QKV",
         "orientation": "v",
         "showlegend": true,
         "type": "scatter",
         "x": {
          "bdata": "AQIECAoM",
          "dtype": "i1"
         },
         "xaxis": "x",
         "y": {
          "bdata": "AAAAAAAA8D8jz76CuI/7P3zv83AuJgRAlrNYMgYpD0D/K2MRd1APQK/8Cpds5g5A",
          "dtype": "f8"
         },
         "yaxis": "y"
        },
        {
         "hovertemplate": "Phase=ROPE<br>Threads=%{x}<br>Speedup=%{y}<extra></extra>",
         "legendgroup": "ROPE",
         "line": {
          "color": "#EF553B",
          "dash": "solid"
         },
         "marker": {
          "symbol": "circle"
         },
         "mode": "lines+markers",
         "name": "ROPE",
         "orientation": "v",
         "showlegend": true,
         "type": "scatter",
         "x": {
          "bdata": "AQIECAoM",
          "dtype": "i1"
         },
         "xaxis": "x",
         "y": {
          "bdata": "AAAAAAAA8D+Swr4gC4n5P7b4Voni7wRARSQJXOKcCECKICiP7z4NQBctJtcHTg9A",
          "dtype": "f8"
         },
         "yaxis": "y"
        },
        {
         "hovertemplate": "Phase=ATTENTION_COMPUTATION<br>Threads=%{x}<br>Speedup=%{y}<extra></extra>",
         "legendgroup": "ATTENTION_COMPUTATION",
         "line": {
          "color": "#00cc96",
          "dash": "solid"
         },
         "marker": {
          "symbol": "circle"
         },
         "mode": "lines+markers",
         "name": "ATTENTION_COMPUTATION",
         "orientation": "v",
         "showlegend": true,
         "type": "scatter",
         "x": {
          "bdata": "AQIECAoM",
          "dtype": "i1"
         },
         "xaxis": "x",
         "y": {
          "bdata": "AAAAAAAA8D+/wESSLXf7P8LGZnG6cQdAARd5ivJbEUB7JLWW4T8SQBpd0m9SqBNA",
          "dtype": "f8"
         },
         "yaxis": "y"
        },
        {
         "hovertemplate": "Phase=MATMUL_OUTPUT_ATTENTION<br>Threads=%{x}<br>Speedup=%{y}<extra></extra>",
         "legendgroup": "MATMUL_OUTPUT_ATTENTION",
         "line": {
          "color": "#ab63fa",
          "dash": "solid"
         },
         "marker": {
          "symbol": "circle"
         },
         "mode": "lines+markers",
         "name": "MATMUL_OUTPUT_ATTENTION",
         "orientation": "v",
         "showlegend": true,
         "type": "scatter",
         "x": {
          "bdata": "AQIECAoM",
          "dtype": "i1"
         },
         "xaxis": "x",
         "y": {
          "bdata": "AAAAAAAA8D+fu0ugz338P1JjglKLngVAJQhI8AYgEECmRaemYqwOQAf8m3BdqA5A",
          "dtype": "f8"
         },
         "yaxis": "y"
        },
        {
         "hovertemplate": "Phase=MATMUL_FFN<br>Threads=%{x}<br>Speedup=%{y}<extra></extra>",
         "legendgroup": "MATMUL_FFN",
         "line": {
          "color": "#FFA15A",
          "dash": "solid"
         },
         "marker": {
          "symbol": "circle"
         },
         "mode": "lines+markers",
         "name": "MATMUL_FFN",
         "orientation": "v",
         "showlegend": true,
         "type": "scatter",
         "x": {
          "bdata": "AQIECAoM",
          "dtype": "i1"
         },
         "xaxis": "x",
         "y": {
          "bdata": "AAAAAAAA8D/DuqFgLBr3P8x6B0KwA/8/gSN/j+eWBkDEljIlmsUFQM1vlGldVQdA",
          "dtype": "f8"
         },
         "yaxis": "y"
        },
        {
         "hovertemplate": "Phase=SwiGLU<br>Threads=%{x}<br>Speedup=%{y}<extra></extra>",
         "legendgroup": "SwiGLU",
         "line": {
          "color": "#19d3f3",
          "dash": "solid"
         },
         "marker": {
          "symbol": "circle"
         },
         "mode": "lines+markers",
         "name": "SwiGLU",
         "orientation": "v",
         "showlegend": true,
         "type": "scatter",
         "x": {
          "bdata": "AQIECAoM",
          "dtype": "i1"
         },
         "xaxis": "x",
         "y": {
          "bdata": "AAAAAAAA8D++WgRqA237P+h+VdAtaQdAQB2FrsfaE0DkQut5qXkSQAoHY/TlvBRA",
          "dtype": "f8"
         },
         "yaxis": "y"
        },
        {
         "hovertemplate": "Phase=MATMUL_OUTPUT_FFN<br>Threads=%{x}<br>Speedup=%{y}<extra></extra>",
         "legendgroup": "MATMUL_OUTPUT_FFN",
         "line": {
          "color": "#FF6692",
          "dash": "solid"
         },
         "marker": {
          "symbol": "circle"
         },
         "mode": "lines+markers",
         "name": "MATMUL_OUTPUT_FFN",
         "orientation": "v",
         "showlegend": true,
         "type": "scatter",
         "x": {
          "bdata": "AQIECAoM",
          "dtype": "i1"
         },
         "xaxis": "x",
         "y": {
          "bdata": "AAAAAAAA8D+EKeg144z1PzxOqIY5Bv0/OhJx9tKhBUAuAQqWLAUEQJ1SwMNe/gRA",
          "dtype": "f8"
         },
         "yaxis": "y"
        },
        {
         "hovertemplate": "Phase=MATMUL_LOGITS<br>Threads=%{x}<br>Speedup=%{y}<extra></extra>",
         "legendgroup": "MATMUL_LOGITS",
         "line": {
          "color": "#B6E880",
          "dash": "solid"
         },
         "marker": {
          "symbol": "circle"
         },
         "mode": "lines+markers",
         "name": "MATMUL_LOGITS",
         "orientation": "v",
         "showlegend": true,
         "type": "scatter",
         "x": {
          "bdata": "AQIECAoM",
          "dtype": "i1"
         },
         "xaxis": "x",
         "y": {
          "bdata": "AAAAAAAA8D/D0n6ZV+uUP1mkDDzdmo8/dloheCuvhD/Wm4oTFIeMP6db3A2XGoI/",
          "dtype": "f8"
         },
         "yaxis": "y"
        },
        {
         "hovertemplate": "Phase=Ideql<br>Threads=%{x}<br>Speedup=%{y}<extra></extra>",
         "legendgroup": "Ideql",
         "line": {
          "color": "#FF97FF",
          "dash": "solid"
         },
         "marker": {
          "symbol": "circle"
         },
         "mode": "lines+markers",
         "name": "Ideql",
         "orientation": "v",
         "showlegend": true,
         "type": "scatter",
         "x": {
          "bdata": "AQIECAoM",
          "dtype": "i1"
         },
         "xaxis": "x",
         "y": {
          "bdata": "AAAAAAAA8D8AAAAAAAAAQAAAAAAAABBAAAAAAAAAIEAAAAAAAAAkQAAAAAAAAChA",
          "dtype": "f8"
         },
         "yaxis": "y"
        }
       ],
       "layout": {
        "legend": {
         "title": {
          "text": "Phase"
         },
         "tracegroupgap": 0
        },
        "template": {
         "data": {
          "bar": [
           {
            "error_x": {
             "color": "#2a3f5f"
            },
            "error_y": {
             "color": "#2a3f5f"
            },
            "marker": {
             "line": {
              "color": "#E5ECF6",
              "width": 0.5
             },
             "pattern": {
              "fillmode": "overlay",
              "size": 10,
              "solidity": 0.2
             }
            },
            "type": "bar"
           }
          ],
          "barpolar": [
           {
            "marker": {
             "line": {
              "color": "#E5ECF6",
              "width": 0.5
             },
             "pattern": {
              "fillmode": "overlay",
              "size": 10,
              "solidity": 0.2
             }
            },
            "type": "barpolar"
           }
          ],
          "carpet": [
           {
            "aaxis": {
             "endlinecolor": "#2a3f5f",
             "gridcolor": "white",
             "linecolor": "white",
             "minorgridcolor": "white",
             "startlinecolor": "#2a3f5f"
            },
            "baxis": {
             "endlinecolor": "#2a3f5f",
             "gridcolor": "white",
             "linecolor": "white",
             "minorgridcolor": "white",
             "startlinecolor": "#2a3f5f"
            },
            "type": "carpet"
           }
          ],
          "choropleth": [
           {
            "colorbar": {
             "outlinewidth": 0,
             "ticks": ""
            },
            "type": "choropleth"
           }
          ],
          "contour": [
           {
            "colorbar": {
             "outlinewidth": 0,
             "ticks": ""
            },
            "colorscale": [
             [
              0,
              "#0d0887"
             ],
             [
              0.1111111111111111,
              "#46039f"
             ],
             [
              0.2222222222222222,
              "#7201a8"
             ],
             [
              0.3333333333333333,
              "#9c179e"
             ],
             [
              0.4444444444444444,
              "#bd3786"
             ],
             [
              0.5555555555555556,
              "#d8576b"
             ],
             [
              0.6666666666666666,
              "#ed7953"
             ],
             [
              0.7777777777777778,
              "#fb9f3a"
             ],
             [
              0.8888888888888888,
              "#fdca26"
             ],
             [
              1,
              "#f0f921"
             ]
            ],
            "type": "contour"
           }
          ],
          "contourcarpet": [
           {
            "colorbar": {
             "outlinewidth": 0,
             "ticks": ""
            },
            "type": "contourcarpet"
           }
          ],
          "heatmap": [
           {
            "colorbar": {
             "outlinewidth": 0,
             "ticks": ""
            },
            "colorscale": [
             [
              0,
              "#0d0887"
             ],
             [
              0.1111111111111111,
              "#46039f"
             ],
             [
              0.2222222222222222,
              "#7201a8"
             ],
             [
              0.3333333333333333,
              "#9c179e"
             ],
             [
              0.4444444444444444,
              "#bd3786"
             ],
             [
              0.5555555555555556,
              "#d8576b"
             ],
             [
              0.6666666666666666,
              "#ed7953"
             ],
             [
              0.7777777777777778,
              "#fb9f3a"
             ],
             [
              0.8888888888888888,
              "#fdca26"
             ],
             [
              1,
              "#f0f921"
             ]
            ],
            "type": "heatmap"
           }
          ],
          "histogram": [
           {
            "marker": {
             "pattern": {
              "fillmode": "overlay",
              "size": 10,
              "solidity": 0.2
             }
            },
            "type": "histogram"
           }
          ],
          "histogram2d": [
           {
            "colorbar": {
             "outlinewidth": 0,
             "ticks": ""
            },
            "colorscale": [
             [
              0,
              "#0d0887"
             ],
             [
              0.1111111111111111,
              "#46039f"
             ],
             [
              0.2222222222222222,
              "#7201a8"
             ],
             [
              0.3333333333333333,
              "#9c179e"
             ],
             [
              0.4444444444444444,
              "#bd3786"
             ],
             [
              0.5555555555555556,
              "#d8576b"
             ],
             [
              0.6666666666666666,
              "#ed7953"
             ],
             [
              0.7777777777777778,
              "#fb9f3a"
             ],
             [
              0.8888888888888888,
              "#fdca26"
             ],
             [
              1,
              "#f0f921"
             ]
            ],
            "type": "histogram2d"
           }
          ],
          "histogram2dcontour": [
           {
            "colorbar": {
             "outlinewidth": 0,
             "ticks": ""
            },
            "colorscale": [
             [
              0,
              "#0d0887"
             ],
             [
              0.1111111111111111,
              "#46039f"
             ],
             [
              0.2222222222222222,
              "#7201a8"
             ],
             [
              0.3333333333333333,
              "#9c179e"
             ],
             [
              0.4444444444444444,
              "#bd3786"
             ],
             [
              0.5555555555555556,
              "#d8576b"
             ],
             [
              0.6666666666666666,
              "#ed7953"
             ],
             [
              0.7777777777777778,
              "#fb9f3a"
             ],
             [
              0.8888888888888888,
              "#fdca26"
             ],
             [
              1,
              "#f0f921"
             ]
            ],
            "type": "histogram2dcontour"
           }
          ],
          "mesh3d": [
           {
            "colorbar": {
             "outlinewidth": 0,
             "ticks": ""
            },
            "type": "mesh3d"
           }
          ],
          "parcoords": [
           {
            "line": {
             "colorbar": {
              "outlinewidth": 0,
              "ticks": ""
             }
            },
            "type": "parcoords"
           }
          ],
          "pie": [
           {
            "automargin": true,
            "type": "pie"
           }
          ],
          "scatter": [
           {
            "fillpattern": {
             "fillmode": "overlay",
             "size": 10,
             "solidity": 0.2
            },
            "type": "scatter"
           }
          ],
          "scatter3d": [
           {
            "line": {
             "colorbar": {
              "outlinewidth": 0,
              "ticks": ""
             }
            },
            "marker": {
             "colorbar": {
              "outlinewidth": 0,
              "ticks": ""
             }
            },
            "type": "scatter3d"
           }
          ],
          "scattercarpet": [
           {
            "marker": {
             "colorbar": {
              "outlinewidth": 0,
              "ticks": ""
             }
            },
            "type": "scattercarpet"
           }
          ],
          "scattergeo": [
           {
            "marker": {
             "colorbar": {
              "outlinewidth": 0,
              "ticks": ""
             }
            },
            "type": "scattergeo"
           }
          ],
          "scattergl": [
           {
            "marker": {
             "colorbar": {
              "outlinewidth": 0,
              "ticks": ""
             }
            },
            "type": "scattergl"
           }
          ],
          "scattermap": [
           {
            "marker": {
             "colorbar": {
              "outlinewidth": 0,
              "ticks": ""
             }
            },
            "type": "scattermap"
           }
          ],
          "scattermapbox": [
           {
            "marker": {
             "colorbar": {
              "outlinewidth": 0,
              "ticks": ""
             }
            },
            "type": "scattermapbox"
           }
          ],
          "scatterpolar": [
           {
            "marker": {
             "colorbar": {
              "outlinewidth": 0,
              "ticks": ""
             }
            },
            "type": "scatterpolar"
           }
          ],
          "scatterpolargl": [
           {
            "marker": {
             "colorbar": {
              "outlinewidth": 0,
              "ticks": ""
             }
            },
            "type": "scatterpolargl"
           }
          ],
          "scatterternary": [
           {
            "marker": {
             "colorbar": {
              "outlinewidth": 0,
              "ticks": ""
             }
            },
            "type": "scatterternary"
           }
          ],
          "surface": [
           {
            "colorbar": {
             "outlinewidth": 0,
             "ticks": ""
            },
            "colorscale": [
             [
              0,
              "#0d0887"
             ],
             [
              0.1111111111111111,
              "#46039f"
             ],
             [
              0.2222222222222222,
              "#7201a8"
             ],
             [
              0.3333333333333333,
              "#9c179e"
             ],
             [
              0.4444444444444444,
              "#bd3786"
             ],
             [
              0.5555555555555556,
              "#d8576b"
             ],
             [
              0.6666666666666666,
              "#ed7953"
             ],
             [
              0.7777777777777778,
              "#fb9f3a"
             ],
             [
              0.8888888888888888,
              "#fdca26"
             ],
             [
              1,
              "#f0f921"
             ]
            ],
            "type": "surface"
           }
          ],
          "table": [
           {
            "cells": {
             "fill": {
              "color": "#EBF0F8"
             },
             "line": {
              "color": "white"
             }
            },
            "header": {
             "fill": {
              "color": "#C8D4E3"
             },
             "line": {
              "color": "white"
             }
            },
            "type": "table"
           }
          ]
         },
         "layout": {
          "annotationdefaults": {
           "arrowcolor": "#2a3f5f",
           "arrowhead": 0,
           "arrowwidth": 1
          },
          "autotypenumbers": "strict",
          "coloraxis": {
           "colorbar": {
            "outlinewidth": 0,
            "ticks": ""
           }
          },
          "colorscale": {
           "diverging": [
            [
             0,
             "#8e0152"
            ],
            [
             0.1,
             "#c51b7d"
            ],
            [
             0.2,
             "#de77ae"
            ],
            [
             0.3,
             "#f1b6da"
            ],
            [
             0.4,
             "#fde0ef"
            ],
            [
             0.5,
             "#f7f7f7"
            ],
            [
             0.6,
             "#e6f5d0"
            ],
            [
             0.7,
             "#b8e186"
            ],
            [
             0.8,
             "#7fbc41"
            ],
            [
             0.9,
             "#4d9221"
            ],
            [
             1,
             "#276419"
            ]
           ],
           "sequential": [
            [
             0,
             "#0d0887"
            ],
            [
             0.1111111111111111,
             "#46039f"
            ],
            [
             0.2222222222222222,
             "#7201a8"
            ],
            [
             0.3333333333333333,
             "#9c179e"
            ],
            [
             0.4444444444444444,
             "#bd3786"
            ],
            [
             0.5555555555555556,
             "#d8576b"
            ],
            [
             0.6666666666666666,
             "#ed7953"
            ],
            [
             0.7777777777777778,
             "#fb9f3a"
            ],
            [
             0.8888888888888888,
             "#fdca26"
            ],
            [
             1,
             "#f0f921"
            ]
           ],
           "sequentialminus": [
            [
             0,
             "#0d0887"
            ],
            [
             0.1111111111111111,
             "#46039f"
            ],
            [
             0.2222222222222222,
             "#7201a8"
            ],
            [
             0.3333333333333333,
             "#9c179e"
            ],
            [
             0.4444444444444444,
             "#bd3786"
            ],
            [
             0.5555555555555556,
             "#d8576b"
            ],
            [
             0.6666666666666666,
             "#ed7953"
            ],
            [
             0.7777777777777778,
             "#fb9f3a"
            ],
            [
             0.8888888888888888,
             "#fdca26"
            ],
            [
             1,
             "#f0f921"
            ]
           ]
          },
          "colorway": [
           "#636efa",
           "#EF553B",
           "#00cc96",
           "#ab63fa",
           "#FFA15A",
           "#19d3f3",
           "#FF6692",
           "#B6E880",
           "#FF97FF",
           "#FECB52"
          ],
          "font": {
           "color": "#2a3f5f"
          },
          "geo": {
           "bgcolor": "white",
           "lakecolor": "white",
           "landcolor": "#E5ECF6",
           "showlakes": true,
           "showland": true,
           "subunitcolor": "white"
          },
          "hoverlabel": {
           "align": "left"
          },
          "hovermode": "closest",
          "mapbox": {
           "style": "light"
          },
          "paper_bgcolor": "white",
          "plot_bgcolor": "#E5ECF6",
          "polar": {
           "angularaxis": {
            "gridcolor": "white",
            "linecolor": "white",
            "ticks": ""
           },
           "bgcolor": "#E5ECF6",
           "radialaxis": {
            "gridcolor": "white",
            "linecolor": "white",
            "ticks": ""
           }
          },
          "scene": {
           "xaxis": {
            "backgroundcolor": "#E5ECF6",
            "gridcolor": "white",
            "gridwidth": 2,
            "linecolor": "white",
            "showbackground": true,
            "ticks": "",
            "zerolinecolor": "white"
           },
           "yaxis": {
            "backgroundcolor": "#E5ECF6",
            "gridcolor": "white",
            "gridwidth": 2,
            "linecolor": "white",
            "showbackground": true,
            "ticks": "",
            "zerolinecolor": "white"
           },
           "zaxis": {
            "backgroundcolor": "#E5ECF6",
            "gridcolor": "white",
            "gridwidth": 2,
            "linecolor": "white",
            "showbackground": true,
            "ticks": "",
            "zerolinecolor": "white"
           }
          },
          "shapedefaults": {
           "line": {
            "color": "#2a3f5f"
           }
          },
          "ternary": {
           "aaxis": {
            "gridcolor": "white",
            "linecolor": "white",
            "ticks": ""
           },
           "baxis": {
            "gridcolor": "white",
            "linecolor": "white",
            "ticks": ""
           },
           "bgcolor": "#E5ECF6",
           "caxis": {
            "gridcolor": "white",
            "linecolor": "white",
            "ticks": ""
           }
          },
          "title": {
           "x": 0.05
          },
          "xaxis": {
           "automargin": true,
           "gridcolor": "white",
           "linecolor": "white",
           "ticks": "",
           "title": {
            "standoff": 15
           },
           "zerolinecolor": "white",
           "zerolinewidth": 2
          },
          "yaxis": {
           "automargin": true,
           "gridcolor": "white",
           "linecolor": "white",
           "ticks": "",
           "title": {
            "standoff": 15
           },
           "zerolinecolor": "white",
           "zerolinewidth": 2
          }
         }
        },
        "title": {
         "text": "Speedup vs Threads — Prompt Length 959.0"
        },
        "xaxis": {
         "anchor": "y",
         "domain": [
          0,
          1
         ],
         "title": {
          "text": "Threads"
         }
        },
        "yaxis": {
         "anchor": "x",
         "domain": [
          0,
          1
         ],
         "title": {
          "text": "Speedup"
         }
        }
       }
      }
     },
     "metadata": {},
     "output_type": "display_data"
    }
   ],
   "source": [
    "Speed_up_prompt(file)"
   ]
  },
  {
   "cell_type": "code",
   "execution_count": 2,
   "id": "e2277203",
   "metadata": {},
   "outputs": [],
   "source": [
    "import json, pandas as pd, plotly.express as px\n",
    "\n",
    "def tokens_line_chart(file):\n",
    "    with open(file) as f:\n",
    "        parsed = [json.loads(x) for x in f.read().split(\"\\n---\\n\") if x.strip()]\n",
    "\n",
    "    data = []\n",
    "    for entry in parsed:\n",
    "        prompt_len = entry[\"JSON_1_COMPT\"][\"PROMPT_LEN\"]\n",
    "        threads = int(entry[\"JSON_1_COMPT\"][\"NUM_THREADS\"])\n",
    "        tokens = entry[\"JSON_1_COMPT\"][\"PROMPT_LEN\"]\n",
    "        generate_time = entry[\"JSON_1\"][\"PROMPT_PROCESSING_TIME\"]  # en ms\n",
    "        tokens_per_s = (tokens / generate_time) * 1e3 if generate_time > 0 else 0\n",
    "\n",
    "        data.append({\n",
    "            \"Prompt length\": prompt_len,\n",
    "            \"Threads\": f\"{threads} threads\",\n",
    "            \"Tokens/s\": tokens_per_s\n",
    "        })\n",
    "\n",
    "    df = pd.DataFrame(data)\n",
    "    fig = px.line(\n",
    "        df,\n",
    "        x=\"Prompt length\",\n",
    "        y=\"Tokens/s\",\n",
    "        color=\"Threads\",\n",
    "        markers=True,\n",
    "        title=\"Tokens/s (Prompt Processing) selon la taille du prompt et le nombre de threads\"\n",
    "    )\n",
    "    fig.write_image(f\"measurements/omp/tokens_line_chart.png\")\n",
    "    fig.show()\n"
   ]
  },
  {
   "cell_type": "code",
   "execution_count": 7,
   "id": "bedf554b",
   "metadata": {},
   "outputs": [
    {
     "data": {
      "text/plain": [
       "['Installing Chrome for Plotly...',\n",
       " 'Chrome installed successfully.',\n",
       " 'The Chrome executable is now located at: /home/emorel/shared/clift/.venv/lib/python3.12/site-packages/choreographer/cli/browser_exe/chrome-linux64/chrome']"
      ]
     },
     "execution_count": 7,
     "metadata": {},
     "output_type": "execute_result"
    }
   ],
   "source": [
    "!! plotly_get_chrome -y"
   ]
  },
  {
   "cell_type": "code",
   "execution_count": 8,
   "id": "cf54ae3d",
   "metadata": {},
   "outputs": [
    {
     "data": {
      "application/vnd.plotly.v1+json": {
       "config": {
        "plotlyServerURL": "https://plot.ly"
       },
       "data": [
        {
         "hovertemplate": "Threads=1 threads<br>Prompt length=%{x}<br>Tokens/s=%{y}<extra></extra>",
         "legendgroup": "1 threads",
         "line": {
          "color": "#636efa",
          "dash": "solid"
         },
         "marker": {
          "symbol": "circle"
         },
         "mode": "lines+markers",
         "name": "1 threads",
         "orientation": "v",
         "showlegend": true,
         "type": "scatter",
         "x": {
          "bdata": "AAAAAAAAQUAAAAAAAIBOQAAAAAAAwF1AAAAAAADgbUAAAAAAAFB9QAAAAAAA+I1A",
          "dtype": "f8"
         },
         "xaxis": "x",
         "y": {
          "bdata": "sMmbI16QFkBpn/wizgAcQDfXFcV54xpA4tRh3Z6EG0As254xucUZQMubjpitwRpA",
          "dtype": "f8"
         },
         "yaxis": "y"
        },
        {
         "hovertemplate": "Threads=2 threads<br>Prompt length=%{x}<br>Tokens/s=%{y}<extra></extra>",
         "legendgroup": "2 threads",
         "line": {
          "color": "#EF553B",
          "dash": "solid"
         },
         "marker": {
          "symbol": "circle"
         },
         "mode": "lines+markers",
         "name": "2 threads",
         "orientation": "v",
         "showlegend": true,
         "type": "scatter",
         "x": {
          "bdata": "AAAAAAAAQUAAAAAAAIBOQAAAAAAAwF1AAAAAAADgbUAAAAAAAFB9QAAAAAAA+I1A",
          "dtype": "f8"
         },
         "xaxis": "x",
         "y": {
          "bdata": "ZGEeEr4bH0BpIV4LzsAjQLJ+m67hbSNAEQhyMWa1I0C+BD9llVQjQEcE2zbOTiNA",
          "dtype": "f8"
         },
         "yaxis": "y"
        },
        {
         "hovertemplate": "Threads=4 threads<br>Prompt length=%{x}<br>Tokens/s=%{y}<extra></extra>",
         "legendgroup": "4 threads",
         "line": {
          "color": "#00cc96",
          "dash": "solid"
         },
         "marker": {
          "symbol": "circle"
         },
         "mode": "lines+markers",
         "name": "4 threads",
         "orientation": "v",
         "showlegend": true,
         "type": "scatter",
         "x": {
          "bdata": "AAAAAAAAQUAAAAAAAIBOQAAAAAAAwF1AAAAAAADgbUAAAAAAAFB9QAAAAAAA+I1A",
          "dtype": "f8"
         },
         "xaxis": "x",
         "y": {
          "bdata": "y9xJmpVrJUAxycNk09QnQBCCtGx3EChAraDbnS67J0DUfNjMGhcpQBmcP1yaWiZA",
          "dtype": "f8"
         },
         "yaxis": "y"
        },
        {
         "hovertemplate": "Threads=8 threads<br>Prompt length=%{x}<br>Tokens/s=%{y}<extra></extra>",
         "legendgroup": "8 threads",
         "line": {
          "color": "#ab63fa",
          "dash": "solid"
         },
         "marker": {
          "symbol": "circle"
         },
         "mode": "lines+markers",
         "name": "8 threads",
         "orientation": "v",
         "showlegend": true,
         "type": "scatter",
         "x": {
          "bdata": "AAAAAAAAQUAAAAAAAIBOQAAAAAAAwF1AAAAAAADgbUAAAAAAAFB9QAAAAAAA+I1A",
          "dtype": "f8"
         },
         "xaxis": "x",
         "y": {
          "bdata": "c7W5kh7aKEAdX0WwHuUuQIiWemn/hy5A//Rb4ZAXLUCHcePjKm8wQHmJEBdqGi5A",
          "dtype": "f8"
         },
         "yaxis": "y"
        },
        {
         "hovertemplate": "Threads=10 threads<br>Prompt length=%{x}<br>Tokens/s=%{y}<extra></extra>",
         "legendgroup": "10 threads",
         "line": {
          "color": "#FFA15A",
          "dash": "solid"
         },
         "marker": {
          "symbol": "circle"
         },
         "mode": "lines+markers",
         "name": "10 threads",
         "orientation": "v",
         "showlegend": true,
         "type": "scatter",
         "x": {
          "bdata": "AAAAAAAAQUAAAAAAAIBOQAAAAAAAwF1AAAAAAADgbUAAAAAAAFB9QAAAAAAA+I1A",
          "dtype": "f8"
         },
         "xaxis": "x",
         "y": {
          "bdata": "ZjgWvzNxLEDRlMsWiDcsQN0QrW2CQjBA6875bv6EMECSJ1r4bgUxQOwIWm2EsC5A",
          "dtype": "f8"
         },
         "yaxis": "y"
        },
        {
         "hovertemplate": "Threads=12 threads<br>Prompt length=%{x}<br>Tokens/s=%{y}<extra></extra>",
         "legendgroup": "12 threads",
         "line": {
          "color": "#19d3f3",
          "dash": "solid"
         },
         "marker": {
          "symbol": "circle"
         },
         "mode": "lines+markers",
         "name": "12 threads",
         "orientation": "v",
         "showlegend": true,
         "type": "scatter",
         "x": {
          "bdata": "AAAAAAAAQUAAAAAAAIBOQAAAAAAAwF1AAAAAAADgbUAAAAAAAFB9QAAAAAAA+I1A",
          "dtype": "f8"
         },
         "xaxis": "x",
         "y": {
          "bdata": "5MYTs0dzMEDu0Q+XqAkwQBgLGBJJiTBAOsXmxVdXMUCBNYMtgdsxQOKFOJl8kTBA",
          "dtype": "f8"
         },
         "yaxis": "y"
        }
       ],
       "layout": {
        "legend": {
         "title": {
          "text": "Threads"
         },
         "tracegroupgap": 0
        },
        "template": {
         "data": {
          "bar": [
           {
            "error_x": {
             "color": "#2a3f5f"
            },
            "error_y": {
             "color": "#2a3f5f"
            },
            "marker": {
             "line": {
              "color": "#E5ECF6",
              "width": 0.5
             },
             "pattern": {
              "fillmode": "overlay",
              "size": 10,
              "solidity": 0.2
             }
            },
            "type": "bar"
           }
          ],
          "barpolar": [
           {
            "marker": {
             "line": {
              "color": "#E5ECF6",
              "width": 0.5
             },
             "pattern": {
              "fillmode": "overlay",
              "size": 10,
              "solidity": 0.2
             }
            },
            "type": "barpolar"
           }
          ],
          "carpet": [
           {
            "aaxis": {
             "endlinecolor": "#2a3f5f",
             "gridcolor": "white",
             "linecolor": "white",
             "minorgridcolor": "white",
             "startlinecolor": "#2a3f5f"
            },
            "baxis": {
             "endlinecolor": "#2a3f5f",
             "gridcolor": "white",
             "linecolor": "white",
             "minorgridcolor": "white",
             "startlinecolor": "#2a3f5f"
            },
            "type": "carpet"
           }
          ],
          "choropleth": [
           {
            "colorbar": {
             "outlinewidth": 0,
             "ticks": ""
            },
            "type": "choropleth"
           }
          ],
          "contour": [
           {
            "colorbar": {
             "outlinewidth": 0,
             "ticks": ""
            },
            "colorscale": [
             [
              0,
              "#0d0887"
             ],
             [
              0.1111111111111111,
              "#46039f"
             ],
             [
              0.2222222222222222,
              "#7201a8"
             ],
             [
              0.3333333333333333,
              "#9c179e"
             ],
             [
              0.4444444444444444,
              "#bd3786"
             ],
             [
              0.5555555555555556,
              "#d8576b"
             ],
             [
              0.6666666666666666,
              "#ed7953"
             ],
             [
              0.7777777777777778,
              "#fb9f3a"
             ],
             [
              0.8888888888888888,
              "#fdca26"
             ],
             [
              1,
              "#f0f921"
             ]
            ],
            "type": "contour"
           }
          ],
          "contourcarpet": [
           {
            "colorbar": {
             "outlinewidth": 0,
             "ticks": ""
            },
            "type": "contourcarpet"
           }
          ],
          "heatmap": [
           {
            "colorbar": {
             "outlinewidth": 0,
             "ticks": ""
            },
            "colorscale": [
             [
              0,
              "#0d0887"
             ],
             [
              0.1111111111111111,
              "#46039f"
             ],
             [
              0.2222222222222222,
              "#7201a8"
             ],
             [
              0.3333333333333333,
              "#9c179e"
             ],
             [
              0.4444444444444444,
              "#bd3786"
             ],
             [
              0.5555555555555556,
              "#d8576b"
             ],
             [
              0.6666666666666666,
              "#ed7953"
             ],
             [
              0.7777777777777778,
              "#fb9f3a"
             ],
             [
              0.8888888888888888,
              "#fdca26"
             ],
             [
              1,
              "#f0f921"
             ]
            ],
            "type": "heatmap"
           }
          ],
          "histogram": [
           {
            "marker": {
             "pattern": {
              "fillmode": "overlay",
              "size": 10,
              "solidity": 0.2
             }
            },
            "type": "histogram"
           }
          ],
          "histogram2d": [
           {
            "colorbar": {
             "outlinewidth": 0,
             "ticks": ""
            },
            "colorscale": [
             [
              0,
              "#0d0887"
             ],
             [
              0.1111111111111111,
              "#46039f"
             ],
             [
              0.2222222222222222,
              "#7201a8"
             ],
             [
              0.3333333333333333,
              "#9c179e"
             ],
             [
              0.4444444444444444,
              "#bd3786"
             ],
             [
              0.5555555555555556,
              "#d8576b"
             ],
             [
              0.6666666666666666,
              "#ed7953"
             ],
             [
              0.7777777777777778,
              "#fb9f3a"
             ],
             [
              0.8888888888888888,
              "#fdca26"
             ],
             [
              1,
              "#f0f921"
             ]
            ],
            "type": "histogram2d"
           }
          ],
          "histogram2dcontour": [
           {
            "colorbar": {
             "outlinewidth": 0,
             "ticks": ""
            },
            "colorscale": [
             [
              0,
              "#0d0887"
             ],
             [
              0.1111111111111111,
              "#46039f"
             ],
             [
              0.2222222222222222,
              "#7201a8"
             ],
             [
              0.3333333333333333,
              "#9c179e"
             ],
             [
              0.4444444444444444,
              "#bd3786"
             ],
             [
              0.5555555555555556,
              "#d8576b"
             ],
             [
              0.6666666666666666,
              "#ed7953"
             ],
             [
              0.7777777777777778,
              "#fb9f3a"
             ],
             [
              0.8888888888888888,
              "#fdca26"
             ],
             [
              1,
              "#f0f921"
             ]
            ],
            "type": "histogram2dcontour"
           }
          ],
          "mesh3d": [
           {
            "colorbar": {
             "outlinewidth": 0,
             "ticks": ""
            },
            "type": "mesh3d"
           }
          ],
          "parcoords": [
           {
            "line": {
             "colorbar": {
              "outlinewidth": 0,
              "ticks": ""
             }
            },
            "type": "parcoords"
           }
          ],
          "pie": [
           {
            "automargin": true,
            "type": "pie"
           }
          ],
          "scatter": [
           {
            "fillpattern": {
             "fillmode": "overlay",
             "size": 10,
             "solidity": 0.2
            },
            "type": "scatter"
           }
          ],
          "scatter3d": [
           {
            "line": {
             "colorbar": {
              "outlinewidth": 0,
              "ticks": ""
             }
            },
            "marker": {
             "colorbar": {
              "outlinewidth": 0,
              "ticks": ""
             }
            },
            "type": "scatter3d"
           }
          ],
          "scattercarpet": [
           {
            "marker": {
             "colorbar": {
              "outlinewidth": 0,
              "ticks": ""
             }
            },
            "type": "scattercarpet"
           }
          ],
          "scattergeo": [
           {
            "marker": {
             "colorbar": {
              "outlinewidth": 0,
              "ticks": ""
             }
            },
            "type": "scattergeo"
           }
          ],
          "scattergl": [
           {
            "marker": {
             "colorbar": {
              "outlinewidth": 0,
              "ticks": ""
             }
            },
            "type": "scattergl"
           }
          ],
          "scattermap": [
           {
            "marker": {
             "colorbar": {
              "outlinewidth": 0,
              "ticks": ""
             }
            },
            "type": "scattermap"
           }
          ],
          "scattermapbox": [
           {
            "marker": {
             "colorbar": {
              "outlinewidth": 0,
              "ticks": ""
             }
            },
            "type": "scattermapbox"
           }
          ],
          "scatterpolar": [
           {
            "marker": {
             "colorbar": {
              "outlinewidth": 0,
              "ticks": ""
             }
            },
            "type": "scatterpolar"
           }
          ],
          "scatterpolargl": [
           {
            "marker": {
             "colorbar": {
              "outlinewidth": 0,
              "ticks": ""
             }
            },
            "type": "scatterpolargl"
           }
          ],
          "scatterternary": [
           {
            "marker": {
             "colorbar": {
              "outlinewidth": 0,
              "ticks": ""
             }
            },
            "type": "scatterternary"
           }
          ],
          "surface": [
           {
            "colorbar": {
             "outlinewidth": 0,
             "ticks": ""
            },
            "colorscale": [
             [
              0,
              "#0d0887"
             ],
             [
              0.1111111111111111,
              "#46039f"
             ],
             [
              0.2222222222222222,
              "#7201a8"
             ],
             [
              0.3333333333333333,
              "#9c179e"
             ],
             [
              0.4444444444444444,
              "#bd3786"
             ],
             [
              0.5555555555555556,
              "#d8576b"
             ],
             [
              0.6666666666666666,
              "#ed7953"
             ],
             [
              0.7777777777777778,
              "#fb9f3a"
             ],
             [
              0.8888888888888888,
              "#fdca26"
             ],
             [
              1,
              "#f0f921"
             ]
            ],
            "type": "surface"
           }
          ],
          "table": [
           {
            "cells": {
             "fill": {
              "color": "#EBF0F8"
             },
             "line": {
              "color": "white"
             }
            },
            "header": {
             "fill": {
              "color": "#C8D4E3"
             },
             "line": {
              "color": "white"
             }
            },
            "type": "table"
           }
          ]
         },
         "layout": {
          "annotationdefaults": {
           "arrowcolor": "#2a3f5f",
           "arrowhead": 0,
           "arrowwidth": 1
          },
          "autotypenumbers": "strict",
          "coloraxis": {
           "colorbar": {
            "outlinewidth": 0,
            "ticks": ""
           }
          },
          "colorscale": {
           "diverging": [
            [
             0,
             "#8e0152"
            ],
            [
             0.1,
             "#c51b7d"
            ],
            [
             0.2,
             "#de77ae"
            ],
            [
             0.3,
             "#f1b6da"
            ],
            [
             0.4,
             "#fde0ef"
            ],
            [
             0.5,
             "#f7f7f7"
            ],
            [
             0.6,
             "#e6f5d0"
            ],
            [
             0.7,
             "#b8e186"
            ],
            [
             0.8,
             "#7fbc41"
            ],
            [
             0.9,
             "#4d9221"
            ],
            [
             1,
             "#276419"
            ]
           ],
           "sequential": [
            [
             0,
             "#0d0887"
            ],
            [
             0.1111111111111111,
             "#46039f"
            ],
            [
             0.2222222222222222,
             "#7201a8"
            ],
            [
             0.3333333333333333,
             "#9c179e"
            ],
            [
             0.4444444444444444,
             "#bd3786"
            ],
            [
             0.5555555555555556,
             "#d8576b"
            ],
            [
             0.6666666666666666,
             "#ed7953"
            ],
            [
             0.7777777777777778,
             "#fb9f3a"
            ],
            [
             0.8888888888888888,
             "#fdca26"
            ],
            [
             1,
             "#f0f921"
            ]
           ],
           "sequentialminus": [
            [
             0,
             "#0d0887"
            ],
            [
             0.1111111111111111,
             "#46039f"
            ],
            [
             0.2222222222222222,
             "#7201a8"
            ],
            [
             0.3333333333333333,
             "#9c179e"
            ],
            [
             0.4444444444444444,
             "#bd3786"
            ],
            [
             0.5555555555555556,
             "#d8576b"
            ],
            [
             0.6666666666666666,
             "#ed7953"
            ],
            [
             0.7777777777777778,
             "#fb9f3a"
            ],
            [
             0.8888888888888888,
             "#fdca26"
            ],
            [
             1,
             "#f0f921"
            ]
           ]
          },
          "colorway": [
           "#636efa",
           "#EF553B",
           "#00cc96",
           "#ab63fa",
           "#FFA15A",
           "#19d3f3",
           "#FF6692",
           "#B6E880",
           "#FF97FF",
           "#FECB52"
          ],
          "font": {
           "color": "#2a3f5f"
          },
          "geo": {
           "bgcolor": "white",
           "lakecolor": "white",
           "landcolor": "#E5ECF6",
           "showlakes": true,
           "showland": true,
           "subunitcolor": "white"
          },
          "hoverlabel": {
           "align": "left"
          },
          "hovermode": "closest",
          "mapbox": {
           "style": "light"
          },
          "paper_bgcolor": "white",
          "plot_bgcolor": "#E5ECF6",
          "polar": {
           "angularaxis": {
            "gridcolor": "white",
            "linecolor": "white",
            "ticks": ""
           },
           "bgcolor": "#E5ECF6",
           "radialaxis": {
            "gridcolor": "white",
            "linecolor": "white",
            "ticks": ""
           }
          },
          "scene": {
           "xaxis": {
            "backgroundcolor": "#E5ECF6",
            "gridcolor": "white",
            "gridwidth": 2,
            "linecolor": "white",
            "showbackground": true,
            "ticks": "",
            "zerolinecolor": "white"
           },
           "yaxis": {
            "backgroundcolor": "#E5ECF6",
            "gridcolor": "white",
            "gridwidth": 2,
            "linecolor": "white",
            "showbackground": true,
            "ticks": "",
            "zerolinecolor": "white"
           },
           "zaxis": {
            "backgroundcolor": "#E5ECF6",
            "gridcolor": "white",
            "gridwidth": 2,
            "linecolor": "white",
            "showbackground": true,
            "ticks": "",
            "zerolinecolor": "white"
           }
          },
          "shapedefaults": {
           "line": {
            "color": "#2a3f5f"
           }
          },
          "ternary": {
           "aaxis": {
            "gridcolor": "white",
            "linecolor": "white",
            "ticks": ""
           },
           "baxis": {
            "gridcolor": "white",
            "linecolor": "white",
            "ticks": ""
           },
           "bgcolor": "#E5ECF6",
           "caxis": {
            "gridcolor": "white",
            "linecolor": "white",
            "ticks": ""
           }
          },
          "title": {
           "x": 0.05
          },
          "xaxis": {
           "automargin": true,
           "gridcolor": "white",
           "linecolor": "white",
           "ticks": "",
           "title": {
            "standoff": 15
           },
           "zerolinecolor": "white",
           "zerolinewidth": 2
          },
          "yaxis": {
           "automargin": true,
           "gridcolor": "white",
           "linecolor": "white",
           "ticks": "",
           "title": {
            "standoff": 15
           },
           "zerolinecolor": "white",
           "zerolinewidth": 2
          }
         }
        },
        "title": {
         "text": "Tokens/s (Prompt Processing) selon la taille du prompt et le nombre de threads"
        },
        "xaxis": {
         "anchor": "y",
         "domain": [
          0,
          1
         ],
         "title": {
          "text": "Prompt length"
         }
        },
        "yaxis": {
         "anchor": "x",
         "domain": [
          0,
          1
         ],
         "title": {
          "text": "Tokens/s"
         }
        }
       }
      }
     },
     "metadata": {},
     "output_type": "display_data"
    }
   ],
   "source": [
    "tokens_line_chart(file)"
   ]
  }
 ],
 "metadata": {
  "kernelspec": {
   "display_name": ".venv",
   "language": "python",
   "name": "python3"
  },
  "language_info": {
   "codemirror_mode": {
    "name": "ipython",
    "version": 3
   },
   "file_extension": ".py",
   "mimetype": "text/x-python",
   "name": "python",
   "nbconvert_exporter": "python",
   "pygments_lexer": "ipython3",
   "version": "3.12.3"
  }
 },
 "nbformat": 4,
 "nbformat_minor": 5
}
